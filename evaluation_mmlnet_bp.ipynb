{
 "cells": [
  {
   "cell_type": "code",
   "execution_count": 1,
   "metadata": {},
   "outputs": [],
   "source": [
    "#coding=utf-8\n",
    "import torch\n",
    "import torch.nn as nn\n",
    "import torch.nn.functional as F\n",
    "import sys\n",
    "from tqdm import tqdm\n",
    "\n",
    "from torch import optim\n",
    "from time import gmtime, strftime\n",
    "from tensorboardX import SummaryWriter\n",
    "\n",
    "import matplotlib.pyplot as plt\n",
    "\n",
    "from config_bdpt import input_size, root, proposalN, channels\n",
    "# from config import input_size, root, proposalN, channels\n",
    "from utils.read_dataset_eval import read_dataset\n",
    "from utils.auto_laod_resume import auto_load_resume\n",
    "from utils.utils import TrainClock, save_args, AverageMeter, AUCMeter,calculate_accuracy\n",
    "from networks.model_bdpt import MainNet\n",
    "# from networks.model import MainNet"
   ]
  },
  {
   "cell_type": "code",
   "execution_count": 2,
   "metadata": {},
   "outputs": [],
   "source": [
    "import os\n",
    "os.environ['CUDA_VISIBLE_DEVICES'] = '3'\n",
    "\n",
    "CUDA = torch.cuda.is_available()\n",
    "DEVICE = torch.device(\"cuda\" if CUDA else \"cpu\")"
   ]
  },
  {
   "cell_type": "code",
   "execution_count": 3,
   "metadata": {},
   "outputs": [
    {
     "name": "stdout",
     "output_type": "stream",
     "text": [
      "Loading Mura\n",
      "Loading testset\n"
     ]
    }
   ],
   "source": [
    "# dataset\n",
    "set = 'Mura_bp'\n",
    "if set == 'CUB':\n",
    "    root = './datasets/CUB_200_2011'  # dataset path\n",
    "    # model path\n",
    "    pth_path = \"./models/cub_epoch144.pth\"\n",
    "    num_classes = 200\n",
    "elif set == 'Aircraft':\n",
    "    root = './datasets/FGVC-aircraft'  # dataset path\n",
    "    # model path\n",
    "    pth_path = \"./models/air_epoch146.pth\"\n",
    "    num_classes = 100\n",
    "elif set == 'Mura':\n",
    "    root = r'E:\\Xing\\Data\\MURA-v1.1'  # dataset path\n",
    "    pth_path = r'C:\\Users\\Xing\\Projects\\AirGo\\MMAL-Net\\checkpoint\\mura\\epoch48.pth'\n",
    "    num_classes = 7\n",
    "elif set == 'Mura_bp':\n",
    "#     model_path = './checkpoint/mura_bp_bimodel_adj0103'  # pth save path\n",
    "    root = r'E:\\Xing\\Data\\MURA-v1.1'  # dataset path\n",
    "    pth_path = r'C:/Users/Xing/Projects/AirGo/MMAL-Net/checkpoint/mura_bp_bimodel_adj0103/best_model.pth'\n",
    "    num_classes = 7\n",
    "\n",
    "batch_size = 1\n",
    "\n",
    "#load dataset\n",
    "_, testloader = read_dataset(input_size, batch_size, root, set)"
   ]
  },
  {
   "cell_type": "code",
   "execution_count": 4,
   "metadata": {},
   "outputs": [
    {
     "name": "stdout",
     "output_type": "stream",
     "text": [
      "Load model from C:/Users/Xing/Projects/AirGo/MMAL-Net/checkpoint/mura_bp_bimodel_adj0103/best_model.pth\n",
      "Resume from C:/Users/Xing/Projects/AirGo/MMAL-Net/checkpoint/mura_bp_bimodel_adj0103/best_model.pth\n"
     ]
    }
   ],
   "source": [
    "# 定义模型\n",
    "model = MainNet(proposalN=proposalN, num_classes=num_classes, channels=channels)\n",
    "\n",
    "model = model.to(DEVICE)\n",
    "\n",
    "#加载checkpoint\n",
    "if os.path.exists(pth_path):\n",
    "    epoch = auto_load_resume(model, pth_path, status='test')\n",
    "else:\n",
    "    sys.exit('There is not a pth exist.')"
   ]
  },
  {
   "cell_type": "code",
   "execution_count": 5,
   "metadata": {},
   "outputs": [],
   "source": [
    "criterion = nn.BCELoss()"
   ]
  },
  {
   "cell_type": "code",
   "execution_count": 6,
   "metadata": {
    "scrolled": true
   },
   "outputs": [
    {
     "name": "stderr",
     "output_type": "stream",
     "text": [
      "0it [00:00, ?it/s]C:\\Users\\Windows\\anaconda3\\envs\\env_torch\\lib\\site-packages\\torch\\nn\\functional.py:1386: UserWarning: nn.functional.sigmoid is deprecated. Use torch.sigmoid instead.\n",
      "  warnings.warn(\"nn.functional.sigmoid is deprecated. Use torch.sigmoid instead.\")\n",
      "C:\\Users\\Windows\\anaconda3\\envs\\env_torch\\lib\\site-packages\\torch\\nn\\modules\\loss.py:512: UserWarning: Using a target size (torch.Size([1])) that is different to the input size (torch.Size([1, 1])) is deprecated. Please ensure they have the same size.\n",
      "  return F.binary_cross_entropy(input, target, weight=self.weight, reduction=self.reduction)\n",
      "3it [00:04,  2.82s/it]"
     ]
    },
    {
     "name": "stdout",
     "output_type": "stream",
     "text": [
      "torch.Size([1]) torch.Size([1, 1])\n",
      "torch.Size([1]) torch.Size([1, 1])\n",
      "torch.Size([1]) torch.Size([1, 1])\n",
      "torch.Size([1])"
     ]
    },
    {
     "name": "stderr",
     "output_type": "stream",
     "text": [
      "7it [00:04,  1.41s/it]"
     ]
    },
    {
     "name": "stdout",
     "output_type": "stream",
     "text": [
      " torch.Size([1, 1])\n",
      "torch.Size([1]) torch.Size([1, 1])\n",
      "torch.Size([1]) torch.Size([1, 1])\n",
      "torch.Size([1]) torch.Size([1, 1])\n"
     ]
    },
    {
     "name": "stderr",
     "output_type": "stream",
     "text": [
      "11it [00:04,  1.39it/s]"
     ]
    },
    {
     "name": "stdout",
     "output_type": "stream",
     "text": [
      "torch.Size([1]) torch.Size([1, 1])\n",
      "torch.Size([1]) torch.Size([1, 1])\n",
      "torch.Size([1]) torch.Size([1, 1])\n",
      "torch.Size([1]) torch.Size([1, 1])\n"
     ]
    },
    {
     "name": "stderr",
     "output_type": "stream",
     "text": [
      "\r",
      "13it [00:04,  1.93it/s]"
     ]
    },
    {
     "name": "stdout",
     "output_type": "stream",
     "text": [
      "torch.Size([1]) torch.Size([1, 1])\n",
      "torch.Size([1]) torch.Size([1, 1])\n",
      "torch.Size([1]) torch.Size([1, 1])\n",
      "torch.Size([1]) torch.Size([1, 1])\n",
      "torch.Size([1])"
     ]
    },
    {
     "name": "stderr",
     "output_type": "stream",
     "text": [
      "18it [00:04,  3.57it/s]"
     ]
    },
    {
     "name": "stdout",
     "output_type": "stream",
     "text": [
      " torch.Size([1, 1])\n",
      "torch.Size([1]) torch.Size([1, 1])\n",
      "torch.Size([1]) torch.Size([1, 1])\n",
      "torch.Size([1]) torch.Size([1, 1])\n"
     ]
    },
    {
     "name": "stderr",
     "output_type": "stream",
     "text": [
      "22it [00:05,  6.10it/s]"
     ]
    },
    {
     "name": "stdout",
     "output_type": "stream",
     "text": [
      "torch.Size([1]) torch.Size([1, 1])\n",
      "torch.Size([1]) torch.Size([1, 1])\n",
      "torch.Size([1]) torch.Size([1, 1])\n",
      "torch.Size([1]) torch.Size([1, 1])\n"
     ]
    },
    {
     "name": "stderr",
     "output_type": "stream",
     "text": [
      "27it [00:05,  9.42it/s]"
     ]
    },
    {
     "name": "stdout",
     "output_type": "stream",
     "text": [
      "torch.Size([1]) torch.Size([1, 1])\n",
      "torch.Size([1]) torch.Size([1, 1])\n",
      "torch.Size([1]) torch.Size([1, 1])\n",
      "torch.Size([1]) torch.Size([1, 1])\n",
      "torch.Size([1])"
     ]
    },
    {
     "name": "stderr",
     "output_type": "stream",
     "text": [
      "31it [00:05, 12.75it/s]"
     ]
    },
    {
     "name": "stdout",
     "output_type": "stream",
     "text": [
      " torch.Size([1, 1])\n",
      "torch.Size([1]) torch.Size([1, 1])\n",
      "torch.Size([1]) torch.Size([1, 1])\n",
      "torch.Size([1]) torch.Size([1, 1])\n",
      "torch.Size([1])"
     ]
    },
    {
     "name": "stderr",
     "output_type": "stream",
     "text": [
      "35it [00:05, 15.11it/s]"
     ]
    },
    {
     "name": "stdout",
     "output_type": "stream",
     "text": [
      " torch.Size([1, 1])\n",
      "torch.Size([1]) torch.Size([1, 1])\n",
      "torch.Size([1]) torch.Size([1, 1])\n",
      "torch.Size([1]) torch.Size([1, 1])\n"
     ]
    },
    {
     "name": "stderr",
     "output_type": "stream",
     "text": [
      "39it [00:06, 16.99it/s]"
     ]
    },
    {
     "name": "stdout",
     "output_type": "stream",
     "text": [
      "torch.Size([1]) torch.Size([1, 1])\n",
      "torch.Size([1]) torch.Size([1, 1])\n",
      "torch.Size([1]) torch.Size([1, 1])\n",
      "torch.Size([1]) torch.Size([1, 1])\n"
     ]
    },
    {
     "name": "stderr",
     "output_type": "stream",
     "text": [
      "43it [00:06, 17.53it/s]"
     ]
    },
    {
     "name": "stdout",
     "output_type": "stream",
     "text": [
      "torch.Size([1]) torch.Size([1, 1])\n",
      "torch.Size([1]) torch.Size([1, 1])\n",
      "torch.Size([1]) torch.Size([1, 1])\n",
      "torch.Size([1]) torch.Size([1, 1])\n"
     ]
    },
    {
     "name": "stderr",
     "output_type": "stream",
     "text": [
      "47it [00:06, 17.92it/s]"
     ]
    },
    {
     "name": "stdout",
     "output_type": "stream",
     "text": [
      "torch.Size([1]) torch.Size([1, 1])\n",
      "torch.Size([1]) torch.Size([1, 1])\n",
      "torch.Size([1]) torch.Size([1, 1])\n",
      "torch.Size([1]) torch.Size([1, 1])\n"
     ]
    },
    {
     "name": "stderr",
     "output_type": "stream",
     "text": [
      "\r",
      "49it [00:06, 17.87it/s]"
     ]
    },
    {
     "name": "stdout",
     "output_type": "stream",
     "text": [
      "torch.Size([1]) torch.Size([1, 1])\n",
      "torch.Size([1]) torch.Size([1, 1])\n",
      "torch.Size([1]) torch.Size([1, 1])\n",
      "torch.Size([1]) torch.Size([1, 1])\n",
      "torch.Size([1])"
     ]
    },
    {
     "name": "stderr",
     "output_type": "stream",
     "text": [
      "54it [00:06, 18.90it/s]"
     ]
    },
    {
     "name": "stdout",
     "output_type": "stream",
     "text": [
      " torch.Size([1, 1])\n",
      "torch.Size([1]) torch.Size([1, 1])\n",
      "torch.Size([1]) torch.Size([1, 1])\n",
      "torch.Size([1]) torch.Size([1, 1])\n",
      "torch.Size([1])"
     ]
    },
    {
     "name": "stderr",
     "output_type": "stream",
     "text": [
      "58it [00:07, 18.92it/s]"
     ]
    },
    {
     "name": "stdout",
     "output_type": "stream",
     "text": [
      " torch.Size([1, 1])\n",
      "torch.Size([1]) torch.Size([1, 1])\n",
      "torch.Size([1]) torch.Size([1, 1])\n",
      "torch.Size([1]) torch.Size([1, 1])\n",
      "torch.Size([1])"
     ]
    },
    {
     "name": "stderr",
     "output_type": "stream",
     "text": [
      "62it [00:07, 18.33it/s]"
     ]
    },
    {
     "name": "stdout",
     "output_type": "stream",
     "text": [
      " torch.Size([1, 1])\n",
      "torch.Size([1]) torch.Size([1, 1])\n",
      "torch.Size([1]) torch.Size([1, 1])\n",
      "torch.Size([1]) torch.Size([1, 1])\n"
     ]
    },
    {
     "name": "stderr",
     "output_type": "stream",
     "text": [
      "66it [00:07, 18.72it/s]"
     ]
    },
    {
     "name": "stdout",
     "output_type": "stream",
     "text": [
      "torch.Size([1]) torch.Size([1, 1])\n",
      "torch.Size([1]) torch.Size([1, 1])\n",
      "torch.Size([1]) torch.Size([1, 1])\n",
      "torch.Size([1]) torch.Size([1, 1])\n"
     ]
    },
    {
     "name": "stderr",
     "output_type": "stream",
     "text": [
      "70it [00:07, 18.53it/s]"
     ]
    },
    {
     "name": "stdout",
     "output_type": "stream",
     "text": [
      "torch.Size([1]) torch.Size([1, 1])\n",
      "torch.Size([1]) torch.Size([1, 1])\n",
      "torch.Size([1]) torch.Size([1, 1])\n",
      "torch.Size([1]) torch.Size([1, 1])\n"
     ]
    },
    {
     "name": "stderr",
     "output_type": "stream",
     "text": [
      "74it [00:07, 19.08it/s]"
     ]
    },
    {
     "name": "stdout",
     "output_type": "stream",
     "text": [
      "torch.Size([1]) torch.Size([1, 1])\n",
      "torch.Size([1]) torch.Size([1, 1])\n",
      "torch.Size([1]) torch.Size([1, 1])\n",
      "torch.Size([1]) torch.Size([1, 1])\n"
     ]
    },
    {
     "name": "stderr",
     "output_type": "stream",
     "text": [
      "79it [00:08, 19.34it/s]"
     ]
    },
    {
     "name": "stdout",
     "output_type": "stream",
     "text": [
      "torch.Size([1]) torch.Size([1, 1])\n",
      "torch.Size([1]) torch.Size([1, 1])\n",
      "torch.Size([1]) torch.Size([1, 1])\n",
      "torch.Size([1]) torch.Size([1, 1])\n",
      "torch.Size([1])"
     ]
    },
    {
     "name": "stderr",
     "output_type": "stream",
     "text": [
      "83it [00:08, 19.13it/s]"
     ]
    },
    {
     "name": "stdout",
     "output_type": "stream",
     "text": [
      " torch.Size([1, 1])\n",
      "torch.Size([1]) torch.Size([1, 1])\n",
      "torch.Size([1]) torch.Size([1, 1])\n",
      "torch.Size([1]) torch.Size([1, 1])\n"
     ]
    },
    {
     "name": "stderr",
     "output_type": "stream",
     "text": [
      "87it [00:08, 18.21it/s]"
     ]
    },
    {
     "name": "stdout",
     "output_type": "stream",
     "text": [
      "torch.Size([1]) torch.Size([1, 1])\n",
      "torch.Size([1]) torch.Size([1, 1])\n",
      "torch.Size([1]) torch.Size([1, 1])\n",
      "torch.Size([1]) torch.Size([1, 1])\n"
     ]
    },
    {
     "name": "stderr",
     "output_type": "stream",
     "text": [
      "91it [00:08, 18.03it/s]"
     ]
    },
    {
     "name": "stdout",
     "output_type": "stream",
     "text": [
      "torch.Size([1]) torch.Size([1, 1])\n",
      "torch.Size([1]) torch.Size([1, 1])\n",
      "torch.Size([1]) torch.Size([1, 1])\n",
      "torch.Size([1]) torch.Size([1, 1])\n"
     ]
    },
    {
     "name": "stderr",
     "output_type": "stream",
     "text": [
      "\r",
      "94it [00:08, 18.71it/s]"
     ]
    },
    {
     "name": "stdout",
     "output_type": "stream",
     "text": [
      "torch.Size([1]) torch.Size([1, 1])\n",
      "torch.Size([1]) torch.Size([1, 1])\n",
      "torch.Size([1]) torch.Size([1, 1])\n",
      "torch.Size([1]) torch.Size([1, 1])\n"
     ]
    },
    {
     "name": "stderr",
     "output_type": "stream",
     "text": [
      "99it [00:09, 18.62it/s]"
     ]
    },
    {
     "name": "stdout",
     "output_type": "stream",
     "text": [
      "torch.Size([1]) torch.Size([1, 1])\n",
      "torch.Size([1]) torch.Size([1, 1])\n",
      "torch.Size([1]) torch.Size([1, 1])\n",
      "torch.Size([1]) torch.Size([1, 1])\n",
      "torch.Size([1])"
     ]
    },
    {
     "name": "stderr",
     "output_type": "stream",
     "text": [
      "103it [00:09, 18.95it/s]"
     ]
    },
    {
     "name": "stdout",
     "output_type": "stream",
     "text": [
      " torch.Size([1, 1])\n",
      "torch.Size([1]) torch.Size([1, 1])\n",
      "torch.Size([1]) torch.Size([1, 1])\n",
      "torch.Size([1]) torch.Size([1, 1])\n"
     ]
    },
    {
     "name": "stderr",
     "output_type": "stream",
     "text": [
      "\r",
      "105it [00:09, 18.65it/s]"
     ]
    },
    {
     "name": "stdout",
     "output_type": "stream",
     "text": [
      "torch.Size([1]) torch.Size([1, 1])\n",
      "torch.Size([1]) torch.Size([1, 1])\n",
      "torch.Size([1]) torch.Size([1, 1])\n",
      "torch.Size([1]) torch.Size([1, 1])\n"
     ]
    },
    {
     "name": "stderr",
     "output_type": "stream",
     "text": [
      "111it [00:09, 19.39it/s]"
     ]
    },
    {
     "name": "stdout",
     "output_type": "stream",
     "text": [
      "torch.Size([1]) torch.Size([1, 1])\n",
      "torch.Size([1]) torch.Size([1, 1])\n",
      "torch.Size([1]) torch.Size([1, 1])\n",
      "torch.Size([1]) torch.Size([1, 1])\n",
      "torch.Size([1])"
     ]
    },
    {
     "name": "stderr",
     "output_type": "stream",
     "text": [
      "115it [00:10, 19.50it/s]"
     ]
    },
    {
     "name": "stdout",
     "output_type": "stream",
     "text": [
      " torch.Size([1, 1])\n",
      "torch.Size([1]) torch.Size([1, 1])\n",
      "torch.Size([1]) torch.Size([1, 1])\n",
      "torch.Size([1]) torch.Size([1, 1])\n"
     ]
    },
    {
     "name": "stderr",
     "output_type": "stream",
     "text": [
      "119it [00:10, 19.60it/s]"
     ]
    },
    {
     "name": "stdout",
     "output_type": "stream",
     "text": [
      "torch.Size([1]) torch.Size([1, 1])\n",
      "torch.Size([1]) torch.Size([1, 1])\n",
      "torch.Size([1]) torch.Size([1, 1])\n",
      "torch.Size([1]) torch.Size([1, 1])\n",
      "torch.Size([1])"
     ]
    },
    {
     "name": "stderr",
     "output_type": "stream",
     "text": [
      "\r",
      "121it [00:10, 19.54it/s]"
     ]
    },
    {
     "name": "stdout",
     "output_type": "stream",
     "text": [
      " torch.Size([1, 1])\n",
      "torch.Size([1]) torch.Size([1, 1])\n",
      "torch.Size([1]) torch.Size([1, 1])\n",
      "torch.Size([1]) torch.Size([1, 1])\n",
      "torch.Size([1])"
     ]
    },
    {
     "name": "stderr",
     "output_type": "stream",
     "text": [
      "127it [00:10, 20.18it/s]"
     ]
    },
    {
     "name": "stdout",
     "output_type": "stream",
     "text": [
      " torch.Size([1, 1])\n",
      "torch.Size([1]) torch.Size([1, 1])\n",
      "torch.Size([1]) torch.Size([1, 1])\n",
      "torch.Size([1]) torch.Size([1, 1])\n",
      "torch.Size([1])"
     ]
    },
    {
     "name": "stderr",
     "output_type": "stream",
     "text": [
      "\r",
      "130it [00:10, 19.82it/s]"
     ]
    },
    {
     "name": "stdout",
     "output_type": "stream",
     "text": [
      " torch.Size([1, 1])\n",
      "torch.Size([1]) torch.Size([1, 1])\n",
      "torch.Size([1]) torch.Size([1, 1])\n",
      "torch.Size([1]) torch.Size([1, 1])\n"
     ]
    },
    {
     "name": "stderr",
     "output_type": "stream",
     "text": [
      "135it [00:11, 19.81it/s]"
     ]
    },
    {
     "name": "stdout",
     "output_type": "stream",
     "text": [
      "torch.Size([1]) torch.Size([1, 1])\n",
      "torch.Size([1]) torch.Size([1, 1])\n",
      "torch.Size([1]) torch.Size([1, 1])\n",
      "torch.Size([1]) torch.Size([1, 1])\n",
      "torch.Size([1])"
     ]
    },
    {
     "name": "stderr",
     "output_type": "stream",
     "text": [
      "\r",
      "137it [00:11, 19.61it/s]"
     ]
    },
    {
     "name": "stdout",
     "output_type": "stream",
     "text": [
      " torch.Size([1, 1])\n",
      "torch.Size([1]) torch.Size([1, 1])\n",
      "torch.Size([1]) torch.Size([1, 1])\n",
      "torch.Size([1]) torch.Size([1, 1])\n",
      "torch.Size([1])"
     ]
    },
    {
     "name": "stderr",
     "output_type": "stream",
     "text": [
      "143it [00:11, 19.98it/s]"
     ]
    },
    {
     "name": "stdout",
     "output_type": "stream",
     "text": [
      " torch.Size([1, 1])\n",
      "torch.Size([1]) torch.Size([1, 1])\n",
      "torch.Size([1]) torch.Size([1, 1])\n",
      "torch.Size([1]) torch.Size([1, 1])\n"
     ]
    },
    {
     "name": "stderr",
     "output_type": "stream",
     "text": [
      "\r",
      "146it [00:11, 19.91it/s]"
     ]
    },
    {
     "name": "stdout",
     "output_type": "stream",
     "text": [
      "torch.Size([1]) torch.Size([1, 1])\n",
      "torch.Size([1]) torch.Size([1, 1])\n",
      "torch.Size([1]) torch.Size([1, 1])\n",
      "torch.Size([1]) torch.Size([1, 1])\n",
      "torch.Size([1])"
     ]
    },
    {
     "name": "stderr",
     "output_type": "stream",
     "text": [
      "150it [00:11, 19.64it/s]"
     ]
    },
    {
     "name": "stdout",
     "output_type": "stream",
     "text": [
      " torch.Size([1, 1])\n",
      "torch.Size([1]) torch.Size([1, 1])\n",
      "torch.Size([1]) torch.Size([1, 1])\n",
      "torch.Size([1]) torch.Size([1, 1])\n",
      "torch.Size([1])"
     ]
    },
    {
     "name": "stderr",
     "output_type": "stream",
     "text": [
      "154it [00:12, 19.14it/s]"
     ]
    },
    {
     "name": "stdout",
     "output_type": "stream",
     "text": [
      " torch.Size([1, 1])\n",
      "torch.Size([1]) torch.Size([1, 1])\n",
      "torch.Size([1]) torch.Size([1, 1])\n",
      "torch.Size([1]) torch.Size([1, 1])\n"
     ]
    },
    {
     "name": "stderr",
     "output_type": "stream",
     "text": [
      "158it [00:12, 18.14it/s]"
     ]
    },
    {
     "name": "stdout",
     "output_type": "stream",
     "text": [
      "torch.Size([1]) torch.Size([1, 1])\n",
      "torch.Size([1]) torch.Size([1, 1])\n",
      "torch.Size([1]) torch.Size([1, 1])\n",
      "torch.Size([1]) torch.Size([1, 1])\n"
     ]
    },
    {
     "name": "stderr",
     "output_type": "stream",
     "text": [
      "162it [00:12, 18.39it/s]"
     ]
    },
    {
     "name": "stdout",
     "output_type": "stream",
     "text": [
      "torch.Size([1]) torch.Size([1, 1])\n",
      "torch.Size([1]) torch.Size([1, 1])\n",
      "torch.Size([1]) torch.Size([1, 1])\n",
      "torch.Size([1]) torch.Size([1, 1])\n"
     ]
    },
    {
     "name": "stderr",
     "output_type": "stream",
     "text": [
      "166it [00:12, 18.59it/s]"
     ]
    },
    {
     "name": "stdout",
     "output_type": "stream",
     "text": [
      "torch.Size([1]) torch.Size([1, 1])\n",
      "torch.Size([1]) torch.Size([1, 1])\n",
      "torch.Size([1]) torch.Size([1, 1])\n",
      "torch.Size([1]) torch.Size([1, 1])\n",
      "torch.Size([1])"
     ]
    },
    {
     "name": "stderr",
     "output_type": "stream",
     "text": [
      "\r",
      "169it [00:12, 19.31it/s]"
     ]
    },
    {
     "name": "stdout",
     "output_type": "stream",
     "text": [
      " torch.Size([1, 1])\n",
      "torch.Size([1]) torch.Size([1, 1])\n",
      "torch.Size([1]) torch.Size([1, 1])\n",
      "torch.Size([1]) torch.Size([1, 1])\n",
      "torch.Size([1])"
     ]
    },
    {
     "name": "stderr",
     "output_type": "stream",
     "text": [
      "175it [00:13, 19.84it/s]"
     ]
    },
    {
     "name": "stdout",
     "output_type": "stream",
     "text": [
      " torch.Size([1, 1])\n",
      "torch.Size([1]) torch.Size([1, 1])\n",
      "torch.Size([1]) torch.Size([1, 1])\n",
      "torch.Size([1]) torch.Size([1, 1])\n"
     ]
    },
    {
     "name": "stderr",
     "output_type": "stream",
     "text": [
      "179it [00:13, 19.43it/s]"
     ]
    },
    {
     "name": "stdout",
     "output_type": "stream",
     "text": [
      "torch.Size([1]) torch.Size([1, 1])\n",
      "torch.Size([1]) torch.Size([1, 1])\n",
      "torch.Size([1]) torch.Size([1, 1])\n",
      "torch.Size([1]) torch.Size([1, 1])\n",
      "torch.Size([1])"
     ]
    },
    {
     "name": "stderr",
     "output_type": "stream",
     "text": [
      "\r",
      "181it [00:13, 18.97it/s]"
     ]
    },
    {
     "name": "stdout",
     "output_type": "stream",
     "text": [
      " torch.Size([1, 1])\n",
      "torch.Size([1]) torch.Size([1, 1])\n",
      "torch.Size([1]) torch.Size([1, 1])\n",
      "torch.Size([1])"
     ]
    },
    {
     "name": "stderr",
     "output_type": "stream",
     "text": [
      "185it [00:13, 17.69it/s]"
     ]
    },
    {
     "name": "stdout",
     "output_type": "stream",
     "text": [
      " torch.Size([1, 1])\n",
      "torch.Size([1]) torch.Size([1, 1])\n",
      "torch.Size([1]) torch.Size([1, 1])\n",
      "torch.Size([1]) torch.Size([1, 1])\n"
     ]
    },
    {
     "name": "stderr",
     "output_type": "stream",
     "text": [
      "189it [00:13, 17.68it/s]"
     ]
    },
    {
     "name": "stdout",
     "output_type": "stream",
     "text": [
      "torch.Size([1]) torch.Size([1, 1])\n",
      "torch.Size([1]) torch.Size([1, 1])\n",
      "torch.Size([1]) torch.Size([1, 1])\n",
      "torch.Size([1]) torch.Size([1, 1])\n"
     ]
    },
    {
     "name": "stderr",
     "output_type": "stream",
     "text": [
      "193it [00:14, 18.73it/s]"
     ]
    },
    {
     "name": "stdout",
     "output_type": "stream",
     "text": [
      "torch.Size([1]) torch.Size([1, 1])\n",
      "torch.Size([1]) torch.Size([1, 1])\n",
      "torch.Size([1]) torch.Size([1, 1])\n",
      "torch.Size([1]) torch.Size([1, 1])\n",
      "torch.Size([1])"
     ]
    },
    {
     "name": "stderr",
     "output_type": "stream",
     "text": [
      "198it [00:14, 19.25it/s]"
     ]
    },
    {
     "name": "stdout",
     "output_type": "stream",
     "text": [
      " torch.Size([1, 1])\n",
      "torch.Size([1]) torch.Size([1, 1])\n",
      "torch.Size([1]) torch.Size([1, 1])\n",
      "torch.Size([1]) torch.Size([1, 1])\n"
     ]
    },
    {
     "name": "stderr",
     "output_type": "stream",
     "text": [
      "202it [00:14, 18.97it/s]"
     ]
    },
    {
     "name": "stdout",
     "output_type": "stream",
     "text": [
      "torch.Size([1]) torch.Size([1, 1])\n",
      "torch.Size([1]) torch.Size([1, 1])\n",
      "torch.Size([1]) torch.Size([1, 1])\n",
      "torch.Size([1]) torch.Size([1, 1])\n"
     ]
    },
    {
     "name": "stderr",
     "output_type": "stream",
     "text": [
      "206it [00:14, 18.94it/s]"
     ]
    },
    {
     "name": "stdout",
     "output_type": "stream",
     "text": [
      "torch.Size([1]) torch.Size([1, 1])\n",
      "torch.Size([1]) torch.Size([1, 1])\n",
      "torch.Size([1]) torch.Size([1, 1])\n",
      "torch.Size([1]) torch.Size([1, 1])\n"
     ]
    },
    {
     "name": "stderr",
     "output_type": "stream",
     "text": [
      "210it [00:14, 19.24it/s]"
     ]
    },
    {
     "name": "stdout",
     "output_type": "stream",
     "text": [
      "torch.Size([1]) torch.Size([1, 1])\n",
      "torch.Size([1]) torch.Size([1, 1])\n",
      "torch.Size([1]) torch.Size([1, 1])\n",
      "torch.Size([1]) torch.Size([1, 1])\n"
     ]
    },
    {
     "name": "stderr",
     "output_type": "stream",
     "text": [
      "214it [00:15, 18.38it/s]"
     ]
    },
    {
     "name": "stdout",
     "output_type": "stream",
     "text": [
      "torch.Size([1]) torch.Size([1, 1])\n",
      "torch.Size([1]) torch.Size([1, 1])\n",
      "torch.Size([1]) torch.Size([1, 1])\n",
      "torch.Size([1]) torch.Size([1, 1])\n"
     ]
    },
    {
     "name": "stderr",
     "output_type": "stream",
     "text": [
      "218it [00:15, 17.85it/s]"
     ]
    },
    {
     "name": "stdout",
     "output_type": "stream",
     "text": [
      "torch.Size([1]) torch.Size([1, 1])\n",
      "torch.Size([1]) torch.Size([1, 1])\n",
      "torch.Size([1]) torch.Size([1, 1])\n",
      "torch.Size([1]) torch.Size([1, 1])\n"
     ]
    },
    {
     "name": "stderr",
     "output_type": "stream",
     "text": [
      "222it [00:15, 17.85it/s]"
     ]
    },
    {
     "name": "stdout",
     "output_type": "stream",
     "text": [
      "torch.Size([1]) torch.Size([1, 1])\n",
      "torch.Size([1]) torch.Size([1, 1])\n",
      "torch.Size([1]) torch.Size([1, 1])\n",
      "torch.Size([1]) torch.Size([1, 1])\n"
     ]
    },
    {
     "name": "stderr",
     "output_type": "stream",
     "text": [
      "226it [00:15, 18.44it/s]"
     ]
    },
    {
     "name": "stdout",
     "output_type": "stream",
     "text": [
      "torch.Size([1]) torch.Size([1, 1])\n",
      "torch.Size([1]) torch.Size([1, 1])\n",
      "torch.Size([1]) torch.Size([1, 1])\n",
      "torch.Size([1]) torch.Size([1, 1])\n"
     ]
    },
    {
     "name": "stderr",
     "output_type": "stream",
     "text": [
      "230it [00:16, 18.65it/s]"
     ]
    },
    {
     "name": "stdout",
     "output_type": "stream",
     "text": [
      "torch.Size([1]) torch.Size([1, 1])\n",
      "torch.Size([1]) torch.Size([1, 1])\n",
      "torch.Size([1]) torch.Size([1, 1])\n",
      "torch.Size([1]) torch.Size([1, 1])\n"
     ]
    },
    {
     "name": "stderr",
     "output_type": "stream",
     "text": [
      "234it [00:16, 18.94it/s]"
     ]
    },
    {
     "name": "stdout",
     "output_type": "stream",
     "text": [
      "torch.Size([1]) torch.Size([1, 1])\n",
      "torch.Size([1]) torch.Size([1, 1])\n",
      "torch.Size([1]) torch.Size([1, 1])\n",
      "torch.Size([1]) torch.Size([1, 1])\n",
      "torch.Size([1])"
     ]
    },
    {
     "name": "stderr",
     "output_type": "stream",
     "text": [
      "\r",
      "236it [00:16, 19.20it/s]"
     ]
    },
    {
     "name": "stdout",
     "output_type": "stream",
     "text": [
      " torch.Size([1, 1])\n",
      "torch.Size([1]) torch.Size([1, 1])\n",
      "torch.Size([1]) torch.Size([1, 1])\n",
      "torch.Size([1]) torch.Size([1, 1])\n"
     ]
    },
    {
     "name": "stderr",
     "output_type": "stream",
     "text": [
      "241it [00:16, 19.25it/s]"
     ]
    },
    {
     "name": "stdout",
     "output_type": "stream",
     "text": [
      "torch.Size([1]) torch.Size([1, 1])\n",
      "torch.Size([1]) torch.Size([1, 1])\n",
      "torch.Size([1]) torch.Size([1, 1])\n",
      "torch.Size([1]) torch.Size([1, 1])\n",
      "torch.Size([1])"
     ]
    },
    {
     "name": "stderr",
     "output_type": "stream",
     "text": [
      "246it [00:16, 19.29it/s]"
     ]
    },
    {
     "name": "stdout",
     "output_type": "stream",
     "text": [
      " torch.Size([1, 1])\n",
      "torch.Size([1]) torch.Size([1, 1])\n",
      "torch.Size([1]) torch.Size([1, 1])\n",
      "torch.Size([1]) torch.Size([1, 1])\n"
     ]
    },
    {
     "name": "stderr",
     "output_type": "stream",
     "text": [
      "\r",
      "249it [00:17, 19.83it/s]"
     ]
    },
    {
     "name": "stdout",
     "output_type": "stream",
     "text": [
      "torch.Size([1]) torch.Size([1, 1])\n",
      "torch.Size([1]) torch.Size([1, 1])\n",
      "torch.Size([1]) torch.Size([1, 1])\n",
      "torch.Size([1]) torch.Size([1, 1])\n",
      "torch.Size([1])"
     ]
    },
    {
     "name": "stderr",
     "output_type": "stream",
     "text": [
      "254it [00:17, 19.83it/s]"
     ]
    },
    {
     "name": "stdout",
     "output_type": "stream",
     "text": [
      " torch.Size([1, 1])\n",
      "torch.Size([1]) torch.Size([1, 1])\n",
      "torch.Size([1]) torch.Size([1, 1])\n",
      "torch.Size([1]) torch.Size([1, 1])\n"
     ]
    },
    {
     "name": "stderr",
     "output_type": "stream",
     "text": [
      "258it [00:17, 19.58it/s]"
     ]
    },
    {
     "name": "stdout",
     "output_type": "stream",
     "text": [
      "torch.Size([1]) torch.Size([1, 1])\n",
      "torch.Size([1]) torch.Size([1, 1])\n",
      "torch.Size([1]) torch.Size([1, 1])\n",
      "torch.Size([1]) torch.Size([1, 1])\n"
     ]
    },
    {
     "name": "stderr",
     "output_type": "stream",
     "text": [
      "\r",
      "260it [00:17, 19.17it/s]"
     ]
    },
    {
     "name": "stdout",
     "output_type": "stream",
     "text": [
      "torch.Size([1]) torch.Size([1, 1])\n",
      "torch.Size([1]) torch.Size([1, 1])\n",
      "torch.Size([1]) torch.Size([1, 1])\n",
      "torch.Size([1]) torch.Size([1, 1])\n",
      "torch.Size([1])"
     ]
    },
    {
     "name": "stderr",
     "output_type": "stream",
     "text": [
      "266it [00:17, 19.97it/s]"
     ]
    },
    {
     "name": "stdout",
     "output_type": "stream",
     "text": [
      " torch.Size([1, 1])\n",
      "torch.Size([1]) torch.Size([1, 1])\n",
      "torch.Size([1]) torch.Size([1, 1])\n",
      "torch.Size([1]) torch.Size([1, 1])\n",
      "torch.Size([1])"
     ]
    },
    {
     "name": "stderr",
     "output_type": "stream",
     "text": [
      "\r",
      "269it [00:18, 20.09it/s]"
     ]
    },
    {
     "name": "stdout",
     "output_type": "stream",
     "text": [
      " torch.Size([1, 1])\n",
      "torch.Size([1]) torch.Size([1, 1])\n",
      "torch.Size([1]) torch.Size([1, 1])\n",
      "torch.Size([1]) torch.Size([1, 1])\n"
     ]
    },
    {
     "name": "stderr",
     "output_type": "stream",
     "text": [
      "\r",
      "272it [00:18, 20.04it/s]"
     ]
    },
    {
     "name": "stdout",
     "output_type": "stream",
     "text": [
      "torch.Size([1]) torch.Size([1, 1])\n",
      "torch.Size([1]) torch.Size([1, 1])\n",
      "torch.Size([1]) torch.Size([1, 1])\n",
      "torch.Size([1]) torch.Size([1, 1])\n"
     ]
    },
    {
     "name": "stderr",
     "output_type": "stream",
     "text": [
      "277it [00:18, 18.51it/s]"
     ]
    },
    {
     "name": "stdout",
     "output_type": "stream",
     "text": [
      "torch.Size([1]) torch.Size([1, 1])\n",
      "torch.Size([1]) torch.Size([1, 1])\n",
      "torch.Size([1]) torch.Size([1, 1])\n",
      "torch.Size([1]) torch.Size([1, 1])\n"
     ]
    },
    {
     "name": "stderr",
     "output_type": "stream",
     "text": [
      "281it [00:18, 18.65it/s]"
     ]
    },
    {
     "name": "stdout",
     "output_type": "stream",
     "text": [
      "torch.Size([1]) torch.Size([1, 1])\n",
      "torch.Size([1]) torch.Size([1, 1])\n",
      "torch.Size([1]) torch.Size([1, 1])\n",
      "torch.Size([1]) torch.Size([1, 1])\n"
     ]
    },
    {
     "name": "stderr",
     "output_type": "stream",
     "text": [
      "285it [00:18, 18.85it/s]"
     ]
    },
    {
     "name": "stdout",
     "output_type": "stream",
     "text": [
      "torch.Size([1]) torch.Size([1, 1])\n",
      "torch.Size([1]) torch.Size([1, 1])\n",
      "torch.Size([1]) torch.Size([1, 1])\n",
      "torch.Size([1]) torch.Size([1, 1])\n"
     ]
    },
    {
     "name": "stderr",
     "output_type": "stream",
     "text": [
      "289it [00:19, 17.89it/s]"
     ]
    },
    {
     "name": "stdout",
     "output_type": "stream",
     "text": [
      "torch.Size([1]) torch.Size([1, 1])\n",
      "torch.Size([1]) torch.Size([1, 1])\n",
      "torch.Size([1]) torch.Size([1, 1])\n",
      "torch.Size([1])"
     ]
    },
    {
     "name": "stderr",
     "output_type": "stream",
     "text": [
      "293it [00:19, 17.23it/s]"
     ]
    },
    {
     "name": "stdout",
     "output_type": "stream",
     "text": [
      " torch.Size([1, 1])\n",
      "torch.Size([1]) torch.Size([1, 1])\n",
      "torch.Size([1]) torch.Size([1, 1])\n",
      "torch.Size([1]) torch.Size([1, 1])\n"
     ]
    },
    {
     "name": "stderr",
     "output_type": "stream",
     "text": [
      "\r",
      "295it [00:19, 17.02it/s]"
     ]
    },
    {
     "name": "stdout",
     "output_type": "stream",
     "text": [
      "torch.Size([1]) torch.Size([1, 1])\n",
      "torch.Size([1]) torch.Size([1, 1])\n",
      "torch.Size([1]) torch.Size([1, 1])\n",
      "torch.Size([1]) torch.Size([1, 1])\n"
     ]
    },
    {
     "name": "stderr",
     "output_type": "stream",
     "text": [
      "301it [00:19, 18.14it/s]"
     ]
    },
    {
     "name": "stdout",
     "output_type": "stream",
     "text": [
      "torch.Size([1]) torch.Size([1, 1])\n",
      "torch.Size([1]) torch.Size([1, 1])\n",
      "torch.Size([1]) torch.Size([1, 1])\n",
      "torch.Size([1]) torch.Size([1, 1])\n"
     ]
    },
    {
     "name": "stderr",
     "output_type": "stream",
     "text": [
      "\r",
      "303it [00:19, 16.72it/s]"
     ]
    },
    {
     "name": "stdout",
     "output_type": "stream",
     "text": [
      "torch.Size([1]) torch.Size([1, 1])\n",
      "torch.Size([1]) torch.Size([1, 1])\n",
      "torch.Size([1]) torch.Size([1, 1])\n",
      "torch.Size([1]) torch.Size([1, 1])\n",
      "torch.Size([1])"
     ]
    },
    {
     "name": "stderr",
     "output_type": "stream",
     "text": [
      "309it [00:20, 18.24it/s]"
     ]
    },
    {
     "name": "stdout",
     "output_type": "stream",
     "text": [
      " torch.Size([1, 1])\n",
      "torch.Size([1]) torch.Size([1, 1])\n",
      "torch.Size([1]) torch.Size([1, 1])\n",
      "torch.Size([1]) torch.Size([1, 1])\n"
     ]
    },
    {
     "name": "stderr",
     "output_type": "stream",
     "text": [
      "313it [00:20, 18.58it/s]"
     ]
    },
    {
     "name": "stdout",
     "output_type": "stream",
     "text": [
      "torch.Size([1]) torch.Size([1, 1])\n",
      "torch.Size([1]) torch.Size([1, 1])\n",
      "torch.Size([1]) torch.Size([1, 1])\n",
      "torch.Size([1]) torch.Size([1, 1])\n"
     ]
    },
    {
     "name": "stderr",
     "output_type": "stream",
     "text": [
      "317it [00:20, 18.15it/s]"
     ]
    },
    {
     "name": "stdout",
     "output_type": "stream",
     "text": [
      "torch.Size([1]) torch.Size([1, 1])\n",
      "torch.Size([1]) torch.Size([1, 1])\n",
      "torch.Size([1]) torch.Size([1, 1])\n",
      "torch.Size([1]) torch.Size([1, 1])\n"
     ]
    },
    {
     "name": "stderr",
     "output_type": "stream",
     "text": [
      "\r",
      "319it [00:20, 18.21it/s]"
     ]
    },
    {
     "name": "stdout",
     "output_type": "stream",
     "text": [
      "torch.Size([1]) torch.Size([1, 1])\n",
      "torch.Size([1]) torch.Size([1, 1])\n",
      "torch.Size([1]) torch.Size([1, 1])\n",
      "torch.Size([1]) torch.Size([1, 1])\n",
      "torch.Size([1])"
     ]
    },
    {
     "name": "stderr",
     "output_type": "stream",
     "text": [
      "324it [00:21, 18.88it/s]"
     ]
    },
    {
     "name": "stdout",
     "output_type": "stream",
     "text": [
      " torch.Size([1, 1])\n",
      "torch.Size([1]) torch.Size([1, 1])\n",
      "torch.Size([1]) torch.Size([1, 1])\n",
      "torch.Size([1]) torch.Size([1, 1])\n",
      "torch.Size([1])"
     ]
    },
    {
     "name": "stderr",
     "output_type": "stream",
     "text": [
      "329it [00:21, 18.69it/s]"
     ]
    },
    {
     "name": "stdout",
     "output_type": "stream",
     "text": [
      " torch.Size([1, 1])\n",
      "torch.Size([1]) torch.Size([1, 1])\n",
      "torch.Size([1]) torch.Size([1, 1])\n",
      "torch.Size([1]) torch.Size([1, 1])\n"
     ]
    },
    {
     "name": "stderr",
     "output_type": "stream",
     "text": [
      "\r",
      "331it [00:21, 18.50it/s]"
     ]
    },
    {
     "name": "stdout",
     "output_type": "stream",
     "text": [
      "torch.Size([1]) torch.Size([1, 1])\n",
      "torch.Size([1]) torch.Size([1, 1])\n",
      "torch.Size([1]) torch.Size([1, 1])\n",
      "torch.Size([1]) torch.Size([1, 1])\n",
      "torch.Size([1])"
     ]
    },
    {
     "name": "stderr",
     "output_type": "stream",
     "text": [
      "336it [00:21, 19.28it/s]"
     ]
    },
    {
     "name": "stdout",
     "output_type": "stream",
     "text": [
      " torch.Size([1, 1])\n",
      "torch.Size([1]) torch.Size([1, 1])\n",
      "torch.Size([1]) torch.Size([1, 1])\n",
      "torch.Size([1]) torch.Size([1, 1])\n",
      "torch.Size([1])"
     ]
    },
    {
     "name": "stderr",
     "output_type": "stream",
     "text": [
      "341it [00:21, 19.34it/s]"
     ]
    },
    {
     "name": "stdout",
     "output_type": "stream",
     "text": [
      " torch.Size([1, 1])\n",
      "torch.Size([1]) torch.Size([1, 1])\n",
      "torch.Size([1]) torch.Size([1, 1])\n",
      "torch.Size([1]) torch.Size([1, 1])\n",
      "torch.Size([1])"
     ]
    },
    {
     "name": "stderr",
     "output_type": "stream",
     "text": [
      "\r",
      "343it [00:22, 19.47it/s]"
     ]
    },
    {
     "name": "stdout",
     "output_type": "stream",
     "text": [
      " torch.Size([1, 1])\n",
      "torch.Size([1]) torch.Size([1, 1])\n",
      "torch.Size([1]) torch.Size([1, 1])\n",
      "torch.Size([1]) torch.Size([1, 1])\n",
      "torch.Size([1])"
     ]
    },
    {
     "name": "stderr",
     "output_type": "stream",
     "text": [
      "349it [00:22, 20.28it/s]"
     ]
    },
    {
     "name": "stdout",
     "output_type": "stream",
     "text": [
      " torch.Size([1, 1])\n",
      "torch.Size([1]) torch.Size([1, 1])\n",
      "torch.Size([1]) torch.Size([1, 1])\n",
      "torch.Size([1]) torch.Size([1, 1])\n",
      "torch.Size([1])"
     ]
    },
    {
     "name": "stderr",
     "output_type": "stream",
     "text": [
      "\r",
      "352it [00:22, 20.40it/s]"
     ]
    },
    {
     "name": "stdout",
     "output_type": "stream",
     "text": [
      " torch.Size([1, 1])\n",
      "torch.Size([1]) torch.Size([1, 1])\n",
      "torch.Size([1]) torch.Size([1, 1])\n",
      "torch.Size([1]) torch.Size([1, 1])\n",
      "torch.Size([1])"
     ]
    },
    {
     "name": "stderr",
     "output_type": "stream",
     "text": [
      "\r",
      "355it [00:22, 19.76it/s]"
     ]
    },
    {
     "name": "stdout",
     "output_type": "stream",
     "text": [
      " torch.Size([1, 1])\n",
      "torch.Size([1]) torch.Size([1, 1])\n",
      "torch.Size([1]) torch.Size([1, 1])\n",
      "torch.Size([1]) torch.Size([1, 1])\n"
     ]
    },
    {
     "name": "stderr",
     "output_type": "stream",
     "text": [
      "361it [00:22, 20.30it/s]"
     ]
    },
    {
     "name": "stdout",
     "output_type": "stream",
     "text": [
      "torch.Size([1]) torch.Size([1, 1])\n",
      "torch.Size([1]) torch.Size([1, 1])\n",
      "torch.Size([1]) torch.Size([1, 1])\n",
      "torch.Size([1]) torch.Size([1, 1])\n",
      "torch.Size([1])"
     ]
    },
    {
     "name": "stderr",
     "output_type": "stream",
     "text": [
      "\r",
      "364it [00:23, 20.22it/s]"
     ]
    },
    {
     "name": "stdout",
     "output_type": "stream",
     "text": [
      " torch.Size([1, 1])\n",
      "torch.Size([1]) torch.Size([1, 1])\n",
      "torch.Size([1]) torch.Size([1, 1])\n",
      "torch.Size([1]) torch.Size([1, 1])\n",
      "torch.Size([1])"
     ]
    },
    {
     "name": "stderr",
     "output_type": "stream",
     "text": [
      "\r",
      "367it [00:23, 20.08it/s]"
     ]
    },
    {
     "name": "stdout",
     "output_type": "stream",
     "text": [
      " torch.Size([1, 1])\n",
      "torch.Size([1]) torch.Size([1, 1])\n",
      "torch.Size([1]) torch.Size([1, 1])\n",
      "torch.Size([1]) torch.Size([1, 1])\n",
      "torch.Size([1])"
     ]
    },
    {
     "name": "stderr",
     "output_type": "stream",
     "text": [
      "373it [00:23, 20.26it/s]"
     ]
    },
    {
     "name": "stdout",
     "output_type": "stream",
     "text": [
      " torch.Size([1, 1])\n",
      "torch.Size([1]) torch.Size([1, 1])\n",
      "torch.Size([1]) torch.Size([1, 1])\n",
      "torch.Size([1]) torch.Size([1, 1])\n",
      "torch.Size([1])"
     ]
    },
    {
     "name": "stderr",
     "output_type": "stream",
     "text": [
      "\r",
      "376it [00:23, 20.02it/s]"
     ]
    },
    {
     "name": "stdout",
     "output_type": "stream",
     "text": [
      " torch.Size([1, 1])\n",
      "torch.Size([1]) torch.Size([1, 1])\n",
      "torch.Size([1]) torch.Size([1, 1])\n",
      "torch.Size([1]) torch.Size([1, 1])\n",
      "torch.Size([1])"
     ]
    },
    {
     "name": "stderr",
     "output_type": "stream",
     "text": [
      "\r",
      "379it [00:23, 19.42it/s]"
     ]
    },
    {
     "name": "stdout",
     "output_type": "stream",
     "text": [
      " torch.Size([1, 1])\n",
      "torch.Size([1]) torch.Size([1, 1])\n",
      "torch.Size([1]) torch.Size([1, 1])\n",
      "torch.Size([1]) torch.Size([1, 1])\n"
     ]
    },
    {
     "name": "stderr",
     "output_type": "stream",
     "text": [
      "385it [00:24, 19.66it/s]"
     ]
    },
    {
     "name": "stdout",
     "output_type": "stream",
     "text": [
      "torch.Size([1]) torch.Size([1, 1])\n",
      "torch.Size([1]) torch.Size([1, 1])\n",
      "torch.Size([1]) torch.Size([1, 1])\n",
      "torch.Size([1]) torch.Size([1, 1])\n",
      "torch.Size([1])"
     ]
    },
    {
     "name": "stderr",
     "output_type": "stream",
     "text": [
      "389it [00:24, 19.38it/s]"
     ]
    },
    {
     "name": "stdout",
     "output_type": "stream",
     "text": [
      " torch.Size([1, 1])\n",
      "torch.Size([1]) torch.Size([1, 1])\n",
      "torch.Size([1]) torch.Size([1, 1])\n",
      "torch.Size([1]) torch.Size([1, 1])\n"
     ]
    },
    {
     "name": "stderr",
     "output_type": "stream",
     "text": [
      "\r",
      "392it [00:24, 19.91it/s]"
     ]
    },
    {
     "name": "stdout",
     "output_type": "stream",
     "text": [
      "torch.Size([1]) torch.Size([1, 1])\n",
      "torch.Size([1]) torch.Size([1, 1])\n",
      "torch.Size([1]) torch.Size([1, 1])\n",
      "torch.Size([1]) torch.Size([1, 1])\n",
      "torch.Size([1])"
     ]
    },
    {
     "name": "stderr",
     "output_type": "stream",
     "text": [
      "396it [00:24, 18.72it/s]"
     ]
    },
    {
     "name": "stdout",
     "output_type": "stream",
     "text": [
      " torch.Size([1, 1])\n",
      "torch.Size([1]) torch.Size([1, 1])\n",
      "torch.Size([1]) torch.Size([1, 1])\n",
      "torch.Size([1])"
     ]
    },
    {
     "name": "stderr",
     "output_type": "stream",
     "text": [
      "\r",
      "398it [00:24, 17.99it/s]"
     ]
    },
    {
     "name": "stdout",
     "output_type": "stream",
     "text": [
      " torch.Size([1, 1])\n",
      "torch.Size([1]) torch.Size([1, 1])\n",
      "torch.Size([1]) torch.Size([1, 1])\n",
      "torch.Size([1]) torch.Size([1, 1])\n",
      "torch.Size([1])"
     ]
    },
    {
     "name": "stderr",
     "output_type": "stream",
     "text": [
      "403it [00:25, 18.50it/s]"
     ]
    },
    {
     "name": "stdout",
     "output_type": "stream",
     "text": [
      " torch.Size([1, 1])\n",
      "torch.Size([1]) torch.Size([1, 1])\n",
      "torch.Size([1]) torch.Size([1, 1])\n",
      "torch.Size([1]) torch.Size([1, 1])\n"
     ]
    },
    {
     "name": "stderr",
     "output_type": "stream",
     "text": [
      "409it [00:25, 20.03it/s]"
     ]
    },
    {
     "name": "stdout",
     "output_type": "stream",
     "text": [
      "torch.Size([1]) torch.Size([1, 1])\n",
      "torch.Size([1]) torch.Size([1, 1])\n",
      "torch.Size([1]) torch.Size([1, 1])\n",
      "torch.Size([1]) torch.Size([1, 1])\n",
      "torch.Size([1]) torch.Size([1, 1])\n"
     ]
    },
    {
     "name": "stderr",
     "output_type": "stream",
     "text": [
      "\r",
      "412it [00:25, 18.77it/s]"
     ]
    },
    {
     "name": "stdout",
     "output_type": "stream",
     "text": [
      "torch.Size([1]) torch.Size([1, 1])\n",
      "torch.Size([1]) torch.Size([1, 1])\n",
      "torch.Size([1]) torch.Size([1, 1])\n",
      "torch.Size([1]) torch.Size([1, 1])\n"
     ]
    },
    {
     "name": "stderr",
     "output_type": "stream",
     "text": [
      "417it [00:25, 18.50it/s]"
     ]
    },
    {
     "name": "stdout",
     "output_type": "stream",
     "text": [
      "torch.Size([1]) torch.Size([1, 1])\n",
      "torch.Size([1]) torch.Size([1, 1])\n",
      "torch.Size([1]) torch.Size([1, 1])\n",
      "torch.Size([1]) torch.Size([1, 1])\n"
     ]
    },
    {
     "name": "stderr",
     "output_type": "stream",
     "text": [
      "\r",
      "420it [00:25, 19.13it/s]"
     ]
    },
    {
     "name": "stdout",
     "output_type": "stream",
     "text": [
      "torch.Size([1]) torch.Size([1, 1])\n",
      "torch.Size([1]) torch.Size([1, 1])\n",
      "torch.Size([1]) torch.Size([1, 1])\n",
      "torch.Size([1]) torch.Size([1, 1])\n",
      "torch.Size([1])"
     ]
    },
    {
     "name": "stderr",
     "output_type": "stream",
     "text": [
      "\r",
      "423it [00:26, 19.59it/s]"
     ]
    },
    {
     "name": "stdout",
     "output_type": "stream",
     "text": [
      " torch.Size([1, 1])\n",
      "torch.Size([1]) torch.Size([1, 1])\n",
      "torch.Size([1]) torch.Size([1, 1])\n",
      "torch.Size([1]) torch.Size([1, 1])\n",
      "torch.Size([1])"
     ]
    },
    {
     "name": "stderr",
     "output_type": "stream",
     "text": [
      "429it [00:26, 19.95it/s]"
     ]
    },
    {
     "name": "stdout",
     "output_type": "stream",
     "text": [
      " torch.Size([1, 1])\n",
      "torch.Size([1]) torch.Size([1, 1])\n",
      "torch.Size([1]) torch.Size([1, 1])\n",
      "torch.Size([1]) torch.Size([1, 1])\n"
     ]
    },
    {
     "name": "stderr",
     "output_type": "stream",
     "text": [
      "\r",
      "432it [00:26, 19.87it/s]"
     ]
    },
    {
     "name": "stdout",
     "output_type": "stream",
     "text": [
      "torch.Size([1]) torch.Size([1, 1])\n",
      "torch.Size([1]) torch.Size([1, 1])\n",
      "torch.Size([1]) torch.Size([1, 1])\n",
      "torch.Size([1]) torch.Size([1, 1])\n",
      "torch.Size([1])"
     ]
    },
    {
     "name": "stderr",
     "output_type": "stream",
     "text": [
      "\r",
      "435it [00:26, 20.06it/s]"
     ]
    },
    {
     "name": "stdout",
     "output_type": "stream",
     "text": [
      " torch.Size([1, 1])\n",
      "torch.Size([1]) torch.Size([1, 1])\n",
      "torch.Size([1]) torch.Size([1, 1])\n",
      "torch.Size([1]) torch.Size([1, 1])\n"
     ]
    },
    {
     "name": "stderr",
     "output_type": "stream",
     "text": [
      "440it [00:27, 18.51it/s]"
     ]
    },
    {
     "name": "stdout",
     "output_type": "stream",
     "text": [
      "torch.Size([1]) torch.Size([1, 1])\n",
      "torch.Size([1]) torch.Size([1, 1])\n",
      "torch.Size([1]) torch.Size([1, 1])\n",
      "torch.Size([1]) torch.Size([1, 1])\n"
     ]
    },
    {
     "name": "stderr",
     "output_type": "stream",
     "text": [
      "444it [00:27, 18.15it/s]"
     ]
    },
    {
     "name": "stdout",
     "output_type": "stream",
     "text": [
      "torch.Size([1]) torch.Size([1, 1])\n",
      "torch.Size([1]) torch.Size([1, 1])\n",
      "torch.Size([1]) torch.Size([1, 1])\n",
      "torch.Size([1]) torch.Size([1, 1])\n"
     ]
    },
    {
     "name": "stderr",
     "output_type": "stream",
     "text": [
      "449it [00:27, 18.80it/s]"
     ]
    },
    {
     "name": "stdout",
     "output_type": "stream",
     "text": [
      "torch.Size([1]) torch.Size([1, 1])\n",
      "torch.Size([1]) torch.Size([1, 1])\n",
      "torch.Size([1]) torch.Size([1, 1])\n",
      "torch.Size([1]) torch.Size([1, 1])\n",
      "torch.Size([1])"
     ]
    },
    {
     "name": "stderr",
     "output_type": "stream",
     "text": [
      "\r",
      "452it [00:27, 19.53it/s]"
     ]
    },
    {
     "name": "stdout",
     "output_type": "stream",
     "text": [
      " torch.Size([1, 1])\n",
      "torch.Size([1]) torch.Size([1, 1])\n",
      "torch.Size([1]) torch.Size([1, 1])\n",
      "torch.Size([1]) torch.Size([1, 1])\n",
      "torch.Size([1])"
     ]
    },
    {
     "name": "stderr",
     "output_type": "stream",
     "text": [
      "456it [00:27, 19.64it/s]"
     ]
    },
    {
     "name": "stdout",
     "output_type": "stream",
     "text": [
      " torch.Size([1, 1])\n",
      "torch.Size([1]) torch.Size([1, 1])\n",
      "torch.Size([1]) torch.Size([1, 1])\n",
      "torch.Size([1]) torch.Size([1, 1])\n"
     ]
    },
    {
     "name": "stderr",
     "output_type": "stream",
     "text": [
      "461it [00:28, 19.74it/s]"
     ]
    },
    {
     "name": "stdout",
     "output_type": "stream",
     "text": [
      "torch.Size([1]) torch.Size([1, 1])\n",
      "torch.Size([1]) torch.Size([1, 1])\n",
      "torch.Size([1]) torch.Size([1, 1])\n",
      "torch.Size([1]) torch.Size([1, 1])\n"
     ]
    },
    {
     "name": "stderr",
     "output_type": "stream",
     "text": [
      "465it [00:28, 19.45it/s]"
     ]
    },
    {
     "name": "stdout",
     "output_type": "stream",
     "text": [
      "torch.Size([1]) torch.Size([1, 1])\n",
      "torch.Size([1]) torch.Size([1, 1])\n",
      "torch.Size([1]) torch.Size([1, 1])\n",
      "torch.Size([1]) torch.Size([1, 1])\n"
     ]
    },
    {
     "name": "stderr",
     "output_type": "stream",
     "text": [
      "\r",
      "467it [00:28, 19.45it/s]"
     ]
    },
    {
     "name": "stdout",
     "output_type": "stream",
     "text": [
      "torch.Size([1]) torch.Size([1, 1])\n",
      "torch.Size([1]) torch.Size([1, 1])\n",
      "torch.Size([1]) torch.Size([1, 1])\n",
      "torch.Size([1]) torch.Size([1, 1])\n",
      "torch.Size([1])"
     ]
    },
    {
     "name": "stderr",
     "output_type": "stream",
     "text": [
      "472it [00:28, 19.83it/s]"
     ]
    },
    {
     "name": "stdout",
     "output_type": "stream",
     "text": [
      " torch.Size([1, 1])\n",
      "torch.Size([1]) torch.Size([1, 1])\n",
      "torch.Size([1]) torch.Size([1, 1])\n",
      "torch.Size([1]) torch.Size([1, 1])\n"
     ]
    },
    {
     "name": "stderr",
     "output_type": "stream",
     "text": [
      "477it [00:28, 19.73it/s]"
     ]
    },
    {
     "name": "stdout",
     "output_type": "stream",
     "text": [
      "torch.Size([1]) torch.Size([1, 1])\n",
      "torch.Size([1]) torch.Size([1, 1])\n",
      "torch.Size([1]) torch.Size([1, 1])\n",
      "torch.Size([1]) torch.Size([1, 1])\n",
      "torch.Size([1])"
     ]
    },
    {
     "name": "stderr",
     "output_type": "stream",
     "text": [
      "481it [00:29, 19.60it/s]"
     ]
    },
    {
     "name": "stdout",
     "output_type": "stream",
     "text": [
      " torch.Size([1, 1])\n",
      "torch.Size([1]) torch.Size([1, 1])\n",
      "torch.Size([1]) torch.Size([1, 1])\n",
      "torch.Size([1]) torch.Size([1, 1])\n",
      "torch.Size([1])"
     ]
    },
    {
     "name": "stderr",
     "output_type": "stream",
     "text": [
      "\r",
      "484it [00:29, 19.76it/s]"
     ]
    },
    {
     "name": "stdout",
     "output_type": "stream",
     "text": [
      " torch.Size([1, 1])\n",
      "torch.Size([1]) torch.Size([1, 1])\n",
      "torch.Size([1]) torch.Size([1, 1])\n",
      "torch.Size([1]) torch.Size([1, 1])\n",
      "torch.Size([1])"
     ]
    },
    {
     "name": "stderr",
     "output_type": "stream",
     "text": [
      "488it [00:29, 19.77it/s]"
     ]
    },
    {
     "name": "stdout",
     "output_type": "stream",
     "text": [
      " torch.Size([1, 1])\n",
      "torch.Size([1]) torch.Size([1, 1])\n",
      "torch.Size([1]) torch.Size([1, 1])\n",
      "torch.Size([1]) torch.Size([1, 1])\n"
     ]
    },
    {
     "name": "stderr",
     "output_type": "stream",
     "text": [
      "492it [00:29, 19.81it/s]"
     ]
    },
    {
     "name": "stdout",
     "output_type": "stream",
     "text": [
      "torch.Size([1]) torch.Size([1, 1])\n",
      "torch.Size([1]) torch.Size([1, 1])\n",
      "torch.Size([1]) torch.Size([1, 1])\n",
      "torch.Size([1]) torch.Size([1, 1])\n"
     ]
    },
    {
     "name": "stderr",
     "output_type": "stream",
     "text": [
      "497it [00:29, 19.58it/s]"
     ]
    },
    {
     "name": "stdout",
     "output_type": "stream",
     "text": [
      "torch.Size([1]) torch.Size([1, 1])\n",
      "torch.Size([1]) torch.Size([1, 1])\n",
      "torch.Size([1]) torch.Size([1, 1])\n",
      "torch.Size([1]) torch.Size([1, 1])\n",
      "torch.Size([1])"
     ]
    },
    {
     "name": "stderr",
     "output_type": "stream",
     "text": [
      "501it [00:30, 19.15it/s]"
     ]
    },
    {
     "name": "stdout",
     "output_type": "stream",
     "text": [
      " torch.Size([1, 1])\n",
      "torch.Size([1]) torch.Size([1, 1])\n",
      "torch.Size([1]) torch.Size([1, 1])\n",
      "torch.Size([1]) torch.Size([1, 1])\n"
     ]
    },
    {
     "name": "stderr",
     "output_type": "stream",
     "text": [
      "\r",
      "503it [00:30, 18.78it/s]"
     ]
    },
    {
     "name": "stdout",
     "output_type": "stream",
     "text": [
      "torch.Size([1]) torch.Size([1, 1])\n",
      "torch.Size([1]) torch.Size([1, 1])\n",
      "torch.Size([1]) torch.Size([1, 1])\n",
      "torch.Size([1]) torch.Size([1, 1])\n"
     ]
    },
    {
     "name": "stderr",
     "output_type": "stream",
     "text": [
      "509it [00:30, 19.80it/s]"
     ]
    },
    {
     "name": "stdout",
     "output_type": "stream",
     "text": [
      "torch.Size([1]) torch.Size([1, 1])\n",
      "torch.Size([1]) torch.Size([1, 1])\n",
      "torch.Size([1]) torch.Size([1, 1])\n",
      "torch.Size([1]) torch.Size([1, 1])\n",
      "torch.Size([1])"
     ]
    },
    {
     "name": "stderr",
     "output_type": "stream",
     "text": [
      "\r",
      "511it [00:30, 19.79it/s]"
     ]
    },
    {
     "name": "stdout",
     "output_type": "stream",
     "text": [
      " torch.Size([1, 1])\n",
      "torch.Size([1]) torch.Size([1, 1])\n",
      "torch.Size([1]) torch.Size([1, 1])\n",
      "torch.Size([1]) torch.Size([1, 1])\n",
      "torch.Size([1])"
     ]
    },
    {
     "name": "stderr",
     "output_type": "stream",
     "text": [
      "516it [00:30, 19.90it/s]"
     ]
    },
    {
     "name": "stdout",
     "output_type": "stream",
     "text": [
      " torch.Size([1, 1])\n",
      "torch.Size([1]) torch.Size([1, 1])\n",
      "torch.Size([1]) torch.Size([1, 1])\n",
      "torch.Size([1]) torch.Size([1, 1])\n"
     ]
    },
    {
     "name": "stderr",
     "output_type": "stream",
     "text": [
      "520it [00:31, 19.27it/s]"
     ]
    },
    {
     "name": "stdout",
     "output_type": "stream",
     "text": [
      "torch.Size([1]) torch.Size([1, 1])\n",
      "torch.Size([1]) torch.Size([1, 1])\n",
      "torch.Size([1]) torch.Size([1, 1])\n",
      "torch.Size([1]) torch.Size([1, 1])\n",
      "torch.Size([1])"
     ]
    },
    {
     "name": "stderr",
     "output_type": "stream",
     "text": [
      "\r",
      "523it [00:31, 19.56it/s]"
     ]
    },
    {
     "name": "stdout",
     "output_type": "stream",
     "text": [
      " torch.Size([1, 1])\n",
      "torch.Size([1]) torch.Size([1, 1])\n",
      "torch.Size([1]) torch.Size([1, 1])\n",
      "torch.Size([1]) torch.Size([1, 1])\n",
      "torch.Size([1])"
     ]
    },
    {
     "name": "stderr",
     "output_type": "stream",
     "text": [
      "529it [00:31, 19.94it/s]"
     ]
    },
    {
     "name": "stdout",
     "output_type": "stream",
     "text": [
      " torch.Size([1, 1])\n",
      "torch.Size([1]) torch.Size([1, 1])\n",
      "torch.Size([1]) torch.Size([1, 1])\n",
      "torch.Size([1]) torch.Size([1, 1])\n"
     ]
    },
    {
     "name": "stderr",
     "output_type": "stream",
     "text": [
      "\r",
      "531it [00:31, 19.45it/s]"
     ]
    },
    {
     "name": "stdout",
     "output_type": "stream",
     "text": [
      "torch.Size([1]) torch.Size([1, 1])\n",
      "torch.Size([1]) torch.Size([1, 1])\n",
      "torch.Size([1]) torch.Size([1, 1])\n",
      "torch.Size([1])"
     ]
    },
    {
     "name": "stderr",
     "output_type": "stream",
     "text": [
      "536it [00:31, 19.14it/s]"
     ]
    },
    {
     "name": "stdout",
     "output_type": "stream",
     "text": [
      " torch.Size([1, 1])\n",
      "torch.Size([1]) torch.Size([1, 1])\n",
      "torch.Size([1]) torch.Size([1, 1])\n",
      "torch.Size([1]) torch.Size([1, 1])\n",
      "torch.Size([1])"
     ]
    },
    {
     "name": "stderr",
     "output_type": "stream",
     "text": [
      "\r",
      "539it [00:32, 19.75it/s]"
     ]
    },
    {
     "name": "stdout",
     "output_type": "stream",
     "text": [
      " torch.Size([1, 1])\n",
      "torch.Size([1]) torch.Size([1, 1])\n",
      "torch.Size([1]) torch.Size([1, 1])\n",
      "torch.Size([1]) torch.Size([1, 1])\n",
      "torch.Size([1])"
     ]
    },
    {
     "name": "stderr",
     "output_type": "stream",
     "text": [
      "\r",
      "542it [00:32, 19.83it/s]"
     ]
    },
    {
     "name": "stdout",
     "output_type": "stream",
     "text": [
      " torch.Size([1, 1])\n",
      "torch.Size([1]) torch.Size([1, 1])\n",
      "torch.Size([1]) torch.Size([1, 1])\n",
      "torch.Size([1]) torch.Size([1, 1])\n"
     ]
    },
    {
     "name": "stderr",
     "output_type": "stream",
     "text": [
      "547it [00:32, 19.54it/s]"
     ]
    },
    {
     "name": "stdout",
     "output_type": "stream",
     "text": [
      "torch.Size([1]) torch.Size([1, 1])\n",
      "torch.Size([1]) torch.Size([1, 1])\n",
      "torch.Size([1]) torch.Size([1, 1])\n",
      "torch.Size([1]) torch.Size([1, 1])\n"
     ]
    },
    {
     "name": "stderr",
     "output_type": "stream",
     "text": [
      "551it [00:32, 19.24it/s]"
     ]
    },
    {
     "name": "stdout",
     "output_type": "stream",
     "text": [
      "torch.Size([1]) torch.Size([1, 1])\n",
      "torch.Size([1]) torch.Size([1, 1])\n",
      "torch.Size([1]) torch.Size([1, 1])\n",
      "torch.Size([1]) torch.Size([1, 1])\n",
      "torch.Size([1])"
     ]
    },
    {
     "name": "stderr",
     "output_type": "stream",
     "text": [
      "\r",
      "554it [00:32, 19.56it/s]"
     ]
    },
    {
     "name": "stdout",
     "output_type": "stream",
     "text": [
      " torch.Size([1, 1])\n",
      "torch.Size([1]) torch.Size([1, 1])\n",
      "torch.Size([1]) torch.Size([1, 1])\n",
      "torch.Size([1]) torch.Size([1, 1])\n",
      "torch.Size([1])"
     ]
    },
    {
     "name": "stderr",
     "output_type": "stream",
     "text": [
      "559it [00:33, 19.53it/s]"
     ]
    },
    {
     "name": "stdout",
     "output_type": "stream",
     "text": [
      " torch.Size([1, 1])\n",
      "torch.Size([1]) torch.Size([1, 1])\n",
      "torch.Size([1]) torch.Size([1, 1])\n",
      "torch.Size([1]) torch.Size([1, 1])\n"
     ]
    },
    {
     "name": "stderr",
     "output_type": "stream",
     "text": [
      "564it [00:33, 19.19it/s]"
     ]
    },
    {
     "name": "stdout",
     "output_type": "stream",
     "text": [
      "torch.Size([1]) torch.Size([1, 1])\n",
      "torch.Size([1]) torch.Size([1, 1])\n",
      "torch.Size([1]) torch.Size([1, 1])\n",
      "torch.Size([1]) torch.Size([1, 1])\n",
      "torch.Size([1])"
     ]
    },
    {
     "name": "stderr",
     "output_type": "stream",
     "text": [
      "\r",
      "567it [00:33, 19.54it/s]"
     ]
    },
    {
     "name": "stdout",
     "output_type": "stream",
     "text": [
      " torch.Size([1, 1])\n",
      "torch.Size([1]) torch.Size([1, 1])\n",
      "torch.Size([1]) torch.Size([1, 1])\n",
      "torch.Size([1]) torch.Size([1, 1])\n",
      "torch.Size([1])"
     ]
    },
    {
     "name": "stderr",
     "output_type": "stream",
     "text": [
      "\r",
      "570it [00:33, 19.93it/s]"
     ]
    },
    {
     "name": "stdout",
     "output_type": "stream",
     "text": [
      " torch.Size([1, 1])\n",
      "torch.Size([1]) torch.Size([1, 1])\n",
      "torch.Size([1]) torch.Size([1, 1])\n",
      "torch.Size([1]) torch.Size([1, 1])\n"
     ]
    },
    {
     "name": "stderr",
     "output_type": "stream",
     "text": [
      "576it [00:33, 20.03it/s]"
     ]
    },
    {
     "name": "stdout",
     "output_type": "stream",
     "text": [
      "torch.Size([1]) torch.Size([1, 1])\n",
      "torch.Size([1]) torch.Size([1, 1])\n",
      "torch.Size([1]) torch.Size([1, 1])\n",
      "torch.Size([1]) torch.Size([1, 1])\n"
     ]
    },
    {
     "name": "stderr",
     "output_type": "stream",
     "text": [
      "\r",
      "579it [00:34, 20.31it/s]"
     ]
    },
    {
     "name": "stdout",
     "output_type": "stream",
     "text": [
      "torch.Size([1]) torch.Size([1, 1])\n",
      "torch.Size([1]) torch.Size([1, 1])\n",
      "torch.Size([1]) torch.Size([1, 1])\n",
      "torch.Size([1]) torch.Size([1, 1])\n",
      "torch.Size([1])"
     ]
    },
    {
     "name": "stderr",
     "output_type": "stream",
     "text": [
      "\r",
      "582it [00:34, 19.77it/s]"
     ]
    },
    {
     "name": "stdout",
     "output_type": "stream",
     "text": [
      " torch.Size([1, 1])\n",
      "torch.Size([1]) torch.Size([1, 1])\n",
      "torch.Size([1]) torch.Size([1, 1])\n",
      "torch.Size([1]) torch.Size([1, 1])\n",
      "torch.Size([1])"
     ]
    },
    {
     "name": "stderr",
     "output_type": "stream",
     "text": [
      "588it [00:34, 19.87it/s]"
     ]
    },
    {
     "name": "stdout",
     "output_type": "stream",
     "text": [
      " torch.Size([1, 1])\n",
      "torch.Size([1]) torch.Size([1, 1])\n",
      "torch.Size([1]) torch.Size([1, 1])\n",
      "torch.Size([1]) torch.Size([1, 1])\n"
     ]
    },
    {
     "name": "stderr",
     "output_type": "stream",
     "text": [
      "\r",
      "590it [00:34, 19.31it/s]"
     ]
    },
    {
     "name": "stdout",
     "output_type": "stream",
     "text": [
      "torch.Size([1]) torch.Size([1, 1])\n",
      "torch.Size([1]) torch.Size([1, 1])\n",
      "torch.Size([1]) torch.Size([1, 1])\n",
      "torch.Size([1]) torch.Size([1, 1])\n",
      "torch.Size([1])"
     ]
    },
    {
     "name": "stderr",
     "output_type": "stream",
     "text": [
      "595it [00:34, 19.33it/s]"
     ]
    },
    {
     "name": "stdout",
     "output_type": "stream",
     "text": [
      " torch.Size([1, 1])\n",
      "torch.Size([1]) torch.Size([1, 1])\n",
      "torch.Size([1]) torch.Size([1, 1])\n",
      "torch.Size([1]) torch.Size([1, 1])\n"
     ]
    },
    {
     "name": "stderr",
     "output_type": "stream",
     "text": [
      "600it [00:35, 19.10it/s]"
     ]
    },
    {
     "name": "stdout",
     "output_type": "stream",
     "text": [
      "torch.Size([1]) torch.Size([1, 1])\n",
      "torch.Size([1]) torch.Size([1, 1])\n",
      "torch.Size([1]) torch.Size([1, 1])\n",
      "torch.Size([1]) torch.Size([1, 1])\n",
      "torch.Size([1])"
     ]
    },
    {
     "name": "stderr",
     "output_type": "stream",
     "text": [
      "\r",
      "602it [00:35, 19.23it/s]"
     ]
    },
    {
     "name": "stdout",
     "output_type": "stream",
     "text": [
      " torch.Size([1, 1])\n",
      "torch.Size([1]) torch.Size([1, 1])\n",
      "torch.Size([1]) torch.Size([1, 1])\n",
      "torch.Size([1]) torch.Size([1, 1])\n"
     ]
    },
    {
     "name": "stderr",
     "output_type": "stream",
     "text": [
      "607it [00:35, 19.52it/s]"
     ]
    },
    {
     "name": "stdout",
     "output_type": "stream",
     "text": [
      "torch.Size([1]) torch.Size([1, 1])\n",
      "torch.Size([1]) torch.Size([1, 1])\n",
      "torch.Size([1]) torch.Size([1, 1])\n",
      "torch.Size([1]) torch.Size([1, 1])\n"
     ]
    },
    {
     "name": "stderr",
     "output_type": "stream",
     "text": [
      "612it [00:35, 19.76it/s]"
     ]
    },
    {
     "name": "stdout",
     "output_type": "stream",
     "text": [
      "torch.Size([1]) torch.Size([1, 1])\n",
      "torch.Size([1]) torch.Size([1, 1])\n",
      "torch.Size([1]) torch.Size([1, 1])\n",
      "torch.Size([1]) torch.Size([1, 1])\n",
      "torch.Size([1])"
     ]
    },
    {
     "name": "stderr",
     "output_type": "stream",
     "text": [
      "\r",
      "614it [00:35, 19.28it/s]"
     ]
    },
    {
     "name": "stdout",
     "output_type": "stream",
     "text": [
      " torch.Size([1, 1])\n",
      "torch.Size([1]) torch.Size([1, 1])\n",
      "torch.Size([1]) torch.Size([1, 1])\n",
      "torch.Size([1]) torch.Size([1, 1])\n"
     ]
    },
    {
     "name": "stderr",
     "output_type": "stream",
     "text": [
      "619it [00:36, 19.78it/s]"
     ]
    },
    {
     "name": "stdout",
     "output_type": "stream",
     "text": [
      "torch.Size([1]) torch.Size([1, 1])\n",
      "torch.Size([1]) torch.Size([1, 1])\n",
      "torch.Size([1]) torch.Size([1, 1])\n",
      "torch.Size([1]) torch.Size([1, 1])\n"
     ]
    },
    {
     "name": "stderr",
     "output_type": "stream",
     "text": [
      "624it [00:36, 19.58it/s]"
     ]
    },
    {
     "name": "stdout",
     "output_type": "stream",
     "text": [
      "torch.Size([1]) torch.Size([1, 1])\n",
      "torch.Size([1]) torch.Size([1, 1])\n",
      "torch.Size([1]) torch.Size([1, 1])\n",
      "torch.Size([1]) torch.Size([1, 1])\n",
      "torch.Size([1])"
     ]
    },
    {
     "name": "stderr",
     "output_type": "stream",
     "text": [
      "\r",
      "626it [00:36, 19.44it/s]"
     ]
    },
    {
     "name": "stdout",
     "output_type": "stream",
     "text": [
      " torch.Size([1, 1])\n",
      "torch.Size([1]) torch.Size([1, 1])\n",
      "torch.Size([1]) torch.Size([1, 1])\n",
      "torch.Size([1]) torch.Size([1, 1])\n",
      "torch.Size([1])"
     ]
    },
    {
     "name": "stderr",
     "output_type": "stream",
     "text": [
      "632it [00:36, 19.93it/s]"
     ]
    },
    {
     "name": "stdout",
     "output_type": "stream",
     "text": [
      " torch.Size([1, 1])\n",
      "torch.Size([1]) torch.Size([1, 1])\n",
      "torch.Size([1]) torch.Size([1, 1])\n",
      "torch.Size([1]) torch.Size([1, 1])\n"
     ]
    },
    {
     "name": "stderr",
     "output_type": "stream",
     "text": [
      "636it [00:36, 18.85it/s]"
     ]
    },
    {
     "name": "stdout",
     "output_type": "stream",
     "text": [
      "torch.Size([1]) torch.Size([1, 1])\n",
      "torch.Size([1]) torch.Size([1, 1])\n",
      "torch.Size([1]) torch.Size([1, 1])\n",
      "torch.Size([1]) torch.Size([1, 1])\n"
     ]
    },
    {
     "name": "stderr",
     "output_type": "stream",
     "text": [
      "640it [00:37, 18.71it/s]"
     ]
    },
    {
     "name": "stdout",
     "output_type": "stream",
     "text": [
      "torch.Size([1]) torch.Size([1, 1])\n",
      "torch.Size([1]) torch.Size([1, 1])\n",
      "torch.Size([1]) torch.Size([1, 1])\n",
      "torch.Size([1]) torch.Size([1, 1])\n"
     ]
    },
    {
     "name": "stderr",
     "output_type": "stream",
     "text": [
      "\r",
      "643it [00:37, 19.40it/s]"
     ]
    },
    {
     "name": "stdout",
     "output_type": "stream",
     "text": [
      "torch.Size([1]) torch.Size([1, 1])\n",
      "torch.Size([1]) torch.Size([1, 1])\n",
      "torch.Size([1]) torch.Size([1, 1])\n",
      "torch.Size([1]) torch.Size([1, 1])\n",
      "torch.Size([1])"
     ]
    },
    {
     "name": "stderr",
     "output_type": "stream",
     "text": [
      "647it [00:37, 19.23it/s]"
     ]
    },
    {
     "name": "stdout",
     "output_type": "stream",
     "text": [
      " torch.Size([1, 1])\n",
      "torch.Size([1]) torch.Size([1, 1])\n",
      "torch.Size([1]) torch.Size([1, 1])\n",
      "torch.Size([1]) torch.Size([1, 1])\n",
      "torch.Size([1])"
     ]
    },
    {
     "name": "stderr",
     "output_type": "stream",
     "text": [
      "651it [00:37, 18.89it/s]"
     ]
    },
    {
     "name": "stdout",
     "output_type": "stream",
     "text": [
      " torch.Size([1, 1])\n",
      "torch.Size([1]) torch.Size([1, 1])\n",
      "torch.Size([1]) torch.Size([1, 1])\n",
      "torch.Size([1]) torch.Size([1, 1])\n"
     ]
    },
    {
     "name": "stderr",
     "output_type": "stream",
     "text": [
      "656it [00:37, 19.72it/s]"
     ]
    },
    {
     "name": "stdout",
     "output_type": "stream",
     "text": [
      "torch.Size([1]) torch.Size([1, 1])\n",
      "torch.Size([1]) torch.Size([1, 1])\n",
      "torch.Size([1]) torch.Size([1, 1])\n",
      "torch.Size([1]) torch.Size([1, 1])\n",
      "torch.Size([1])"
     ]
    },
    {
     "name": "stderr",
     "output_type": "stream",
     "text": [
      "\r",
      "658it [00:38, 19.23it/s]"
     ]
    },
    {
     "name": "stdout",
     "output_type": "stream",
     "text": [
      " torch.Size([1, 1])\n",
      "torch.Size([1]) torch.Size([1, 1])\n",
      "torch.Size([1]) torch.Size([1, 1])\n",
      "torch.Size([1]) torch.Size([1, 1])\n",
      "torch.Size([1])"
     ]
    },
    {
     "name": "stderr",
     "output_type": "stream",
     "text": [
      "663it [00:38, 19.36it/s]"
     ]
    },
    {
     "name": "stdout",
     "output_type": "stream",
     "text": [
      " torch.Size([1, 1])\n",
      "torch.Size([1]) torch.Size([1, 1])\n",
      "torch.Size([1]) torch.Size([1, 1])\n",
      "torch.Size([1]) torch.Size([1, 1])\n"
     ]
    },
    {
     "name": "stderr",
     "output_type": "stream",
     "text": [
      "667it [00:38, 16.86it/s]"
     ]
    },
    {
     "name": "stdout",
     "output_type": "stream",
     "text": [
      "torch.Size([1]) torch.Size([1, 1])\n",
      "torch.Size([1]) torch.Size([1, 1])\n",
      "torch.Size([1]) torch.Size([1, 1])\n"
     ]
    },
    {
     "name": "stderr",
     "output_type": "stream",
     "text": [
      "671it [00:38, 17.18it/s]"
     ]
    },
    {
     "name": "stdout",
     "output_type": "stream",
     "text": [
      "torch.Size([1]) torch.Size([1, 1])\n",
      "torch.Size([1]) torch.Size([1, 1])\n",
      "torch.Size([1]) torch.Size([1, 1])\n",
      "torch.Size([1]) torch.Size([1, 1])\n"
     ]
    },
    {
     "name": "stderr",
     "output_type": "stream",
     "text": [
      "675it [00:39, 17.92it/s]"
     ]
    },
    {
     "name": "stdout",
     "output_type": "stream",
     "text": [
      "torch.Size([1]) torch.Size([1, 1])\n",
      "torch.Size([1]) torch.Size([1, 1])\n",
      "torch.Size([1]) torch.Size([1, 1])\n",
      "torch.Size([1]) torch.Size([1, 1])\n"
     ]
    },
    {
     "name": "stderr",
     "output_type": "stream",
     "text": [
      "679it [00:39, 18.24it/s]"
     ]
    },
    {
     "name": "stdout",
     "output_type": "stream",
     "text": [
      "torch.Size([1]) torch.Size([1, 1])\n",
      "torch.Size([1]) torch.Size([1, 1])\n",
      "torch.Size([1]) torch.Size([1, 1])\n",
      "torch.Size([1]) torch.Size([1, 1])\n",
      "torch.Size([1])"
     ]
    },
    {
     "name": "stderr",
     "output_type": "stream",
     "text": [
      "683it [00:39, 18.65it/s]"
     ]
    },
    {
     "name": "stdout",
     "output_type": "stream",
     "text": [
      " torch.Size([1, 1])\n",
      "torch.Size([1]) torch.Size([1, 1])\n",
      "torch.Size([1]) torch.Size([1, 1])\n",
      "torch.Size([1]) torch.Size([1, 1])\n"
     ]
    },
    {
     "name": "stderr",
     "output_type": "stream",
     "text": [
      "\r",
      "686it [00:39, 19.23it/s]"
     ]
    },
    {
     "name": "stdout",
     "output_type": "stream",
     "text": [
      "torch.Size([1]) torch.Size([1, 1])\n",
      "torch.Size([1]) torch.Size([1, 1])\n",
      "torch.Size([1]) torch.Size([1, 1])\n",
      "torch.Size([1]) torch.Size([1, 1])\n",
      "torch.Size([1])"
     ]
    },
    {
     "name": "stderr",
     "output_type": "stream",
     "text": [
      "690it [00:39, 19.54it/s]"
     ]
    },
    {
     "name": "stdout",
     "output_type": "stream",
     "text": [
      " torch.Size([1, 1])\n",
      "torch.Size([1]) torch.Size([1, 1])\n",
      "torch.Size([1]) torch.Size([1, 1])\n",
      "torch.Size([1]) torch.Size([1, 1])\n"
     ]
    },
    {
     "name": "stderr",
     "output_type": "stream",
     "text": [
      "695it [00:40, 19.54it/s]"
     ]
    },
    {
     "name": "stdout",
     "output_type": "stream",
     "text": [
      "torch.Size([1]) torch.Size([1, 1])\n",
      "torch.Size([1]) torch.Size([1, 1])\n",
      "torch.Size([1]) torch.Size([1, 1])\n",
      "torch.Size([1]) torch.Size([1, 1])\n"
     ]
    },
    {
     "name": "stderr",
     "output_type": "stream",
     "text": [
      "\r",
      "697it [00:40, 19.31it/s]"
     ]
    },
    {
     "name": "stdout",
     "output_type": "stream",
     "text": [
      "torch.Size([1]) torch.Size([1, 1])\n",
      "torch.Size([1]) torch.Size([1, 1])\n",
      "torch.Size([1]) torch.Size([1, 1])\n",
      "torch.Size([1]) torch.Size([1, 1])\n",
      "torch.Size([1])"
     ]
    },
    {
     "name": "stderr",
     "output_type": "stream",
     "text": [
      "702it [00:40, 19.57it/s]"
     ]
    },
    {
     "name": "stdout",
     "output_type": "stream",
     "text": [
      " torch.Size([1, 1])\n",
      "torch.Size([1]) torch.Size([1, 1])\n",
      "torch.Size([1]) torch.Size([1, 1])\n",
      "torch.Size([1]) torch.Size([1, 1])\n"
     ]
    },
    {
     "name": "stderr",
     "output_type": "stream",
     "text": [
      "707it [00:40, 19.40it/s]"
     ]
    },
    {
     "name": "stdout",
     "output_type": "stream",
     "text": [
      "torch.Size([1]) torch.Size([1, 1])\n",
      "torch.Size([1]) torch.Size([1, 1])\n",
      "torch.Size([1]) torch.Size([1, 1])\n",
      "torch.Size([1]) torch.Size([1, 1])\n"
     ]
    },
    {
     "name": "stderr",
     "output_type": "stream",
     "text": [
      "711it [00:40, 19.54it/s]"
     ]
    },
    {
     "name": "stdout",
     "output_type": "stream",
     "text": [
      "torch.Size([1]) torch.Size([1, 1])\n",
      "torch.Size([1]) torch.Size([1, 1])\n",
      "torch.Size([1]) torch.Size([1, 1])\n",
      "torch.Size([1]) torch.Size([1, 1])\n",
      "torch.Size([1])"
     ]
    },
    {
     "name": "stderr",
     "output_type": "stream",
     "text": [
      "\r",
      "714it [00:41, 19.98it/s]"
     ]
    },
    {
     "name": "stdout",
     "output_type": "stream",
     "text": [
      " torch.Size([1, 1])\n",
      "torch.Size([1]) torch.Size([1, 1])\n",
      "torch.Size([1]) torch.Size([1, 1])\n",
      "torch.Size([1]) torch.Size([1, 1])\n",
      "torch.Size([1])"
     ]
    },
    {
     "name": "stderr",
     "output_type": "stream",
     "text": [
      "719it [00:41, 19.31it/s]"
     ]
    },
    {
     "name": "stdout",
     "output_type": "stream",
     "text": [
      " torch.Size([1, 1])\n",
      "torch.Size([1]) torch.Size([1, 1])\n",
      "torch.Size([1]) torch.Size([1, 1])\n",
      "torch.Size([1]) torch.Size([1, 1])\n"
     ]
    },
    {
     "name": "stderr",
     "output_type": "stream",
     "text": [
      "\r",
      "722it [00:41, 19.10it/s]"
     ]
    },
    {
     "name": "stdout",
     "output_type": "stream",
     "text": [
      "torch.Size([1]) torch.Size([1, 1])\n",
      "torch.Size([1]) torch.Size([1, 1])\n",
      "torch.Size([1]) torch.Size([1, 1])\n",
      "torch.Size([1]) torch.Size([1, 1])\n"
     ]
    },
    {
     "name": "stderr",
     "output_type": "stream",
     "text": [
      "727it [00:41, 19.47it/s]"
     ]
    },
    {
     "name": "stdout",
     "output_type": "stream",
     "text": [
      "torch.Size([1]) torch.Size([1, 1])\n",
      "torch.Size([1]) torch.Size([1, 1])\n",
      "torch.Size([1]) torch.Size([1, 1])\n",
      "torch.Size([1]) torch.Size([1, 1])\n",
      "torch.Size([1])"
     ]
    },
    {
     "name": "stderr",
     "output_type": "stream",
     "text": [
      "\r",
      "729it [00:41, 18.59it/s]"
     ]
    },
    {
     "name": "stdout",
     "output_type": "stream",
     "text": [
      " torch.Size([1, 1])\n",
      "torch.Size([1]) torch.Size([1, 1])\n",
      "torch.Size([1]) torch.Size([1, 1])\n",
      "torch.Size([1]) torch.Size([1, 1])\n"
     ]
    },
    {
     "name": "stderr",
     "output_type": "stream",
     "text": [
      "734it [00:42, 18.51it/s]"
     ]
    },
    {
     "name": "stdout",
     "output_type": "stream",
     "text": [
      "torch.Size([1]) torch.Size([1, 1])\n",
      "torch.Size([1]) torch.Size([1, 1])\n",
      "torch.Size([1]) torch.Size([1, 1])\n",
      "torch.Size([1]) torch.Size([1, 1])\n",
      "torch.Size([1])"
     ]
    },
    {
     "name": "stderr",
     "output_type": "stream",
     "text": [
      "\r",
      "737it [00:42, 19.01it/s]"
     ]
    },
    {
     "name": "stdout",
     "output_type": "stream",
     "text": [
      " torch.Size([1, 1])\n",
      "torch.Size([1]) torch.Size([1, 1])\n",
      "torch.Size([1]) torch.Size([1, 1])\n",
      "torch.Size([1]) torch.Size([1, 1])\n"
     ]
    },
    {
     "name": "stderr",
     "output_type": "stream",
     "text": [
      "743it [00:42, 20.13it/s]"
     ]
    },
    {
     "name": "stdout",
     "output_type": "stream",
     "text": [
      "torch.Size([1]) torch.Size([1, 1])\n",
      "torch.Size([1]) torch.Size([1, 1])\n",
      "torch.Size([1]) torch.Size([1, 1])\n",
      "torch.Size([1]) torch.Size([1, 1])\n",
      "torch.Size([1])"
     ]
    },
    {
     "name": "stderr",
     "output_type": "stream",
     "text": [
      "\r",
      "746it [00:42, 19.20it/s]"
     ]
    },
    {
     "name": "stdout",
     "output_type": "stream",
     "text": [
      " torch.Size([1, 1])\n",
      "torch.Size([1]) torch.Size([1, 1])\n",
      "torch.Size([1]) torch.Size([1, 1])\n",
      "torch.Size([1]) torch.Size([1, 1])\n"
     ]
    },
    {
     "name": "stderr",
     "output_type": "stream",
     "text": [
      "750it [00:42, 18.16it/s]"
     ]
    },
    {
     "name": "stdout",
     "output_type": "stream",
     "text": [
      "torch.Size([1]) torch.Size([1, 1])\n",
      "torch.Size([1]) torch.Size([1, 1])\n",
      "torch.Size([1]) torch.Size([1, 1])\n",
      "torch.Size([1]) torch.Size([1, 1])\n"
     ]
    },
    {
     "name": "stderr",
     "output_type": "stream",
     "text": [
      "754it [00:43, 18.25it/s]"
     ]
    },
    {
     "name": "stdout",
     "output_type": "stream",
     "text": [
      "torch.Size([1]) torch.Size([1, 1])\n",
      "torch.Size([1]) torch.Size([1, 1])\n",
      "torch.Size([1]) torch.Size([1, 1])\n",
      "torch.Size([1]) torch.Size([1, 1])\n",
      "torch.Size([1])"
     ]
    },
    {
     "name": "stderr",
     "output_type": "stream",
     "text": [
      "758it [00:43, 18.46it/s]"
     ]
    },
    {
     "name": "stdout",
     "output_type": "stream",
     "text": [
      " torch.Size([1, 1])\n",
      "torch.Size([1]) torch.Size([1, 1])\n",
      "torch.Size([1]) torch.Size([1, 1])\n",
      "torch.Size([1]) torch.Size([1, 1])\n"
     ]
    },
    {
     "name": "stderr",
     "output_type": "stream",
     "text": [
      "763it [00:43, 18.90it/s]"
     ]
    },
    {
     "name": "stdout",
     "output_type": "stream",
     "text": [
      "torch.Size([1]) torch.Size([1, 1])\n",
      "torch.Size([1]) torch.Size([1, 1])\n",
      "torch.Size([1]) torch.Size([1, 1])\n",
      "torch.Size([1]) torch.Size([1, 1])\n",
      "torch.Size([1])"
     ]
    },
    {
     "name": "stderr",
     "output_type": "stream",
     "text": [
      "767it [00:43, 19.25it/s]"
     ]
    },
    {
     "name": "stdout",
     "output_type": "stream",
     "text": [
      " torch.Size([1, 1])\n",
      "torch.Size([1]) torch.Size([1, 1])\n",
      "torch.Size([1]) torch.Size([1, 1])\n",
      "torch.Size([1]) torch.Size([1, 1])\n"
     ]
    },
    {
     "name": "stderr",
     "output_type": "stream",
     "text": [
      "\r",
      "769it [00:43, 18.81it/s]"
     ]
    },
    {
     "name": "stdout",
     "output_type": "stream",
     "text": [
      "torch.Size([1]) torch.Size([1, 1])\n",
      "torch.Size([1]) torch.Size([1, 1])\n",
      "torch.Size([1]) torch.Size([1, 1])\n",
      "torch.Size([1]) torch.Size([1, 1])\n",
      "torch.Size([1])"
     ]
    },
    {
     "name": "stderr",
     "output_type": "stream",
     "text": [
      "774it [00:44, 18.83it/s]"
     ]
    },
    {
     "name": "stdout",
     "output_type": "stream",
     "text": [
      " torch.Size([1, 1])\n",
      "torch.Size([1]) torch.Size([1, 1])\n",
      "torch.Size([1]) torch.Size([1, 1])\n",
      "torch.Size([1])"
     ]
    },
    {
     "name": "stderr",
     "output_type": "stream",
     "text": [
      "\r",
      "776it [00:44, 18.31it/s]"
     ]
    },
    {
     "name": "stdout",
     "output_type": "stream",
     "text": [
      " torch.Size([1, 1])\n",
      "torch.Size([1]) torch.Size([1, 1])\n",
      "torch.Size([1]) torch.Size([1, 1])\n",
      "torch.Size([1]) torch.Size([1, 1])\n",
      "torch.Size([1])"
     ]
    },
    {
     "name": "stderr",
     "output_type": "stream",
     "text": [
      "781it [00:44, 18.50it/s]"
     ]
    },
    {
     "name": "stdout",
     "output_type": "stream",
     "text": [
      " torch.Size([1, 1])\n",
      "torch.Size([1]) torch.Size([1, 1])\n",
      "torch.Size([1]) torch.Size([1, 1])\n",
      "torch.Size([1]) torch.Size([1, 1])\n"
     ]
    },
    {
     "name": "stderr",
     "output_type": "stream",
     "text": [
      "785it [00:44, 18.45it/s]"
     ]
    },
    {
     "name": "stdout",
     "output_type": "stream",
     "text": [
      "torch.Size([1]) torch.Size([1, 1])\n",
      "torch.Size([1]) torch.Size([1, 1])\n",
      "torch.Size([1]) torch.Size([1, 1])\n",
      "torch.Size([1]) torch.Size([1, 1])\n"
     ]
    },
    {
     "name": "stderr",
     "output_type": "stream",
     "text": [
      "790it [00:45, 18.69it/s]"
     ]
    },
    {
     "name": "stdout",
     "output_type": "stream",
     "text": [
      "torch.Size([1]) torch.Size([1, 1])\n",
      "torch.Size([1]) torch.Size([1, 1])\n",
      "torch.Size([1]) torch.Size([1, 1])\n",
      "torch.Size([1]) torch.Size([1, 1])\n",
      "torch.Size([1])"
     ]
    },
    {
     "name": "stderr",
     "output_type": "stream",
     "text": [
      "794it [00:45, 18.53it/s]"
     ]
    },
    {
     "name": "stdout",
     "output_type": "stream",
     "text": [
      " torch.Size([1, 1])\n",
      "torch.Size([1]) torch.Size([1, 1])\n",
      "torch.Size([1]) torch.Size([1, 1])\n",
      "torch.Size([1]) torch.Size([1, 1])\n"
     ]
    },
    {
     "name": "stderr",
     "output_type": "stream",
     "text": [
      "798it [00:45, 17.81it/s]"
     ]
    },
    {
     "name": "stdout",
     "output_type": "stream",
     "text": [
      "torch.Size([1]) torch.Size([1, 1])\n",
      "torch.Size([1]) torch.Size([1, 1])\n",
      "torch.Size([1]) torch.Size([1, 1])\n",
      "torch.Size([1]) torch.Size([1, 1])\n",
      "torch.Size([1])"
     ]
    },
    {
     "name": "stderr",
     "output_type": "stream",
     "text": [
      "\r",
      "800it [00:45, 18.37it/s]"
     ]
    },
    {
     "name": "stdout",
     "output_type": "stream",
     "text": [
      " torch.Size([1, 1])\n",
      "torch.Size([1]) torch.Size([1, 1])\n",
      "torch.Size([1]) torch.Size([1, 1])\n",
      "torch.Size([1]) torch.Size([1, 1])\n"
     ]
    },
    {
     "name": "stderr",
     "output_type": "stream",
     "text": [
      "805it [00:45, 18.61it/s]"
     ]
    },
    {
     "name": "stdout",
     "output_type": "stream",
     "text": [
      "torch.Size([1]) torch.Size([1, 1])\n",
      "torch.Size([1]) torch.Size([1, 1])\n",
      "torch.Size([1]) torch.Size([1, 1])\n",
      "torch.Size([1]) torch.Size([1, 1])\n"
     ]
    },
    {
     "name": "stderr",
     "output_type": "stream",
     "text": [
      "809it [00:46, 16.44it/s]"
     ]
    },
    {
     "name": "stdout",
     "output_type": "stream",
     "text": [
      "torch.Size([1]) torch.Size([1, 1])\n",
      "torch.Size([1]) torch.Size([1, 1])\n",
      "torch.Size([1]) torch.Size([1, 1])\n",
      "torch.Size([1])"
     ]
    },
    {
     "name": "stderr",
     "output_type": "stream",
     "text": [
      "\r",
      "811it [00:46, 16.44it/s]"
     ]
    },
    {
     "name": "stdout",
     "output_type": "stream",
     "text": [
      " torch.Size([1, 1])\n",
      "torch.Size([1]) torch.Size([1, 1])\n",
      "torch.Size([1]) torch.Size([1, 1])\n"
     ]
    },
    {
     "name": "stderr",
     "output_type": "stream",
     "text": [
      "815it [00:46, 14.98it/s]"
     ]
    },
    {
     "name": "stdout",
     "output_type": "stream",
     "text": [
      "torch.Size([1]) torch.Size([1, 1])\n",
      "torch.Size([1]) torch.Size([1, 1])\n",
      "torch.Size([1]) torch.Size([1, 1])\n"
     ]
    },
    {
     "name": "stderr",
     "output_type": "stream",
     "text": [
      "819it [00:46, 15.70it/s]"
     ]
    },
    {
     "name": "stdout",
     "output_type": "stream",
     "text": [
      "torch.Size([1]) torch.Size([1, 1])\n",
      "torch.Size([1]) torch.Size([1, 1])\n",
      "torch.Size([1]) torch.Size([1, 1])\n",
      "torch.Size([1]) torch.Size([1, 1])\n"
     ]
    },
    {
     "name": "stderr",
     "output_type": "stream",
     "text": [
      "\r",
      "822it [00:46, 16.65it/s]"
     ]
    },
    {
     "name": "stdout",
     "output_type": "stream",
     "text": [
      "torch.Size([1]) torch.Size([1, 1])\n",
      "torch.Size([1]) torch.Size([1, 1])\n",
      "torch.Size([1]) torch.Size([1, 1])\n",
      "torch.Size([1]) torch.Size([1, 1])\n"
     ]
    },
    {
     "name": "stderr",
     "output_type": "stream",
     "text": [
      "827it [00:47, 17.95it/s]"
     ]
    },
    {
     "name": "stdout",
     "output_type": "stream",
     "text": [
      "torch.Size([1]) torch.Size([1, 1])\n",
      "torch.Size([1]) torch.Size([1, 1])\n",
      "torch.Size([1]) torch.Size([1, 1])\n",
      "torch.Size([1]) torch.Size([1, 1])\n"
     ]
    },
    {
     "name": "stderr",
     "output_type": "stream",
     "text": [
      "\r",
      "829it [00:47, 18.13it/s]"
     ]
    },
    {
     "name": "stdout",
     "output_type": "stream",
     "text": [
      "torch.Size([1]) torch.Size([1, 1])\n",
      "torch.Size([1]) torch.Size([1, 1])\n",
      "torch.Size([1]) torch.Size([1, 1])\n",
      "torch.Size([1]) torch.Size([1, 1])\n"
     ]
    },
    {
     "name": "stderr",
     "output_type": "stream",
     "text": [
      "835it [00:47, 19.32it/s]"
     ]
    },
    {
     "name": "stdout",
     "output_type": "stream",
     "text": [
      "torch.Size([1]) torch.Size([1, 1])\n",
      "torch.Size([1]) torch.Size([1, 1])\n",
      "torch.Size([1]) torch.Size([1, 1])\n",
      "torch.Size([1]) torch.Size([1, 1])\n",
      "torch.Size([1])"
     ]
    },
    {
     "name": "stderr",
     "output_type": "stream",
     "text": [
      "\r",
      "837it [00:47, 19.12it/s]"
     ]
    },
    {
     "name": "stdout",
     "output_type": "stream",
     "text": [
      " torch.Size([1, 1])\n",
      "torch.Size([1]) torch.Size([1, 1])\n",
      "torch.Size([1]) torch.Size([1, 1])\n",
      "torch.Size([1]) torch.Size([1, 1])\n",
      "torch.Size([1])"
     ]
    },
    {
     "name": "stderr",
     "output_type": "stream",
     "text": [
      "843it [00:48, 19.73it/s]"
     ]
    },
    {
     "name": "stdout",
     "output_type": "stream",
     "text": [
      " torch.Size([1, 1])\n",
      "torch.Size([1]) torch.Size([1, 1])\n",
      "torch.Size([1]) torch.Size([1, 1])\n",
      "torch.Size([1]) torch.Size([1, 1])\n",
      "torch.Size([1])"
     ]
    },
    {
     "name": "stderr",
     "output_type": "stream",
     "text": [
      "\r",
      "845it [00:48, 19.52it/s]"
     ]
    },
    {
     "name": "stdout",
     "output_type": "stream",
     "text": [
      " torch.Size([1, 1])\n",
      "torch.Size([1]) torch.Size([1, 1])\n",
      "torch.Size([1]) torch.Size([1, 1])\n",
      "torch.Size([1]) torch.Size([1, 1])\n"
     ]
    },
    {
     "name": "stderr",
     "output_type": "stream",
     "text": [
      "851it [00:48, 19.91it/s]"
     ]
    },
    {
     "name": "stdout",
     "output_type": "stream",
     "text": [
      "torch.Size([1]) torch.Size([1, 1])\n",
      "torch.Size([1]) torch.Size([1, 1])\n",
      "torch.Size([1]) torch.Size([1, 1])\n",
      "torch.Size([1]) torch.Size([1, 1])\n",
      "torch.Size([1])"
     ]
    },
    {
     "name": "stderr",
     "output_type": "stream",
     "text": [
      "\r",
      "853it [00:48, 19.28it/s]"
     ]
    },
    {
     "name": "stdout",
     "output_type": "stream",
     "text": [
      " torch.Size([1, 1])\n",
      "torch.Size([1]) torch.Size([1, 1])\n",
      "torch.Size([1]) torch.Size([1, 1])\n",
      "torch.Size([1]) torch.Size([1, 1])\n"
     ]
    },
    {
     "name": "stderr",
     "output_type": "stream",
     "text": [
      "859it [00:48, 19.79it/s]"
     ]
    },
    {
     "name": "stdout",
     "output_type": "stream",
     "text": [
      "torch.Size([1]) torch.Size([1, 1])\n",
      "torch.Size([1]) torch.Size([1, 1])\n",
      "torch.Size([1]) torch.Size([1, 1])\n",
      "torch.Size([1]) torch.Size([1, 1])\n",
      "torch.Size([1])"
     ]
    },
    {
     "name": "stderr",
     "output_type": "stream",
     "text": [
      "\r",
      "861it [00:48, 19.72it/s]"
     ]
    },
    {
     "name": "stdout",
     "output_type": "stream",
     "text": [
      " torch.Size([1, 1])\n",
      "torch.Size([1]) torch.Size([1, 1])\n",
      "torch.Size([1]) torch.Size([1, 1])\n",
      "torch.Size([1]) torch.Size([1, 1])\n",
      "torch.Size([1])"
     ]
    },
    {
     "name": "stderr",
     "output_type": "stream",
     "text": [
      "867it [00:49, 20.09it/s]"
     ]
    },
    {
     "name": "stdout",
     "output_type": "stream",
     "text": [
      " torch.Size([1, 1])\n",
      "torch.Size([1]) torch.Size([1, 1])\n",
      "torch.Size([1]) torch.Size([1, 1])\n",
      "torch.Size([1]) torch.Size([1, 1])\n",
      "torch.Size([1])"
     ]
    },
    {
     "name": "stderr",
     "output_type": "stream",
     "text": [
      "\r",
      "870it [00:49, 19.22it/s]"
     ]
    },
    {
     "name": "stdout",
     "output_type": "stream",
     "text": [
      " torch.Size([1, 1])\n",
      "torch.Size([1]) torch.Size([1, 1])\n",
      "torch.Size([1]) torch.Size([1, 1])\n",
      "torch.Size([1]) torch.Size([1, 1])\n"
     ]
    },
    {
     "name": "stderr",
     "output_type": "stream",
     "text": [
      "\r",
      "873it [00:49, 19.74it/s]"
     ]
    },
    {
     "name": "stdout",
     "output_type": "stream",
     "text": [
      "torch.Size([1]) torch.Size([1, 1])\n",
      "torch.Size([1]) torch.Size([1, 1])\n",
      "torch.Size([1]) torch.Size([1, 1])\n",
      "torch.Size([1]) torch.Size([1, 1])\n",
      "torch.Size([1])"
     ]
    },
    {
     "name": "stderr",
     "output_type": "stream",
     "text": [
      "879it [00:49, 20.25it/s]"
     ]
    },
    {
     "name": "stdout",
     "output_type": "stream",
     "text": [
      " torch.Size([1, 1])\n",
      "torch.Size([1]) torch.Size([1, 1])\n",
      "torch.Size([1]) torch.Size([1, 1])\n",
      "torch.Size([1]) torch.Size([1, 1])\n"
     ]
    },
    {
     "name": "stderr",
     "output_type": "stream",
     "text": [
      "\r",
      "882it [00:50, 19.72it/s]"
     ]
    },
    {
     "name": "stdout",
     "output_type": "stream",
     "text": [
      "torch.Size([1]) torch.Size([1, 1])\n",
      "torch.Size([1]) torch.Size([1, 1])\n",
      "torch.Size([1]) torch.Size([1, 1])\n",
      "torch.Size([1]) torch.Size([1, 1])\n"
     ]
    },
    {
     "name": "stderr",
     "output_type": "stream",
     "text": [
      "\r",
      "885it [00:50, 19.89it/s]"
     ]
    },
    {
     "name": "stdout",
     "output_type": "stream",
     "text": [
      "torch.Size([1]) torch.Size([1, 1])\n",
      "torch.Size([1]) torch.Size([1, 1])\n",
      "torch.Size([1]) torch.Size([1, 1])\n",
      "torch.Size([1]) torch.Size([1, 1])\n",
      "torch.Size([1])"
     ]
    },
    {
     "name": "stderr",
     "output_type": "stream",
     "text": [
      "891it [00:50, 20.70it/s]"
     ]
    },
    {
     "name": "stdout",
     "output_type": "stream",
     "text": [
      " torch.Size([1, 1])\n",
      "torch.Size([1]) torch.Size([1, 1])\n",
      "torch.Size([1]) torch.Size([1, 1])\n",
      "torch.Size([1]) torch.Size([1, 1])\n",
      "torch.Size([1])"
     ]
    },
    {
     "name": "stderr",
     "output_type": "stream",
     "text": [
      "\r",
      "894it [00:50, 20.48it/s]"
     ]
    },
    {
     "name": "stdout",
     "output_type": "stream",
     "text": [
      " torch.Size([1, 1])\n",
      "torch.Size([1]) torch.Size([1, 1])\n",
      "torch.Size([1]) torch.Size([1, 1])\n",
      "torch.Size([1]) torch.Size([1, 1])\n",
      "torch.Size([1])"
     ]
    },
    {
     "name": "stderr",
     "output_type": "stream",
     "text": [
      "899it [00:50, 18.95it/s]"
     ]
    },
    {
     "name": "stdout",
     "output_type": "stream",
     "text": [
      " torch.Size([1, 1])\n",
      "torch.Size([1]) torch.Size([1, 1])\n",
      "torch.Size([1]) torch.Size([1, 1])\n",
      "torch.Size([1]) torch.Size([1, 1])\n"
     ]
    },
    {
     "name": "stderr",
     "output_type": "stream",
     "text": [
      "\r",
      "901it [00:51, 17.96it/s]"
     ]
    },
    {
     "name": "stdout",
     "output_type": "stream",
     "text": [
      "torch.Size([1]) torch.Size([1, 1])\n",
      "torch.Size([1]) torch.Size([1, 1])\n",
      "torch.Size([1]) torch.Size([1, 1])\n",
      "torch.Size([1])"
     ]
    },
    {
     "name": "stderr",
     "output_type": "stream",
     "text": [
      "905it [00:51, 18.13it/s]"
     ]
    },
    {
     "name": "stdout",
     "output_type": "stream",
     "text": [
      " torch.Size([1, 1])\n",
      "torch.Size([1]) torch.Size([1, 1])\n",
      "torch.Size([1]) torch.Size([1, 1])\n",
      "torch.Size([1]) torch.Size([1, 1])\n"
     ]
    },
    {
     "name": "stderr",
     "output_type": "stream",
     "text": [
      "909it [00:51, 18.50it/s]"
     ]
    },
    {
     "name": "stdout",
     "output_type": "stream",
     "text": [
      "torch.Size([1]) torch.Size([1, 1])\n",
      "torch.Size([1]) torch.Size([1, 1])\n",
      "torch.Size([1]) torch.Size([1, 1])\n",
      "torch.Size([1]) torch.Size([1, 1])\n"
     ]
    },
    {
     "name": "stderr",
     "output_type": "stream",
     "text": [
      "913it [00:51, 18.39it/s]"
     ]
    },
    {
     "name": "stdout",
     "output_type": "stream",
     "text": [
      "torch.Size([1]) torch.Size([1, 1])\n",
      "torch.Size([1]) torch.Size([1, 1])\n",
      "torch.Size([1]) torch.Size([1, 1])\n",
      "torch.Size([1]) torch.Size([1, 1])\n",
      "torch.Size([1])"
     ]
    },
    {
     "name": "stderr",
     "output_type": "stream",
     "text": [
      "\r",
      "916it [00:51, 19.32it/s]"
     ]
    },
    {
     "name": "stdout",
     "output_type": "stream",
     "text": [
      " torch.Size([1, 1])\n",
      "torch.Size([1]) torch.Size([1, 1])\n",
      "torch.Size([1]) torch.Size([1, 1])\n",
      "torch.Size([1]) torch.Size([1, 1])\n",
      "torch.Size([1])"
     ]
    },
    {
     "name": "stderr",
     "output_type": "stream",
     "text": [
      "921it [00:52, 19.63it/s]"
     ]
    },
    {
     "name": "stdout",
     "output_type": "stream",
     "text": [
      " torch.Size([1, 1])\n",
      "torch.Size([1]) torch.Size([1, 1])\n",
      "torch.Size([1]) torch.Size([1, 1])\n",
      "torch.Size([1]) torch.Size([1, 1])\n"
     ]
    },
    {
     "name": "stderr",
     "output_type": "stream",
     "text": [
      "926it [00:52, 20.34it/s]"
     ]
    },
    {
     "name": "stdout",
     "output_type": "stream",
     "text": [
      "torch.Size([1]) torch.Size([1, 1])\n",
      "torch.Size([1]) torch.Size([1, 1])\n",
      "torch.Size([1]) torch.Size([1, 1])\n",
      "torch.Size([1]) torch.Size([1, 1])\n",
      "torch.Size([1])"
     ]
    },
    {
     "name": "stderr",
     "output_type": "stream",
     "text": [
      "\r",
      "929it [00:52, 20.35it/s]"
     ]
    },
    {
     "name": "stdout",
     "output_type": "stream",
     "text": [
      " torch.Size([1, 1])\n",
      "torch.Size([1]) torch.Size([1, 1])\n",
      "torch.Size([1]) torch.Size([1, 1])\n",
      "torch.Size([1]) torch.Size([1, 1])\n"
     ]
    },
    {
     "name": "stderr",
     "output_type": "stream",
     "text": [
      "\r",
      "932it [00:52, 20.49it/s]"
     ]
    },
    {
     "name": "stdout",
     "output_type": "stream",
     "text": [
      "torch.Size([1]) torch.Size([1, 1])\n",
      "torch.Size([1]) torch.Size([1, 1])\n",
      "torch.Size([1]) torch.Size([1, 1])\n",
      "torch.Size([1]) torch.Size([1, 1])\n",
      "torch.Size([1])"
     ]
    },
    {
     "name": "stderr",
     "output_type": "stream",
     "text": [
      "938it [00:52, 20.76it/s]"
     ]
    },
    {
     "name": "stdout",
     "output_type": "stream",
     "text": [
      " torch.Size([1, 1])\n",
      "torch.Size([1]) torch.Size([1, 1])\n",
      "torch.Size([1]) torch.Size([1, 1])\n",
      "torch.Size([1]) torch.Size([1, 1])\n",
      "torch.Size([1])"
     ]
    },
    {
     "name": "stderr",
     "output_type": "stream",
     "text": [
      "\r",
      "941it [00:53, 20.74it/s]"
     ]
    },
    {
     "name": "stdout",
     "output_type": "stream",
     "text": [
      " torch.Size([1, 1])\n",
      "torch.Size([1]) torch.Size([1, 1])\n",
      "torch.Size([1]) torch.Size([1, 1])\n",
      "torch.Size([1]) torch.Size([1, 1])\n",
      "torch.Size([1])"
     ]
    },
    {
     "name": "stderr",
     "output_type": "stream",
     "text": [
      "\r",
      "944it [00:53, 20.90it/s]"
     ]
    },
    {
     "name": "stdout",
     "output_type": "stream",
     "text": [
      " torch.Size([1, 1])\n",
      "torch.Size([1]) torch.Size([1, 1])\n",
      "torch.Size([1]) torch.Size([1, 1])\n",
      "torch.Size([1]) torch.Size([1, 1])\n",
      "torch.Size([1])"
     ]
    },
    {
     "name": "stderr",
     "output_type": "stream",
     "text": [
      "950it [00:53, 20.62it/s]"
     ]
    },
    {
     "name": "stdout",
     "output_type": "stream",
     "text": [
      " torch.Size([1, 1])\n",
      "torch.Size([1]) torch.Size([1, 1])\n",
      "torch.Size([1]) torch.Size([1, 1])\n",
      "torch.Size([1]) torch.Size([1, 1])\n"
     ]
    },
    {
     "name": "stderr",
     "output_type": "stream",
     "text": [
      "\r",
      "953it [00:53, 19.99it/s]"
     ]
    },
    {
     "name": "stdout",
     "output_type": "stream",
     "text": [
      "torch.Size([1]) torch.Size([1, 1])\n",
      "torch.Size([1]) torch.Size([1, 1])\n",
      "torch.Size([1]) torch.Size([1, 1])\n",
      "torch.Size([1]) torch.Size([1, 1])\n",
      "torch.Size([1])"
     ]
    },
    {
     "name": "stderr",
     "output_type": "stream",
     "text": [
      "\r",
      "956it [00:53, 19.18it/s]"
     ]
    },
    {
     "name": "stdout",
     "output_type": "stream",
     "text": [
      " torch.Size([1, 1])\n",
      "torch.Size([1]) torch.Size([1, 1])\n",
      "torch.Size([1]) torch.Size([1, 1])\n",
      "torch.Size([1]) torch.Size([1, 1])\n",
      "torch.Size([1])"
     ]
    },
    {
     "name": "stderr",
     "output_type": "stream",
     "text": [
      "962it [00:54, 20.04it/s]"
     ]
    },
    {
     "name": "stdout",
     "output_type": "stream",
     "text": [
      " torch.Size([1, 1])\n",
      "torch.Size([1]) torch.Size([1, 1])\n",
      "torch.Size([1]) torch.Size([1, 1])\n",
      "torch.Size([1]) torch.Size([1, 1])\n"
     ]
    },
    {
     "name": "stderr",
     "output_type": "stream",
     "text": [
      "\r",
      "965it [00:54, 20.24it/s]"
     ]
    },
    {
     "name": "stdout",
     "output_type": "stream",
     "text": [
      "torch.Size([1]) torch.Size([1, 1])\n",
      "torch.Size([1]) torch.Size([1, 1])\n",
      "torch.Size([1]) torch.Size([1, 1])\n",
      "torch.Size([1]) torch.Size([1, 1])\n",
      "torch.Size([1])"
     ]
    },
    {
     "name": "stderr",
     "output_type": "stream",
     "text": [
      "\r",
      "968it [00:54, 19.63it/s]"
     ]
    },
    {
     "name": "stdout",
     "output_type": "stream",
     "text": [
      " torch.Size([1, 1])\n",
      "torch.Size([1]) torch.Size([1, 1])\n",
      "torch.Size([1]) torch.Size([1, 1])\n",
      "torch.Size([1]) torch.Size([1, 1])\n"
     ]
    },
    {
     "name": "stderr",
     "output_type": "stream",
     "text": [
      "974it [00:54, 20.38it/s]"
     ]
    },
    {
     "name": "stdout",
     "output_type": "stream",
     "text": [
      "torch.Size([1]) torch.Size([1, 1])\n",
      "torch.Size([1]) torch.Size([1, 1])\n",
      "torch.Size([1]) torch.Size([1, 1])\n",
      "torch.Size([1]) torch.Size([1, 1])\n",
      "torch.Size([1])"
     ]
    },
    {
     "name": "stderr",
     "output_type": "stream",
     "text": [
      "\r",
      "977it [00:54, 20.38it/s]"
     ]
    },
    {
     "name": "stdout",
     "output_type": "stream",
     "text": [
      " torch.Size([1, 1])\n",
      "torch.Size([1]) torch.Size([1, 1])\n",
      "torch.Size([1]) torch.Size([1, 1])\n",
      "torch.Size([1]) torch.Size([1, 1])\n",
      "torch.Size([1])"
     ]
    },
    {
     "name": "stderr",
     "output_type": "stream",
     "text": [
      "\r",
      "980it [00:54, 20.01it/s]"
     ]
    },
    {
     "name": "stdout",
     "output_type": "stream",
     "text": [
      " torch.Size([1, 1])\n",
      "torch.Size([1]) torch.Size([1, 1])\n",
      "torch.Size([1]) torch.Size([1, 1])\n",
      "torch.Size([1]) torch.Size([1, 1])\n"
     ]
    },
    {
     "name": "stderr",
     "output_type": "stream",
     "text": [
      "986it [00:55, 20.69it/s]"
     ]
    },
    {
     "name": "stdout",
     "output_type": "stream",
     "text": [
      "torch.Size([1]) torch.Size([1, 1])\n",
      "torch.Size([1]) torch.Size([1, 1])\n",
      "torch.Size([1]) torch.Size([1, 1])\n",
      "torch.Size([1]) torch.Size([1, 1])\n",
      "torch.Size([1])"
     ]
    },
    {
     "name": "stderr",
     "output_type": "stream",
     "text": [
      "\r",
      "989it [00:55, 20.60it/s]"
     ]
    },
    {
     "name": "stdout",
     "output_type": "stream",
     "text": [
      " torch.Size([1, 1])\n",
      "torch.Size([1]) torch.Size([1, 1])\n",
      "torch.Size([1]) torch.Size([1, 1])\n",
      "torch.Size([1]) torch.Size([1, 1])\n",
      "torch.Size([1]) torch.Size([1, 1])\n"
     ]
    },
    {
     "name": "stderr",
     "output_type": "stream",
     "text": [
      "995it [00:55, 20.28it/s]"
     ]
    },
    {
     "name": "stdout",
     "output_type": "stream",
     "text": [
      "torch.Size([1]) torch.Size([1, 1])\n",
      "torch.Size([1]) torch.Size([1, 1])\n",
      "torch.Size([1]) torch.Size([1, 1])\n",
      "torch.Size([1]) torch.Size([1, 1])\n"
     ]
    },
    {
     "name": "stderr",
     "output_type": "stream",
     "text": [
      "\r",
      "998it [00:55, 19.77it/s]"
     ]
    },
    {
     "name": "stdout",
     "output_type": "stream",
     "text": [
      "torch.Size([1]) torch.Size([1, 1])\n",
      "torch.Size([1]) torch.Size([1, 1])\n",
      "torch.Size([1]) torch.Size([1, 1])\n",
      "torch.Size([1]) torch.Size([1, 1])\n",
      "torch.Size([1])"
     ]
    },
    {
     "name": "stderr",
     "output_type": "stream",
     "text": [
      "\r",
      "1001it [00:55, 20.20it/s]"
     ]
    },
    {
     "name": "stdout",
     "output_type": "stream",
     "text": [
      " torch.Size([1, 1])\n",
      "torch.Size([1]) torch.Size([1, 1])\n",
      "torch.Size([1]) torch.Size([1, 1])\n",
      "torch.Size([1]) torch.Size([1, 1])\n",
      "torch.Size([1])"
     ]
    },
    {
     "name": "stderr",
     "output_type": "stream",
     "text": [
      "1007it [00:56, 19.97it/s]"
     ]
    },
    {
     "name": "stdout",
     "output_type": "stream",
     "text": [
      " torch.Size([1, 1])\n",
      "torch.Size([1]) torch.Size([1, 1])\n",
      "torch.Size([1]) torch.Size([1, 1])\n",
      "torch.Size([1]) torch.Size([1, 1])\n"
     ]
    },
    {
     "name": "stderr",
     "output_type": "stream",
     "text": [
      "\r",
      "1010it [00:56, 19.90it/s]"
     ]
    },
    {
     "name": "stdout",
     "output_type": "stream",
     "text": [
      "torch.Size([1]) torch.Size([1, 1])\n",
      "torch.Size([1]) torch.Size([1, 1])\n",
      "torch.Size([1]) torch.Size([1, 1])\n",
      "torch.Size([1]) torch.Size([1, 1])\n"
     ]
    },
    {
     "name": "stderr",
     "output_type": "stream",
     "text": [
      "1014it [00:56, 18.52it/s]"
     ]
    },
    {
     "name": "stdout",
     "output_type": "stream",
     "text": [
      "torch.Size([1]) torch.Size([1, 1])\n",
      "torch.Size([1]) torch.Size([1, 1])\n",
      "torch.Size([1]) torch.Size([1, 1])\n",
      "torch.Size([1]) torch.Size([1, 1])\n"
     ]
    },
    {
     "name": "stderr",
     "output_type": "stream",
     "text": [
      "1019it [00:56, 18.82it/s]"
     ]
    },
    {
     "name": "stdout",
     "output_type": "stream",
     "text": [
      "torch.Size([1]) torch.Size([1, 1])\n",
      "torch.Size([1]) torch.Size([1, 1])\n",
      "torch.Size([1]) torch.Size([1, 1])\n",
      "torch.Size([1]) torch.Size([1, 1])\n",
      "torch.Size([1])"
     ]
    },
    {
     "name": "stderr",
     "output_type": "stream",
     "text": [
      "\r",
      "1021it [00:57, 19.06it/s]"
     ]
    },
    {
     "name": "stdout",
     "output_type": "stream",
     "text": [
      " torch.Size([1, 1])\n",
      "torch.Size([1]) torch.Size([1, 1])\n",
      "torch.Size([1]) torch.Size([1, 1])\n",
      "torch.Size([1]) torch.Size([1, 1])\n",
      "torch.Size([1])"
     ]
    },
    {
     "name": "stderr",
     "output_type": "stream",
     "text": [
      "1027it [00:57, 20.13it/s]"
     ]
    },
    {
     "name": "stdout",
     "output_type": "stream",
     "text": [
      " torch.Size([1, 1])\n",
      "torch.Size([1]) torch.Size([1, 1])\n",
      "torch.Size([1]) torch.Size([1, 1])\n",
      "torch.Size([1]) torch.Size([1, 1])\n",
      "torch.Size([1])"
     ]
    },
    {
     "name": "stderr",
     "output_type": "stream",
     "text": [
      "\r",
      "1030it [00:57, 19.59it/s]"
     ]
    },
    {
     "name": "stdout",
     "output_type": "stream",
     "text": [
      " torch.Size([1, 1])\n",
      "torch.Size([1]) torch.Size([1, 1])\n",
      "torch.Size([1]) torch.Size([1, 1])\n",
      "torch.Size([1]) torch.Size([1, 1])\n"
     ]
    },
    {
     "name": "stderr",
     "output_type": "stream",
     "text": [
      "1035it [00:57, 19.59it/s]"
     ]
    },
    {
     "name": "stdout",
     "output_type": "stream",
     "text": [
      "torch.Size([1]) torch.Size([1, 1])\n",
      "torch.Size([1]) torch.Size([1, 1])\n",
      "torch.Size([1]) torch.Size([1, 1])\n",
      "torch.Size([1]) torch.Size([1, 1])\n",
      "torch.Size([1]) torch.Size([1, 1])\n"
     ]
    },
    {
     "name": "stderr",
     "output_type": "stream",
     "text": [
      "1040it [00:57, 20.26it/s]"
     ]
    },
    {
     "name": "stdout",
     "output_type": "stream",
     "text": [
      "torch.Size([1]) torch.Size([1, 1])\n",
      "torch.Size([1]) torch.Size([1, 1])\n",
      "torch.Size([1]) torch.Size([1, 1])\n",
      "torch.Size([1]) torch.Size([1, 1])\n",
      "torch.Size([1])"
     ]
    },
    {
     "name": "stderr",
     "output_type": "stream",
     "text": [
      "\r",
      "1043it [00:58, 20.27it/s]"
     ]
    },
    {
     "name": "stdout",
     "output_type": "stream",
     "text": [
      " torch.Size([1, 1])\n",
      "torch.Size([1]) torch.Size([1, 1])\n",
      "torch.Size([1]) torch.Size([1, 1])\n",
      "torch.Size([1]) torch.Size([1, 1])\n",
      "torch.Size([1]) torch.Size([1, 1])\n"
     ]
    },
    {
     "name": "stderr",
     "output_type": "stream",
     "text": [
      "1049it [00:58, 20.66it/s]"
     ]
    },
    {
     "name": "stdout",
     "output_type": "stream",
     "text": [
      "torch.Size([1]) torch.Size([1, 1])\n",
      "torch.Size([1]) torch.Size([1, 1])\n",
      "torch.Size([1]) torch.Size([1, 1])\n",
      "torch.Size([1]) torch.Size([1, 1])\n",
      "torch.Size([1])"
     ]
    },
    {
     "name": "stderr",
     "output_type": "stream",
     "text": [
      "\r",
      "1052it [00:58, 20.24it/s]"
     ]
    },
    {
     "name": "stdout",
     "output_type": "stream",
     "text": [
      " torch.Size([1, 1])\n",
      "torch.Size([1]) torch.Size([1, 1])\n",
      "torch.Size([1]) torch.Size([1, 1])\n",
      "torch.Size([1]) torch.Size([1, 1])\n",
      "torch.Size([1])"
     ]
    },
    {
     "name": "stderr",
     "output_type": "stream",
     "text": [
      "\r",
      "1055it [00:58, 20.37it/s]"
     ]
    },
    {
     "name": "stdout",
     "output_type": "stream",
     "text": [
      " torch.Size([1, 1])\n",
      "torch.Size([1]) torch.Size([1, 1])\n",
      "torch.Size([1]) torch.Size([1, 1])\n",
      "torch.Size([1]) torch.Size([1, 1])\n"
     ]
    },
    {
     "name": "stderr",
     "output_type": "stream",
     "text": [
      "1061it [00:58, 20.79it/s]"
     ]
    },
    {
     "name": "stdout",
     "output_type": "stream",
     "text": [
      "torch.Size([1]) torch.Size([1, 1])\n",
      "torch.Size([1]) torch.Size([1, 1])\n",
      "torch.Size([1]) torch.Size([1, 1])\n",
      "torch.Size([1]) torch.Size([1, 1])\n",
      "torch.Size([1])"
     ]
    },
    {
     "name": "stderr",
     "output_type": "stream",
     "text": [
      "\r",
      "1064it [00:59, 21.01it/s]"
     ]
    },
    {
     "name": "stdout",
     "output_type": "stream",
     "text": [
      " torch.Size([1, 1])\n",
      "torch.Size([1]) torch.Size([1, 1])\n",
      "torch.Size([1]) torch.Size([1, 1])\n",
      "torch.Size([1]) torch.Size([1, 1])\n",
      "torch.Size([1])"
     ]
    },
    {
     "name": "stderr",
     "output_type": "stream",
     "text": [
      "\r",
      "1067it [00:59, 20.64it/s]"
     ]
    },
    {
     "name": "stdout",
     "output_type": "stream",
     "text": [
      " torch.Size([1, 1])\n",
      "torch.Size([1]) torch.Size([1, 1])\n",
      "torch.Size([1]) torch.Size([1, 1])\n",
      "torch.Size([1]) torch.Size([1, 1])\n"
     ]
    },
    {
     "name": "stderr",
     "output_type": "stream",
     "text": [
      "1073it [00:59, 20.92it/s]"
     ]
    },
    {
     "name": "stdout",
     "output_type": "stream",
     "text": [
      "torch.Size([1]) torch.Size([1, 1])\n",
      "torch.Size([1]) torch.Size([1, 1])\n",
      "torch.Size([1]) torch.Size([1, 1])\n",
      "torch.Size([1]) torch.Size([1, 1])\n",
      "torch.Size([1])"
     ]
    },
    {
     "name": "stderr",
     "output_type": "stream",
     "text": [
      "\r",
      "1076it [00:59, 21.17it/s]"
     ]
    },
    {
     "name": "stdout",
     "output_type": "stream",
     "text": [
      " torch.Size([1, 1])\n",
      "torch.Size([1]) torch.Size([1, 1])\n",
      "torch.Size([1]) torch.Size([1, 1])\n",
      "torch.Size([1]) torch.Size([1, 1])\n",
      "torch.Size([1])"
     ]
    },
    {
     "name": "stderr",
     "output_type": "stream",
     "text": [
      "\r",
      "1079it [00:59, 20.81it/s]"
     ]
    },
    {
     "name": "stdout",
     "output_type": "stream",
     "text": [
      " torch.Size([1, 1])\n",
      "torch.Size([1]) torch.Size([1, 1])\n",
      "torch.Size([1]) torch.Size([1, 1])\n",
      "torch.Size([1]) torch.Size([1, 1])\n"
     ]
    },
    {
     "name": "stderr",
     "output_type": "stream",
     "text": [
      "1085it [01:00, 19.62it/s]"
     ]
    },
    {
     "name": "stdout",
     "output_type": "stream",
     "text": [
      "torch.Size([1]) torch.Size([1, 1])\n",
      "torch.Size([1]) torch.Size([1, 1])\n",
      "torch.Size([1]) torch.Size([1, 1])\n",
      "torch.Size([1]) torch.Size([1, 1])\n"
     ]
    },
    {
     "name": "stderr",
     "output_type": "stream",
     "text": [
      "\r",
      "1087it [01:00, 18.80it/s]"
     ]
    },
    {
     "name": "stdout",
     "output_type": "stream",
     "text": [
      "torch.Size([1]) torch.Size([1, 1])\n",
      "torch.Size([1]) torch.Size([1, 1])\n",
      "torch.Size([1]) torch.Size([1, 1])\n",
      "torch.Size([1])"
     ]
    },
    {
     "name": "stderr",
     "output_type": "stream",
     "text": [
      "1091it [01:00, 18.48it/s]"
     ]
    },
    {
     "name": "stdout",
     "output_type": "stream",
     "text": [
      " torch.Size([1, 1])\n",
      "torch.Size([1]) torch.Size([1, 1])\n",
      "torch.Size([1]) torch.Size([1, 1])\n",
      "torch.Size([1]) torch.Size([1, 1])\n",
      "torch.Size([1])"
     ]
    },
    {
     "name": "stderr",
     "output_type": "stream",
     "text": [
      "\r",
      "1094it [01:00, 19.04it/s]"
     ]
    },
    {
     "name": "stdout",
     "output_type": "stream",
     "text": [
      " torch.Size([1, 1])\n",
      "torch.Size([1]) torch.Size([1, 1])\n",
      "torch.Size([1]) torch.Size([1, 1])\n",
      "torch.Size([1]) torch.Size([1, 1])\n",
      "torch.Size([1])"
     ]
    },
    {
     "name": "stderr",
     "output_type": "stream",
     "text": [
      "1099it [01:00, 19.57it/s]"
     ]
    },
    {
     "name": "stdout",
     "output_type": "stream",
     "text": [
      " torch.Size([1, 1])\n",
      "torch.Size([1]) torch.Size([1, 1])\n",
      "torch.Size([1]) torch.Size([1, 1])\n",
      "torch.Size([1]) torch.Size([1, 1])\n",
      "torch.Size([1])"
     ]
    },
    {
     "name": "stderr",
     "output_type": "stream",
     "text": [
      "1104it [01:01, 20.30it/s]"
     ]
    },
    {
     "name": "stdout",
     "output_type": "stream",
     "text": [
      " torch.Size([1, 1])\n",
      "torch.Size([1]) torch.Size([1, 1])\n",
      "torch.Size([1]) torch.Size([1, 1])\n",
      "torch.Size([1]) torch.Size([1, 1])\n",
      "torch.Size([1])"
     ]
    },
    {
     "name": "stderr",
     "output_type": "stream",
     "text": [
      "\r",
      "1107it [01:01, 20.49it/s]"
     ]
    },
    {
     "name": "stdout",
     "output_type": "stream",
     "text": [
      " torch.Size([1, 1])\n",
      "torch.Size([1]) torch.Size([1, 1])\n",
      "torch.Size([1]) torch.Size([1, 1])\n",
      "torch.Size([1]) torch.Size([1, 1])\n",
      "torch.Size([1])"
     ]
    },
    {
     "name": "stderr",
     "output_type": "stream",
     "text": [
      "\r",
      "1110it [01:01, 20.36it/s]"
     ]
    },
    {
     "name": "stdout",
     "output_type": "stream",
     "text": [
      " torch.Size([1, 1])\n",
      "torch.Size([1]) torch.Size([1, 1])\n",
      "torch.Size([1]) torch.Size([1, 1])\n",
      "torch.Size([1]) torch.Size([1, 1])\n"
     ]
    },
    {
     "name": "stderr",
     "output_type": "stream",
     "text": [
      "1116it [01:01, 19.86it/s]"
     ]
    },
    {
     "name": "stdout",
     "output_type": "stream",
     "text": [
      "torch.Size([1]) torch.Size([1, 1])\n",
      "torch.Size([1]) torch.Size([1, 1])\n",
      "torch.Size([1]) torch.Size([1, 1])\n",
      "torch.Size([1]) torch.Size([1, 1])\n",
      "torch.Size([1])"
     ]
    },
    {
     "name": "stderr",
     "output_type": "stream",
     "text": [
      "\r",
      "1119it [01:01, 20.00it/s]"
     ]
    },
    {
     "name": "stdout",
     "output_type": "stream",
     "text": [
      " torch.Size([1, 1])\n",
      "torch.Size([1]) torch.Size([1, 1])\n",
      "torch.Size([1]) torch.Size([1, 1])\n",
      "torch.Size([1]) torch.Size([1, 1])\n"
     ]
    },
    {
     "name": "stderr",
     "output_type": "stream",
     "text": [
      "\r",
      "1122it [01:02, 19.06it/s]"
     ]
    },
    {
     "name": "stdout",
     "output_type": "stream",
     "text": [
      "torch.Size([1]) torch.Size([1, 1])\n",
      "torch.Size([1]) torch.Size([1, 1])\n",
      "torch.Size([1]) torch.Size([1, 1])\n",
      "torch.Size([1]) torch.Size([1, 1])\n"
     ]
    },
    {
     "name": "stderr",
     "output_type": "stream",
     "text": [
      "1127it [01:02, 18.63it/s]"
     ]
    },
    {
     "name": "stdout",
     "output_type": "stream",
     "text": [
      "torch.Size([1]) torch.Size([1, 1])\n",
      "torch.Size([1]) torch.Size([1, 1])\n",
      "torch.Size([1]) torch.Size([1, 1])\n",
      "torch.Size([1])"
     ]
    },
    {
     "name": "stderr",
     "output_type": "stream",
     "text": [
      "\r",
      "1129it [01:02, 17.97it/s]"
     ]
    },
    {
     "name": "stdout",
     "output_type": "stream",
     "text": [
      " torch.Size([1, 1])\n",
      "torch.Size([1]) torch.Size([1, 1])\n",
      "torch.Size([1]) torch.Size([1, 1])\n",
      "torch.Size([1]) torch.Size([1, 1])\n"
     ]
    },
    {
     "name": "stderr",
     "output_type": "stream",
     "text": [
      "1135it [01:02, 18.96it/s]"
     ]
    },
    {
     "name": "stdout",
     "output_type": "stream",
     "text": [
      "torch.Size([1]) torch.Size([1, 1])\n",
      "torch.Size([1]) torch.Size([1, 1])\n",
      "torch.Size([1]) torch.Size([1, 1])\n",
      "torch.Size([1]) torch.Size([1, 1])\n",
      "torch.Size([1])"
     ]
    },
    {
     "name": "stderr",
     "output_type": "stream",
     "text": [
      "\r",
      "1138it [01:02, 19.58it/s]"
     ]
    },
    {
     "name": "stdout",
     "output_type": "stream",
     "text": [
      " torch.Size([1, 1])\n",
      "torch.Size([1]) torch.Size([1, 1])\n",
      "torch.Size([1]) torch.Size([1, 1])\n",
      "torch.Size([1]) torch.Size([1, 1])\n",
      "torch.Size([1])"
     ]
    },
    {
     "name": "stderr",
     "output_type": "stream",
     "text": [
      "1142it [01:03, 19.18it/s]"
     ]
    },
    {
     "name": "stdout",
     "output_type": "stream",
     "text": [
      " torch.Size([1, 1])\n",
      "torch.Size([1]) torch.Size([1, 1])\n",
      "torch.Size([1]) torch.Size([1, 1])\n",
      "torch.Size([1])"
     ]
    },
    {
     "name": "stderr",
     "output_type": "stream",
     "text": [
      "1146it [01:03, 17.86it/s]"
     ]
    },
    {
     "name": "stdout",
     "output_type": "stream",
     "text": [
      " torch.Size([1, 1])\n",
      "torch.Size([1]) torch.Size([1, 1])\n",
      "torch.Size([1]) torch.Size([1, 1])\n",
      "torch.Size([1]) torch.Size([1, 1])\n"
     ]
    },
    {
     "name": "stderr",
     "output_type": "stream",
     "text": [
      "\r",
      "1148it [01:03, 17.62it/s]"
     ]
    },
    {
     "name": "stdout",
     "output_type": "stream",
     "text": [
      "torch.Size([1]) torch.Size([1, 1])\n",
      "torch.Size([1]) torch.Size([1, 1])\n",
      "torch.Size([1]) torch.Size([1, 1])\n",
      "torch.Size([1]) torch.Size([1, 1])\n",
      "torch.Size([1])"
     ]
    },
    {
     "name": "stderr",
     "output_type": "stream",
     "text": [
      "1154it [01:03, 19.13it/s]"
     ]
    },
    {
     "name": "stdout",
     "output_type": "stream",
     "text": [
      " torch.Size([1, 1])\n",
      "torch.Size([1]) torch.Size([1, 1])\n",
      "torch.Size([1]) torch.Size([1, 1])\n",
      "torch.Size([1]) torch.Size([1, 1])\n",
      "torch.Size([1])"
     ]
    },
    {
     "name": "stderr",
     "output_type": "stream",
     "text": [
      "\r",
      "1157it [01:03, 19.83it/s]"
     ]
    },
    {
     "name": "stdout",
     "output_type": "stream",
     "text": [
      " torch.Size([1, 1])\n",
      "torch.Size([1]) torch.Size([1, 1])\n",
      "torch.Size([1]) torch.Size([1, 1])\n",
      "torch.Size([1]) torch.Size([1, 1])\n",
      "torch.Size([1]) torch.Size([1, 1])\n"
     ]
    },
    {
     "name": "stderr",
     "output_type": "stream",
     "text": [
      "1163it [01:04, 20.00it/s]"
     ]
    },
    {
     "name": "stdout",
     "output_type": "stream",
     "text": [
      "torch.Size([1]) torch.Size([1, 1])\n",
      "torch.Size([1]) torch.Size([1, 1])\n",
      "torch.Size([1]) torch.Size([1, 1])\n",
      "torch.Size([1]) torch.Size([1, 1])\n",
      "torch.Size([1])"
     ]
    },
    {
     "name": "stderr",
     "output_type": "stream",
     "text": [
      "\r",
      "1166it [01:04, 20.25it/s]"
     ]
    },
    {
     "name": "stdout",
     "output_type": "stream",
     "text": [
      " torch.Size([1, 1])\n",
      "torch.Size([1]) torch.Size([1, 1])\n",
      "torch.Size([1]) torch.Size([1, 1])\n",
      "torch.Size([1]) torch.Size([1, 1])\n",
      "torch.Size([1])"
     ]
    },
    {
     "name": "stderr",
     "output_type": "stream",
     "text": [
      "\r",
      "1169it [01:04, 20.54it/s]"
     ]
    },
    {
     "name": "stdout",
     "output_type": "stream",
     "text": [
      " torch.Size([1, 1])\n",
      "torch.Size([1]) torch.Size([1, 1])\n",
      "torch.Size([1]) torch.Size([1, 1])\n",
      "torch.Size([1]) torch.Size([1, 1])\n",
      "torch.Size([1]) torch.Size([1, 1])\n"
     ]
    },
    {
     "name": "stderr",
     "output_type": "stream",
     "text": [
      "1175it [01:04, 20.62it/s]"
     ]
    },
    {
     "name": "stdout",
     "output_type": "stream",
     "text": [
      "torch.Size([1]) torch.Size([1, 1])\n",
      "torch.Size([1]) torch.Size([1, 1])\n",
      "torch.Size([1]) torch.Size([1, 1])\n",
      "torch.Size([1]) torch.Size([1, 1])\n",
      "torch.Size([1])"
     ]
    },
    {
     "name": "stderr",
     "output_type": "stream",
     "text": [
      "1181it [01:05, 21.13it/s]"
     ]
    },
    {
     "name": "stdout",
     "output_type": "stream",
     "text": [
      " torch.Size([1, 1])\n",
      "torch.Size([1]) torch.Size([1, 1])\n",
      "torch.Size([1]) torch.Size([1, 1])\n",
      "torch.Size([1]) torch.Size([1, 1])\n",
      "torch.Size([1]) torch.Size([1, 1])\n"
     ]
    },
    {
     "name": "stderr",
     "output_type": "stream",
     "text": [
      "\r",
      "1184it [01:05, 20.84it/s]"
     ]
    },
    {
     "name": "stdout",
     "output_type": "stream",
     "text": [
      "torch.Size([1]) torch.Size([1, 1])\n",
      "torch.Size([1]) torch.Size([1, 1])\n",
      "torch.Size([1]) torch.Size([1, 1])\n",
      "torch.Size([1]) torch.Size([1, 1])\n",
      "torch.Size([1])"
     ]
    },
    {
     "name": "stderr",
     "output_type": "stream",
     "text": [
      "\r",
      "1187it [01:05, 20.58it/s]"
     ]
    },
    {
     "name": "stdout",
     "output_type": "stream",
     "text": [
      " torch.Size([1, 1])\n",
      "torch.Size([1]) torch.Size([1, 1])\n",
      "torch.Size([1]) torch.Size([1, 1])\n",
      "torch.Size([1]) torch.Size([1, 1])\n",
      "torch.Size([1])"
     ]
    },
    {
     "name": "stderr",
     "output_type": "stream",
     "text": [
      "1193it [01:05, 20.79it/s]"
     ]
    },
    {
     "name": "stdout",
     "output_type": "stream",
     "text": [
      " torch.Size([1, 1])\n",
      "torch.Size([1]) torch.Size([1, 1])\n",
      "torch.Size([1]) torch.Size([1, 1])\n",
      "torch.Size([1]) torch.Size([1, 1])\n",
      "torch.Size([1])"
     ]
    },
    {
     "name": "stderr",
     "output_type": "stream",
     "text": [
      "\r",
      "1196it [01:05, 20.51it/s]"
     ]
    },
    {
     "name": "stdout",
     "output_type": "stream",
     "text": [
      " torch.Size([1, 1])\n",
      "torch.Size([1]) torch.Size([1, 1])\n",
      "torch.Size([1]) torch.Size([1, 1])\n",
      "torch.Size([1]) torch.Size([1, 1])\n",
      "torch.Size([1])"
     ]
    },
    {
     "name": "stderr",
     "output_type": "stream",
     "text": [
      "\r",
      "1199it [01:05, 20.08it/s]"
     ]
    },
    {
     "name": "stdout",
     "output_type": "stream",
     "text": [
      " torch.Size([1, 1])\n",
      "torch.Size([1]) torch.Size([1, 1])\n",
      "torch.Size([1]) torch.Size([1, 1])\n",
      "torch.Size([1]) torch.Size([1, 1])\n"
     ]
    },
    {
     "name": "stderr",
     "output_type": "stream",
     "text": [
      "1204it [01:06, 19.39it/s]"
     ]
    },
    {
     "name": "stdout",
     "output_type": "stream",
     "text": [
      "torch.Size([1]) torch.Size([1, 1])\n",
      "torch.Size([1]) torch.Size([1, 1])\n",
      "torch.Size([1]) torch.Size([1, 1])\n",
      "torch.Size([1]) torch.Size([1, 1])\n"
     ]
    },
    {
     "name": "stderr",
     "output_type": "stream",
     "text": [
      "1209it [01:06, 20.26it/s]"
     ]
    },
    {
     "name": "stdout",
     "output_type": "stream",
     "text": [
      "torch.Size([1]) torch.Size([1, 1])\n",
      "torch.Size([1]) torch.Size([1, 1])\n",
      "torch.Size([1]) torch.Size([1, 1])\n",
      "torch.Size([1]) torch.Size([1, 1])\n",
      "torch.Size([1])"
     ]
    },
    {
     "name": "stderr",
     "output_type": "stream",
     "text": [
      "\r",
      "1212it [01:06, 19.75it/s]"
     ]
    },
    {
     "name": "stdout",
     "output_type": "stream",
     "text": [
      " torch.Size([1, 1])\n",
      "torch.Size([1]) torch.Size([1, 1])\n",
      "torch.Size([1]) torch.Size([1, 1])\n",
      "torch.Size([1]) torch.Size([1, 1])\n"
     ]
    },
    {
     "name": "stderr",
     "output_type": "stream",
     "text": [
      "1217it [01:06, 19.99it/s]"
     ]
    },
    {
     "name": "stdout",
     "output_type": "stream",
     "text": [
      "torch.Size([1]) torch.Size([1, 1])\n",
      "torch.Size([1]) torch.Size([1, 1])\n",
      "torch.Size([1]) torch.Size([1, 1])\n",
      "torch.Size([1]) torch.Size([1, 1])\n",
      "torch.Size([1])"
     ]
    },
    {
     "name": "stderr",
     "output_type": "stream",
     "text": [
      "\r",
      "1220it [01:06, 20.23it/s]"
     ]
    },
    {
     "name": "stdout",
     "output_type": "stream",
     "text": [
      " torch.Size([1, 1])\n",
      "torch.Size([1]) torch.Size([1, 1])\n",
      "torch.Size([1]) torch.Size([1, 1])\n",
      "torch.Size([1]) torch.Size([1, 1])\n",
      "torch.Size([1])"
     ]
    },
    {
     "name": "stderr",
     "output_type": "stream",
     "text": [
      "\r",
      "1223it [01:07, 20.19it/s]"
     ]
    },
    {
     "name": "stdout",
     "output_type": "stream",
     "text": [
      " torch.Size([1, 1])\n",
      "torch.Size([1]) torch.Size([1, 1])\n",
      "torch.Size([1]) torch.Size([1, 1])\n",
      "torch.Size([1]) torch.Size([1, 1])\n",
      "torch.Size([1])"
     ]
    },
    {
     "name": "stderr",
     "output_type": "stream",
     "text": [
      "1229it [01:07, 20.19it/s]"
     ]
    },
    {
     "name": "stdout",
     "output_type": "stream",
     "text": [
      " torch.Size([1, 1])\n",
      "torch.Size([1]) torch.Size([1, 1])\n",
      "torch.Size([1]) torch.Size([1, 1])\n",
      "torch.Size([1]) torch.Size([1, 1])\n",
      "torch.Size([1])"
     ]
    },
    {
     "name": "stderr",
     "output_type": "stream",
     "text": [
      "\r",
      "1232it [01:07, 19.54it/s]"
     ]
    },
    {
     "name": "stdout",
     "output_type": "stream",
     "text": [
      " torch.Size([1, 1])\n",
      "torch.Size([1]) torch.Size([1, 1])\n",
      "torch.Size([1]) torch.Size([1, 1])\n",
      "torch.Size([1]) torch.Size([1, 1])\n",
      "torch.Size([1])"
     ]
    },
    {
     "name": "stderr",
     "output_type": "stream",
     "text": [
      "1237it [01:07, 19.89it/s]"
     ]
    },
    {
     "name": "stdout",
     "output_type": "stream",
     "text": [
      " torch.Size([1, 1])\n",
      "torch.Size([1]) torch.Size([1, 1])\n",
      "torch.Size([1]) torch.Size([1, 1])\n",
      "torch.Size([1]) torch.Size([1, 1])\n",
      "torch.Size([1])"
     ]
    },
    {
     "name": "stderr",
     "output_type": "stream",
     "text": [
      "\r",
      "1240it [01:07, 20.01it/s]"
     ]
    },
    {
     "name": "stdout",
     "output_type": "stream",
     "text": [
      " torch.Size([1, 1])\n",
      "torch.Size([1]) torch.Size([1, 1])\n",
      "torch.Size([1]) torch.Size([1, 1])\n",
      "torch.Size([1]) torch.Size([1, 1])\n",
      "torch.Size([1])"
     ]
    },
    {
     "name": "stderr",
     "output_type": "stream",
     "text": [
      "\r",
      "1243it [01:08, 19.80it/s]"
     ]
    },
    {
     "name": "stdout",
     "output_type": "stream",
     "text": [
      " torch.Size([1, 1])\n",
      "torch.Size([1]) torch.Size([1, 1])\n",
      "torch.Size([1]) torch.Size([1, 1])\n",
      "torch.Size([1]) torch.Size([1, 1])\n",
      "torch.Size([1])"
     ]
    },
    {
     "name": "stderr",
     "output_type": "stream",
     "text": [
      "1249it [01:08, 20.92it/s]"
     ]
    },
    {
     "name": "stdout",
     "output_type": "stream",
     "text": [
      " torch.Size([1, 1])\n",
      "torch.Size([1]) torch.Size([1, 1])\n",
      "torch.Size([1]) torch.Size([1, 1])\n",
      "torch.Size([1]) torch.Size([1, 1])\n",
      "torch.Size([1])"
     ]
    },
    {
     "name": "stderr",
     "output_type": "stream",
     "text": [
      "\r",
      "1252it [01:08, 20.55it/s]"
     ]
    },
    {
     "name": "stdout",
     "output_type": "stream",
     "text": [
      " torch.Size([1, 1])\n",
      "torch.Size([1]) torch.Size([1, 1])\n",
      "torch.Size([1]) torch.Size([1, 1])\n",
      "torch.Size([1]) torch.Size([1, 1])\n",
      "torch.Size([1])"
     ]
    },
    {
     "name": "stderr",
     "output_type": "stream",
     "text": [
      "\r",
      "1255it [01:08, 20.57it/s]"
     ]
    },
    {
     "name": "stdout",
     "output_type": "stream",
     "text": [
      " torch.Size([1, 1])\n",
      "torch.Size([1]) torch.Size([1, 1])\n",
      "torch.Size([1]) torch.Size([1, 1])\n",
      "torch.Size([1]) torch.Size([1, 1])\n"
     ]
    },
    {
     "name": "stderr",
     "output_type": "stream",
     "text": [
      "1261it [01:09, 19.88it/s]"
     ]
    },
    {
     "name": "stdout",
     "output_type": "stream",
     "text": [
      "torch.Size([1]) torch.Size([1, 1])\n",
      "torch.Size([1]) torch.Size([1, 1])\n",
      "torch.Size([1]) torch.Size([1, 1])\n",
      "torch.Size([1]) torch.Size([1, 1])\n"
     ]
    },
    {
     "name": "stderr",
     "output_type": "stream",
     "text": [
      "1265it [01:09, 18.82it/s]"
     ]
    },
    {
     "name": "stdout",
     "output_type": "stream",
     "text": [
      "torch.Size([1]) torch.Size([1, 1])\n",
      "torch.Size([1]) torch.Size([1, 1])\n",
      "torch.Size([1]) torch.Size([1, 1])\n",
      "torch.Size([1]) torch.Size([1, 1])\n"
     ]
    },
    {
     "name": "stderr",
     "output_type": "stream",
     "text": [
      "\r",
      "1267it [01:09, 18.25it/s]"
     ]
    },
    {
     "name": "stdout",
     "output_type": "stream",
     "text": [
      "torch.Size([1]) torch.Size([1, 1])\n",
      "torch.Size([1]) torch.Size([1, 1])\n",
      "torch.Size([1]) torch.Size([1, 1])\n",
      "torch.Size([1]) torch.Size([1, 1])\n",
      "torch.Size([1])"
     ]
    },
    {
     "name": "stderr",
     "output_type": "stream",
     "text": [
      "1273it [01:09, 19.42it/s]"
     ]
    },
    {
     "name": "stdout",
     "output_type": "stream",
     "text": [
      " torch.Size([1, 1])\n",
      "torch.Size([1]) torch.Size([1, 1])\n",
      "torch.Size([1]) torch.Size([1, 1])\n",
      "torch.Size([1]) torch.Size([1, 1])\n",
      "torch.Size([1])"
     ]
    },
    {
     "name": "stderr",
     "output_type": "stream",
     "text": [
      "\r",
      "1275it [01:09, 19.58it/s]"
     ]
    },
    {
     "name": "stdout",
     "output_type": "stream",
     "text": [
      " torch.Size([1, 1])\n",
      "torch.Size([1]) torch.Size([1, 1])\n",
      "torch.Size([1]) torch.Size([1, 1])\n",
      "torch.Size([1]) torch.Size([1, 1])\n",
      "torch.Size([1])"
     ]
    },
    {
     "name": "stderr",
     "output_type": "stream",
     "text": [
      "1281it [01:10, 20.55it/s]"
     ]
    },
    {
     "name": "stdout",
     "output_type": "stream",
     "text": [
      " torch.Size([1, 1])\n",
      "torch.Size([1]) torch.Size([1, 1])\n",
      "torch.Size([1]) torch.Size([1, 1])\n",
      "torch.Size([1]) torch.Size([1, 1])\n",
      "torch.Size([1])"
     ]
    },
    {
     "name": "stderr",
     "output_type": "stream",
     "text": [
      "\r",
      "1284it [01:10, 20.66it/s]"
     ]
    },
    {
     "name": "stdout",
     "output_type": "stream",
     "text": [
      " torch.Size([1, 1])\n",
      "torch.Size([1]) torch.Size([1, 1])\n",
      "torch.Size([1]) torch.Size([1, 1])\n",
      "torch.Size([1]) torch.Size([1, 1])\n",
      "torch.Size([1])"
     ]
    },
    {
     "name": "stderr",
     "output_type": "stream",
     "text": [
      "\r",
      "1287it [01:10, 20.94it/s]"
     ]
    },
    {
     "name": "stdout",
     "output_type": "stream",
     "text": [
      " torch.Size([1, 1])\n",
      "torch.Size([1]) torch.Size([1, 1])\n",
      "torch.Size([1]) torch.Size([1, 1])\n",
      "torch.Size([1]) torch.Size([1, 1])\n",
      "torch.Size([1])"
     ]
    },
    {
     "name": "stderr",
     "output_type": "stream",
     "text": [
      "1293it [01:10, 21.17it/s]"
     ]
    },
    {
     "name": "stdout",
     "output_type": "stream",
     "text": [
      " torch.Size([1, 1])\n",
      "torch.Size([1]) torch.Size([1, 1])\n",
      "torch.Size([1]) torch.Size([1, 1])\n",
      "torch.Size([1]) torch.Size([1, 1])\n",
      "torch.Size([1]) torch.Size([1, 1])\n"
     ]
    },
    {
     "name": "stderr",
     "output_type": "stream",
     "text": [
      "\r",
      "1296it [01:10, 20.96it/s]"
     ]
    },
    {
     "name": "stdout",
     "output_type": "stream",
     "text": [
      "torch.Size([1]) torch.Size([1, 1])\n",
      "torch.Size([1]) torch.Size([1, 1])\n",
      "torch.Size([1]) torch.Size([1, 1])\n",
      "torch.Size([1]) torch.Size([1, 1])\n",
      "torch.Size([1])"
     ]
    },
    {
     "name": "stderr",
     "output_type": "stream",
     "text": [
      "1302it [01:11, 21.10it/s]"
     ]
    },
    {
     "name": "stdout",
     "output_type": "stream",
     "text": [
      " torch.Size([1, 1])\n",
      "torch.Size([1]) torch.Size([1, 1])\n",
      "torch.Size([1]) torch.Size([1, 1])\n",
      "torch.Size([1]) torch.Size([1, 1])\n",
      "torch.Size([1])"
     ]
    },
    {
     "name": "stderr",
     "output_type": "stream",
     "text": [
      "\r",
      "1305it [01:11, 20.99it/s]"
     ]
    },
    {
     "name": "stdout",
     "output_type": "stream",
     "text": [
      " torch.Size([1, 1])\n",
      "torch.Size([1]) torch.Size([1, 1])\n",
      "torch.Size([1]) torch.Size([1, 1])\n",
      "torch.Size([1]) torch.Size([1, 1])\n",
      "torch.Size([1])"
     ]
    },
    {
     "name": "stderr",
     "output_type": "stream",
     "text": [
      "\r",
      "1308it [01:11, 20.98it/s]"
     ]
    },
    {
     "name": "stdout",
     "output_type": "stream",
     "text": [
      " torch.Size([1, 1])\n",
      "torch.Size([1]) torch.Size([1, 1])\n",
      "torch.Size([1]) torch.Size([1, 1])\n",
      "torch.Size([1]) torch.Size([1, 1])\n"
     ]
    },
    {
     "name": "stderr",
     "output_type": "stream",
     "text": [
      "1314it [01:11, 20.66it/s]"
     ]
    },
    {
     "name": "stdout",
     "output_type": "stream",
     "text": [
      "torch.Size([1]) torch.Size([1, 1])\n",
      "torch.Size([1]) torch.Size([1, 1])\n",
      "torch.Size([1]) torch.Size([1, 1])\n",
      "torch.Size([1]) torch.Size([1, 1])\n",
      "torch.Size([1])"
     ]
    },
    {
     "name": "stderr",
     "output_type": "stream",
     "text": [
      "\r",
      "1317it [01:11, 20.42it/s]"
     ]
    },
    {
     "name": "stdout",
     "output_type": "stream",
     "text": [
      " torch.Size([1, 1])\n",
      "torch.Size([1]) torch.Size([1, 1])\n",
      "torch.Size([1]) torch.Size([1, 1])\n",
      "torch.Size([1]) torch.Size([1, 1])\n"
     ]
    },
    {
     "name": "stderr",
     "output_type": "stream",
     "text": [
      "\r",
      "1320it [01:11, 20.51it/s]"
     ]
    },
    {
     "name": "stdout",
     "output_type": "stream",
     "text": [
      "torch.Size([1]) torch.Size([1, 1])\n",
      "torch.Size([1]) torch.Size([1, 1])\n",
      "torch.Size([1]) torch.Size([1, 1])\n",
      "torch.Size([1]) torch.Size([1, 1])\n",
      "torch.Size([1])"
     ]
    },
    {
     "name": "stderr",
     "output_type": "stream",
     "text": [
      "1326it [01:12, 20.95it/s]"
     ]
    },
    {
     "name": "stdout",
     "output_type": "stream",
     "text": [
      " torch.Size([1, 1])\n",
      "torch.Size([1]) torch.Size([1, 1])\n",
      "torch.Size([1]) torch.Size([1, 1])\n",
      "torch.Size([1]) torch.Size([1, 1])\n",
      "torch.Size([1])"
     ]
    },
    {
     "name": "stderr",
     "output_type": "stream",
     "text": [
      "\r",
      "1329it [01:12, 20.38it/s]"
     ]
    },
    {
     "name": "stdout",
     "output_type": "stream",
     "text": [
      " torch.Size([1, 1])\n",
      "torch.Size([1]) torch.Size([1, 1])\n",
      "torch.Size([1]) torch.Size([1, 1])\n",
      "torch.Size([1]) torch.Size([1, 1])\n",
      "torch.Size([1])"
     ]
    },
    {
     "name": "stderr",
     "output_type": "stream",
     "text": [
      "1334it [01:12, 18.87it/s]"
     ]
    },
    {
     "name": "stdout",
     "output_type": "stream",
     "text": [
      " torch.Size([1, 1])\n",
      "torch.Size([1]) torch.Size([1, 1])\n",
      "torch.Size([1]) torch.Size([1, 1])\n",
      "torch.Size([1]) torch.Size([1, 1])\n"
     ]
    },
    {
     "name": "stderr",
     "output_type": "stream",
     "text": [
      "\r",
      "1337it [01:12, 19.85it/s]"
     ]
    },
    {
     "name": "stdout",
     "output_type": "stream",
     "text": [
      "torch.Size([1]) torch.Size([1, 1])\n",
      "torch.Size([1]) torch.Size([1, 1])\n",
      "torch.Size([1]) torch.Size([1, 1])\n",
      "torch.Size([1]) torch.Size([1, 1])\n",
      "torch.Size([1])"
     ]
    },
    {
     "name": "stderr",
     "output_type": "stream",
     "text": [
      "\r",
      "1340it [01:12, 19.87it/s]"
     ]
    },
    {
     "name": "stdout",
     "output_type": "stream",
     "text": [
      " torch.Size([1, 1])\n",
      "torch.Size([1]) torch.Size([1, 1])\n",
      "torch.Size([1]) torch.Size([1, 1])\n",
      "torch.Size([1]) torch.Size([1, 1])\n"
     ]
    },
    {
     "name": "stderr",
     "output_type": "stream",
     "text": [
      "1346it [01:13, 19.43it/s]"
     ]
    },
    {
     "name": "stdout",
     "output_type": "stream",
     "text": [
      "torch.Size([1]) torch.Size([1, 1])\n",
      "torch.Size([1]) torch.Size([1, 1])\n",
      "torch.Size([1]) torch.Size([1, 1])\n",
      "torch.Size([1]) torch.Size([1, 1])\n"
     ]
    },
    {
     "name": "stderr",
     "output_type": "stream",
     "text": [
      "1350it [01:13, 18.53it/s]"
     ]
    },
    {
     "name": "stdout",
     "output_type": "stream",
     "text": [
      "torch.Size([1]) torch.Size([1, 1])\n",
      "torch.Size([1]) torch.Size([1, 1])\n",
      "torch.Size([1]) torch.Size([1, 1])\n",
      "torch.Size([1]) torch.Size([1, 1])\n"
     ]
    },
    {
     "name": "stderr",
     "output_type": "stream",
     "text": [
      "1354it [01:13, 18.01it/s]"
     ]
    },
    {
     "name": "stdout",
     "output_type": "stream",
     "text": [
      "torch.Size([1]) torch.Size([1, 1])\n",
      "torch.Size([1]) torch.Size([1, 1])\n",
      "torch.Size([1]) torch.Size([1, 1])\n",
      "torch.Size([1]) torch.Size([1, 1])\n"
     ]
    },
    {
     "name": "stderr",
     "output_type": "stream",
     "text": [
      "\r",
      "1357it [01:13, 18.93it/s]"
     ]
    },
    {
     "name": "stdout",
     "output_type": "stream",
     "text": [
      "torch.Size([1]) torch.Size([1, 1])\n",
      "torch.Size([1]) torch.Size([1, 1])\n",
      "torch.Size([1]) torch.Size([1, 1])\n",
      "torch.Size([1]) torch.Size([1, 1])\n",
      "torch.Size([1])"
     ]
    },
    {
     "name": "stderr",
     "output_type": "stream",
     "text": [
      "1362it [01:14, 20.11it/s]"
     ]
    },
    {
     "name": "stdout",
     "output_type": "stream",
     "text": [
      " torch.Size([1, 1])\n",
      "torch.Size([1]) torch.Size([1, 1])\n",
      "torch.Size([1]) torch.Size([1, 1])\n",
      "torch.Size([1]) torch.Size([1, 1])\n",
      "torch.Size([1])"
     ]
    },
    {
     "name": "stderr",
     "output_type": "stream",
     "text": [
      "\r",
      "1365it [01:14, 19.78it/s]"
     ]
    },
    {
     "name": "stdout",
     "output_type": "stream",
     "text": [
      " torch.Size([1, 1])\n",
      "torch.Size([1]) torch.Size([1, 1])\n",
      "torch.Size([1]) torch.Size([1, 1])\n",
      "torch.Size([1]) torch.Size([1, 1])\n",
      "torch.Size([1])"
     ]
    },
    {
     "name": "stderr",
     "output_type": "stream",
     "text": [
      "\r",
      "1368it [01:14, 20.29it/s]"
     ]
    },
    {
     "name": "stdout",
     "output_type": "stream",
     "text": [
      " torch.Size([1, 1])\n",
      "torch.Size([1]) torch.Size([1, 1])\n",
      "torch.Size([1]) torch.Size([1, 1])\n",
      "torch.Size([1]) torch.Size([1, 1])\n",
      "torch.Size([1])"
     ]
    },
    {
     "name": "stderr",
     "output_type": "stream",
     "text": [
      "1374it [01:14, 19.92it/s]"
     ]
    },
    {
     "name": "stdout",
     "output_type": "stream",
     "text": [
      " torch.Size([1, 1])\n",
      "torch.Size([1]) torch.Size([1, 1])\n",
      "torch.Size([1]) torch.Size([1, 1])\n",
      "torch.Size([1]) torch.Size([1, 1])\n",
      "torch.Size([1])"
     ]
    },
    {
     "name": "stderr",
     "output_type": "stream",
     "text": [
      "\r",
      "1377it [01:14, 19.03it/s]"
     ]
    },
    {
     "name": "stdout",
     "output_type": "stream",
     "text": [
      " torch.Size([1, 1])\n",
      "torch.Size([1]) torch.Size([1, 1])\n",
      "torch.Size([1]) torch.Size([1, 1])\n",
      "torch.Size([1]) torch.Size([1, 1])\n"
     ]
    },
    {
     "name": "stderr",
     "output_type": "stream",
     "text": [
      "1381it [01:15, 18.38it/s]"
     ]
    },
    {
     "name": "stdout",
     "output_type": "stream",
     "text": [
      "torch.Size([1]) torch.Size([1, 1])\n",
      "torch.Size([1]) torch.Size([1, 1])\n",
      "torch.Size([1]) torch.Size([1, 1])\n",
      "torch.Size([1]) torch.Size([1, 1])\n"
     ]
    },
    {
     "name": "stderr",
     "output_type": "stream",
     "text": [
      "1386it [01:15, 19.44it/s]"
     ]
    },
    {
     "name": "stdout",
     "output_type": "stream",
     "text": [
      "torch.Size([1]) torch.Size([1, 1])\n",
      "torch.Size([1]) torch.Size([1, 1])\n",
      "torch.Size([1]) torch.Size([1, 1])\n",
      "torch.Size([1]) torch.Size([1, 1])\n",
      "torch.Size([1])"
     ]
    },
    {
     "name": "stderr",
     "output_type": "stream",
     "text": [
      "\r",
      "1388it [01:15, 18.67it/s]"
     ]
    },
    {
     "name": "stdout",
     "output_type": "stream",
     "text": [
      " torch.Size([1, 1])\n",
      "torch.Size([1]) torch.Size([1, 1])\n",
      "torch.Size([1]) torch.Size([1, 1])\n",
      "torch.Size([1])"
     ]
    },
    {
     "name": "stderr",
     "output_type": "stream",
     "text": [
      "1392it [01:15, 18.53it/s]"
     ]
    },
    {
     "name": "stdout",
     "output_type": "stream",
     "text": [
      " torch.Size([1, 1])\n",
      "torch.Size([1]) torch.Size([1, 1])\n",
      "torch.Size([1]) torch.Size([1, 1])\n",
      "torch.Size([1]) torch.Size([1, 1])\n",
      "torch.Size([1])"
     ]
    },
    {
     "name": "stderr",
     "output_type": "stream",
     "text": [
      "\r",
      "1395it [01:15, 19.23it/s]"
     ]
    },
    {
     "name": "stdout",
     "output_type": "stream",
     "text": [
      " torch.Size([1, 1])\n",
      "torch.Size([1]) torch.Size([1, 1])\n",
      "torch.Size([1]) torch.Size([1, 1])\n",
      "torch.Size([1]) torch.Size([1, 1])\n"
     ]
    },
    {
     "name": "stderr",
     "output_type": "stream",
     "text": [
      "1401it [01:16, 19.79it/s]"
     ]
    },
    {
     "name": "stdout",
     "output_type": "stream",
     "text": [
      "torch.Size([1]) torch.Size([1, 1])\n",
      "torch.Size([1]) torch.Size([1, 1])\n",
      "torch.Size([1]) torch.Size([1, 1])\n",
      "torch.Size([1]) torch.Size([1, 1])\n"
     ]
    },
    {
     "name": "stderr",
     "output_type": "stream",
     "text": [
      "\r",
      "1404it [01:16, 19.98it/s]"
     ]
    },
    {
     "name": "stdout",
     "output_type": "stream",
     "text": [
      "torch.Size([1]) torch.Size([1, 1])\n",
      "torch.Size([1]) torch.Size([1, 1])\n",
      "torch.Size([1]) torch.Size([1, 1])\n",
      "torch.Size([1]) torch.Size([1, 1])\n",
      "torch.Size([1])"
     ]
    },
    {
     "name": "stderr",
     "output_type": "stream",
     "text": [
      "\r",
      "1407it [01:16, 20.04it/s]"
     ]
    },
    {
     "name": "stdout",
     "output_type": "stream",
     "text": [
      " torch.Size([1, 1])\n",
      "torch.Size([1]) torch.Size([1, 1])\n",
      "torch.Size([1]) torch.Size([1, 1])\n",
      "torch.Size([1]) torch.Size([1, 1])\n",
      "torch.Size([1])"
     ]
    },
    {
     "name": "stderr",
     "output_type": "stream",
     "text": [
      "1413it [01:16, 20.62it/s]"
     ]
    },
    {
     "name": "stdout",
     "output_type": "stream",
     "text": [
      " torch.Size([1, 1])\n",
      "torch.Size([1]) torch.Size([1, 1])\n",
      "torch.Size([1]) torch.Size([1, 1])\n",
      "torch.Size([1]) torch.Size([1, 1])\n",
      "torch.Size([1])"
     ]
    },
    {
     "name": "stderr",
     "output_type": "stream",
     "text": [
      "\r",
      "1416it [01:16, 20.63it/s]"
     ]
    },
    {
     "name": "stdout",
     "output_type": "stream",
     "text": [
      " torch.Size([1, 1])\n",
      "torch.Size([1]) torch.Size([1, 1])\n",
      "torch.Size([1]) torch.Size([1, 1])\n",
      "torch.Size([1]) torch.Size([1, 1])\n",
      "torch.Size([1])"
     ]
    },
    {
     "name": "stderr",
     "output_type": "stream",
     "text": [
      "\r",
      "1419it [01:16, 20.60it/s]"
     ]
    },
    {
     "name": "stdout",
     "output_type": "stream",
     "text": [
      " torch.Size([1, 1])\n",
      "torch.Size([1]) torch.Size([1, 1])\n",
      "torch.Size([1]) torch.Size([1, 1])\n",
      "torch.Size([1]) torch.Size([1, 1])\n"
     ]
    },
    {
     "name": "stderr",
     "output_type": "stream",
     "text": [
      "1425it [01:17, 20.61it/s]"
     ]
    },
    {
     "name": "stdout",
     "output_type": "stream",
     "text": [
      "torch.Size([1]) torch.Size([1, 1])\n",
      "torch.Size([1]) torch.Size([1, 1])\n",
      "torch.Size([1]) torch.Size([1, 1])\n",
      "torch.Size([1]) torch.Size([1, 1])\n"
     ]
    },
    {
     "name": "stderr",
     "output_type": "stream",
     "text": [
      "\r",
      "1428it [01:17, 20.72it/s]"
     ]
    },
    {
     "name": "stdout",
     "output_type": "stream",
     "text": [
      "torch.Size([1]) torch.Size([1, 1])\n",
      "torch.Size([1]) torch.Size([1, 1])\n",
      "torch.Size([1]) torch.Size([1, 1])\n",
      "torch.Size([1]) torch.Size([1, 1])\n",
      "torch.Size([1])"
     ]
    },
    {
     "name": "stderr",
     "output_type": "stream",
     "text": [
      "\r",
      "1431it [01:17, 20.57it/s]"
     ]
    },
    {
     "name": "stdout",
     "output_type": "stream",
     "text": [
      " torch.Size([1, 1])\n",
      "torch.Size([1]) torch.Size([1, 1])\n",
      "torch.Size([1]) torch.Size([1, 1])\n",
      "torch.Size([1]) torch.Size([1, 1])\n"
     ]
    },
    {
     "name": "stderr",
     "output_type": "stream",
     "text": [
      "1437it [01:17, 20.64it/s]"
     ]
    },
    {
     "name": "stdout",
     "output_type": "stream",
     "text": [
      "torch.Size([1]) torch.Size([1, 1])\n",
      "torch.Size([1]) torch.Size([1, 1])\n",
      "torch.Size([1]) torch.Size([1, 1])\n",
      "torch.Size([1]) torch.Size([1, 1])\n",
      "torch.Size([1])"
     ]
    },
    {
     "name": "stderr",
     "output_type": "stream",
     "text": [
      "\r",
      "1440it [01:17, 20.74it/s]"
     ]
    },
    {
     "name": "stdout",
     "output_type": "stream",
     "text": [
      " torch.Size([1, 1])\n",
      "torch.Size([1]) torch.Size([1, 1])\n",
      "torch.Size([1]) torch.Size([1, 1])\n",
      "torch.Size([1]) torch.Size([1, 1])\n",
      "torch.Size([1])"
     ]
    },
    {
     "name": "stderr",
     "output_type": "stream",
     "text": [
      "\r",
      "1443it [01:18, 20.83it/s]"
     ]
    },
    {
     "name": "stdout",
     "output_type": "stream",
     "text": [
      " torch.Size([1, 1])\n",
      "torch.Size([1]) torch.Size([1, 1])\n",
      "torch.Size([1]) torch.Size([1, 1])\n",
      "torch.Size([1]) torch.Size([1, 1])\n",
      "torch.Size([1])"
     ]
    },
    {
     "name": "stderr",
     "output_type": "stream",
     "text": [
      "1449it [01:18, 20.59it/s]"
     ]
    },
    {
     "name": "stdout",
     "output_type": "stream",
     "text": [
      " torch.Size([1, 1])\n",
      "torch.Size([1]) torch.Size([1, 1])\n",
      "torch.Size([1]) torch.Size([1, 1])\n",
      "torch.Size([1]) torch.Size([1, 1])\n",
      "torch.Size([1])"
     ]
    },
    {
     "name": "stderr",
     "output_type": "stream",
     "text": [
      "\r",
      "1452it [01:18, 20.97it/s]"
     ]
    },
    {
     "name": "stdout",
     "output_type": "stream",
     "text": [
      " torch.Size([1, 1])\n",
      "torch.Size([1]) torch.Size([1, 1])\n",
      "torch.Size([1]) torch.Size([1, 1])\n",
      "torch.Size([1]) torch.Size([1, 1])\n",
      "torch.Size([1])"
     ]
    },
    {
     "name": "stderr",
     "output_type": "stream",
     "text": [
      "\r",
      "1455it [01:18, 20.67it/s]"
     ]
    },
    {
     "name": "stdout",
     "output_type": "stream",
     "text": [
      " torch.Size([1, 1])\n",
      "torch.Size([1]) torch.Size([1, 1])\n",
      "torch.Size([1]) torch.Size([1, 1])\n",
      "torch.Size([1]) torch.Size([1, 1])\n",
      "torch.Size([1])"
     ]
    },
    {
     "name": "stderr",
     "output_type": "stream",
     "text": [
      "\r",
      "1458it [01:18, 20.82it/s]"
     ]
    },
    {
     "name": "stdout",
     "output_type": "stream",
     "text": [
      " torch.Size([1, 1])\n",
      "torch.Size([1]) torch.Size([1, 1])\n",
      "torch.Size([1]) torch.Size([1, 1])\n",
      "torch.Size([1])"
     ]
    },
    {
     "name": "stderr",
     "output_type": "stream",
     "text": [
      "1463it [01:19, 18.82it/s]"
     ]
    },
    {
     "name": "stdout",
     "output_type": "stream",
     "text": [
      " torch.Size([1, 1])\n",
      "torch.Size([1]) torch.Size([1, 1])\n",
      "torch.Size([1]) torch.Size([1, 1])\n",
      "torch.Size([1]) torch.Size([1, 1])\n"
     ]
    },
    {
     "name": "stderr",
     "output_type": "stream",
     "text": [
      "1467it [01:19, 17.88it/s]"
     ]
    },
    {
     "name": "stdout",
     "output_type": "stream",
     "text": [
      "torch.Size([1]) torch.Size([1, 1])\n",
      "torch.Size([1]) torch.Size([1, 1])\n",
      "torch.Size([1]) torch.Size([1, 1])\n",
      "torch.Size([1]) torch.Size([1, 1])\n"
     ]
    },
    {
     "name": "stderr",
     "output_type": "stream",
     "text": [
      "1472it [01:19, 18.54it/s]"
     ]
    },
    {
     "name": "stdout",
     "output_type": "stream",
     "text": [
      "torch.Size([1]) torch.Size([1, 1])\n",
      "torch.Size([1]) torch.Size([1, 1])\n",
      "torch.Size([1]) torch.Size([1, 1])\n",
      "torch.Size([1]) torch.Size([1, 1])\n",
      "torch.Size([1])"
     ]
    },
    {
     "name": "stderr",
     "output_type": "stream",
     "text": [
      "\r",
      "1475it [01:19, 19.83it/s]"
     ]
    },
    {
     "name": "stdout",
     "output_type": "stream",
     "text": [
      " torch.Size([1, 1])\n",
      "torch.Size([1]) torch.Size([1, 1])\n",
      "torch.Size([1]) torch.Size([1, 1])\n",
      "torch.Size([1]) torch.Size([1, 1])\n",
      "torch.Size([1]) torch.Size([1, 1])\n"
     ]
    },
    {
     "name": "stderr",
     "output_type": "stream",
     "text": [
      "1481it [01:20, 21.14it/s]"
     ]
    },
    {
     "name": "stdout",
     "output_type": "stream",
     "text": [
      "torch.Size([1]) torch.Size([1, 1])\n",
      "torch.Size([1]) torch.Size([1, 1])\n",
      "torch.Size([1]) torch.Size([1, 1])\n",
      "torch.Size([1]) torch.Size([1, 1])\n",
      "torch.Size([1]) torch.Size([1, 1])\n"
     ]
    },
    {
     "name": "stderr",
     "output_type": "stream",
     "text": [
      "\r",
      "1484it [01:20, 20.75it/s]"
     ]
    },
    {
     "name": "stdout",
     "output_type": "stream",
     "text": [
      "torch.Size([1]) torch.Size([1, 1])\n",
      "torch.Size([1]) torch.Size([1, 1])\n",
      "torch.Size([1]) torch.Size([1, 1])\n",
      "torch.Size([1]) torch.Size([1, 1])\n"
     ]
    },
    {
     "name": "stderr",
     "output_type": "stream",
     "text": [
      "1490it [01:20, 20.72it/s]"
     ]
    },
    {
     "name": "stdout",
     "output_type": "stream",
     "text": [
      "torch.Size([1]) torch.Size([1, 1])\n",
      "torch.Size([1]) torch.Size([1, 1])\n",
      "torch.Size([1]) torch.Size([1, 1])\n",
      "torch.Size([1]) torch.Size([1, 1])\n",
      "torch.Size([1])"
     ]
    },
    {
     "name": "stderr",
     "output_type": "stream",
     "text": [
      "\r",
      "1493it [01:20, 19.42it/s]"
     ]
    },
    {
     "name": "stdout",
     "output_type": "stream",
     "text": [
      " torch.Size([1, 1])\n",
      "torch.Size([1]) torch.Size([1, 1])\n",
      "torch.Size([1]) torch.Size([1, 1])\n",
      "torch.Size([1]) torch.Size([1, 1])\n"
     ]
    },
    {
     "name": "stderr",
     "output_type": "stream",
     "text": [
      "1498it [01:20, 18.93it/s]"
     ]
    },
    {
     "name": "stdout",
     "output_type": "stream",
     "text": [
      "torch.Size([1]) torch.Size([1, 1])\n",
      "torch.Size([1]) torch.Size([1, 1])\n",
      "torch.Size([1]) torch.Size([1, 1])\n",
      "torch.Size([1]) torch.Size([1, 1])\n",
      "torch.Size([1])"
     ]
    },
    {
     "name": "stderr",
     "output_type": "stream",
     "text": [
      "\r",
      "1500it [01:21, 19.20it/s]"
     ]
    },
    {
     "name": "stdout",
     "output_type": "stream",
     "text": [
      " torch.Size([1, 1])\n",
      "torch.Size([1]) torch.Size([1, 1])\n",
      "torch.Size([1]) torch.Size([1, 1])\n",
      "torch.Size([1]) torch.Size([1, 1])\n",
      "torch.Size([1])"
     ]
    },
    {
     "name": "stderr",
     "output_type": "stream",
     "text": [
      "1506it [01:21, 20.70it/s]"
     ]
    },
    {
     "name": "stdout",
     "output_type": "stream",
     "text": [
      " torch.Size([1, 1])\n",
      "torch.Size([1]) torch.Size([1, 1])\n",
      "torch.Size([1]) torch.Size([1, 1])\n",
      "torch.Size([1]) torch.Size([1, 1])\n",
      "torch.Size([1]) torch.Size([1, 1])\n"
     ]
    },
    {
     "name": "stderr",
     "output_type": "stream",
     "text": [
      "\r",
      "1509it [01:21, 20.38it/s]"
     ]
    },
    {
     "name": "stdout",
     "output_type": "stream",
     "text": [
      "torch.Size([1]) torch.Size([1, 1])\n",
      "torch.Size([1]) torch.Size([1, 1])\n",
      "torch.Size([1]) torch.Size([1, 1])\n",
      "torch.Size([1]) torch.Size([1, 1])\n"
     ]
    },
    {
     "name": "stderr",
     "output_type": "stream",
     "text": [
      "1515it [01:21, 20.40it/s]"
     ]
    },
    {
     "name": "stdout",
     "output_type": "stream",
     "text": [
      "torch.Size([1]) torch.Size([1, 1])\n",
      "torch.Size([1]) torch.Size([1, 1])\n",
      "torch.Size([1]) torch.Size([1, 1])\n",
      "torch.Size([1]) torch.Size([1, 1])\n",
      "torch.Size([1])"
     ]
    },
    {
     "name": "stderr",
     "output_type": "stream",
     "text": [
      "\r",
      "1518it [01:21, 20.77it/s]"
     ]
    },
    {
     "name": "stdout",
     "output_type": "stream",
     "text": [
      " torch.Size([1, 1])\n",
      "torch.Size([1]) torch.Size([1, 1])\n",
      "torch.Size([1]) torch.Size([1, 1])\n",
      "torch.Size([1]) torch.Size([1, 1])\n",
      "torch.Size([1])"
     ]
    },
    {
     "name": "stderr",
     "output_type": "stream",
     "text": [
      "\r",
      "1521it [01:22, 20.38it/s]"
     ]
    },
    {
     "name": "stdout",
     "output_type": "stream",
     "text": [
      " torch.Size([1, 1])\n",
      "torch.Size([1]) torch.Size([1, 1])\n",
      "torch.Size([1]) torch.Size([1, 1])\n",
      "torch.Size([1]) torch.Size([1, 1])\n",
      "torch.Size([1])"
     ]
    },
    {
     "name": "stderr",
     "output_type": "stream",
     "text": [
      "1527it [01:22, 20.65it/s]"
     ]
    },
    {
     "name": "stdout",
     "output_type": "stream",
     "text": [
      " torch.Size([1, 1])\n",
      "torch.Size([1]) torch.Size([1, 1])\n",
      "torch.Size([1]) torch.Size([1, 1])\n",
      "torch.Size([1]) torch.Size([1, 1])\n",
      "torch.Size([1])"
     ]
    },
    {
     "name": "stderr",
     "output_type": "stream",
     "text": [
      "\r",
      "1530it [01:22, 20.74it/s]"
     ]
    },
    {
     "name": "stdout",
     "output_type": "stream",
     "text": [
      " torch.Size([1, 1])\n",
      "torch.Size([1]) torch.Size([1, 1])\n",
      "torch.Size([1]) torch.Size([1, 1])\n",
      "torch.Size([1]) torch.Size([1, 1])\n",
      "torch.Size([1])"
     ]
    },
    {
     "name": "stderr",
     "output_type": "stream",
     "text": [
      "\r",
      "1533it [01:22, 20.77it/s]"
     ]
    },
    {
     "name": "stdout",
     "output_type": "stream",
     "text": [
      " torch.Size([1, 1])\n",
      "torch.Size([1]) torch.Size([1, 1])\n",
      "torch.Size([1]) torch.Size([1, 1])\n",
      "torch.Size([1]) torch.Size([1, 1])\n"
     ]
    },
    {
     "name": "stderr",
     "output_type": "stream",
     "text": [
      "1539it [01:22, 20.71it/s]"
     ]
    },
    {
     "name": "stdout",
     "output_type": "stream",
     "text": [
      "torch.Size([1]) torch.Size([1, 1])\n",
      "torch.Size([1]) torch.Size([1, 1])\n",
      "torch.Size([1]) torch.Size([1, 1])\n",
      "torch.Size([1]) torch.Size([1, 1])\n",
      "torch.Size([1])"
     ]
    },
    {
     "name": "stderr",
     "output_type": "stream",
     "text": [
      "\r",
      "1542it [01:23, 20.45it/s]"
     ]
    },
    {
     "name": "stdout",
     "output_type": "stream",
     "text": [
      " torch.Size([1, 1])\n",
      "torch.Size([1]) torch.Size([1, 1])\n",
      "torch.Size([1]) torch.Size([1, 1])\n",
      "torch.Size([1]) torch.Size([1, 1])\n",
      "torch.Size([1])"
     ]
    },
    {
     "name": "stderr",
     "output_type": "stream",
     "text": [
      "\r",
      "1545it [01:23, 19.96it/s]"
     ]
    },
    {
     "name": "stdout",
     "output_type": "stream",
     "text": [
      " torch.Size([1, 1])\n",
      "torch.Size([1]) torch.Size([1, 1])\n",
      "torch.Size([1]) torch.Size([1, 1])\n",
      "torch.Size([1]) torch.Size([1, 1])\n"
     ]
    },
    {
     "name": "stderr",
     "output_type": "stream",
     "text": [
      "1551it [01:23, 20.30it/s]"
     ]
    },
    {
     "name": "stdout",
     "output_type": "stream",
     "text": [
      "torch.Size([1]) torch.Size([1, 1])\n",
      "torch.Size([1]) torch.Size([1, 1])\n",
      "torch.Size([1]) torch.Size([1, 1])\n",
      "torch.Size([1]) torch.Size([1, 1])\n",
      "torch.Size([1])"
     ]
    },
    {
     "name": "stderr",
     "output_type": "stream",
     "text": [
      "\r",
      "1554it [01:23, 20.40it/s]"
     ]
    },
    {
     "name": "stdout",
     "output_type": "stream",
     "text": [
      " torch.Size([1, 1])\n",
      "torch.Size([1]) torch.Size([1, 1])\n",
      "torch.Size([1]) torch.Size([1, 1])\n",
      "torch.Size([1]) torch.Size([1, 1])\n",
      "torch.Size([1])"
     ]
    },
    {
     "name": "stderr",
     "output_type": "stream",
     "text": [
      "\r",
      "1557it [01:23, 20.27it/s]"
     ]
    },
    {
     "name": "stdout",
     "output_type": "stream",
     "text": [
      " torch.Size([1, 1])\n",
      "torch.Size([1]) torch.Size([1, 1])\n",
      "torch.Size([1]) torch.Size([1, 1])\n",
      "torch.Size([1]) torch.Size([1, 1])\n",
      "torch.Size([1])"
     ]
    },
    {
     "name": "stderr",
     "output_type": "stream",
     "text": [
      "1563it [01:24, 19.77it/s]"
     ]
    },
    {
     "name": "stdout",
     "output_type": "stream",
     "text": [
      " torch.Size([1, 1])\n",
      "torch.Size([1]) torch.Size([1, 1])\n",
      "torch.Size([1]) torch.Size([1, 1])\n",
      "torch.Size([1]) torch.Size([1, 1])\n",
      "torch.Size([1])"
     ]
    },
    {
     "name": "stderr",
     "output_type": "stream",
     "text": [
      "\r",
      "1566it [01:24, 20.14it/s]"
     ]
    },
    {
     "name": "stdout",
     "output_type": "stream",
     "text": [
      " torch.Size([1, 1])\n",
      "torch.Size([1]) torch.Size([1, 1])\n",
      "torch.Size([1]) torch.Size([1, 1])\n",
      "torch.Size([1]) torch.Size([1, 1])\n",
      "torch.Size([1])"
     ]
    },
    {
     "name": "stderr",
     "output_type": "stream",
     "text": [
      "\r",
      "1569it [01:24, 20.42it/s]"
     ]
    },
    {
     "name": "stdout",
     "output_type": "stream",
     "text": [
      " torch.Size([1, 1])\n",
      "torch.Size([1]) torch.Size([1, 1])\n",
      "torch.Size([1]) torch.Size([1, 1])\n",
      "torch.Size([1]) torch.Size([1, 1])\n",
      "torch.Size([1])"
     ]
    },
    {
     "name": "stderr",
     "output_type": "stream",
     "text": [
      "1575it [01:24, 20.03it/s]"
     ]
    },
    {
     "name": "stdout",
     "output_type": "stream",
     "text": [
      " torch.Size([1, 1])\n",
      "torch.Size([1]) torch.Size([1, 1])\n",
      "torch.Size([1]) torch.Size([1, 1])\n",
      "torch.Size([1]) torch.Size([1, 1])\n"
     ]
    },
    {
     "name": "stderr",
     "output_type": "stream",
     "text": [
      "\r",
      "1578it [01:24, 18.97it/s]"
     ]
    },
    {
     "name": "stdout",
     "output_type": "stream",
     "text": [
      "torch.Size([1]) torch.Size([1, 1])\n",
      "torch.Size([1]) torch.Size([1, 1])\n",
      "torch.Size([1]) torch.Size([1, 1])\n",
      "torch.Size([1])"
     ]
    },
    {
     "name": "stderr",
     "output_type": "stream",
     "text": [
      "\r",
      "1580it [01:24, 19.02it/s]"
     ]
    },
    {
     "name": "stdout",
     "output_type": "stream",
     "text": [
      " torch.Size([1, 1])\n",
      "torch.Size([1]) torch.Size([1, 1])\n",
      "torch.Size([1]) torch.Size([1, 1])\n",
      "torch.Size([1]) torch.Size([1, 1])\n",
      "torch.Size([1])"
     ]
    },
    {
     "name": "stderr",
     "output_type": "stream",
     "text": [
      "1585it [01:25, 19.53it/s]"
     ]
    },
    {
     "name": "stdout",
     "output_type": "stream",
     "text": [
      " torch.Size([1, 1])\n",
      "torch.Size([1]) torch.Size([1, 1])\n",
      "torch.Size([1]) torch.Size([1, 1])\n",
      "torch.Size([1]) torch.Size([1, 1])\n"
     ]
    },
    {
     "name": "stderr",
     "output_type": "stream",
     "text": [
      "\r",
      "1588it [01:25, 19.68it/s]"
     ]
    },
    {
     "name": "stdout",
     "output_type": "stream",
     "text": [
      "torch.Size([1]) torch.Size([1, 1])\n",
      "torch.Size([1]) torch.Size([1, 1])\n",
      "torch.Size([1]) torch.Size([1, 1])\n",
      "torch.Size([1]) torch.Size([1, 1])\n",
      "torch.Size([1])"
     ]
    },
    {
     "name": "stderr",
     "output_type": "stream",
     "text": [
      "1594it [01:25, 20.17it/s]"
     ]
    },
    {
     "name": "stdout",
     "output_type": "stream",
     "text": [
      " torch.Size([1, 1])\n",
      "torch.Size([1]) torch.Size([1, 1])\n",
      "torch.Size([1]) torch.Size([1, 1])\n",
      "torch.Size([1]) torch.Size([1, 1])\n",
      "torch.Size([1])"
     ]
    },
    {
     "name": "stderr",
     "output_type": "stream",
     "text": [
      "\r",
      "1597it [01:25, 20.71it/s]"
     ]
    },
    {
     "name": "stdout",
     "output_type": "stream",
     "text": [
      " torch.Size([1, 1])\n",
      "torch.Size([1]) torch.Size([1, 1])\n",
      "torch.Size([1]) torch.Size([1, 1])\n",
      "torch.Size([1]) torch.Size([1, 1])\n",
      "torch.Size([1])"
     ]
    },
    {
     "name": "stderr",
     "output_type": "stream",
     "text": [
      "\r",
      "1600it [01:25, 19.70it/s]"
     ]
    },
    {
     "name": "stdout",
     "output_type": "stream",
     "text": [
      " torch.Size([1, 1])\n",
      "torch.Size([1]) torch.Size([1, 1])\n",
      "torch.Size([1]) torch.Size([1, 1])\n",
      "torch.Size([1]) torch.Size([1, 1])\n",
      "torch.Size([1])"
     ]
    },
    {
     "name": "stderr",
     "output_type": "stream",
     "text": [
      "1605it [01:26, 19.43it/s]"
     ]
    },
    {
     "name": "stdout",
     "output_type": "stream",
     "text": [
      " torch.Size([1, 1])\n",
      "torch.Size([1]) torch.Size([1, 1])\n",
      "torch.Size([1]) torch.Size([1, 1])\n",
      "torch.Size([1]) torch.Size([1, 1])\n",
      "torch.Size([1])"
     ]
    },
    {
     "name": "stderr",
     "output_type": "stream",
     "text": [
      "\r",
      "1608it [01:26, 19.65it/s]"
     ]
    },
    {
     "name": "stdout",
     "output_type": "stream",
     "text": [
      " torch.Size([1, 1])\n",
      "torch.Size([1]) torch.Size([1, 1])\n",
      "torch.Size([1]) torch.Size([1, 1])\n",
      "torch.Size([1]) torch.Size([1, 1])\n",
      "torch.Size([1])"
     ]
    },
    {
     "name": "stderr",
     "output_type": "stream",
     "text": [
      "1614it [01:26, 19.98it/s]"
     ]
    },
    {
     "name": "stdout",
     "output_type": "stream",
     "text": [
      " torch.Size([1, 1])\n",
      "torch.Size([1]) torch.Size([1, 1])\n",
      "torch.Size([1]) torch.Size([1, 1])\n",
      "torch.Size([1]) torch.Size([1, 1])\n"
     ]
    },
    {
     "name": "stderr",
     "output_type": "stream",
     "text": [
      "\r",
      "1617it [01:26, 19.98it/s]"
     ]
    },
    {
     "name": "stdout",
     "output_type": "stream",
     "text": [
      "torch.Size([1]) torch.Size([1, 1])\n",
      "torch.Size([1]) torch.Size([1, 1])\n",
      "torch.Size([1]) torch.Size([1, 1])\n",
      "torch.Size([1]) torch.Size([1, 1])\n",
      "torch.Size([1])"
     ]
    },
    {
     "name": "stderr",
     "output_type": "stream",
     "text": [
      "1622it [01:27, 19.18it/s]"
     ]
    },
    {
     "name": "stdout",
     "output_type": "stream",
     "text": [
      " torch.Size([1, 1])\n",
      "torch.Size([1]) torch.Size([1, 1])\n",
      "torch.Size([1]) torch.Size([1, 1])\n",
      "torch.Size([1]) torch.Size([1, 1])\n"
     ]
    },
    {
     "name": "stderr",
     "output_type": "stream",
     "text": [
      "\r",
      "1624it [01:27, 18.51it/s]"
     ]
    },
    {
     "name": "stdout",
     "output_type": "stream",
     "text": [
      "torch.Size([1]) torch.Size([1, 1])\n",
      "torch.Size([1]) torch.Size([1, 1])\n",
      "torch.Size([1]) torch.Size([1, 1])\n",
      "torch.Size([1]) torch.Size([1, 1])\n",
      "torch.Size([1])"
     ]
    },
    {
     "name": "stderr",
     "output_type": "stream",
     "text": [
      "1629it [01:27, 19.08it/s]"
     ]
    },
    {
     "name": "stdout",
     "output_type": "stream",
     "text": [
      " torch.Size([1, 1])\n",
      "torch.Size([1]) torch.Size([1, 1])\n",
      "torch.Size([1]) torch.Size([1, 1])\n",
      "torch.Size([1]) torch.Size([1, 1])\n"
     ]
    },
    {
     "name": "stderr",
     "output_type": "stream",
     "text": [
      "\r",
      "1632it [01:27, 19.67it/s]"
     ]
    },
    {
     "name": "stdout",
     "output_type": "stream",
     "text": [
      "torch.Size([1]) torch.Size([1, 1])\n",
      "torch.Size([1]) torch.Size([1, 1])\n",
      "torch.Size([1]) torch.Size([1, 1])\n",
      "torch.Size([1]) torch.Size([1, 1])\n",
      "torch.Size([1])"
     ]
    },
    {
     "name": "stderr",
     "output_type": "stream",
     "text": [
      "1638it [01:27, 19.93it/s]"
     ]
    },
    {
     "name": "stdout",
     "output_type": "stream",
     "text": [
      " torch.Size([1, 1])\n",
      "torch.Size([1]) torch.Size([1, 1])\n",
      "torch.Size([1]) torch.Size([1, 1])\n",
      "torch.Size([1]) torch.Size([1, 1])\n",
      "torch.Size([1])"
     ]
    },
    {
     "name": "stderr",
     "output_type": "stream",
     "text": [
      "\r",
      "1641it [01:28, 20.44it/s]"
     ]
    },
    {
     "name": "stdout",
     "output_type": "stream",
     "text": [
      " torch.Size([1, 1])\n",
      "torch.Size([1]) torch.Size([1, 1])\n",
      "torch.Size([1]) torch.Size([1, 1])\n",
      "torch.Size([1]) torch.Size([1, 1])\n",
      "torch.Size([1])"
     ]
    },
    {
     "name": "stderr",
     "output_type": "stream",
     "text": [
      "\r",
      "1644it [01:28, 20.82it/s]"
     ]
    },
    {
     "name": "stdout",
     "output_type": "stream",
     "text": [
      " torch.Size([1, 1])\n",
      "torch.Size([1]) torch.Size([1, 1])\n",
      "torch.Size([1]) torch.Size([1, 1])\n",
      "torch.Size([1]) torch.Size([1, 1])\n",
      "torch.Size([1])"
     ]
    },
    {
     "name": "stderr",
     "output_type": "stream",
     "text": [
      "1650it [01:28, 20.21it/s]"
     ]
    },
    {
     "name": "stdout",
     "output_type": "stream",
     "text": [
      " torch.Size([1, 1])\n",
      "torch.Size([1]) torch.Size([1, 1])\n",
      "torch.Size([1]) torch.Size([1, 1])\n",
      "torch.Size([1]) torch.Size([1, 1])\n",
      "torch.Size([1])"
     ]
    },
    {
     "name": "stderr",
     "output_type": "stream",
     "text": [
      "\r",
      "1653it [01:28, 20.33it/s]"
     ]
    },
    {
     "name": "stdout",
     "output_type": "stream",
     "text": [
      " torch.Size([1, 1])\n",
      "torch.Size([1]) torch.Size([1, 1])\n",
      "torch.Size([1]) torch.Size([1, 1])\n",
      "torch.Size([1]) torch.Size([1, 1])\n",
      "torch.Size([1])"
     ]
    },
    {
     "name": "stderr",
     "output_type": "stream",
     "text": [
      "\r",
      "1656it [01:28, 20.57it/s]"
     ]
    },
    {
     "name": "stdout",
     "output_type": "stream",
     "text": [
      " torch.Size([1, 1])\n",
      "torch.Size([1]) torch.Size([1, 1])\n",
      "torch.Size([1]) torch.Size([1, 1])\n",
      "torch.Size([1]) torch.Size([1, 1])\n",
      "torch.Size([1])"
     ]
    },
    {
     "name": "stderr",
     "output_type": "stream",
     "text": [
      "1662it [01:29, 20.84it/s]"
     ]
    },
    {
     "name": "stdout",
     "output_type": "stream",
     "text": [
      " torch.Size([1, 1])\n",
      "torch.Size([1]) torch.Size([1, 1])\n",
      "torch.Size([1]) torch.Size([1, 1])\n",
      "torch.Size([1]) torch.Size([1, 1])\n"
     ]
    },
    {
     "name": "stderr",
     "output_type": "stream",
     "text": [
      "\r",
      "1665it [01:29, 20.50it/s]"
     ]
    },
    {
     "name": "stdout",
     "output_type": "stream",
     "text": [
      "torch.Size([1]) torch.Size([1, 1])\n",
      "torch.Size([1]) torch.Size([1, 1])\n",
      "torch.Size([1]) torch.Size([1, 1])\n",
      "torch.Size([1]) torch.Size([1, 1])\n",
      "torch.Size([1])"
     ]
    },
    {
     "name": "stderr",
     "output_type": "stream",
     "text": [
      "\r",
      "1668it [01:29, 20.31it/s]"
     ]
    },
    {
     "name": "stdout",
     "output_type": "stream",
     "text": [
      " torch.Size([1, 1])\n",
      "torch.Size([1]) torch.Size([1, 1])\n",
      "torch.Size([1]) torch.Size([1, 1])\n",
      "torch.Size([1]) torch.Size([1, 1])\n",
      "torch.Size([1])"
     ]
    },
    {
     "name": "stderr",
     "output_type": "stream",
     "text": [
      "1674it [01:29, 20.67it/s]"
     ]
    },
    {
     "name": "stdout",
     "output_type": "stream",
     "text": [
      " torch.Size([1, 1])\n",
      "torch.Size([1]) torch.Size([1, 1])\n",
      "torch.Size([1]) torch.Size([1, 1])\n",
      "torch.Size([1]) torch.Size([1, 1])\n",
      "torch.Size([1])"
     ]
    },
    {
     "name": "stderr",
     "output_type": "stream",
     "text": [
      "\r",
      "1677it [01:29, 20.26it/s]"
     ]
    },
    {
     "name": "stdout",
     "output_type": "stream",
     "text": [
      " torch.Size([1, 1])\n",
      "torch.Size([1]) torch.Size([1, 1])\n",
      "torch.Size([1]) torch.Size([1, 1])\n",
      "torch.Size([1]) torch.Size([1, 1])\n"
     ]
    },
    {
     "name": "stderr",
     "output_type": "stream",
     "text": [
      "\r",
      "1680it [01:29, 20.02it/s]"
     ]
    },
    {
     "name": "stdout",
     "output_type": "stream",
     "text": [
      "torch.Size([1]) torch.Size([1, 1])\n",
      "torch.Size([1]) torch.Size([1, 1])\n",
      "torch.Size([1]) torch.Size([1, 1])\n",
      "torch.Size([1]) torch.Size([1, 1])\n",
      "torch.Size([1])"
     ]
    },
    {
     "name": "stderr",
     "output_type": "stream",
     "text": [
      "1686it [01:30, 20.55it/s]"
     ]
    },
    {
     "name": "stdout",
     "output_type": "stream",
     "text": [
      " torch.Size([1, 1])\n",
      "torch.Size([1]) torch.Size([1, 1])\n",
      "torch.Size([1]) torch.Size([1, 1])\n",
      "torch.Size([1]) torch.Size([1, 1])\n",
      "torch.Size([1])"
     ]
    },
    {
     "name": "stderr",
     "output_type": "stream",
     "text": [
      "\r",
      "1689it [01:30, 20.90it/s]"
     ]
    },
    {
     "name": "stdout",
     "output_type": "stream",
     "text": [
      " torch.Size([1, 1])\n",
      "torch.Size([1]) torch.Size([1, 1])\n",
      "torch.Size([1]) torch.Size([1, 1])\n",
      "torch.Size([1]) torch.Size([1, 1])\n",
      "torch.Size([1])"
     ]
    },
    {
     "name": "stderr",
     "output_type": "stream",
     "text": [
      "\r",
      "1692it [01:30, 20.10it/s]"
     ]
    },
    {
     "name": "stdout",
     "output_type": "stream",
     "text": [
      " torch.Size([1, 1])\n",
      "torch.Size([1]) torch.Size([1, 1])\n",
      "torch.Size([1]) torch.Size([1, 1])\n",
      "torch.Size([1]) torch.Size([1, 1])\n",
      "torch.Size([1])"
     ]
    },
    {
     "name": "stderr",
     "output_type": "stream",
     "text": [
      "1698it [01:30, 19.73it/s]"
     ]
    },
    {
     "name": "stdout",
     "output_type": "stream",
     "text": [
      " torch.Size([1, 1])\n",
      "torch.Size([1]) torch.Size([1, 1])\n",
      "torch.Size([1]) torch.Size([1, 1])\n",
      "torch.Size([1]) torch.Size([1, 1])\n",
      "torch.Size([1])"
     ]
    },
    {
     "name": "stderr",
     "output_type": "stream",
     "text": [
      "\r",
      "1700it [01:30, 19.62it/s]"
     ]
    },
    {
     "name": "stdout",
     "output_type": "stream",
     "text": [
      " torch.Size([1, 1])\n",
      "torch.Size([1]) torch.Size([1, 1])\n",
      "torch.Size([1]) torch.Size([1, 1])\n",
      "torch.Size([1]) torch.Size([1, 1])\n",
      "torch.Size([1])"
     ]
    },
    {
     "name": "stderr",
     "output_type": "stream",
     "text": [
      "1706it [01:31, 20.20it/s]"
     ]
    },
    {
     "name": "stdout",
     "output_type": "stream",
     "text": [
      " torch.Size([1, 1])\n",
      "torch.Size([1]) torch.Size([1, 1])\n",
      "torch.Size([1]) torch.Size([1, 1])\n",
      "torch.Size([1]) torch.Size([1, 1])\n"
     ]
    },
    {
     "name": "stderr",
     "output_type": "stream",
     "text": [
      "\r",
      "1709it [01:31, 20.10it/s]"
     ]
    },
    {
     "name": "stdout",
     "output_type": "stream",
     "text": [
      "torch.Size([1]) torch.Size([1, 1])\n",
      "torch.Size([1]) torch.Size([1, 1])\n",
      "torch.Size([1]) torch.Size([1, 1])\n",
      "torch.Size([1]) torch.Size([1, 1])\n",
      "torch.Size([1])"
     ]
    },
    {
     "name": "stderr",
     "output_type": "stream",
     "text": [
      "\r",
      "1712it [01:31, 20.13it/s]"
     ]
    },
    {
     "name": "stdout",
     "output_type": "stream",
     "text": [
      " torch.Size([1, 1])\n",
      "torch.Size([1]) torch.Size([1, 1])\n",
      "torch.Size([1]) torch.Size([1, 1])\n",
      "torch.Size([1]) torch.Size([1, 1])\n",
      "torch.Size([1])"
     ]
    },
    {
     "name": "stderr",
     "output_type": "stream",
     "text": [
      "1718it [01:31, 21.01it/s]"
     ]
    },
    {
     "name": "stdout",
     "output_type": "stream",
     "text": [
      " torch.Size([1, 1])\n",
      "torch.Size([1]) torch.Size([1, 1])\n",
      "torch.Size([1]) torch.Size([1, 1])\n",
      "torch.Size([1]) torch.Size([1, 1])\n",
      "torch.Size([1])"
     ]
    },
    {
     "name": "stderr",
     "output_type": "stream",
     "text": [
      "\r",
      "1721it [01:31, 20.57it/s]"
     ]
    },
    {
     "name": "stdout",
     "output_type": "stream",
     "text": [
      " torch.Size([1, 1])\n",
      "torch.Size([1]) torch.Size([1, 1])\n",
      "torch.Size([1]) torch.Size([1, 1])\n",
      "torch.Size([1]) torch.Size([1, 1])\n"
     ]
    },
    {
     "name": "stderr",
     "output_type": "stream",
     "text": [
      "\r",
      "1724it [01:32, 19.75it/s]"
     ]
    },
    {
     "name": "stdout",
     "output_type": "stream",
     "text": [
      "torch.Size([1]) torch.Size([1, 1])\n",
      "torch.Size([1]) torch.Size([1, 1])\n",
      "torch.Size([1]) torch.Size([1, 1])\n",
      "torch.Size([1]) torch.Size([1, 1])\n",
      "torch.Size([1])"
     ]
    },
    {
     "name": "stderr",
     "output_type": "stream",
     "text": [
      "1730it [01:32, 20.95it/s]"
     ]
    },
    {
     "name": "stdout",
     "output_type": "stream",
     "text": [
      " torch.Size([1, 1])\n",
      "torch.Size([1]) torch.Size([1, 1])\n",
      "torch.Size([1]) torch.Size([1, 1])\n",
      "torch.Size([1]) torch.Size([1, 1])\n",
      "torch.Size([1])"
     ]
    },
    {
     "name": "stderr",
     "output_type": "stream",
     "text": [
      "\r",
      "1733it [01:32, 20.36it/s]"
     ]
    },
    {
     "name": "stdout",
     "output_type": "stream",
     "text": [
      " torch.Size([1, 1])\n",
      "torch.Size([1]) torch.Size([1, 1])\n",
      "torch.Size([1]) torch.Size([1, 1])\n",
      "torch.Size([1]) torch.Size([1, 1])\n",
      "torch.Size([1])"
     ]
    },
    {
     "name": "stderr",
     "output_type": "stream",
     "text": [
      "\r",
      "1736it [01:32, 20.54it/s]"
     ]
    },
    {
     "name": "stdout",
     "output_type": "stream",
     "text": [
      " torch.Size([1, 1])\n",
      "torch.Size([1]) torch.Size([1, 1])\n",
      "torch.Size([1]) torch.Size([1, 1])\n",
      "torch.Size([1]) torch.Size([1, 1])\n",
      "torch.Size([1])"
     ]
    },
    {
     "name": "stderr",
     "output_type": "stream",
     "text": [
      "1741it [01:32, 18.92it/s]"
     ]
    },
    {
     "name": "stdout",
     "output_type": "stream",
     "text": [
      " torch.Size([1, 1])\n",
      "torch.Size([1]) torch.Size([1, 1])\n",
      "torch.Size([1]) torch.Size([1, 1])\n",
      "torch.Size([1]) torch.Size([1, 1])\n",
      "torch.Size([1])"
     ]
    },
    {
     "name": "stderr",
     "output_type": "stream",
     "text": [
      "\r",
      "1744it [01:33, 19.76it/s]"
     ]
    },
    {
     "name": "stdout",
     "output_type": "stream",
     "text": [
      " torch.Size([1, 1])\n",
      "torch.Size([1]) torch.Size([1, 1])\n",
      "torch.Size([1]) torch.Size([1, 1])\n",
      "torch.Size([1]) torch.Size([1, 1])\n",
      "torch.Size([1])"
     ]
    },
    {
     "name": "stderr",
     "output_type": "stream",
     "text": [
      "1750it [01:33, 20.25it/s]"
     ]
    },
    {
     "name": "stdout",
     "output_type": "stream",
     "text": [
      " torch.Size([1, 1])\n",
      "torch.Size([1]) torch.Size([1, 1])\n",
      "torch.Size([1]) torch.Size([1, 1])\n",
      "torch.Size([1]) torch.Size([1, 1])\n",
      "torch.Size([1])"
     ]
    },
    {
     "name": "stderr",
     "output_type": "stream",
     "text": [
      "\r",
      "1753it [01:33, 20.41it/s]"
     ]
    },
    {
     "name": "stdout",
     "output_type": "stream",
     "text": [
      " torch.Size([1, 1])\n",
      "torch.Size([1]) torch.Size([1, 1])\n",
      "torch.Size([1]) torch.Size([1, 1])\n",
      "torch.Size([1]) torch.Size([1, 1])\n",
      "torch.Size([1])"
     ]
    },
    {
     "name": "stderr",
     "output_type": "stream",
     "text": [
      "\r",
      "1756it [01:33, 20.49it/s]"
     ]
    },
    {
     "name": "stdout",
     "output_type": "stream",
     "text": [
      " torch.Size([1, 1])\n",
      "torch.Size([1]) torch.Size([1, 1])\n",
      "torch.Size([1]) torch.Size([1, 1])\n",
      "torch.Size([1]) torch.Size([1, 1])\n",
      "torch.Size([1])"
     ]
    },
    {
     "name": "stderr",
     "output_type": "stream",
     "text": [
      "1762it [01:33, 20.62it/s]"
     ]
    },
    {
     "name": "stdout",
     "output_type": "stream",
     "text": [
      " torch.Size([1, 1])\n",
      "torch.Size([1]) torch.Size([1, 1])\n",
      "torch.Size([1]) torch.Size([1, 1])\n",
      "torch.Size([1]) torch.Size([1, 1])\n"
     ]
    },
    {
     "name": "stderr",
     "output_type": "stream",
     "text": [
      "\r",
      "1765it [01:34, 20.29it/s]"
     ]
    },
    {
     "name": "stdout",
     "output_type": "stream",
     "text": [
      "torch.Size([1]) torch.Size([1, 1])\n",
      "torch.Size([1]) torch.Size([1, 1])\n",
      "torch.Size([1]) torch.Size([1, 1])\n",
      "torch.Size([1]) torch.Size([1, 1])\n",
      "torch.Size([1])"
     ]
    },
    {
     "name": "stderr",
     "output_type": "stream",
     "text": [
      "\r",
      "1768it [01:34, 20.35it/s]"
     ]
    },
    {
     "name": "stdout",
     "output_type": "stream",
     "text": [
      " torch.Size([1, 1])\n",
      "torch.Size([1]) torch.Size([1, 1])\n",
      "torch.Size([1]) torch.Size([1, 1])\n",
      "torch.Size([1]) torch.Size([1, 1])\n",
      "torch.Size([1])"
     ]
    },
    {
     "name": "stderr",
     "output_type": "stream",
     "text": [
      "1774it [01:34, 21.09it/s]"
     ]
    },
    {
     "name": "stdout",
     "output_type": "stream",
     "text": [
      " torch.Size([1, 1])\n",
      "torch.Size([1]) torch.Size([1, 1])\n",
      "torch.Size([1]) torch.Size([1, 1])\n",
      "torch.Size([1]) torch.Size([1, 1])\n",
      "torch.Size([1])"
     ]
    },
    {
     "name": "stderr",
     "output_type": "stream",
     "text": [
      "\r",
      "1777it [01:34, 21.00it/s]"
     ]
    },
    {
     "name": "stdout",
     "output_type": "stream",
     "text": [
      " torch.Size([1, 1])\n",
      "torch.Size([1]) torch.Size([1, 1])\n",
      "torch.Size([1]) torch.Size([1, 1])\n",
      "torch.Size([1]) torch.Size([1, 1])\n",
      "torch.Size([1])"
     ]
    },
    {
     "name": "stderr",
     "output_type": "stream",
     "text": [
      "\r",
      "1780it [01:34, 21.08it/s]"
     ]
    },
    {
     "name": "stdout",
     "output_type": "stream",
     "text": [
      " torch.Size([1, 1])\n",
      "torch.Size([1]) torch.Size([1, 1])\n",
      "torch.Size([1]) torch.Size([1, 1])\n",
      "torch.Size([1]) torch.Size([1, 1])\n",
      "torch.Size([1])"
     ]
    },
    {
     "name": "stderr",
     "output_type": "stream",
     "text": [
      "1786it [01:35, 21.33it/s]"
     ]
    },
    {
     "name": "stdout",
     "output_type": "stream",
     "text": [
      " torch.Size([1, 1])\n",
      "torch.Size([1]) torch.Size([1, 1])\n",
      "torch.Size([1]) torch.Size([1, 1])\n",
      "torch.Size([1]) torch.Size([1, 1])\n",
      "torch.Size([1])"
     ]
    },
    {
     "name": "stderr",
     "output_type": "stream",
     "text": [
      "\r",
      "1789it [01:35, 21.32it/s]"
     ]
    },
    {
     "name": "stdout",
     "output_type": "stream",
     "text": [
      " torch.Size([1, 1])\n",
      "torch.Size([1]) torch.Size([1, 1])\n",
      "torch.Size([1]) torch.Size([1, 1])\n",
      "torch.Size([1]) torch.Size([1, 1])\n",
      "torch.Size([1])"
     ]
    },
    {
     "name": "stderr",
     "output_type": "stream",
     "text": [
      "\r",
      "1792it [01:35, 21.21it/s]"
     ]
    },
    {
     "name": "stdout",
     "output_type": "stream",
     "text": [
      " torch.Size([1, 1])\n",
      "torch.Size([1]) torch.Size([1, 1])\n",
      "torch.Size([1]) torch.Size([1, 1])\n",
      "torch.Size([1]) torch.Size([1, 1])\n",
      "torch.Size([1])"
     ]
    },
    {
     "name": "stderr",
     "output_type": "stream",
     "text": [
      "1798it [01:35, 20.85it/s]"
     ]
    },
    {
     "name": "stdout",
     "output_type": "stream",
     "text": [
      " torch.Size([1, 1])\n",
      "torch.Size([1]) torch.Size([1, 1])\n",
      "torch.Size([1]) torch.Size([1, 1])\n",
      "torch.Size([1]) torch.Size([1, 1])\n"
     ]
    },
    {
     "name": "stderr",
     "output_type": "stream",
     "text": [
      "\r",
      "1801it [01:35, 19.54it/s]"
     ]
    },
    {
     "name": "stdout",
     "output_type": "stream",
     "text": [
      "torch.Size([1]) torch.Size([1, 1])\n",
      "torch.Size([1]) torch.Size([1, 1])\n",
      "torch.Size([1]) torch.Size([1, 1])\n",
      "torch.Size([1]) torch.Size([1, 1])\n"
     ]
    },
    {
     "name": "stderr",
     "output_type": "stream",
     "text": [
      "\r",
      "1804it [01:35, 20.10it/s]"
     ]
    },
    {
     "name": "stdout",
     "output_type": "stream",
     "text": [
      "torch.Size([1]) torch.Size([1, 1])\n",
      "torch.Size([1]) torch.Size([1, 1])\n",
      "torch.Size([1]) torch.Size([1, 1])\n",
      "torch.Size([1]) torch.Size([1, 1])\n",
      "torch.Size([1])"
     ]
    },
    {
     "name": "stderr",
     "output_type": "stream",
     "text": [
      "1810it [01:36, 20.56it/s]"
     ]
    },
    {
     "name": "stdout",
     "output_type": "stream",
     "text": [
      " torch.Size([1, 1])\n",
      "torch.Size([1]) torch.Size([1, 1])\n",
      "torch.Size([1]) torch.Size([1, 1])\n",
      "torch.Size([1]) torch.Size([1, 1])\n",
      "torch.Size([1])"
     ]
    },
    {
     "name": "stderr",
     "output_type": "stream",
     "text": [
      "\r",
      "1813it [01:36, 19.83it/s]"
     ]
    },
    {
     "name": "stdout",
     "output_type": "stream",
     "text": [
      " torch.Size([1, 1])\n",
      "torch.Size([1]) torch.Size([1, 1])\n",
      "torch.Size([1]) torch.Size([1, 1])\n",
      "torch.Size([1]) torch.Size([1, 1])\n"
     ]
    },
    {
     "name": "stderr",
     "output_type": "stream",
     "text": [
      "1818it [01:36, 19.27it/s]"
     ]
    },
    {
     "name": "stdout",
     "output_type": "stream",
     "text": [
      "torch.Size([1]) torch.Size([1, 1])\n",
      "torch.Size([1]) torch.Size([1, 1])\n",
      "torch.Size([1]) torch.Size([1, 1])\n",
      "torch.Size([1]) torch.Size([1, 1])\n",
      "torch.Size([1])"
     ]
    },
    {
     "name": "stderr",
     "output_type": "stream",
     "text": [
      "\r",
      "1821it [01:36, 19.82it/s]"
     ]
    },
    {
     "name": "stdout",
     "output_type": "stream",
     "text": [
      " torch.Size([1, 1])\n",
      "torch.Size([1]) torch.Size([1, 1])\n",
      "torch.Size([1]) torch.Size([1, 1])\n",
      "torch.Size([1]) torch.Size([1, 1])\n",
      "torch.Size([1])"
     ]
    },
    {
     "name": "stderr",
     "output_type": "stream",
     "text": [
      "\r",
      "1824it [01:36, 20.14it/s]"
     ]
    },
    {
     "name": "stdout",
     "output_type": "stream",
     "text": [
      " torch.Size([1, 1])\n",
      "torch.Size([1]) torch.Size([1, 1])\n",
      "torch.Size([1]) torch.Size([1, 1])\n",
      "torch.Size([1]) torch.Size([1, 1])\n"
     ]
    },
    {
     "name": "stderr",
     "output_type": "stream",
     "text": [
      "1830it [01:37, 20.34it/s]"
     ]
    },
    {
     "name": "stdout",
     "output_type": "stream",
     "text": [
      "torch.Size([1]) torch.Size([1, 1])\n",
      "torch.Size([1]) torch.Size([1, 1])\n",
      "torch.Size([1]) torch.Size([1, 1])\n",
      "torch.Size([1]) torch.Size([1, 1])\n",
      "torch.Size([1])"
     ]
    },
    {
     "name": "stderr",
     "output_type": "stream",
     "text": [
      "\r",
      "1833it [01:37, 20.28it/s]"
     ]
    },
    {
     "name": "stdout",
     "output_type": "stream",
     "text": [
      " torch.Size([1, 1])\n",
      "torch.Size([1]) torch.Size([1, 1])\n",
      "torch.Size([1]) torch.Size([1, 1])\n",
      "torch.Size([1]) torch.Size([1, 1])\n",
      "torch.Size([1])"
     ]
    },
    {
     "name": "stderr",
     "output_type": "stream",
     "text": [
      "\r",
      "1836it [01:37, 20.31it/s]"
     ]
    },
    {
     "name": "stdout",
     "output_type": "stream",
     "text": [
      " torch.Size([1, 1])\n",
      "torch.Size([1]) torch.Size([1, 1])\n",
      "torch.Size([1]) torch.Size([1, 1])\n",
      "torch.Size([1]) torch.Size([1, 1])\n",
      "torch.Size([1])"
     ]
    },
    {
     "name": "stderr",
     "output_type": "stream",
     "text": [
      "1842it [01:37, 20.55it/s]"
     ]
    },
    {
     "name": "stdout",
     "output_type": "stream",
     "text": [
      " torch.Size([1, 1])\n",
      "torch.Size([1]) torch.Size([1, 1])\n",
      "torch.Size([1]) torch.Size([1, 1])\n",
      "torch.Size([1]) torch.Size([1, 1])\n",
      "torch.Size([1])"
     ]
    },
    {
     "name": "stderr",
     "output_type": "stream",
     "text": [
      "\r",
      "1845it [01:38, 21.12it/s]"
     ]
    },
    {
     "name": "stdout",
     "output_type": "stream",
     "text": [
      " torch.Size([1, 1])\n",
      "torch.Size([1]) torch.Size([1, 1])\n",
      "torch.Size([1]) torch.Size([1, 1])\n",
      "torch.Size([1]) torch.Size([1, 1])\n",
      "torch.Size([1])"
     ]
    },
    {
     "name": "stderr",
     "output_type": "stream",
     "text": [
      "\r",
      "1848it [01:38, 20.73it/s]"
     ]
    },
    {
     "name": "stdout",
     "output_type": "stream",
     "text": [
      " torch.Size([1, 1])\n",
      "torch.Size([1]) torch.Size([1, 1])\n",
      "torch.Size([1]) torch.Size([1, 1])\n",
      "torch.Size([1]) torch.Size([1, 1])\n",
      "torch.Size([1])"
     ]
    },
    {
     "name": "stderr",
     "output_type": "stream",
     "text": [
      "1854it [01:38, 20.76it/s]"
     ]
    },
    {
     "name": "stdout",
     "output_type": "stream",
     "text": [
      " torch.Size([1, 1])\n",
      "torch.Size([1]) torch.Size([1, 1])\n",
      "torch.Size([1]) torch.Size([1, 1])\n",
      "torch.Size([1]) torch.Size([1, 1])\n"
     ]
    },
    {
     "name": "stderr",
     "output_type": "stream",
     "text": [
      "\r",
      "1857it [01:38, 20.40it/s]"
     ]
    },
    {
     "name": "stdout",
     "output_type": "stream",
     "text": [
      "torch.Size([1]) torch.Size([1, 1])\n",
      "torch.Size([1]) torch.Size([1, 1])\n",
      "torch.Size([1]) torch.Size([1, 1])\n",
      "torch.Size([1]) torch.Size([1, 1])\n"
     ]
    },
    {
     "name": "stderr",
     "output_type": "stream",
     "text": [
      "\r",
      "1860it [01:38, 19.24it/s]"
     ]
    },
    {
     "name": "stdout",
     "output_type": "stream",
     "text": [
      "torch.Size([1]) torch.Size([1, 1])\n",
      "torch.Size([1]) torch.Size([1, 1])\n",
      "torch.Size([1]) torch.Size([1, 1])\n",
      "torch.Size([1]) torch.Size([1, 1])\n",
      "torch.Size([1])"
     ]
    },
    {
     "name": "stderr",
     "output_type": "stream",
     "text": [
      "1866it [01:39, 20.46it/s]"
     ]
    },
    {
     "name": "stdout",
     "output_type": "stream",
     "text": [
      " torch.Size([1, 1])\n",
      "torch.Size([1]) torch.Size([1, 1])\n",
      "torch.Size([1]) torch.Size([1, 1])\n",
      "torch.Size([1]) torch.Size([1, 1])\n",
      "torch.Size([1])"
     ]
    },
    {
     "name": "stderr",
     "output_type": "stream",
     "text": [
      "\r",
      "1869it [01:39, 20.61it/s]"
     ]
    },
    {
     "name": "stdout",
     "output_type": "stream",
     "text": [
      " torch.Size([1, 1])\n",
      "torch.Size([1]) torch.Size([1, 1])\n",
      "torch.Size([1]) torch.Size([1, 1])\n",
      "torch.Size([1]) torch.Size([1, 1])\n",
      "torch.Size([1])"
     ]
    },
    {
     "name": "stderr",
     "output_type": "stream",
     "text": [
      "\r",
      "1872it [01:39, 20.43it/s]"
     ]
    },
    {
     "name": "stdout",
     "output_type": "stream",
     "text": [
      " torch.Size([1, 1])\n",
      "torch.Size([1]) torch.Size([1, 1])\n",
      "torch.Size([1]) torch.Size([1, 1])\n",
      "torch.Size([1]) torch.Size([1, 1])\n",
      "torch.Size([1])"
     ]
    },
    {
     "name": "stderr",
     "output_type": "stream",
     "text": [
      "1878it [01:39, 21.27it/s]"
     ]
    },
    {
     "name": "stdout",
     "output_type": "stream",
     "text": [
      " torch.Size([1, 1])\n",
      "torch.Size([1]) torch.Size([1, 1])\n",
      "torch.Size([1]) torch.Size([1, 1])\n",
      "torch.Size([1]) torch.Size([1, 1])\n",
      "torch.Size([1])"
     ]
    },
    {
     "name": "stderr",
     "output_type": "stream",
     "text": [
      "\r",
      "1881it [01:39, 21.18it/s]"
     ]
    },
    {
     "name": "stdout",
     "output_type": "stream",
     "text": [
      " torch.Size([1, 1])\n",
      "torch.Size([1]) torch.Size([1, 1])\n",
      "torch.Size([1]) torch.Size([1, 1])\n",
      "torch.Size([1]) torch.Size([1, 1])\n",
      "torch.Size([1])"
     ]
    },
    {
     "name": "stderr",
     "output_type": "stream",
     "text": [
      "\r",
      "1884it [01:39, 20.99it/s]"
     ]
    },
    {
     "name": "stdout",
     "output_type": "stream",
     "text": [
      " torch.Size([1, 1])\n",
      "torch.Size([1]) torch.Size([1, 1])\n",
      "torch.Size([1]) torch.Size([1, 1])\n",
      "torch.Size([1]) torch.Size([1, 1])\n",
      "torch.Size([1])"
     ]
    },
    {
     "name": "stderr",
     "output_type": "stream",
     "text": [
      "1890it [01:40, 20.87it/s]"
     ]
    },
    {
     "name": "stdout",
     "output_type": "stream",
     "text": [
      " torch.Size([1, 1])\n",
      "torch.Size([1]) torch.Size([1, 1])\n",
      "torch.Size([1]) torch.Size([1, 1])\n",
      "torch.Size([1]) torch.Size([1, 1])\n",
      "torch.Size([1])"
     ]
    },
    {
     "name": "stderr",
     "output_type": "stream",
     "text": [
      "\r",
      "1893it [01:40, 20.97it/s]"
     ]
    },
    {
     "name": "stdout",
     "output_type": "stream",
     "text": [
      " torch.Size([1, 1])\n",
      "torch.Size([1]) torch.Size([1, 1])\n",
      "torch.Size([1]) torch.Size([1, 1])\n",
      "torch.Size([1]) torch.Size([1, 1])\n",
      "torch.Size([1])"
     ]
    },
    {
     "name": "stderr",
     "output_type": "stream",
     "text": [
      "\r",
      "1896it [01:40, 20.36it/s]"
     ]
    },
    {
     "name": "stdout",
     "output_type": "stream",
     "text": [
      " torch.Size([1, 1])\n",
      "torch.Size([1]) torch.Size([1, 1])\n",
      "torch.Size([1]) torch.Size([1, 1])\n",
      "torch.Size([1]) torch.Size([1, 1])\n",
      "torch.Size([1])"
     ]
    },
    {
     "name": "stderr",
     "output_type": "stream",
     "text": [
      "1902it [01:40, 20.49it/s]"
     ]
    },
    {
     "name": "stdout",
     "output_type": "stream",
     "text": [
      " torch.Size([1, 1])\n",
      "torch.Size([1]) torch.Size([1, 1])\n",
      "torch.Size([1]) torch.Size([1, 1])\n",
      "torch.Size([1]) torch.Size([1, 1])\n",
      "torch.Size([1])"
     ]
    },
    {
     "name": "stderr",
     "output_type": "stream",
     "text": [
      "\r",
      "1905it [01:40, 20.55it/s]"
     ]
    },
    {
     "name": "stdout",
     "output_type": "stream",
     "text": [
      " torch.Size([1, 1])\n",
      "torch.Size([1]) torch.Size([1, 1])\n",
      "torch.Size([1]) torch.Size([1, 1])\n",
      "torch.Size([1]) torch.Size([1, 1])\n",
      "torch.Size([1])"
     ]
    },
    {
     "name": "stderr",
     "output_type": "stream",
     "text": [
      "\r",
      "1908it [01:41, 20.77it/s]"
     ]
    },
    {
     "name": "stdout",
     "output_type": "stream",
     "text": [
      " torch.Size([1, 1])\n",
      "torch.Size([1]) torch.Size([1, 1])\n",
      "torch.Size([1]) torch.Size([1, 1])\n",
      "torch.Size([1]) torch.Size([1, 1])\n",
      "torch.Size([1])"
     ]
    },
    {
     "name": "stderr",
     "output_type": "stream",
     "text": [
      "1914it [01:41, 20.97it/s]"
     ]
    },
    {
     "name": "stdout",
     "output_type": "stream",
     "text": [
      " torch.Size([1, 1])\n",
      "torch.Size([1]) torch.Size([1, 1])\n",
      "torch.Size([1]) torch.Size([1, 1])\n",
      "torch.Size([1]) torch.Size([1, 1])\n",
      "torch.Size([1])"
     ]
    },
    {
     "name": "stderr",
     "output_type": "stream",
     "text": [
      "\r",
      "1917it [01:41, 20.93it/s]"
     ]
    },
    {
     "name": "stdout",
     "output_type": "stream",
     "text": [
      " torch.Size([1, 1])\n",
      "torch.Size([1]) torch.Size([1, 1])\n",
      "torch.Size([1]) torch.Size([1, 1])\n",
      "torch.Size([1]) torch.Size([1, 1])\n",
      "torch.Size([1])"
     ]
    },
    {
     "name": "stderr",
     "output_type": "stream",
     "text": [
      "\r",
      "1920it [01:41, 20.79it/s]"
     ]
    },
    {
     "name": "stdout",
     "output_type": "stream",
     "text": [
      " torch.Size([1, 1])\n",
      "torch.Size([1]) torch.Size([1, 1])\n",
      "torch.Size([1]) torch.Size([1, 1])\n",
      "torch.Size([1]) torch.Size([1, 1])\n",
      "torch.Size([1])"
     ]
    },
    {
     "name": "stderr",
     "output_type": "stream",
     "text": [
      "1926it [01:41, 20.98it/s]"
     ]
    },
    {
     "name": "stdout",
     "output_type": "stream",
     "text": [
      " torch.Size([1, 1])\n",
      "torch.Size([1]) torch.Size([1, 1])\n",
      "torch.Size([1]) torch.Size([1, 1])\n",
      "torch.Size([1]) torch.Size([1, 1])\n",
      "torch.Size([1])"
     ]
    },
    {
     "name": "stderr",
     "output_type": "stream",
     "text": [
      "\r",
      "1929it [01:42, 20.82it/s]"
     ]
    },
    {
     "name": "stdout",
     "output_type": "stream",
     "text": [
      " torch.Size([1, 1])\n",
      "torch.Size([1]) torch.Size([1, 1])\n",
      "torch.Size([1]) torch.Size([1, 1])\n",
      "torch.Size([1]) torch.Size([1, 1])\n",
      "torch.Size([1])"
     ]
    },
    {
     "name": "stderr",
     "output_type": "stream",
     "text": [
      "\r",
      "1932it [01:42, 20.55it/s]"
     ]
    },
    {
     "name": "stdout",
     "output_type": "stream",
     "text": [
      " torch.Size([1, 1])\n",
      "torch.Size([1]) torch.Size([1, 1])\n",
      "torch.Size([1]) torch.Size([1, 1])\n",
      "torch.Size([1]) torch.Size([1, 1])\n"
     ]
    },
    {
     "name": "stderr",
     "output_type": "stream",
     "text": [
      "1938it [01:42, 20.84it/s]"
     ]
    },
    {
     "name": "stdout",
     "output_type": "stream",
     "text": [
      "torch.Size([1]) torch.Size([1, 1])\n",
      "torch.Size([1]) torch.Size([1, 1])\n",
      "torch.Size([1]) torch.Size([1, 1])\n",
      "torch.Size([1]) torch.Size([1, 1])\n",
      "torch.Size([1])"
     ]
    },
    {
     "name": "stderr",
     "output_type": "stream",
     "text": [
      "\r",
      "1941it [01:42, 20.81it/s]"
     ]
    },
    {
     "name": "stdout",
     "output_type": "stream",
     "text": [
      " torch.Size([1, 1])\n",
      "torch.Size([1]) torch.Size([1, 1])\n",
      "torch.Size([1]) torch.Size([1, 1])\n",
      "torch.Size([1]) torch.Size([1, 1])\n",
      "torch.Size([1])"
     ]
    },
    {
     "name": "stderr",
     "output_type": "stream",
     "text": [
      "\r",
      "1944it [01:42, 20.41it/s]"
     ]
    },
    {
     "name": "stdout",
     "output_type": "stream",
     "text": [
      " torch.Size([1, 1])\n",
      "torch.Size([1]) torch.Size([1, 1])\n",
      "torch.Size([1]) torch.Size([1, 1])\n",
      "torch.Size([1]) torch.Size([1, 1])\n",
      "torch.Size([1])"
     ]
    },
    {
     "name": "stderr",
     "output_type": "stream",
     "text": [
      "1950it [01:43, 20.40it/s]"
     ]
    },
    {
     "name": "stdout",
     "output_type": "stream",
     "text": [
      " torch.Size([1, 1])\n",
      "torch.Size([1]) torch.Size([1, 1])\n",
      "torch.Size([1]) torch.Size([1, 1])\n",
      "torch.Size([1]) torch.Size([1, 1])\n",
      "torch.Size([1])"
     ]
    },
    {
     "name": "stderr",
     "output_type": "stream",
     "text": [
      "\r",
      "1953it [01:43, 20.49it/s]"
     ]
    },
    {
     "name": "stdout",
     "output_type": "stream",
     "text": [
      " torch.Size([1, 1])\n",
      "torch.Size([1]) torch.Size([1, 1])\n",
      "torch.Size([1]) torch.Size([1, 1])\n",
      "torch.Size([1]) torch.Size([1, 1])\n",
      "torch.Size([1])"
     ]
    },
    {
     "name": "stderr",
     "output_type": "stream",
     "text": [
      "\r",
      "1956it [01:43, 20.47it/s]"
     ]
    },
    {
     "name": "stdout",
     "output_type": "stream",
     "text": [
      " torch.Size([1, 1])\n",
      "torch.Size([1]) torch.Size([1, 1])\n",
      "torch.Size([1]) torch.Size([1, 1])\n",
      "torch.Size([1]) torch.Size([1, 1])\n"
     ]
    },
    {
     "name": "stderr",
     "output_type": "stream",
     "text": [
      "1962it [01:43, 20.19it/s]"
     ]
    },
    {
     "name": "stdout",
     "output_type": "stream",
     "text": [
      "torch.Size([1]) torch.Size([1, 1])\n",
      "torch.Size([1]) torch.Size([1, 1])\n",
      "torch.Size([1]) torch.Size([1, 1])\n",
      "torch.Size([1]) torch.Size([1, 1])\n"
     ]
    },
    {
     "name": "stderr",
     "output_type": "stream",
     "text": [
      "\r",
      "1965it [01:43, 20.08it/s]"
     ]
    },
    {
     "name": "stdout",
     "output_type": "stream",
     "text": [
      "torch.Size([1]) torch.Size([1, 1])\n",
      "torch.Size([1]) torch.Size([1, 1])\n",
      "torch.Size([1]) torch.Size([1, 1])\n",
      "torch.Size([1]) torch.Size([1, 1])\n"
     ]
    },
    {
     "name": "stderr",
     "output_type": "stream",
     "text": [
      "1970it [01:44, 19.48it/s]"
     ]
    },
    {
     "name": "stdout",
     "output_type": "stream",
     "text": [
      "torch.Size([1]) torch.Size([1, 1])\n",
      "torch.Size([1]) torch.Size([1, 1])\n",
      "torch.Size([1]) torch.Size([1, 1])\n",
      "torch.Size([1]) torch.Size([1, 1])\n",
      "torch.Size([1])"
     ]
    },
    {
     "name": "stderr",
     "output_type": "stream",
     "text": [
      "\r",
      "1973it [01:44, 19.87it/s]"
     ]
    },
    {
     "name": "stdout",
     "output_type": "stream",
     "text": [
      " torch.Size([1, 1])\n",
      "torch.Size([1]) torch.Size([1, 1])\n",
      "torch.Size([1]) torch.Size([1, 1])\n",
      "torch.Size([1]) torch.Size([1, 1])\n"
     ]
    },
    {
     "name": "stderr",
     "output_type": "stream",
     "text": [
      "\r",
      "1976it [01:44, 19.88it/s]"
     ]
    },
    {
     "name": "stdout",
     "output_type": "stream",
     "text": [
      "torch.Size([1]) torch.Size([1, 1])\n",
      "torch.Size([1]) torch.Size([1, 1])\n",
      "torch.Size([1]) torch.Size([1, 1])\n",
      "torch.Size([1]) torch.Size([1, 1])\n",
      "torch.Size([1])"
     ]
    },
    {
     "name": "stderr",
     "output_type": "stream",
     "text": [
      "1982it [01:44, 20.35it/s]"
     ]
    },
    {
     "name": "stdout",
     "output_type": "stream",
     "text": [
      " torch.Size([1, 1])\n",
      "torch.Size([1]) torch.Size([1, 1])\n",
      "torch.Size([1]) torch.Size([1, 1])\n",
      "torch.Size([1]) torch.Size([1, 1])\n",
      "torch.Size([1])"
     ]
    },
    {
     "name": "stderr",
     "output_type": "stream",
     "text": [
      "\r",
      "1985it [01:44, 21.06it/s]"
     ]
    },
    {
     "name": "stdout",
     "output_type": "stream",
     "text": [
      " torch.Size([1, 1])\n",
      "torch.Size([1]) torch.Size([1, 1])\n",
      "torch.Size([1]) torch.Size([1, 1])\n",
      "torch.Size([1]) torch.Size([1, 1])\n",
      "torch.Size([1])"
     ]
    },
    {
     "name": "stderr",
     "output_type": "stream",
     "text": [
      "\r",
      "1988it [01:44, 20.65it/s]"
     ]
    },
    {
     "name": "stdout",
     "output_type": "stream",
     "text": [
      " torch.Size([1, 1])\n",
      "torch.Size([1]) torch.Size([1, 1])\n",
      "torch.Size([1]) torch.Size([1, 1])\n",
      "torch.Size([1]) torch.Size([1, 1])\n"
     ]
    },
    {
     "name": "stderr",
     "output_type": "stream",
     "text": [
      "1994it [01:45, 21.24it/s]"
     ]
    },
    {
     "name": "stdout",
     "output_type": "stream",
     "text": [
      "torch.Size([1]) torch.Size([1, 1])\n",
      "torch.Size([1]) torch.Size([1, 1])\n",
      "torch.Size([1]) torch.Size([1, 1])\n",
      "torch.Size([1]) torch.Size([1, 1])\n",
      "torch.Size([1]) torch.Size([1, 1])\n"
     ]
    },
    {
     "name": "stderr",
     "output_type": "stream",
     "text": [
      "\r",
      "1997it [01:45, 20.94it/s]"
     ]
    },
    {
     "name": "stdout",
     "output_type": "stream",
     "text": [
      "torch.Size([1]) torch.Size([1, 1])\n",
      "torch.Size([1]) torch.Size([1, 1])\n",
      "torch.Size([1]) torch.Size([1, 1])\n",
      "torch.Size([1]) torch.Size([1, 1])\n",
      "torch.Size([1])"
     ]
    },
    {
     "name": "stderr",
     "output_type": "stream",
     "text": [
      "2003it [01:45, 21.26it/s]"
     ]
    },
    {
     "name": "stdout",
     "output_type": "stream",
     "text": [
      " torch.Size([1, 1])\n",
      "torch.Size([1]) torch.Size([1, 1])\n",
      "torch.Size([1]) torch.Size([1, 1])\n",
      "torch.Size([1]) torch.Size([1, 1])\n",
      "torch.Size([1])"
     ]
    },
    {
     "name": "stderr",
     "output_type": "stream",
     "text": [
      "\r",
      "2006it [01:45, 20.76it/s]"
     ]
    },
    {
     "name": "stdout",
     "output_type": "stream",
     "text": [
      " torch.Size([1, 1])\n",
      "torch.Size([1]) torch.Size([1, 1])\n",
      "torch.Size([1]) torch.Size([1, 1])\n",
      "torch.Size([1]) torch.Size([1, 1])\n",
      "torch.Size([1])"
     ]
    },
    {
     "name": "stderr",
     "output_type": "stream",
     "text": [
      "\r",
      "2009it [01:45, 20.93it/s]"
     ]
    },
    {
     "name": "stdout",
     "output_type": "stream",
     "text": [
      " torch.Size([1, 1])\n",
      "torch.Size([1]) torch.Size([1, 1])\n",
      "torch.Size([1]) torch.Size([1, 1])\n",
      "torch.Size([1]) torch.Size([1, 1])\n",
      "torch.Size([1])"
     ]
    },
    {
     "name": "stderr",
     "output_type": "stream",
     "text": [
      "2015it [01:46, 20.97it/s]"
     ]
    },
    {
     "name": "stdout",
     "output_type": "stream",
     "text": [
      " torch.Size([1, 1])\n",
      "torch.Size([1]) torch.Size([1, 1])\n",
      "torch.Size([1]) torch.Size([1, 1])\n",
      "torch.Size([1]) torch.Size([1, 1])\n",
      "torch.Size([1])"
     ]
    },
    {
     "name": "stderr",
     "output_type": "stream",
     "text": [
      "\r",
      "2018it [01:46, 21.32it/s]"
     ]
    },
    {
     "name": "stdout",
     "output_type": "stream",
     "text": [
      " torch.Size([1, 1])\n",
      "torch.Size([1]) torch.Size([1, 1])\n",
      "torch.Size([1]) torch.Size([1, 1])\n",
      "torch.Size([1]) torch.Size([1, 1])\n",
      "torch.Size([1])"
     ]
    },
    {
     "name": "stderr",
     "output_type": "stream",
     "text": [
      "\r",
      "2021it [01:46, 20.81it/s]"
     ]
    },
    {
     "name": "stdout",
     "output_type": "stream",
     "text": [
      " torch.Size([1, 1])\n",
      "torch.Size([1]) torch.Size([1, 1])\n",
      "torch.Size([1]) torch.Size([1, 1])\n",
      "torch.Size([1]) torch.Size([1, 1])\n",
      "torch.Size([1])"
     ]
    },
    {
     "name": "stderr",
     "output_type": "stream",
     "text": [
      "2027it [01:46, 20.89it/s]"
     ]
    },
    {
     "name": "stdout",
     "output_type": "stream",
     "text": [
      " torch.Size([1, 1])\n",
      "torch.Size([1]) torch.Size([1, 1])\n",
      "torch.Size([1]) torch.Size([1, 1])\n",
      "torch.Size([1]) torch.Size([1, 1])\n",
      "torch.Size([1])"
     ]
    },
    {
     "name": "stderr",
     "output_type": "stream",
     "text": [
      "\r",
      "2030it [01:46, 20.75it/s]"
     ]
    },
    {
     "name": "stdout",
     "output_type": "stream",
     "text": [
      " torch.Size([1, 1])\n",
      "torch.Size([1]) torch.Size([1, 1])\n",
      "torch.Size([1]) torch.Size([1, 1])\n",
      "torch.Size([1]) torch.Size([1, 1])\n",
      "torch.Size([1]) torch.Size([1, 1])\n"
     ]
    },
    {
     "name": "stderr",
     "output_type": "stream",
     "text": [
      "2036it [01:47, 20.66it/s]"
     ]
    },
    {
     "name": "stdout",
     "output_type": "stream",
     "text": [
      "torch.Size([1]) torch.Size([1, 1])\n",
      "torch.Size([1]) torch.Size([1, 1])\n",
      "torch.Size([1]) torch.Size([1, 1])\n",
      "torch.Size([1]) torch.Size([1, 1])\n",
      "torch.Size([1])"
     ]
    },
    {
     "name": "stderr",
     "output_type": "stream",
     "text": [
      "\r",
      "2039it [01:47, 20.61it/s]"
     ]
    },
    {
     "name": "stdout",
     "output_type": "stream",
     "text": [
      " torch.Size([1, 1])\n",
      "torch.Size([1]) torch.Size([1, 1])\n",
      "torch.Size([1]) torch.Size([1, 1])\n",
      "torch.Size([1]) torch.Size([1, 1])\n",
      "torch.Size([1])"
     ]
    },
    {
     "name": "stderr",
     "output_type": "stream",
     "text": [
      "\r",
      "2042it [01:47, 20.86it/s]"
     ]
    },
    {
     "name": "stdout",
     "output_type": "stream",
     "text": [
      " torch.Size([1, 1])\n",
      "torch.Size([1]) torch.Size([1, 1])\n",
      "torch.Size([1]) torch.Size([1, 1])\n",
      "torch.Size([1]) torch.Size([1, 1])\n",
      "torch.Size([1])"
     ]
    },
    {
     "name": "stderr",
     "output_type": "stream",
     "text": [
      "2048it [01:47, 20.66it/s]"
     ]
    },
    {
     "name": "stdout",
     "output_type": "stream",
     "text": [
      " torch.Size([1, 1])\n",
      "torch.Size([1]) torch.Size([1, 1])\n",
      "torch.Size([1]) torch.Size([1, 1])\n",
      "torch.Size([1]) torch.Size([1, 1])\n",
      "torch.Size([1])"
     ]
    },
    {
     "name": "stderr",
     "output_type": "stream",
     "text": [
      "\r",
      "2051it [01:47, 20.79it/s]"
     ]
    },
    {
     "name": "stdout",
     "output_type": "stream",
     "text": [
      " torch.Size([1, 1])\n",
      "torch.Size([1]) torch.Size([1, 1])\n",
      "torch.Size([1]) torch.Size([1, 1])\n",
      "torch.Size([1]) torch.Size([1, 1])\n",
      "torch.Size([1])"
     ]
    },
    {
     "name": "stderr",
     "output_type": "stream",
     "text": [
      "2057it [01:48, 20.92it/s]"
     ]
    },
    {
     "name": "stdout",
     "output_type": "stream",
     "text": [
      " torch.Size([1, 1])\n",
      "torch.Size([1]) torch.Size([1, 1])\n",
      "torch.Size([1]) torch.Size([1, 1])\n",
      "torch.Size([1]) torch.Size([1, 1])\n",
      "torch.Size([1]) torch.Size([1, 1])\n"
     ]
    },
    {
     "name": "stderr",
     "output_type": "stream",
     "text": [
      "\r",
      "2060it [01:48, 20.67it/s]"
     ]
    },
    {
     "name": "stdout",
     "output_type": "stream",
     "text": [
      "torch.Size([1]) torch.Size([1, 1])\n",
      "torch.Size([1]) torch.Size([1, 1])\n",
      "torch.Size([1]) torch.Size([1, 1])\n",
      "torch.Size([1]) torch.Size([1, 1])\n",
      "torch.Size([1])"
     ]
    },
    {
     "name": "stderr",
     "output_type": "stream",
     "text": [
      "\r",
      "2063it [01:48, 20.45it/s]"
     ]
    },
    {
     "name": "stdout",
     "output_type": "stream",
     "text": [
      " torch.Size([1, 1])\n",
      "torch.Size([1]) torch.Size([1, 1])\n",
      "torch.Size([1]) torch.Size([1, 1])\n",
      "torch.Size([1]) torch.Size([1, 1])\n",
      "torch.Size([1])"
     ]
    },
    {
     "name": "stderr",
     "output_type": "stream",
     "text": [
      "2069it [01:48, 20.13it/s]"
     ]
    },
    {
     "name": "stdout",
     "output_type": "stream",
     "text": [
      " torch.Size([1, 1])\n",
      "torch.Size([1]) torch.Size([1, 1])\n",
      "torch.Size([1]) torch.Size([1, 1])\n",
      "torch.Size([1]) torch.Size([1, 1])\n"
     ]
    },
    {
     "name": "stderr",
     "output_type": "stream",
     "text": [
      "\r",
      "2072it [01:49, 20.20it/s]"
     ]
    },
    {
     "name": "stdout",
     "output_type": "stream",
     "text": [
      "torch.Size([1]) torch.Size([1, 1])\n",
      "torch.Size([1]) torch.Size([1, 1])\n",
      "torch.Size([1]) torch.Size([1, 1])\n",
      "torch.Size([1]) torch.Size([1, 1])\n",
      "torch.Size([1])"
     ]
    },
    {
     "name": "stderr",
     "output_type": "stream",
     "text": [
      "\r",
      "2075it [01:49, 20.00it/s]"
     ]
    },
    {
     "name": "stdout",
     "output_type": "stream",
     "text": [
      " torch.Size([1, 1])\n",
      "torch.Size([1]) torch.Size([1, 1])\n",
      "torch.Size([1]) torch.Size([1, 1])\n",
      "torch.Size([1]) torch.Size([1, 1])\n",
      "torch.Size([1])"
     ]
    },
    {
     "name": "stderr",
     "output_type": "stream",
     "text": [
      "2081it [01:49, 20.31it/s]"
     ]
    },
    {
     "name": "stdout",
     "output_type": "stream",
     "text": [
      " torch.Size([1, 1])\n",
      "torch.Size([1]) torch.Size([1, 1])\n",
      "torch.Size([1]) torch.Size([1, 1])\n",
      "torch.Size([1]) torch.Size([1, 1])\n"
     ]
    },
    {
     "name": "stderr",
     "output_type": "stream",
     "text": [
      "\r",
      "2084it [01:49, 19.48it/s]"
     ]
    },
    {
     "name": "stdout",
     "output_type": "stream",
     "text": [
      "torch.Size([1]) torch.Size([1, 1])\n",
      "torch.Size([1]) torch.Size([1, 1])\n",
      "torch.Size([1]) torch.Size([1, 1])\n",
      "torch.Size([1]) torch.Size([1, 1])\n"
     ]
    },
    {
     "name": "stderr",
     "output_type": "stream",
     "text": [
      "2089it [01:49, 19.23it/s]"
     ]
    },
    {
     "name": "stdout",
     "output_type": "stream",
     "text": [
      "torch.Size([1]) torch.Size([1, 1])\n",
      "torch.Size([1]) torch.Size([1, 1])\n",
      "torch.Size([1]) torch.Size([1, 1])\n",
      "torch.Size([1]) torch.Size([1, 1])\n",
      "torch.Size([1])"
     ]
    },
    {
     "name": "stderr",
     "output_type": "stream",
     "text": [
      "\r",
      "2092it [01:50, 19.97it/s]"
     ]
    },
    {
     "name": "stdout",
     "output_type": "stream",
     "text": [
      " torch.Size([1, 1])\n",
      "torch.Size([1]) torch.Size([1, 1])\n",
      "torch.Size([1]) torch.Size([1, 1])\n",
      "torch.Size([1]) torch.Size([1, 1])\n",
      "torch.Size([1])"
     ]
    },
    {
     "name": "stderr",
     "output_type": "stream",
     "text": [
      "2097it [01:50, 19.70it/s]"
     ]
    },
    {
     "name": "stdout",
     "output_type": "stream",
     "text": [
      " torch.Size([1, 1])\n",
      "torch.Size([1]) torch.Size([1, 1])\n",
      "torch.Size([1]) torch.Size([1, 1])\n",
      "torch.Size([1]) torch.Size([1, 1])\n"
     ]
    },
    {
     "name": "stderr",
     "output_type": "stream",
     "text": [
      "\r",
      "2099it [01:50, 18.67it/s]"
     ]
    },
    {
     "name": "stdout",
     "output_type": "stream",
     "text": [
      "torch.Size([1]) torch.Size([1, 1])\n",
      "torch.Size([1]) torch.Size([1, 1])\n",
      "torch.Size([1]) torch.Size([1, 1])\n",
      "torch.Size([1]) torch.Size([1, 1])\n",
      "torch.Size([1])"
     ]
    },
    {
     "name": "stderr",
     "output_type": "stream",
     "text": [
      "2105it [01:50, 19.65it/s]"
     ]
    },
    {
     "name": "stdout",
     "output_type": "stream",
     "text": [
      " torch.Size([1, 1])\n",
      "torch.Size([1]) torch.Size([1, 1])\n",
      "torch.Size([1]) torch.Size([1, 1])\n",
      "torch.Size([1]) torch.Size([1, 1])\n",
      "torch.Size([1])"
     ]
    },
    {
     "name": "stderr",
     "output_type": "stream",
     "text": [
      "\r",
      "2108it [01:50, 20.06it/s]"
     ]
    },
    {
     "name": "stdout",
     "output_type": "stream",
     "text": [
      " torch.Size([1, 1])\n",
      "torch.Size([1]) torch.Size([1, 1])\n",
      "torch.Size([1]) torch.Size([1, 1])\n",
      "torch.Size([1]) torch.Size([1, 1])\n",
      "torch.Size([1])"
     ]
    },
    {
     "name": "stderr",
     "output_type": "stream",
     "text": [
      "\r",
      "2111it [01:51, 19.75it/s]"
     ]
    },
    {
     "name": "stdout",
     "output_type": "stream",
     "text": [
      " torch.Size([1, 1])\n",
      "torch.Size([1]) torch.Size([1, 1])\n",
      "torch.Size([1]) torch.Size([1, 1])\n",
      "torch.Size([1]) torch.Size([1, 1])\n"
     ]
    },
    {
     "name": "stderr",
     "output_type": "stream",
     "text": [
      "2117it [01:51, 20.79it/s]"
     ]
    },
    {
     "name": "stdout",
     "output_type": "stream",
     "text": [
      "torch.Size([1]) torch.Size([1, 1])\n",
      "torch.Size([1]) torch.Size([1, 1])\n",
      "torch.Size([1]) torch.Size([1, 1])\n",
      "torch.Size([1]) torch.Size([1, 1])\n",
      "torch.Size([1]) torch.Size([1, 1])\n"
     ]
    },
    {
     "name": "stderr",
     "output_type": "stream",
     "text": [
      "\r",
      "2120it [01:51, 21.23it/s]"
     ]
    },
    {
     "name": "stdout",
     "output_type": "stream",
     "text": [
      "torch.Size([1]) torch.Size([1, 1])\n",
      "torch.Size([1]) torch.Size([1, 1])\n",
      "torch.Size([1]) torch.Size([1, 1])\n",
      "torch.Size([1]) torch.Size([1, 1])\n",
      "torch.Size([1])"
     ]
    },
    {
     "name": "stderr",
     "output_type": "stream",
     "text": [
      "2126it [01:51, 20.59it/s]"
     ]
    },
    {
     "name": "stdout",
     "output_type": "stream",
     "text": [
      " torch.Size([1, 1])\n",
      "torch.Size([1]) torch.Size([1, 1])\n",
      "torch.Size([1]) torch.Size([1, 1])\n",
      "torch.Size([1]) torch.Size([1, 1])\n"
     ]
    },
    {
     "name": "stderr",
     "output_type": "stream",
     "text": [
      "\r",
      "2129it [01:51, 20.54it/s]"
     ]
    },
    {
     "name": "stdout",
     "output_type": "stream",
     "text": [
      "torch.Size([1]) torch.Size([1, 1])\n",
      "torch.Size([1]) torch.Size([1, 1])\n",
      "torch.Size([1]) torch.Size([1, 1])\n",
      "torch.Size([1]) torch.Size([1, 1])\n"
     ]
    },
    {
     "name": "stderr",
     "output_type": "stream",
     "text": [
      "\r",
      "2132it [01:52, 20.24it/s]"
     ]
    },
    {
     "name": "stdout",
     "output_type": "stream",
     "text": [
      "torch.Size([1]) torch.Size([1, 1])\n",
      "torch.Size([1]) torch.Size([1, 1])\n",
      "torch.Size([1]) torch.Size([1, 1])\n",
      "torch.Size([1]) torch.Size([1, 1])\n",
      "torch.Size([1])"
     ]
    },
    {
     "name": "stderr",
     "output_type": "stream",
     "text": [
      "2138it [01:52, 21.09it/s]"
     ]
    },
    {
     "name": "stdout",
     "output_type": "stream",
     "text": [
      " torch.Size([1, 1])\n",
      "torch.Size([1]) torch.Size([1, 1])\n",
      "torch.Size([1]) torch.Size([1, 1])\n",
      "torch.Size([1]) torch.Size([1, 1])\n",
      "torch.Size([1])"
     ]
    },
    {
     "name": "stderr",
     "output_type": "stream",
     "text": [
      "\r",
      "2141it [01:52, 20.60it/s]"
     ]
    },
    {
     "name": "stdout",
     "output_type": "stream",
     "text": [
      " torch.Size([1, 1])\n",
      "torch.Size([1]) torch.Size([1, 1])\n",
      "torch.Size([1]) torch.Size([1, 1])\n",
      "torch.Size([1]) torch.Size([1, 1])\n",
      "torch.Size([1]) torch.Size([1, 1])\n"
     ]
    },
    {
     "name": "stderr",
     "output_type": "stream",
     "text": [
      "2147it [01:52, 20.92it/s]"
     ]
    },
    {
     "name": "stdout",
     "output_type": "stream",
     "text": [
      "torch.Size([1]) torch.Size([1, 1])\n",
      "torch.Size([1]) torch.Size([1, 1])\n",
      "torch.Size([1]) torch.Size([1, 1])\n",
      "torch.Size([1]) torch.Size([1, 1])\n",
      "torch.Size([1])"
     ]
    },
    {
     "name": "stderr",
     "output_type": "stream",
     "text": [
      "\r",
      "2150it [01:52, 20.76it/s]"
     ]
    },
    {
     "name": "stdout",
     "output_type": "stream",
     "text": [
      " torch.Size([1, 1])\n",
      "torch.Size([1]) torch.Size([1, 1])\n",
      "torch.Size([1]) torch.Size([1, 1])\n",
      "torch.Size([1]) torch.Size([1, 1])\n"
     ]
    },
    {
     "name": "stderr",
     "output_type": "stream",
     "text": [
      "2156it [01:53, 21.16it/s]"
     ]
    },
    {
     "name": "stdout",
     "output_type": "stream",
     "text": [
      "torch.Size([1]) torch.Size([1, 1])\n",
      "torch.Size([1]) torch.Size([1, 1])\n",
      "torch.Size([1]) torch.Size([1, 1])\n",
      "torch.Size([1]) torch.Size([1, 1])\n",
      "torch.Size([1]) torch.Size([1, 1])\n"
     ]
    },
    {
     "name": "stderr",
     "output_type": "stream",
     "text": [
      "\r",
      "2159it [01:53, 20.91it/s]"
     ]
    },
    {
     "name": "stdout",
     "output_type": "stream",
     "text": [
      "torch.Size([1]) torch.Size([1, 1])\n",
      "torch.Size([1]) torch.Size([1, 1])\n",
      "torch.Size([1]) torch.Size([1, 1])\n",
      "torch.Size([1]) torch.Size([1, 1])\n",
      "torch.Size([1])"
     ]
    },
    {
     "name": "stderr",
     "output_type": "stream",
     "text": [
      "\r",
      "2162it [01:53, 21.00it/s]"
     ]
    },
    {
     "name": "stdout",
     "output_type": "stream",
     "text": [
      " torch.Size([1, 1])\n",
      "torch.Size([1]) torch.Size([1, 1])\n",
      "torch.Size([1]) torch.Size([1, 1])\n",
      "torch.Size([1]) torch.Size([1, 1])\n",
      "torch.Size([1])"
     ]
    },
    {
     "name": "stderr",
     "output_type": "stream",
     "text": [
      "2168it [01:53, 20.77it/s]"
     ]
    },
    {
     "name": "stdout",
     "output_type": "stream",
     "text": [
      " torch.Size([1, 1])\n",
      "torch.Size([1]) torch.Size([1, 1])\n",
      "torch.Size([1]) torch.Size([1, 1])\n",
      "torch.Size([1]) torch.Size([1, 1])\n",
      "torch.Size([1])"
     ]
    },
    {
     "name": "stderr",
     "output_type": "stream",
     "text": [
      "\r",
      "2171it [01:53, 20.80it/s]"
     ]
    },
    {
     "name": "stdout",
     "output_type": "stream",
     "text": [
      " torch.Size([1, 1])\n",
      "torch.Size([1]) torch.Size([1, 1])\n",
      "torch.Size([1]) torch.Size([1, 1])\n",
      "torch.Size([1]) torch.Size([1, 1])\n",
      "torch.Size([1])"
     ]
    },
    {
     "name": "stderr",
     "output_type": "stream",
     "text": [
      "\r",
      "2174it [01:54, 20.66it/s]"
     ]
    },
    {
     "name": "stdout",
     "output_type": "stream",
     "text": [
      " torch.Size([1, 1])\n",
      "torch.Size([1]) torch.Size([1, 1])\n",
      "torch.Size([1]) torch.Size([1, 1])\n",
      "torch.Size([1]) torch.Size([1, 1])\n",
      "torch.Size([1])"
     ]
    },
    {
     "name": "stderr",
     "output_type": "stream",
     "text": [
      "2180it [01:54, 21.01it/s]"
     ]
    },
    {
     "name": "stdout",
     "output_type": "stream",
     "text": [
      " torch.Size([1, 1])\n",
      "torch.Size([1]) torch.Size([1, 1])\n",
      "torch.Size([1]) torch.Size([1, 1])\n",
      "torch.Size([1]) torch.Size([1, 1])\n",
      "torch.Size([1])"
     ]
    },
    {
     "name": "stderr",
     "output_type": "stream",
     "text": [
      "\r",
      "2183it [01:54, 20.67it/s]"
     ]
    },
    {
     "name": "stdout",
     "output_type": "stream",
     "text": [
      " torch.Size([1, 1])\n",
      "torch.Size([1]) torch.Size([1, 1])\n",
      "torch.Size([1]) torch.Size([1, 1])\n",
      "torch.Size([1]) torch.Size([1, 1])\n"
     ]
    },
    {
     "name": "stderr",
     "output_type": "stream",
     "text": [
      "\r",
      "2186it [01:54, 20.41it/s]"
     ]
    },
    {
     "name": "stdout",
     "output_type": "stream",
     "text": [
      "torch.Size([1]) torch.Size([1, 1])\n",
      "torch.Size([1]) torch.Size([1, 1])\n",
      "torch.Size([1]) torch.Size([1, 1])\n",
      "torch.Size([1]) torch.Size([1, 1])\n"
     ]
    },
    {
     "name": "stderr",
     "output_type": "stream",
     "text": [
      "2192it [01:54, 20.53it/s]"
     ]
    },
    {
     "name": "stdout",
     "output_type": "stream",
     "text": [
      "torch.Size([1]) torch.Size([1, 1])\n",
      "torch.Size([1]) torch.Size([1, 1])\n",
      "torch.Size([1]) torch.Size([1, 1])\n",
      "torch.Size([1]) torch.Size([1, 1])\n",
      "torch.Size([1])"
     ]
    },
    {
     "name": "stderr",
     "output_type": "stream",
     "text": [
      "\r",
      "2195it [01:55, 20.03it/s]"
     ]
    },
    {
     "name": "stdout",
     "output_type": "stream",
     "text": [
      " torch.Size([1, 1])\n",
      "torch.Size([1]) torch.Size([1, 1])\n",
      "torch.Size([1]) torch.Size([1, 1])\n",
      "torch.Size([1]) torch.Size([1, 1])\n"
     ]
    },
    {
     "name": "stderr",
     "output_type": "stream",
     "text": [
      "\r",
      "2198it [01:55, 19.32it/s]"
     ]
    },
    {
     "name": "stdout",
     "output_type": "stream",
     "text": [
      "torch.Size([1]) torch.Size([1, 1])\n",
      "torch.Size([1]) torch.Size([1, 1])\n",
      "torch.Size([1]) torch.Size([1, 1])\n",
      "torch.Size([1]) torch.Size([1, 1])\n",
      "torch.Size([1])"
     ]
    },
    {
     "name": "stderr",
     "output_type": "stream",
     "text": [
      "2203it [01:55, 19.25it/s]"
     ]
    },
    {
     "name": "stdout",
     "output_type": "stream",
     "text": [
      " torch.Size([1, 1])\n",
      "torch.Size([1]) torch.Size([1, 1])\n",
      "torch.Size([1]) torch.Size([1, 1])\n",
      "torch.Size([1]) torch.Size([1, 1])\n"
     ]
    },
    {
     "name": "stderr",
     "output_type": "stream",
     "text": [
      "\r",
      "2206it [01:55, 19.82it/s]"
     ]
    },
    {
     "name": "stdout",
     "output_type": "stream",
     "text": [
      "torch.Size([1]) torch.Size([1, 1])\n",
      "torch.Size([1]) torch.Size([1, 1])\n",
      "torch.Size([1]) torch.Size([1, 1])\n",
      "torch.Size([1]) torch.Size([1, 1])\n",
      "torch.Size([1])"
     ]
    },
    {
     "name": "stderr",
     "output_type": "stream",
     "text": [
      "2211it [01:55, 19.20it/s]"
     ]
    },
    {
     "name": "stdout",
     "output_type": "stream",
     "text": [
      " torch.Size([1, 1])\n",
      "torch.Size([1]) torch.Size([1, 1])\n",
      "torch.Size([1]) torch.Size([1, 1])\n",
      "torch.Size([1]) torch.Size([1, 1])\n"
     ]
    },
    {
     "name": "stderr",
     "output_type": "stream",
     "text": [
      "2215it [01:56, 19.01it/s]"
     ]
    },
    {
     "name": "stdout",
     "output_type": "stream",
     "text": [
      "torch.Size([1]) torch.Size([1, 1])\n",
      "torch.Size([1]) torch.Size([1, 1])\n",
      "torch.Size([1]) torch.Size([1, 1])\n",
      "torch.Size([1]) torch.Size([1, 1])\n",
      "torch.Size([1])"
     ]
    },
    {
     "name": "stderr",
     "output_type": "stream",
     "text": [
      "2221it [01:56, 20.59it/s]"
     ]
    },
    {
     "name": "stdout",
     "output_type": "stream",
     "text": [
      " torch.Size([1, 1])\n",
      "torch.Size([1]) torch.Size([1, 1])\n",
      "torch.Size([1]) torch.Size([1, 1])\n",
      "torch.Size([1]) torch.Size([1, 1])\n",
      "torch.Size([1]) torch.Size([1, 1])\n"
     ]
    },
    {
     "name": "stderr",
     "output_type": "stream",
     "text": [
      "\r",
      "2224it [01:56, 20.63it/s]"
     ]
    },
    {
     "name": "stdout",
     "output_type": "stream",
     "text": [
      "torch.Size([1]) torch.Size([1, 1])\n",
      "torch.Size([1]) torch.Size([1, 1])\n",
      "torch.Size([1]) torch.Size([1, 1])\n",
      "torch.Size([1]) torch.Size([1, 1])\n",
      "torch.Size([1])"
     ]
    },
    {
     "name": "stderr",
     "output_type": "stream",
     "text": [
      "\r",
      "2227it [01:56, 20.49it/s]"
     ]
    },
    {
     "name": "stdout",
     "output_type": "stream",
     "text": [
      " torch.Size([1, 1])\n",
      "torch.Size([1]) torch.Size([1, 1])\n",
      "torch.Size([1]) torch.Size([1, 1])\n",
      "torch.Size([1]) torch.Size([1, 1])\n"
     ]
    },
    {
     "name": "stderr",
     "output_type": "stream",
     "text": [
      "2233it [01:56, 20.31it/s]"
     ]
    },
    {
     "name": "stdout",
     "output_type": "stream",
     "text": [
      "torch.Size([1]) torch.Size([1, 1])\n",
      "torch.Size([1]) torch.Size([1, 1])\n",
      "torch.Size([1]) torch.Size([1, 1])\n",
      "torch.Size([1]) torch.Size([1, 1])\n",
      "torch.Size([1])"
     ]
    },
    {
     "name": "stderr",
     "output_type": "stream",
     "text": [
      "\r",
      "2236it [01:57, 19.57it/s]"
     ]
    },
    {
     "name": "stdout",
     "output_type": "stream",
     "text": [
      " torch.Size([1, 1])\n",
      "torch.Size([1]) torch.Size([1, 1])\n",
      "torch.Size([1]) torch.Size([1, 1])\n",
      "torch.Size([1]) torch.Size([1, 1])\n"
     ]
    },
    {
     "name": "stderr",
     "output_type": "stream",
     "text": [
      "\r",
      "2239it [01:57, 19.93it/s]"
     ]
    },
    {
     "name": "stdout",
     "output_type": "stream",
     "text": [
      "torch.Size([1]) torch.Size([1, 1])\n",
      "torch.Size([1]) torch.Size([1, 1])\n",
      "torch.Size([1]) torch.Size([1, 1])\n",
      "torch.Size([1]) torch.Size([1, 1])\n",
      "torch.Size([1])"
     ]
    },
    {
     "name": "stderr",
     "output_type": "stream",
     "text": [
      "2244it [01:57, 19.23it/s]"
     ]
    },
    {
     "name": "stdout",
     "output_type": "stream",
     "text": [
      " torch.Size([1, 1])\n",
      "torch.Size([1]) torch.Size([1, 1])\n",
      "torch.Size([1]) torch.Size([1, 1])\n",
      "torch.Size([1]) torch.Size([1, 1])\n",
      "torch.Size([1])"
     ]
    },
    {
     "name": "stderr",
     "output_type": "stream",
     "text": [
      "\r",
      "2247it [01:57, 19.67it/s]"
     ]
    },
    {
     "name": "stdout",
     "output_type": "stream",
     "text": [
      " torch.Size([1, 1])\n",
      "torch.Size([1]) torch.Size([1, 1])\n",
      "torch.Size([1]) torch.Size([1, 1])\n",
      "torch.Size([1]) torch.Size([1, 1])\n",
      "torch.Size([1])"
     ]
    },
    {
     "name": "stderr",
     "output_type": "stream",
     "text": [
      "2253it [01:57, 20.32it/s]"
     ]
    },
    {
     "name": "stdout",
     "output_type": "stream",
     "text": [
      " torch.Size([1, 1])\n",
      "torch.Size([1]) torch.Size([1, 1])\n",
      "torch.Size([1]) torch.Size([1, 1])\n",
      "torch.Size([1]) torch.Size([1, 1])\n",
      "torch.Size([1])"
     ]
    },
    {
     "name": "stderr",
     "output_type": "stream",
     "text": [
      "\r",
      "2256it [01:58, 20.50it/s]"
     ]
    },
    {
     "name": "stdout",
     "output_type": "stream",
     "text": [
      " torch.Size([1, 1])\n",
      "torch.Size([1]) torch.Size([1, 1])\n",
      "torch.Size([1]) torch.Size([1, 1])\n",
      "torch.Size([1]) torch.Size([1, 1])\n",
      "torch.Size([1]) torch.Size([1, 1])\n"
     ]
    },
    {
     "name": "stderr",
     "output_type": "stream",
     "text": [
      "2262it [01:58, 20.58it/s]"
     ]
    },
    {
     "name": "stdout",
     "output_type": "stream",
     "text": [
      "torch.Size([1]) torch.Size([1, 1])\n",
      "torch.Size([1]) torch.Size([1, 1])\n",
      "torch.Size([1]) torch.Size([1, 1])\n",
      "torch.Size([1]) torch.Size([1, 1])\n",
      "torch.Size([1])"
     ]
    },
    {
     "name": "stderr",
     "output_type": "stream",
     "text": [
      "\r",
      "2265it [01:58, 20.97it/s]"
     ]
    },
    {
     "name": "stdout",
     "output_type": "stream",
     "text": [
      " torch.Size([1, 1])\n",
      "torch.Size([1]) torch.Size([1, 1])\n",
      "torch.Size([1]) torch.Size([1, 1])\n",
      "torch.Size([1]) torch.Size([1, 1])\n",
      "torch.Size([1]) torch.Size([1, 1])\n"
     ]
    },
    {
     "name": "stderr",
     "output_type": "stream",
     "text": [
      "2271it [01:58, 20.84it/s]"
     ]
    },
    {
     "name": "stdout",
     "output_type": "stream",
     "text": [
      "torch.Size([1]) torch.Size([1, 1])\n",
      "torch.Size([1]) torch.Size([1, 1])\n",
      "torch.Size([1]) torch.Size([1, 1])\n",
      "torch.Size([1]) torch.Size([1, 1])\n",
      "torch.Size([1])"
     ]
    },
    {
     "name": "stderr",
     "output_type": "stream",
     "text": [
      "\r",
      "2274it [01:58, 20.94it/s]"
     ]
    },
    {
     "name": "stdout",
     "output_type": "stream",
     "text": [
      " torch.Size([1, 1])\n",
      "torch.Size([1]) torch.Size([1, 1])\n",
      "torch.Size([1]) torch.Size([1, 1])\n",
      "torch.Size([1]) torch.Size([1, 1])\n",
      "torch.Size([1])"
     ]
    },
    {
     "name": "stderr",
     "output_type": "stream",
     "text": [
      "\r",
      "2277it [01:59, 20.58it/s]"
     ]
    },
    {
     "name": "stdout",
     "output_type": "stream",
     "text": [
      " torch.Size([1, 1])\n",
      "torch.Size([1]) torch.Size([1, 1])\n",
      "torch.Size([1]) torch.Size([1, 1])\n",
      "torch.Size([1]) torch.Size([1, 1])\n",
      "torch.Size([1])"
     ]
    },
    {
     "name": "stderr",
     "output_type": "stream",
     "text": [
      "2283it [01:59, 20.83it/s]"
     ]
    },
    {
     "name": "stdout",
     "output_type": "stream",
     "text": [
      " torch.Size([1, 1])\n",
      "torch.Size([1]) torch.Size([1, 1])\n",
      "torch.Size([1]) torch.Size([1, 1])\n",
      "torch.Size([1]) torch.Size([1, 1])\n",
      "torch.Size([1])"
     ]
    },
    {
     "name": "stderr",
     "output_type": "stream",
     "text": [
      "\r",
      "2286it [01:59, 20.96it/s]"
     ]
    },
    {
     "name": "stdout",
     "output_type": "stream",
     "text": [
      " torch.Size([1, 1])\n",
      "torch.Size([1]) torch.Size([1, 1])\n",
      "torch.Size([1]) torch.Size([1, 1])\n",
      "torch.Size([1]) torch.Size([1, 1])\n"
     ]
    },
    {
     "name": "stderr",
     "output_type": "stream",
     "text": [
      "\r",
      "2289it [01:59, 20.04it/s]"
     ]
    },
    {
     "name": "stdout",
     "output_type": "stream",
     "text": [
      "torch.Size([1]) torch.Size([1, 1])\n",
      "torch.Size([1]) torch.Size([1, 1])\n",
      "torch.Size([1]) torch.Size([1, 1])\n",
      "torch.Size([1]) torch.Size([1, 1])\n"
     ]
    },
    {
     "name": "stderr",
     "output_type": "stream",
     "text": [
      "2295it [01:59, 20.41it/s]"
     ]
    },
    {
     "name": "stdout",
     "output_type": "stream",
     "text": [
      "torch.Size([1]) torch.Size([1, 1])\n",
      "torch.Size([1]) torch.Size([1, 1])\n",
      "torch.Size([1]) torch.Size([1, 1])\n",
      "torch.Size([1]) torch.Size([1, 1])\n",
      "torch.Size([1])"
     ]
    },
    {
     "name": "stderr",
     "output_type": "stream",
     "text": [
      "\r",
      "2298it [02:00, 20.38it/s]"
     ]
    },
    {
     "name": "stdout",
     "output_type": "stream",
     "text": [
      " torch.Size([1, 1])\n",
      "torch.Size([1]) torch.Size([1, 1])\n",
      "torch.Size([1]) torch.Size([1, 1])\n",
      "torch.Size([1]) torch.Size([1, 1])\n",
      "torch.Size([1]) torch.Size([1, 1])\n"
     ]
    },
    {
     "name": "stderr",
     "output_type": "stream",
     "text": [
      "2304it [02:00, 20.38it/s]"
     ]
    },
    {
     "name": "stdout",
     "output_type": "stream",
     "text": [
      "torch.Size([1]) torch.Size([1, 1])\n",
      "torch.Size([1]) torch.Size([1, 1])\n",
      "torch.Size([1]) torch.Size([1, 1])\n",
      "torch.Size([1]) torch.Size([1, 1])\n"
     ]
    },
    {
     "name": "stderr",
     "output_type": "stream",
     "text": [
      "\r",
      "2307it [02:00, 20.62it/s]"
     ]
    },
    {
     "name": "stdout",
     "output_type": "stream",
     "text": [
      "torch.Size([1]) torch.Size([1, 1])\n",
      "torch.Size([1]) torch.Size([1, 1])\n",
      "torch.Size([1]) torch.Size([1, 1])\n",
      "torch.Size([1]) torch.Size([1, 1])\n",
      "torch.Size([1])"
     ]
    },
    {
     "name": "stderr",
     "output_type": "stream",
     "text": [
      "\r",
      "2310it [02:00, 20.66it/s]"
     ]
    },
    {
     "name": "stdout",
     "output_type": "stream",
     "text": [
      " torch.Size([1, 1])\n",
      "torch.Size([1]) torch.Size([1, 1])\n",
      "torch.Size([1]) torch.Size([1, 1])\n",
      "torch.Size([1]) torch.Size([1, 1])\n",
      "torch.Size([1])"
     ]
    },
    {
     "name": "stderr",
     "output_type": "stream",
     "text": [
      "2316it [02:01, 21.14it/s]"
     ]
    },
    {
     "name": "stdout",
     "output_type": "stream",
     "text": [
      " torch.Size([1, 1])\n",
      "torch.Size([1]) torch.Size([1, 1])\n",
      "torch.Size([1]) torch.Size([1, 1])\n",
      "torch.Size([1]) torch.Size([1, 1])\n",
      "torch.Size([1])"
     ]
    },
    {
     "name": "stderr",
     "output_type": "stream",
     "text": [
      "\r",
      "2319it [02:01, 19.97it/s]"
     ]
    },
    {
     "name": "stdout",
     "output_type": "stream",
     "text": [
      " torch.Size([1, 1])\n",
      "torch.Size([1]) torch.Size([1, 1])\n",
      "torch.Size([1]) torch.Size([1, 1])\n",
      "torch.Size([1]) torch.Size([1, 1])\n"
     ]
    },
    {
     "name": "stderr",
     "output_type": "stream",
     "text": [
      "\r",
      "2322it [02:01, 20.21it/s]"
     ]
    },
    {
     "name": "stdout",
     "output_type": "stream",
     "text": [
      "torch.Size([1]) torch.Size([1, 1])\n",
      "torch.Size([1]) torch.Size([1, 1])\n",
      "torch.Size([1]) torch.Size([1, 1])\n",
      "torch.Size([1]) torch.Size([1, 1])\n",
      "torch.Size([1])"
     ]
    },
    {
     "name": "stderr",
     "output_type": "stream",
     "text": [
      "2328it [02:01, 20.92it/s]"
     ]
    },
    {
     "name": "stdout",
     "output_type": "stream",
     "text": [
      " torch.Size([1, 1])\n",
      "torch.Size([1]) torch.Size([1, 1])\n",
      "torch.Size([1]) torch.Size([1, 1])\n",
      "torch.Size([1]) torch.Size([1, 1])\n",
      "torch.Size([1])"
     ]
    },
    {
     "name": "stderr",
     "output_type": "stream",
     "text": [
      "\r",
      "2331it [02:01, 20.41it/s]"
     ]
    },
    {
     "name": "stdout",
     "output_type": "stream",
     "text": [
      " torch.Size([1, 1])\n",
      "torch.Size([1]) torch.Size([1, 1])\n",
      "torch.Size([1]) torch.Size([1, 1])\n",
      "torch.Size([1]) torch.Size([1, 1])\n",
      "torch.Size([1])"
     ]
    },
    {
     "name": "stderr",
     "output_type": "stream",
     "text": [
      "2337it [02:02, 21.49it/s]"
     ]
    },
    {
     "name": "stdout",
     "output_type": "stream",
     "text": [
      " torch.Size([1, 1])\n",
      "torch.Size([1]) torch.Size([1, 1])\n",
      "torch.Size([1]) torch.Size([1, 1])\n",
      "torch.Size([1]) torch.Size([1, 1])\n",
      "torch.Size([1]) torch.Size([1, 1])\n"
     ]
    },
    {
     "name": "stderr",
     "output_type": "stream",
     "text": [
      "\r",
      "2340it [02:02, 21.89it/s]"
     ]
    },
    {
     "name": "stdout",
     "output_type": "stream",
     "text": [
      "torch.Size([1]) torch.Size([1, 1])\n",
      "torch.Size([1]) torch.Size([1, 1])\n",
      "torch.Size([1]) torch.Size([1, 1])\n",
      "torch.Size([1]) torch.Size([1, 1])\n",
      "torch.Size([1]) torch.Size([1, 1])\n"
     ]
    },
    {
     "name": "stderr",
     "output_type": "stream",
     "text": [
      "2346it [02:02, 21.36it/s]"
     ]
    },
    {
     "name": "stdout",
     "output_type": "stream",
     "text": [
      "torch.Size([1]) torch.Size([1, 1])\n",
      "torch.Size([1]) torch.Size([1, 1])\n",
      "torch.Size([1]) torch.Size([1, 1])\n",
      "torch.Size([1]) torch.Size([1, 1])\n"
     ]
    },
    {
     "name": "stderr",
     "output_type": "stream",
     "text": [
      "\r",
      "2349it [02:02, 21.14it/s]"
     ]
    },
    {
     "name": "stdout",
     "output_type": "stream",
     "text": [
      "torch.Size([1]) torch.Size([1, 1])\n",
      "torch.Size([1]) torch.Size([1, 1])\n",
      "torch.Size([1]) torch.Size([1, 1])\n",
      "torch.Size([1]) torch.Size([1, 1])\n"
     ]
    },
    {
     "name": "stderr",
     "output_type": "stream",
     "text": [
      "\r",
      "2352it [02:02, 20.43it/s]"
     ]
    },
    {
     "name": "stdout",
     "output_type": "stream",
     "text": [
      "torch.Size([1]) torch.Size([1, 1])\n",
      "torch.Size([1]) torch.Size([1, 1])\n",
      "torch.Size([1]) torch.Size([1, 1])\n",
      "torch.Size([1]) torch.Size([1, 1])\n",
      "torch.Size([1])"
     ]
    },
    {
     "name": "stderr",
     "output_type": "stream",
     "text": [
      "2358it [02:03, 20.65it/s]"
     ]
    },
    {
     "name": "stdout",
     "output_type": "stream",
     "text": [
      " torch.Size([1, 1])\n",
      "torch.Size([1]) torch.Size([1, 1])\n",
      "torch.Size([1]) torch.Size([1, 1])\n",
      "torch.Size([1]) torch.Size([1, 1])\n"
     ]
    },
    {
     "name": "stderr",
     "output_type": "stream",
     "text": [
      "\r",
      "2361it [02:03, 20.43it/s]"
     ]
    },
    {
     "name": "stdout",
     "output_type": "stream",
     "text": [
      "torch.Size([1]) torch.Size([1, 1])\n",
      "torch.Size([1]) torch.Size([1, 1])\n",
      "torch.Size([1]) torch.Size([1, 1])\n",
      "torch.Size([1]) torch.Size([1, 1])\n"
     ]
    },
    {
     "name": "stderr",
     "output_type": "stream",
     "text": [
      "2367it [02:03, 20.91it/s]"
     ]
    },
    {
     "name": "stdout",
     "output_type": "stream",
     "text": [
      "torch.Size([1]) torch.Size([1, 1])\n",
      "torch.Size([1]) torch.Size([1, 1])\n",
      "torch.Size([1]) torch.Size([1, 1])\n",
      "torch.Size([1]) torch.Size([1, 1])\n",
      "torch.Size([1]) torch.Size([1, 1])\n"
     ]
    },
    {
     "name": "stderr",
     "output_type": "stream",
     "text": [
      "\r",
      "2370it [02:03, 20.88it/s]"
     ]
    },
    {
     "name": "stdout",
     "output_type": "stream",
     "text": [
      "torch.Size([1]) torch.Size([1, 1])\n",
      "torch.Size([1]) torch.Size([1, 1])\n",
      "torch.Size([1]) torch.Size([1, 1])\n",
      "torch.Size([1]) torch.Size([1, 1])\n",
      "torch.Size([1])"
     ]
    },
    {
     "name": "stderr",
     "output_type": "stream",
     "text": [
      "\r",
      "2373it [02:03, 20.48it/s]"
     ]
    },
    {
     "name": "stdout",
     "output_type": "stream",
     "text": [
      " torch.Size([1, 1])\n",
      "torch.Size([1]) torch.Size([1, 1])\n",
      "torch.Size([1]) torch.Size([1, 1])\n",
      "torch.Size([1]) torch.Size([1, 1])\n",
      "torch.Size([1])"
     ]
    },
    {
     "name": "stderr",
     "output_type": "stream",
     "text": [
      "2379it [02:04, 20.44it/s]"
     ]
    },
    {
     "name": "stdout",
     "output_type": "stream",
     "text": [
      " torch.Size([1, 1])\n",
      "torch.Size([1]) torch.Size([1, 1])\n",
      "torch.Size([1]) torch.Size([1, 1])\n",
      "torch.Size([1]) torch.Size([1, 1])\n"
     ]
    },
    {
     "name": "stderr",
     "output_type": "stream",
     "text": [
      "\r",
      "2382it [02:04, 20.38it/s]"
     ]
    },
    {
     "name": "stdout",
     "output_type": "stream",
     "text": [
      "torch.Size([1]) torch.Size([1, 1])\n",
      "torch.Size([1]) torch.Size([1, 1])\n",
      "torch.Size([1]) torch.Size([1, 1])\n",
      "torch.Size([1]) torch.Size([1, 1])\n"
     ]
    },
    {
     "name": "stderr",
     "output_type": "stream",
     "text": [
      "\r",
      "2385it [02:04, 20.24it/s]"
     ]
    },
    {
     "name": "stdout",
     "output_type": "stream",
     "text": [
      "torch.Size([1]) torch.Size([1, 1])\n",
      "torch.Size([1]) torch.Size([1, 1])\n",
      "torch.Size([1]) torch.Size([1, 1])\n",
      "torch.Size([1]) torch.Size([1, 1])\n",
      "torch.Size([1])"
     ]
    },
    {
     "name": "stderr",
     "output_type": "stream",
     "text": [
      "2391it [02:04, 20.67it/s]"
     ]
    },
    {
     "name": "stdout",
     "output_type": "stream",
     "text": [
      " torch.Size([1, 1])\n",
      "torch.Size([1]) torch.Size([1, 1])\n",
      "torch.Size([1]) torch.Size([1, 1])\n",
      "torch.Size([1]) torch.Size([1, 1])\n",
      "torch.Size([1])"
     ]
    },
    {
     "name": "stderr",
     "output_type": "stream",
     "text": [
      "\r",
      "2394it [02:04, 20.51it/s]"
     ]
    },
    {
     "name": "stdout",
     "output_type": "stream",
     "text": [
      " torch.Size([1, 1])\n",
      "torch.Size([1]) torch.Size([1, 1])\n",
      "torch.Size([1]) torch.Size([1, 1])\n",
      "torch.Size([1]) torch.Size([1, 1])\n",
      "torch.Size([1])"
     ]
    },
    {
     "name": "stderr",
     "output_type": "stream",
     "text": [
      "\r",
      "2397it [02:04, 20.40it/s]"
     ]
    },
    {
     "name": "stdout",
     "output_type": "stream",
     "text": [
      " torch.Size([1, 1])\n",
      "torch.Size([1]) torch.Size([1, 1])\n",
      "torch.Size([1]) torch.Size([1, 1])\n",
      "torch.Size([1]) torch.Size([1, 1])\n",
      "torch.Size([1])"
     ]
    },
    {
     "name": "stderr",
     "output_type": "stream",
     "text": [
      "2403it [02:05, 21.02it/s]"
     ]
    },
    {
     "name": "stdout",
     "output_type": "stream",
     "text": [
      " torch.Size([1, 1])\n",
      "torch.Size([1]) torch.Size([1, 1])\n",
      "torch.Size([1]) torch.Size([1, 1])\n",
      "torch.Size([1]) torch.Size([1, 1])\n",
      "torch.Size([1]) torch.Size([1, 1])\n"
     ]
    },
    {
     "name": "stderr",
     "output_type": "stream",
     "text": [
      "\r",
      "2406it [02:05, 20.71it/s]"
     ]
    },
    {
     "name": "stdout",
     "output_type": "stream",
     "text": [
      "torch.Size([1]) torch.Size([1, 1])\n",
      "torch.Size([1]) torch.Size([1, 1])\n",
      "torch.Size([1]) torch.Size([1, 1])\n",
      "torch.Size([1]) torch.Size([1, 1])\n",
      "torch.Size([1])"
     ]
    },
    {
     "name": "stderr",
     "output_type": "stream",
     "text": [
      "2412it [02:05, 19.69it/s]"
     ]
    },
    {
     "name": "stdout",
     "output_type": "stream",
     "text": [
      " torch.Size([1, 1])\n",
      "torch.Size([1]) torch.Size([1, 1])\n",
      "torch.Size([1]) torch.Size([1, 1])\n",
      "torch.Size([1]) torch.Size([1, 1])\n"
     ]
    },
    {
     "name": "stderr",
     "output_type": "stream",
     "text": [
      "\r",
      "2415it [02:05, 19.74it/s]"
     ]
    },
    {
     "name": "stdout",
     "output_type": "stream",
     "text": [
      "torch.Size([1]) torch.Size([1, 1])\n",
      "torch.Size([1]) torch.Size([1, 1])\n",
      "torch.Size([1]) torch.Size([1, 1])\n",
      "torch.Size([1]) torch.Size([1, 1])\n",
      "torch.Size([1])"
     ]
    },
    {
     "name": "stderr",
     "output_type": "stream",
     "text": [
      "\r",
      "2418it [02:05, 20.22it/s]"
     ]
    },
    {
     "name": "stdout",
     "output_type": "stream",
     "text": [
      " torch.Size([1, 1])\n",
      "torch.Size([1]) torch.Size([1, 1])\n",
      "torch.Size([1]) torch.Size([1, 1])\n",
      "torch.Size([1]) torch.Size([1, 1])\n",
      "torch.Size([1])"
     ]
    },
    {
     "name": "stderr",
     "output_type": "stream",
     "text": [
      "2423it [02:06, 19.58it/s]"
     ]
    },
    {
     "name": "stdout",
     "output_type": "stream",
     "text": [
      " torch.Size([1, 1])\n",
      "torch.Size([1]) torch.Size([1, 1])\n",
      "torch.Size([1]) torch.Size([1, 1])\n",
      "torch.Size([1])"
     ]
    },
    {
     "name": "stderr",
     "output_type": "stream",
     "text": [
      "\r",
      "2425it [02:06, 18.61it/s]"
     ]
    },
    {
     "name": "stdout",
     "output_type": "stream",
     "text": [
      " torch.Size([1, 1])\n",
      "torch.Size([1]) torch.Size([1, 1])\n",
      "torch.Size([1]) torch.Size([1, 1])\n",
      "torch.Size([1]) torch.Size([1, 1])\n",
      "torch.Size([1])"
     ]
    },
    {
     "name": "stderr",
     "output_type": "stream",
     "text": [
      "2431it [02:06, 19.93it/s]"
     ]
    },
    {
     "name": "stdout",
     "output_type": "stream",
     "text": [
      " torch.Size([1, 1])\n",
      "torch.Size([1]) torch.Size([1, 1])\n",
      "torch.Size([1]) torch.Size([1, 1])\n",
      "torch.Size([1]) torch.Size([1, 1])\n",
      "torch.Size([1])"
     ]
    },
    {
     "name": "stderr",
     "output_type": "stream",
     "text": [
      "\r",
      "2434it [02:06, 20.20it/s]"
     ]
    },
    {
     "name": "stdout",
     "output_type": "stream",
     "text": [
      " torch.Size([1, 1])\n",
      "torch.Size([1]) torch.Size([1, 1])\n",
      "torch.Size([1]) torch.Size([1, 1])\n",
      "torch.Size([1]) torch.Size([1, 1])\n",
      "torch.Size([1])"
     ]
    },
    {
     "name": "stderr",
     "output_type": "stream",
     "text": [
      "\r",
      "2437it [02:06, 19.83it/s]"
     ]
    },
    {
     "name": "stdout",
     "output_type": "stream",
     "text": [
      " torch.Size([1, 1])\n",
      "torch.Size([1]) torch.Size([1, 1])\n",
      "torch.Size([1]) torch.Size([1, 1])\n",
      "torch.Size([1]) torch.Size([1, 1])\n",
      "torch.Size([1])"
     ]
    },
    {
     "name": "stderr",
     "output_type": "stream",
     "text": [
      "2443it [02:07, 20.10it/s]"
     ]
    },
    {
     "name": "stdout",
     "output_type": "stream",
     "text": [
      " torch.Size([1, 1])\n",
      "torch.Size([1]) torch.Size([1, 1])\n",
      "torch.Size([1]) torch.Size([1, 1])\n",
      "torch.Size([1]) torch.Size([1, 1])\n"
     ]
    },
    {
     "name": "stderr",
     "output_type": "stream",
     "text": [
      "\r",
      "2446it [02:07, 19.21it/s]"
     ]
    },
    {
     "name": "stdout",
     "output_type": "stream",
     "text": [
      "torch.Size([1]) torch.Size([1, 1])\n",
      "torch.Size([1]) torch.Size([1, 1])\n",
      "torch.Size([1]) torch.Size([1, 1])\n",
      "torch.Size([1]) torch.Size([1, 1])\n"
     ]
    },
    {
     "name": "stderr",
     "output_type": "stream",
     "text": [
      "2451it [02:07, 19.57it/s]"
     ]
    },
    {
     "name": "stdout",
     "output_type": "stream",
     "text": [
      "torch.Size([1]) torch.Size([1, 1])\n",
      "torch.Size([1]) torch.Size([1, 1])\n",
      "torch.Size([1]) torch.Size([1, 1])\n",
      "torch.Size([1]) torch.Size([1, 1])\n",
      "torch.Size([1])"
     ]
    },
    {
     "name": "stderr",
     "output_type": "stream",
     "text": [
      "\r",
      "2454it [02:07, 20.24it/s]"
     ]
    },
    {
     "name": "stdout",
     "output_type": "stream",
     "text": [
      " torch.Size([1, 1])\n",
      "torch.Size([1]) torch.Size([1, 1])\n",
      "torch.Size([1]) torch.Size([1, 1])\n",
      "torch.Size([1]) torch.Size([1, 1])\n",
      "torch.Size([1])"
     ]
    },
    {
     "name": "stderr",
     "output_type": "stream",
     "text": [
      "2460it [02:08, 21.45it/s]"
     ]
    },
    {
     "name": "stdout",
     "output_type": "stream",
     "text": [
      " torch.Size([1, 1])\n",
      "torch.Size([1]) torch.Size([1, 1])\n",
      "torch.Size([1]) torch.Size([1, 1])\n",
      "torch.Size([1]) torch.Size([1, 1])\n",
      "torch.Size([1]) torch.Size([1, 1])\n"
     ]
    },
    {
     "name": "stderr",
     "output_type": "stream",
     "text": [
      "\r",
      "2463it [02:08, 21.63it/s]"
     ]
    },
    {
     "name": "stdout",
     "output_type": "stream",
     "text": [
      "torch.Size([1]) torch.Size([1, 1])\n",
      "torch.Size([1]) torch.Size([1, 1])\n",
      "torch.Size([1]) torch.Size([1, 1])\n",
      "torch.Size([1]) torch.Size([1, 1])\n",
      "torch.Size([1]) torch.Size([1, 1])\n"
     ]
    },
    {
     "name": "stderr",
     "output_type": "stream",
     "text": [
      "2469it [02:08, 20.66it/s]"
     ]
    },
    {
     "name": "stdout",
     "output_type": "stream",
     "text": [
      "torch.Size([1]) torch.Size([1, 1])\n",
      "torch.Size([1]) torch.Size([1, 1])\n",
      "torch.Size([1]) torch.Size([1, 1])\n",
      "torch.Size([1]) torch.Size([1, 1])\n"
     ]
    },
    {
     "name": "stderr",
     "output_type": "stream",
     "text": [
      "\r",
      "2472it [02:08, 20.43it/s]"
     ]
    },
    {
     "name": "stdout",
     "output_type": "stream",
     "text": [
      "torch.Size([1]) torch.Size([1, 1])\n",
      "torch.Size([1]) torch.Size([1, 1])\n",
      "torch.Size([1]) torch.Size([1, 1])\n",
      "torch.Size([1]) torch.Size([1, 1])\n",
      "torch.Size([1]) torch.Size([1, 1])\n"
     ]
    },
    {
     "name": "stderr",
     "output_type": "stream",
     "text": [
      "2478it [02:08, 21.09it/s]"
     ]
    },
    {
     "name": "stdout",
     "output_type": "stream",
     "text": [
      "torch.Size([1]) torch.Size([1, 1])\n",
      "torch.Size([1]) torch.Size([1, 1])\n",
      "torch.Size([1]) torch.Size([1, 1])\n",
      "torch.Size([1]) torch.Size([1, 1])\n",
      "torch.Size([1])"
     ]
    },
    {
     "name": "stderr",
     "output_type": "stream",
     "text": [
      "\r",
      "2481it [02:09, 20.33it/s]"
     ]
    },
    {
     "name": "stdout",
     "output_type": "stream",
     "text": [
      " torch.Size([1, 1])\n",
      "torch.Size([1]) torch.Size([1, 1])\n",
      "torch.Size([1]) torch.Size([1, 1])\n",
      "torch.Size([1]) torch.Size([1, 1])\n"
     ]
    },
    {
     "name": "stderr",
     "output_type": "stream",
     "text": [
      "\r",
      "2484it [02:09, 19.44it/s]"
     ]
    },
    {
     "name": "stdout",
     "output_type": "stream",
     "text": [
      "torch.Size([1]) torch.Size([1, 1])\n",
      "torch.Size([1]) torch.Size([1, 1])\n",
      "torch.Size([1]) torch.Size([1, 1])\n",
      "torch.Size([1]) torch.Size([1, 1])\n"
     ]
    },
    {
     "name": "stderr",
     "output_type": "stream",
     "text": [
      "2490it [02:09, 20.11it/s]"
     ]
    },
    {
     "name": "stdout",
     "output_type": "stream",
     "text": [
      "torch.Size([1]) torch.Size([1, 1])\n",
      "torch.Size([1]) torch.Size([1, 1])\n",
      "torch.Size([1]) torch.Size([1, 1])\n",
      "torch.Size([1]) torch.Size([1, 1])\n",
      "torch.Size([1])"
     ]
    },
    {
     "name": "stderr",
     "output_type": "stream",
     "text": [
      "\r",
      "2493it [02:09, 20.41it/s]"
     ]
    },
    {
     "name": "stdout",
     "output_type": "stream",
     "text": [
      " torch.Size([1, 1])\n",
      "torch.Size([1]) torch.Size([1, 1])\n",
      "torch.Size([1]) torch.Size([1, 1])\n",
      "torch.Size([1]) torch.Size([1, 1])\n",
      "torch.Size([1])"
     ]
    },
    {
     "name": "stderr",
     "output_type": "stream",
     "text": [
      "\r",
      "2496it [02:09, 20.66it/s]"
     ]
    },
    {
     "name": "stdout",
     "output_type": "stream",
     "text": [
      " torch.Size([1, 1])\n",
      "torch.Size([1]) torch.Size([1, 1])\n",
      "torch.Size([1]) torch.Size([1, 1])\n",
      "torch.Size([1]) torch.Size([1, 1])\n",
      "torch.Size([1])"
     ]
    },
    {
     "name": "stderr",
     "output_type": "stream",
     "text": [
      "2502it [02:10, 20.61it/s]"
     ]
    },
    {
     "name": "stdout",
     "output_type": "stream",
     "text": [
      " torch.Size([1, 1])\n",
      "torch.Size([1]) torch.Size([1, 1])\n",
      "torch.Size([1]) torch.Size([1, 1])\n",
      "torch.Size([1]) torch.Size([1, 1])\n",
      "torch.Size([1])"
     ]
    },
    {
     "name": "stderr",
     "output_type": "stream",
     "text": [
      "\r",
      "2505it [02:10, 20.66it/s]"
     ]
    },
    {
     "name": "stdout",
     "output_type": "stream",
     "text": [
      " torch.Size([1, 1])\n",
      "torch.Size([1]) torch.Size([1, 1])\n",
      "torch.Size([1]) torch.Size([1, 1])\n",
      "torch.Size([1]) torch.Size([1, 1])\n",
      "torch.Size([1])"
     ]
    },
    {
     "name": "stderr",
     "output_type": "stream",
     "text": [
      "\r",
      "2508it [02:10, 20.57it/s]"
     ]
    },
    {
     "name": "stdout",
     "output_type": "stream",
     "text": [
      " torch.Size([1, 1])\n",
      "torch.Size([1]) torch.Size([1, 1])\n",
      "torch.Size([1]) torch.Size([1, 1])\n",
      "torch.Size([1]) torch.Size([1, 1])\n"
     ]
    },
    {
     "name": "stderr",
     "output_type": "stream",
     "text": [
      "2514it [02:10, 20.62it/s]"
     ]
    },
    {
     "name": "stdout",
     "output_type": "stream",
     "text": [
      "torch.Size([1]) torch.Size([1, 1])\n",
      "torch.Size([1]) torch.Size([1, 1])\n",
      "torch.Size([1]) torch.Size([1, 1])\n",
      "torch.Size([1]) torch.Size([1, 1])\n",
      "torch.Size([1])"
     ]
    },
    {
     "name": "stderr",
     "output_type": "stream",
     "text": [
      "\r",
      "2517it [02:10, 20.46it/s]"
     ]
    },
    {
     "name": "stdout",
     "output_type": "stream",
     "text": [
      " torch.Size([1, 1])\n",
      "torch.Size([1]) torch.Size([1, 1])\n",
      "torch.Size([1]) torch.Size([1, 1])\n",
      "torch.Size([1]) torch.Size([1, 1])\n",
      "torch.Size([1])"
     ]
    },
    {
     "name": "stderr",
     "output_type": "stream",
     "text": [
      "\r",
      "2520it [02:10, 20.80it/s]"
     ]
    },
    {
     "name": "stdout",
     "output_type": "stream",
     "text": [
      " torch.Size([1, 1])\n",
      "torch.Size([1]) torch.Size([1, 1])\n",
      "torch.Size([1]) torch.Size([1, 1])\n",
      "torch.Size([1]) torch.Size([1, 1])\n"
     ]
    },
    {
     "name": "stderr",
     "output_type": "stream",
     "text": [
      "2526it [02:11, 20.81it/s]"
     ]
    },
    {
     "name": "stdout",
     "output_type": "stream",
     "text": [
      "torch.Size([1]) torch.Size([1, 1])\n",
      "torch.Size([1]) torch.Size([1, 1])\n",
      "torch.Size([1]) torch.Size([1, 1])\n",
      "torch.Size([1]) torch.Size([1, 1])\n",
      "torch.Size([1])"
     ]
    },
    {
     "name": "stderr",
     "output_type": "stream",
     "text": [
      "\r",
      "2529it [02:11, 20.59it/s]"
     ]
    },
    {
     "name": "stdout",
     "output_type": "stream",
     "text": [
      " torch.Size([1, 1])\n",
      "torch.Size([1]) torch.Size([1, 1])\n",
      "torch.Size([1]) torch.Size([1, 1])\n",
      "torch.Size([1]) torch.Size([1, 1])\n",
      "torch.Size([1]) torch.Size([1, 1])\n"
     ]
    },
    {
     "name": "stderr",
     "output_type": "stream",
     "text": [
      "2535it [02:11, 20.81it/s]"
     ]
    },
    {
     "name": "stdout",
     "output_type": "stream",
     "text": [
      "torch.Size([1]) torch.Size([1, 1])\n",
      "torch.Size([1]) torch.Size([1, 1])\n",
      "torch.Size([1]) torch.Size([1, 1])\n",
      "torch.Size([1]) torch.Size([1, 1])\n",
      "torch.Size([1])"
     ]
    },
    {
     "name": "stderr",
     "output_type": "stream",
     "text": [
      "\r",
      "2538it [02:11, 20.74it/s]"
     ]
    },
    {
     "name": "stdout",
     "output_type": "stream",
     "text": [
      " torch.Size([1, 1])\n",
      "torch.Size([1]) torch.Size([1, 1])\n",
      "torch.Size([1]) torch.Size([1, 1])\n",
      "torch.Size([1]) torch.Size([1, 1])\n",
      "torch.Size([1])"
     ]
    },
    {
     "name": "stderr",
     "output_type": "stream",
     "text": [
      "\r",
      "2541it [02:12, 20.23it/s]"
     ]
    },
    {
     "name": "stdout",
     "output_type": "stream",
     "text": [
      " torch.Size([1, 1])\n",
      "torch.Size([1]) torch.Size([1, 1])\n",
      "torch.Size([1]) torch.Size([1, 1])\n",
      "torch.Size([1]) torch.Size([1, 1])\n",
      "torch.Size([1])"
     ]
    },
    {
     "name": "stderr",
     "output_type": "stream",
     "text": [
      "2547it [02:12, 20.87it/s]"
     ]
    },
    {
     "name": "stdout",
     "output_type": "stream",
     "text": [
      " torch.Size([1, 1])\n",
      "torch.Size([1]) torch.Size([1, 1])\n",
      "torch.Size([1]) torch.Size([1, 1])\n",
      "torch.Size([1]) torch.Size([1, 1])\n",
      "torch.Size([1])"
     ]
    },
    {
     "name": "stderr",
     "output_type": "stream",
     "text": [
      "\r",
      "2550it [02:12, 20.86it/s]"
     ]
    },
    {
     "name": "stdout",
     "output_type": "stream",
     "text": [
      " torch.Size([1, 1])\n",
      "torch.Size([1]) torch.Size([1, 1])\n",
      "torch.Size([1]) torch.Size([1, 1])\n",
      "torch.Size([1]) torch.Size([1, 1])\n",
      "torch.Size([1])"
     ]
    },
    {
     "name": "stderr",
     "output_type": "stream",
     "text": [
      "\r",
      "2553it [02:12, 20.61it/s]"
     ]
    },
    {
     "name": "stdout",
     "output_type": "stream",
     "text": [
      " torch.Size([1, 1])\n",
      "torch.Size([1]) torch.Size([1, 1])\n",
      "torch.Size([1]) torch.Size([1, 1])\n",
      "torch.Size([1]) torch.Size([1, 1])\n",
      "torch.Size([1])"
     ]
    },
    {
     "name": "stderr",
     "output_type": "stream",
     "text": [
      "2559it [02:12, 20.64it/s]"
     ]
    },
    {
     "name": "stdout",
     "output_type": "stream",
     "text": [
      " torch.Size([1, 1])\n",
      "torch.Size([1]) torch.Size([1, 1])\n",
      "torch.Size([1]) torch.Size([1, 1])\n",
      "torch.Size([1]) torch.Size([1, 1])\n",
      "torch.Size([1])"
     ]
    },
    {
     "name": "stderr",
     "output_type": "stream",
     "text": [
      "\r",
      "2562it [02:13, 20.89it/s]"
     ]
    },
    {
     "name": "stdout",
     "output_type": "stream",
     "text": [
      " torch.Size([1, 1])\n",
      "torch.Size([1]) torch.Size([1, 1])\n",
      "torch.Size([1]) torch.Size([1, 1])\n",
      "torch.Size([1]) torch.Size([1, 1])\n",
      "torch.Size([1]) torch.Size([1, 1])\n",
      "torch.Size([1])"
     ]
    },
    {
     "name": "stderr",
     "output_type": "stream",
     "text": [
      "2568it [02:13, 20.70it/s]"
     ]
    },
    {
     "name": "stdout",
     "output_type": "stream",
     "text": [
      " torch.Size([1, 1])\n",
      "torch.Size([1]) torch.Size([1, 1])\n",
      "torch.Size([1]) torch.Size([1, 1])\n",
      "torch.Size([1]) torch.Size([1, 1])\n",
      "torch.Size([1])"
     ]
    },
    {
     "name": "stderr",
     "output_type": "stream",
     "text": [
      "\r",
      "2571it [02:13, 20.50it/s]"
     ]
    },
    {
     "name": "stdout",
     "output_type": "stream",
     "text": [
      " torch.Size([1, 1])\n",
      "torch.Size([1]) torch.Size([1, 1])\n",
      "torch.Size([1]) torch.Size([1, 1])\n",
      "torch.Size([1]) torch.Size([1, 1])\n",
      "torch.Size([1])"
     ]
    },
    {
     "name": "stderr",
     "output_type": "stream",
     "text": [
      "\r",
      "2574it [02:13, 20.39it/s]"
     ]
    },
    {
     "name": "stdout",
     "output_type": "stream",
     "text": [
      " torch.Size([1, 1])\n",
      "torch.Size([1]) torch.Size([1, 1])\n",
      "torch.Size([1]) torch.Size([1, 1])\n",
      "torch.Size([1]) torch.Size([1, 1])\n"
     ]
    },
    {
     "name": "stderr",
     "output_type": "stream",
     "text": [
      "2580it [02:13, 20.05it/s]"
     ]
    },
    {
     "name": "stdout",
     "output_type": "stream",
     "text": [
      "torch.Size([1]) torch.Size([1, 1])\n",
      "torch.Size([1]) torch.Size([1, 1])\n",
      "torch.Size([1]) torch.Size([1, 1])\n",
      "torch.Size([1]) torch.Size([1, 1])\n",
      "torch.Size([1])"
     ]
    },
    {
     "name": "stderr",
     "output_type": "stream",
     "text": [
      "\r",
      "2583it [02:14, 19.91it/s]"
     ]
    },
    {
     "name": "stdout",
     "output_type": "stream",
     "text": [
      " torch.Size([1, 1])\n",
      "torch.Size([1]) torch.Size([1, 1])\n",
      "torch.Size([1]) torch.Size([1, 1])\n",
      "torch.Size([1]) torch.Size([1, 1])\n",
      "torch.Size([1])"
     ]
    },
    {
     "name": "stderr",
     "output_type": "stream",
     "text": [
      "\r",
      "2586it [02:14, 20.23it/s]"
     ]
    },
    {
     "name": "stdout",
     "output_type": "stream",
     "text": [
      " torch.Size([1, 1])\n",
      "torch.Size([1]) torch.Size([1, 1])\n",
      "torch.Size([1]) torch.Size([1, 1])\n",
      "torch.Size([1]) torch.Size([1, 1])\n",
      "torch.Size([1])"
     ]
    },
    {
     "name": "stderr",
     "output_type": "stream",
     "text": [
      "2592it [02:14, 20.09it/s]"
     ]
    },
    {
     "name": "stdout",
     "output_type": "stream",
     "text": [
      " torch.Size([1, 1])\n",
      "torch.Size([1]) torch.Size([1, 1])\n",
      "torch.Size([1]) torch.Size([1, 1])\n",
      "torch.Size([1]) torch.Size([1, 1])\n"
     ]
    },
    {
     "name": "stderr",
     "output_type": "stream",
     "text": [
      "\r",
      "2595it [02:14, 19.65it/s]"
     ]
    },
    {
     "name": "stdout",
     "output_type": "stream",
     "text": [
      "torch.Size([1]) torch.Size([1, 1])\n",
      "torch.Size([1]) torch.Size([1, 1])\n",
      "torch.Size([1]) torch.Size([1, 1])\n",
      "torch.Size([1]) torch.Size([1, 1])\n"
     ]
    },
    {
     "name": "stderr",
     "output_type": "stream",
     "text": [
      "2599it [02:14, 18.43it/s]"
     ]
    },
    {
     "name": "stdout",
     "output_type": "stream",
     "text": [
      "torch.Size([1]) torch.Size([1, 1])\n",
      "torch.Size([1]) torch.Size([1, 1])\n",
      "torch.Size([1]) torch.Size([1, 1])\n",
      "torch.Size([1]) torch.Size([1, 1])\n"
     ]
    },
    {
     "name": "stderr",
     "output_type": "stream",
     "text": [
      "2603it [02:15, 17.55it/s]"
     ]
    },
    {
     "name": "stdout",
     "output_type": "stream",
     "text": [
      "torch.Size([1]) torch.Size([1, 1])\n",
      "torch.Size([1]) torch.Size([1, 1])\n",
      "torch.Size([1]) torch.Size([1, 1])\n",
      "torch.Size([1]) torch.Size([1, 1])\n"
     ]
    },
    {
     "name": "stderr",
     "output_type": "stream",
     "text": [
      "\r",
      "2605it [02:15, 17.25it/s]"
     ]
    },
    {
     "name": "stdout",
     "output_type": "stream",
     "text": [
      "torch.Size([1]) torch.Size([1, 1])\n",
      "torch.Size([1]) torch.Size([1, 1])\n",
      "torch.Size([1]) torch.Size([1, 1])\n",
      "torch.Size([1])"
     ]
    },
    {
     "name": "stderr",
     "output_type": "stream",
     "text": [
      "2610it [02:15, 18.03it/s]"
     ]
    },
    {
     "name": "stdout",
     "output_type": "stream",
     "text": [
      " torch.Size([1, 1])\n",
      "torch.Size([1]) torch.Size([1, 1])\n",
      "torch.Size([1]) torch.Size([1, 1])\n",
      "torch.Size([1]) torch.Size([1, 1])\n"
     ]
    },
    {
     "name": "stderr",
     "output_type": "stream",
     "text": [
      "\r",
      "2613it [02:15, 18.70it/s]"
     ]
    },
    {
     "name": "stdout",
     "output_type": "stream",
     "text": [
      "torch.Size([1]) torch.Size([1, 1])\n",
      "torch.Size([1]) torch.Size([1, 1])\n",
      "torch.Size([1]) torch.Size([1, 1])\n",
      "torch.Size([1]) torch.Size([1, 1])\n",
      "torch.Size([1])"
     ]
    },
    {
     "name": "stderr",
     "output_type": "stream",
     "text": [
      "2619it [02:15, 19.74it/s]"
     ]
    },
    {
     "name": "stdout",
     "output_type": "stream",
     "text": [
      " torch.Size([1, 1])\n",
      "torch.Size([1]) torch.Size([1, 1])\n",
      "torch.Size([1]) torch.Size([1, 1])\n",
      "torch.Size([1]) torch.Size([1, 1])\n",
      "torch.Size([1])"
     ]
    },
    {
     "name": "stderr",
     "output_type": "stream",
     "text": [
      "\r",
      "2622it [02:16, 19.89it/s]"
     ]
    },
    {
     "name": "stdout",
     "output_type": "stream",
     "text": [
      " torch.Size([1, 1])\n",
      "torch.Size([1]) torch.Size([1, 1])\n",
      "torch.Size([1]) torch.Size([1, 1])\n",
      "torch.Size([1]) torch.Size([1, 1])\n",
      "torch.Size([1])"
     ]
    },
    {
     "name": "stderr",
     "output_type": "stream",
     "text": [
      "\r",
      "2625it [02:16, 20.20it/s]"
     ]
    },
    {
     "name": "stdout",
     "output_type": "stream",
     "text": [
      " torch.Size([1, 1])\n",
      "torch.Size([1]) torch.Size([1, 1])\n",
      "torch.Size([1]) torch.Size([1, 1])\n",
      "torch.Size([1]) torch.Size([1, 1])\n",
      "torch.Size([1])"
     ]
    },
    {
     "name": "stderr",
     "output_type": "stream",
     "text": [
      "2631it [02:16, 20.08it/s]"
     ]
    },
    {
     "name": "stdout",
     "output_type": "stream",
     "text": [
      " torch.Size([1, 1])\n",
      "torch.Size([1]) torch.Size([1, 1])\n",
      "torch.Size([1]) torch.Size([1, 1])\n",
      "torch.Size([1]) torch.Size([1, 1])\n"
     ]
    },
    {
     "name": "stderr",
     "output_type": "stream",
     "text": [
      "\r",
      "2634it [02:16, 20.10it/s]"
     ]
    },
    {
     "name": "stdout",
     "output_type": "stream",
     "text": [
      "torch.Size([1]) torch.Size([1, 1])\n",
      "torch.Size([1]) torch.Size([1, 1])\n",
      "torch.Size([1]) torch.Size([1, 1])\n",
      "torch.Size([1]) torch.Size([1, 1])\n",
      "torch.Size([1])"
     ]
    },
    {
     "name": "stderr",
     "output_type": "stream",
     "text": [
      "\r",
      "2637it [02:16, 20.29it/s]"
     ]
    },
    {
     "name": "stdout",
     "output_type": "stream",
     "text": [
      " torch.Size([1, 1])\n",
      "torch.Size([1]) torch.Size([1, 1])\n",
      "torch.Size([1]) torch.Size([1, 1])\n",
      "torch.Size([1]) torch.Size([1, 1])\n",
      "torch.Size([1])"
     ]
    },
    {
     "name": "stderr",
     "output_type": "stream",
     "text": [
      "2643it [02:17, 20.18it/s]"
     ]
    },
    {
     "name": "stdout",
     "output_type": "stream",
     "text": [
      " torch.Size([1, 1])\n",
      "torch.Size([1]) torch.Size([1, 1])\n",
      "torch.Size([1]) torch.Size([1, 1])\n",
      "torch.Size([1]) torch.Size([1, 1])\n",
      "torch.Size([1])"
     ]
    },
    {
     "name": "stderr",
     "output_type": "stream",
     "text": [
      "\r",
      "2646it [02:17, 20.19it/s]"
     ]
    },
    {
     "name": "stdout",
     "output_type": "stream",
     "text": [
      " torch.Size([1, 1])\n",
      "torch.Size([1]) torch.Size([1, 1])\n",
      "torch.Size([1]) torch.Size([1, 1])\n",
      "torch.Size([1]) torch.Size([1, 1])\n"
     ]
    },
    {
     "name": "stderr",
     "output_type": "stream",
     "text": [
      "\r",
      "2649it [02:17, 20.00it/s]"
     ]
    },
    {
     "name": "stdout",
     "output_type": "stream",
     "text": [
      "torch.Size([1]) torch.Size([1, 1])\n",
      "torch.Size([1]) torch.Size([1, 1])\n",
      "torch.Size([1]) torch.Size([1, 1])\n",
      "torch.Size([1]) torch.Size([1, 1])\n",
      "torch.Size([1])"
     ]
    },
    {
     "name": "stderr",
     "output_type": "stream",
     "text": [
      "2655it [02:17, 20.16it/s]"
     ]
    },
    {
     "name": "stdout",
     "output_type": "stream",
     "text": [
      " torch.Size([1, 1])\n",
      "torch.Size([1]) torch.Size([1, 1])\n",
      "torch.Size([1]) torch.Size([1, 1])\n",
      "torch.Size([1]) torch.Size([1, 1])\n",
      "torch.Size([1])"
     ]
    },
    {
     "name": "stderr",
     "output_type": "stream",
     "text": [
      "\r",
      "2658it [02:17, 20.19it/s]"
     ]
    },
    {
     "name": "stdout",
     "output_type": "stream",
     "text": [
      " torch.Size([1, 1])\n",
      "torch.Size([1]) torch.Size([1, 1])\n",
      "torch.Size([1]) torch.Size([1, 1])\n",
      "torch.Size([1]) torch.Size([1, 1])\n",
      "torch.Size([1])"
     ]
    },
    {
     "name": "stderr",
     "output_type": "stream",
     "text": [
      "\r",
      "2661it [02:18, 20.25it/s]"
     ]
    },
    {
     "name": "stdout",
     "output_type": "stream",
     "text": [
      " torch.Size([1, 1])\n",
      "torch.Size([1]) torch.Size([1, 1])\n",
      "torch.Size([1]) torch.Size([1, 1])\n",
      "torch.Size([1]) torch.Size([1, 1])\n",
      "torch.Size([1])"
     ]
    },
    {
     "name": "stderr",
     "output_type": "stream",
     "text": [
      "2667it [02:18, 19.86it/s]"
     ]
    },
    {
     "name": "stdout",
     "output_type": "stream",
     "text": [
      " torch.Size([1, 1])\n",
      "torch.Size([1]) torch.Size([1, 1])\n",
      "torch.Size([1]) torch.Size([1, 1])\n",
      "torch.Size([1]) torch.Size([1, 1])\n"
     ]
    },
    {
     "name": "stderr",
     "output_type": "stream",
     "text": [
      "\r",
      "2669it [02:18, 19.72it/s]"
     ]
    },
    {
     "name": "stdout",
     "output_type": "stream",
     "text": [
      "torch.Size([1]) torch.Size([1, 1])\n",
      "torch.Size([1]) torch.Size([1, 1])\n",
      "torch.Size([1]) torch.Size([1, 1])\n",
      "torch.Size([1]) torch.Size([1, 1])\n",
      "torch.Size([1])"
     ]
    },
    {
     "name": "stderr",
     "output_type": "stream",
     "text": [
      "2675it [02:18, 20.34it/s]"
     ]
    },
    {
     "name": "stdout",
     "output_type": "stream",
     "text": [
      " torch.Size([1, 1])\n",
      "torch.Size([1]) torch.Size([1, 1])\n",
      "torch.Size([1]) torch.Size([1, 1])\n",
      "torch.Size([1]) torch.Size([1, 1])\n"
     ]
    },
    {
     "name": "stderr",
     "output_type": "stream",
     "text": [
      "\r",
      "2678it [02:18, 20.22it/s]"
     ]
    },
    {
     "name": "stdout",
     "output_type": "stream",
     "text": [
      "torch.Size([1]) torch.Size([1, 1])\n",
      "torch.Size([1]) torch.Size([1, 1])\n",
      "torch.Size([1]) torch.Size([1, 1])\n",
      "torch.Size([1]) torch.Size([1, 1])\n",
      "torch.Size([1])"
     ]
    },
    {
     "name": "stderr",
     "output_type": "stream",
     "text": [
      "\r",
      "2681it [02:19, 20.18it/s]"
     ]
    },
    {
     "name": "stdout",
     "output_type": "stream",
     "text": [
      " torch.Size([1, 1])\n",
      "torch.Size([1]) torch.Size([1, 1])\n",
      "torch.Size([1]) torch.Size([1, 1])\n",
      "torch.Size([1]) torch.Size([1, 1])\n"
     ]
    },
    {
     "name": "stderr",
     "output_type": "stream",
     "text": [
      "2687it [02:19, 20.45it/s]"
     ]
    },
    {
     "name": "stdout",
     "output_type": "stream",
     "text": [
      "torch.Size([1]) torch.Size([1, 1])\n",
      "torch.Size([1]) torch.Size([1, 1])\n",
      "torch.Size([1]) torch.Size([1, 1])\n",
      "torch.Size([1]) torch.Size([1, 1])\n",
      "torch.Size([1])"
     ]
    },
    {
     "name": "stderr",
     "output_type": "stream",
     "text": [
      "\r",
      "2690it [02:19, 20.73it/s]"
     ]
    },
    {
     "name": "stdout",
     "output_type": "stream",
     "text": [
      " torch.Size([1, 1])\n",
      "torch.Size([1]) torch.Size([1, 1])\n",
      "torch.Size([1]) torch.Size([1, 1])\n",
      "torch.Size([1]) torch.Size([1, 1])\n",
      "torch.Size([1])"
     ]
    },
    {
     "name": "stderr",
     "output_type": "stream",
     "text": [
      "\r",
      "2693it [02:19, 20.68it/s]"
     ]
    },
    {
     "name": "stdout",
     "output_type": "stream",
     "text": [
      " torch.Size([1, 1])\n",
      "torch.Size([1]) torch.Size([1, 1])\n",
      "torch.Size([1]) torch.Size([1, 1])\n",
      "torch.Size([1]) torch.Size([1, 1])\n",
      "torch.Size([1])"
     ]
    },
    {
     "name": "stderr",
     "output_type": "stream",
     "text": [
      "2699it [02:19, 19.79it/s]"
     ]
    },
    {
     "name": "stdout",
     "output_type": "stream",
     "text": [
      " torch.Size([1, 1])\n",
      "torch.Size([1]) torch.Size([1, 1])\n",
      "torch.Size([1]) torch.Size([1, 1])\n",
      "torch.Size([1]) torch.Size([1, 1])\n"
     ]
    },
    {
     "name": "stderr",
     "output_type": "stream",
     "text": [
      "2704it [02:20, 20.56it/s]"
     ]
    },
    {
     "name": "stdout",
     "output_type": "stream",
     "text": [
      "torch.Size([1]) torch.Size([1, 1])\n",
      "torch.Size([1]) torch.Size([1, 1])\n",
      "torch.Size([1]) torch.Size([1, 1])\n",
      "torch.Size([1]) torch.Size([1, 1])\n",
      "torch.Size([1]) torch.Size([1, 1])\n"
     ]
    },
    {
     "name": "stderr",
     "output_type": "stream",
     "text": [
      "\r",
      "2707it [02:20, 20.83it/s]"
     ]
    },
    {
     "name": "stdout",
     "output_type": "stream",
     "text": [
      "torch.Size([1]) torch.Size([1, 1])\n",
      "torch.Size([1]) torch.Size([1, 1])\n",
      "torch.Size([1]) torch.Size([1, 1])\n",
      "torch.Size([1]) torch.Size([1, 1])\n",
      "torch.Size([1]) torch.Size([1, 1])\n"
     ]
    },
    {
     "name": "stderr",
     "output_type": "stream",
     "text": [
      "2713it [02:20, 20.88it/s]"
     ]
    },
    {
     "name": "stdout",
     "output_type": "stream",
     "text": [
      "torch.Size([1]) torch.Size([1, 1])\n",
      "torch.Size([1]) torch.Size([1, 1])\n",
      "torch.Size([1]) torch.Size([1, 1])\n",
      "torch.Size([1]) torch.Size([1, 1])\n"
     ]
    },
    {
     "name": "stderr",
     "output_type": "stream",
     "text": [
      "\r",
      "2716it [02:20, 21.28it/s]"
     ]
    },
    {
     "name": "stdout",
     "output_type": "stream",
     "text": [
      "torch.Size([1]) torch.Size([1, 1])\n",
      "torch.Size([1]) torch.Size([1, 1])\n",
      "torch.Size([1]) torch.Size([1, 1])\n",
      "torch.Size([1]) torch.Size([1, 1])\n",
      "torch.Size([1]) torch.Size([1, 1])\n"
     ]
    },
    {
     "name": "stderr",
     "output_type": "stream",
     "text": [
      "2722it [02:20, 21.32it/s]"
     ]
    },
    {
     "name": "stdout",
     "output_type": "stream",
     "text": [
      "torch.Size([1]) torch.Size([1, 1])\n",
      "torch.Size([1]) torch.Size([1, 1])\n",
      "torch.Size([1]) torch.Size([1, 1])\n",
      "torch.Size([1]) torch.Size([1, 1])\n",
      "torch.Size([1])"
     ]
    },
    {
     "name": "stderr",
     "output_type": "stream",
     "text": [
      "\r",
      "2725it [02:21, 21.41it/s]"
     ]
    },
    {
     "name": "stdout",
     "output_type": "stream",
     "text": [
      " torch.Size([1, 1])\n",
      "torch.Size([1]) torch.Size([1, 1])\n",
      "torch.Size([1]) torch.Size([1, 1])\n",
      "torch.Size([1]) torch.Size([1, 1])\n",
      "torch.Size([1])"
     ]
    },
    {
     "name": "stderr",
     "output_type": "stream",
     "text": [
      "\r",
      "2728it [02:21, 20.49it/s]"
     ]
    },
    {
     "name": "stdout",
     "output_type": "stream",
     "text": [
      " torch.Size([1, 1])\n",
      "torch.Size([1]) torch.Size([1, 1])\n",
      "torch.Size([1]) torch.Size([1, 1])\n",
      "torch.Size([1]) torch.Size([1, 1])\n",
      "torch.Size([1])"
     ]
    },
    {
     "name": "stderr",
     "output_type": "stream",
     "text": [
      "2734it [02:21, 21.61it/s]"
     ]
    },
    {
     "name": "stdout",
     "output_type": "stream",
     "text": [
      " torch.Size([1, 1])\n",
      "torch.Size([1]) torch.Size([1, 1])\n",
      "torch.Size([1]) torch.Size([1, 1])\n",
      "torch.Size([1]) torch.Size([1, 1])\n",
      "torch.Size([1]) torch.Size([1, 1])\n"
     ]
    },
    {
     "name": "stderr",
     "output_type": "stream",
     "text": [
      "\r",
      "2737it [02:21, 21.33it/s]"
     ]
    },
    {
     "name": "stdout",
     "output_type": "stream",
     "text": [
      "torch.Size([1]) torch.Size([1, 1])\n",
      "torch.Size([1]) torch.Size([1, 1])\n",
      "torch.Size([1]) torch.Size([1, 1])\n",
      "torch.Size([1]) torch.Size([1, 1])\n",
      "torch.Size([1])"
     ]
    },
    {
     "name": "stderr",
     "output_type": "stream",
     "text": [
      "2743it [02:21, 21.13it/s]"
     ]
    },
    {
     "name": "stdout",
     "output_type": "stream",
     "text": [
      " torch.Size([1, 1])\n",
      "torch.Size([1]) torch.Size([1, 1])\n",
      "torch.Size([1]) torch.Size([1, 1])\n",
      "torch.Size([1]) torch.Size([1, 1])\n",
      "torch.Size([1])"
     ]
    },
    {
     "name": "stderr",
     "output_type": "stream",
     "text": [
      "\r",
      "2746it [02:22, 20.80it/s]"
     ]
    },
    {
     "name": "stdout",
     "output_type": "stream",
     "text": [
      " torch.Size([1, 1])\n",
      "torch.Size([1]) torch.Size([1, 1])\n",
      "torch.Size([1]) torch.Size([1, 1])\n",
      "torch.Size([1]) torch.Size([1, 1])\n",
      "torch.Size([1]) torch.Size([1, 1])\n"
     ]
    },
    {
     "name": "stderr",
     "output_type": "stream",
     "text": [
      "2752it [02:22, 20.94it/s]"
     ]
    },
    {
     "name": "stdout",
     "output_type": "stream",
     "text": [
      "torch.Size([1]) torch.Size([1, 1])\n",
      "torch.Size([1]) torch.Size([1, 1])\n",
      "torch.Size([1]) torch.Size([1, 1])\n",
      "torch.Size([1]) torch.Size([1, 1])\n"
     ]
    },
    {
     "name": "stderr",
     "output_type": "stream",
     "text": [
      "\r",
      "2755it [02:22, 20.50it/s]"
     ]
    },
    {
     "name": "stdout",
     "output_type": "stream",
     "text": [
      "torch.Size([1]) torch.Size([1, 1])\n",
      "torch.Size([1]) torch.Size([1, 1])\n",
      "torch.Size([1]) torch.Size([1, 1])\n",
      "torch.Size([1]) torch.Size([1, 1])\n"
     ]
    },
    {
     "name": "stderr",
     "output_type": "stream",
     "text": [
      "\r",
      "2758it [02:22, 20.36it/s]"
     ]
    },
    {
     "name": "stdout",
     "output_type": "stream",
     "text": [
      "torch.Size([1]) torch.Size([1, 1])\n",
      "torch.Size([1]) torch.Size([1, 1])\n",
      "torch.Size([1]) torch.Size([1, 1])\n",
      "torch.Size([1]) torch.Size([1, 1])\n",
      "torch.Size([1])"
     ]
    },
    {
     "name": "stderr",
     "output_type": "stream",
     "text": [
      "2764it [02:23, 20.57it/s]"
     ]
    },
    {
     "name": "stdout",
     "output_type": "stream",
     "text": [
      " torch.Size([1, 1])\n",
      "torch.Size([1]) torch.Size([1, 1])\n",
      "torch.Size([1]) torch.Size([1, 1])\n",
      "torch.Size([1]) torch.Size([1, 1])\n",
      "torch.Size([1])"
     ]
    },
    {
     "name": "stderr",
     "output_type": "stream",
     "text": [
      "\r",
      "2767it [02:23, 20.60it/s]"
     ]
    },
    {
     "name": "stdout",
     "output_type": "stream",
     "text": [
      " torch.Size([1, 1])\n",
      "torch.Size([1]) torch.Size([1, 1])\n",
      "torch.Size([1]) torch.Size([1, 1])\n",
      "torch.Size([1]) torch.Size([1, 1])\n",
      "torch.Size([1])"
     ]
    },
    {
     "name": "stderr",
     "output_type": "stream",
     "text": [
      "\r",
      "2770it [02:23, 20.54it/s]"
     ]
    },
    {
     "name": "stdout",
     "output_type": "stream",
     "text": [
      " torch.Size([1, 1])\n",
      "torch.Size([1]) torch.Size([1, 1])\n",
      "torch.Size([1]) torch.Size([1, 1])\n",
      "torch.Size([1]) torch.Size([1, 1])\n"
     ]
    },
    {
     "name": "stderr",
     "output_type": "stream",
     "text": [
      "2776it [02:23, 20.49it/s]"
     ]
    },
    {
     "name": "stdout",
     "output_type": "stream",
     "text": [
      "torch.Size([1]) torch.Size([1, 1])\n",
      "torch.Size([1]) torch.Size([1, 1])\n",
      "torch.Size([1]) torch.Size([1, 1])\n",
      "torch.Size([1]) torch.Size([1, 1])\n",
      "torch.Size([1])"
     ]
    },
    {
     "name": "stderr",
     "output_type": "stream",
     "text": [
      "\r",
      "2779it [02:23, 20.75it/s]"
     ]
    },
    {
     "name": "stdout",
     "output_type": "stream",
     "text": [
      " torch.Size([1, 1])\n",
      "torch.Size([1]) torch.Size([1, 1])\n",
      "torch.Size([1]) torch.Size([1, 1])\n",
      "torch.Size([1]) torch.Size([1, 1])\n"
     ]
    },
    {
     "name": "stderr",
     "output_type": "stream",
     "text": [
      "2784it [02:24, 19.41it/s]"
     ]
    },
    {
     "name": "stdout",
     "output_type": "stream",
     "text": [
      "torch.Size([1]) torch.Size([1, 1])\n",
      "torch.Size([1]) torch.Size([1, 1])\n",
      "torch.Size([1]) torch.Size([1, 1])\n",
      "torch.Size([1]) torch.Size([1, 1])\n"
     ]
    },
    {
     "name": "stderr",
     "output_type": "stream",
     "text": [
      "\r",
      "2786it [02:24, 19.32it/s]"
     ]
    },
    {
     "name": "stdout",
     "output_type": "stream",
     "text": [
      "torch.Size([1]) torch.Size([1, 1])\n",
      "torch.Size([1]) torch.Size([1, 1])\n",
      "torch.Size([1]) torch.Size([1, 1])\n",
      "torch.Size([1]) torch.Size([1, 1])\n",
      "torch.Size([1])"
     ]
    },
    {
     "name": "stderr",
     "output_type": "stream",
     "text": [
      "2792it [02:24, 20.20it/s]"
     ]
    },
    {
     "name": "stdout",
     "output_type": "stream",
     "text": [
      " torch.Size([1, 1])\n",
      "torch.Size([1]) torch.Size([1, 1])\n",
      "torch.Size([1]) torch.Size([1, 1])\n",
      "torch.Size([1]) torch.Size([1, 1])\n",
      "torch.Size([1])"
     ]
    },
    {
     "name": "stderr",
     "output_type": "stream",
     "text": [
      "\r",
      "2795it [02:24, 20.48it/s]"
     ]
    },
    {
     "name": "stdout",
     "output_type": "stream",
     "text": [
      " torch.Size([1, 1])\n",
      "torch.Size([1]) torch.Size([1, 1])\n",
      "torch.Size([1]) torch.Size([1, 1])\n",
      "torch.Size([1]) torch.Size([1, 1])\n",
      "torch.Size([1]) torch.Size([1, 1])\n"
     ]
    },
    {
     "name": "stderr",
     "output_type": "stream",
     "text": [
      "2801it [02:24, 20.58it/s]"
     ]
    },
    {
     "name": "stdout",
     "output_type": "stream",
     "text": [
      "torch.Size([1]) torch.Size([1, 1])\n",
      "torch.Size([1]) torch.Size([1, 1])\n",
      "torch.Size([1]) torch.Size([1, 1])\n",
      "torch.Size([1]) torch.Size([1, 1])\n",
      "torch.Size([1])"
     ]
    },
    {
     "name": "stderr",
     "output_type": "stream",
     "text": [
      "\r",
      "2804it [02:25, 19.41it/s]"
     ]
    },
    {
     "name": "stdout",
     "output_type": "stream",
     "text": [
      " torch.Size([1, 1])\n",
      "torch.Size([1]) torch.Size([1, 1])\n",
      "torch.Size([1]) torch.Size([1, 1])\n",
      "torch.Size([1])"
     ]
    },
    {
     "name": "stderr",
     "output_type": "stream",
     "text": [
      "2808it [02:25, 17.96it/s]"
     ]
    },
    {
     "name": "stdout",
     "output_type": "stream",
     "text": [
      " torch.Size([1, 1])\n",
      "torch.Size([1]) torch.Size([1, 1])\n",
      "torch.Size([1]) torch.Size([1, 1])\n",
      "torch.Size([1]) torch.Size([1, 1])\n"
     ]
    },
    {
     "name": "stderr",
     "output_type": "stream",
     "text": [
      "\r",
      "2810it [02:25, 17.42it/s]"
     ]
    },
    {
     "name": "stdout",
     "output_type": "stream",
     "text": [
      "torch.Size([1]) torch.Size([1, 1])\n",
      "torch.Size([1]) torch.Size([1, 1])\n",
      "torch.Size([1]) torch.Size([1, 1])\n",
      "torch.Size([1]) torch.Size([1, 1])\n",
      "torch.Size([1])"
     ]
    },
    {
     "name": "stderr",
     "output_type": "stream",
     "text": [
      "2815it [02:25, 18.60it/s]"
     ]
    },
    {
     "name": "stdout",
     "output_type": "stream",
     "text": [
      " torch.Size([1, 1])\n",
      "torch.Size([1]) torch.Size([1, 1])\n",
      "torch.Size([1]) torch.Size([1, 1])\n",
      "torch.Size([1]) torch.Size([1, 1])\n"
     ]
    },
    {
     "name": "stderr",
     "output_type": "stream",
     "text": [
      "2820it [02:25, 19.29it/s]"
     ]
    },
    {
     "name": "stdout",
     "output_type": "stream",
     "text": [
      "torch.Size([1]) torch.Size([1, 1])\n",
      "torch.Size([1]) torch.Size([1, 1])\n",
      "torch.Size([1]) torch.Size([1, 1])\n",
      "torch.Size([1]) torch.Size([1, 1])\n"
     ]
    },
    {
     "name": "stderr",
     "output_type": "stream",
     "text": [
      "2824it [02:26, 18.35it/s]"
     ]
    },
    {
     "name": "stdout",
     "output_type": "stream",
     "text": [
      "torch.Size([1]) torch.Size([1, 1])\n",
      "torch.Size([1]) torch.Size([1, 1])\n",
      "torch.Size([1]) torch.Size([1, 1])\n",
      "torch.Size([1]) torch.Size([1, 1])\n"
     ]
    },
    {
     "name": "stderr",
     "output_type": "stream",
     "text": [
      "\r",
      "2827it [02:26, 18.89it/s]"
     ]
    },
    {
     "name": "stdout",
     "output_type": "stream",
     "text": [
      "torch.Size([1]) torch.Size([1, 1])\n",
      "torch.Size([1]) torch.Size([1, 1])\n",
      "torch.Size([1]) torch.Size([1, 1])\n",
      "torch.Size([1]) torch.Size([1, 1])\n",
      "torch.Size([1])"
     ]
    },
    {
     "name": "stderr",
     "output_type": "stream",
     "text": [
      "2832it [02:26, 20.05it/s]"
     ]
    },
    {
     "name": "stdout",
     "output_type": "stream",
     "text": [
      " torch.Size([1, 1])\n",
      "torch.Size([1]) torch.Size([1, 1])\n",
      "torch.Size([1]) torch.Size([1, 1])\n",
      "torch.Size([1]) torch.Size([1, 1])\n",
      "torch.Size([1])"
     ]
    },
    {
     "name": "stderr",
     "output_type": "stream",
     "text": [
      "\r",
      "2835it [02:26, 19.97it/s]"
     ]
    },
    {
     "name": "stdout",
     "output_type": "stream",
     "text": [
      " torch.Size([1, 1])\n",
      "torch.Size([1]) torch.Size([1, 1])\n",
      "torch.Size([1]) torch.Size([1, 1])\n",
      "torch.Size([1]) torch.Size([1, 1])\n",
      "torch.Size([1])"
     ]
    },
    {
     "name": "stderr",
     "output_type": "stream",
     "text": [
      "\r",
      "2838it [02:26, 20.34it/s]"
     ]
    },
    {
     "name": "stdout",
     "output_type": "stream",
     "text": [
      " torch.Size([1, 1])\n",
      "torch.Size([1]) torch.Size([1, 1])\n",
      "torch.Size([1]) torch.Size([1, 1])\n",
      "torch.Size([1]) torch.Size([1, 1])\n"
     ]
    },
    {
     "name": "stderr",
     "output_type": "stream",
     "text": [
      "2844it [02:27, 19.68it/s]"
     ]
    },
    {
     "name": "stdout",
     "output_type": "stream",
     "text": [
      "torch.Size([1]) torch.Size([1, 1])\n",
      "torch.Size([1]) torch.Size([1, 1])\n",
      "torch.Size([1]) torch.Size([1, 1])\n",
      "torch.Size([1]) torch.Size([1, 1])\n"
     ]
    },
    {
     "name": "stderr",
     "output_type": "stream",
     "text": [
      "2848it [02:27, 18.08it/s]"
     ]
    },
    {
     "name": "stdout",
     "output_type": "stream",
     "text": [
      "torch.Size([1]) torch.Size([1, 1])\n",
      "torch.Size([1]) torch.Size([1, 1])\n",
      "torch.Size([1]) torch.Size([1, 1])\n",
      "torch.Size([1]) torch.Size([1, 1])\n"
     ]
    },
    {
     "name": "stderr",
     "output_type": "stream",
     "text": [
      "2852it [02:27, 18.06it/s]"
     ]
    },
    {
     "name": "stdout",
     "output_type": "stream",
     "text": [
      "torch.Size([1]) torch.Size([1, 1])\n",
      "torch.Size([1]) torch.Size([1, 1])\n",
      "torch.Size([1]) torch.Size([1, 1])\n",
      "torch.Size([1]) torch.Size([1, 1])\n"
     ]
    },
    {
     "name": "stderr",
     "output_type": "stream",
     "text": [
      "\r",
      "2854it [02:27, 18.17it/s]"
     ]
    },
    {
     "name": "stdout",
     "output_type": "stream",
     "text": [
      "torch.Size([1]) torch.Size([1, 1])\n",
      "torch.Size([1]) torch.Size([1, 1])\n",
      "torch.Size([1]) torch.Size([1, 1])\n",
      "torch.Size([1]) torch.Size([1, 1])\n",
      "torch.Size([1])"
     ]
    },
    {
     "name": "stderr",
     "output_type": "stream",
     "text": [
      "2860it [02:27, 19.51it/s]"
     ]
    },
    {
     "name": "stdout",
     "output_type": "stream",
     "text": [
      " torch.Size([1, 1])\n",
      "torch.Size([1]) torch.Size([1, 1])\n",
      "torch.Size([1]) torch.Size([1, 1])\n",
      "torch.Size([1]) torch.Size([1, 1])\n",
      "torch.Size([1])"
     ]
    },
    {
     "name": "stderr",
     "output_type": "stream",
     "text": [
      "\r",
      "2863it [02:28, 20.02it/s]"
     ]
    },
    {
     "name": "stdout",
     "output_type": "stream",
     "text": [
      " torch.Size([1, 1])\n",
      "torch.Size([1]) torch.Size([1, 1])\n",
      "torch.Size([1]) torch.Size([1, 1])\n",
      "torch.Size([1]) torch.Size([1, 1])\n",
      "torch.Size([1]) torch.Size([1, 1])\n"
     ]
    },
    {
     "name": "stderr",
     "output_type": "stream",
     "text": [
      "2869it [02:28, 20.61it/s]"
     ]
    },
    {
     "name": "stdout",
     "output_type": "stream",
     "text": [
      "torch.Size([1]) torch.Size([1, 1])\n",
      "torch.Size([1]) torch.Size([1, 1])\n",
      "torch.Size([1]) torch.Size([1, 1])\n",
      "torch.Size([1]) torch.Size([1, 1])\n",
      "torch.Size([1]) torch.Size([1, 1])\n"
     ]
    },
    {
     "name": "stderr",
     "output_type": "stream",
     "text": [
      "\r",
      "2872it [02:28, 20.47it/s]"
     ]
    },
    {
     "name": "stdout",
     "output_type": "stream",
     "text": [
      "torch.Size([1]) torch.Size([1, 1])\n",
      "torch.Size([1]) torch.Size([1, 1])\n",
      "torch.Size([1]) torch.Size([1, 1])\n",
      "torch.Size([1])"
     ]
    },
    {
     "name": "stderr",
     "output_type": "stream",
     "text": [
      "\r",
      "2875it [02:28, 20.41it/s]"
     ]
    },
    {
     "name": "stdout",
     "output_type": "stream",
     "text": [
      " torch.Size([1, 1])\n",
      "torch.Size([1]) torch.Size([1, 1])\n",
      "torch.Size([1]) torch.Size([1, 1])\n",
      "torch.Size([1]) torch.Size([1, 1])\n",
      "torch.Size([1])"
     ]
    },
    {
     "name": "stderr",
     "output_type": "stream",
     "text": [
      "2881it [02:28, 21.07it/s]"
     ]
    },
    {
     "name": "stdout",
     "output_type": "stream",
     "text": [
      " torch.Size([1, 1])\n",
      "torch.Size([1]) torch.Size([1, 1])\n",
      "torch.Size([1]) torch.Size([1, 1])\n",
      "torch.Size([1]) torch.Size([1, 1])\n",
      "torch.Size([1]) torch.Size([1, 1])\n"
     ]
    },
    {
     "name": "stderr",
     "output_type": "stream",
     "text": [
      "\r",
      "2884it [02:29, 20.94it/s]"
     ]
    },
    {
     "name": "stdout",
     "output_type": "stream",
     "text": [
      "torch.Size([1]) torch.Size([1, 1])\n",
      "torch.Size([1]) torch.Size([1, 1])\n",
      "torch.Size([1]) torch.Size([1, 1])\n",
      "torch.Size([1]) torch.Size([1, 1])\n",
      "torch.Size([1])"
     ]
    },
    {
     "name": "stderr",
     "output_type": "stream",
     "text": [
      "2890it [02:29, 20.65it/s]"
     ]
    },
    {
     "name": "stdout",
     "output_type": "stream",
     "text": [
      " torch.Size([1, 1])\n",
      "torch.Size([1]) torch.Size([1, 1])\n",
      "torch.Size([1]) torch.Size([1, 1])\n",
      "torch.Size([1]) torch.Size([1, 1])\n",
      "torch.Size([1])"
     ]
    },
    {
     "name": "stderr",
     "output_type": "stream",
     "text": [
      "\r",
      "2893it [02:29, 20.57it/s]"
     ]
    },
    {
     "name": "stdout",
     "output_type": "stream",
     "text": [
      " torch.Size([1, 1])\n",
      "torch.Size([1]) torch.Size([1, 1])\n",
      "torch.Size([1]) torch.Size([1, 1])\n",
      "torch.Size([1]) torch.Size([1, 1])\n",
      "torch.Size([1])"
     ]
    },
    {
     "name": "stderr",
     "output_type": "stream",
     "text": [
      "\r",
      "2896it [02:29, 20.63it/s]"
     ]
    },
    {
     "name": "stdout",
     "output_type": "stream",
     "text": [
      " torch.Size([1, 1])\n",
      "torch.Size([1]) torch.Size([1, 1])\n",
      "torch.Size([1]) torch.Size([1, 1])\n",
      "torch.Size([1]) torch.Size([1, 1])\n",
      "torch.Size([1])"
     ]
    },
    {
     "name": "stderr",
     "output_type": "stream",
     "text": [
      "2902it [02:29, 20.16it/s]"
     ]
    },
    {
     "name": "stdout",
     "output_type": "stream",
     "text": [
      " torch.Size([1, 1])\n",
      "torch.Size([1]) torch.Size([1, 1])\n",
      "torch.Size([1]) torch.Size([1, 1])\n",
      "torch.Size([1]) torch.Size([1, 1])\n"
     ]
    },
    {
     "name": "stderr",
     "output_type": "stream",
     "text": [
      "\r",
      "2905it [02:30, 20.58it/s]"
     ]
    },
    {
     "name": "stdout",
     "output_type": "stream",
     "text": [
      "torch.Size([1]) torch.Size([1, 1])\n",
      "torch.Size([1]) torch.Size([1, 1])\n",
      "torch.Size([1]) torch.Size([1, 1])\n",
      "torch.Size([1]) torch.Size([1, 1])\n"
     ]
    },
    {
     "name": "stderr",
     "output_type": "stream",
     "text": [
      "\r",
      "2908it [02:30, 20.68it/s]"
     ]
    },
    {
     "name": "stdout",
     "output_type": "stream",
     "text": [
      "torch.Size([1]) torch.Size([1, 1])\n",
      "torch.Size([1]) torch.Size([1, 1])\n",
      "torch.Size([1]) torch.Size([1, 1])\n",
      "torch.Size([1]) torch.Size([1, 1])\n",
      "torch.Size([1])"
     ]
    },
    {
     "name": "stderr",
     "output_type": "stream",
     "text": [
      "2914it [02:30, 20.33it/s]"
     ]
    },
    {
     "name": "stdout",
     "output_type": "stream",
     "text": [
      " torch.Size([1, 1])\n",
      "torch.Size([1]) torch.Size([1, 1])\n",
      "torch.Size([1]) torch.Size([1, 1])\n",
      "torch.Size([1]) torch.Size([1, 1])\n",
      "torch.Size([1])"
     ]
    },
    {
     "name": "stderr",
     "output_type": "stream",
     "text": [
      "\r",
      "2917it [02:30, 20.41it/s]"
     ]
    },
    {
     "name": "stdout",
     "output_type": "stream",
     "text": [
      " torch.Size([1, 1])\n",
      "torch.Size([1]) torch.Size([1, 1])\n",
      "torch.Size([1]) torch.Size([1, 1])\n",
      "torch.Size([1]) torch.Size([1, 1])\n",
      "torch.Size([1])"
     ]
    },
    {
     "name": "stderr",
     "output_type": "stream",
     "text": [
      "\r",
      "2920it [02:30, 20.54it/s]"
     ]
    },
    {
     "name": "stdout",
     "output_type": "stream",
     "text": [
      " torch.Size([1, 1])\n",
      "torch.Size([1]) torch.Size([1, 1])\n",
      "torch.Size([1]) torch.Size([1, 1])\n",
      "torch.Size([1]) torch.Size([1, 1])\n",
      "torch.Size([1])"
     ]
    },
    {
     "name": "stderr",
     "output_type": "stream",
     "text": [
      "2926it [02:31, 20.84it/s]"
     ]
    },
    {
     "name": "stdout",
     "output_type": "stream",
     "text": [
      " torch.Size([1, 1])\n",
      "torch.Size([1]) torch.Size([1, 1])\n",
      "torch.Size([1]) torch.Size([1, 1])\n",
      "torch.Size([1]) torch.Size([1, 1])\n",
      "torch.Size([1])"
     ]
    },
    {
     "name": "stderr",
     "output_type": "stream",
     "text": [
      "\r",
      "2929it [02:31, 20.59it/s]"
     ]
    },
    {
     "name": "stdout",
     "output_type": "stream",
     "text": [
      " torch.Size([1, 1])\n",
      "torch.Size([1]) torch.Size([1, 1])\n",
      "torch.Size([1]) torch.Size([1, 1])\n",
      "torch.Size([1]) torch.Size([1, 1])\n",
      "torch.Size([1])"
     ]
    },
    {
     "name": "stderr",
     "output_type": "stream",
     "text": [
      "\r",
      "2932it [02:31, 20.22it/s]"
     ]
    },
    {
     "name": "stdout",
     "output_type": "stream",
     "text": [
      " torch.Size([1, 1])\n",
      "torch.Size([1]) torch.Size([1, 1])\n",
      "torch.Size([1]) torch.Size([1, 1])\n",
      "torch.Size([1]) torch.Size([1, 1])\n",
      "torch.Size([1])"
     ]
    },
    {
     "name": "stderr",
     "output_type": "stream",
     "text": [
      "2938it [02:31, 20.98it/s]"
     ]
    },
    {
     "name": "stdout",
     "output_type": "stream",
     "text": [
      " torch.Size([1, 1])\n",
      "torch.Size([1]) torch.Size([1, 1])\n",
      "torch.Size([1]) torch.Size([1, 1])\n",
      "torch.Size([1]) torch.Size([1, 1])\n",
      "torch.Size([1])"
     ]
    },
    {
     "name": "stderr",
     "output_type": "stream",
     "text": [
      "\r",
      "2941it [02:31, 18.58it/s]"
     ]
    },
    {
     "name": "stdout",
     "output_type": "stream",
     "text": [
      " torch.Size([1, 1])\n",
      "torch.Size([1]) torch.Size([1, 1])\n",
      "torch.Size([1]) torch.Size([1, 1])\n",
      "torch.Size([1]) torch.Size([1, 1])\n"
     ]
    },
    {
     "name": "stderr",
     "output_type": "stream",
     "text": [
      "2945it [02:32, 17.87it/s]"
     ]
    },
    {
     "name": "stdout",
     "output_type": "stream",
     "text": [
      "torch.Size([1]) torch.Size([1, 1])\n",
      "torch.Size([1]) torch.Size([1, 1])\n",
      "torch.Size([1]) torch.Size([1, 1])\n",
      "torch.Size([1])"
     ]
    },
    {
     "name": "stderr",
     "output_type": "stream",
     "text": [
      "\r",
      "2947it [02:32, 17.48it/s]"
     ]
    },
    {
     "name": "stdout",
     "output_type": "stream",
     "text": [
      " torch.Size([1, 1])\n",
      "torch.Size([1]) torch.Size([1, 1])\n",
      "torch.Size([1]) torch.Size([1, 1])\n",
      "torch.Size([1])"
     ]
    },
    {
     "name": "stderr",
     "output_type": "stream",
     "text": [
      "2951it [02:32, 17.42it/s]"
     ]
    },
    {
     "name": "stdout",
     "output_type": "stream",
     "text": [
      " torch.Size([1, 1])\n",
      "torch.Size([1]) torch.Size([1, 1])\n",
      "torch.Size([1]) torch.Size([1, 1])\n",
      "torch.Size([1]) torch.Size([1, 1])\n"
     ]
    },
    {
     "name": "stderr",
     "output_type": "stream",
     "text": [
      "2956it [02:32, 18.56it/s]"
     ]
    },
    {
     "name": "stdout",
     "output_type": "stream",
     "text": [
      "torch.Size([1]) torch.Size([1, 1])\n",
      "torch.Size([1]) torch.Size([1, 1])\n",
      "torch.Size([1]) torch.Size([1, 1])\n",
      "torch.Size([1]) torch.Size([1, 1])\n",
      "torch.Size([1])"
     ]
    },
    {
     "name": "stderr",
     "output_type": "stream",
     "text": [
      "2961it [02:32, 19.99it/s]"
     ]
    },
    {
     "name": "stdout",
     "output_type": "stream",
     "text": [
      " torch.Size([1, 1])\n",
      "torch.Size([1]) torch.Size([1, 1])\n",
      "torch.Size([1]) torch.Size([1, 1])\n",
      "torch.Size([1]) torch.Size([1, 1])\n",
      "torch.Size([1]) torch.Size([1, 1])\n"
     ]
    },
    {
     "name": "stderr",
     "output_type": "stream",
     "text": [
      "\r",
      "2964it [02:33, 20.42it/s]"
     ]
    },
    {
     "name": "stdout",
     "output_type": "stream",
     "text": [
      "torch.Size([1]) torch.Size([1, 1])\n",
      "torch.Size([1]) torch.Size([1, 1])\n",
      "torch.Size([1]) torch.Size([1, 1])\n",
      "torch.Size([1]) torch.Size([1, 1])\n"
     ]
    },
    {
     "name": "stderr",
     "output_type": "stream",
     "text": [
      "\r",
      "2967it [02:33, 19.00it/s]"
     ]
    },
    {
     "name": "stdout",
     "output_type": "stream",
     "text": [
      "torch.Size([1]) torch.Size([1, 1])\n",
      "torch.Size([1]) torch.Size([1, 1])\n",
      "torch.Size([1]) torch.Size([1, 1])\n",
      "torch.Size([1]) torch.Size([1, 1])\n",
      "torch.Size([1])"
     ]
    },
    {
     "name": "stderr",
     "output_type": "stream",
     "text": [
      "2972it [02:33, 19.41it/s]"
     ]
    },
    {
     "name": "stdout",
     "output_type": "stream",
     "text": [
      " torch.Size([1, 1])\n",
      "torch.Size([1]) torch.Size([1, 1])\n",
      "torch.Size([1]) torch.Size([1, 1])\n",
      "torch.Size([1]) torch.Size([1, 1])\n"
     ]
    },
    {
     "name": "stderr",
     "output_type": "stream",
     "text": [
      "\r",
      "2975it [02:33, 20.05it/s]"
     ]
    },
    {
     "name": "stdout",
     "output_type": "stream",
     "text": [
      "torch.Size([1]) torch.Size([1, 1])\n",
      "torch.Size([1]) torch.Size([1, 1])\n",
      "torch.Size([1]) torch.Size([1, 1])\n",
      "torch.Size([1]) torch.Size([1, 1])\n",
      "torch.Size([1])"
     ]
    },
    {
     "name": "stderr",
     "output_type": "stream",
     "text": [
      "2981it [02:33, 20.00it/s]"
     ]
    },
    {
     "name": "stdout",
     "output_type": "stream",
     "text": [
      " torch.Size([1, 1])\n",
      "torch.Size([1]) torch.Size([1, 1])\n",
      "torch.Size([1]) torch.Size([1, 1])\n",
      "torch.Size([1]) torch.Size([1, 1])\n",
      "torch.Size([1])"
     ]
    },
    {
     "name": "stderr",
     "output_type": "stream",
     "text": [
      "\r",
      "2984it [02:34, 20.01it/s]"
     ]
    },
    {
     "name": "stdout",
     "output_type": "stream",
     "text": [
      " torch.Size([1, 1])\n",
      "torch.Size([1]) torch.Size([1, 1])\n",
      "torch.Size([1]) torch.Size([1, 1])\n",
      "torch.Size([1]) torch.Size([1, 1])\n",
      "torch.Size([1])"
     ]
    },
    {
     "name": "stderr",
     "output_type": "stream",
     "text": [
      "\r",
      "2987it [02:34, 20.18it/s]"
     ]
    },
    {
     "name": "stdout",
     "output_type": "stream",
     "text": [
      " torch.Size([1, 1])\n",
      "torch.Size([1]) torch.Size([1, 1])\n",
      "torch.Size([1]) torch.Size([1, 1])\n",
      "torch.Size([1]) torch.Size([1, 1])\n",
      "torch.Size([1])"
     ]
    },
    {
     "name": "stderr",
     "output_type": "stream",
     "text": [
      "2993it [02:34, 20.86it/s]"
     ]
    },
    {
     "name": "stdout",
     "output_type": "stream",
     "text": [
      " torch.Size([1, 1])\n",
      "torch.Size([1]) torch.Size([1, 1])\n",
      "torch.Size([1]) torch.Size([1, 1])\n",
      "torch.Size([1]) torch.Size([1, 1])\n",
      "torch.Size([1])"
     ]
    },
    {
     "name": "stderr",
     "output_type": "stream",
     "text": [
      "\r",
      "2996it [02:34, 21.10it/s]"
     ]
    },
    {
     "name": "stdout",
     "output_type": "stream",
     "text": [
      " torch.Size([1, 1])\n",
      "torch.Size([1]) torch.Size([1, 1])\n",
      "torch.Size([1]) torch.Size([1, 1])\n",
      "torch.Size([1]) torch.Size([1, 1])\n",
      "torch.Size([1])"
     ]
    },
    {
     "name": "stderr",
     "output_type": "stream",
     "text": [
      "\r",
      "2999it [02:34, 21.10it/s]"
     ]
    },
    {
     "name": "stdout",
     "output_type": "stream",
     "text": [
      " torch.Size([1, 1])\n",
      "torch.Size([1]) torch.Size([1, 1])\n",
      "torch.Size([1]) torch.Size([1, 1])\n",
      "torch.Size([1]) torch.Size([1, 1])\n",
      "torch.Size([1])"
     ]
    },
    {
     "name": "stderr",
     "output_type": "stream",
     "text": [
      "3005it [02:35, 20.73it/s]"
     ]
    },
    {
     "name": "stdout",
     "output_type": "stream",
     "text": [
      " torch.Size([1, 1])\n",
      "torch.Size([1]) torch.Size([1, 1])\n",
      "torch.Size([1]) torch.Size([1, 1])\n",
      "torch.Size([1]) torch.Size([1, 1])\n",
      "torch.Size([1])"
     ]
    },
    {
     "name": "stderr",
     "output_type": "stream",
     "text": [
      "\r",
      "3008it [02:35, 20.61it/s]"
     ]
    },
    {
     "name": "stdout",
     "output_type": "stream",
     "text": [
      " torch.Size([1, 1])\n",
      "torch.Size([1]) torch.Size([1, 1])\n",
      "torch.Size([1]) torch.Size([1, 1])\n",
      "torch.Size([1]) torch.Size([1, 1])\n",
      "torch.Size([1])"
     ]
    },
    {
     "name": "stderr",
     "output_type": "stream",
     "text": [
      "\r",
      "3011it [02:35, 20.37it/s]"
     ]
    },
    {
     "name": "stdout",
     "output_type": "stream",
     "text": [
      " torch.Size([1, 1])\n",
      "torch.Size([1]) torch.Size([1, 1])\n",
      "torch.Size([1]) torch.Size([1, 1])\n",
      "torch.Size([1]) torch.Size([1, 1])\n",
      "torch.Size([1])"
     ]
    },
    {
     "name": "stderr",
     "output_type": "stream",
     "text": [
      "3017it [02:35, 20.36it/s]"
     ]
    },
    {
     "name": "stdout",
     "output_type": "stream",
     "text": [
      " torch.Size([1, 1])\n",
      "torch.Size([1]) torch.Size([1, 1])\n",
      "torch.Size([1]) torch.Size([1, 1])\n",
      "torch.Size([1]) torch.Size([1, 1])\n",
      "torch.Size([1])"
     ]
    },
    {
     "name": "stderr",
     "output_type": "stream",
     "text": [
      "\r",
      "3020it [02:35, 20.28it/s]"
     ]
    },
    {
     "name": "stdout",
     "output_type": "stream",
     "text": [
      " torch.Size([1, 1])\n",
      "torch.Size([1]) torch.Size([1, 1])\n",
      "torch.Size([1]) torch.Size([1, 1])\n",
      "torch.Size([1]) torch.Size([1, 1])\n",
      "torch.Size([1])"
     ]
    },
    {
     "name": "stderr",
     "output_type": "stream",
     "text": [
      "\r",
      "3023it [02:36, 20.29it/s]"
     ]
    },
    {
     "name": "stdout",
     "output_type": "stream",
     "text": [
      " torch.Size([1, 1])\n",
      "torch.Size([1]) torch.Size([1, 1])\n",
      "torch.Size([1]) torch.Size([1, 1])\n",
      "torch.Size([1]) torch.Size([1, 1])\n",
      "torch.Size([1])"
     ]
    },
    {
     "name": "stderr",
     "output_type": "stream",
     "text": [
      "3029it [02:36, 20.39it/s]"
     ]
    },
    {
     "name": "stdout",
     "output_type": "stream",
     "text": [
      " torch.Size([1, 1])\n",
      "torch.Size([1]) torch.Size([1, 1])\n",
      "torch.Size([1]) torch.Size([1, 1])\n",
      "torch.Size([1]) torch.Size([1, 1])\n",
      "torch.Size([1])"
     ]
    },
    {
     "name": "stderr",
     "output_type": "stream",
     "text": [
      "\r",
      "3032it [02:36, 20.23it/s]"
     ]
    },
    {
     "name": "stdout",
     "output_type": "stream",
     "text": [
      " torch.Size([1, 1])\n",
      "torch.Size([1]) torch.Size([1, 1])\n",
      "torch.Size([1]) torch.Size([1, 1])\n",
      "torch.Size([1]) torch.Size([1, 1])\n",
      "torch.Size([1])"
     ]
    },
    {
     "name": "stderr",
     "output_type": "stream",
     "text": [
      "\r",
      "3035it [02:36, 20.36it/s]"
     ]
    },
    {
     "name": "stdout",
     "output_type": "stream",
     "text": [
      " torch.Size([1, 1])\n",
      "torch.Size([1]) torch.Size([1, 1])\n",
      "torch.Size([1]) torch.Size([1, 1])\n",
      "torch.Size([1]) torch.Size([1, 1])\n",
      "torch.Size([1])"
     ]
    },
    {
     "name": "stderr",
     "output_type": "stream",
     "text": [
      "3041it [02:36, 20.56it/s]"
     ]
    },
    {
     "name": "stdout",
     "output_type": "stream",
     "text": [
      " torch.Size([1, 1])\n",
      "torch.Size([1]) torch.Size([1, 1])\n",
      "torch.Size([1]) torch.Size([1, 1])\n",
      "torch.Size([1]) torch.Size([1, 1])\n",
      "torch.Size([1])"
     ]
    },
    {
     "name": "stderr",
     "output_type": "stream",
     "text": [
      "\r",
      "3044it [02:37, 20.24it/s]"
     ]
    },
    {
     "name": "stdout",
     "output_type": "stream",
     "text": [
      " torch.Size([1, 1])\n",
      "torch.Size([1]) torch.Size([1, 1])\n",
      "torch.Size([1]) torch.Size([1, 1])\n",
      "torch.Size([1]) torch.Size([1, 1])\n",
      "torch.Size([1])"
     ]
    },
    {
     "name": "stderr",
     "output_type": "stream",
     "text": [
      "\r",
      "3047it [02:37, 20.13it/s]"
     ]
    },
    {
     "name": "stdout",
     "output_type": "stream",
     "text": [
      " torch.Size([1, 1])\n",
      "torch.Size([1]) torch.Size([1, 1])\n",
      "torch.Size([1]) torch.Size([1, 1])\n",
      "torch.Size([1]) torch.Size([1, 1])\n",
      "torch.Size([1])"
     ]
    },
    {
     "name": "stderr",
     "output_type": "stream",
     "text": [
      "3053it [02:37, 20.47it/s]"
     ]
    },
    {
     "name": "stdout",
     "output_type": "stream",
     "text": [
      " torch.Size([1, 1])\n",
      "torch.Size([1]) torch.Size([1, 1])\n",
      "torch.Size([1]) torch.Size([1, 1])\n",
      "torch.Size([1]) torch.Size([1, 1])\n",
      "torch.Size([1])"
     ]
    },
    {
     "name": "stderr",
     "output_type": "stream",
     "text": [
      "\r",
      "3056it [02:37, 20.31it/s]"
     ]
    },
    {
     "name": "stdout",
     "output_type": "stream",
     "text": [
      " torch.Size([1, 1])\n",
      "torch.Size([1]) torch.Size([1, 1])\n",
      "torch.Size([1]) torch.Size([1, 1])\n",
      "torch.Size([1]) torch.Size([1, 1])\n",
      "torch.Size([1])"
     ]
    },
    {
     "name": "stderr",
     "output_type": "stream",
     "text": [
      "\r",
      "3059it [02:37, 20.08it/s]"
     ]
    },
    {
     "name": "stdout",
     "output_type": "stream",
     "text": [
      " torch.Size([1, 1])\n",
      "torch.Size([1]) torch.Size([1, 1])\n",
      "torch.Size([1]) torch.Size([1, 1])\n",
      "torch.Size([1]) torch.Size([1, 1])\n"
     ]
    },
    {
     "name": "stderr",
     "output_type": "stream",
     "text": [
      "3064it [02:38, 18.27it/s]"
     ]
    },
    {
     "name": "stdout",
     "output_type": "stream",
     "text": [
      "torch.Size([1]) torch.Size([1, 1])\n",
      "torch.Size([1]) torch.Size([1, 1])\n",
      "torch.Size([1]) torch.Size([1, 1])\n",
      "torch.Size([1]) torch.Size([1, 1])\n"
     ]
    },
    {
     "name": "stderr",
     "output_type": "stream",
     "text": [
      "\r",
      "3067it [02:38, 19.01it/s]"
     ]
    },
    {
     "name": "stdout",
     "output_type": "stream",
     "text": [
      "torch.Size([1]) torch.Size([1, 1])\n",
      "torch.Size([1]) torch.Size([1, 1])\n",
      "torch.Size([1]) torch.Size([1, 1])\n",
      "torch.Size([1]) torch.Size([1, 1])\n"
     ]
    },
    {
     "name": "stderr",
     "output_type": "stream",
     "text": [
      "3073it [02:38, 19.63it/s]"
     ]
    },
    {
     "name": "stdout",
     "output_type": "stream",
     "text": [
      "torch.Size([1]) torch.Size([1, 1])\n",
      "torch.Size([1]) torch.Size([1, 1])\n",
      "torch.Size([1]) torch.Size([1, 1])\n",
      "torch.Size([1]) torch.Size([1, 1])\n"
     ]
    },
    {
     "name": "stderr",
     "output_type": "stream",
     "text": [
      "\r",
      "3076it [02:38, 20.46it/s]"
     ]
    },
    {
     "name": "stdout",
     "output_type": "stream",
     "text": [
      "torch.Size([1]) torch.Size([1, 1])\n",
      "torch.Size([1]) torch.Size([1, 1])\n",
      "torch.Size([1]) torch.Size([1, 1])\n",
      "torch.Size([1]) torch.Size([1, 1])\n",
      "torch.Size([1]) torch.Size([1, 1])\n"
     ]
    },
    {
     "name": "stderr",
     "output_type": "stream",
     "text": [
      "3082it [02:38, 20.06it/s]"
     ]
    },
    {
     "name": "stdout",
     "output_type": "stream",
     "text": [
      "torch.Size([1]) torch.Size([1, 1])\n",
      "torch.Size([1]) torch.Size([1, 1])\n",
      "torch.Size([1]) torch.Size([1, 1])\n",
      "torch.Size([1]) torch.Size([1, 1])\n"
     ]
    },
    {
     "name": "stderr",
     "output_type": "stream",
     "text": [
      "\r",
      "3085it [02:39, 19.97it/s]"
     ]
    },
    {
     "name": "stdout",
     "output_type": "stream",
     "text": [
      "torch.Size([1]) torch.Size([1, 1])\n",
      "torch.Size([1]) torch.Size([1, 1])\n",
      "torch.Size([1]) torch.Size([1, 1])\n",
      "torch.Size([1]) torch.Size([1, 1])\n",
      "torch.Size([1])"
     ]
    },
    {
     "name": "stderr",
     "output_type": "stream",
     "text": [
      "3091it [02:39, 20.56it/s]"
     ]
    },
    {
     "name": "stdout",
     "output_type": "stream",
     "text": [
      " torch.Size([1, 1])\n",
      "torch.Size([1]) torch.Size([1, 1])\n",
      "torch.Size([1]) torch.Size([1, 1])\n",
      "torch.Size([1]) torch.Size([1, 1])\n",
      "torch.Size([1]) torch.Size([1, 1])\n"
     ]
    },
    {
     "name": "stderr",
     "output_type": "stream",
     "text": [
      "\r",
      "3094it [02:39, 20.60it/s]"
     ]
    },
    {
     "name": "stdout",
     "output_type": "stream",
     "text": [
      "torch.Size([1]) torch.Size([1, 1])\n",
      "torch.Size([1]) torch.Size([1, 1])\n",
      "torch.Size([1]) torch.Size([1, 1])\n",
      "torch.Size([1]) torch.Size([1, 1])\n",
      "torch.Size([1])"
     ]
    },
    {
     "name": "stderr",
     "output_type": "stream",
     "text": [
      "\r",
      "3097it [02:39, 20.42it/s]"
     ]
    },
    {
     "name": "stdout",
     "output_type": "stream",
     "text": [
      " torch.Size([1, 1])\n",
      "torch.Size([1]) torch.Size([1, 1])\n",
      "torch.Size([1]) torch.Size([1, 1])\n",
      "torch.Size([1]) torch.Size([1, 1])\n",
      "torch.Size([1])"
     ]
    },
    {
     "name": "stderr",
     "output_type": "stream",
     "text": [
      "3103it [02:40, 20.62it/s]"
     ]
    },
    {
     "name": "stdout",
     "output_type": "stream",
     "text": [
      " torch.Size([1, 1])\n",
      "torch.Size([1]) torch.Size([1, 1])\n",
      "torch.Size([1]) torch.Size([1, 1])\n",
      "torch.Size([1]) torch.Size([1, 1])\n"
     ]
    },
    {
     "name": "stderr",
     "output_type": "stream",
     "text": [
      "\r",
      "3106it [02:40, 20.60it/s]"
     ]
    },
    {
     "name": "stdout",
     "output_type": "stream",
     "text": [
      "torch.Size([1]) torch.Size([1, 1])\n",
      "torch.Size([1]) torch.Size([1, 1])\n",
      "torch.Size([1]) torch.Size([1, 1])\n",
      "torch.Size([1]) torch.Size([1, 1])\n",
      "torch.Size([1])"
     ]
    },
    {
     "name": "stderr",
     "output_type": "stream",
     "text": [
      "\r",
      "3109it [02:40, 20.83it/s]"
     ]
    },
    {
     "name": "stdout",
     "output_type": "stream",
     "text": [
      " torch.Size([1, 1])\n",
      "torch.Size([1]) torch.Size([1, 1])\n",
      "torch.Size([1]) torch.Size([1, 1])\n",
      "torch.Size([1]) torch.Size([1, 1])\n",
      "torch.Size([1])"
     ]
    },
    {
     "name": "stderr",
     "output_type": "stream",
     "text": [
      "3115it [02:40, 20.75it/s]"
     ]
    },
    {
     "name": "stdout",
     "output_type": "stream",
     "text": [
      " torch.Size([1, 1])\n",
      "torch.Size([1]) torch.Size([1, 1])\n",
      "torch.Size([1]) torch.Size([1, 1])\n",
      "torch.Size([1]) torch.Size([1, 1])\n",
      "torch.Size([1])"
     ]
    },
    {
     "name": "stderr",
     "output_type": "stream",
     "text": [
      "\r",
      "3118it [02:40, 20.89it/s]"
     ]
    },
    {
     "name": "stdout",
     "output_type": "stream",
     "text": [
      " torch.Size([1, 1])\n",
      "torch.Size([1]) torch.Size([1, 1])\n",
      "torch.Size([1]) torch.Size([1, 1])\n",
      "torch.Size([1]) torch.Size([1, 1])\n",
      "torch.Size([1])"
     ]
    },
    {
     "name": "stderr",
     "output_type": "stream",
     "text": [
      "\r",
      "3121it [02:40, 20.76it/s]"
     ]
    },
    {
     "name": "stdout",
     "output_type": "stream",
     "text": [
      " torch.Size([1, 1])\n",
      "torch.Size([1]) torch.Size([1, 1])\n",
      "torch.Size([1]) torch.Size([1, 1])\n",
      "torch.Size([1]) torch.Size([1, 1])\n",
      "torch.Size([1])"
     ]
    },
    {
     "name": "stderr",
     "output_type": "stream",
     "text": [
      "3127it [02:41, 20.58it/s]"
     ]
    },
    {
     "name": "stdout",
     "output_type": "stream",
     "text": [
      " torch.Size([1, 1])\n",
      "torch.Size([1]) torch.Size([1, 1])\n",
      "torch.Size([1]) torch.Size([1, 1])\n",
      "torch.Size([1]) torch.Size([1, 1])\n",
      "torch.Size([1])"
     ]
    },
    {
     "name": "stderr",
     "output_type": "stream",
     "text": [
      "\r",
      "3130it [02:41, 21.03it/s]"
     ]
    },
    {
     "name": "stdout",
     "output_type": "stream",
     "text": [
      " torch.Size([1, 1])\n",
      "torch.Size([1]) torch.Size([1, 1])\n",
      "torch.Size([1]) torch.Size([1, 1])\n",
      "torch.Size([1]) torch.Size([1, 1])\n",
      "torch.Size([1])"
     ]
    },
    {
     "name": "stderr",
     "output_type": "stream",
     "text": [
      "\r",
      "3133it [02:41, 20.91it/s]"
     ]
    },
    {
     "name": "stdout",
     "output_type": "stream",
     "text": [
      " torch.Size([1, 1])\n",
      "torch.Size([1]) torch.Size([1, 1])\n",
      "torch.Size([1]) torch.Size([1, 1])\n",
      "torch.Size([1]) torch.Size([1, 1])\n",
      "torch.Size([1])"
     ]
    },
    {
     "name": "stderr",
     "output_type": "stream",
     "text": [
      "3139it [02:41, 20.36it/s]"
     ]
    },
    {
     "name": "stdout",
     "output_type": "stream",
     "text": [
      " torch.Size([1, 1])\n",
      "torch.Size([1]) torch.Size([1, 1])\n",
      "torch.Size([1]) torch.Size([1, 1])\n",
      "torch.Size([1]) torch.Size([1, 1])\n"
     ]
    },
    {
     "name": "stderr",
     "output_type": "stream",
     "text": [
      "\r",
      "3142it [02:41, 19.17it/s]"
     ]
    },
    {
     "name": "stdout",
     "output_type": "stream",
     "text": [
      "torch.Size([1]) torch.Size([1, 1])\n",
      "torch.Size([1]) torch.Size([1, 1])\n",
      "torch.Size([1]) torch.Size([1, 1])\n",
      "torch.Size([1]) torch.Size([1, 1])\n"
     ]
    },
    {
     "name": "stderr",
     "output_type": "stream",
     "text": [
      "3146it [02:42, 19.16it/s]"
     ]
    },
    {
     "name": "stdout",
     "output_type": "stream",
     "text": [
      "torch.Size([1]) torch.Size([1, 1])\n",
      "torch.Size([1]) torch.Size([1, 1])\n",
      "torch.Size([1]) torch.Size([1, 1])\n",
      "torch.Size([1]) torch.Size([1, 1])\n",
      "torch.Size([1])"
     ]
    },
    {
     "name": "stderr",
     "output_type": "stream",
     "text": [
      "\r",
      "3149it [02:42, 19.03it/s]"
     ]
    },
    {
     "name": "stdout",
     "output_type": "stream",
     "text": [
      " torch.Size([1, 1])\n",
      "torch.Size([1]) torch.Size([1, 1])\n",
      "torch.Size([1]) torch.Size([1, 1])\n",
      "torch.Size([1])"
     ]
    },
    {
     "name": "stderr",
     "output_type": "stream",
     "text": [
      "3153it [02:42, 17.95it/s]"
     ]
    },
    {
     "name": "stdout",
     "output_type": "stream",
     "text": [
      " torch.Size([1, 1])\n",
      "torch.Size([1]) torch.Size([1, 1])\n",
      "torch.Size([1]) torch.Size([1, 1])\n",
      "torch.Size([1]) torch.Size([1, 1])\n"
     ]
    },
    {
     "name": "stderr",
     "output_type": "stream",
     "text": [
      "3157it [02:42, 17.71it/s]"
     ]
    },
    {
     "name": "stdout",
     "output_type": "stream",
     "text": [
      "torch.Size([1]) torch.Size([1, 1])\n",
      "torch.Size([1]) torch.Size([1, 1])\n",
      "torch.Size([1]) torch.Size([1, 1])\n",
      "torch.Size([1]) torch.Size([1, 1])\n"
     ]
    },
    {
     "name": "stderr",
     "output_type": "stream",
     "text": [
      "3161it [02:42, 17.89it/s]"
     ]
    },
    {
     "name": "stdout",
     "output_type": "stream",
     "text": [
      "torch.Size([1]) torch.Size([1, 1])\n",
      "torch.Size([1]) torch.Size([1, 1])\n",
      "torch.Size([1]) torch.Size([1, 1])\n",
      "torch.Size([1]) torch.Size([1, 1])\n"
     ]
    },
    {
     "name": "stderr",
     "output_type": "stream",
     "text": [
      "3165it [02:43, 17.18it/s]"
     ]
    },
    {
     "name": "stdout",
     "output_type": "stream",
     "text": [
      "torch.Size([1]) torch.Size([1, 1])\n",
      "torch.Size([1]) torch.Size([1, 1])\n",
      "torch.Size([1]) torch.Size([1, 1])\n",
      "torch.Size([1])"
     ]
    },
    {
     "name": "stderr",
     "output_type": "stream",
     "text": [
      "3169it [02:43, 17.40it/s]"
     ]
    },
    {
     "name": "stdout",
     "output_type": "stream",
     "text": [
      " torch.Size([1, 1])\n",
      "torch.Size([1]) torch.Size([1, 1])\n",
      "torch.Size([1]) torch.Size([1, 1])\n",
      "torch.Size([1]) torch.Size([1, 1])\n"
     ]
    },
    {
     "name": "stderr",
     "output_type": "stream",
     "text": [
      "\r",
      "3172it [02:43, 18.23it/s]"
     ]
    },
    {
     "name": "stdout",
     "output_type": "stream",
     "text": [
      "torch.Size([1]) torch.Size([1, 1])\n",
      "torch.Size([1]) torch.Size([1, 1])\n",
      "torch.Size([1]) torch.Size([1, 1])\n",
      "torch.Size([1]) torch.Size([1, 1])\n",
      "torch.Size([1])"
     ]
    },
    {
     "name": "stderr",
     "output_type": "stream",
     "text": [
      "\r",
      "3175it [02:43, 18.14it/s]"
     ]
    },
    {
     "name": "stdout",
     "output_type": "stream",
     "text": [
      " torch.Size([1, 1])\n",
      "torch.Size([1]) torch.Size([1, 1])\n",
      "torch.Size([1]) torch.Size([1, 1])\n",
      "torch.Size([1]) torch.Size([1, 1])\n"
     ]
    },
    {
     "name": "stderr",
     "output_type": "stream",
     "text": [
      "3181it [02:44, 20.03it/s]"
     ]
    },
    {
     "name": "stdout",
     "output_type": "stream",
     "text": [
      "torch.Size([1]) torch.Size([1, 1])\n",
      "torch.Size([1]) torch.Size([1, 1])\n",
      "torch.Size([1]) torch.Size([1, 1])\n",
      "torch.Size([1]) torch.Size([1, 1])\n",
      "torch.Size([1]) torch.Size([1, 1])\n"
     ]
    },
    {
     "name": "stderr",
     "output_type": "stream",
     "text": [
      "\r",
      "3184it [02:44, 19.74it/s]"
     ]
    },
    {
     "name": "stdout",
     "output_type": "stream",
     "text": [
      "torch.Size([1]) torch.Size([1, 1])\n",
      "torch.Size([1]) torch.Size([1, 1])\n",
      "torch.Size([1]) torch.Size([1, 1])\n",
      "torch.Size([1]) torch.Size([1, 1])\n",
      "torch.Size([1])"
     ]
    },
    {
     "name": "stderr",
     "output_type": "stream",
     "text": [
      "\r",
      "3187it [02:44, 20.33it/s]"
     ]
    },
    {
     "name": "stdout",
     "output_type": "stream",
     "text": [
      " torch.Size([1, 1])\n",
      "torch.Size([1]) torch.Size([1, 1])\n",
      "torch.Size([1]) torch.Size([1, 1])\n",
      "torch.Size([1])"
     ]
    },
    {
     "name": "stderr",
     "output_type": "stream",
     "text": [
      "3192it [02:44, 18.38it/s]"
     ]
    },
    {
     "name": "stdout",
     "output_type": "stream",
     "text": [
      " torch.Size([1, 1])\n",
      "torch.Size([1]) torch.Size([1, 1])\n",
      "torch.Size([1]) torch.Size([1, 1])\n",
      "torch.Size([1]) torch.Size([1, 1])\n"
     ]
    },
    {
     "name": "stderr",
     "output_type": "stream",
     "text": [
      "3197it [02:44, 18.98it/s]"
     ]
    },
    {
     "name": "stdout",
     "output_type": "stream",
     "text": [
      "torch.Size([1]) torch.Size([1, 1])\n",
      "torch.Size([1]) torch.Size([1, 1])\n",
      "torch.Size([1]) torch.Size([1, 1])\n",
      "torch.Size([1]) torch.Size([1, 1])\n"
     ]
    },
    {
     "name": "stderr",
     "output_type": "stream",
     "text": [
      "\r",
      "3197it [02:45, 19.36it/s]"
     ]
    },
    {
     "name": "stdout",
     "output_type": "stream",
     "text": [
      "val_loss:  0.41621990666694625 val_acc:  0.8270253379824732\n"
     ]
    },
    {
     "name": "stderr",
     "output_type": "stream",
     "text": [
      "\n"
     ]
    }
   ],
   "source": [
    "# torch.cuda.set_device(3)\n",
    "# from utils import calculate_accuracy\n",
    "\n",
    "losses_val = AverageMeter('loss')\n",
    "accuracies_val = AverageMeter('acc')\n",
    "model.eval()\n",
    "y = []\n",
    "pred = []\n",
    "\n",
    "#fileio.maybe_make_new_dir(result_path)\n",
    "with torch.no_grad():\n",
    "    for i, data in tqdm(enumerate(testloader)):\n",
    "        \n",
    "        if set == 'CUB':\n",
    "            x, label, boxes, _ = data\n",
    "        elif set == 'Mura_bp':\n",
    "            x, label_bp, label = data\n",
    "        else:\n",
    "            x, label = data\n",
    "            \n",
    "        image_val = x.to(DEVICE)\n",
    "        targets_val = label.float().to(DEVICE)\n",
    "        outputs_logits, local_imgs = model(image_val, epoch, i, 'test', DEVICE)[-2:]\n",
    "        outputs_val = F.sigmoid(outputs_logits)\n",
    "        \n",
    "        print(targets_val.shape,outputs_val.shape)\n",
    "        \n",
    "#         targets_val = data['label'].float().cuda()\n",
    "#         images_val = data['image'].float().cuda()\n",
    "#         outputs_val = model(images_val)\n",
    "        loss_val = criterion(outputs_val, targets_val)\n",
    "        \n",
    "#         add_gl_image_index(images_val, patches_val, outputs_val, targets_val,  writer, subset='val', epoch=0, index = j)\n",
    "        \n",
    "        acc_val = calculate_accuracy(outputs_val, targets_val)\n",
    "        losses_val.update(loss_val.item(), targets_val.size(0))\n",
    "        accuracies_val.update(acc_val, targets_val.size(0))\n",
    "        y.append(targets_val.cpu().numpy())\n",
    "        pred.append(outputs_val.cpu().numpy())\n",
    "\n",
    "print('val_loss: ', losses_val.avg, 'val_acc: ', accuracies_val.avg)\n"
   ]
  },
  {
   "cell_type": "code",
   "execution_count": 7,
   "metadata": {},
   "outputs": [],
   "source": [
    "import numpy as np"
   ]
  },
  {
   "cell_type": "code",
   "execution_count": 8,
   "metadata": {},
   "outputs": [],
   "source": [
    "y= np.asarray(y)\n",
    "pred= np.asarray(pred).squeeze()"
   ]
  },
  {
   "cell_type": "code",
   "execution_count": 9,
   "metadata": {},
   "outputs": [
    {
     "data": {
      "text/plain": [
       "(array([[0.],\n",
       "        [0.],\n",
       "        [0.],\n",
       "        ...,\n",
       "        [0.],\n",
       "        [1.],\n",
       "        [1.]], dtype=float32),\n",
       " array([0.12345718, 0.07417913, 0.22156534, ..., 0.12967958, 0.3910888 ,\n",
       "        0.9920901 ], dtype=float32))"
      ]
     },
     "execution_count": 9,
     "metadata": {},
     "output_type": "execute_result"
    }
   ],
   "source": [
    "y,pred"
   ]
  },
  {
   "cell_type": "code",
   "execution_count": 10,
   "metadata": {},
   "outputs": [
    {
     "data": {
      "text/plain": [
       "(3197, 1)"
      ]
     },
     "execution_count": 10,
     "metadata": {},
     "output_type": "execute_result"
    }
   ],
   "source": [
    "y.shape"
   ]
  },
  {
   "cell_type": "code",
   "execution_count": 11,
   "metadata": {
    "scrolled": true
   },
   "outputs": [
    {
     "data": {
      "image/png": "[encoded data removed]",
      "text/plain": [
       "<Figure size 432x288 with 1 Axes>"
      ]
     },
     "metadata": {
      "needs_background": "light"
     },
     "output_type": "display_data"
    }
   ],
   "source": [
    "from sklearn import metrics\n",
    "\n",
    "%matplotlib inline\n",
    "\n",
    "fpr, tpr, thresholds = metrics.roc_curve(y, pred)\n",
    "\n",
    "roc_auc = metrics.auc(fpr, tpr)\n",
    "\n",
    "plt.figure()\n",
    "lw = 2\n",
    "plt.plot(fpr, tpr, color='darkorange',\n",
    "         lw=lw, label='ROC curve (area = %0.2f)' % roc_auc)\n",
    "plt.plot([0, 1], [0, 1], color='navy', lw=lw, linestyle='--')\n",
    "plt.xlim([0.0, 1.0])\n",
    "plt.ylim([0.0, 1.05])\n",
    "plt.xlabel('False Positive Rate')\n",
    "plt.ylabel('True Positive Rate')\n",
    "plt.title('ROC for mmlnet res50')\n",
    "plt.legend(loc=\"lower right\")\n",
    "plt.show()"
   ]
  },
  {
   "cell_type": "code",
   "execution_count": null,
   "metadata": {},
   "outputs": [],
   "source": []
  },
  {
   "cell_type": "code",
   "execution_count": 15,
   "metadata": {},
   "outputs": [],
   "source": [
    "from sklearn.metrics import confusion_matrix\n",
    "\n",
    "threshold = 0.5\n",
    "\n",
    "pred_t = pred > threshold\n",
    "pred_t.astype(int)\n",
    "\n",
    "cm = confusion_matrix(y,pred_t)\n"
   ]
  },
  {
   "cell_type": "code",
   "execution_count": 16,
   "metadata": {},
   "outputs": [
    {
     "data": {
      "text/plain": [
       "0.6505517138460657"
      ]
     },
     "execution_count": 16,
     "metadata": {},
     "output_type": "execute_result"
    }
   ],
   "source": [
    "from sklearn.metrics import cohen_kappa_score\n",
    "cohen_kappa_score(y,pred_t)"
   ]
  },
  {
   "cell_type": "code",
   "execution_count": 13,
   "metadata": {},
   "outputs": [
    {
     "data": {
      "text/plain": [
       "(0.8308338332333534, 0.8163398692810457)"
      ]
     },
     "execution_count": 13,
     "metadata": {},
     "output_type": "execute_result"
    }
   ],
   "source": [
    "cm[0,0]/sum(cm[0,:]), cm[1,1]/sum(cm[1,:])"
   ]
  },
  {
   "cell_type": "code",
   "execution_count": 14,
   "metadata": {},
   "outputs": [
    {
     "data": {
      "image/png": "[encoded data removed]",
      "text/plain": [
       "<Figure size 432x288 with 1 Axes>"
      ]
     },
     "metadata": {
      "needs_background": "light"
     },
     "output_type": "display_data"
    }
   ],
   "source": [
    "import numpy\n",
    "from sklearn.metrics import cohen_kappa_score\n",
    "mali = []\n",
    "beni = []\n",
    "cohen = []\n",
    "tt = numpy.arange(0,1,0.01)\n",
    "for thres in tt:\n",
    "#     print(thres)\n",
    "    pred_t = pred > thres\n",
    "    pred_t.astype(int)\n",
    "    cm = confusion_matrix(y,pred_t)\n",
    "    mali.append(cm[1,1]/sum(cm[1,:]))\n",
    "    beni.append(cm[0,0]/sum(cm[0,:]))\n",
    "    cohen.append(cohen_kappa_score(y,pred_t))\n",
    "# print(thresholds)\n",
    "plt.figure(),plt.plot(tt,mali,label='TPR'),plt.plot(tt,beni,label='TNR'),plt.plot(tt,cohen,label='kappa')\n",
    "plt.xlabel('Thresholds')\n",
    "plt.ylabel('TPR/TNR')\n",
    "\n",
    "plt.legend(loc=\"lower right\")\n",
    "\n",
    "\n",
    "net_max = cohen.index(max(cohen))\n",
    "plt.title('TPR/TNR with Thresholds \\n (with max_cohen_kappa_score of {} at {})'.format(max(cohen),tt[net_max]))\n",
    "plt.scatter(tt[net_max], cohen[net_max], color='b')\n",
    "plt.show()"
   ]
  },
  {
   "cell_type": "code",
   "execution_count": 16,
   "metadata": {},
   "outputs": [],
   "source": [
    "def plot_confusion_matrix(cm,\n",
    "                          target_names,\n",
    "                          title='Confusion matrix',\n",
    "                          cmap=None,\n",
    "                          normalize=True):\n",
    "    \"\"\"\n",
    "    given a sklearn confusion matrix (cm), make a nice plot\n",
    "\n",
    "    Arguments\n",
    "    ---------\n",
    "    cm:           confusion matrix from sklearn.metrics.confusion_matrix\n",
    "\n",
    "    target_names: given classification classes such as [0, 1, 2]\n",
    "                  the class names, for example: ['high', 'medium', 'low']\n",
    "\n",
    "    title:        the text to display at the top of the matrix\n",
    "\n",
    "    cmap:         the gradient of the values displayed from matplotlib.pyplot.cm\n",
    "                  see http://matplotlib.org/examples/color/colormaps_reference.html\n",
    "                  plt.get_cmap('jet') or plt.cm.Blues\n",
    "\n",
    "    normalize:    If False, plot the raw numbers\n",
    "                  If True, plot the proportions\n",
    "\n",
    "    Usage\n",
    "    -----\n",
    "    plot_confusion_matrix(cm           = cm,                  # confusion matrix created by\n",
    "                                                              # sklearn.metrics.confusion_matrix\n",
    "                          normalize    = True,                # show proportions\n",
    "                          target_names = y_labels_vals,       # list of names of the classes\n",
    "                          title        = best_estimator_name) # title of graph\n",
    "\n",
    "    Citiation\n",
    "    ---------\n",
    "    http://scikit-learn.org/stable/auto_examples/model_selection/plot_confusion_matrix.html\n",
    "\n",
    "    \"\"\"\n",
    "    import matplotlib.pyplot as plt\n",
    "    import numpy as np\n",
    "    import itertools\n",
    "\n",
    "    accuracy = np.trace(cm) / float(np.sum(cm))\n",
    "    misclass = 1 - accuracy\n",
    "\n",
    "    if cmap is None:\n",
    "        cmap = plt.get_cmap('Blues')\n",
    "    \n",
    "    if normalize:\n",
    "        cm = cm.astype('float') / cm.sum(axis=1)[:, np.newaxis]\n",
    "\n",
    "    plt.figure(figsize=(4, 3))\n",
    "    plt.imshow(cm, interpolation='nearest', cmap=cmap)\n",
    "    plt.title(title)\n",
    "    plt.colorbar()\n",
    "\n",
    "    if target_names is not None:\n",
    "        tick_marks = np.arange(len(target_names))\n",
    "        plt.xticks(tick_marks, target_names, rotation=45)\n",
    "        plt.yticks(tick_marks, target_names)\n",
    "\n",
    "\n",
    "\n",
    "#     plt.figure(figsize=(4, 3))\n",
    "#     plt.imshow(cm, interpolation='nearest', cmap=cmap)\n",
    "#     plt.title(title)\n",
    "#     plt.colorbar()\n",
    "        \n",
    "    thresh = cm.max() / 1.5 if normalize else cm.max() / 2\n",
    "    for i, j in itertools.product(range(cm.shape[0]), range(cm.shape[1])):\n",
    "        if normalize:\n",
    "            plt.text(j, i, \"{:0.4f}\".format(cm[i, j]),\n",
    "                     horizontalalignment=\"center\",\n",
    "                     color=\"white\" if cm[i, j] > thresh else \"black\")\n",
    "        else:\n",
    "            plt.text(j, i, \"{:,}\".format(cm[i, j]),\n",
    "                     horizontalalignment=\"center\",\n",
    "                     color=\"white\" if cm[i, j] > thresh else \"black\")\n",
    "\n",
    "\n",
    "    plt.tight_layout()\n",
    "    plt.ylabel('True label')\n",
    "    plt.xlabel('Predicted label\\naccuracy={:0.4f}; misclass={:0.4f}'.format(accuracy, misclass))\n",
    "    plt.show()"
   ]
  },
  {
   "cell_type": "code",
   "execution_count": 17,
   "metadata": {},
   "outputs": [
    {
     "data": {
      "image/png": "[encoded data removed]",
      "text/plain": [
       "<Figure size 288x216 with 2 Axes>"
      ]
     },
     "metadata": {
      "needs_background": "light"
     },
     "output_type": "display_data"
    },
    {
     "data": {
      "image/png": "[encoded data removed]",
      "text/plain": [
       "<Figure size 288x216 with 2 Axes>"
      ]
     },
     "metadata": {
      "needs_background": "light"
     },
     "output_type": "display_data"
    }
   ],
   "source": [
    "from sklearn.metrics import confusion_matrix\n",
    "\n",
    "threshold = 0.5\n",
    "\n",
    "pred_t = pred > threshold\n",
    "pred_t.astype(int)\n",
    "\n",
    "cm = confusion_matrix(y,pred_t)\n",
    "\n",
    "plot_confusion_matrix(cm,('Normal','Abnormal'),normalize= False)\n",
    "plot_confusion_matrix(cm,('Normal','Abnormal'),normalize= True)"
   ]
  },
  {
   "cell_type": "code",
   "execution_count": 25,
   "metadata": {},
   "outputs": [],
   "source": [
    "a = 0.7"
   ]
  },
  {
   "cell_type": "code",
   "execution_count": 26,
   "metadata": {},
   "outputs": [
    {
     "data": {
      "text/plain": [
       "True"
      ]
     },
     "execution_count": 26,
     "metadata": {},
     "output_type": "execute_result"
    }
   ],
   "source": [
    "a>0.5"
   ]
  },
  {
   "cell_type": "code",
   "execution_count": 28,
   "metadata": {},
   "outputs": [
    {
     "data": {
      "text/plain": [
       "0"
      ]
     },
     "execution_count": 28,
     "metadata": {},
     "output_type": "execute_result"
    }
   ],
   "source": [
    "1-(a>0.50)"
   ]
  },
  {
   "cell_type": "code",
   "execution_count": 43,
   "metadata": {},
   "outputs": [],
   "source": [
    "a = torch.rand(3,3)"
   ]
  },
  {
   "cell_type": "code",
   "execution_count": 44,
   "metadata": {},
   "outputs": [
    {
     "data": {
      "text/plain": [
       "tensor([[0.2847, 0.4820, 0.1940],\n",
       "        [0.7670, 0.0734, 0.9933],\n",
       "        [0.7518, 0.1041, 0.5967]])"
      ]
     },
     "execution_count": 44,
     "metadata": {},
     "output_type": "execute_result"
    }
   ],
   "source": [
    "a"
   ]
  },
  {
   "cell_type": "code",
   "execution_count": 35,
   "metadata": {},
   "outputs": [
    {
     "data": {
      "text/plain": [
       "torch.Size([3, 3])"
      ]
     },
     "execution_count": 35,
     "metadata": {},
     "output_type": "execute_result"
    }
   ],
   "source": [
    "a.shape"
   ]
  },
  {
   "cell_type": "code",
   "execution_count": 36,
   "metadata": {},
   "outputs": [],
   "source": [
    "b = [0,2,1]"
   ]
  },
  {
   "cell_type": "code",
   "execution_count": 37,
   "metadata": {},
   "outputs": [],
   "source": [
    "b = torch.tensor(b)"
   ]
  },
  {
   "cell_type": "code",
   "execution_count": 55,
   "metadata": {},
   "outputs": [],
   "source": [
    "bb = b.reshape(-1,1)"
   ]
  },
  {
   "cell_type": "code",
   "execution_count": 54,
   "metadata": {},
   "outputs": [
    {
     "data": {
      "text/plain": [
       "tensor([0, 2, 1])"
      ]
     },
     "execution_count": 54,
     "metadata": {},
     "output_type": "execute_result"
    }
   ],
   "source": [
    "b"
   ]
  },
  {
   "cell_type": "code",
   "execution_count": 39,
   "metadata": {},
   "outputs": [],
   "source": [
    "l = F.nll_loss(a,b)"
   ]
  },
  {
   "cell_type": "code",
   "execution_count": 40,
   "metadata": {},
   "outputs": [
    {
     "data": {
      "text/plain": [
       "tensor(-0.5024)"
      ]
     },
     "execution_count": 40,
     "metadata": {},
     "output_type": "execute_result"
    }
   ],
   "source": [
    "l"
   ]
  },
  {
   "cell_type": "code",
   "execution_count": 46,
   "metadata": {},
   "outputs": [],
   "source": [
    "sm = nn.LogSoftmax(dim=1)"
   ]
  },
  {
   "cell_type": "code",
   "execution_count": 47,
   "metadata": {},
   "outputs": [],
   "source": [
    "aa = sm(a)"
   ]
  },
  {
   "cell_type": "code",
   "execution_count": 48,
   "metadata": {},
   "outputs": [
    {
     "data": {
      "text/plain": [
       "tensor([[-1.1415, -0.9442, -1.2322],\n",
       "        [-1.0130, -1.7066, -0.7866],\n",
       "        [-0.8669, -1.5147, -1.0220]])"
      ]
     },
     "execution_count": 48,
     "metadata": {},
     "output_type": "execute_result"
    }
   ],
   "source": [
    "aa"
   ]
  },
  {
   "cell_type": "code",
   "execution_count": 56,
   "metadata": {},
   "outputs": [
    {
     "ename": "RuntimeError",
     "evalue": "multi-target not supported at ..\\aten\\src\\THNN/generic/ClassNLLCriterion.c:20",
     "output_type": "error",
     "traceback": [
      "\u001b[1;31m---------------------------------------------------------------------------\u001b[0m",
      "\u001b[1;31mRuntimeError\u001b[0m                              Traceback (most recent call last)",
      "\u001b[1;32m<ipython-input-56-4df793c4604a>\u001b[0m in \u001b[0;36m<module>\u001b[1;34m\u001b[0m\n\u001b[1;32m----> 1\u001b[1;33m \u001b[0ml\u001b[0m \u001b[1;33m=\u001b[0m \u001b[0mF\u001b[0m\u001b[1;33m.\u001b[0m\u001b[0mnll_loss\u001b[0m\u001b[1;33m(\u001b[0m\u001b[0maa\u001b[0m\u001b[1;33m,\u001b[0m\u001b[0mbb\u001b[0m\u001b[1;33m)\u001b[0m\u001b[1;33m\u001b[0m\u001b[1;33m\u001b[0m\u001b[0m\n\u001b[0m",
      "\u001b[1;32m~\\Anaconda3\\envs\\fastai\\lib\\site-packages\\torch\\nn\\functional.py\u001b[0m in \u001b[0;36mnll_loss\u001b[1;34m(input, target, weight, size_average, ignore_index, reduce, reduction)\u001b[0m\n\u001b[0;32m   1869\u001b[0m                          .format(input.size(0), target.size(0)))\n\u001b[0;32m   1870\u001b[0m     \u001b[1;32mif\u001b[0m \u001b[0mdim\u001b[0m \u001b[1;33m==\u001b[0m \u001b[1;36m2\u001b[0m\u001b[1;33m:\u001b[0m\u001b[1;33m\u001b[0m\u001b[1;33m\u001b[0m\u001b[0m\n\u001b[1;32m-> 1871\u001b[1;33m         \u001b[0mret\u001b[0m \u001b[1;33m=\u001b[0m \u001b[0mtorch\u001b[0m\u001b[1;33m.\u001b[0m\u001b[0m_C\u001b[0m\u001b[1;33m.\u001b[0m\u001b[0m_nn\u001b[0m\u001b[1;33m.\u001b[0m\u001b[0mnll_loss\u001b[0m\u001b[1;33m(\u001b[0m\u001b[0minput\u001b[0m\u001b[1;33m,\u001b[0m \u001b[0mtarget\u001b[0m\u001b[1;33m,\u001b[0m \u001b[0mweight\u001b[0m\u001b[1;33m,\u001b[0m \u001b[0m_Reduction\u001b[0m\u001b[1;33m.\u001b[0m\u001b[0mget_enum\u001b[0m\u001b[1;33m(\u001b[0m\u001b[0mreduction\u001b[0m\u001b[1;33m)\u001b[0m\u001b[1;33m,\u001b[0m \u001b[0mignore_index\u001b[0m\u001b[1;33m)\u001b[0m\u001b[1;33m\u001b[0m\u001b[1;33m\u001b[0m\u001b[0m\n\u001b[0m\u001b[0;32m   1872\u001b[0m     \u001b[1;32melif\u001b[0m \u001b[0mdim\u001b[0m \u001b[1;33m==\u001b[0m \u001b[1;36m4\u001b[0m\u001b[1;33m:\u001b[0m\u001b[1;33m\u001b[0m\u001b[1;33m\u001b[0m\u001b[0m\n\u001b[0;32m   1873\u001b[0m         \u001b[0mret\u001b[0m \u001b[1;33m=\u001b[0m \u001b[0mtorch\u001b[0m\u001b[1;33m.\u001b[0m\u001b[0m_C\u001b[0m\u001b[1;33m.\u001b[0m\u001b[0m_nn\u001b[0m\u001b[1;33m.\u001b[0m\u001b[0mnll_loss2d\u001b[0m\u001b[1;33m(\u001b[0m\u001b[0minput\u001b[0m\u001b[1;33m,\u001b[0m \u001b[0mtarget\u001b[0m\u001b[1;33m,\u001b[0m \u001b[0mweight\u001b[0m\u001b[1;33m,\u001b[0m \u001b[0m_Reduction\u001b[0m\u001b[1;33m.\u001b[0m\u001b[0mget_enum\u001b[0m\u001b[1;33m(\u001b[0m\u001b[0mreduction\u001b[0m\u001b[1;33m)\u001b[0m\u001b[1;33m,\u001b[0m \u001b[0mignore_index\u001b[0m\u001b[1;33m)\u001b[0m\u001b[1;33m\u001b[0m\u001b[1;33m\u001b[0m\u001b[0m\n",
      "\u001b[1;31mRuntimeError\u001b[0m: multi-target not supported at ..\\aten\\src\\THNN/generic/ClassNLLCriterion.c:20"
     ]
    }
   ],
   "source": [
    "l = F.nll_loss(aa,bb)"
   ]
  },
  {
   "cell_type": "code",
   "execution_count": 53,
   "metadata": {},
   "outputs": [
    {
     "data": {
      "text/plain": [
       "tensor(1.1476)"
      ]
     },
     "execution_count": 53,
     "metadata": {},
     "output_type": "execute_result"
    }
   ],
   "source": [
    "l"
   ]
  },
  {
   "cell_type": "code",
   "execution_count": 59,
   "metadata": {},
   "outputs": [],
   "source": [
    "a = np.random.rand(3,4)"
   ]
  },
  {
   "cell_type": "code",
   "execution_count": 66,
   "metadata": {},
   "outputs": [],
   "source": [
    "b = np.random.rand(2,4)"
   ]
  },
  {
   "cell_type": "code",
   "execution_count": 72,
   "metadata": {},
   "outputs": [],
   "source": [
    "t = [a,b]"
   ]
  },
  {
   "cell_type": "code",
   "execution_count": 73,
   "metadata": {},
   "outputs": [
    {
     "data": {
      "text/plain": [
       "(2,)"
      ]
     },
     "execution_count": 73,
     "metadata": {},
     "output_type": "execute_result"
    }
   ],
   "source": [
    "np.array(t).shape"
   ]
  },
  {
   "cell_type": "code",
   "execution_count": 74,
   "metadata": {},
   "outputs": [
    {
     "data": {
      "text/plain": [
       "array([[0.255251, 0.802925, 0.39936 , 0.069087],\n",
       "       [0.192725, 0.195726, 0.765414, 0.068067]])"
      ]
     },
     "execution_count": 74,
     "metadata": {},
     "output_type": "execute_result"
    }
   ],
   "source": [
    "t.pop()"
   ]
  },
  {
   "cell_type": "code",
   "execution_count": 75,
   "metadata": {},
   "outputs": [
    {
     "data": {
      "text/plain": [
       "array([[0.269292, 0.443954, 0.016551, 0.314709],\n",
       "       [0.903049, 0.930926, 0.752409, 0.969705],\n",
       "       [0.035113, 0.174226, 0.025869, 0.240254]])"
      ]
     },
     "execution_count": 75,
     "metadata": {},
     "output_type": "execute_result"
    }
   ],
   "source": [
    "t.pop()"
   ]
  },
  {
   "cell_type": "code",
   "execution_count": 76,
   "metadata": {},
   "outputs": [
    {
     "ename": "IndexError",
     "evalue": "list index out of range",
     "output_type": "error",
     "traceback": [
      "\u001b[1;31m---------------------------------------------------------------------------\u001b[0m",
      "\u001b[1;31mIndexError\u001b[0m                                Traceback (most recent call last)",
      "\u001b[1;32m<ipython-input-76-a471f56f22a6>\u001b[0m in \u001b[0;36m<module>\u001b[1;34m\u001b[0m\n\u001b[1;32m----> 1\u001b[1;33m \u001b[0mt\u001b[0m\u001b[1;33m[\u001b[0m\u001b[1;36m0\u001b[0m\u001b[1;33m]\u001b[0m\u001b[1;33m\u001b[0m\u001b[1;33m\u001b[0m\u001b[0m\n\u001b[0m",
      "\u001b[1;31mIndexError\u001b[0m: list index out of range"
     ]
    }
   ],
   "source": [
    "t[0]"
   ]
  },
  {
   "cell_type": "code",
   "execution_count": null,
   "metadata": {},
   "outputs": [],
   "source": []
  }
 ],
 "metadata": {
  "kernelspec": {
   "display_name": "env_torch",
   "language": "python",
   "name": "env_torch"
  },
  "language_info": {
   "codemirror_mode": {
    "name": "ipython",
    "version": 3
   },
   "file_extension": ".py",
   "mimetype": "text/x-python",
   "name": "python",
   "nbconvert_exporter": "python",
   "pygments_lexer": "ipython3",
   "version": "3.7.6"
  }
 },
 "nbformat": 4,
 "nbformat_minor": 2
}
