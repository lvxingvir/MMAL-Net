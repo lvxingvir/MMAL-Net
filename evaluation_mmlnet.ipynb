{
 "cells": [
  {
   "cell_type": "code",
   "execution_count": 1,
   "metadata": {},
   "outputs": [],
   "source": [
    "#coding=utf-8\n",
    "import torch\n",
    "import torch.nn as nn\n",
    "import torch.nn.functional as F\n",
    "import sys\n",
    "from tqdm import tqdm\n",
    "\n",
    "from torch import optim\n",
    "from time import gmtime, strftime\n",
    "from tensorboardX import SummaryWriter\n",
    "\n",
    "import matplotlib.pyplot as plt\n",
    "\n",
    "from config import input_size, root, proposalN, channels\n",
    "from utils.read_dataset import read_dataset\n",
    "from utils.auto_laod_resume import auto_load_resume\n",
    "from utils.utils import TrainClock, save_args, AverageMeter, AUCMeter,calculate_accuracy\n",
    "from networks.model import MainNet"
   ]
  },
  {
   "cell_type": "code",
   "execution_count": 2,
   "metadata": {},
   "outputs": [],
   "source": [
    "import os\n",
    "os.environ['CUDA_VISIBLE_DEVICES'] = '3'\n",
    "\n",
    "CUDA = torch.cuda.is_available()\n",
    "DEVICE = torch.device(\"cuda\" if CUDA else \"cpu\")"
   ]
  },
  {
   "cell_type": "code",
   "execution_count": 3,
   "metadata": {},
   "outputs": [
    {
     "name": "stdout",
     "output_type": "stream",
     "text": [
      "Loading Mura\n",
      "Loading testset\n"
     ]
    }
   ],
   "source": [
    "# dataset\n",
    "set = 'Mura'\n",
    "if set == 'CUB':\n",
    "    root = './datasets/CUB_200_2011'  # dataset path\n",
    "    # model path\n",
    "    pth_path = \"./models/cub_epoch144.pth\"\n",
    "    num_classes = 200\n",
    "elif set == 'Aircraft':\n",
    "    root = './datasets/FGVC-aircraft'  # dataset path\n",
    "    # model path\n",
    "    pth_path = \"./models/air_epoch146.pth\"\n",
    "    num_classes = 100\n",
    "elif set == 'Mura':\n",
    "    root = r'E:\\Xing\\Data\\MURA-v1.1'  # dataset path\n",
    "    pth_path = r'C:\\Users\\Xing\\Projects\\AirGo\\MMAL-Net\\checkpoint\\mura\\epoch48.pth'\n",
    "    num_classes = 1\n",
    "\n",
    "batch_size = 1\n",
    "\n",
    "#load dataset\n",
    "_, testloader = read_dataset(input_size, batch_size, root, set)"
   ]
  },
  {
   "cell_type": "code",
   "execution_count": 4,
   "metadata": {},
   "outputs": [
    {
     "name": "stdout",
     "output_type": "stream",
     "text": [
      "Load model from C:\\Users\\Xing\\Projects\\AirGo\\MMAL-Net\\checkpoint\\mura\\epoch48.pth\n",
      "Resume from C:\\Users\\Xing\\Projects\\AirGo\\MMAL-Net\\checkpoint\\mura\\epoch48.pth\n"
     ]
    }
   ],
   "source": [
    "# 定义模型\n",
    "model = MainNet(proposalN=proposalN, num_classes=num_classes, channels=channels)\n",
    "\n",
    "model = model.to(DEVICE)\n",
    "\n",
    "#加载checkpoint\n",
    "if os.path.exists(pth_path):\n",
    "    epoch = auto_load_resume(model, pth_path, status='test')\n",
    "else:\n",
    "    sys.exit('There is not a pth exist.')"
   ]
  },
  {
   "cell_type": "code",
   "execution_count": 5,
   "metadata": {},
   "outputs": [],
   "source": [
    "criterion = nn.BCELoss()"
   ]
  },
  {
   "cell_type": "code",
   "execution_count": 7,
   "metadata": {
    "scrolled": true
   },
   "outputs": [
    {
     "name": "stderr",
     "output_type": "stream",
     "text": [
      "3it [00:00, 10.99it/s]"
     ]
    },
    {
     "name": "stdout",
     "output_type": "stream",
     "text": [
      "torch.Size([1]) torch.Size([1, 1])\n",
      "torch.Size([1]) torch.Size([1, 1])\n",
      "torch.Size([1]) torch.Size([1, 1])\n",
      "torch.Size([1])"
     ]
    },
    {
     "name": "stderr",
     "output_type": "stream",
     "text": [
      "7it [00:00, 13.63it/s]"
     ]
    },
    {
     "name": "stdout",
     "output_type": "stream",
     "text": [
      " torch.Size([1, 1])\n",
      "torch.Size([1]) torch.Size([1, 1])\n",
      "torch.Size([1]) torch.Size([1, 1])\n",
      "torch.Size([1]) torch.Size([1, 1])\n"
     ]
    },
    {
     "name": "stderr",
     "output_type": "stream",
     "text": [
      "11it [00:00, 15.46it/s]"
     ]
    },
    {
     "name": "stdout",
     "output_type": "stream",
     "text": [
      "torch.Size([1]) torch.Size([1, 1])\n",
      "torch.Size([1]) torch.Size([1, 1])\n",
      "torch.Size([1]) torch.Size([1, 1])\n",
      "torch.Size([1]) torch.Size([1, 1])\n"
     ]
    },
    {
     "name": "stderr",
     "output_type": "stream",
     "text": [
      "15it [00:00, 15.52it/s]"
     ]
    },
    {
     "name": "stdout",
     "output_type": "stream",
     "text": [
      "torch.Size([1]) torch.Size([1, 1])\n",
      "torch.Size([1]) torch.Size([1, 1])\n",
      "torch.Size([1]) torch.Size([1, 1])\n",
      "torch.Size([1]) torch.Size([1, 1])\n"
     ]
    },
    {
     "name": "stderr",
     "output_type": "stream",
     "text": [
      "\r",
      "17it [00:01, 15.41it/s]"
     ]
    },
    {
     "name": "stdout",
     "output_type": "stream",
     "text": [
      "torch.Size([1]) torch.Size([1, 1])\n",
      "torch.Size([1]) torch.Size([1, 1])\n",
      "torch.Size([1]) torch.Size([1, 1])\n",
      "torch.Size([1])"
     ]
    },
    {
     "name": "stderr",
     "output_type": "stream",
     "text": [
      "21it [00:01, 15.41it/s]"
     ]
    },
    {
     "name": "stdout",
     "output_type": "stream",
     "text": [
      " torch.Size([1, 1])\n",
      "torch.Size([1]) torch.Size([1, 1])\n",
      "torch.Size([1]) torch.Size([1, 1])\n",
      "torch.Size([1])"
     ]
    },
    {
     "name": "stderr",
     "output_type": "stream",
     "text": [
      "\r",
      "23it [00:01, 15.44it/s]"
     ]
    },
    {
     "name": "stdout",
     "output_type": "stream",
     "text": [
      " torch.Size([1, 1])\n",
      "torch.Size([1]) torch.Size([1, 1])\n",
      "torch.Size([1]) torch.Size([1, 1])\n",
      "torch.Size([1])"
     ]
    },
    {
     "name": "stderr",
     "output_type": "stream",
     "text": [
      "27it [00:01, 15.53it/s]"
     ]
    },
    {
     "name": "stdout",
     "output_type": "stream",
     "text": [
      " torch.Size([1, 1])\n",
      "torch.Size([1]) torch.Size([1, 1])\n",
      "torch.Size([1]) torch.Size([1, 1])\n",
      "torch.Size([1])"
     ]
    },
    {
     "name": "stderr",
     "output_type": "stream",
     "text": [
      "31it [00:01, 16.33it/s]"
     ]
    },
    {
     "name": "stdout",
     "output_type": "stream",
     "text": [
      " torch.Size([1, 1])\n",
      "torch.Size([1]) torch.Size([1, 1])\n",
      "torch.Size([1]) torch.Size([1, 1])\n",
      "torch.Size([1]) torch.Size([1, 1])\n"
     ]
    },
    {
     "name": "stderr",
     "output_type": "stream",
     "text": [
      "35it [00:02, 16.75it/s]"
     ]
    },
    {
     "name": "stdout",
     "output_type": "stream",
     "text": [
      "torch.Size([1]) torch.Size([1, 1])\n",
      "torch.Size([1]) torch.Size([1, 1])\n",
      "torch.Size([1]) torch.Size([1, 1])\n",
      "torch.Size([1]) torch.Size([1, 1])\n"
     ]
    },
    {
     "name": "stderr",
     "output_type": "stream",
     "text": [
      "\r",
      "37it [00:02, 16.13it/s]"
     ]
    },
    {
     "name": "stdout",
     "output_type": "stream",
     "text": [
      "torch.Size([1]) torch.Size([1, 1])\n",
      "torch.Size([1]) torch.Size([1, 1])\n",
      "torch.Size([1]) torch.Size([1, 1])\n",
      "torch.Size([1])"
     ]
    },
    {
     "name": "stderr",
     "output_type": "stream",
     "text": [
      "41it [00:02, 16.21it/s]"
     ]
    },
    {
     "name": "stdout",
     "output_type": "stream",
     "text": [
      " torch.Size([1, 1])\n",
      "torch.Size([1]) torch.Size([1, 1])\n",
      "torch.Size([1]) torch.Size([1, 1])\n",
      "torch.Size([1])"
     ]
    },
    {
     "name": "stderr",
     "output_type": "stream",
     "text": [
      "45it [00:02, 16.80it/s]"
     ]
    },
    {
     "name": "stdout",
     "output_type": "stream",
     "text": [
      " torch.Size([1, 1])\n",
      "torch.Size([1]) torch.Size([1, 1])\n",
      "torch.Size([1]) torch.Size([1, 1])\n",
      "torch.Size([1]) torch.Size([1, 1])\n"
     ]
    },
    {
     "name": "stderr",
     "output_type": "stream",
     "text": [
      "\r",
      "47it [00:02, 16.81it/s]"
     ]
    },
    {
     "name": "stdout",
     "output_type": "stream",
     "text": [
      "torch.Size([1]) torch.Size([1, 1])\n",
      "torch.Size([1]) torch.Size([1, 1])\n",
      "torch.Size([1]) torch.Size([1, 1])\n",
      "torch.Size([1])"
     ]
    },
    {
     "name": "stderr",
     "output_type": "stream",
     "text": [
      "51it [00:03, 16.33it/s]"
     ]
    },
    {
     "name": "stdout",
     "output_type": "stream",
     "text": [
      " torch.Size([1, 1])\n",
      "torch.Size([1]) torch.Size([1, 1])\n",
      "torch.Size([1]) torch.Size([1, 1])\n",
      "torch.Size([1])"
     ]
    },
    {
     "name": "stderr",
     "output_type": "stream",
     "text": [
      "\r",
      "53it [00:03, 15.96it/s]"
     ]
    },
    {
     "name": "stdout",
     "output_type": "stream",
     "text": [
      " torch.Size([1, 1])\n",
      "torch.Size([1]) torch.Size([1, 1])\n",
      "torch.Size([1]) torch.Size([1, 1])\n",
      "torch.Size([1])"
     ]
    },
    {
     "name": "stderr",
     "output_type": "stream",
     "text": [
      "57it [00:03, 16.32it/s]"
     ]
    },
    {
     "name": "stdout",
     "output_type": "stream",
     "text": [
      " torch.Size([1, 1])\n",
      "torch.Size([1]) torch.Size([1, 1])\n",
      "torch.Size([1]) torch.Size([1, 1])\n",
      "torch.Size([1])"
     ]
    },
    {
     "name": "stderr",
     "output_type": "stream",
     "text": [
      "\r",
      "59it [00:03, 16.15it/s]"
     ]
    },
    {
     "name": "stdout",
     "output_type": "stream",
     "text": [
      " torch.Size([1, 1])\n",
      "torch.Size([1]) torch.Size([1, 1])\n",
      "torch.Size([1]) torch.Size([1, 1])\n",
      "torch.Size([1])"
     ]
    },
    {
     "name": "stderr",
     "output_type": "stream",
     "text": [
      "63it [00:03, 15.82it/s]"
     ]
    },
    {
     "name": "stdout",
     "output_type": "stream",
     "text": [
      " torch.Size([1, 1])\n",
      "torch.Size([1]) torch.Size([1, 1])\n",
      "torch.Size([1]) torch.Size([1, 1])\n",
      "torch.Size([1])"
     ]
    },
    {
     "name": "stderr",
     "output_type": "stream",
     "text": [
      "\r",
      "65it [00:04, 15.81it/s]"
     ]
    },
    {
     "name": "stdout",
     "output_type": "stream",
     "text": [
      " torch.Size([1, 1])\n",
      "torch.Size([1]) torch.Size([1, 1])\n",
      "torch.Size([1]) torch.Size([1, 1])\n",
      "torch.Size([1])"
     ]
    },
    {
     "name": "stderr",
     "output_type": "stream",
     "text": [
      "69it [00:04, 16.12it/s]"
     ]
    },
    {
     "name": "stdout",
     "output_type": "stream",
     "text": [
      " torch.Size([1, 1])\n",
      "torch.Size([1]) torch.Size([1, 1])\n",
      "torch.Size([1]) torch.Size([1, 1])\n",
      "torch.Size([1]) torch.Size([1, 1])\n"
     ]
    },
    {
     "name": "stderr",
     "output_type": "stream",
     "text": [
      "73it [00:04, 16.33it/s]"
     ]
    },
    {
     "name": "stdout",
     "output_type": "stream",
     "text": [
      "torch.Size([1]) torch.Size([1, 1])\n",
      "torch.Size([1]) torch.Size([1, 1])\n",
      "torch.Size([1]) torch.Size([1, 1])\n",
      "torch.Size([1])"
     ]
    },
    {
     "name": "stderr",
     "output_type": "stream",
     "text": [
      "\r",
      "75it [00:04, 16.31it/s]"
     ]
    },
    {
     "name": "stdout",
     "output_type": "stream",
     "text": [
      " torch.Size([1, 1])\n",
      "torch.Size([1]) torch.Size([1, 1])\n",
      "torch.Size([1]) torch.Size([1, 1])\n",
      "torch.Size([1])"
     ]
    },
    {
     "name": "stderr",
     "output_type": "stream",
     "text": [
      "79it [00:04, 16.38it/s]"
     ]
    },
    {
     "name": "stdout",
     "output_type": "stream",
     "text": [
      " torch.Size([1, 1])\n",
      "torch.Size([1]) torch.Size([1, 1])\n",
      "torch.Size([1]) torch.Size([1, 1])\n",
      "torch.Size([1])"
     ]
    },
    {
     "name": "stderr",
     "output_type": "stream",
     "text": [
      "\r",
      "81it [00:05, 16.31it/s]"
     ]
    },
    {
     "name": "stdout",
     "output_type": "stream",
     "text": [
      " torch.Size([1, 1])\n",
      "torch.Size([1]) torch.Size([1, 1])\n",
      "torch.Size([1]) torch.Size([1, 1])\n",
      "torch.Size([1])"
     ]
    },
    {
     "name": "stderr",
     "output_type": "stream",
     "text": [
      "85it [00:05, 15.51it/s]"
     ]
    },
    {
     "name": "stdout",
     "output_type": "stream",
     "text": [
      " torch.Size([1, 1])\n",
      "torch.Size([1]) torch.Size([1, 1])\n",
      "torch.Size([1]) torch.Size([1, 1])\n"
     ]
    },
    {
     "name": "stderr",
     "output_type": "stream",
     "text": [
      "\r",
      "87it [00:05, 15.23it/s]"
     ]
    },
    {
     "name": "stdout",
     "output_type": "stream",
     "text": [
      "torch.Size([1]) torch.Size([1, 1])\n",
      "torch.Size([1]) torch.Size([1, 1])\n",
      "torch.Size([1]) torch.Size([1, 1])\n"
     ]
    },
    {
     "name": "stderr",
     "output_type": "stream",
     "text": [
      "91it [00:05, 15.31it/s]"
     ]
    },
    {
     "name": "stdout",
     "output_type": "stream",
     "text": [
      "torch.Size([1]) torch.Size([1, 1])\n",
      "torch.Size([1]) torch.Size([1, 1])\n",
      "torch.Size([1]) torch.Size([1, 1])\n"
     ]
    },
    {
     "name": "stderr",
     "output_type": "stream",
     "text": [
      "\r",
      "93it [00:05, 15.06it/s]"
     ]
    },
    {
     "name": "stdout",
     "output_type": "stream",
     "text": [
      "torch.Size([1]) torch.Size([1, 1])\n",
      "torch.Size([1]) torch.Size([1, 1])\n",
      "torch.Size([1]) torch.Size([1, 1])\n",
      "torch.Size([1])"
     ]
    },
    {
     "name": "stderr",
     "output_type": "stream",
     "text": [
      "97it [00:06, 16.10it/s]"
     ]
    },
    {
     "name": "stdout",
     "output_type": "stream",
     "text": [
      " torch.Size([1, 1])\n",
      "torch.Size([1]) torch.Size([1, 1])\n",
      "torch.Size([1]) torch.Size([1, 1])\n",
      "torch.Size([1]) torch.Size([1, 1])\n"
     ]
    },
    {
     "name": "stderr",
     "output_type": "stream",
     "text": [
      "101it [00:06, 15.82it/s]"
     ]
    },
    {
     "name": "stdout",
     "output_type": "stream",
     "text": [
      "torch.Size([1]) torch.Size([1, 1])\n",
      "torch.Size([1]) torch.Size([1, 1])\n",
      "torch.Size([1]) torch.Size([1, 1])\n"
     ]
    },
    {
     "name": "stderr",
     "output_type": "stream",
     "text": [
      "\r",
      "103it [00:06, 15.19it/s]"
     ]
    },
    {
     "name": "stdout",
     "output_type": "stream",
     "text": [
      "torch.Size([1]) torch.Size([1, 1])\n",
      "torch.Size([1]) torch.Size([1, 1])\n",
      "torch.Size([1]) torch.Size([1, 1])\n",
      "torch.Size([1])"
     ]
    },
    {
     "name": "stderr",
     "output_type": "stream",
     "text": [
      "107it [00:06, 15.52it/s]"
     ]
    },
    {
     "name": "stdout",
     "output_type": "stream",
     "text": [
      " torch.Size([1, 1])\n",
      "torch.Size([1]) torch.Size([1, 1])\n",
      "torch.Size([1]) torch.Size([1, 1])\n",
      "torch.Size([1])"
     ]
    },
    {
     "name": "stderr",
     "output_type": "stream",
     "text": [
      "\r",
      "109it [00:06, 15.49it/s]"
     ]
    },
    {
     "name": "stdout",
     "output_type": "stream",
     "text": [
      " torch.Size([1, 1])\n",
      "torch.Size([1]) torch.Size([1, 1])\n",
      "torch.Size([1]) torch.Size([1, 1])\n",
      "torch.Size([1])"
     ]
    },
    {
     "name": "stderr",
     "output_type": "stream",
     "text": [
      "113it [00:07, 15.66it/s]"
     ]
    },
    {
     "name": "stdout",
     "output_type": "stream",
     "text": [
      " torch.Size([1, 1])\n",
      "torch.Size([1]) torch.Size([1, 1])\n",
      "torch.Size([1]) torch.Size([1, 1])\n"
     ]
    },
    {
     "name": "stderr",
     "output_type": "stream",
     "text": [
      "117it [00:07, 16.02it/s]"
     ]
    },
    {
     "name": "stdout",
     "output_type": "stream",
     "text": [
      "torch.Size([1]) torch.Size([1, 1])\n",
      "torch.Size([1]) torch.Size([1, 1])\n",
      "torch.Size([1]) torch.Size([1, 1])\n",
      "torch.Size([1]) torch.Size([1, 1])\n"
     ]
    },
    {
     "name": "stderr",
     "output_type": "stream",
     "text": [
      "121it [00:07, 16.94it/s]"
     ]
    },
    {
     "name": "stdout",
     "output_type": "stream",
     "text": [
      "torch.Size([1]) torch.Size([1, 1])\n",
      "torch.Size([1]) torch.Size([1, 1])\n",
      "torch.Size([1]) torch.Size([1, 1])\n",
      "torch.Size([1]) torch.Size([1, 1])\n"
     ]
    },
    {
     "name": "stderr",
     "output_type": "stream",
     "text": [
      "\r",
      "123it [00:07, 16.95it/s]"
     ]
    },
    {
     "name": "stdout",
     "output_type": "stream",
     "text": [
      "torch.Size([1]) torch.Size([1, 1])\n",
      "torch.Size([1]) torch.Size([1, 1])\n",
      "torch.Size([1]) torch.Size([1, 1])\n",
      "torch.Size([1])"
     ]
    },
    {
     "name": "stderr",
     "output_type": "stream",
     "text": [
      "127it [00:07, 15.89it/s]"
     ]
    },
    {
     "name": "stdout",
     "output_type": "stream",
     "text": [
      " torch.Size([1, 1])\n",
      "torch.Size([1]) torch.Size([1, 1])\n",
      "torch.Size([1]) torch.Size([1, 1])\n",
      "torch.Size([1])"
     ]
    },
    {
     "name": "stderr",
     "output_type": "stream",
     "text": [
      "\r",
      "129it [00:08, 16.20it/s]"
     ]
    },
    {
     "name": "stdout",
     "output_type": "stream",
     "text": [
      " torch.Size([1, 1])\n",
      "torch.Size([1]) torch.Size([1, 1])\n",
      "torch.Size([1]) torch.Size([1, 1])\n",
      "torch.Size([1])"
     ]
    },
    {
     "name": "stderr",
     "output_type": "stream",
     "text": [
      "133it [00:08, 15.89it/s]"
     ]
    },
    {
     "name": "stdout",
     "output_type": "stream",
     "text": [
      " torch.Size([1, 1])\n",
      "torch.Size([1]) torch.Size([1, 1])\n",
      "torch.Size([1]) torch.Size([1, 1])\n",
      "torch.Size([1])"
     ]
    },
    {
     "name": "stderr",
     "output_type": "stream",
     "text": [
      "\r",
      "135it [00:08, 16.04it/s]"
     ]
    },
    {
     "name": "stdout",
     "output_type": "stream",
     "text": [
      " torch.Size([1, 1])\n",
      "torch.Size([1]) torch.Size([1, 1])\n",
      "torch.Size([1]) torch.Size([1, 1])\n",
      "torch.Size([1])"
     ]
    },
    {
     "name": "stderr",
     "output_type": "stream",
     "text": [
      "139it [00:08, 15.96it/s]"
     ]
    },
    {
     "name": "stdout",
     "output_type": "stream",
     "text": [
      " torch.Size([1, 1])\n",
      "torch.Size([1]) torch.Size([1, 1])\n",
      "torch.Size([1]) torch.Size([1, 1])\n",
      "torch.Size([1])"
     ]
    },
    {
     "name": "stderr",
     "output_type": "stream",
     "text": [
      "143it [00:08, 16.50it/s]"
     ]
    },
    {
     "name": "stdout",
     "output_type": "stream",
     "text": [
      " torch.Size([1, 1])\n",
      "torch.Size([1]) torch.Size([1, 1])\n",
      "torch.Size([1]) torch.Size([1, 1])\n",
      "torch.Size([1]) torch.Size([1, 1])\n"
     ]
    },
    {
     "name": "stderr",
     "output_type": "stream",
     "text": [
      "\r",
      "145it [00:09, 17.11it/s]"
     ]
    },
    {
     "name": "stdout",
     "output_type": "stream",
     "text": [
      "torch.Size([1]) torch.Size([1, 1])\n",
      "torch.Size([1]) torch.Size([1, 1])\n",
      "torch.Size([1]) torch.Size([1, 1])\n",
      "torch.Size([1])"
     ]
    },
    {
     "name": "stderr",
     "output_type": "stream",
     "text": [
      "149it [00:09, 15.92it/s]"
     ]
    },
    {
     "name": "stdout",
     "output_type": "stream",
     "text": [
      " torch.Size([1, 1])\n",
      "torch.Size([1]) torch.Size([1, 1])\n",
      "torch.Size([1]) torch.Size([1, 1])\n",
      "torch.Size([1])"
     ]
    },
    {
     "name": "stderr",
     "output_type": "stream",
     "text": [
      "\r",
      "151it [00:09, 15.80it/s]"
     ]
    },
    {
     "name": "stdout",
     "output_type": "stream",
     "text": [
      " torch.Size([1, 1])\n",
      "torch.Size([1]) torch.Size([1, 1])\n",
      "torch.Size([1]) torch.Size([1, 1])\n",
      "torch.Size([1])"
     ]
    },
    {
     "name": "stderr",
     "output_type": "stream",
     "text": [
      "155it [00:09, 15.64it/s]"
     ]
    },
    {
     "name": "stdout",
     "output_type": "stream",
     "text": [
      " torch.Size([1, 1])\n",
      "torch.Size([1]) torch.Size([1, 1])\n",
      "torch.Size([1]) torch.Size([1, 1])\n",
      "torch.Size([1])"
     ]
    },
    {
     "name": "stderr",
     "output_type": "stream",
     "text": [
      "\r",
      "157it [00:09, 15.07it/s]"
     ]
    },
    {
     "name": "stdout",
     "output_type": "stream",
     "text": [
      " torch.Size([1, 1])\n",
      "torch.Size([1]) torch.Size([1, 1])\n",
      "torch.Size([1]) torch.Size([1, 1])\n",
      "torch.Size([1])"
     ]
    },
    {
     "name": "stderr",
     "output_type": "stream",
     "text": [
      "161it [00:10, 15.27it/s]"
     ]
    },
    {
     "name": "stdout",
     "output_type": "stream",
     "text": [
      " torch.Size([1, 1])\n",
      "torch.Size([1]) torch.Size([1, 1])\n",
      "torch.Size([1]) torch.Size([1, 1])\n"
     ]
    },
    {
     "name": "stderr",
     "output_type": "stream",
     "text": [
      "\r",
      "163it [00:10, 14.87it/s]"
     ]
    },
    {
     "name": "stdout",
     "output_type": "stream",
     "text": [
      "torch.Size([1]) torch.Size([1, 1])\n",
      "torch.Size([1]) torch.Size([1, 1])\n",
      "torch.Size([1]) torch.Size([1, 1])\n",
      "torch.Size([1])"
     ]
    },
    {
     "name": "stderr",
     "output_type": "stream",
     "text": [
      "167it [00:10, 15.13it/s]"
     ]
    },
    {
     "name": "stdout",
     "output_type": "stream",
     "text": [
      " torch.Size([1, 1])\n",
      "torch.Size([1]) torch.Size([1, 1])\n",
      "torch.Size([1]) torch.Size([1, 1])\n"
     ]
    },
    {
     "name": "stderr",
     "output_type": "stream",
     "text": [
      "\r",
      "169it [00:10, 15.04it/s]"
     ]
    },
    {
     "name": "stdout",
     "output_type": "stream",
     "text": [
      "torch.Size([1]) torch.Size([1, 1])\n",
      "torch.Size([1]) torch.Size([1, 1])\n",
      "torch.Size([1]) torch.Size([1, 1])\n",
      "torch.Size([1])"
     ]
    },
    {
     "name": "stderr",
     "output_type": "stream",
     "text": [
      "173it [00:10, 14.64it/s]"
     ]
    },
    {
     "name": "stdout",
     "output_type": "stream",
     "text": [
      " torch.Size([1, 1])\n",
      "torch.Size([1]) torch.Size([1, 1])\n",
      "torch.Size([1]) torch.Size([1, 1])\n",
      "torch.Size([1])"
     ]
    },
    {
     "name": "stderr",
     "output_type": "stream",
     "text": [
      "\r",
      "175it [00:11, 14.70it/s]"
     ]
    },
    {
     "name": "stdout",
     "output_type": "stream",
     "text": [
      " torch.Size([1, 1])\n",
      "torch.Size([1]) torch.Size([1, 1])\n",
      "torch.Size([1]) torch.Size([1, 1])\n",
      "torch.Size([1])"
     ]
    },
    {
     "name": "stderr",
     "output_type": "stream",
     "text": [
      "179it [00:11, 14.84it/s]"
     ]
    },
    {
     "name": "stdout",
     "output_type": "stream",
     "text": [
      " torch.Size([1, 1])\n",
      "torch.Size([1]) torch.Size([1, 1])\n",
      "torch.Size([1]) torch.Size([1, 1])\n",
      "torch.Size([1])"
     ]
    },
    {
     "name": "stderr",
     "output_type": "stream",
     "text": [
      "\r",
      "181it [00:11, 14.67it/s]"
     ]
    },
    {
     "name": "stdout",
     "output_type": "stream",
     "text": [
      " torch.Size([1, 1])\n",
      "torch.Size([1]) torch.Size([1, 1])\n",
      "torch.Size([1]) torch.Size([1, 1])\n",
      "torch.Size([1])"
     ]
    },
    {
     "name": "stderr",
     "output_type": "stream",
     "text": [
      "185it [00:11, 15.35it/s]"
     ]
    },
    {
     "name": "stdout",
     "output_type": "stream",
     "text": [
      " torch.Size([1, 1])\n",
      "torch.Size([1]) torch.Size([1, 1])\n",
      "torch.Size([1]) torch.Size([1, 1])\n",
      "torch.Size([1])"
     ]
    },
    {
     "name": "stderr",
     "output_type": "stream",
     "text": [
      "\r",
      "187it [00:11, 15.40it/s]"
     ]
    },
    {
     "name": "stdout",
     "output_type": "stream",
     "text": [
      " torch.Size([1, 1])\n",
      "torch.Size([1]) torch.Size([1, 1])\n",
      "torch.Size([1]) torch.Size([1, 1])\n"
     ]
    },
    {
     "name": "stderr",
     "output_type": "stream",
     "text": [
      "191it [00:12, 14.24it/s]"
     ]
    },
    {
     "name": "stdout",
     "output_type": "stream",
     "text": [
      "torch.Size([1]) torch.Size([1, 1])\n",
      "torch.Size([1]) torch.Size([1, 1])\n",
      "torch.Size([1]) torch.Size([1, 1])\n",
      "torch.Size([1])"
     ]
    },
    {
     "name": "stderr",
     "output_type": "stream",
     "text": [
      "\r",
      "193it [00:12, 15.24it/s]"
     ]
    },
    {
     "name": "stdout",
     "output_type": "stream",
     "text": [
      " torch.Size([1, 1])\n",
      "torch.Size([1]) torch.Size([1, 1])\n",
      "torch.Size([1]) torch.Size([1, 1])\n",
      "torch.Size([1])"
     ]
    },
    {
     "name": "stderr",
     "output_type": "stream",
     "text": [
      "197it [00:12, 15.66it/s]"
     ]
    },
    {
     "name": "stdout",
     "output_type": "stream",
     "text": [
      " torch.Size([1, 1])\n",
      "torch.Size([1]) torch.Size([1, 1])\n",
      "torch.Size([1]) torch.Size([1, 1])\n",
      "torch.Size([1])"
     ]
    },
    {
     "name": "stderr",
     "output_type": "stream",
     "text": [
      "\r",
      "199it [00:12, 15.91it/s]"
     ]
    },
    {
     "name": "stdout",
     "output_type": "stream",
     "text": [
      " torch.Size([1, 1])\n",
      "torch.Size([1]) torch.Size([1, 1])\n",
      "torch.Size([1]) torch.Size([1, 1])\n",
      "torch.Size([1])"
     ]
    },
    {
     "name": "stderr",
     "output_type": "stream",
     "text": [
      "203it [00:12, 15.22it/s]"
     ]
    },
    {
     "name": "stdout",
     "output_type": "stream",
     "text": [
      " torch.Size([1, 1])\n",
      "torch.Size([1]) torch.Size([1, 1])\n",
      "torch.Size([1]) torch.Size([1, 1])\n",
      "torch.Size([1])"
     ]
    },
    {
     "name": "stderr",
     "output_type": "stream",
     "text": [
      "\r",
      "205it [00:13, 15.21it/s]"
     ]
    },
    {
     "name": "stdout",
     "output_type": "stream",
     "text": [
      " torch.Size([1, 1])\n",
      "torch.Size([1]) torch.Size([1, 1])\n",
      "torch.Size([1]) torch.Size([1, 1])\n",
      "torch.Size([1])"
     ]
    },
    {
     "name": "stderr",
     "output_type": "stream",
     "text": [
      "209it [00:13, 15.18it/s]"
     ]
    },
    {
     "name": "stdout",
     "output_type": "stream",
     "text": [
      " torch.Size([1, 1])\n",
      "torch.Size([1]) torch.Size([1, 1])\n",
      "torch.Size([1]) torch.Size([1, 1])\n",
      "torch.Size([1])"
     ]
    },
    {
     "name": "stderr",
     "output_type": "stream",
     "text": [
      "\r",
      "211it [00:13, 14.97it/s]"
     ]
    },
    {
     "name": "stdout",
     "output_type": "stream",
     "text": [
      " torch.Size([1, 1])\n",
      "torch.Size([1]) torch.Size([1, 1])\n",
      "torch.Size([1]) torch.Size([1, 1])\n",
      "torch.Size([1])"
     ]
    },
    {
     "name": "stderr",
     "output_type": "stream",
     "text": [
      "215it [00:13, 16.10it/s]"
     ]
    },
    {
     "name": "stdout",
     "output_type": "stream",
     "text": [
      " torch.Size([1, 1])\n",
      "torch.Size([1]) torch.Size([1, 1])\n",
      "torch.Size([1]) torch.Size([1, 1])\n",
      "torch.Size([1]) torch.Size([1, 1])\n"
     ]
    },
    {
     "name": "stderr",
     "output_type": "stream",
     "text": [
      "219it [00:13, 16.05it/s]"
     ]
    },
    {
     "name": "stdout",
     "output_type": "stream",
     "text": [
      "torch.Size([1]) torch.Size([1, 1])\n",
      "torch.Size([1]) torch.Size([1, 1])\n",
      "torch.Size([1]) torch.Size([1, 1])\n",
      "torch.Size([1]) torch.Size([1, 1])\n"
     ]
    },
    {
     "name": "stderr",
     "output_type": "stream",
     "text": [
      "223it [00:14, 15.92it/s]"
     ]
    },
    {
     "name": "stdout",
     "output_type": "stream",
     "text": [
      "torch.Size([1]) torch.Size([1, 1])\n",
      "torch.Size([1]) torch.Size([1, 1])\n",
      "torch.Size([1]) torch.Size([1, 1])\n",
      "torch.Size([1])"
     ]
    },
    {
     "name": "stderr",
     "output_type": "stream",
     "text": [
      "\r",
      "225it [00:14, 15.61it/s]"
     ]
    },
    {
     "name": "stdout",
     "output_type": "stream",
     "text": [
      " torch.Size([1, 1])\n",
      "torch.Size([1]) torch.Size([1, 1])\n",
      "torch.Size([1]) torch.Size([1, 1])\n"
     ]
    },
    {
     "name": "stderr",
     "output_type": "stream",
     "text": [
      "229it [00:14, 15.18it/s]"
     ]
    },
    {
     "name": "stdout",
     "output_type": "stream",
     "text": [
      "torch.Size([1]) torch.Size([1, 1])\n",
      "torch.Size([1]) torch.Size([1, 1])\n",
      "torch.Size([1]) torch.Size([1, 1])\n",
      "torch.Size([1])"
     ]
    },
    {
     "name": "stderr",
     "output_type": "stream",
     "text": [
      "\r",
      "231it [00:14, 14.77it/s]"
     ]
    },
    {
     "name": "stdout",
     "output_type": "stream",
     "text": [
      " torch.Size([1, 1])\n",
      "torch.Size([1]) torch.Size([1, 1])\n",
      "torch.Size([1]) torch.Size([1, 1])\n"
     ]
    },
    {
     "name": "stderr",
     "output_type": "stream",
     "text": [
      "235it [00:14, 14.90it/s]"
     ]
    },
    {
     "name": "stdout",
     "output_type": "stream",
     "text": [
      "torch.Size([1]) torch.Size([1, 1])\n",
      "torch.Size([1]) torch.Size([1, 1])\n",
      "torch.Size([1]) torch.Size([1, 1])\n",
      "torch.Size([1])"
     ]
    },
    {
     "name": "stderr",
     "output_type": "stream",
     "text": [
      "\r",
      "237it [00:15, 14.28it/s]"
     ]
    },
    {
     "name": "stdout",
     "output_type": "stream",
     "text": [
      " torch.Size([1, 1])\n",
      "torch.Size([1]) torch.Size([1, 1])\n",
      "torch.Size([1]) torch.Size([1, 1])\n"
     ]
    },
    {
     "name": "stderr",
     "output_type": "stream",
     "text": [
      "241it [00:15, 14.42it/s]"
     ]
    },
    {
     "name": "stdout",
     "output_type": "stream",
     "text": [
      "torch.Size([1]) torch.Size([1, 1])\n",
      "torch.Size([1]) torch.Size([1, 1])\n",
      "torch.Size([1]) torch.Size([1, 1])\n",
      "torch.Size([1])"
     ]
    },
    {
     "name": "stderr",
     "output_type": "stream",
     "text": [
      "\r",
      "243it [00:15, 15.13it/s]"
     ]
    },
    {
     "name": "stdout",
     "output_type": "stream",
     "text": [
      " torch.Size([1, 1])\n",
      "torch.Size([1]) torch.Size([1, 1])\n",
      "torch.Size([1]) torch.Size([1, 1])\n",
      "torch.Size([1])"
     ]
    },
    {
     "name": "stderr",
     "output_type": "stream",
     "text": [
      "247it [00:15, 15.73it/s]"
     ]
    },
    {
     "name": "stdout",
     "output_type": "stream",
     "text": [
      " torch.Size([1, 1])\n",
      "torch.Size([1]) torch.Size([1, 1])\n",
      "torch.Size([1]) torch.Size([1, 1])\n",
      "torch.Size([1])"
     ]
    },
    {
     "name": "stderr",
     "output_type": "stream",
     "text": [
      "\r",
      "249it [00:15, 15.10it/s]"
     ]
    },
    {
     "name": "stdout",
     "output_type": "stream",
     "text": [
      " torch.Size([1, 1])\n",
      "torch.Size([1]) torch.Size([1, 1])\n",
      "torch.Size([1]) torch.Size([1, 1])\n",
      "torch.Size([1])"
     ]
    },
    {
     "name": "stderr",
     "output_type": "stream",
     "text": [
      "253it [00:16, 16.00it/s]"
     ]
    },
    {
     "name": "stdout",
     "output_type": "stream",
     "text": [
      " torch.Size([1, 1])\n",
      "torch.Size([1]) torch.Size([1, 1])\n",
      "torch.Size([1]) torch.Size([1, 1])\n",
      "torch.Size([1])"
     ]
    },
    {
     "name": "stderr",
     "output_type": "stream",
     "text": [
      "\r",
      "255it [00:16, 15.78it/s]"
     ]
    },
    {
     "name": "stdout",
     "output_type": "stream",
     "text": [
      " torch.Size([1, 1])\n",
      "torch.Size([1]) torch.Size([1, 1])\n",
      "torch.Size([1]) torch.Size([1, 1])\n",
      "torch.Size([1])"
     ]
    },
    {
     "name": "stderr",
     "output_type": "stream",
     "text": [
      "259it [00:16, 15.53it/s]"
     ]
    },
    {
     "name": "stdout",
     "output_type": "stream",
     "text": [
      " torch.Size([1, 1])\n",
      "torch.Size([1]) torch.Size([1, 1])\n",
      "torch.Size([1]) torch.Size([1, 1])\n",
      "torch.Size([1])"
     ]
    },
    {
     "name": "stderr",
     "output_type": "stream",
     "text": [
      "\r",
      "261it [00:16, 15.53it/s]"
     ]
    },
    {
     "name": "stdout",
     "output_type": "stream",
     "text": [
      " torch.Size([1, 1])\n",
      "torch.Size([1]) torch.Size([1, 1])\n",
      "torch.Size([1]) torch.Size([1, 1])\n",
      "torch.Size([1])"
     ]
    },
    {
     "name": "stderr",
     "output_type": "stream",
     "text": [
      "265it [00:16, 15.70it/s]"
     ]
    },
    {
     "name": "stdout",
     "output_type": "stream",
     "text": [
      " torch.Size([1, 1])\n",
      "torch.Size([1]) torch.Size([1, 1])\n",
      "torch.Size([1]) torch.Size([1, 1])\n",
      "torch.Size([1])"
     ]
    },
    {
     "name": "stderr",
     "output_type": "stream",
     "text": [
      "\r",
      "267it [00:17, 15.29it/s]"
     ]
    },
    {
     "name": "stdout",
     "output_type": "stream",
     "text": [
      " torch.Size([1, 1])\n",
      "torch.Size([1]) torch.Size([1, 1])\n",
      "torch.Size([1]) torch.Size([1, 1])\n",
      "torch.Size([1])"
     ]
    },
    {
     "name": "stderr",
     "output_type": "stream",
     "text": [
      "271it [00:17, 15.21it/s]"
     ]
    },
    {
     "name": "stdout",
     "output_type": "stream",
     "text": [
      " torch.Size([1, 1])\n",
      "torch.Size([1]) torch.Size([1, 1])\n",
      "torch.Size([1]) torch.Size([1, 1])\n",
      "torch.Size([1])"
     ]
    },
    {
     "name": "stderr",
     "output_type": "stream",
     "text": [
      "\r",
      "273it [00:17, 15.45it/s]"
     ]
    },
    {
     "name": "stdout",
     "output_type": "stream",
     "text": [
      " torch.Size([1, 1])\n",
      "torch.Size([1]) torch.Size([1, 1])\n",
      "torch.Size([1]) torch.Size([1, 1])\n"
     ]
    },
    {
     "name": "stderr",
     "output_type": "stream",
     "text": [
      "277it [00:17, 15.06it/s]"
     ]
    },
    {
     "name": "stdout",
     "output_type": "stream",
     "text": [
      "torch.Size([1]) torch.Size([1, 1])\n",
      "torch.Size([1]) torch.Size([1, 1])\n",
      "torch.Size([1]) torch.Size([1, 1])\n",
      "torch.Size([1])"
     ]
    },
    {
     "name": "stderr",
     "output_type": "stream",
     "text": [
      "\r",
      "279it [00:17, 15.33it/s]"
     ]
    },
    {
     "name": "stdout",
     "output_type": "stream",
     "text": [
      " torch.Size([1, 1])\n",
      "torch.Size([1]) torch.Size([1, 1])\n",
      "torch.Size([1]) torch.Size([1, 1])\n",
      "torch.Size([1])"
     ]
    },
    {
     "name": "stderr",
     "output_type": "stream",
     "text": [
      "283it [00:18, 15.10it/s]"
     ]
    },
    {
     "name": "stdout",
     "output_type": "stream",
     "text": [
      " torch.Size([1, 1])\n",
      "torch.Size([1]) torch.Size([1, 1])\n",
      "torch.Size([1]) torch.Size([1, 1])\n",
      "torch.Size([1])"
     ]
    },
    {
     "name": "stderr",
     "output_type": "stream",
     "text": [
      "287it [00:18, 15.81it/s]"
     ]
    },
    {
     "name": "stdout",
     "output_type": "stream",
     "text": [
      " torch.Size([1, 1])\n",
      "torch.Size([1]) torch.Size([1, 1])\n",
      "torch.Size([1]) torch.Size([1, 1])\n",
      "torch.Size([1]) torch.Size([1, 1])\n"
     ]
    },
    {
     "name": "stderr",
     "output_type": "stream",
     "text": [
      "\r",
      "289it [00:18, 15.18it/s]"
     ]
    },
    {
     "name": "stdout",
     "output_type": "stream",
     "text": [
      "torch.Size([1]) torch.Size([1, 1])\n",
      "torch.Size([1]) torch.Size([1, 1])\n",
      "torch.Size([1]) torch.Size([1, 1])\n",
      "torch.Size([1])"
     ]
    },
    {
     "name": "stderr",
     "output_type": "stream",
     "text": [
      "293it [00:18, 15.44it/s]"
     ]
    },
    {
     "name": "stdout",
     "output_type": "stream",
     "text": [
      " torch.Size([1, 1])\n",
      "torch.Size([1]) torch.Size([1, 1])\n",
      "torch.Size([1]) torch.Size([1, 1])\n",
      "torch.Size([1])"
     ]
    },
    {
     "name": "stderr",
     "output_type": "stream",
     "text": [
      "\r",
      "295it [00:18, 15.32it/s]"
     ]
    },
    {
     "name": "stdout",
     "output_type": "stream",
     "text": [
      " torch.Size([1, 1])\n",
      "torch.Size([1]) torch.Size([1, 1])\n",
      "torch.Size([1]) torch.Size([1, 1])\n",
      "torch.Size([1])"
     ]
    },
    {
     "name": "stderr",
     "output_type": "stream",
     "text": [
      "299it [00:19, 14.41it/s]"
     ]
    },
    {
     "name": "stdout",
     "output_type": "stream",
     "text": [
      " torch.Size([1, 1])\n",
      "torch.Size([1]) torch.Size([1, 1])\n",
      "torch.Size([1]) torch.Size([1, 1])\n"
     ]
    },
    {
     "name": "stderr",
     "output_type": "stream",
     "text": [
      "\r",
      "301it [00:19, 14.92it/s]"
     ]
    },
    {
     "name": "stdout",
     "output_type": "stream",
     "text": [
      "torch.Size([1]) torch.Size([1, 1])\n",
      "torch.Size([1]) torch.Size([1, 1])\n",
      "torch.Size([1]) torch.Size([1, 1])\n",
      "torch.Size([1])"
     ]
    },
    {
     "name": "stderr",
     "output_type": "stream",
     "text": [
      "305it [00:19, 15.29it/s]"
     ]
    },
    {
     "name": "stdout",
     "output_type": "stream",
     "text": [
      " torch.Size([1, 1])\n",
      "torch.Size([1]) torch.Size([1, 1])\n",
      "torch.Size([1]) torch.Size([1, 1])\n",
      "torch.Size([1])"
     ]
    },
    {
     "name": "stderr",
     "output_type": "stream",
     "text": [
      "\r",
      "307it [00:19, 14.95it/s]"
     ]
    },
    {
     "name": "stdout",
     "output_type": "stream",
     "text": [
      " torch.Size([1, 1])\n",
      "torch.Size([1]) torch.Size([1, 1])\n",
      "torch.Size([1]) torch.Size([1, 1])\n",
      "torch.Size([1])"
     ]
    },
    {
     "name": "stderr",
     "output_type": "stream",
     "text": [
      "311it [00:19, 15.59it/s]"
     ]
    },
    {
     "name": "stdout",
     "output_type": "stream",
     "text": [
      " torch.Size([1, 1])\n",
      "torch.Size([1]) torch.Size([1, 1])\n",
      "torch.Size([1]) torch.Size([1, 1])\n",
      "torch.Size([1])"
     ]
    },
    {
     "name": "stderr",
     "output_type": "stream",
     "text": [
      "\r",
      "313it [00:20, 15.50it/s]"
     ]
    },
    {
     "name": "stdout",
     "output_type": "stream",
     "text": [
      " torch.Size([1, 1])\n",
      "torch.Size([1]) torch.Size([1, 1])\n",
      "torch.Size([1]) torch.Size([1, 1])\n"
     ]
    },
    {
     "name": "stderr",
     "output_type": "stream",
     "text": [
      "317it [00:20, 14.90it/s]"
     ]
    },
    {
     "name": "stdout",
     "output_type": "stream",
     "text": [
      "torch.Size([1]) torch.Size([1, 1])\n",
      "torch.Size([1]) torch.Size([1, 1])\n",
      "torch.Size([1]) torch.Size([1, 1])\n",
      "torch.Size([1])"
     ]
    },
    {
     "name": "stderr",
     "output_type": "stream",
     "text": [
      "\r",
      "319it [00:20, 15.32it/s]"
     ]
    },
    {
     "name": "stdout",
     "output_type": "stream",
     "text": [
      " torch.Size([1, 1])\n",
      "torch.Size([1]) torch.Size([1, 1])\n",
      "torch.Size([1]) torch.Size([1, 1])\n",
      "torch.Size([1])"
     ]
    },
    {
     "name": "stderr",
     "output_type": "stream",
     "text": [
      "323it [00:20, 16.03it/s]"
     ]
    },
    {
     "name": "stdout",
     "output_type": "stream",
     "text": [
      " torch.Size([1, 1])\n",
      "torch.Size([1]) torch.Size([1, 1])\n",
      "torch.Size([1]) torch.Size([1, 1])\n",
      "torch.Size([1])"
     ]
    },
    {
     "name": "stderr",
     "output_type": "stream",
     "text": [
      "\r",
      "325it [00:20, 15.65it/s]"
     ]
    },
    {
     "name": "stdout",
     "output_type": "stream",
     "text": [
      " torch.Size([1, 1])\n",
      "torch.Size([1]) torch.Size([1, 1])\n",
      "torch.Size([1]) torch.Size([1, 1])\n",
      "torch.Size([1])"
     ]
    },
    {
     "name": "stderr",
     "output_type": "stream",
     "text": [
      "329it [00:21, 15.82it/s]"
     ]
    },
    {
     "name": "stdout",
     "output_type": "stream",
     "text": [
      " torch.Size([1, 1])\n",
      "torch.Size([1]) torch.Size([1, 1])\n",
      "torch.Size([1]) torch.Size([1, 1])\n",
      "torch.Size([1])"
     ]
    },
    {
     "name": "stderr",
     "output_type": "stream",
     "text": [
      "\r",
      "331it [00:21, 15.22it/s]"
     ]
    },
    {
     "name": "stdout",
     "output_type": "stream",
     "text": [
      " torch.Size([1, 1])\n",
      "torch.Size([1]) torch.Size([1, 1])\n",
      "torch.Size([1]) torch.Size([1, 1])\n"
     ]
    },
    {
     "name": "stderr",
     "output_type": "stream",
     "text": [
      "335it [00:21, 15.67it/s]"
     ]
    },
    {
     "name": "stdout",
     "output_type": "stream",
     "text": [
      "torch.Size([1]) torch.Size([1, 1])\n",
      "torch.Size([1]) torch.Size([1, 1])\n",
      "torch.Size([1]) torch.Size([1, 1])\n",
      "torch.Size([1]) torch.Size([1, 1])\n"
     ]
    },
    {
     "name": "stderr",
     "output_type": "stream",
     "text": [
      "339it [00:21, 16.61it/s]"
     ]
    },
    {
     "name": "stdout",
     "output_type": "stream",
     "text": [
      "torch.Size([1]) torch.Size([1, 1])\n",
      "torch.Size([1]) torch.Size([1, 1])\n",
      "torch.Size([1]) torch.Size([1, 1])\n",
      "torch.Size([1])"
     ]
    },
    {
     "name": "stderr",
     "output_type": "stream",
     "text": [
      "\r",
      "341it [00:21, 16.43it/s]"
     ]
    },
    {
     "name": "stdout",
     "output_type": "stream",
     "text": [
      " torch.Size([1, 1])\n",
      "torch.Size([1]) torch.Size([1, 1])\n",
      "torch.Size([1]) torch.Size([1, 1])\n"
     ]
    },
    {
     "name": "stderr",
     "output_type": "stream",
     "text": [
      "345it [00:22, 14.57it/s]"
     ]
    },
    {
     "name": "stdout",
     "output_type": "stream",
     "text": [
      "torch.Size([1]) torch.Size([1, 1])\n",
      "torch.Size([1]) torch.Size([1, 1])\n",
      "torch.Size([1]) torch.Size([1, 1])\n"
     ]
    },
    {
     "name": "stderr",
     "output_type": "stream",
     "text": [
      "\r",
      "347it [00:22, 14.74it/s]"
     ]
    },
    {
     "name": "stdout",
     "output_type": "stream",
     "text": [
      "torch.Size([1]) torch.Size([1, 1])\n",
      "torch.Size([1]) torch.Size([1, 1])\n",
      "torch.Size([1]) torch.Size([1, 1])\n",
      "torch.Size([1])"
     ]
    },
    {
     "name": "stderr",
     "output_type": "stream",
     "text": [
      "351it [00:22, 14.92it/s]"
     ]
    },
    {
     "name": "stdout",
     "output_type": "stream",
     "text": [
      " torch.Size([1, 1])\n",
      "torch.Size([1]) torch.Size([1, 1])\n",
      "torch.Size([1]) torch.Size([1, 1])\n",
      "torch.Size([1])"
     ]
    },
    {
     "name": "stderr",
     "output_type": "stream",
     "text": [
      "\r",
      "353it [00:22, 15.52it/s]"
     ]
    },
    {
     "name": "stdout",
     "output_type": "stream",
     "text": [
      " torch.Size([1, 1])\n",
      "torch.Size([1]) torch.Size([1, 1])\n",
      "torch.Size([1]) torch.Size([1, 1])\n",
      "torch.Size([1])"
     ]
    },
    {
     "name": "stderr",
     "output_type": "stream",
     "text": [
      "357it [00:22, 15.42it/s]"
     ]
    },
    {
     "name": "stdout",
     "output_type": "stream",
     "text": [
      " torch.Size([1, 1])\n",
      "torch.Size([1]) torch.Size([1, 1])\n",
      "torch.Size([1]) torch.Size([1, 1])\n",
      "torch.Size([1])"
     ]
    },
    {
     "name": "stderr",
     "output_type": "stream",
     "text": [
      "\r",
      "359it [00:23, 15.55it/s]"
     ]
    },
    {
     "name": "stdout",
     "output_type": "stream",
     "text": [
      " torch.Size([1, 1])\n",
      "torch.Size([1]) torch.Size([1, 1])\n",
      "torch.Size([1]) torch.Size([1, 1])\n",
      "torch.Size([1])"
     ]
    },
    {
     "name": "stderr",
     "output_type": "stream",
     "text": [
      "363it [00:23, 14.91it/s]"
     ]
    },
    {
     "name": "stdout",
     "output_type": "stream",
     "text": [
      " torch.Size([1, 1])\n",
      "torch.Size([1]) torch.Size([1, 1])\n",
      "torch.Size([1]) torch.Size([1, 1])\n",
      "torch.Size([1])"
     ]
    },
    {
     "name": "stderr",
     "output_type": "stream",
     "text": [
      "\r",
      "365it [00:23, 15.44it/s]"
     ]
    },
    {
     "name": "stdout",
     "output_type": "stream",
     "text": [
      " torch.Size([1, 1])\n",
      "torch.Size([1]) torch.Size([1, 1])\n",
      "torch.Size([1]) torch.Size([1, 1])\n",
      "torch.Size([1])"
     ]
    },
    {
     "name": "stderr",
     "output_type": "stream",
     "text": [
      "369it [00:23, 15.55it/s]"
     ]
    },
    {
     "name": "stdout",
     "output_type": "stream",
     "text": [
      " torch.Size([1, 1])\n",
      "torch.Size([1]) torch.Size([1, 1])\n",
      "torch.Size([1]) torch.Size([1, 1])\n",
      "torch.Size([1])"
     ]
    },
    {
     "name": "stderr",
     "output_type": "stream",
     "text": [
      "373it [00:23, 15.61it/s]"
     ]
    },
    {
     "name": "stdout",
     "output_type": "stream",
     "text": [
      " torch.Size([1, 1])\n",
      "torch.Size([1]) torch.Size([1, 1])\n",
      "torch.Size([1]) torch.Size([1, 1])\n",
      "torch.Size([1]) torch.Size([1, 1])\n"
     ]
    },
    {
     "name": "stderr",
     "output_type": "stream",
     "text": [
      "\r",
      "375it [00:24, 15.41it/s]"
     ]
    },
    {
     "name": "stdout",
     "output_type": "stream",
     "text": [
      "torch.Size([1]) torch.Size([1, 1])\n",
      "torch.Size([1]) torch.Size([1, 1])\n",
      "torch.Size([1]) torch.Size([1, 1])\n",
      "torch.Size([1])"
     ]
    },
    {
     "name": "stderr",
     "output_type": "stream",
     "text": [
      "379it [00:24, 15.43it/s]"
     ]
    },
    {
     "name": "stdout",
     "output_type": "stream",
     "text": [
      " torch.Size([1, 1])\n",
      "torch.Size([1]) torch.Size([1, 1])\n",
      "torch.Size([1]) torch.Size([1, 1])\n",
      "torch.Size([1]) torch.Size([1, 1])\n"
     ]
    },
    {
     "name": "stderr",
     "output_type": "stream",
     "text": [
      "383it [00:24, 15.61it/s]"
     ]
    },
    {
     "name": "stdout",
     "output_type": "stream",
     "text": [
      "torch.Size([1]) torch.Size([1, 1])\n",
      "torch.Size([1]) torch.Size([1, 1])\n",
      "torch.Size([1]) torch.Size([1, 1])\n",
      "torch.Size([1])"
     ]
    },
    {
     "name": "stderr",
     "output_type": "stream",
     "text": [
      "\r",
      "385it [00:24, 16.19it/s]"
     ]
    },
    {
     "name": "stdout",
     "output_type": "stream",
     "text": [
      " torch.Size([1, 1])\n",
      "torch.Size([1]) torch.Size([1, 1])\n",
      "torch.Size([1]) torch.Size([1, 1])\n"
     ]
    },
    {
     "name": "stderr",
     "output_type": "stream",
     "text": [
      "389it [00:24, 15.44it/s]"
     ]
    },
    {
     "name": "stdout",
     "output_type": "stream",
     "text": [
      "torch.Size([1]) torch.Size([1, 1])\n",
      "torch.Size([1]) torch.Size([1, 1])\n",
      "torch.Size([1]) torch.Size([1, 1])\n",
      "torch.Size([1])"
     ]
    },
    {
     "name": "stderr",
     "output_type": "stream",
     "text": [
      "\r",
      "391it [00:25, 15.11it/s]"
     ]
    },
    {
     "name": "stdout",
     "output_type": "stream",
     "text": [
      " torch.Size([1, 1])\n",
      "torch.Size([1]) torch.Size([1, 1])\n",
      "torch.Size([1]) torch.Size([1, 1])\n"
     ]
    },
    {
     "name": "stderr",
     "output_type": "stream",
     "text": [
      "395it [00:25, 15.01it/s]"
     ]
    },
    {
     "name": "stdout",
     "output_type": "stream",
     "text": [
      "torch.Size([1]) torch.Size([1, 1])\n",
      "torch.Size([1]) torch.Size([1, 1])\n",
      "torch.Size([1]) torch.Size([1, 1])\n",
      "torch.Size([1])"
     ]
    },
    {
     "name": "stderr",
     "output_type": "stream",
     "text": [
      "\r",
      "397it [00:25, 15.51it/s]"
     ]
    },
    {
     "name": "stdout",
     "output_type": "stream",
     "text": [
      " torch.Size([1, 1])\n",
      "torch.Size([1]) torch.Size([1, 1])\n",
      "torch.Size([1]) torch.Size([1, 1])\n",
      "torch.Size([1])"
     ]
    },
    {
     "name": "stderr",
     "output_type": "stream",
     "text": [
      "401it [00:25, 16.50it/s]"
     ]
    },
    {
     "name": "stdout",
     "output_type": "stream",
     "text": [
      " torch.Size([1, 1])\n",
      "torch.Size([1]) torch.Size([1, 1])\n",
      "torch.Size([1]) torch.Size([1, 1])\n",
      "torch.Size([1]) torch.Size([1, 1])\n"
     ]
    },
    {
     "name": "stderr",
     "output_type": "stream",
     "text": [
      "405it [00:26, 15.85it/s]"
     ]
    },
    {
     "name": "stdout",
     "output_type": "stream",
     "text": [
      "torch.Size([1]) torch.Size([1, 1])\n",
      "torch.Size([1]) torch.Size([1, 1])\n",
      "torch.Size([1]) torch.Size([1, 1])\n",
      "torch.Size([1])"
     ]
    },
    {
     "name": "stderr",
     "output_type": "stream",
     "text": [
      "\r",
      "407it [00:26, 15.67it/s]"
     ]
    },
    {
     "name": "stdout",
     "output_type": "stream",
     "text": [
      " torch.Size([1, 1])\n",
      "torch.Size([1]) torch.Size([1, 1])\n",
      "torch.Size([1]) torch.Size([1, 1])\n",
      "torch.Size([1])"
     ]
    },
    {
     "name": "stderr",
     "output_type": "stream",
     "text": [
      "411it [00:26, 14.80it/s]"
     ]
    },
    {
     "name": "stdout",
     "output_type": "stream",
     "text": [
      " torch.Size([1, 1])\n",
      "torch.Size([1]) torch.Size([1, 1])\n",
      "torch.Size([1]) torch.Size([1, 1])\n",
      "torch.Size([1])"
     ]
    },
    {
     "name": "stderr",
     "output_type": "stream",
     "text": [
      "\r",
      "413it [00:26, 14.58it/s]"
     ]
    },
    {
     "name": "stdout",
     "output_type": "stream",
     "text": [
      " torch.Size([1, 1])\n",
      "torch.Size([1]) torch.Size([1, 1])\n",
      "torch.Size([1]) torch.Size([1, 1])\n"
     ]
    },
    {
     "name": "stderr",
     "output_type": "stream",
     "text": [
      "417it [00:26, 14.86it/s]"
     ]
    },
    {
     "name": "stdout",
     "output_type": "stream",
     "text": [
      "torch.Size([1]) torch.Size([1, 1])\n",
      "torch.Size([1]) torch.Size([1, 1])\n",
      "torch.Size([1]) torch.Size([1, 1])\n",
      "torch.Size([1])"
     ]
    },
    {
     "name": "stderr",
     "output_type": "stream",
     "text": [
      "\r",
      "419it [00:26, 14.95it/s]"
     ]
    },
    {
     "name": "stdout",
     "output_type": "stream",
     "text": [
      " torch.Size([1, 1])\n",
      "torch.Size([1]) torch.Size([1, 1])\n",
      "torch.Size([1]) torch.Size([1, 1])\n",
      "torch.Size([1])"
     ]
    },
    {
     "name": "stderr",
     "output_type": "stream",
     "text": [
      "423it [00:27, 15.30it/s]"
     ]
    },
    {
     "name": "stdout",
     "output_type": "stream",
     "text": [
      " torch.Size([1, 1])\n",
      "torch.Size([1]) torch.Size([1, 1])\n",
      "torch.Size([1]) torch.Size([1, 1])\n",
      "torch.Size([1])"
     ]
    },
    {
     "name": "stderr",
     "output_type": "stream",
     "text": [
      "427it [00:27, 15.92it/s]"
     ]
    },
    {
     "name": "stdout",
     "output_type": "stream",
     "text": [
      " torch.Size([1, 1])\n",
      "torch.Size([1]) torch.Size([1, 1])\n",
      "torch.Size([1]) torch.Size([1, 1])\n",
      "torch.Size([1]) torch.Size([1, 1])\n"
     ]
    },
    {
     "name": "stderr",
     "output_type": "stream",
     "text": [
      "\r",
      "429it [00:27, 16.06it/s]"
     ]
    },
    {
     "name": "stdout",
     "output_type": "stream",
     "text": [
      "torch.Size([1]) torch.Size([1, 1])\n",
      "torch.Size([1]) torch.Size([1, 1])\n",
      "torch.Size([1]) torch.Size([1, 1])\n",
      "torch.Size([1]) torch.Size([1, 1])\n"
     ]
    },
    {
     "name": "stderr",
     "output_type": "stream",
     "text": [
      "433it [00:27, 15.11it/s]"
     ]
    },
    {
     "name": "stdout",
     "output_type": "stream",
     "text": [
      "torch.Size([1]) torch.Size([1, 1])\n",
      "torch.Size([1]) torch.Size([1, 1])\n",
      "torch.Size([1]) torch.Size([1, 1])\n",
      "torch.Size([1])"
     ]
    },
    {
     "name": "stderr",
     "output_type": "stream",
     "text": [
      "437it [00:28, 16.06it/s]"
     ]
    },
    {
     "name": "stdout",
     "output_type": "stream",
     "text": [
      " torch.Size([1, 1])\n",
      "torch.Size([1]) torch.Size([1, 1])\n",
      "torch.Size([1]) torch.Size([1, 1])\n",
      "torch.Size([1])"
     ]
    },
    {
     "name": "stderr",
     "output_type": "stream",
     "text": [
      "\r",
      "439it [00:28, 15.74it/s]"
     ]
    },
    {
     "name": "stdout",
     "output_type": "stream",
     "text": [
      " torch.Size([1, 1])\n",
      "torch.Size([1]) torch.Size([1, 1])\n",
      "torch.Size([1]) torch.Size([1, 1])\n",
      "torch.Size([1])"
     ]
    },
    {
     "name": "stderr",
     "output_type": "stream",
     "text": [
      "443it [00:28, 16.11it/s]"
     ]
    },
    {
     "name": "stdout",
     "output_type": "stream",
     "text": [
      " torch.Size([1, 1])\n",
      "torch.Size([1]) torch.Size([1, 1])\n",
      "torch.Size([1]) torch.Size([1, 1])\n",
      "torch.Size([1]) torch.Size([1, 1])\n"
     ]
    },
    {
     "name": "stderr",
     "output_type": "stream",
     "text": [
      "447it [00:28, 16.25it/s]"
     ]
    },
    {
     "name": "stdout",
     "output_type": "stream",
     "text": [
      "torch.Size([1]) torch.Size([1, 1])\n",
      "torch.Size([1]) torch.Size([1, 1])\n",
      "torch.Size([1]) torch.Size([1, 1])\n"
     ]
    },
    {
     "name": "stderr",
     "output_type": "stream",
     "text": [
      "\r",
      "449it [00:28, 14.68it/s]"
     ]
    },
    {
     "name": "stdout",
     "output_type": "stream",
     "text": [
      "torch.Size([1]) torch.Size([1, 1])\n",
      "torch.Size([1]) torch.Size([1, 1])\n",
      "torch.Size([1]) torch.Size([1, 1])\n",
      "torch.Size([1])"
     ]
    },
    {
     "name": "stderr",
     "output_type": "stream",
     "text": [
      "453it [00:29, 14.77it/s]"
     ]
    },
    {
     "name": "stdout",
     "output_type": "stream",
     "text": [
      " torch.Size([1, 1])\n",
      "torch.Size([1]) torch.Size([1, 1])\n",
      "torch.Size([1]) torch.Size([1, 1])\n",
      "torch.Size([1])"
     ]
    },
    {
     "name": "stderr",
     "output_type": "stream",
     "text": [
      "\r",
      "455it [00:29, 15.09it/s]"
     ]
    },
    {
     "name": "stdout",
     "output_type": "stream",
     "text": [
      " torch.Size([1, 1])\n",
      "torch.Size([1]) torch.Size([1, 1])\n",
      "torch.Size([1]) torch.Size([1, 1])\n",
      "torch.Size([1])"
     ]
    },
    {
     "name": "stderr",
     "output_type": "stream",
     "text": [
      "459it [00:29, 15.69it/s]"
     ]
    },
    {
     "name": "stdout",
     "output_type": "stream",
     "text": [
      " torch.Size([1, 1])\n",
      "torch.Size([1]) torch.Size([1, 1])\n",
      "torch.Size([1]) torch.Size([1, 1])\n",
      "torch.Size([1])"
     ]
    },
    {
     "name": "stderr",
     "output_type": "stream",
     "text": [
      "463it [00:29, 16.74it/s]"
     ]
    },
    {
     "name": "stdout",
     "output_type": "stream",
     "text": [
      " torch.Size([1, 1])\n",
      "torch.Size([1]) torch.Size([1, 1])\n",
      "torch.Size([1]) torch.Size([1, 1])\n",
      "torch.Size([1]) torch.Size([1, 1])\n"
     ]
    },
    {
     "name": "stderr",
     "output_type": "stream",
     "text": [
      "\r",
      "465it [00:29, 16.60it/s]"
     ]
    },
    {
     "name": "stdout",
     "output_type": "stream",
     "text": [
      "torch.Size([1]) torch.Size([1, 1])\n",
      "torch.Size([1]) torch.Size([1, 1])\n",
      "torch.Size([1]) torch.Size([1, 1])\n",
      "torch.Size([1])"
     ]
    },
    {
     "name": "stderr",
     "output_type": "stream",
     "text": [
      "469it [00:30, 15.73it/s]"
     ]
    },
    {
     "name": "stdout",
     "output_type": "stream",
     "text": [
      " torch.Size([1, 1])\n",
      "torch.Size([1]) torch.Size([1, 1])\n",
      "torch.Size([1]) torch.Size([1, 1])\n",
      "torch.Size([1])"
     ]
    },
    {
     "name": "stderr",
     "output_type": "stream",
     "text": [
      "\r",
      "471it [00:30, 15.89it/s]"
     ]
    },
    {
     "name": "stdout",
     "output_type": "stream",
     "text": [
      " torch.Size([1, 1])\n",
      "torch.Size([1]) torch.Size([1, 1])\n",
      "torch.Size([1]) torch.Size([1, 1])\n",
      "torch.Size([1])"
     ]
    },
    {
     "name": "stderr",
     "output_type": "stream",
     "text": [
      "475it [00:30, 16.49it/s]"
     ]
    },
    {
     "name": "stdout",
     "output_type": "stream",
     "text": [
      " torch.Size([1, 1])\n",
      "torch.Size([1]) torch.Size([1, 1])\n",
      "torch.Size([1]) torch.Size([1, 1])\n",
      "torch.Size([1]) torch.Size([1, 1])\n"
     ]
    },
    {
     "name": "stderr",
     "output_type": "stream",
     "text": [
      "479it [00:30, 16.00it/s]"
     ]
    },
    {
     "name": "stdout",
     "output_type": "stream",
     "text": [
      "torch.Size([1]) torch.Size([1, 1])\n",
      "torch.Size([1]) torch.Size([1, 1])\n",
      "torch.Size([1]) torch.Size([1, 1])\n",
      "torch.Size([1])"
     ]
    },
    {
     "name": "stderr",
     "output_type": "stream",
     "text": [
      "\r",
      "481it [00:30, 15.82it/s]"
     ]
    },
    {
     "name": "stdout",
     "output_type": "stream",
     "text": [
      " torch.Size([1, 1])\n",
      "torch.Size([1]) torch.Size([1, 1])\n",
      "torch.Size([1]) torch.Size([1, 1])\n",
      "torch.Size([1])"
     ]
    },
    {
     "name": "stderr",
     "output_type": "stream",
     "text": [
      "485it [00:31, 14.96it/s]"
     ]
    },
    {
     "name": "stdout",
     "output_type": "stream",
     "text": [
      " torch.Size([1, 1])\n",
      "torch.Size([1]) torch.Size([1, 1])\n",
      "torch.Size([1]) torch.Size([1, 1])\n",
      "torch.Size([1])"
     ]
    },
    {
     "name": "stderr",
     "output_type": "stream",
     "text": [
      "489it [00:31, 16.01it/s]"
     ]
    },
    {
     "name": "stdout",
     "output_type": "stream",
     "text": [
      " torch.Size([1, 1])\n",
      "torch.Size([1]) torch.Size([1, 1])\n",
      "torch.Size([1]) torch.Size([1, 1])\n",
      "torch.Size([1]) torch.Size([1, 1])\n"
     ]
    },
    {
     "name": "stderr",
     "output_type": "stream",
     "text": [
      "\r",
      "491it [00:31, 15.67it/s]"
     ]
    },
    {
     "name": "stdout",
     "output_type": "stream",
     "text": [
      "torch.Size([1]) torch.Size([1, 1])\n",
      "torch.Size([1]) torch.Size([1, 1])\n",
      "torch.Size([1]) torch.Size([1, 1])\n",
      "torch.Size([1])"
     ]
    },
    {
     "name": "stderr",
     "output_type": "stream",
     "text": [
      "495it [00:31, 16.06it/s]"
     ]
    },
    {
     "name": "stdout",
     "output_type": "stream",
     "text": [
      " torch.Size([1, 1])\n",
      "torch.Size([1]) torch.Size([1, 1])\n",
      "torch.Size([1]) torch.Size([1, 1])\n",
      "torch.Size([1]) torch.Size([1, 1])\n"
     ]
    },
    {
     "name": "stderr",
     "output_type": "stream",
     "text": [
      "499it [00:32, 15.90it/s]"
     ]
    },
    {
     "name": "stdout",
     "output_type": "stream",
     "text": [
      "torch.Size([1]) torch.Size([1, 1])\n",
      "torch.Size([1]) torch.Size([1, 1])\n",
      "torch.Size([1]) torch.Size([1, 1])\n",
      "torch.Size([1])"
     ]
    },
    {
     "name": "stderr",
     "output_type": "stream",
     "text": [
      "\r",
      "501it [00:32, 15.90it/s]"
     ]
    },
    {
     "name": "stdout",
     "output_type": "stream",
     "text": [
      " torch.Size([1, 1])\n",
      "torch.Size([1]) torch.Size([1, 1])\n",
      "torch.Size([1]) torch.Size([1, 1])\n"
     ]
    },
    {
     "name": "stderr",
     "output_type": "stream",
     "text": [
      "505it [00:32, 15.48it/s]"
     ]
    },
    {
     "name": "stdout",
     "output_type": "stream",
     "text": [
      "torch.Size([1]) torch.Size([1, 1])\n",
      "torch.Size([1]) torch.Size([1, 1])\n",
      "torch.Size([1]) torch.Size([1, 1])\n",
      "torch.Size([1])"
     ]
    },
    {
     "name": "stderr",
     "output_type": "stream",
     "text": [
      "509it [00:32, 16.19it/s]"
     ]
    },
    {
     "name": "stdout",
     "output_type": "stream",
     "text": [
      " torch.Size([1, 1])\n",
      "torch.Size([1]) torch.Size([1, 1])\n",
      "torch.Size([1]) torch.Size([1, 1])\n",
      "torch.Size([1]) torch.Size([1, 1])\n"
     ]
    },
    {
     "name": "stderr",
     "output_type": "stream",
     "text": [
      "513it [00:32, 16.73it/s]"
     ]
    },
    {
     "name": "stdout",
     "output_type": "stream",
     "text": [
      "torch.Size([1]) torch.Size([1, 1])\n",
      "torch.Size([1]) torch.Size([1, 1])\n",
      "torch.Size([1]) torch.Size([1, 1])\n",
      "torch.Size([1]) torch.Size([1, 1])\n"
     ]
    },
    {
     "name": "stderr",
     "output_type": "stream",
     "text": [
      "\r",
      "515it [00:32, 16.97it/s]"
     ]
    },
    {
     "name": "stdout",
     "output_type": "stream",
     "text": [
      "torch.Size([1]) torch.Size([1, 1])\n",
      "torch.Size([1]) torch.Size([1, 1])\n",
      "torch.Size([1]) torch.Size([1, 1])\n",
      "torch.Size([1])"
     ]
    },
    {
     "name": "stderr",
     "output_type": "stream",
     "text": [
      "519it [00:33, 16.20it/s]"
     ]
    },
    {
     "name": "stdout",
     "output_type": "stream",
     "text": [
      " torch.Size([1, 1])\n",
      "torch.Size([1]) torch.Size([1, 1])\n",
      "torch.Size([1]) torch.Size([1, 1])\n",
      "torch.Size([1])"
     ]
    },
    {
     "name": "stderr",
     "output_type": "stream",
     "text": [
      "\r",
      "521it [00:33, 16.15it/s]"
     ]
    },
    {
     "name": "stdout",
     "output_type": "stream",
     "text": [
      " torch.Size([1, 1])\n",
      "torch.Size([1]) torch.Size([1, 1])\n",
      "torch.Size([1]) torch.Size([1, 1])\n",
      "torch.Size([1])"
     ]
    },
    {
     "name": "stderr",
     "output_type": "stream",
     "text": [
      "525it [00:33, 15.22it/s]"
     ]
    },
    {
     "name": "stdout",
     "output_type": "stream",
     "text": [
      " torch.Size([1, 1])\n",
      "torch.Size([1]) torch.Size([1, 1])\n",
      "torch.Size([1]) torch.Size([1, 1])\n",
      "torch.Size([1])"
     ]
    },
    {
     "name": "stderr",
     "output_type": "stream",
     "text": [
      "\r",
      "527it [00:33, 15.82it/s]"
     ]
    },
    {
     "name": "stdout",
     "output_type": "stream",
     "text": [
      " torch.Size([1, 1])\n",
      "torch.Size([1]) torch.Size([1, 1])\n",
      "torch.Size([1]) torch.Size([1, 1])\n",
      "torch.Size([1])"
     ]
    },
    {
     "name": "stderr",
     "output_type": "stream",
     "text": [
      "531it [00:34, 15.83it/s]"
     ]
    },
    {
     "name": "stdout",
     "output_type": "stream",
     "text": [
      " torch.Size([1, 1])\n",
      "torch.Size([1]) torch.Size([1, 1])\n",
      "torch.Size([1]) torch.Size([1, 1])\n",
      "torch.Size([1])"
     ]
    },
    {
     "name": "stderr",
     "output_type": "stream",
     "text": [
      "535it [00:34, 16.55it/s]"
     ]
    },
    {
     "name": "stdout",
     "output_type": "stream",
     "text": [
      " torch.Size([1, 1])\n",
      "torch.Size([1]) torch.Size([1, 1])\n",
      "torch.Size([1]) torch.Size([1, 1])\n",
      "torch.Size([1]) torch.Size([1, 1])\n"
     ]
    },
    {
     "name": "stderr",
     "output_type": "stream",
     "text": [
      "\r",
      "537it [00:34, 16.88it/s]"
     ]
    },
    {
     "name": "stdout",
     "output_type": "stream",
     "text": [
      "torch.Size([1]) torch.Size([1, 1])\n",
      "torch.Size([1]) torch.Size([1, 1])\n",
      "torch.Size([1]) torch.Size([1, 1])\n",
      "torch.Size([1])"
     ]
    },
    {
     "name": "stderr",
     "output_type": "stream",
     "text": [
      "541it [00:34, 16.51it/s]"
     ]
    },
    {
     "name": "stdout",
     "output_type": "stream",
     "text": [
      " torch.Size([1, 1])\n",
      "torch.Size([1]) torch.Size([1, 1])\n",
      "torch.Size([1]) torch.Size([1, 1])\n",
      "torch.Size([1])"
     ]
    },
    {
     "name": "stderr",
     "output_type": "stream",
     "text": [
      "\r",
      "543it [00:34, 15.71it/s]"
     ]
    },
    {
     "name": "stdout",
     "output_type": "stream",
     "text": [
      " torch.Size([1, 1])\n",
      "torch.Size([1]) torch.Size([1, 1])\n",
      "torch.Size([1]) torch.Size([1, 1])\n",
      "torch.Size([1])"
     ]
    },
    {
     "name": "stderr",
     "output_type": "stream",
     "text": [
      "547it [00:35, 16.07it/s]"
     ]
    },
    {
     "name": "stdout",
     "output_type": "stream",
     "text": [
      " torch.Size([1, 1])\n",
      "torch.Size([1]) torch.Size([1, 1])\n",
      "torch.Size([1]) torch.Size([1, 1])\n",
      "torch.Size([1])"
     ]
    },
    {
     "name": "stderr",
     "output_type": "stream",
     "text": [
      "551it [00:35, 16.48it/s]"
     ]
    },
    {
     "name": "stdout",
     "output_type": "stream",
     "text": [
      " torch.Size([1, 1])\n",
      "torch.Size([1]) torch.Size([1, 1])\n",
      "torch.Size([1]) torch.Size([1, 1])\n",
      "torch.Size([1]) torch.Size([1, 1])\n"
     ]
    },
    {
     "name": "stderr",
     "output_type": "stream",
     "text": [
      "\r",
      "553it [00:35, 15.95it/s]"
     ]
    },
    {
     "name": "stdout",
     "output_type": "stream",
     "text": [
      "torch.Size([1]) torch.Size([1, 1])\n",
      "torch.Size([1]) torch.Size([1, 1])\n",
      "torch.Size([1]) torch.Size([1, 1])\n"
     ]
    },
    {
     "name": "stderr",
     "output_type": "stream",
     "text": [
      "557it [00:35, 16.07it/s]"
     ]
    },
    {
     "name": "stdout",
     "output_type": "stream",
     "text": [
      "torch.Size([1]) torch.Size([1, 1])\n",
      "torch.Size([1]) torch.Size([1, 1])\n",
      "torch.Size([1]) torch.Size([1, 1])\n",
      "torch.Size([1]) torch.Size([1, 1])\n"
     ]
    },
    {
     "name": "stderr",
     "output_type": "stream",
     "text": [
      "561it [00:35, 16.26it/s]"
     ]
    },
    {
     "name": "stdout",
     "output_type": "stream",
     "text": [
      "torch.Size([1]) torch.Size([1, 1])\n",
      "torch.Size([1]) torch.Size([1, 1])\n",
      "torch.Size([1]) torch.Size([1, 1])\n",
      "torch.Size([1])"
     ]
    },
    {
     "name": "stderr",
     "output_type": "stream",
     "text": [
      "\r",
      "563it [00:35, 15.91it/s]"
     ]
    },
    {
     "name": "stdout",
     "output_type": "stream",
     "text": [
      " torch.Size([1, 1])\n",
      "torch.Size([1]) torch.Size([1, 1])\n",
      "torch.Size([1]) torch.Size([1, 1])\n",
      "torch.Size([1])"
     ]
    },
    {
     "name": "stderr",
     "output_type": "stream",
     "text": [
      "567it [00:36, 15.88it/s]"
     ]
    },
    {
     "name": "stdout",
     "output_type": "stream",
     "text": [
      " torch.Size([1, 1])\n",
      "torch.Size([1]) torch.Size([1, 1])\n",
      "torch.Size([1]) torch.Size([1, 1])\n",
      "torch.Size([1]) "
     ]
    },
    {
     "name": "stderr",
     "output_type": "stream",
     "text": [
      "\r",
      "569it [00:36, 15.66it/s]"
     ]
    },
    {
     "name": "stdout",
     "output_type": "stream",
     "text": [
      "torch.Size([1, 1])\n",
      "torch.Size([1]) torch.Size([1, 1])\n",
      "torch.Size([1]) torch.Size([1, 1])\n",
      "torch.Size([1])"
     ]
    },
    {
     "name": "stderr",
     "output_type": "stream",
     "text": [
      "573it [00:36, 15.40it/s]"
     ]
    },
    {
     "name": "stdout",
     "output_type": "stream",
     "text": [
      " torch.Size([1, 1])\n",
      "torch.Size([1]) torch.Size([1, 1])\n",
      "torch.Size([1]) torch.Size([1, 1])\n",
      "torch.Size([1])"
     ]
    },
    {
     "name": "stderr",
     "output_type": "stream",
     "text": [
      "\r",
      "575it [00:36, 14.95it/s]"
     ]
    },
    {
     "name": "stdout",
     "output_type": "stream",
     "text": [
      " torch.Size([1, 1])\n",
      "torch.Size([1]) torch.Size([1, 1])\n",
      "torch.Size([1]) torch.Size([1, 1])\n",
      "torch.Size([1])"
     ]
    },
    {
     "name": "stderr",
     "output_type": "stream",
     "text": [
      "579it [00:37, 15.16it/s]"
     ]
    },
    {
     "name": "stdout",
     "output_type": "stream",
     "text": [
      " torch.Size([1, 1])\n",
      "torch.Size([1]) torch.Size([1, 1])\n",
      "torch.Size([1]) torch.Size([1, 1])\n",
      "torch.Size([1])"
     ]
    },
    {
     "name": "stderr",
     "output_type": "stream",
     "text": [
      "583it [00:37, 15.95it/s]"
     ]
    },
    {
     "name": "stdout",
     "output_type": "stream",
     "text": [
      " torch.Size([1, 1])\n",
      "torch.Size([1]) torch.Size([1, 1])\n",
      "torch.Size([1]) torch.Size([1, 1])\n",
      "torch.Size([1]) torch.Size([1, 1])\n"
     ]
    },
    {
     "name": "stderr",
     "output_type": "stream",
     "text": [
      "587it [00:37, 16.54it/s]"
     ]
    },
    {
     "name": "stdout",
     "output_type": "stream",
     "text": [
      "torch.Size([1]) torch.Size([1, 1])\n",
      "torch.Size([1]) torch.Size([1, 1])\n",
      "torch.Size([1]) torch.Size([1, 1])\n",
      "torch.Size([1]) torch.Size([1, 1])\n"
     ]
    },
    {
     "name": "stderr",
     "output_type": "stream",
     "text": [
      "\r",
      "589it [00:37, 15.69it/s]"
     ]
    },
    {
     "name": "stdout",
     "output_type": "stream",
     "text": [
      "torch.Size([1]) torch.Size([1, 1])\n",
      "torch.Size([1]) torch.Size([1, 1])\n",
      "torch.Size([1]) torch.Size([1, 1])\n"
     ]
    },
    {
     "name": "stderr",
     "output_type": "stream",
     "text": [
      "593it [00:37, 15.57it/s]"
     ]
    },
    {
     "name": "stdout",
     "output_type": "stream",
     "text": [
      "torch.Size([1]) torch.Size([1, 1])\n",
      "torch.Size([1]) torch.Size([1, 1])\n",
      "torch.Size([1]) torch.Size([1, 1])\n",
      "torch.Size([1])"
     ]
    },
    {
     "name": "stderr",
     "output_type": "stream",
     "text": [
      "\r",
      "595it [00:38, 14.93it/s]"
     ]
    },
    {
     "name": "stdout",
     "output_type": "stream",
     "text": [
      " torch.Size([1, 1])\n",
      "torch.Size([1]) torch.Size([1, 1])\n",
      "torch.Size([1]) torch.Size([1, 1])\n",
      "torch.Size([1])"
     ]
    },
    {
     "name": "stderr",
     "output_type": "stream",
     "text": [
      "599it [00:38, 16.03it/s]"
     ]
    },
    {
     "name": "stdout",
     "output_type": "stream",
     "text": [
      " torch.Size([1, 1])\n",
      "torch.Size([1]) torch.Size([1, 1])\n",
      "torch.Size([1]) torch.Size([1, 1])\n",
      "torch.Size([1]) torch.Size([1, 1])\n"
     ]
    },
    {
     "name": "stderr",
     "output_type": "stream",
     "text": [
      "603it [00:38, 16.08it/s]"
     ]
    },
    {
     "name": "stdout",
     "output_type": "stream",
     "text": [
      "torch.Size([1]) torch.Size([1, 1])\n",
      "torch.Size([1]) torch.Size([1, 1])\n",
      "torch.Size([1]) torch.Size([1, 1])\n",
      "torch.Size([1])"
     ]
    },
    {
     "name": "stderr",
     "output_type": "stream",
     "text": [
      "\r",
      "605it [00:38, 15.87it/s]"
     ]
    },
    {
     "name": "stdout",
     "output_type": "stream",
     "text": [
      " torch.Size([1, 1])\n",
      "torch.Size([1]) torch.Size([1, 1])\n",
      "torch.Size([1]) torch.Size([1, 1])\n",
      "torch.Size([1])"
     ]
    },
    {
     "name": "stderr",
     "output_type": "stream",
     "text": [
      "609it [00:38, 15.68it/s]"
     ]
    },
    {
     "name": "stdout",
     "output_type": "stream",
     "text": [
      " torch.Size([1, 1])\n",
      "torch.Size([1]) torch.Size([1, 1])\n",
      "torch.Size([1]) torch.Size([1, 1])\n",
      "torch.Size([1])"
     ]
    },
    {
     "name": "stderr",
     "output_type": "stream",
     "text": [
      "\r",
      "611it [00:39, 15.70it/s]"
     ]
    },
    {
     "name": "stdout",
     "output_type": "stream",
     "text": [
      " torch.Size([1, 1])\n",
      "torch.Size([1]) torch.Size([1, 1])\n",
      "torch.Size([1]) torch.Size([1, 1])\n"
     ]
    },
    {
     "name": "stderr",
     "output_type": "stream",
     "text": [
      "615it [00:39, 15.53it/s]"
     ]
    },
    {
     "name": "stdout",
     "output_type": "stream",
     "text": [
      "torch.Size([1]) torch.Size([1, 1])\n",
      "torch.Size([1]) torch.Size([1, 1])\n",
      "torch.Size([1]) torch.Size([1, 1])\n",
      "torch.Size([1])"
     ]
    },
    {
     "name": "stderr",
     "output_type": "stream",
     "text": [
      "\r",
      "617it [00:39, 15.46it/s]"
     ]
    },
    {
     "name": "stdout",
     "output_type": "stream",
     "text": [
      " torch.Size([1, 1])\n",
      "torch.Size([1]) torch.Size([1, 1])\n",
      "torch.Size([1]) torch.Size([1, 1])\n",
      "torch.Size([1])"
     ]
    },
    {
     "name": "stderr",
     "output_type": "stream",
     "text": [
      "621it [00:39, 15.50it/s]"
     ]
    },
    {
     "name": "stdout",
     "output_type": "stream",
     "text": [
      " torch.Size([1, 1])\n",
      "torch.Size([1]) torch.Size([1, 1])\n",
      "torch.Size([1]) torch.Size([1, 1])\n",
      "torch.Size([1])"
     ]
    },
    {
     "name": "stderr",
     "output_type": "stream",
     "text": [
      "625it [00:39, 16.56it/s]"
     ]
    },
    {
     "name": "stdout",
     "output_type": "stream",
     "text": [
      " torch.Size([1, 1])\n",
      "torch.Size([1]) torch.Size([1, 1])\n",
      "torch.Size([1]) torch.Size([1, 1])\n",
      "torch.Size([1]) torch.Size([1, 1])\n"
     ]
    },
    {
     "name": "stderr",
     "output_type": "stream",
     "text": [
      "\r",
      "627it [00:40, 16.16it/s]"
     ]
    },
    {
     "name": "stdout",
     "output_type": "stream",
     "text": [
      "torch.Size([1]) torch.Size([1, 1])\n",
      "torch.Size([1]) torch.Size([1, 1])\n",
      "torch.Size([1]) torch.Size([1, 1])\n",
      "torch.Size([1])"
     ]
    },
    {
     "name": "stderr",
     "output_type": "stream",
     "text": [
      "631it [00:40, 16.15it/s]"
     ]
    },
    {
     "name": "stdout",
     "output_type": "stream",
     "text": [
      " torch.Size([1, 1])\n",
      "torch.Size([1]) torch.Size([1, 1])\n",
      "torch.Size([1]) torch.Size([1, 1])\n",
      "torch.Size([1]) torch.Size([1, 1])\n"
     ]
    },
    {
     "name": "stderr",
     "output_type": "stream",
     "text": [
      "635it [00:40, 15.58it/s]"
     ]
    },
    {
     "name": "stdout",
     "output_type": "stream",
     "text": [
      "torch.Size([1]) torch.Size([1, 1])\n",
      "torch.Size([1]) torch.Size([1, 1])\n",
      "torch.Size([1]) torch.Size([1, 1])\n",
      "torch.Size([1])"
     ]
    },
    {
     "name": "stderr",
     "output_type": "stream",
     "text": [
      "\r",
      "637it [00:40, 15.82it/s]"
     ]
    },
    {
     "name": "stdout",
     "output_type": "stream",
     "text": [
      " torch.Size([1, 1])\n",
      "torch.Size([1]) torch.Size([1, 1])\n",
      "torch.Size([1]) torch.Size([1, 1])\n",
      "torch.Size([1])"
     ]
    },
    {
     "name": "stderr",
     "output_type": "stream",
     "text": [
      "641it [00:41, 14.59it/s]"
     ]
    },
    {
     "name": "stdout",
     "output_type": "stream",
     "text": [
      " torch.Size([1, 1])\n",
      "torch.Size([1]) torch.Size([1, 1])\n",
      "torch.Size([1]) torch.Size([1, 1])\n"
     ]
    },
    {
     "name": "stderr",
     "output_type": "stream",
     "text": [
      "\r",
      "643it [00:41, 15.16it/s]"
     ]
    },
    {
     "name": "stdout",
     "output_type": "stream",
     "text": [
      "torch.Size([1]) torch.Size([1, 1])\n",
      "torch.Size([1]) torch.Size([1, 1])\n",
      "torch.Size([1]) torch.Size([1, 1])\n"
     ]
    },
    {
     "name": "stderr",
     "output_type": "stream",
     "text": [
      "647it [00:41, 15.28it/s]"
     ]
    },
    {
     "name": "stdout",
     "output_type": "stream",
     "text": [
      "torch.Size([1]) torch.Size([1, 1])\n",
      "torch.Size([1]) torch.Size([1, 1])\n",
      "torch.Size([1]) torch.Size([1, 1])\n",
      "torch.Size([1])"
     ]
    },
    {
     "name": "stderr",
     "output_type": "stream",
     "text": [
      "\r",
      "649it [00:41, 15.75it/s]"
     ]
    },
    {
     "name": "stdout",
     "output_type": "stream",
     "text": [
      " torch.Size([1, 1])\n",
      "torch.Size([1]) torch.Size([1, 1])\n",
      "torch.Size([1]) torch.Size([1, 1])\n",
      "torch.Size([1]) torch.Size([1, 1])\n"
     ]
    },
    {
     "name": "stderr",
     "output_type": "stream",
     "text": [
      "653it [00:41, 15.94it/s]"
     ]
    },
    {
     "name": "stdout",
     "output_type": "stream",
     "text": [
      "torch.Size([1]) torch.Size([1, 1])\n",
      "torch.Size([1]) torch.Size([1, 1])\n",
      "torch.Size([1]) torch.Size([1, 1])\n",
      "torch.Size([1])"
     ]
    },
    {
     "name": "stderr",
     "output_type": "stream",
     "text": [
      "657it [00:41, 16.18it/s]"
     ]
    },
    {
     "name": "stdout",
     "output_type": "stream",
     "text": [
      " torch.Size([1, 1])\n",
      "torch.Size([1]) torch.Size([1, 1])\n",
      "torch.Size([1]) torch.Size([1, 1])\n",
      "torch.Size([1])"
     ]
    },
    {
     "name": "stderr",
     "output_type": "stream",
     "text": [
      "\r",
      "659it [00:42, 16.01it/s]"
     ]
    },
    {
     "name": "stdout",
     "output_type": "stream",
     "text": [
      " torch.Size([1, 1])\n",
      "torch.Size([1]) torch.Size([1, 1])\n",
      "torch.Size([1]) torch.Size([1, 1])\n",
      "torch.Size([1])"
     ]
    },
    {
     "name": "stderr",
     "output_type": "stream",
     "text": [
      "663it [00:42, 15.53it/s]"
     ]
    },
    {
     "name": "stdout",
     "output_type": "stream",
     "text": [
      " torch.Size([1, 1])\n",
      "torch.Size([1]) torch.Size([1, 1])\n",
      "torch.Size([1]) torch.Size([1, 1])\n",
      "torch.Size([1])"
     ]
    },
    {
     "name": "stderr",
     "output_type": "stream",
     "text": [
      "\r",
      "665it [00:42, 15.38it/s]"
     ]
    },
    {
     "name": "stdout",
     "output_type": "stream",
     "text": [
      " torch.Size([1, 1])\n",
      "torch.Size([1]) torch.Size([1, 1])\n",
      "torch.Size([1]) torch.Size([1, 1])\n",
      "torch.Size([1])"
     ]
    },
    {
     "name": "stderr",
     "output_type": "stream",
     "text": [
      "669it [00:42, 15.97it/s]"
     ]
    },
    {
     "name": "stdout",
     "output_type": "stream",
     "text": [
      " torch.Size([1, 1])\n",
      "torch.Size([1]) torch.Size([1, 1])\n",
      "torch.Size([1]) torch.Size([1, 1])\n",
      "torch.Size([1])"
     ]
    },
    {
     "name": "stderr",
     "output_type": "stream",
     "text": [
      "673it [00:42, 16.89it/s]"
     ]
    },
    {
     "name": "stdout",
     "output_type": "stream",
     "text": [
      " torch.Size([1, 1])\n",
      "torch.Size([1]) torch.Size([1, 1])\n",
      "torch.Size([1]) torch.Size([1, 1])\n",
      "torch.Size([1]) torch.Size([1, 1])\n",
      "torch.Size([1])"
     ]
    },
    {
     "name": "stderr",
     "output_type": "stream",
     "text": [
      "\r",
      "675it [00:43, 16.87it/s]"
     ]
    },
    {
     "name": "stdout",
     "output_type": "stream",
     "text": [
      " torch.Size([1, 1])\n",
      "torch.Size([1]) torch.Size([1, 1])\n",
      "torch.Size([1]) torch.Size([1, 1])\n",
      "torch.Size([1])"
     ]
    },
    {
     "name": "stderr",
     "output_type": "stream",
     "text": [
      "679it [00:43, 16.15it/s]"
     ]
    },
    {
     "name": "stdout",
     "output_type": "stream",
     "text": [
      " torch.Size([1, 1])\n",
      "torch.Size([1]) torch.Size([1, 1])\n",
      "torch.Size([1]) torch.Size([1, 1])\n",
      "torch.Size([1])"
     ]
    },
    {
     "name": "stderr",
     "output_type": "stream",
     "text": [
      "\r",
      "681it [00:43, 16.27it/s]"
     ]
    },
    {
     "name": "stdout",
     "output_type": "stream",
     "text": [
      " torch.Size([1, 1])\n",
      "torch.Size([1]) torch.Size([1, 1])\n",
      "torch.Size([1]) torch.Size([1, 1])\n",
      "torch.Size([1])"
     ]
    },
    {
     "name": "stderr",
     "output_type": "stream",
     "text": [
      "685it [00:43, 16.37it/s]"
     ]
    },
    {
     "name": "stdout",
     "output_type": "stream",
     "text": [
      " torch.Size([1, 1])\n",
      "torch.Size([1]) torch.Size([1, 1])\n",
      "torch.Size([1]) torch.Size([1, 1])\n",
      "torch.Size([1]) torch.Size([1, 1])\n"
     ]
    },
    {
     "name": "stderr",
     "output_type": "stream",
     "text": [
      "689it [00:43, 16.07it/s]"
     ]
    },
    {
     "name": "stdout",
     "output_type": "stream",
     "text": [
      "torch.Size([1]) torch.Size([1, 1])\n",
      "torch.Size([1]) torch.Size([1, 1])\n",
      "torch.Size([1]) torch.Size([1, 1])\n",
      "torch.Size([1])"
     ]
    },
    {
     "name": "stderr",
     "output_type": "stream",
     "text": [
      "\r",
      "691it [00:44, 15.79it/s]"
     ]
    },
    {
     "name": "stdout",
     "output_type": "stream",
     "text": [
      " torch.Size([1, 1])\n",
      "torch.Size([1]) torch.Size([1, 1])\n",
      "torch.Size([1]) torch.Size([1, 1])\n",
      "torch.Size([1])"
     ]
    },
    {
     "name": "stderr",
     "output_type": "stream",
     "text": [
      "695it [00:44, 15.81it/s]"
     ]
    },
    {
     "name": "stdout",
     "output_type": "stream",
     "text": [
      " torch.Size([1, 1])\n",
      "torch.Size([1]) torch.Size([1, 1])\n",
      "torch.Size([1]) torch.Size([1, 1])\n",
      "torch.Size([1]) torch.Size([1, 1])\n"
     ]
    },
    {
     "name": "stderr",
     "output_type": "stream",
     "text": [
      "699it [00:44, 17.03it/s]"
     ]
    },
    {
     "name": "stdout",
     "output_type": "stream",
     "text": [
      "torch.Size([1]) torch.Size([1, 1])\n",
      "torch.Size([1]) torch.Size([1, 1])\n",
      "torch.Size([1]) torch.Size([1, 1])\n",
      "torch.Size([1]) torch.Size([1, 1])\n"
     ]
    },
    {
     "name": "stderr",
     "output_type": "stream",
     "text": [
      "703it [00:44, 16.53it/s]"
     ]
    },
    {
     "name": "stdout",
     "output_type": "stream",
     "text": [
      "torch.Size([1]) torch.Size([1, 1])\n",
      "torch.Size([1]) torch.Size([1, 1])\n",
      "torch.Size([1]) torch.Size([1, 1])\n",
      "torch.Size([1]) torch.Size([1, 1])\n"
     ]
    },
    {
     "name": "stderr",
     "output_type": "stream",
     "text": [
      "707it [00:45, 16.15it/s]"
     ]
    },
    {
     "name": "stdout",
     "output_type": "stream",
     "text": [
      "torch.Size([1]) torch.Size([1, 1])\n",
      "torch.Size([1]) torch.Size([1, 1])\n",
      "torch.Size([1]) torch.Size([1, 1])\n",
      "torch.Size([1])"
     ]
    },
    {
     "name": "stderr",
     "output_type": "stream",
     "text": [
      "\r",
      "709it [00:45, 15.58it/s]"
     ]
    },
    {
     "name": "stdout",
     "output_type": "stream",
     "text": [
      " torch.Size([1, 1])\n",
      "torch.Size([1]) torch.Size([1, 1])\n",
      "torch.Size([1]) torch.Size([1, 1])\n",
      "torch.Size([1])"
     ]
    },
    {
     "name": "stderr",
     "output_type": "stream",
     "text": [
      "713it [00:45, 14.81it/s]"
     ]
    },
    {
     "name": "stdout",
     "output_type": "stream",
     "text": [
      " torch.Size([1, 1])\n",
      "torch.Size([1]) torch.Size([1, 1])\n",
      "torch.Size([1]) torch.Size([1, 1])\n",
      "torch.Size([1])"
     ]
    },
    {
     "name": "stderr",
     "output_type": "stream",
     "text": [
      "\r",
      "715it [00:45, 15.01it/s]"
     ]
    },
    {
     "name": "stdout",
     "output_type": "stream",
     "text": [
      " torch.Size([1, 1])\n",
      "torch.Size([1]) torch.Size([1, 1])\n",
      "torch.Size([1]) torch.Size([1, 1])\n",
      "torch.Size([1])"
     ]
    },
    {
     "name": "stderr",
     "output_type": "stream",
     "text": [
      "719it [00:45, 15.15it/s]"
     ]
    },
    {
     "name": "stdout",
     "output_type": "stream",
     "text": [
      " torch.Size([1, 1])\n",
      "torch.Size([1]) torch.Size([1, 1])\n",
      "torch.Size([1]) torch.Size([1, 1])\n",
      "torch.Size([1])"
     ]
    },
    {
     "name": "stderr",
     "output_type": "stream",
     "text": [
      "\r",
      "721it [00:46, 15.61it/s]"
     ]
    },
    {
     "name": "stdout",
     "output_type": "stream",
     "text": [
      " torch.Size([1, 1])\n",
      "torch.Size([1]) torch.Size([1, 1])\n",
      "torch.Size([1]) torch.Size([1, 1])\n",
      "torch.Size([1])"
     ]
    },
    {
     "name": "stderr",
     "output_type": "stream",
     "text": [
      "725it [00:46, 15.25it/s]"
     ]
    },
    {
     "name": "stdout",
     "output_type": "stream",
     "text": [
      " torch.Size([1, 1])\n",
      "torch.Size([1]) torch.Size([1, 1])\n",
      "torch.Size([1]) torch.Size([1, 1])\n",
      "torch.Size([1])"
     ]
    },
    {
     "name": "stderr",
     "output_type": "stream",
     "text": [
      "\r",
      "727it [00:46, 16.03it/s]"
     ]
    },
    {
     "name": "stdout",
     "output_type": "stream",
     "text": [
      " torch.Size([1, 1])\n",
      "torch.Size([1]) torch.Size([1, 1])\n",
      "torch.Size([1]) torch.Size([1, 1])\n",
      "torch.Size([1])"
     ]
    },
    {
     "name": "stderr",
     "output_type": "stream",
     "text": [
      "731it [00:46, 15.99it/s]"
     ]
    },
    {
     "name": "stdout",
     "output_type": "stream",
     "text": [
      " torch.Size([1, 1])\n",
      "torch.Size([1]) torch.Size([1, 1])\n",
      "torch.Size([1]) torch.Size([1, 1])\n",
      "torch.Size([1])"
     ]
    },
    {
     "name": "stderr",
     "output_type": "stream",
     "text": [
      "\r",
      "733it [00:46, 15.30it/s]"
     ]
    },
    {
     "name": "stdout",
     "output_type": "stream",
     "text": [
      " torch.Size([1, 1])\n",
      "torch.Size([1]) torch.Size([1, 1])\n",
      "torch.Size([1]) torch.Size([1, 1])\n",
      "torch.Size([1])"
     ]
    },
    {
     "name": "stderr",
     "output_type": "stream",
     "text": [
      "737it [00:47, 15.55it/s]"
     ]
    },
    {
     "name": "stdout",
     "output_type": "stream",
     "text": [
      " torch.Size([1, 1])\n",
      "torch.Size([1]) torch.Size([1, 1])\n",
      "torch.Size([1]) torch.Size([1, 1])\n",
      "torch.Size([1])"
     ]
    },
    {
     "name": "stderr",
     "output_type": "stream",
     "text": [
      "\r",
      "739it [00:47, 15.69it/s]"
     ]
    },
    {
     "name": "stdout",
     "output_type": "stream",
     "text": [
      " torch.Size([1, 1])\n",
      "torch.Size([1]) torch.Size([1, 1])\n",
      "torch.Size([1]) torch.Size([1, 1])\n",
      "torch.Size([1])"
     ]
    },
    {
     "name": "stderr",
     "output_type": "stream",
     "text": [
      "743it [00:47, 15.92it/s]"
     ]
    },
    {
     "name": "stdout",
     "output_type": "stream",
     "text": [
      " torch.Size([1, 1])\n",
      "torch.Size([1]) torch.Size([1, 1])\n",
      "torch.Size([1]) torch.Size([1, 1])\n",
      "torch.Size([1]) torch.Size([1, 1])\n"
     ]
    },
    {
     "name": "stderr",
     "output_type": "stream",
     "text": [
      "747it [00:47, 15.85it/s]"
     ]
    },
    {
     "name": "stdout",
     "output_type": "stream",
     "text": [
      "torch.Size([1]) torch.Size([1, 1])\n",
      "torch.Size([1]) torch.Size([1, 1])\n",
      "torch.Size([1]) torch.Size([1, 1])\n",
      "torch.Size([1])"
     ]
    },
    {
     "name": "stderr",
     "output_type": "stream",
     "text": [
      "\r",
      "749it [00:47, 16.02it/s]"
     ]
    },
    {
     "name": "stdout",
     "output_type": "stream",
     "text": [
      " torch.Size([1, 1])\n",
      "torch.Size([1]) torch.Size([1, 1])\n",
      "torch.Size([1]) torch.Size([1, 1])\n",
      "torch.Size([1])"
     ]
    },
    {
     "name": "stderr",
     "output_type": "stream",
     "text": [
      "753it [00:48, 15.78it/s]"
     ]
    },
    {
     "name": "stdout",
     "output_type": "stream",
     "text": [
      " torch.Size([1, 1])\n",
      "torch.Size([1]) torch.Size([1, 1])\n",
      "torch.Size([1]) torch.Size([1, 1])\n"
     ]
    },
    {
     "name": "stderr",
     "output_type": "stream",
     "text": [
      "\r",
      "755it [00:48, 15.63it/s]"
     ]
    },
    {
     "name": "stdout",
     "output_type": "stream",
     "text": [
      "torch.Size([1]) torch.Size([1, 1])\n",
      "torch.Size([1]) torch.Size([1, 1])\n",
      "torch.Size([1]) torch.Size([1, 1])\n",
      "torch.Size([1])"
     ]
    },
    {
     "name": "stderr",
     "output_type": "stream",
     "text": [
      "759it [00:48, 14.73it/s]"
     ]
    },
    {
     "name": "stdout",
     "output_type": "stream",
     "text": [
      " torch.Size([1, 1])\n",
      "torch.Size([1]) torch.Size([1, 1])\n",
      "torch.Size([1]) torch.Size([1, 1])\n",
      "torch.Size([1])"
     ]
    },
    {
     "name": "stderr",
     "output_type": "stream",
     "text": [
      "\r",
      "761it [00:48, 14.99it/s]"
     ]
    },
    {
     "name": "stdout",
     "output_type": "stream",
     "text": [
      " torch.Size([1, 1])\n",
      "torch.Size([1]) torch.Size([1, 1])\n",
      "torch.Size([1]) torch.Size([1, 1])\n",
      "torch.Size([1])"
     ]
    },
    {
     "name": "stderr",
     "output_type": "stream",
     "text": [
      "765it [00:48, 15.43it/s]"
     ]
    },
    {
     "name": "stdout",
     "output_type": "stream",
     "text": [
      " torch.Size([1, 1])\n",
      "torch.Size([1]) torch.Size([1, 1])\n",
      "torch.Size([1]) torch.Size([1, 1])\n",
      "torch.Size([1]) torch.Size([1, 1])\n"
     ]
    },
    {
     "name": "stderr",
     "output_type": "stream",
     "text": [
      "769it [00:49, 15.85it/s]"
     ]
    },
    {
     "name": "stdout",
     "output_type": "stream",
     "text": [
      "torch.Size([1]) torch.Size([1, 1])\n",
      "torch.Size([1]) torch.Size([1, 1])\n",
      "torch.Size([1]) torch.Size([1, 1])\n",
      "torch.Size([1])"
     ]
    },
    {
     "name": "stderr",
     "output_type": "stream",
     "text": [
      "\r",
      "771it [00:49, 16.01it/s]"
     ]
    },
    {
     "name": "stdout",
     "output_type": "stream",
     "text": [
      " torch.Size([1, 1])\n",
      "torch.Size([1]) torch.Size([1, 1])\n",
      "torch.Size([1]) torch.Size([1, 1])\n",
      "torch.Size([1])"
     ]
    },
    {
     "name": "stderr",
     "output_type": "stream",
     "text": [
      "775it [00:49, 16.26it/s]"
     ]
    },
    {
     "name": "stdout",
     "output_type": "stream",
     "text": [
      " torch.Size([1, 1])\n",
      "torch.Size([1]) torch.Size([1, 1])\n",
      "torch.Size([1]) torch.Size([1, 1])\n",
      "torch.Size([1]) torch.Size([1, 1])\n"
     ]
    },
    {
     "name": "stderr",
     "output_type": "stream",
     "text": [
      "779it [00:49, 16.29it/s]"
     ]
    },
    {
     "name": "stdout",
     "output_type": "stream",
     "text": [
      "torch.Size([1]) torch.Size([1, 1])\n",
      "torch.Size([1]) torch.Size([1, 1])\n",
      "torch.Size([1]) torch.Size([1, 1])\n",
      "torch.Size([1])"
     ]
    },
    {
     "name": "stderr",
     "output_type": "stream",
     "text": [
      "\r",
      "781it [00:49, 16.05it/s]"
     ]
    },
    {
     "name": "stdout",
     "output_type": "stream",
     "text": [
      " torch.Size([1, 1])\n",
      "torch.Size([1]) torch.Size([1, 1])\n",
      "torch.Size([1]) torch.Size([1, 1])\n",
      "torch.Size([1])"
     ]
    },
    {
     "name": "stderr",
     "output_type": "stream",
     "text": [
      "785it [00:50, 16.76it/s]"
     ]
    },
    {
     "name": "stdout",
     "output_type": "stream",
     "text": [
      " torch.Size([1, 1])\n",
      "torch.Size([1]) torch.Size([1, 1])\n",
      "torch.Size([1]) torch.Size([1, 1])\n",
      "torch.Size([1]) torch.Size([1, 1])\n"
     ]
    },
    {
     "name": "stderr",
     "output_type": "stream",
     "text": [
      "789it [00:50, 17.19it/s]"
     ]
    },
    {
     "name": "stdout",
     "output_type": "stream",
     "text": [
      "torch.Size([1]) torch.Size([1, 1])\n",
      "torch.Size([1]) torch.Size([1, 1])\n",
      "torch.Size([1]) torch.Size([1, 1])\n",
      "torch.Size([1]) torch.Size([1, 1])\n"
     ]
    },
    {
     "name": "stderr",
     "output_type": "stream",
     "text": [
      "793it [00:50, 15.83it/s]"
     ]
    },
    {
     "name": "stdout",
     "output_type": "stream",
     "text": [
      "torch.Size([1]) torch.Size([1, 1])\n",
      "torch.Size([1]) torch.Size([1, 1])\n",
      "torch.Size([1]) torch.Size([1, 1])\n"
     ]
    },
    {
     "name": "stderr",
     "output_type": "stream",
     "text": [
      "797it [00:50, 16.23it/s]"
     ]
    },
    {
     "name": "stdout",
     "output_type": "stream",
     "text": [
      "torch.Size([1]) torch.Size([1, 1])\n",
      "torch.Size([1]) torch.Size([1, 1])\n",
      "torch.Size([1]) torch.Size([1, 1])\n",
      "torch.Size([1]) torch.Size([1, 1])\n"
     ]
    },
    {
     "name": "stderr",
     "output_type": "stream",
     "text": [
      "801it [00:51, 16.50it/s]"
     ]
    },
    {
     "name": "stdout",
     "output_type": "stream",
     "text": [
      "torch.Size([1]) torch.Size([1, 1])\n",
      "torch.Size([1]) torch.Size([1, 1])\n",
      "torch.Size([1]) torch.Size([1, 1])\n",
      "torch.Size([1]) torch.Size([1, 1])\n"
     ]
    },
    {
     "name": "stderr",
     "output_type": "stream",
     "text": [
      "\r",
      "803it [00:51, 16.43it/s]"
     ]
    },
    {
     "name": "stdout",
     "output_type": "stream",
     "text": [
      "torch.Size([1]) torch.Size([1, 1])\n",
      "torch.Size([1]) torch.Size([1, 1])\n",
      "torch.Size([1]) torch.Size([1, 1])\n",
      "torch.Size([1])"
     ]
    },
    {
     "name": "stderr",
     "output_type": "stream",
     "text": [
      "807it [00:51, 16.52it/s]"
     ]
    },
    {
     "name": "stdout",
     "output_type": "stream",
     "text": [
      " torch.Size([1, 1])\n",
      "torch.Size([1]) torch.Size([1, 1])\n",
      "torch.Size([1]) torch.Size([1, 1])\n",
      "torch.Size([1]) torch.Size([1, 1])\n"
     ]
    },
    {
     "name": "stderr",
     "output_type": "stream",
     "text": [
      "811it [00:51, 16.37it/s]"
     ]
    },
    {
     "name": "stdout",
     "output_type": "stream",
     "text": [
      "torch.Size([1]) torch.Size([1, 1])\n",
      "torch.Size([1]) torch.Size([1, 1])\n",
      "torch.Size([1]) torch.Size([1, 1])\n",
      "torch.Size([1])"
     ]
    },
    {
     "name": "stderr",
     "output_type": "stream",
     "text": [
      "\r",
      "813it [00:51, 16.46it/s]"
     ]
    },
    {
     "name": "stdout",
     "output_type": "stream",
     "text": [
      " torch.Size([1, 1])\n",
      "torch.Size([1]) torch.Size([1, 1])\n",
      "torch.Size([1]) torch.Size([1, 1])\n",
      "torch.Size([1])"
     ]
    },
    {
     "name": "stderr",
     "output_type": "stream",
     "text": [
      "817it [00:52, 15.89it/s]"
     ]
    },
    {
     "name": "stdout",
     "output_type": "stream",
     "text": [
      " torch.Size([1, 1])\n",
      "torch.Size([1]) torch.Size([1, 1])\n",
      "torch.Size([1]) torch.Size([1, 1])\n",
      "torch.Size([1])"
     ]
    },
    {
     "name": "stderr",
     "output_type": "stream",
     "text": [
      "\r",
      "819it [00:52, 16.28it/s]"
     ]
    },
    {
     "name": "stdout",
     "output_type": "stream",
     "text": [
      " torch.Size([1, 1])\n",
      "torch.Size([1]) torch.Size([1, 1])\n",
      "torch.Size([1]) torch.Size([1, 1])\n",
      "torch.Size([1])"
     ]
    },
    {
     "name": "stderr",
     "output_type": "stream",
     "text": [
      "823it [00:52, 15.67it/s]"
     ]
    },
    {
     "name": "stdout",
     "output_type": "stream",
     "text": [
      " torch.Size([1, 1])\n",
      "torch.Size([1]) torch.Size([1, 1])\n",
      "torch.Size([1]) torch.Size([1, 1])\n",
      "torch.Size([1])"
     ]
    },
    {
     "name": "stderr",
     "output_type": "stream",
     "text": [
      "\r",
      "825it [00:52, 15.81it/s]"
     ]
    },
    {
     "name": "stdout",
     "output_type": "stream",
     "text": [
      " torch.Size([1, 1])\n",
      "torch.Size([1]) torch.Size([1, 1])\n",
      "torch.Size([1]) torch.Size([1, 1])\n",
      "torch.Size([1])"
     ]
    },
    {
     "name": "stderr",
     "output_type": "stream",
     "text": [
      "829it [00:52, 15.04it/s]"
     ]
    },
    {
     "name": "stdout",
     "output_type": "stream",
     "text": [
      " torch.Size([1, 1])\n",
      "torch.Size([1]) torch.Size([1, 1])\n",
      "torch.Size([1]) torch.Size([1, 1])\n",
      "torch.Size([1])"
     ]
    },
    {
     "name": "stderr",
     "output_type": "stream",
     "text": [
      "833it [00:53, 15.81it/s]"
     ]
    },
    {
     "name": "stdout",
     "output_type": "stream",
     "text": [
      " torch.Size([1, 1])\n",
      "torch.Size([1]) torch.Size([1, 1])\n",
      "torch.Size([1]) torch.Size([1, 1])\n",
      "torch.Size([1]) torch.Size([1, 1])\n"
     ]
    },
    {
     "name": "stderr",
     "output_type": "stream",
     "text": [
      "\r",
      "835it [00:53, 16.10it/s]"
     ]
    },
    {
     "name": "stdout",
     "output_type": "stream",
     "text": [
      "torch.Size([1]) torch.Size([1, 1])\n",
      "torch.Size([1]) torch.Size([1, 1])\n",
      "torch.Size([1]) torch.Size([1, 1])\n",
      "torch.Size([1]) torch.Size([1, 1])\n"
     ]
    },
    {
     "name": "stderr",
     "output_type": "stream",
     "text": [
      "841it [00:53, 16.73it/s]"
     ]
    },
    {
     "name": "stdout",
     "output_type": "stream",
     "text": [
      "torch.Size([1]) torch.Size([1, 1])\n",
      "torch.Size([1]) torch.Size([1, 1])\n",
      "torch.Size([1]) torch.Size([1, 1])\n",
      "torch.Size([1]) torch.Size([1, 1])\n"
     ]
    },
    {
     "name": "stderr",
     "output_type": "stream",
     "text": [
      "\r",
      "843it [00:53, 16.68it/s]"
     ]
    },
    {
     "name": "stdout",
     "output_type": "stream",
     "text": [
      "torch.Size([1]) torch.Size([1, 1])\n",
      "torch.Size([1]) torch.Size([1, 1])\n",
      "torch.Size([1]) torch.Size([1, 1])\n",
      "torch.Size([1])"
     ]
    },
    {
     "name": "stderr",
     "output_type": "stream",
     "text": [
      "847it [00:53, 16.89it/s]"
     ]
    },
    {
     "name": "stdout",
     "output_type": "stream",
     "text": [
      " torch.Size([1, 1])\n",
      "torch.Size([1]) torch.Size([1, 1])\n",
      "torch.Size([1]) torch.Size([1, 1])\n",
      "torch.Size([1]) torch.Size([1, 1])\n"
     ]
    },
    {
     "name": "stderr",
     "output_type": "stream",
     "text": [
      "851it [00:54, 17.02it/s]"
     ]
    },
    {
     "name": "stdout",
     "output_type": "stream",
     "text": [
      "torch.Size([1]) torch.Size([1, 1])\n",
      "torch.Size([1]) torch.Size([1, 1])\n",
      "torch.Size([1]) torch.Size([1, 1])\n",
      "torch.Size([1])"
     ]
    },
    {
     "name": "stderr",
     "output_type": "stream",
     "text": [
      "855it [00:54, 17.23it/s]"
     ]
    },
    {
     "name": "stdout",
     "output_type": "stream",
     "text": [
      " torch.Size([1, 1])\n",
      "torch.Size([1]) torch.Size([1, 1])\n",
      "torch.Size([1]) torch.Size([1, 1])\n",
      "torch.Size([1]) torch.Size([1, 1])\n"
     ]
    },
    {
     "name": "stderr",
     "output_type": "stream",
     "text": [
      "859it [00:54, 17.31it/s]"
     ]
    },
    {
     "name": "stdout",
     "output_type": "stream",
     "text": [
      "torch.Size([1]) torch.Size([1, 1])\n",
      "torch.Size([1]) torch.Size([1, 1])\n",
      "torch.Size([1]) torch.Size([1, 1])\n",
      "torch.Size([1]) torch.Size([1, 1])\n"
     ]
    },
    {
     "name": "stderr",
     "output_type": "stream",
     "text": [
      "863it [00:54, 17.63it/s]"
     ]
    },
    {
     "name": "stdout",
     "output_type": "stream",
     "text": [
      "torch.Size([1]) torch.Size([1, 1])\n",
      "torch.Size([1]) torch.Size([1, 1])\n",
      "torch.Size([1]) torch.Size([1, 1])\n",
      "torch.Size([1]) torch.Size([1, 1])\n"
     ]
    },
    {
     "name": "stderr",
     "output_type": "stream",
     "text": [
      "\r",
      "865it [00:54, 17.07it/s]"
     ]
    },
    {
     "name": "stdout",
     "output_type": "stream",
     "text": [
      "torch.Size([1]) torch.Size([1, 1])\n",
      "torch.Size([1]) torch.Size([1, 1])\n",
      "torch.Size([1]) torch.Size([1, 1])\n",
      "torch.Size([1])"
     ]
    },
    {
     "name": "stderr",
     "output_type": "stream",
     "text": [
      "869it [00:55, 16.07it/s]"
     ]
    },
    {
     "name": "stdout",
     "output_type": "stream",
     "text": [
      " torch.Size([1, 1])\n",
      "torch.Size([1]) torch.Size([1, 1])\n",
      "torch.Size([1]) torch.Size([1, 1])\n",
      "torch.Size([1])"
     ]
    },
    {
     "name": "stderr",
     "output_type": "stream",
     "text": [
      "873it [00:55, 16.40it/s]"
     ]
    },
    {
     "name": "stdout",
     "output_type": "stream",
     "text": [
      " torch.Size([1, 1])\n",
      "torch.Size([1]) torch.Size([1, 1])\n",
      "torch.Size([1]) torch.Size([1, 1])\n",
      "torch.Size([1]) torch.Size([1, 1])\n"
     ]
    },
    {
     "name": "stderr",
     "output_type": "stream",
     "text": [
      "\r",
      "875it [00:55, 15.82it/s]"
     ]
    },
    {
     "name": "stdout",
     "output_type": "stream",
     "text": [
      "torch.Size([1]) torch.Size([1, 1])\n",
      "torch.Size([1]) torch.Size([1, 1])\n",
      "torch.Size([1]) torch.Size([1, 1])\n",
      "torch.Size([1])"
     ]
    },
    {
     "name": "stderr",
     "output_type": "stream",
     "text": [
      "879it [00:55, 16.58it/s]"
     ]
    },
    {
     "name": "stdout",
     "output_type": "stream",
     "text": [
      " torch.Size([1, 1])\n",
      "torch.Size([1]) torch.Size([1, 1])\n",
      "torch.Size([1]) torch.Size([1, 1])\n",
      "torch.Size([1]) "
     ]
    },
    {
     "name": "stderr",
     "output_type": "stream",
     "text": [
      "883it [00:56, 16.52it/s]"
     ]
    },
    {
     "name": "stdout",
     "output_type": "stream",
     "text": [
      "torch.Size([1, 1])\n",
      "torch.Size([1]) torch.Size([1, 1])\n",
      "torch.Size([1]) torch.Size([1, 1])\n",
      "torch.Size([1]) torch.Size([1, 1])\n"
     ]
    },
    {
     "name": "stderr",
     "output_type": "stream",
     "text": [
      "\r",
      "885it [00:56, 16.33it/s]"
     ]
    },
    {
     "name": "stdout",
     "output_type": "stream",
     "text": [
      "torch.Size([1]) torch.Size([1, 1])\n",
      "torch.Size([1]) torch.Size([1, 1])\n",
      "torch.Size([1]) torch.Size([1, 1])\n",
      "torch.Size([1])"
     ]
    },
    {
     "name": "stderr",
     "output_type": "stream",
     "text": [
      "889it [00:56, 15.99it/s]"
     ]
    },
    {
     "name": "stdout",
     "output_type": "stream",
     "text": [
      " torch.Size([1, 1])\n",
      "torch.Size([1]) torch.Size([1, 1])\n",
      "torch.Size([1]) torch.Size([1, 1])\n",
      "torch.Size([1])"
     ]
    },
    {
     "name": "stderr",
     "output_type": "stream",
     "text": [
      "\r",
      "891it [00:56, 16.12it/s]"
     ]
    },
    {
     "name": "stdout",
     "output_type": "stream",
     "text": [
      " torch.Size([1, 1])\n",
      "torch.Size([1]) torch.Size([1, 1])\n",
      "torch.Size([1]) torch.Size([1, 1])\n",
      "torch.Size([1])"
     ]
    },
    {
     "name": "stderr",
     "output_type": "stream",
     "text": [
      "895it [00:56, 16.37it/s]"
     ]
    },
    {
     "name": "stdout",
     "output_type": "stream",
     "text": [
      " torch.Size([1, 1])\n",
      "torch.Size([1]) torch.Size([1, 1])\n",
      "torch.Size([1]) torch.Size([1, 1])\n",
      "torch.Size([1]) torch.Size([1, 1])\n"
     ]
    },
    {
     "name": "stderr",
     "output_type": "stream",
     "text": [
      "899it [00:57, 16.70it/s]"
     ]
    },
    {
     "name": "stdout",
     "output_type": "stream",
     "text": [
      "torch.Size([1]) torch.Size([1, 1])\n",
      "torch.Size([1]) torch.Size([1, 1])\n",
      "torch.Size([1]) torch.Size([1, 1])\n",
      "torch.Size([1]) torch.Size([1, 1])\n"
     ]
    },
    {
     "name": "stderr",
     "output_type": "stream",
     "text": [
      "903it [00:57, 16.72it/s]"
     ]
    },
    {
     "name": "stdout",
     "output_type": "stream",
     "text": [
      "torch.Size([1]) torch.Size([1, 1])\n",
      "torch.Size([1]) torch.Size([1, 1])\n",
      "torch.Size([1]) torch.Size([1, 1])\n",
      "torch.Size([1])"
     ]
    },
    {
     "name": "stderr",
     "output_type": "stream",
     "text": [
      "907it [00:57, 16.63it/s]"
     ]
    },
    {
     "name": "stdout",
     "output_type": "stream",
     "text": [
      " torch.Size([1, 1])\n",
      "torch.Size([1]) torch.Size([1, 1])\n",
      "torch.Size([1]) torch.Size([1, 1])\n",
      "torch.Size([1]) torch.Size([1, 1])\n"
     ]
    },
    {
     "name": "stderr",
     "output_type": "stream",
     "text": [
      "\r",
      "909it [00:57, 16.77it/s]"
     ]
    },
    {
     "name": "stdout",
     "output_type": "stream",
     "text": [
      "torch.Size([1]) torch.Size([1, 1])\n",
      "torch.Size([1]) torch.Size([1, 1])\n",
      "torch.Size([1]) torch.Size([1, 1])\n",
      "torch.Size([1])"
     ]
    },
    {
     "name": "stderr",
     "output_type": "stream",
     "text": [
      "913it [00:57, 16.13it/s]"
     ]
    },
    {
     "name": "stdout",
     "output_type": "stream",
     "text": [
      " torch.Size([1, 1])\n",
      "torch.Size([1]) torch.Size([1, 1])\n",
      "torch.Size([1]) torch.Size([1, 1])\n",
      "torch.Size([1])"
     ]
    },
    {
     "name": "stderr",
     "output_type": "stream",
     "text": [
      "\r",
      "915it [00:57, 16.74it/s]"
     ]
    },
    {
     "name": "stdout",
     "output_type": "stream",
     "text": [
      " torch.Size([1, 1])\n",
      "torch.Size([1]) torch.Size([1, 1])\n",
      "torch.Size([1]) torch.Size([1, 1])\n",
      "torch.Size([1])"
     ]
    },
    {
     "name": "stderr",
     "output_type": "stream",
     "text": [
      "919it [00:58, 15.75it/s]"
     ]
    },
    {
     "name": "stdout",
     "output_type": "stream",
     "text": [
      " torch.Size([1, 1])\n",
      "torch.Size([1]) torch.Size([1, 1])\n",
      "torch.Size([1]) torch.Size([1, 1])\n",
      "torch.Size([1])"
     ]
    },
    {
     "name": "stderr",
     "output_type": "stream",
     "text": [
      "\r",
      "921it [00:58, 15.28it/s]"
     ]
    },
    {
     "name": "stdout",
     "output_type": "stream",
     "text": [
      " torch.Size([1, 1])\n",
      "torch.Size([1]) torch.Size([1, 1])\n",
      "torch.Size([1]) torch.Size([1, 1])\n",
      "torch.Size([1])"
     ]
    },
    {
     "name": "stderr",
     "output_type": "stream",
     "text": [
      "925it [00:58, 15.78it/s]"
     ]
    },
    {
     "name": "stdout",
     "output_type": "stream",
     "text": [
      " torch.Size([1, 1])\n",
      "torch.Size([1]) torch.Size([1, 1])\n",
      "torch.Size([1]) torch.Size([1, 1])\n",
      "torch.Size([1]) torch.Size([1, 1])\n"
     ]
    },
    {
     "name": "stderr",
     "output_type": "stream",
     "text": [
      "929it [00:58, 15.93it/s]"
     ]
    },
    {
     "name": "stdout",
     "output_type": "stream",
     "text": [
      "torch.Size([1]) torch.Size([1, 1])\n",
      "torch.Size([1]) torch.Size([1, 1])\n",
      "torch.Size([1]) torch.Size([1, 1])\n",
      "torch.Size([1]) torch.Size([1, 1])\n"
     ]
    },
    {
     "name": "stderr",
     "output_type": "stream",
     "text": [
      "933it [00:59, 16.52it/s]"
     ]
    },
    {
     "name": "stdout",
     "output_type": "stream",
     "text": [
      "torch.Size([1]) torch.Size([1, 1])\n",
      "torch.Size([1]) torch.Size([1, 1])\n",
      "torch.Size([1]) torch.Size([1, 1])\n",
      "torch.Size([1])"
     ]
    },
    {
     "name": "stderr",
     "output_type": "stream",
     "text": [
      "\r",
      "935it [00:59, 16.09it/s]"
     ]
    },
    {
     "name": "stdout",
     "output_type": "stream",
     "text": [
      " torch.Size([1, 1])\n",
      "torch.Size([1]) torch.Size([1, 1])\n",
      "torch.Size([1]) torch.Size([1, 1])\n",
      "torch.Size([1])"
     ]
    },
    {
     "name": "stderr",
     "output_type": "stream",
     "text": [
      "939it [00:59, 15.76it/s]"
     ]
    },
    {
     "name": "stdout",
     "output_type": "stream",
     "text": [
      " torch.Size([1, 1])\n",
      "torch.Size([1]) torch.Size([1, 1])\n",
      "torch.Size([1]) torch.Size([1, 1])\n",
      "torch.Size([1])"
     ]
    },
    {
     "name": "stderr",
     "output_type": "stream",
     "text": [
      "\r",
      "941it [00:59, 15.58it/s]"
     ]
    },
    {
     "name": "stdout",
     "output_type": "stream",
     "text": [
      " torch.Size([1, 1])\n",
      "torch.Size([1]) torch.Size([1, 1])\n",
      "torch.Size([1]) torch.Size([1, 1])\n",
      "torch.Size([1])"
     ]
    },
    {
     "name": "stderr",
     "output_type": "stream",
     "text": [
      "945it [00:59, 15.60it/s]"
     ]
    },
    {
     "name": "stdout",
     "output_type": "stream",
     "text": [
      " torch.Size([1, 1])\n",
      "torch.Size([1]) torch.Size([1, 1])\n",
      "torch.Size([1]) torch.Size([1, 1])\n",
      "torch.Size([1])"
     ]
    },
    {
     "name": "stderr",
     "output_type": "stream",
     "text": [
      "\r",
      "947it [00:59, 15.80it/s]"
     ]
    },
    {
     "name": "stdout",
     "output_type": "stream",
     "text": [
      " torch.Size([1, 1])\n",
      "torch.Size([1]) torch.Size([1, 1])\n",
      "torch.Size([1]) torch.Size([1, 1])\n",
      "torch.Size([1])"
     ]
    },
    {
     "name": "stderr",
     "output_type": "stream",
     "text": [
      "951it [01:00, 15.20it/s]"
     ]
    },
    {
     "name": "stdout",
     "output_type": "stream",
     "text": [
      " torch.Size([1, 1])\n",
      "torch.Size([1]) torch.Size([1, 1])\n",
      "torch.Size([1]) torch.Size([1, 1])\n",
      "torch.Size([1]) torch.Size([1, 1])\n"
     ]
    },
    {
     "name": "stderr",
     "output_type": "stream",
     "text": [
      "955it [01:00, 16.07it/s]"
     ]
    },
    {
     "name": "stdout",
     "output_type": "stream",
     "text": [
      "torch.Size([1]) torch.Size([1, 1])\n",
      "torch.Size([1]) torch.Size([1, 1])\n",
      "torch.Size([1]) torch.Size([1, 1])\n",
      "torch.Size([1])"
     ]
    },
    {
     "name": "stderr",
     "output_type": "stream",
     "text": [
      "\r",
      "957it [01:00, 16.37it/s]"
     ]
    },
    {
     "name": "stdout",
     "output_type": "stream",
     "text": [
      " torch.Size([1, 1])\n",
      "torch.Size([1]) torch.Size([1, 1])\n",
      "torch.Size([1]) torch.Size([1, 1])\n",
      "torch.Size([1]) torch.Size([1, 1])\n"
     ]
    },
    {
     "name": "stderr",
     "output_type": "stream",
     "text": [
      "961it [01:00, 16.07it/s]"
     ]
    },
    {
     "name": "stdout",
     "output_type": "stream",
     "text": [
      "torch.Size([1]) torch.Size([1, 1])\n",
      "torch.Size([1]) torch.Size([1, 1])\n",
      "torch.Size([1]) torch.Size([1, 1])\n"
     ]
    },
    {
     "name": "stderr",
     "output_type": "stream",
     "text": [
      "965it [01:01, 15.81it/s]"
     ]
    },
    {
     "name": "stdout",
     "output_type": "stream",
     "text": [
      "torch.Size([1]) torch.Size([1, 1])\n",
      "torch.Size([1]) torch.Size([1, 1])\n",
      "torch.Size([1]) torch.Size([1, 1])\n",
      "torch.Size([1])"
     ]
    },
    {
     "name": "stderr",
     "output_type": "stream",
     "text": [
      "\r",
      "967it [01:01, 15.50it/s]"
     ]
    },
    {
     "name": "stdout",
     "output_type": "stream",
     "text": [
      " torch.Size([1, 1])\n",
      "torch.Size([1]) torch.Size([1, 1])\n",
      "torch.Size([1]) torch.Size([1, 1])\n",
      "torch.Size([1])"
     ]
    },
    {
     "name": "stderr",
     "output_type": "stream",
     "text": [
      "971it [01:01, 15.35it/s]"
     ]
    },
    {
     "name": "stdout",
     "output_type": "stream",
     "text": [
      " torch.Size([1, 1])\n",
      "torch.Size([1]) torch.Size([1, 1])\n",
      "torch.Size([1]) torch.Size([1, 1])\n",
      "torch.Size([1])"
     ]
    },
    {
     "name": "stderr",
     "output_type": "stream",
     "text": [
      "\r",
      "973it [01:01, 15.51it/s]"
     ]
    },
    {
     "name": "stdout",
     "output_type": "stream",
     "text": [
      " torch.Size([1, 1])\n",
      "torch.Size([1]) torch.Size([1, 1])\n",
      "torch.Size([1]) torch.Size([1, 1])\n",
      "torch.Size([1])"
     ]
    },
    {
     "name": "stderr",
     "output_type": "stream",
     "text": [
      "977it [01:01, 14.87it/s]"
     ]
    },
    {
     "name": "stdout",
     "output_type": "stream",
     "text": [
      " torch.Size([1, 1])\n",
      "torch.Size([1]) torch.Size([1, 1])\n",
      "torch.Size([1]) torch.Size([1, 1])\n"
     ]
    },
    {
     "name": "stderr",
     "output_type": "stream",
     "text": [
      "\r",
      "979it [01:02, 14.99it/s]"
     ]
    },
    {
     "name": "stdout",
     "output_type": "stream",
     "text": [
      "torch.Size([1]) torch.Size([1, 1])\n",
      "torch.Size([1]) torch.Size([1, 1])\n",
      "torch.Size([1]) torch.Size([1, 1])\n",
      "torch.Size([1])"
     ]
    },
    {
     "name": "stderr",
     "output_type": "stream",
     "text": [
      "983it [01:02, 15.69it/s]"
     ]
    },
    {
     "name": "stdout",
     "output_type": "stream",
     "text": [
      " torch.Size([1, 1])\n",
      "torch.Size([1]) torch.Size([1, 1])\n",
      "torch.Size([1]) torch.Size([1, 1])\n",
      "torch.Size([1])"
     ]
    },
    {
     "name": "stderr",
     "output_type": "stream",
     "text": [
      "\r",
      "985it [01:02, 15.57it/s]"
     ]
    },
    {
     "name": "stdout",
     "output_type": "stream",
     "text": [
      " torch.Size([1, 1])\n",
      "torch.Size([1]) torch.Size([1, 1])\n",
      "torch.Size([1]) torch.Size([1, 1])\n",
      "torch.Size([1])"
     ]
    },
    {
     "name": "stderr",
     "output_type": "stream",
     "text": [
      "989it [01:02, 15.73it/s]"
     ]
    },
    {
     "name": "stdout",
     "output_type": "stream",
     "text": [
      " torch.Size([1, 1])\n",
      "torch.Size([1]) torch.Size([1, 1])\n",
      "torch.Size([1]) torch.Size([1, 1])\n",
      "torch.Size([1])"
     ]
    },
    {
     "name": "stderr",
     "output_type": "stream",
     "text": [
      "993it [01:02, 15.93it/s]"
     ]
    },
    {
     "name": "stdout",
     "output_type": "stream",
     "text": [
      " torch.Size([1, 1])\n",
      "torch.Size([1]) torch.Size([1, 1])\n",
      "torch.Size([1]) torch.Size([1, 1])\n",
      "torch.Size([1]) torch.Size([1, 1])\n"
     ]
    },
    {
     "name": "stderr",
     "output_type": "stream",
     "text": [
      "\r",
      "995it [01:03, 15.54it/s]"
     ]
    },
    {
     "name": "stdout",
     "output_type": "stream",
     "text": [
      "torch.Size([1]) torch.Size([1, 1])\n",
      "torch.Size([1]) torch.Size([1, 1])\n",
      "torch.Size([1]) torch.Size([1, 1])\n",
      "torch.Size([1])"
     ]
    },
    {
     "name": "stderr",
     "output_type": "stream",
     "text": [
      "999it [01:03, 16.28it/s]"
     ]
    },
    {
     "name": "stdout",
     "output_type": "stream",
     "text": [
      " torch.Size([1, 1])\n",
      "torch.Size([1]) torch.Size([1, 1])\n",
      "torch.Size([1]) torch.Size([1, 1])\n",
      "torch.Size([1]) torch.Size([1, 1])\n"
     ]
    },
    {
     "name": "stderr",
     "output_type": "stream",
     "text": [
      "1003it [01:03, 15.84it/s]"
     ]
    },
    {
     "name": "stdout",
     "output_type": "stream",
     "text": [
      "torch.Size([1]) torch.Size([1, 1])\n",
      "torch.Size([1]) torch.Size([1, 1])\n",
      "torch.Size([1]) torch.Size([1, 1])\n"
     ]
    },
    {
     "name": "stderr",
     "output_type": "stream",
     "text": [
      "\r",
      "1005it [01:03, 15.28it/s]"
     ]
    },
    {
     "name": "stdout",
     "output_type": "stream",
     "text": [
      "torch.Size([1]) torch.Size([1, 1])\n",
      "torch.Size([1]) torch.Size([1, 1])\n",
      "torch.Size([1]) torch.Size([1, 1])\n",
      "torch.Size([1])"
     ]
    },
    {
     "name": "stderr",
     "output_type": "stream",
     "text": [
      "1009it [01:03, 15.47it/s]"
     ]
    },
    {
     "name": "stdout",
     "output_type": "stream",
     "text": [
      " torch.Size([1, 1])\n",
      "torch.Size([1]) torch.Size([1, 1])\n",
      "torch.Size([1]) torch.Size([1, 1])\n",
      "torch.Size([1])"
     ]
    },
    {
     "name": "stderr",
     "output_type": "stream",
     "text": [
      "\r",
      "1011it [01:04, 15.00it/s]"
     ]
    },
    {
     "name": "stdout",
     "output_type": "stream",
     "text": [
      " torch.Size([1, 1])\n",
      "torch.Size([1]) torch.Size([1, 1])\n",
      "torch.Size([1]) torch.Size([1, 1])\n",
      "torch.Size([1])"
     ]
    },
    {
     "name": "stderr",
     "output_type": "stream",
     "text": [
      "1015it [01:04, 15.79it/s]"
     ]
    },
    {
     "name": "stdout",
     "output_type": "stream",
     "text": [
      " torch.Size([1, 1])\n",
      "torch.Size([1]) torch.Size([1, 1])\n",
      "torch.Size([1]) torch.Size([1, 1])\n",
      "torch.Size([1])"
     ]
    },
    {
     "name": "stderr",
     "output_type": "stream",
     "text": [
      "1019it [01:04, 15.95it/s]"
     ]
    },
    {
     "name": "stdout",
     "output_type": "stream",
     "text": [
      " torch.Size([1, 1])\n",
      "torch.Size([1]) torch.Size([1, 1])\n",
      "torch.Size([1]) torch.Size([1, 1])\n",
      "torch.Size([1]) torch.Size([1, 1])\n"
     ]
    },
    {
     "name": "stderr",
     "output_type": "stream",
     "text": [
      "1023it [01:04, 16.37it/s]"
     ]
    },
    {
     "name": "stdout",
     "output_type": "stream",
     "text": [
      "torch.Size([1]) torch.Size([1, 1])\n",
      "torch.Size([1]) torch.Size([1, 1])\n",
      "torch.Size([1]) torch.Size([1, 1])\n",
      "torch.Size([1]) torch.Size([1, 1])\n"
     ]
    },
    {
     "name": "stderr",
     "output_type": "stream",
     "text": [
      "1027it [01:05, 16.74it/s]"
     ]
    },
    {
     "name": "stdout",
     "output_type": "stream",
     "text": [
      "torch.Size([1]) torch.Size([1, 1])\n",
      "torch.Size([1]) torch.Size([1, 1])\n",
      "torch.Size([1]) torch.Size([1, 1])\n",
      "torch.Size([1]) torch.Size([1, 1])\n"
     ]
    },
    {
     "name": "stderr",
     "output_type": "stream",
     "text": [
      "\r",
      "1029it [01:05, 16.52it/s]"
     ]
    },
    {
     "name": "stdout",
     "output_type": "stream",
     "text": [
      "torch.Size([1]) torch.Size([1, 1])\n",
      "torch.Size([1]) torch.Size([1, 1])\n",
      "torch.Size([1]) torch.Size([1, 1])\n",
      "torch.Size([1])"
     ]
    },
    {
     "name": "stderr",
     "output_type": "stream",
     "text": [
      "1033it [01:05, 16.68it/s]"
     ]
    },
    {
     "name": "stdout",
     "output_type": "stream",
     "text": [
      " torch.Size([1, 1])\n",
      "torch.Size([1]) torch.Size([1, 1])\n",
      "torch.Size([1]) torch.Size([1, 1])\n",
      "torch.Size([1]) torch.Size([1, 1])\n"
     ]
    },
    {
     "name": "stderr",
     "output_type": "stream",
     "text": [
      "1037it [01:05, 16.28it/s]"
     ]
    },
    {
     "name": "stdout",
     "output_type": "stream",
     "text": [
      "torch.Size([1]) torch.Size([1, 1])\n",
      "torch.Size([1]) torch.Size([1, 1])\n",
      "torch.Size([1]) torch.Size([1, 1])\n",
      "torch.Size([1])"
     ]
    },
    {
     "name": "stderr",
     "output_type": "stream",
     "text": [
      "\r",
      "1039it [01:05, 16.05it/s]"
     ]
    },
    {
     "name": "stdout",
     "output_type": "stream",
     "text": [
      " torch.Size([1, 1])\n",
      "torch.Size([1]) torch.Size([1, 1])\n",
      "torch.Size([1]) torch.Size([1, 1])\n"
     ]
    },
    {
     "name": "stderr",
     "output_type": "stream",
     "text": [
      "1043it [01:06, 13.21it/s]"
     ]
    },
    {
     "name": "stdout",
     "output_type": "stream",
     "text": [
      "torch.Size([1]) torch.Size([1, 1])\n",
      "torch.Size([1]) torch.Size([1, 1])\n",
      "torch.Size([1]) torch.Size([1, 1])\n"
     ]
    },
    {
     "name": "stderr",
     "output_type": "stream",
     "text": [
      "\r",
      "1045it [01:06, 13.44it/s]"
     ]
    },
    {
     "name": "stdout",
     "output_type": "stream",
     "text": [
      "torch.Size([1]) torch.Size([1, 1])\n",
      "torch.Size([1]) torch.Size([1, 1])\n",
      "torch.Size([1]) torch.Size([1, 1])\n"
     ]
    },
    {
     "name": "stderr",
     "output_type": "stream",
     "text": [
      "1049it [01:06, 14.11it/s]"
     ]
    },
    {
     "name": "stdout",
     "output_type": "stream",
     "text": [
      "torch.Size([1]) torch.Size([1, 1])\n",
      "torch.Size([1]) torch.Size([1, 1])\n",
      "torch.Size([1]) torch.Size([1, 1])\n",
      "torch.Size([1]) torch.Size([1, 1])\n"
     ]
    },
    {
     "name": "stderr",
     "output_type": "stream",
     "text": [
      "1053it [01:06, 15.03it/s]"
     ]
    },
    {
     "name": "stdout",
     "output_type": "stream",
     "text": [
      "torch.Size([1]) torch.Size([1, 1])\n",
      "torch.Size([1]) torch.Size([1, 1])\n",
      "torch.Size([1]) torch.Size([1, 1])\n",
      "torch.Size([1])"
     ]
    },
    {
     "name": "stderr",
     "output_type": "stream",
     "text": [
      "\r",
      "1055it [01:06, 15.46it/s]"
     ]
    },
    {
     "name": "stdout",
     "output_type": "stream",
     "text": [
      " torch.Size([1, 1])\n",
      "torch.Size([1]) torch.Size([1, 1])\n",
      "torch.Size([1]) torch.Size([1, 1])\n",
      "torch.Size([1])"
     ]
    },
    {
     "name": "stderr",
     "output_type": "stream",
     "text": [
      "1059it [01:07, 16.42it/s]"
     ]
    },
    {
     "name": "stdout",
     "output_type": "stream",
     "text": [
      " torch.Size([1, 1])\n",
      "torch.Size([1]) torch.Size([1, 1])\n",
      "torch.Size([1]) torch.Size([1, 1])\n",
      "torch.Size([1]) torch.Size([1, 1])\n"
     ]
    },
    {
     "name": "stderr",
     "output_type": "stream",
     "text": [
      "1063it [01:07, 17.29it/s]"
     ]
    },
    {
     "name": "stdout",
     "output_type": "stream",
     "text": [
      "torch.Size([1]) torch.Size([1, 1])\n",
      "torch.Size([1]) torch.Size([1, 1])\n",
      "torch.Size([1]) torch.Size([1, 1])\n",
      "torch.Size([1]) torch.Size([1, 1])\n"
     ]
    },
    {
     "name": "stderr",
     "output_type": "stream",
     "text": [
      "1067it [01:07, 16.12it/s]"
     ]
    },
    {
     "name": "stdout",
     "output_type": "stream",
     "text": [
      "torch.Size([1]) torch.Size([1, 1])\n",
      "torch.Size([1]) torch.Size([1, 1])\n",
      "torch.Size([1]) torch.Size([1, 1])\n",
      "torch.Size([1])"
     ]
    },
    {
     "name": "stderr",
     "output_type": "stream",
     "text": [
      "\r",
      "1069it [01:07, 15.35it/s]"
     ]
    },
    {
     "name": "stdout",
     "output_type": "stream",
     "text": [
      " torch.Size([1, 1])\n",
      "torch.Size([1]) torch.Size([1, 1])\n",
      "torch.Size([1]) torch.Size([1, 1])\n"
     ]
    },
    {
     "name": "stderr",
     "output_type": "stream",
     "text": [
      "1073it [01:08, 15.82it/s]"
     ]
    },
    {
     "name": "stdout",
     "output_type": "stream",
     "text": [
      "torch.Size([1]) torch.Size([1, 1])\n",
      "torch.Size([1]) torch.Size([1, 1])\n",
      "torch.Size([1]) torch.Size([1, 1])\n",
      "torch.Size([1])"
     ]
    },
    {
     "name": "stderr",
     "output_type": "stream",
     "text": [
      "1077it [01:08, 16.38it/s]"
     ]
    },
    {
     "name": "stdout",
     "output_type": "stream",
     "text": [
      " torch.Size([1, 1])\n",
      "torch.Size([1]) torch.Size([1, 1])\n",
      "torch.Size([1]) torch.Size([1, 1])\n",
      "torch.Size([1]) torch.Size([1, 1])\n"
     ]
    },
    {
     "name": "stderr",
     "output_type": "stream",
     "text": [
      "1081it [01:08, 16.85it/s]"
     ]
    },
    {
     "name": "stdout",
     "output_type": "stream",
     "text": [
      "torch.Size([1]) torch.Size([1, 1])\n",
      "torch.Size([1]) torch.Size([1, 1])\n",
      "torch.Size([1]) torch.Size([1, 1])\n",
      "torch.Size([1]) torch.Size([1, 1])\n"
     ]
    },
    {
     "name": "stderr",
     "output_type": "stream",
     "text": [
      "1085it [01:08, 16.95it/s]"
     ]
    },
    {
     "name": "stdout",
     "output_type": "stream",
     "text": [
      "torch.Size([1]) torch.Size([1, 1])\n",
      "torch.Size([1]) torch.Size([1, 1])\n",
      "torch.Size([1]) torch.Size([1, 1])\n",
      "torch.Size([1]) torch.Size([1, 1])\n"
     ]
    },
    {
     "name": "stderr",
     "output_type": "stream",
     "text": [
      "\r",
      "1087it [01:08, 16.70it/s]"
     ]
    },
    {
     "name": "stdout",
     "output_type": "stream",
     "text": [
      "torch.Size([1]) torch.Size([1, 1])\n",
      "torch.Size([1]) torch.Size([1, 1])\n",
      "torch.Size([1]) torch.Size([1, 1])\n",
      "torch.Size([1])"
     ]
    },
    {
     "name": "stderr",
     "output_type": "stream",
     "text": [
      "1091it [01:09, 16.44it/s]"
     ]
    },
    {
     "name": "stdout",
     "output_type": "stream",
     "text": [
      " torch.Size([1, 1])\n",
      "torch.Size([1]) torch.Size([1, 1])\n",
      "torch.Size([1]) torch.Size([1, 1])\n",
      "torch.Size([1])"
     ]
    },
    {
     "name": "stderr",
     "output_type": "stream",
     "text": [
      "\r",
      "1093it [01:09, 16.39it/s]"
     ]
    },
    {
     "name": "stdout",
     "output_type": "stream",
     "text": [
      " torch.Size([1, 1])\n",
      "torch.Size([1]) torch.Size([1, 1])\n",
      "torch.Size([1]) torch.Size([1, 1])\n",
      "torch.Size([1])"
     ]
    },
    {
     "name": "stderr",
     "output_type": "stream",
     "text": [
      "1097it [01:09, 16.17it/s]"
     ]
    },
    {
     "name": "stdout",
     "output_type": "stream",
     "text": [
      " torch.Size([1, 1])\n",
      "torch.Size([1]) torch.Size([1, 1])\n",
      "torch.Size([1]) torch.Size([1, 1])\n",
      "torch.Size([1])"
     ]
    },
    {
     "name": "stderr",
     "output_type": "stream",
     "text": [
      "\r",
      "1099it [01:09, 15.52it/s]"
     ]
    },
    {
     "name": "stdout",
     "output_type": "stream",
     "text": [
      " torch.Size([1, 1])\n",
      "torch.Size([1]) torch.Size([1, 1])\n",
      "torch.Size([1]) torch.Size([1, 1])\n",
      "torch.Size([1])"
     ]
    },
    {
     "name": "stderr",
     "output_type": "stream",
     "text": [
      "1103it [01:09, 16.24it/s]"
     ]
    },
    {
     "name": "stdout",
     "output_type": "stream",
     "text": [
      " torch.Size([1, 1])\n",
      "torch.Size([1]) torch.Size([1, 1])\n",
      "torch.Size([1]) torch.Size([1, 1])\n",
      "torch.Size([1])"
     ]
    },
    {
     "name": "stderr",
     "output_type": "stream",
     "text": [
      "1107it [01:10, 16.07it/s]"
     ]
    },
    {
     "name": "stdout",
     "output_type": "stream",
     "text": [
      " torch.Size([1, 1])\n",
      "torch.Size([1]) torch.Size([1, 1])\n",
      "torch.Size([1]) torch.Size([1, 1])\n",
      "torch.Size([1]) torch.Size([1, 1])\n"
     ]
    },
    {
     "name": "stderr",
     "output_type": "stream",
     "text": [
      "\r",
      "1109it [01:10, 15.49it/s]"
     ]
    },
    {
     "name": "stdout",
     "output_type": "stream",
     "text": [
      "torch.Size([1]) torch.Size([1, 1])\n",
      "torch.Size([1]) torch.Size([1, 1])\n",
      "torch.Size([1]) torch.Size([1, 1])\n"
     ]
    },
    {
     "name": "stderr",
     "output_type": "stream",
     "text": [
      "1113it [01:10, 14.67it/s]"
     ]
    },
    {
     "name": "stdout",
     "output_type": "stream",
     "text": [
      "torch.Size([1]) torch.Size([1, 1])\n",
      "torch.Size([1]) torch.Size([1, 1])\n",
      "torch.Size([1]) torch.Size([1, 1])\n",
      "torch.Size([1])"
     ]
    },
    {
     "name": "stderr",
     "output_type": "stream",
     "text": [
      "\r",
      "1115it [01:10, 15.51it/s]"
     ]
    },
    {
     "name": "stdout",
     "output_type": "stream",
     "text": [
      " torch.Size([1, 1])\n",
      "torch.Size([1]) torch.Size([1, 1])\n",
      "torch.Size([1]) torch.Size([1, 1])\n",
      "torch.Size([1])"
     ]
    },
    {
     "name": "stderr",
     "output_type": "stream",
     "text": [
      "1119it [01:10, 15.64it/s]"
     ]
    },
    {
     "name": "stdout",
     "output_type": "stream",
     "text": [
      " torch.Size([1, 1])\n",
      "torch.Size([1]) torch.Size([1, 1])\n",
      "torch.Size([1]) torch.Size([1, 1])\n",
      "torch.Size([1])"
     ]
    },
    {
     "name": "stderr",
     "output_type": "stream",
     "text": [
      "\r",
      "1121it [01:11, 15.04it/s]"
     ]
    },
    {
     "name": "stdout",
     "output_type": "stream",
     "text": [
      " torch.Size([1, 1])\n",
      "torch.Size([1]) torch.Size([1, 1])\n"
     ]
    },
    {
     "name": "stderr",
     "output_type": "stream",
     "text": [
      "\r",
      "1123it [01:11, 12.39it/s]"
     ]
    },
    {
     "name": "stdout",
     "output_type": "stream",
     "text": [
      "torch.Size([1]) torch.Size([1, 1])\n",
      "torch.Size([1]) torch.Size([1, 1])\n",
      "torch.Size([1]) torch.Size([1, 1])\n",
      "torch.Size([1])"
     ]
    },
    {
     "name": "stderr",
     "output_type": "stream",
     "text": [
      "1127it [01:11, 13.81it/s]"
     ]
    },
    {
     "name": "stdout",
     "output_type": "stream",
     "text": [
      " torch.Size([1, 1])\n",
      "torch.Size([1]) torch.Size([1, 1])\n",
      "torch.Size([1]) torch.Size([1, 1])\n",
      "torch.Size([1])"
     ]
    },
    {
     "name": "stderr",
     "output_type": "stream",
     "text": [
      "\r",
      "1129it [01:11, 14.16it/s]"
     ]
    },
    {
     "name": "stdout",
     "output_type": "stream",
     "text": [
      " torch.Size([1, 1])\n",
      "torch.Size([1]) torch.Size([1, 1])\n",
      "torch.Size([1]) torch.Size([1, 1])\n",
      "torch.Size([1])"
     ]
    },
    {
     "name": "stderr",
     "output_type": "stream",
     "text": [
      "1133it [01:11, 14.94it/s]"
     ]
    },
    {
     "name": "stdout",
     "output_type": "stream",
     "text": [
      " torch.Size([1, 1])\n",
      "torch.Size([1]) torch.Size([1, 1])\n",
      "torch.Size([1]) torch.Size([1, 1])\n",
      "torch.Size([1])"
     ]
    },
    {
     "name": "stderr",
     "output_type": "stream",
     "text": [
      "1137it [01:12, 15.84it/s]"
     ]
    },
    {
     "name": "stdout",
     "output_type": "stream",
     "text": [
      " torch.Size([1, 1])\n",
      "torch.Size([1]) torch.Size([1, 1])\n",
      "torch.Size([1]) torch.Size([1, 1])\n",
      "torch.Size([1]) torch.Size([1, 1])\n"
     ]
    },
    {
     "name": "stderr",
     "output_type": "stream",
     "text": [
      "\r",
      "1139it [01:12, 16.32it/s]"
     ]
    },
    {
     "name": "stdout",
     "output_type": "stream",
     "text": [
      "torch.Size([1]) torch.Size([1, 1])\n",
      "torch.Size([1]) torch.Size([1, 1])\n",
      "torch.Size([1]) torch.Size([1, 1])\n",
      "torch.Size([1])"
     ]
    },
    {
     "name": "stderr",
     "output_type": "stream",
     "text": [
      "1143it [01:12, 15.95it/s]"
     ]
    },
    {
     "name": "stdout",
     "output_type": "stream",
     "text": [
      " torch.Size([1, 1])\n",
      "torch.Size([1]) torch.Size([1, 1])\n",
      "torch.Size([1]) torch.Size([1, 1])\n",
      "torch.Size([1])"
     ]
    },
    {
     "name": "stderr",
     "output_type": "stream",
     "text": [
      "\r",
      "1145it [01:12, 16.01it/s]"
     ]
    },
    {
     "name": "stdout",
     "output_type": "stream",
     "text": [
      " torch.Size([1, 1])\n",
      "torch.Size([1]) torch.Size([1, 1])\n",
      "torch.Size([1]) torch.Size([1, 1])\n",
      "torch.Size([1]) "
     ]
    },
    {
     "name": "stderr",
     "output_type": "stream",
     "text": [
      "1149it [01:12, 15.49it/s]"
     ]
    },
    {
     "name": "stdout",
     "output_type": "stream",
     "text": [
      "torch.Size([1, 1])\n",
      "torch.Size([1]) torch.Size([1, 1])\n",
      "torch.Size([1]) torch.Size([1, 1])\n",
      "torch.Size([1])"
     ]
    },
    {
     "name": "stderr",
     "output_type": "stream",
     "text": [
      "\r",
      "1151it [01:13, 15.68it/s]"
     ]
    },
    {
     "name": "stdout",
     "output_type": "stream",
     "text": [
      " torch.Size([1, 1])\n",
      "torch.Size([1]) torch.Size([1, 1])\n",
      "torch.Size([1]) torch.Size([1, 1])\n",
      "torch.Size([1])"
     ]
    },
    {
     "name": "stderr",
     "output_type": "stream",
     "text": [
      "1155it [01:13, 15.90it/s]"
     ]
    },
    {
     "name": "stdout",
     "output_type": "stream",
     "text": [
      " torch.Size([1, 1])\n",
      "torch.Size([1]) torch.Size([1, 1])\n",
      "torch.Size([1]) torch.Size([1, 1])\n",
      "torch.Size([1])"
     ]
    },
    {
     "name": "stderr",
     "output_type": "stream",
     "text": [
      "\r",
      "1157it [01:13, 15.71it/s]"
     ]
    },
    {
     "name": "stdout",
     "output_type": "stream",
     "text": [
      " torch.Size([1, 1])\n",
      "torch.Size([1]) torch.Size([1, 1])\n",
      "torch.Size([1]) torch.Size([1, 1])\n",
      "torch.Size([1])"
     ]
    },
    {
     "name": "stderr",
     "output_type": "stream",
     "text": [
      "1161it [01:13, 15.66it/s]"
     ]
    },
    {
     "name": "stdout",
     "output_type": "stream",
     "text": [
      " torch.Size([1, 1])\n",
      "torch.Size([1]) torch.Size([1, 1])\n",
      "torch.Size([1]) torch.Size([1, 1])\n",
      "torch.Size([1])"
     ]
    },
    {
     "name": "stderr",
     "output_type": "stream",
     "text": [
      "\r",
      "1163it [01:13, 15.69it/s]"
     ]
    },
    {
     "name": "stdout",
     "output_type": "stream",
     "text": [
      " torch.Size([1, 1])\n",
      "torch.Size([1]) torch.Size([1, 1])\n",
      "torch.Size([1]) torch.Size([1, 1])\n",
      "torch.Size([1])"
     ]
    },
    {
     "name": "stderr",
     "output_type": "stream",
     "text": [
      "1167it [01:14, 15.78it/s]"
     ]
    },
    {
     "name": "stdout",
     "output_type": "stream",
     "text": [
      " torch.Size([1, 1])\n",
      "torch.Size([1]) torch.Size([1, 1])\n",
      "torch.Size([1]) torch.Size([1, 1])\n",
      "torch.Size([1])"
     ]
    },
    {
     "name": "stderr",
     "output_type": "stream",
     "text": [
      "\r",
      "1169it [01:14, 15.89it/s]"
     ]
    },
    {
     "name": "stdout",
     "output_type": "stream",
     "text": [
      " torch.Size([1, 1])\n",
      "torch.Size([1]) torch.Size([1, 1])\n",
      "torch.Size([1]) torch.Size([1, 1])\n",
      "torch.Size([1])"
     ]
    },
    {
     "name": "stderr",
     "output_type": "stream",
     "text": [
      "1173it [01:14, 16.23it/s]"
     ]
    },
    {
     "name": "stdout",
     "output_type": "stream",
     "text": [
      " torch.Size([1, 1])\n",
      "torch.Size([1]) torch.Size([1, 1])\n",
      "torch.Size([1]) torch.Size([1, 1])\n",
      "torch.Size([1]) torch.Size([1, 1])\n"
     ]
    },
    {
     "name": "stderr",
     "output_type": "stream",
     "text": [
      "1177it [01:14, 16.38it/s]"
     ]
    },
    {
     "name": "stdout",
     "output_type": "stream",
     "text": [
      "torch.Size([1]) torch.Size([1, 1])\n",
      "torch.Size([1]) torch.Size([1, 1])\n",
      "torch.Size([1]) torch.Size([1, 1])\n",
      "torch.Size([1]) torch.Size([1, 1])\n"
     ]
    },
    {
     "name": "stderr",
     "output_type": "stream",
     "text": [
      "1181it [01:14, 15.86it/s]"
     ]
    },
    {
     "name": "stdout",
     "output_type": "stream",
     "text": [
      "torch.Size([1]) torch.Size([1, 1])\n",
      "torch.Size([1]) torch.Size([1, 1])\n",
      "torch.Size([1]) torch.Size([1, 1])\n",
      "torch.Size([1])"
     ]
    },
    {
     "name": "stderr",
     "output_type": "stream",
     "text": [
      "\r",
      "1183it [01:15, 15.99it/s]"
     ]
    },
    {
     "name": "stdout",
     "output_type": "stream",
     "text": [
      " torch.Size([1, 1])\n",
      "torch.Size([1]) torch.Size([1, 1])\n",
      "torch.Size([1]) torch.Size([1, 1])\n",
      "torch.Size([1])"
     ]
    },
    {
     "name": "stderr",
     "output_type": "stream",
     "text": [
      "\r",
      "1185it [01:15, 15.06it/s]"
     ]
    },
    {
     "name": "stdout",
     "output_type": "stream",
     "text": [
      " torch.Size([1, 1])\n"
     ]
    },
    {
     "name": "stderr",
     "output_type": "stream",
     "text": [
      "\r",
      "1187it [01:15, 10.90it/s]"
     ]
    },
    {
     "name": "stdout",
     "output_type": "stream",
     "text": [
      "torch.Size([1]) torch.Size([1, 1])\n",
      "torch.Size([1]) torch.Size([1, 1])\n",
      "torch.Size([1]) torch.Size([1, 1])\n"
     ]
    },
    {
     "name": "stderr",
     "output_type": "stream",
     "text": [
      "1191it [01:15, 13.17it/s]"
     ]
    },
    {
     "name": "stdout",
     "output_type": "stream",
     "text": [
      "torch.Size([1]) torch.Size([1, 1])\n",
      "torch.Size([1]) torch.Size([1, 1])\n",
      "torch.Size([1]) torch.Size([1, 1])\n",
      "torch.Size([1]) torch.Size([1, 1])\n"
     ]
    },
    {
     "name": "stderr",
     "output_type": "stream",
     "text": [
      "1195it [01:16, 13.99it/s]"
     ]
    },
    {
     "name": "stdout",
     "output_type": "stream",
     "text": [
      "torch.Size([1]) torch.Size([1, 1])\n",
      "torch.Size([1]) torch.Size([1, 1])\n",
      "torch.Size([1]) torch.Size([1, 1])\n"
     ]
    },
    {
     "name": "stderr",
     "output_type": "stream",
     "text": [
      "\r",
      "1197it [01:16, 14.36it/s]"
     ]
    },
    {
     "name": "stdout",
     "output_type": "stream",
     "text": [
      "torch.Size([1]) torch.Size([1, 1])\n",
      "torch.Size([1]) torch.Size([1, 1])\n",
      "torch.Size([1]) torch.Size([1, 1])\n",
      "torch.Size([1])"
     ]
    },
    {
     "name": "stderr",
     "output_type": "stream",
     "text": [
      "1201it [01:16, 15.29it/s]"
     ]
    },
    {
     "name": "stdout",
     "output_type": "stream",
     "text": [
      " torch.Size([1, 1])\n",
      "torch.Size([1]) torch.Size([1, 1])\n",
      "torch.Size([1]) torch.Size([1, 1])\n",
      "torch.Size([1])"
     ]
    },
    {
     "name": "stderr",
     "output_type": "stream",
     "text": [
      "\r",
      "1203it [01:16, 14.88it/s]"
     ]
    },
    {
     "name": "stdout",
     "output_type": "stream",
     "text": [
      " torch.Size([1, 1])\n",
      "torch.Size([1]) torch.Size([1, 1])\n",
      "torch.Size([1]) torch.Size([1, 1])\n"
     ]
    },
    {
     "name": "stderr",
     "output_type": "stream",
     "text": [
      "1207it [01:16, 14.45it/s]"
     ]
    },
    {
     "name": "stdout",
     "output_type": "stream",
     "text": [
      "torch.Size([1]) torch.Size([1, 1])\n",
      "torch.Size([1]) torch.Size([1, 1])\n",
      "torch.Size([1]) torch.Size([1, 1])\n"
     ]
    },
    {
     "name": "stderr",
     "output_type": "stream",
     "text": [
      "\r",
      "1209it [01:16, 14.47it/s]"
     ]
    },
    {
     "name": "stdout",
     "output_type": "stream",
     "text": [
      "torch.Size([1]) torch.Size([1, 1])\n",
      "torch.Size([1]) torch.Size([1, 1])\n",
      "torch.Size([1]) torch.Size([1, 1])\n",
      "torch.Size([1])"
     ]
    },
    {
     "name": "stderr",
     "output_type": "stream",
     "text": [
      "1213it [01:17, 15.04it/s]"
     ]
    },
    {
     "name": "stdout",
     "output_type": "stream",
     "text": [
      " torch.Size([1, 1])\n",
      "torch.Size([1]) torch.Size([1, 1])\n",
      "torch.Size([1]) torch.Size([1, 1])\n",
      "torch.Size([1])"
     ]
    },
    {
     "name": "stderr",
     "output_type": "stream",
     "text": [
      "1217it [01:17, 16.11it/s]"
     ]
    },
    {
     "name": "stdout",
     "output_type": "stream",
     "text": [
      " torch.Size([1, 1])\n",
      "torch.Size([1]) torch.Size([1, 1])\n",
      "torch.Size([1]) torch.Size([1, 1])\n",
      "torch.Size([1]) torch.Size([1, 1])\n"
     ]
    },
    {
     "name": "stderr",
     "output_type": "stream",
     "text": [
      "\r",
      "1219it [01:17, 15.17it/s]"
     ]
    },
    {
     "name": "stdout",
     "output_type": "stream",
     "text": [
      "torch.Size([1]) torch.Size([1, 1])\n",
      "torch.Size([1]) torch.Size([1, 1])\n",
      "torch.Size([1]) torch.Size([1, 1])\n"
     ]
    },
    {
     "name": "stderr",
     "output_type": "stream",
     "text": [
      "1223it [01:17, 15.16it/s]"
     ]
    },
    {
     "name": "stdout",
     "output_type": "stream",
     "text": [
      "torch.Size([1]) torch.Size([1, 1])\n",
      "torch.Size([1]) torch.Size([1, 1])\n",
      "torch.Size([1]) torch.Size([1, 1])\n",
      "torch.Size([1])"
     ]
    },
    {
     "name": "stderr",
     "output_type": "stream",
     "text": [
      "\r",
      "1225it [01:17, 15.37it/s]"
     ]
    },
    {
     "name": "stdout",
     "output_type": "stream",
     "text": [
      " torch.Size([1, 1])\n",
      "torch.Size([1]) torch.Size([1, 1])\n",
      "torch.Size([1]) torch.Size([1, 1])\n",
      "torch.Size([1])"
     ]
    },
    {
     "name": "stderr",
     "output_type": "stream",
     "text": [
      "1229it [01:18, 15.98it/s]"
     ]
    },
    {
     "name": "stdout",
     "output_type": "stream",
     "text": [
      " torch.Size([1, 1])\n",
      "torch.Size([1]) torch.Size([1, 1])\n",
      "torch.Size([1]) torch.Size([1, 1])\n",
      "torch.Size([1]) torch.Size([1, 1])\n"
     ]
    },
    {
     "name": "stderr",
     "output_type": "stream",
     "text": [
      "1233it [01:18, 16.61it/s]"
     ]
    },
    {
     "name": "stdout",
     "output_type": "stream",
     "text": [
      "torch.Size([1]) torch.Size([1, 1])\n",
      "torch.Size([1]) torch.Size([1, 1])\n",
      "torch.Size([1]) torch.Size([1, 1])\n",
      "torch.Size([1]) torch.Size([1, 1])\n"
     ]
    },
    {
     "name": "stderr",
     "output_type": "stream",
     "text": [
      "1237it [01:18, 16.64it/s]"
     ]
    },
    {
     "name": "stdout",
     "output_type": "stream",
     "text": [
      "torch.Size([1]) torch.Size([1, 1])\n",
      "torch.Size([1]) torch.Size([1, 1])\n",
      "torch.Size([1]) torch.Size([1, 1])\n",
      "torch.Size([1]) torch.Size([1, 1])\n"
     ]
    },
    {
     "name": "stderr",
     "output_type": "stream",
     "text": [
      "1241it [01:18, 16.20it/s]"
     ]
    },
    {
     "name": "stdout",
     "output_type": "stream",
     "text": [
      "torch.Size([1]) torch.Size([1, 1])\n",
      "torch.Size([1]) torch.Size([1, 1])\n",
      "torch.Size([1]) torch.Size([1, 1])\n"
     ]
    },
    {
     "name": "stderr",
     "output_type": "stream",
     "text": [
      "\r",
      "1243it [01:19, 15.80it/s]"
     ]
    },
    {
     "name": "stdout",
     "output_type": "stream",
     "text": [
      "torch.Size([1]) torch.Size([1, 1])\n",
      "torch.Size([1]) torch.Size([1, 1])\n",
      "torch.Size([1]) torch.Size([1, 1])\n",
      "torch.Size([1])"
     ]
    },
    {
     "name": "stderr",
     "output_type": "stream",
     "text": [
      "1247it [01:19, 15.89it/s]"
     ]
    },
    {
     "name": "stdout",
     "output_type": "stream",
     "text": [
      " torch.Size([1, 1])\n",
      "torch.Size([1]) torch.Size([1, 1])\n",
      "torch.Size([1]) torch.Size([1, 1])\n",
      "torch.Size([1])"
     ]
    },
    {
     "name": "stderr",
     "output_type": "stream",
     "text": [
      "\r",
      "1249it [01:19, 16.08it/s]"
     ]
    },
    {
     "name": "stdout",
     "output_type": "stream",
     "text": [
      " torch.Size([1, 1])\n",
      "torch.Size([1]) torch.Size([1, 1])\n",
      "torch.Size([1]) torch.Size([1, 1])\n",
      "torch.Size([1])"
     ]
    },
    {
     "name": "stderr",
     "output_type": "stream",
     "text": [
      "1253it [01:19, 16.42it/s]"
     ]
    },
    {
     "name": "stdout",
     "output_type": "stream",
     "text": [
      " torch.Size([1, 1])\n",
      "torch.Size([1]) torch.Size([1, 1])\n",
      "torch.Size([1]) torch.Size([1, 1])\n",
      "torch.Size([1]) torch.Size([1, 1])\n"
     ]
    },
    {
     "name": "stderr",
     "output_type": "stream",
     "text": [
      "1257it [01:19, 15.80it/s]"
     ]
    },
    {
     "name": "stdout",
     "output_type": "stream",
     "text": [
      "torch.Size([1]) torch.Size([1, 1])\n",
      "torch.Size([1]) torch.Size([1, 1])\n",
      "torch.Size([1]) torch.Size([1, 1])\n",
      "torch.Size([1])"
     ]
    },
    {
     "name": "stderr",
     "output_type": "stream",
     "text": [
      "\r",
      "1259it [01:20, 16.41it/s]"
     ]
    },
    {
     "name": "stdout",
     "output_type": "stream",
     "text": [
      " torch.Size([1, 1])\n",
      "torch.Size([1]) torch.Size([1, 1])\n",
      "torch.Size([1]) torch.Size([1, 1])\n",
      "torch.Size([1])"
     ]
    },
    {
     "name": "stderr",
     "output_type": "stream",
     "text": [
      "1263it [01:20, 16.31it/s]"
     ]
    },
    {
     "name": "stdout",
     "output_type": "stream",
     "text": [
      " torch.Size([1, 1])\n",
      "torch.Size([1]) torch.Size([1, 1])\n",
      "torch.Size([1]) torch.Size([1, 1])\n",
      "torch.Size([1])"
     ]
    },
    {
     "name": "stderr",
     "output_type": "stream",
     "text": [
      "1267it [01:20, 16.93it/s]"
     ]
    },
    {
     "name": "stdout",
     "output_type": "stream",
     "text": [
      " torch.Size([1, 1])\n",
      "torch.Size([1]) torch.Size([1, 1])\n",
      "torch.Size([1]) torch.Size([1, 1])\n",
      "torch.Size([1]) torch.Size([1, 1])\n"
     ]
    },
    {
     "name": "stderr",
     "output_type": "stream",
     "text": [
      "\r",
      "1269it [01:20, 17.47it/s]"
     ]
    },
    {
     "name": "stdout",
     "output_type": "stream",
     "text": [
      "torch.Size([1]) torch.Size([1, 1])\n",
      "torch.Size([1]) torch.Size([1, 1])\n",
      "torch.Size([1]) torch.Size([1, 1])\n",
      "torch.Size([1])"
     ]
    },
    {
     "name": "stderr",
     "output_type": "stream",
     "text": [
      "1273it [01:20, 16.36it/s]"
     ]
    },
    {
     "name": "stdout",
     "output_type": "stream",
     "text": [
      " torch.Size([1, 1])\n",
      "torch.Size([1]) torch.Size([1, 1])\n",
      "torch.Size([1]) torch.Size([1, 1])\n",
      "torch.Size([1])"
     ]
    },
    {
     "name": "stderr",
     "output_type": "stream",
     "text": [
      "1277it [01:21, 16.49it/s]"
     ]
    },
    {
     "name": "stdout",
     "output_type": "stream",
     "text": [
      " torch.Size([1, 1])\n",
      "torch.Size([1]) torch.Size([1, 1])\n",
      "torch.Size([1]) torch.Size([1, 1])\n",
      "torch.Size([1]) torch.Size([1, 1])\n"
     ]
    },
    {
     "name": "stderr",
     "output_type": "stream",
     "text": [
      "\r",
      "1279it [01:21, 16.80it/s]"
     ]
    },
    {
     "name": "stdout",
     "output_type": "stream",
     "text": [
      "torch.Size([1]) torch.Size([1, 1])\n",
      "torch.Size([1]) torch.Size([1, 1])\n",
      "torch.Size([1]) torch.Size([1, 1])\n",
      "torch.Size([1])"
     ]
    },
    {
     "name": "stderr",
     "output_type": "stream",
     "text": [
      "1283it [01:21, 15.35it/s]"
     ]
    },
    {
     "name": "stdout",
     "output_type": "stream",
     "text": [
      " torch.Size([1, 1])\n",
      "torch.Size([1]) torch.Size([1, 1])\n",
      "torch.Size([1]) torch.Size([1, 1])\n",
      "torch.Size([1])"
     ]
    },
    {
     "name": "stderr",
     "output_type": "stream",
     "text": [
      "\r",
      "1285it [01:21, 15.88it/s]"
     ]
    },
    {
     "name": "stdout",
     "output_type": "stream",
     "text": [
      " torch.Size([1, 1])\n",
      "torch.Size([1]) torch.Size([1, 1])\n",
      "torch.Size([1]) torch.Size([1, 1])\n",
      "torch.Size([1]) torch.Size([1, 1])\n"
     ]
    },
    {
     "name": "stderr",
     "output_type": "stream",
     "text": [
      "1289it [01:21, 15.51it/s]"
     ]
    },
    {
     "name": "stdout",
     "output_type": "stream",
     "text": [
      "torch.Size([1]) torch.Size([1, 1])\n",
      "torch.Size([1]) torch.Size([1, 1])\n",
      "torch.Size([1]) torch.Size([1, 1])\n",
      "torch.Size([1])"
     ]
    },
    {
     "name": "stderr",
     "output_type": "stream",
     "text": [
      "1293it [01:22, 15.07it/s]"
     ]
    },
    {
     "name": "stdout",
     "output_type": "stream",
     "text": [
      " torch.Size([1, 1])\n",
      "torch.Size([1]) torch.Size([1, 1])\n",
      "torch.Size([1]) torch.Size([1, 1])\n"
     ]
    },
    {
     "name": "stderr",
     "output_type": "stream",
     "text": [
      "\r",
      "1295it [01:22, 14.63it/s]"
     ]
    },
    {
     "name": "stdout",
     "output_type": "stream",
     "text": [
      "torch.Size([1]) torch.Size([1, 1])\n",
      "torch.Size([1]) torch.Size([1, 1])\n",
      "torch.Size([1]) torch.Size([1, 1])\n",
      "torch.Size([1])"
     ]
    },
    {
     "name": "stderr",
     "output_type": "stream",
     "text": [
      "1299it [01:22, 15.01it/s]"
     ]
    },
    {
     "name": "stdout",
     "output_type": "stream",
     "text": [
      " torch.Size([1, 1])\n",
      "torch.Size([1]) torch.Size([1, 1])\n",
      "torch.Size([1]) torch.Size([1, 1])\n",
      "torch.Size([1])"
     ]
    },
    {
     "name": "stderr",
     "output_type": "stream",
     "text": [
      "\r",
      "1301it [01:22, 15.02it/s]"
     ]
    },
    {
     "name": "stdout",
     "output_type": "stream",
     "text": [
      " torch.Size([1, 1])\n",
      "torch.Size([1]) torch.Size([1, 1])\n",
      "torch.Size([1]) torch.Size([1, 1])\n",
      "torch.Size([1])"
     ]
    },
    {
     "name": "stderr",
     "output_type": "stream",
     "text": [
      "1305it [01:23, 14.79it/s]"
     ]
    },
    {
     "name": "stdout",
     "output_type": "stream",
     "text": [
      " torch.Size([1, 1])\n",
      "torch.Size([1]) torch.Size([1, 1])\n",
      "torch.Size([1]) torch.Size([1, 1])\n"
     ]
    },
    {
     "name": "stderr",
     "output_type": "stream",
     "text": [
      "\r",
      "1307it [01:23, 14.54it/s]"
     ]
    },
    {
     "name": "stdout",
     "output_type": "stream",
     "text": [
      "torch.Size([1]) torch.Size([1, 1])\n",
      "torch.Size([1]) torch.Size([1, 1])\n",
      "torch.Size([1]) torch.Size([1, 1])\n"
     ]
    },
    {
     "name": "stderr",
     "output_type": "stream",
     "text": [
      "1311it [01:23, 14.53it/s]"
     ]
    },
    {
     "name": "stdout",
     "output_type": "stream",
     "text": [
      "torch.Size([1]) torch.Size([1, 1])\n",
      "torch.Size([1]) torch.Size([1, 1])\n",
      "torch.Size([1]) torch.Size([1, 1])\n",
      "torch.Size([1])"
     ]
    },
    {
     "name": "stderr",
     "output_type": "stream",
     "text": [
      "1315it [01:23, 15.73it/s]"
     ]
    },
    {
     "name": "stdout",
     "output_type": "stream",
     "text": [
      " torch.Size([1, 1])\n",
      "torch.Size([1]) torch.Size([1, 1])\n",
      "torch.Size([1]) torch.Size([1, 1])\n",
      "torch.Size([1]) torch.Size([1, 1])\n"
     ]
    },
    {
     "name": "stderr",
     "output_type": "stream",
     "text": [
      "1319it [01:23, 16.31it/s]"
     ]
    },
    {
     "name": "stdout",
     "output_type": "stream",
     "text": [
      "torch.Size([1]) torch.Size([1, 1])\n",
      "torch.Size([1]) torch.Size([1, 1])\n",
      "torch.Size([1]) torch.Size([1, 1])\n",
      "torch.Size([1]) torch.Size([1, 1])\n"
     ]
    },
    {
     "name": "stderr",
     "output_type": "stream",
     "text": [
      "\r",
      "1321it [01:24, 16.30it/s]"
     ]
    },
    {
     "name": "stdout",
     "output_type": "stream",
     "text": [
      "torch.Size([1]) torch.Size([1, 1])\n",
      "torch.Size([1]) torch.Size([1, 1])\n",
      "torch.Size([1]) torch.Size([1, 1])\n",
      "torch.Size([1])"
     ]
    },
    {
     "name": "stderr",
     "output_type": "stream",
     "text": [
      "1325it [01:24, 16.44it/s]"
     ]
    },
    {
     "name": "stdout",
     "output_type": "stream",
     "text": [
      " torch.Size([1, 1])\n",
      "torch.Size([1]) torch.Size([1, 1])\n",
      "torch.Size([1]) torch.Size([1, 1])\n",
      "torch.Size([1]) torch.Size([1, 1])\n"
     ]
    },
    {
     "name": "stderr",
     "output_type": "stream",
     "text": [
      "1329it [01:24, 16.59it/s]"
     ]
    },
    {
     "name": "stdout",
     "output_type": "stream",
     "text": [
      "torch.Size([1]) torch.Size([1, 1])\n",
      "torch.Size([1]) torch.Size([1, 1])\n",
      "torch.Size([1]) torch.Size([1, 1])\n",
      "torch.Size([1]) torch.Size([1, 1])\n"
     ]
    },
    {
     "name": "stderr",
     "output_type": "stream",
     "text": [
      "1333it [01:24, 17.58it/s]"
     ]
    },
    {
     "name": "stdout",
     "output_type": "stream",
     "text": [
      "torch.Size([1]) torch.Size([1, 1])\n",
      "torch.Size([1]) torch.Size([1, 1])\n",
      "torch.Size([1]) torch.Size([1, 1])\n",
      "torch.Size([1]) torch.Size([1, 1])\n"
     ]
    },
    {
     "name": "stderr",
     "output_type": "stream",
     "text": [
      "1337it [01:24, 17.67it/s]"
     ]
    },
    {
     "name": "stdout",
     "output_type": "stream",
     "text": [
      "torch.Size([1]) torch.Size([1, 1])\n",
      "torch.Size([1]) torch.Size([1, 1])\n",
      "torch.Size([1]) torch.Size([1, 1])\n",
      "torch.Size([1]) torch.Size([1, 1])\n"
     ]
    },
    {
     "name": "stderr",
     "output_type": "stream",
     "text": [
      "1341it [01:25, 16.49it/s]"
     ]
    },
    {
     "name": "stdout",
     "output_type": "stream",
     "text": [
      "torch.Size([1]) torch.Size([1, 1])\n",
      "torch.Size([1]) torch.Size([1, 1])\n",
      "torch.Size([1]) torch.Size([1, 1])\n"
     ]
    },
    {
     "name": "stderr",
     "output_type": "stream",
     "text": [
      "\r",
      "1343it [01:25, 15.51it/s]"
     ]
    },
    {
     "name": "stdout",
     "output_type": "stream",
     "text": [
      "torch.Size([1]) torch.Size([1, 1])\n",
      "torch.Size([1]) torch.Size([1, 1])\n",
      "torch.Size([1]) torch.Size([1, 1])\n"
     ]
    },
    {
     "name": "stderr",
     "output_type": "stream",
     "text": [
      "1347it [01:25, 14.78it/s]"
     ]
    },
    {
     "name": "stdout",
     "output_type": "stream",
     "text": [
      "torch.Size([1]) torch.Size([1, 1])\n",
      "torch.Size([1]) torch.Size([1, 1])\n",
      "torch.Size([1]) torch.Size([1, 1])\n",
      "torch.Size([1])"
     ]
    },
    {
     "name": "stderr",
     "output_type": "stream",
     "text": [
      "1351it [01:25, 15.52it/s]"
     ]
    },
    {
     "name": "stdout",
     "output_type": "stream",
     "text": [
      " torch.Size([1, 1])\n",
      "torch.Size([1]) torch.Size([1, 1])\n",
      "torch.Size([1]) torch.Size([1, 1])\n",
      "torch.Size([1]) torch.Size([1, 1])\n"
     ]
    },
    {
     "name": "stderr",
     "output_type": "stream",
     "text": [
      "1355it [01:26, 15.93it/s]"
     ]
    },
    {
     "name": "stdout",
     "output_type": "stream",
     "text": [
      "torch.Size([1]) torch.Size([1, 1])\n",
      "torch.Size([1]) torch.Size([1, 1])\n",
      "torch.Size([1]) torch.Size([1, 1])\n",
      "torch.Size([1]) torch.Size([1, 1])\n"
     ]
    },
    {
     "name": "stderr",
     "output_type": "stream",
     "text": [
      "\r",
      "1357it [01:26, 15.37it/s]"
     ]
    },
    {
     "name": "stdout",
     "output_type": "stream",
     "text": [
      "torch.Size([1]) torch.Size([1, 1])\n",
      "torch.Size([1]) torch.Size([1, 1])\n",
      "torch.Size([1]) torch.Size([1, 1])\n",
      "torch.Size([1])"
     ]
    },
    {
     "name": "stderr",
     "output_type": "stream",
     "text": [
      "1361it [01:26, 16.03it/s]"
     ]
    },
    {
     "name": "stdout",
     "output_type": "stream",
     "text": [
      " torch.Size([1, 1])\n",
      "torch.Size([1]) torch.Size([1, 1])\n",
      "torch.Size([1]) torch.Size([1, 1])\n",
      "torch.Size([1]) torch.Size([1, 1])\n"
     ]
    },
    {
     "name": "stderr",
     "output_type": "stream",
     "text": [
      "1365it [01:26, 16.36it/s]"
     ]
    },
    {
     "name": "stdout",
     "output_type": "stream",
     "text": [
      "torch.Size([1]) torch.Size([1, 1])\n",
      "torch.Size([1]) torch.Size([1, 1])\n",
      "torch.Size([1]) torch.Size([1, 1])\n",
      "torch.Size([1]) torch.Size([1, 1])\n"
     ]
    },
    {
     "name": "stderr",
     "output_type": "stream",
     "text": [
      "1369it [01:26, 16.95it/s]"
     ]
    },
    {
     "name": "stdout",
     "output_type": "stream",
     "text": [
      "torch.Size([1]) torch.Size([1, 1])\n",
      "torch.Size([1]) torch.Size([1, 1])\n",
      "torch.Size([1]) torch.Size([1, 1])\n",
      "torch.Size([1])"
     ]
    },
    {
     "name": "stderr",
     "output_type": "stream",
     "text": [
      "1373it [01:27, 16.41it/s]"
     ]
    },
    {
     "name": "stdout",
     "output_type": "stream",
     "text": [
      " torch.Size([1, 1])\n",
      "torch.Size([1]) torch.Size([1, 1])\n",
      "torch.Size([1]) torch.Size([1, 1])\n",
      "torch.Size([1]) torch.Size([1, 1])\n"
     ]
    },
    {
     "name": "stderr",
     "output_type": "stream",
     "text": [
      "\r",
      "1375it [01:27, 16.45it/s]"
     ]
    },
    {
     "name": "stdout",
     "output_type": "stream",
     "text": [
      "torch.Size([1]) torch.Size([1, 1])\n",
      "torch.Size([1]) torch.Size([1, 1])\n",
      "torch.Size([1]) torch.Size([1, 1])\n",
      "torch.Size([1])"
     ]
    },
    {
     "name": "stderr",
     "output_type": "stream",
     "text": [
      "1379it [01:27, 16.54it/s]"
     ]
    },
    {
     "name": "stdout",
     "output_type": "stream",
     "text": [
      " torch.Size([1, 1])\n",
      "torch.Size([1]) torch.Size([1, 1])\n",
      "torch.Size([1]) torch.Size([1, 1])\n",
      "torch.Size([1]) torch.Size([1, 1])\n"
     ]
    },
    {
     "name": "stderr",
     "output_type": "stream",
     "text": [
      "1383it [01:27, 17.26it/s]"
     ]
    },
    {
     "name": "stdout",
     "output_type": "stream",
     "text": [
      "torch.Size([1]) torch.Size([1, 1])\n",
      "torch.Size([1]) torch.Size([1, 1])\n",
      "torch.Size([1]) torch.Size([1, 1])\n",
      "torch.Size([1]) torch.Size([1, 1])\n"
     ]
    },
    {
     "name": "stderr",
     "output_type": "stream",
     "text": [
      "1387it [01:28, 17.22it/s]"
     ]
    },
    {
     "name": "stdout",
     "output_type": "stream",
     "text": [
      "torch.Size([1]) torch.Size([1, 1])\n",
      "torch.Size([1]) torch.Size([1, 1])\n",
      "torch.Size([1]) torch.Size([1, 1])\n",
      "torch.Size([1])"
     ]
    },
    {
     "name": "stderr",
     "output_type": "stream",
     "text": [
      "\r",
      "1389it [01:28, 16.11it/s]"
     ]
    },
    {
     "name": "stdout",
     "output_type": "stream",
     "text": [
      " torch.Size([1, 1])\n",
      "torch.Size([1]) torch.Size([1, 1])\n",
      "torch.Size([1]) torch.Size([1, 1])\n"
     ]
    },
    {
     "name": "stderr",
     "output_type": "stream",
     "text": [
      "1393it [01:28, 14.54it/s]"
     ]
    },
    {
     "name": "stdout",
     "output_type": "stream",
     "text": [
      "torch.Size([1]) torch.Size([1, 1])\n",
      "torch.Size([1]) torch.Size([1, 1])\n",
      "torch.Size([1]) torch.Size([1, 1])\n",
      "torch.Size([1])"
     ]
    },
    {
     "name": "stderr",
     "output_type": "stream",
     "text": [
      "\r",
      "1395it [01:28, 14.53it/s]"
     ]
    },
    {
     "name": "stdout",
     "output_type": "stream",
     "text": [
      " torch.Size([1, 1])\n",
      "torch.Size([1]) torch.Size([1, 1])\n",
      "torch.Size([1]) torch.Size([1, 1])\n",
      "torch.Size([1])"
     ]
    },
    {
     "name": "stderr",
     "output_type": "stream",
     "text": [
      "1399it [01:28, 15.48it/s]"
     ]
    },
    {
     "name": "stdout",
     "output_type": "stream",
     "text": [
      " torch.Size([1, 1])\n",
      "torch.Size([1]) torch.Size([1, 1])\n",
      "torch.Size([1]) torch.Size([1, 1])\n",
      "torch.Size([1])"
     ]
    },
    {
     "name": "stderr",
     "output_type": "stream",
     "text": [
      "\r",
      "1401it [01:29, 15.04it/s]"
     ]
    },
    {
     "name": "stdout",
     "output_type": "stream",
     "text": [
      " torch.Size([1, 1])\n",
      "torch.Size([1]) torch.Size([1, 1])\n",
      "torch.Size([1]) torch.Size([1, 1])\n",
      "torch.Size([1])"
     ]
    },
    {
     "name": "stderr",
     "output_type": "stream",
     "text": [
      "1405it [01:29, 15.91it/s]"
     ]
    },
    {
     "name": "stdout",
     "output_type": "stream",
     "text": [
      " torch.Size([1, 1])\n",
      "torch.Size([1]) torch.Size([1, 1])\n",
      "torch.Size([1]) torch.Size([1, 1])\n",
      "torch.Size([1]) torch.Size([1, 1])\n"
     ]
    },
    {
     "name": "stderr",
     "output_type": "stream",
     "text": [
      "1409it [01:29, 16.76it/s]"
     ]
    },
    {
     "name": "stdout",
     "output_type": "stream",
     "text": [
      "torch.Size([1]) torch.Size([1, 1])\n",
      "torch.Size([1]) torch.Size([1, 1])\n",
      "torch.Size([1]) torch.Size([1, 1])\n",
      "torch.Size([1]) torch.Size([1, 1])\n"
     ]
    },
    {
     "name": "stderr",
     "output_type": "stream",
     "text": [
      "1413it [01:29, 16.82it/s]"
     ]
    },
    {
     "name": "stdout",
     "output_type": "stream",
     "text": [
      "torch.Size([1]) torch.Size([1, 1])\n",
      "torch.Size([1]) torch.Size([1, 1])\n",
      "torch.Size([1]) torch.Size([1, 1])\n",
      "torch.Size([1]) torch.Size([1, 1])\n"
     ]
    },
    {
     "name": "stderr",
     "output_type": "stream",
     "text": [
      "1417it [01:29, 17.22it/s]"
     ]
    },
    {
     "name": "stdout",
     "output_type": "stream",
     "text": [
      "torch.Size([1]) torch.Size([1, 1])\n",
      "torch.Size([1]) torch.Size([1, 1])\n",
      "torch.Size([1]) torch.Size([1, 1])\n",
      "torch.Size([1]) torch.Size([1, 1])\n"
     ]
    },
    {
     "name": "stderr",
     "output_type": "stream",
     "text": [
      "1421it [01:30, 15.91it/s]"
     ]
    },
    {
     "name": "stdout",
     "output_type": "stream",
     "text": [
      "torch.Size([1]) torch.Size([1, 1])\n",
      "torch.Size([1]) torch.Size([1, 1])\n",
      "torch.Size([1]) torch.Size([1, 1])\n",
      "torch.Size([1])"
     ]
    },
    {
     "name": "stderr",
     "output_type": "stream",
     "text": [
      "1425it [01:30, 16.41it/s]"
     ]
    },
    {
     "name": "stdout",
     "output_type": "stream",
     "text": [
      " torch.Size([1, 1])\n",
      "torch.Size([1]) torch.Size([1, 1])\n",
      "torch.Size([1]) torch.Size([1, 1])\n",
      "torch.Size([1]) torch.Size([1, 1])\n"
     ]
    },
    {
     "name": "stderr",
     "output_type": "stream",
     "text": [
      "\r",
      "1427it [01:30, 15.53it/s]"
     ]
    },
    {
     "name": "stdout",
     "output_type": "stream",
     "text": [
      "torch.Size([1]) torch.Size([1, 1])\n",
      "torch.Size([1]) torch.Size([1, 1])\n",
      "torch.Size([1]) torch.Size([1, 1])\n",
      "torch.Size([1])"
     ]
    },
    {
     "name": "stderr",
     "output_type": "stream",
     "text": [
      "1431it [01:30, 15.39it/s]"
     ]
    },
    {
     "name": "stdout",
     "output_type": "stream",
     "text": [
      " torch.Size([1, 1])\n",
      "torch.Size([1]) torch.Size([1, 1])\n",
      "torch.Size([1]) torch.Size([1, 1])\n",
      "torch.Size([1])"
     ]
    },
    {
     "name": "stderr",
     "output_type": "stream",
     "text": [
      "\r",
      "1433it [01:31, 15.22it/s]"
     ]
    },
    {
     "name": "stdout",
     "output_type": "stream",
     "text": [
      " torch.Size([1, 1])\n",
      "torch.Size([1]) torch.Size([1, 1])\n",
      "torch.Size([1]) torch.Size([1, 1])\n",
      "torch.Size([1])"
     ]
    },
    {
     "name": "stderr",
     "output_type": "stream",
     "text": [
      "1437it [01:31, 15.74it/s]"
     ]
    },
    {
     "name": "stdout",
     "output_type": "stream",
     "text": [
      " torch.Size([1, 1])\n",
      "torch.Size([1]) torch.Size([1, 1])\n",
      "torch.Size([1]) torch.Size([1, 1])\n",
      "torch.Size([1]) torch.Size([1, 1])\n"
     ]
    },
    {
     "name": "stderr",
     "output_type": "stream",
     "text": [
      "1441it [01:31, 16.76it/s]"
     ]
    },
    {
     "name": "stdout",
     "output_type": "stream",
     "text": [
      "torch.Size([1]) torch.Size([1, 1])\n",
      "torch.Size([1]) torch.Size([1, 1])\n",
      "torch.Size([1]) torch.Size([1, 1])\n",
      "torch.Size([1]) torch.Size([1, 1])\n"
     ]
    },
    {
     "name": "stderr",
     "output_type": "stream",
     "text": [
      "1445it [01:31, 17.32it/s]"
     ]
    },
    {
     "name": "stdout",
     "output_type": "stream",
     "text": [
      "torch.Size([1]) torch.Size([1, 1])\n",
      "torch.Size([1]) torch.Size([1, 1])\n",
      "torch.Size([1]) torch.Size([1, 1])\n",
      "torch.Size([1]) torch.Size([1, 1])\n"
     ]
    },
    {
     "name": "stderr",
     "output_type": "stream",
     "text": [
      "1449it [01:31, 16.70it/s]"
     ]
    },
    {
     "name": "stdout",
     "output_type": "stream",
     "text": [
      "torch.Size([1]) torch.Size([1, 1])\n",
      "torch.Size([1]) torch.Size([1, 1])\n",
      "torch.Size([1]) torch.Size([1, 1])\n",
      "torch.Size([1]) torch.Size([1, 1])\n"
     ]
    },
    {
     "name": "stderr",
     "output_type": "stream",
     "text": [
      "1453it [01:32, 17.35it/s]"
     ]
    },
    {
     "name": "stdout",
     "output_type": "stream",
     "text": [
      "torch.Size([1]) torch.Size([1, 1])\n",
      "torch.Size([1]) torch.Size([1, 1])\n",
      "torch.Size([1]) torch.Size([1, 1])\n",
      "torch.Size([1]) torch.Size([1, 1])\n"
     ]
    },
    {
     "name": "stderr",
     "output_type": "stream",
     "text": [
      "1457it [01:32, 17.10it/s]"
     ]
    },
    {
     "name": "stdout",
     "output_type": "stream",
     "text": [
      "torch.Size([1]) torch.Size([1, 1])\n",
      "torch.Size([1]) torch.Size([1, 1])\n",
      "torch.Size([1]) torch.Size([1, 1])\n",
      "torch.Size([1])"
     ]
    },
    {
     "name": "stderr",
     "output_type": "stream",
     "text": [
      "\r",
      "1459it [01:32, 16.88it/s]"
     ]
    },
    {
     "name": "stdout",
     "output_type": "stream",
     "text": [
      " torch.Size([1, 1])\n",
      "torch.Size([1]) torch.Size([1, 1])\n",
      "torch.Size([1]) torch.Size([1, 1])\n",
      "torch.Size([1])"
     ]
    },
    {
     "name": "stderr",
     "output_type": "stream",
     "text": [
      "1463it [01:32, 16.32it/s]"
     ]
    },
    {
     "name": "stdout",
     "output_type": "stream",
     "text": [
      " torch.Size([1, 1])\n",
      "torch.Size([1]) torch.Size([1, 1])\n",
      "torch.Size([1]) torch.Size([1, 1])\n",
      "torch.Size([1]) torch.Size([1, 1])\n"
     ]
    },
    {
     "name": "stderr",
     "output_type": "stream",
     "text": [
      "1467it [01:33, 16.64it/s]"
     ]
    },
    {
     "name": "stdout",
     "output_type": "stream",
     "text": [
      "torch.Size([1]) torch.Size([1, 1])\n",
      "torch.Size([1]) torch.Size([1, 1])\n",
      "torch.Size([1]) torch.Size([1, 1])\n",
      "torch.Size([1]) torch.Size([1, 1])\n"
     ]
    },
    {
     "name": "stderr",
     "output_type": "stream",
     "text": [
      "1471it [01:33, 17.31it/s]"
     ]
    },
    {
     "name": "stdout",
     "output_type": "stream",
     "text": [
      "torch.Size([1]) torch.Size([1, 1])\n",
      "torch.Size([1]) torch.Size([1, 1])\n",
      "torch.Size([1]) torch.Size([1, 1])\n",
      "torch.Size([1]) torch.Size([1, 1])\n"
     ]
    },
    {
     "name": "stderr",
     "output_type": "stream",
     "text": [
      "1475it [01:33, 17.21it/s]"
     ]
    },
    {
     "name": "stdout",
     "output_type": "stream",
     "text": [
      "torch.Size([1]) torch.Size([1, 1])\n",
      "torch.Size([1]) torch.Size([1, 1])\n",
      "torch.Size([1]) torch.Size([1, 1])\n",
      "torch.Size([1]) torch.Size([1, 1])\n"
     ]
    },
    {
     "name": "stderr",
     "output_type": "stream",
     "text": [
      "1479it [01:33, 17.37it/s]"
     ]
    },
    {
     "name": "stdout",
     "output_type": "stream",
     "text": [
      "torch.Size([1]) torch.Size([1, 1])\n",
      "torch.Size([1]) torch.Size([1, 1])\n",
      "torch.Size([1]) torch.Size([1, 1])\n",
      "torch.Size([1]) torch.Size([1, 1])\n"
     ]
    },
    {
     "name": "stderr",
     "output_type": "stream",
     "text": [
      "1483it [01:33, 17.49it/s]"
     ]
    },
    {
     "name": "stdout",
     "output_type": "stream",
     "text": [
      "torch.Size([1]) torch.Size([1, 1])\n",
      "torch.Size([1]) torch.Size([1, 1])\n",
      "torch.Size([1]) torch.Size([1, 1])\n",
      "torch.Size([1]) torch.Size([1, 1])\n"
     ]
    },
    {
     "name": "stderr",
     "output_type": "stream",
     "text": [
      "1487it [01:34, 17.00it/s]"
     ]
    },
    {
     "name": "stdout",
     "output_type": "stream",
     "text": [
      "torch.Size([1]) torch.Size([1, 1])\n",
      "torch.Size([1]) torch.Size([1, 1])\n",
      "torch.Size([1]) torch.Size([1, 1])\n",
      "torch.Size([1])"
     ]
    },
    {
     "name": "stderr",
     "output_type": "stream",
     "text": [
      "\r",
      "1489it [01:34, 16.65it/s]"
     ]
    },
    {
     "name": "stdout",
     "output_type": "stream",
     "text": [
      " torch.Size([1, 1])\n",
      "torch.Size([1]) torch.Size([1, 1])\n",
      "torch.Size([1]) torch.Size([1, 1])\n",
      "torch.Size([1])"
     ]
    },
    {
     "name": "stderr",
     "output_type": "stream",
     "text": [
      "1493it [01:34, 16.92it/s]"
     ]
    },
    {
     "name": "stdout",
     "output_type": "stream",
     "text": [
      " torch.Size([1, 1])\n",
      "torch.Size([1]) torch.Size([1, 1])\n",
      "torch.Size([1]) torch.Size([1, 1])\n",
      "torch.Size([1]) torch.Size([1, 1])\n"
     ]
    },
    {
     "name": "stderr",
     "output_type": "stream",
     "text": [
      "1497it [01:34, 17.37it/s]"
     ]
    },
    {
     "name": "stdout",
     "output_type": "stream",
     "text": [
      "torch.Size([1]) torch.Size([1, 1])\n",
      "torch.Size([1]) torch.Size([1, 1])\n",
      "torch.Size([1]) torch.Size([1, 1])\n",
      "torch.Size([1]) torch.Size([1, 1])\n"
     ]
    },
    {
     "name": "stderr",
     "output_type": "stream",
     "text": [
      "1501it [01:35, 17.19it/s]"
     ]
    },
    {
     "name": "stdout",
     "output_type": "stream",
     "text": [
      "torch.Size([1]) torch.Size([1, 1])\n",
      "torch.Size([1]) torch.Size([1, 1])\n",
      "torch.Size([1]) torch.Size([1, 1])\n",
      "torch.Size([1]) torch.Size([1, 1])\n"
     ]
    },
    {
     "name": "stderr",
     "output_type": "stream",
     "text": [
      "1505it [01:35, 16.72it/s]"
     ]
    },
    {
     "name": "stdout",
     "output_type": "stream",
     "text": [
      "torch.Size([1]) torch.Size([1, 1])\n",
      "torch.Size([1]) torch.Size([1, 1])\n",
      "torch.Size([1]) torch.Size([1, 1])\n",
      "torch.Size([1]) torch.Size([1, 1])\n"
     ]
    },
    {
     "name": "stderr",
     "output_type": "stream",
     "text": [
      "1509it [01:35, 17.06it/s]"
     ]
    },
    {
     "name": "stdout",
     "output_type": "stream",
     "text": [
      "torch.Size([1]) torch.Size([1, 1])\n",
      "torch.Size([1]) torch.Size([1, 1])\n",
      "torch.Size([1]) torch.Size([1, 1])\n",
      "torch.Size([1]) torch.Size([1, 1])\n"
     ]
    },
    {
     "name": "stderr",
     "output_type": "stream",
     "text": [
      "1513it [01:35, 16.99it/s]"
     ]
    },
    {
     "name": "stdout",
     "output_type": "stream",
     "text": [
      "torch.Size([1]) torch.Size([1, 1])\n",
      "torch.Size([1]) torch.Size([1, 1])\n",
      "torch.Size([1]) torch.Size([1, 1])\n",
      "torch.Size([1])"
     ]
    },
    {
     "name": "stderr",
     "output_type": "stream",
     "text": [
      "1517it [01:35, 16.95it/s]"
     ]
    },
    {
     "name": "stdout",
     "output_type": "stream",
     "text": [
      " torch.Size([1, 1])\n",
      "torch.Size([1]) torch.Size([1, 1])\n",
      "torch.Size([1]) torch.Size([1, 1])\n",
      "torch.Size([1]) torch.Size([1, 1])\n"
     ]
    },
    {
     "name": "stderr",
     "output_type": "stream",
     "text": [
      "\r",
      "1519it [01:36, 17.18it/s]"
     ]
    },
    {
     "name": "stdout",
     "output_type": "stream",
     "text": [
      "torch.Size([1]) torch.Size([1, 1])\n",
      "torch.Size([1]) torch.Size([1, 1])\n",
      "torch.Size([1]) torch.Size([1, 1])\n",
      "torch.Size([1])"
     ]
    },
    {
     "name": "stderr",
     "output_type": "stream",
     "text": [
      "1523it [01:36, 15.62it/s]"
     ]
    },
    {
     "name": "stdout",
     "output_type": "stream",
     "text": [
      " torch.Size([1, 1])\n",
      "torch.Size([1]) torch.Size([1, 1])\n",
      "torch.Size([1]) torch.Size([1, 1])\n",
      "torch.Size([1])"
     ]
    },
    {
     "name": "stderr",
     "output_type": "stream",
     "text": [
      "\r",
      "1525it [01:36, 15.74it/s]"
     ]
    },
    {
     "name": "stdout",
     "output_type": "stream",
     "text": [
      " torch.Size([1, 1])\n",
      "torch.Size([1]) torch.Size([1, 1])\n",
      "torch.Size([1]) torch.Size([1, 1])\n",
      "torch.Size([1]) torch.Size([1, 1])\n"
     ]
    },
    {
     "name": "stderr",
     "output_type": "stream",
     "text": [
      "1529it [01:36, 15.80it/s]"
     ]
    },
    {
     "name": "stdout",
     "output_type": "stream",
     "text": [
      "torch.Size([1]) torch.Size([1, 1])\n",
      "torch.Size([1]) torch.Size([1, 1])\n",
      "torch.Size([1]) torch.Size([1, 1])\n",
      "torch.Size([1])"
     ]
    },
    {
     "name": "stderr",
     "output_type": "stream",
     "text": [
      "1533it [01:36, 15.91it/s]"
     ]
    },
    {
     "name": "stdout",
     "output_type": "stream",
     "text": [
      " torch.Size([1, 1])\n",
      "torch.Size([1]) torch.Size([1, 1])\n",
      "torch.Size([1]) torch.Size([1, 1])\n",
      "torch.Size([1])"
     ]
    },
    {
     "name": "stderr",
     "output_type": "stream",
     "text": [
      "\r",
      "1535it [01:37, 16.25it/s]"
     ]
    },
    {
     "name": "stdout",
     "output_type": "stream",
     "text": [
      " torch.Size([1, 1])\n",
      "torch.Size([1]) torch.Size([1, 1])\n",
      "torch.Size([1]) torch.Size([1, 1])\n",
      "torch.Size([1])"
     ]
    },
    {
     "name": "stderr",
     "output_type": "stream",
     "text": [
      "1539it [01:37, 16.04it/s]"
     ]
    },
    {
     "name": "stdout",
     "output_type": "stream",
     "text": [
      " torch.Size([1, 1])\n",
      "torch.Size([1]) torch.Size([1, 1])\n",
      "torch.Size([1]) torch.Size([1, 1])\n",
      "torch.Size([1]) torch.Size([1, 1])\n"
     ]
    },
    {
     "name": "stderr",
     "output_type": "stream",
     "text": [
      "1543it [01:37, 16.15it/s]"
     ]
    },
    {
     "name": "stdout",
     "output_type": "stream",
     "text": [
      "torch.Size([1]) torch.Size([1, 1])\n",
      "torch.Size([1]) torch.Size([1, 1])\n",
      "torch.Size([1]) torch.Size([1, 1])\n",
      "torch.Size([1])"
     ]
    },
    {
     "name": "stderr",
     "output_type": "stream",
     "text": [
      "\r",
      "1545it [01:37, 15.41it/s]"
     ]
    },
    {
     "name": "stdout",
     "output_type": "stream",
     "text": [
      " torch.Size([1, 1])\n",
      "torch.Size([1]) torch.Size([1, 1])\n",
      "torch.Size([1]) torch.Size([1, 1])\n"
     ]
    },
    {
     "name": "stderr",
     "output_type": "stream",
     "text": [
      "1549it [01:37, 15.89it/s]"
     ]
    },
    {
     "name": "stdout",
     "output_type": "stream",
     "text": [
      "torch.Size([1]) torch.Size([1, 1])\n",
      "torch.Size([1]) torch.Size([1, 1])\n",
      "torch.Size([1]) torch.Size([1, 1])\n",
      "torch.Size([1]) torch.Size([1, 1])\n"
     ]
    },
    {
     "name": "stderr",
     "output_type": "stream",
     "text": [
      "1553it [01:38, 16.41it/s]"
     ]
    },
    {
     "name": "stdout",
     "output_type": "stream",
     "text": [
      "torch.Size([1]) torch.Size([1, 1])\n",
      "torch.Size([1]) torch.Size([1, 1])\n",
      "torch.Size([1]) torch.Size([1, 1])\n",
      "torch.Size([1])"
     ]
    },
    {
     "name": "stderr",
     "output_type": "stream",
     "text": [
      "\r",
      "1555it [01:38, 15.90it/s]"
     ]
    },
    {
     "name": "stdout",
     "output_type": "stream",
     "text": [
      " torch.Size([1, 1])\n",
      "torch.Size([1]) torch.Size([1, 1])\n",
      "torch.Size([1]) torch.Size([1, 1])\n",
      "torch.Size([1])"
     ]
    },
    {
     "name": "stderr",
     "output_type": "stream",
     "text": [
      "1559it [01:38, 15.90it/s]"
     ]
    },
    {
     "name": "stdout",
     "output_type": "stream",
     "text": [
      " torch.Size([1, 1])\n",
      "torch.Size([1]) torch.Size([1, 1])\n",
      "torch.Size([1]) torch.Size([1, 1])\n",
      "torch.Size([1]) torch.Size([1, 1])\n"
     ]
    },
    {
     "name": "stderr",
     "output_type": "stream",
     "text": [
      "1563it [01:38, 16.68it/s]"
     ]
    },
    {
     "name": "stdout",
     "output_type": "stream",
     "text": [
      "torch.Size([1]) torch.Size([1, 1])\n",
      "torch.Size([1]) torch.Size([1, 1])\n",
      "torch.Size([1]) torch.Size([1, 1])\n",
      "torch.Size([1])"
     ]
    },
    {
     "name": "stderr",
     "output_type": "stream",
     "text": [
      "\r",
      "1565it [01:38, 16.48it/s]"
     ]
    },
    {
     "name": "stdout",
     "output_type": "stream",
     "text": [
      " torch.Size([1, 1])\n",
      "torch.Size([1]) torch.Size([1, 1])\n",
      "torch.Size([1]) torch.Size([1, 1])\n",
      "torch.Size([1]) torch.Size([1, 1])\n"
     ]
    },
    {
     "name": "stderr",
     "output_type": "stream",
     "text": [
      "1569it [01:39, 16.87it/s]"
     ]
    },
    {
     "name": "stdout",
     "output_type": "stream",
     "text": [
      "torch.Size([1]) torch.Size([1, 1])\n",
      "torch.Size([1]) torch.Size([1, 1])\n",
      "torch.Size([1]) torch.Size([1, 1])\n",
      "torch.Size([1])"
     ]
    },
    {
     "name": "stderr",
     "output_type": "stream",
     "text": [
      "1573it [01:39, 16.48it/s]"
     ]
    },
    {
     "name": "stdout",
     "output_type": "stream",
     "text": [
      " torch.Size([1, 1])\n",
      "torch.Size([1]) torch.Size([1, 1])\n",
      "torch.Size([1]) torch.Size([1, 1])\n",
      "torch.Size([1]) torch.Size([1, 1])\n"
     ]
    },
    {
     "name": "stderr",
     "output_type": "stream",
     "text": [
      "1577it [01:39, 16.58it/s]"
     ]
    },
    {
     "name": "stdout",
     "output_type": "stream",
     "text": [
      "torch.Size([1]) torch.Size([1, 1])\n",
      "torch.Size([1]) torch.Size([1, 1])\n",
      "torch.Size([1]) torch.Size([1, 1])\n",
      "torch.Size([1]) torch.Size([1, 1])\n"
     ]
    },
    {
     "name": "stderr",
     "output_type": "stream",
     "text": [
      "1581it [01:39, 16.45it/s]"
     ]
    },
    {
     "name": "stdout",
     "output_type": "stream",
     "text": [
      "torch.Size([1]) torch.Size([1, 1])\n",
      "torch.Size([1]) torch.Size([1, 1])\n",
      "torch.Size([1]) torch.Size([1, 1])\n"
     ]
    },
    {
     "name": "stderr",
     "output_type": "stream",
     "text": [
      "\r",
      "1583it [01:40, 14.90it/s]"
     ]
    },
    {
     "name": "stdout",
     "output_type": "stream",
     "text": [
      "torch.Size([1]) torch.Size([1, 1])\n",
      "torch.Size([1]) torch.Size([1, 1])\n",
      "torch.Size([1]) torch.Size([1, 1])\n",
      "torch.Size([1])"
     ]
    },
    {
     "name": "stderr",
     "output_type": "stream",
     "text": [
      "1587it [01:40, 15.71it/s]"
     ]
    },
    {
     "name": "stdout",
     "output_type": "stream",
     "text": [
      " torch.Size([1, 1])\n",
      "torch.Size([1]) torch.Size([1, 1])\n",
      "torch.Size([1]) torch.Size([1, 1])\n",
      "torch.Size([1]) torch.Size([1, 1])\n"
     ]
    },
    {
     "name": "stderr",
     "output_type": "stream",
     "text": [
      "1591it [01:40, 16.09it/s]"
     ]
    },
    {
     "name": "stdout",
     "output_type": "stream",
     "text": [
      "torch.Size([1]) torch.Size([1, 1])\n",
      "torch.Size([1]) torch.Size([1, 1])\n",
      "torch.Size([1]) torch.Size([1, 1])\n",
      "torch.Size([1])"
     ]
    },
    {
     "name": "stderr",
     "output_type": "stream",
     "text": [
      "\r",
      "1593it [01:40, 15.92it/s]"
     ]
    },
    {
     "name": "stdout",
     "output_type": "stream",
     "text": [
      " torch.Size([1, 1])\n",
      "torch.Size([1]) torch.Size([1, 1])\n",
      "torch.Size([1]) torch.Size([1, 1])\n",
      "torch.Size([1])"
     ]
    },
    {
     "name": "stderr",
     "output_type": "stream",
     "text": [
      "1597it [01:40, 15.47it/s]"
     ]
    },
    {
     "name": "stdout",
     "output_type": "stream",
     "text": [
      " torch.Size([1, 1])\n",
      "torch.Size([1]) torch.Size([1, 1])\n",
      "torch.Size([1]) torch.Size([1, 1])\n"
     ]
    },
    {
     "name": "stderr",
     "output_type": "stream",
     "text": [
      "1601it [01:41, 15.99it/s]"
     ]
    },
    {
     "name": "stdout",
     "output_type": "stream",
     "text": [
      "torch.Size([1]) torch.Size([1, 1])\n",
      "torch.Size([1]) torch.Size([1, 1])\n",
      "torch.Size([1]) torch.Size([1, 1])\n",
      "torch.Size([1]) torch.Size([1, 1])\n"
     ]
    },
    {
     "name": "stderr",
     "output_type": "stream",
     "text": [
      "\r",
      "1603it [01:41, 16.19it/s]"
     ]
    },
    {
     "name": "stdout",
     "output_type": "stream",
     "text": [
      "torch.Size([1]) torch.Size([1, 1])\n",
      "torch.Size([1]) torch.Size([1, 1])\n",
      "torch.Size([1]) torch.Size([1, 1])\n"
     ]
    },
    {
     "name": "stderr",
     "output_type": "stream",
     "text": [
      "1607it [01:41, 14.97it/s]"
     ]
    },
    {
     "name": "stdout",
     "output_type": "stream",
     "text": [
      "torch.Size([1]) torch.Size([1, 1])\n",
      "torch.Size([1]) torch.Size([1, 1])\n",
      "torch.Size([1]) torch.Size([1, 1])\n",
      "torch.Size([1])"
     ]
    },
    {
     "name": "stderr",
     "output_type": "stream",
     "text": [
      "\r",
      "1609it [01:41, 14.83it/s]"
     ]
    },
    {
     "name": "stdout",
     "output_type": "stream",
     "text": [
      " torch.Size([1, 1])\n",
      "torch.Size([1]) torch.Size([1, 1])\n",
      "torch.Size([1]) torch.Size([1, 1])\n",
      "torch.Size([1])"
     ]
    },
    {
     "name": "stderr",
     "output_type": "stream",
     "text": [
      "1613it [01:42, 14.99it/s]"
     ]
    },
    {
     "name": "stdout",
     "output_type": "stream",
     "text": [
      " torch.Size([1, 1])\n",
      "torch.Size([1]) torch.Size([1, 1])\n",
      "torch.Size([1]) torch.Size([1, 1])\n",
      "torch.Size([1])"
     ]
    },
    {
     "name": "stderr",
     "output_type": "stream",
     "text": [
      "\r",
      "1615it [01:42, 15.25it/s]"
     ]
    },
    {
     "name": "stdout",
     "output_type": "stream",
     "text": [
      " torch.Size([1, 1])\n",
      "torch.Size([1]) torch.Size([1, 1])\n",
      "torch.Size([1]) torch.Size([1, 1])\n",
      "torch.Size([1])"
     ]
    },
    {
     "name": "stderr",
     "output_type": "stream",
     "text": [
      "1619it [01:42, 15.38it/s]"
     ]
    },
    {
     "name": "stdout",
     "output_type": "stream",
     "text": [
      " torch.Size([1, 1])\n",
      "torch.Size([1]) torch.Size([1, 1])\n",
      "torch.Size([1]) torch.Size([1, 1])\n",
      "torch.Size([1])"
     ]
    },
    {
     "name": "stderr",
     "output_type": "stream",
     "text": [
      "\r",
      "1621it [01:42, 15.11it/s]"
     ]
    },
    {
     "name": "stdout",
     "output_type": "stream",
     "text": [
      " torch.Size([1, 1])\n",
      "torch.Size([1]) torch.Size([1, 1])\n",
      "torch.Size([1]) torch.Size([1, 1])\n"
     ]
    },
    {
     "name": "stderr",
     "output_type": "stream",
     "text": [
      "1625it [01:42, 15.67it/s]"
     ]
    },
    {
     "name": "stdout",
     "output_type": "stream",
     "text": [
      "torch.Size([1]) torch.Size([1, 1])\n",
      "torch.Size([1]) torch.Size([1, 1])\n",
      "torch.Size([1]) torch.Size([1, 1])\n",
      "torch.Size([1])"
     ]
    },
    {
     "name": "stderr",
     "output_type": "stream",
     "text": [
      "1629it [01:43, 16.27it/s]"
     ]
    },
    {
     "name": "stdout",
     "output_type": "stream",
     "text": [
      " torch.Size([1, 1])\n",
      "torch.Size([1]) torch.Size([1, 1])\n",
      "torch.Size([1]) torch.Size([1, 1])\n",
      "torch.Size([1]) torch.Size([1, 1])\n"
     ]
    },
    {
     "name": "stderr",
     "output_type": "stream",
     "text": [
      "1633it [01:43, 16.86it/s]"
     ]
    },
    {
     "name": "stdout",
     "output_type": "stream",
     "text": [
      "torch.Size([1]) torch.Size([1, 1])\n",
      "torch.Size([1]) torch.Size([1, 1])\n",
      "torch.Size([1]) torch.Size([1, 1])\n",
      "torch.Size([1]) torch.Size([1, 1])\n"
     ]
    },
    {
     "name": "stderr",
     "output_type": "stream",
     "text": [
      "1637it [01:43, 17.10it/s]"
     ]
    },
    {
     "name": "stdout",
     "output_type": "stream",
     "text": [
      "torch.Size([1]) torch.Size([1, 1])\n",
      "torch.Size([1]) torch.Size([1, 1])\n",
      "torch.Size([1]) torch.Size([1, 1])\n",
      "torch.Size([1]) torch.Size([1, 1])\n"
     ]
    },
    {
     "name": "stderr",
     "output_type": "stream",
     "text": [
      "\r",
      "1639it [01:43, 16.72it/s]"
     ]
    },
    {
     "name": "stdout",
     "output_type": "stream",
     "text": [
      "torch.Size([1]) torch.Size([1, 1])\n",
      "torch.Size([1]) torch.Size([1, 1])\n",
      "torch.Size([1]) torch.Size([1, 1])\n",
      "torch.Size([1])"
     ]
    },
    {
     "name": "stderr",
     "output_type": "stream",
     "text": [
      "1643it [01:43, 15.57it/s]"
     ]
    },
    {
     "name": "stdout",
     "output_type": "stream",
     "text": [
      " torch.Size([1, 1])\n",
      "torch.Size([1]) torch.Size([1, 1])\n",
      "torch.Size([1]) torch.Size([1, 1])\n",
      "torch.Size([1])"
     ]
    },
    {
     "name": "stderr",
     "output_type": "stream",
     "text": [
      "\r",
      "1645it [01:43, 16.24it/s]"
     ]
    },
    {
     "name": "stdout",
     "output_type": "stream",
     "text": [
      " torch.Size([1, 1])\n",
      "torch.Size([1]) torch.Size([1, 1])\n",
      "torch.Size([1]) torch.Size([1, 1])\n",
      "torch.Size([1])"
     ]
    },
    {
     "name": "stderr",
     "output_type": "stream",
     "text": [
      "1649it [01:44, 16.52it/s]"
     ]
    },
    {
     "name": "stdout",
     "output_type": "stream",
     "text": [
      " torch.Size([1, 1])\n",
      "torch.Size([1]) torch.Size([1, 1])\n",
      "torch.Size([1]) torch.Size([1, 1])\n",
      "torch.Size([1]) torch.Size([1, 1])\n"
     ]
    },
    {
     "name": "stderr",
     "output_type": "stream",
     "text": [
      "1653it [01:44, 16.58it/s]"
     ]
    },
    {
     "name": "stdout",
     "output_type": "stream",
     "text": [
      "torch.Size([1]) torch.Size([1, 1])\n",
      "torch.Size([1]) torch.Size([1, 1])\n",
      "torch.Size([1]) torch.Size([1, 1])\n",
      "torch.Size([1])"
     ]
    },
    {
     "name": "stderr",
     "output_type": "stream",
     "text": [
      "\r",
      "1655it [01:44, 16.25it/s]"
     ]
    },
    {
     "name": "stdout",
     "output_type": "stream",
     "text": [
      " torch.Size([1, 1])\n",
      "torch.Size([1]) torch.Size([1, 1])\n",
      "torch.Size([1]) torch.Size([1, 1])\n"
     ]
    },
    {
     "name": "stderr",
     "output_type": "stream",
     "text": [
      "1659it [01:44, 14.96it/s]"
     ]
    },
    {
     "name": "stdout",
     "output_type": "stream",
     "text": [
      "torch.Size([1]) torch.Size([1, 1])\n",
      "torch.Size([1]) torch.Size([1, 1])\n",
      "torch.Size([1]) torch.Size([1, 1])\n",
      "torch.Size([1])"
     ]
    },
    {
     "name": "stderr",
     "output_type": "stream",
     "text": [
      "\r",
      "1661it [01:44, 15.73it/s]"
     ]
    },
    {
     "name": "stdout",
     "output_type": "stream",
     "text": [
      " torch.Size([1, 1])\n",
      "torch.Size([1]) torch.Size([1, 1])\n",
      "torch.Size([1]) torch.Size([1, 1])\n",
      "torch.Size([1])"
     ]
    },
    {
     "name": "stderr",
     "output_type": "stream",
     "text": [
      "1665it [01:45, 16.26it/s]"
     ]
    },
    {
     "name": "stdout",
     "output_type": "stream",
     "text": [
      " torch.Size([1, 1])\n",
      "torch.Size([1]) torch.Size([1, 1])\n",
      "torch.Size([1]) torch.Size([1, 1])\n",
      "torch.Size([1]) torch.Size([1, 1])\n"
     ]
    },
    {
     "name": "stderr",
     "output_type": "stream",
     "text": [
      "1669it [01:45, 17.20it/s]"
     ]
    },
    {
     "name": "stdout",
     "output_type": "stream",
     "text": [
      "torch.Size([1]) torch.Size([1, 1])\n",
      "torch.Size([1]) torch.Size([1, 1])\n",
      "torch.Size([1]) torch.Size([1, 1])\n",
      "torch.Size([1]) torch.Size([1, 1])\n"
     ]
    },
    {
     "name": "stderr",
     "output_type": "stream",
     "text": [
      "1673it [01:45, 16.40it/s]"
     ]
    },
    {
     "name": "stdout",
     "output_type": "stream",
     "text": [
      "torch.Size([1]) torch.Size([1, 1])\n",
      "torch.Size([1]) torch.Size([1, 1])\n",
      "torch.Size([1]) torch.Size([1, 1])\n"
     ]
    },
    {
     "name": "stderr",
     "output_type": "stream",
     "text": [
      "\r",
      "1675it [01:45, 15.82it/s]"
     ]
    },
    {
     "name": "stdout",
     "output_type": "stream",
     "text": [
      "torch.Size([1]) torch.Size([1, 1])\n",
      "torch.Size([1]) torch.Size([1, 1])\n",
      "torch.Size([1]) torch.Size([1, 1])\n",
      "torch.Size([1])"
     ]
    },
    {
     "name": "stderr",
     "output_type": "stream",
     "text": [
      "1679it [01:46, 16.48it/s]"
     ]
    },
    {
     "name": "stdout",
     "output_type": "stream",
     "text": [
      " torch.Size([1, 1])\n",
      "torch.Size([1]) torch.Size([1, 1])\n",
      "torch.Size([1]) torch.Size([1, 1])\n",
      "torch.Size([1]) torch.Size([1, 1])\n"
     ]
    },
    {
     "name": "stderr",
     "output_type": "stream",
     "text": [
      "1683it [01:46, 16.18it/s]"
     ]
    },
    {
     "name": "stdout",
     "output_type": "stream",
     "text": [
      "torch.Size([1]) torch.Size([1, 1])\n",
      "torch.Size([1]) torch.Size([1, 1])\n",
      "torch.Size([1]) torch.Size([1, 1])\n",
      "torch.Size([1])"
     ]
    },
    {
     "name": "stderr",
     "output_type": "stream",
     "text": [
      "\r",
      "1685it [01:46, 15.46it/s]"
     ]
    },
    {
     "name": "stdout",
     "output_type": "stream",
     "text": [
      " torch.Size([1, 1])\n",
      "torch.Size([1]) torch.Size([1, 1])\n",
      "torch.Size([1]) torch.Size([1, 1])\n",
      "torch.Size([1])"
     ]
    },
    {
     "name": "stderr",
     "output_type": "stream",
     "text": [
      "1689it [01:46, 15.73it/s]"
     ]
    },
    {
     "name": "stdout",
     "output_type": "stream",
     "text": [
      " torch.Size([1, 1])\n",
      "torch.Size([1]) torch.Size([1, 1])\n",
      "torch.Size([1]) torch.Size([1, 1])\n",
      "torch.Size([1])"
     ]
    },
    {
     "name": "stderr",
     "output_type": "stream",
     "text": [
      "1693it [01:46, 16.26it/s]"
     ]
    },
    {
     "name": "stdout",
     "output_type": "stream",
     "text": [
      " torch.Size([1, 1])\n",
      "torch.Size([1]) torch.Size([1, 1])\n",
      "torch.Size([1]) torch.Size([1, 1])\n",
      "torch.Size([1]) torch.Size([1, 1])\n"
     ]
    },
    {
     "name": "stderr",
     "output_type": "stream",
     "text": [
      "1697it [01:47, 16.83it/s]"
     ]
    },
    {
     "name": "stdout",
     "output_type": "stream",
     "text": [
      "torch.Size([1]) torch.Size([1, 1])\n",
      "torch.Size([1]) torch.Size([1, 1])\n",
      "torch.Size([1]) torch.Size([1, 1])\n",
      "torch.Size([1]) torch.Size([1, 1])\n"
     ]
    },
    {
     "name": "stderr",
     "output_type": "stream",
     "text": [
      "\r",
      "1699it [01:47, 16.17it/s]"
     ]
    },
    {
     "name": "stdout",
     "output_type": "stream",
     "text": [
      "torch.Size([1]) torch.Size([1, 1])\n",
      "torch.Size([1]) torch.Size([1, 1])\n",
      "torch.Size([1]) torch.Size([1, 1])\n",
      "torch.Size([1])"
     ]
    },
    {
     "name": "stderr",
     "output_type": "stream",
     "text": [
      "1703it [01:47, 16.59it/s]"
     ]
    },
    {
     "name": "stdout",
     "output_type": "stream",
     "text": [
      " torch.Size([1, 1])\n",
      "torch.Size([1]) torch.Size([1, 1])\n",
      "torch.Size([1]) torch.Size([1, 1])\n",
      "torch.Size([1]) torch.Size([1, 1])\n"
     ]
    },
    {
     "name": "stderr",
     "output_type": "stream",
     "text": [
      "1707it [01:47, 16.79it/s]"
     ]
    },
    {
     "name": "stdout",
     "output_type": "stream",
     "text": [
      "torch.Size([1]) torch.Size([1, 1])\n",
      "torch.Size([1]) torch.Size([1, 1])\n",
      "torch.Size([1]) torch.Size([1, 1])\n",
      "torch.Size([1]) torch.Size([1, 1])\n"
     ]
    },
    {
     "name": "stderr",
     "output_type": "stream",
     "text": [
      "1711it [01:48, 17.43it/s]"
     ]
    },
    {
     "name": "stdout",
     "output_type": "stream",
     "text": [
      "torch.Size([1]) torch.Size([1, 1])\n",
      "torch.Size([1]) torch.Size([1, 1])\n",
      "torch.Size([1]) torch.Size([1, 1])\n",
      "torch.Size([1]) torch.Size([1, 1])\n"
     ]
    },
    {
     "name": "stderr",
     "output_type": "stream",
     "text": [
      "1715it [01:48, 17.35it/s]"
     ]
    },
    {
     "name": "stdout",
     "output_type": "stream",
     "text": [
      "torch.Size([1]) torch.Size([1, 1])\n",
      "torch.Size([1]) torch.Size([1, 1])\n",
      "torch.Size([1]) torch.Size([1, 1])\n",
      "torch.Size([1]) torch.Size([1, 1])\n"
     ]
    },
    {
     "name": "stderr",
     "output_type": "stream",
     "text": [
      "1719it [01:48, 15.81it/s]"
     ]
    },
    {
     "name": "stdout",
     "output_type": "stream",
     "text": [
      "torch.Size([1]) torch.Size([1, 1])\n",
      "torch.Size([1]) torch.Size([1, 1])\n",
      "torch.Size([1]) torch.Size([1, 1])\n"
     ]
    },
    {
     "name": "stderr",
     "output_type": "stream",
     "text": [
      "\r",
      "1721it [01:48, 15.18it/s]"
     ]
    },
    {
     "name": "stdout",
     "output_type": "stream",
     "text": [
      "torch.Size([1]) torch.Size([1, 1])\n",
      "torch.Size([1]) torch.Size([1, 1])\n",
      "torch.Size([1]) torch.Size([1, 1])\n"
     ]
    },
    {
     "name": "stderr",
     "output_type": "stream",
     "text": [
      "1725it [01:48, 14.38it/s]"
     ]
    },
    {
     "name": "stdout",
     "output_type": "stream",
     "text": [
      "torch.Size([1]) torch.Size([1, 1])\n",
      "torch.Size([1]) torch.Size([1, 1])\n",
      "torch.Size([1]) torch.Size([1, 1])\n"
     ]
    },
    {
     "name": "stderr",
     "output_type": "stream",
     "text": [
      "\r",
      "1727it [01:49, 15.03it/s]"
     ]
    },
    {
     "name": "stdout",
     "output_type": "stream",
     "text": [
      "torch.Size([1]) torch.Size([1, 1])\n",
      "torch.Size([1]) torch.Size([1, 1])\n",
      "torch.Size([1]) torch.Size([1, 1])\n",
      "torch.Size([1])"
     ]
    },
    {
     "name": "stderr",
     "output_type": "stream",
     "text": [
      "1731it [01:49, 16.19it/s]"
     ]
    },
    {
     "name": "stdout",
     "output_type": "stream",
     "text": [
      " torch.Size([1, 1])\n",
      "torch.Size([1]) torch.Size([1, 1])\n",
      "torch.Size([1]) torch.Size([1, 1])\n",
      "torch.Size([1]) torch.Size([1, 1])\n"
     ]
    },
    {
     "name": "stderr",
     "output_type": "stream",
     "text": [
      "1735it [01:49, 16.78it/s]"
     ]
    },
    {
     "name": "stdout",
     "output_type": "stream",
     "text": [
      "torch.Size([1]) torch.Size([1, 1])\n",
      "torch.Size([1]) torch.Size([1, 1])\n",
      "torch.Size([1]) torch.Size([1, 1])\n",
      "torch.Size([1]) torch.Size([1, 1])\n"
     ]
    },
    {
     "name": "stderr",
     "output_type": "stream",
     "text": [
      "1739it [01:49, 17.14it/s]"
     ]
    },
    {
     "name": "stdout",
     "output_type": "stream",
     "text": [
      "torch.Size([1]) torch.Size([1, 1])\n",
      "torch.Size([1]) torch.Size([1, 1])\n",
      "torch.Size([1]) torch.Size([1, 1])\n",
      "torch.Size([1]) torch.Size([1, 1])\n"
     ]
    },
    {
     "name": "stderr",
     "output_type": "stream",
     "text": [
      "1743it [01:49, 17.30it/s]"
     ]
    },
    {
     "name": "stdout",
     "output_type": "stream",
     "text": [
      "torch.Size([1]) torch.Size([1, 1])\n",
      "torch.Size([1]) torch.Size([1, 1])\n",
      "torch.Size([1]) torch.Size([1, 1])\n",
      "torch.Size([1]) torch.Size([1, 1])\n"
     ]
    },
    {
     "name": "stderr",
     "output_type": "stream",
     "text": [
      "1747it [01:50, 15.56it/s]"
     ]
    },
    {
     "name": "stdout",
     "output_type": "stream",
     "text": [
      "torch.Size([1]) torch.Size([1, 1])\n",
      "torch.Size([1]) torch.Size([1, 1])\n",
      "torch.Size([1]) torch.Size([1, 1])\n"
     ]
    },
    {
     "name": "stderr",
     "output_type": "stream",
     "text": [
      "\r",
      "1749it [01:50, 15.26it/s]"
     ]
    },
    {
     "name": "stdout",
     "output_type": "stream",
     "text": [
      "torch.Size([1]) torch.Size([1, 1])\n",
      "torch.Size([1]) torch.Size([1, 1])\n",
      "torch.Size([1]) torch.Size([1, 1])\n",
      "torch.Size([1])"
     ]
    },
    {
     "name": "stderr",
     "output_type": "stream",
     "text": [
      "1753it [01:50, 15.99it/s]"
     ]
    },
    {
     "name": "stdout",
     "output_type": "stream",
     "text": [
      " torch.Size([1, 1])\n",
      "torch.Size([1]) torch.Size([1, 1])\n",
      "torch.Size([1]) torch.Size([1, 1])\n",
      "torch.Size([1]) torch.Size([1, 1])\n"
     ]
    },
    {
     "name": "stderr",
     "output_type": "stream",
     "text": [
      "1757it [01:50, 16.53it/s]"
     ]
    },
    {
     "name": "stdout",
     "output_type": "stream",
     "text": [
      "torch.Size([1]) torch.Size([1, 1])\n",
      "torch.Size([1]) torch.Size([1, 1])\n",
      "torch.Size([1]) torch.Size([1, 1])\n",
      "torch.Size([1]) torch.Size([1, 1])\n"
     ]
    },
    {
     "name": "stderr",
     "output_type": "stream",
     "text": [
      "1761it [01:51, 16.85it/s]"
     ]
    },
    {
     "name": "stdout",
     "output_type": "stream",
     "text": [
      "torch.Size([1]) torch.Size([1, 1])\n",
      "torch.Size([1]) torch.Size([1, 1])\n",
      "torch.Size([1]) torch.Size([1, 1])\n",
      "torch.Size([1])"
     ]
    },
    {
     "name": "stderr",
     "output_type": "stream",
     "text": [
      "\r",
      "1763it [01:51, 16.59it/s]"
     ]
    },
    {
     "name": "stdout",
     "output_type": "stream",
     "text": [
      " torch.Size([1, 1])\n",
      "torch.Size([1]) torch.Size([1, 1])\n",
      "torch.Size([1]) torch.Size([1, 1])\n",
      "torch.Size([1])"
     ]
    },
    {
     "name": "stderr",
     "output_type": "stream",
     "text": [
      "1767it [01:51, 16.54it/s]"
     ]
    },
    {
     "name": "stdout",
     "output_type": "stream",
     "text": [
      " torch.Size([1, 1])\n",
      "torch.Size([1]) torch.Size([1, 1])\n",
      "torch.Size([1]) torch.Size([1, 1])\n"
     ]
    },
    {
     "name": "stderr",
     "output_type": "stream",
     "text": [
      "\r",
      "1769it [01:51, 14.10it/s]"
     ]
    },
    {
     "name": "stdout",
     "output_type": "stream",
     "text": [
      "torch.Size([1]) torch.Size([1, 1])\n",
      "torch.Size([1]) torch.Size([1, 1])\n",
      "torch.Size([1]) torch.Size([1, 1])\n"
     ]
    },
    {
     "name": "stderr",
     "output_type": "stream",
     "text": [
      "1773it [01:51, 14.18it/s]"
     ]
    },
    {
     "name": "stdout",
     "output_type": "stream",
     "text": [
      "torch.Size([1]) torch.Size([1, 1])\n",
      "torch.Size([1]) torch.Size([1, 1])\n",
      "torch.Size([1]) torch.Size([1, 1])\n"
     ]
    },
    {
     "name": "stderr",
     "output_type": "stream",
     "text": [
      "\r",
      "1775it [01:52, 13.95it/s]"
     ]
    },
    {
     "name": "stdout",
     "output_type": "stream",
     "text": [
      "torch.Size([1]) torch.Size([1, 1])\n",
      "torch.Size([1]) torch.Size([1, 1])\n",
      "torch.Size([1]) torch.Size([1, 1])\n"
     ]
    },
    {
     "name": "stderr",
     "output_type": "stream",
     "text": [
      "1779it [01:52, 15.32it/s]"
     ]
    },
    {
     "name": "stdout",
     "output_type": "stream",
     "text": [
      "torch.Size([1]) torch.Size([1, 1])\n",
      "torch.Size([1]) torch.Size([1, 1])\n",
      "torch.Size([1]) torch.Size([1, 1])\n",
      "torch.Size([1])"
     ]
    },
    {
     "name": "stderr",
     "output_type": "stream",
     "text": [
      "\r",
      "1781it [01:52, 14.02it/s]"
     ]
    },
    {
     "name": "stdout",
     "output_type": "stream",
     "text": [
      " torch.Size([1, 1])\n",
      "torch.Size([1]) torch.Size([1, 1])\n",
      "torch.Size([1]) torch.Size([1, 1])\n",
      "torch.Size([1])"
     ]
    },
    {
     "name": "stderr",
     "output_type": "stream",
     "text": [
      "1785it [01:52, 15.83it/s]"
     ]
    },
    {
     "name": "stdout",
     "output_type": "stream",
     "text": [
      " torch.Size([1, 1])\n",
      "torch.Size([1]) torch.Size([1, 1])\n",
      "torch.Size([1]) torch.Size([1, 1])\n",
      "torch.Size([1]) torch.Size([1, 1])\n"
     ]
    },
    {
     "name": "stderr",
     "output_type": "stream",
     "text": [
      "1789it [01:53, 15.40it/s]"
     ]
    },
    {
     "name": "stdout",
     "output_type": "stream",
     "text": [
      "torch.Size([1]) torch.Size([1, 1])\n",
      "torch.Size([1]) torch.Size([1, 1])\n",
      "torch.Size([1]) torch.Size([1, 1])\n"
     ]
    },
    {
     "name": "stderr",
     "output_type": "stream",
     "text": [
      "\r",
      "1791it [01:53, 15.06it/s]"
     ]
    },
    {
     "name": "stdout",
     "output_type": "stream",
     "text": [
      "torch.Size([1]) torch.Size([1, 1])\n",
      "torch.Size([1]) torch.Size([1, 1])\n",
      "torch.Size([1]) torch.Size([1, 1])\n",
      "torch.Size([1])"
     ]
    },
    {
     "name": "stderr",
     "output_type": "stream",
     "text": [
      "1795it [01:53, 16.40it/s]"
     ]
    },
    {
     "name": "stdout",
     "output_type": "stream",
     "text": [
      " torch.Size([1, 1])\n",
      "torch.Size([1]) torch.Size([1, 1])\n",
      "torch.Size([1]) torch.Size([1, 1])\n",
      "torch.Size([1]) torch.Size([1, 1])\n"
     ]
    },
    {
     "name": "stderr",
     "output_type": "stream",
     "text": [
      "1799it [01:53, 16.24it/s]"
     ]
    },
    {
     "name": "stdout",
     "output_type": "stream",
     "text": [
      "torch.Size([1]) torch.Size([1, 1])\n",
      "torch.Size([1]) torch.Size([1, 1])\n",
      "torch.Size([1]) torch.Size([1, 1])\n",
      "torch.Size([1])"
     ]
    },
    {
     "name": "stderr",
     "output_type": "stream",
     "text": [
      "\r",
      "1801it [01:53, 16.58it/s]"
     ]
    },
    {
     "name": "stdout",
     "output_type": "stream",
     "text": [
      " torch.Size([1, 1])\n",
      "torch.Size([1]) torch.Size([1, 1])\n",
      "torch.Size([1]) torch.Size([1, 1])\n",
      "torch.Size([1])"
     ]
    },
    {
     "name": "stderr",
     "output_type": "stream",
     "text": [
      "1805it [01:53, 15.94it/s]"
     ]
    },
    {
     "name": "stdout",
     "output_type": "stream",
     "text": [
      " torch.Size([1, 1])\n",
      "torch.Size([1]) torch.Size([1, 1])\n",
      "torch.Size([1]) torch.Size([1, 1])\n",
      "torch.Size([1])"
     ]
    },
    {
     "name": "stderr",
     "output_type": "stream",
     "text": [
      "1809it [01:54, 16.53it/s]"
     ]
    },
    {
     "name": "stdout",
     "output_type": "stream",
     "text": [
      " torch.Size([1, 1])\n",
      "torch.Size([1]) torch.Size([1, 1])\n",
      "torch.Size([1]) torch.Size([1, 1])\n",
      "torch.Size([1]) torch.Size([1, 1])\n"
     ]
    },
    {
     "name": "stderr",
     "output_type": "stream",
     "text": [
      "1813it [01:54, 16.78it/s]"
     ]
    },
    {
     "name": "stdout",
     "output_type": "stream",
     "text": [
      "torch.Size([1]) torch.Size([1, 1])\n",
      "torch.Size([1]) torch.Size([1, 1])\n",
      "torch.Size([1]) torch.Size([1, 1])\n",
      "torch.Size([1]) torch.Size([1, 1])\n"
     ]
    },
    {
     "name": "stderr",
     "output_type": "stream",
     "text": [
      "\r",
      "1815it [01:54, 16.07it/s]"
     ]
    },
    {
     "name": "stdout",
     "output_type": "stream",
     "text": [
      "torch.Size([1]) torch.Size([1, 1])\n",
      "torch.Size([1]) torch.Size([1, 1])\n",
      "torch.Size([1]) torch.Size([1, 1])\n",
      "torch.Size([1])"
     ]
    },
    {
     "name": "stderr",
     "output_type": "stream",
     "text": [
      "1819it [01:54, 16.43it/s]"
     ]
    },
    {
     "name": "stdout",
     "output_type": "stream",
     "text": [
      " torch.Size([1, 1])\n",
      "torch.Size([1]) torch.Size([1, 1])\n",
      "torch.Size([1]) torch.Size([1, 1])\n",
      "torch.Size([1]) torch.Size([1, 1])\n"
     ]
    },
    {
     "name": "stderr",
     "output_type": "stream",
     "text": [
      "1823it [01:55, 16.94it/s]"
     ]
    },
    {
     "name": "stdout",
     "output_type": "stream",
     "text": [
      "torch.Size([1]) torch.Size([1, 1])\n",
      "torch.Size([1]) torch.Size([1, 1])\n",
      "torch.Size([1]) torch.Size([1, 1])\n",
      "torch.Size([1]) torch.Size([1, 1])\n"
     ]
    },
    {
     "name": "stderr",
     "output_type": "stream",
     "text": [
      "1827it [01:55, 16.86it/s]"
     ]
    },
    {
     "name": "stdout",
     "output_type": "stream",
     "text": [
      "torch.Size([1]) torch.Size([1, 1])\n",
      "torch.Size([1]) torch.Size([1, 1])\n",
      "torch.Size([1]) torch.Size([1, 1])\n",
      "torch.Size([1]) torch.Size([1, 1])\n"
     ]
    },
    {
     "name": "stderr",
     "output_type": "stream",
     "text": [
      "1831it [01:55, 17.97it/s]"
     ]
    },
    {
     "name": "stdout",
     "output_type": "stream",
     "text": [
      "torch.Size([1]) torch.Size([1, 1])\n",
      "torch.Size([1]) torch.Size([1, 1])\n",
      "torch.Size([1]) torch.Size([1, 1])\n",
      "torch.Size([1]) torch.Size([1, 1])\n",
      "torch.Size([1])"
     ]
    },
    {
     "name": "stderr",
     "output_type": "stream",
     "text": [
      "1835it [01:55, 17.68it/s]"
     ]
    },
    {
     "name": "stdout",
     "output_type": "stream",
     "text": [
      " torch.Size([1, 1])\n",
      "torch.Size([1]) torch.Size([1, 1])\n",
      "torch.Size([1]) torch.Size([1, 1])\n",
      "torch.Size([1])"
     ]
    },
    {
     "name": "stderr",
     "output_type": "stream",
     "text": [
      "1839it [01:55, 16.93it/s]"
     ]
    },
    {
     "name": "stdout",
     "output_type": "stream",
     "text": [
      " torch.Size([1, 1])\n",
      "torch.Size([1]) torch.Size([1, 1])\n",
      "torch.Size([1]) torch.Size([1, 1])\n",
      "torch.Size([1]) torch.Size([1, 1])\n"
     ]
    },
    {
     "name": "stderr",
     "output_type": "stream",
     "text": [
      "\r",
      "1841it [01:56, 16.90it/s]"
     ]
    },
    {
     "name": "stdout",
     "output_type": "stream",
     "text": [
      "torch.Size([1]) torch.Size([1, 1])\n",
      "torch.Size([1]) torch.Size([1, 1])\n",
      "torch.Size([1]) torch.Size([1, 1])\n",
      "torch.Size([1])"
     ]
    },
    {
     "name": "stderr",
     "output_type": "stream",
     "text": [
      "1845it [01:56, 16.30it/s]"
     ]
    },
    {
     "name": "stdout",
     "output_type": "stream",
     "text": [
      " torch.Size([1, 1])\n",
      "torch.Size([1]) torch.Size([1, 1])\n",
      "torch.Size([1]) torch.Size([1, 1])\n",
      "torch.Size([1])"
     ]
    },
    {
     "name": "stderr",
     "output_type": "stream",
     "text": [
      "1849it [01:56, 16.97it/s]"
     ]
    },
    {
     "name": "stdout",
     "output_type": "stream",
     "text": [
      " torch.Size([1, 1])\n",
      "torch.Size([1]) torch.Size([1, 1])\n",
      "torch.Size([1]) torch.Size([1, 1])\n",
      "torch.Size([1]) torch.Size([1, 1])\n"
     ]
    },
    {
     "name": "stderr",
     "output_type": "stream",
     "text": [
      "1853it [01:56, 16.61it/s]"
     ]
    },
    {
     "name": "stdout",
     "output_type": "stream",
     "text": [
      "torch.Size([1]) torch.Size([1, 1])\n",
      "torch.Size([1]) torch.Size([1, 1])\n",
      "torch.Size([1]) torch.Size([1, 1])\n",
      "torch.Size([1]) torch.Size([1, 1])\n"
     ]
    },
    {
     "name": "stderr",
     "output_type": "stream",
     "text": [
      "\r",
      "1855it [01:56, 16.03it/s]"
     ]
    },
    {
     "name": "stdout",
     "output_type": "stream",
     "text": [
      "torch.Size([1]) torch.Size([1, 1])\n",
      "torch.Size([1]) torch.Size([1, 1])\n",
      "torch.Size([1]) torch.Size([1, 1])\n"
     ]
    },
    {
     "name": "stderr",
     "output_type": "stream",
     "text": [
      "1859it [01:57, 14.92it/s]"
     ]
    },
    {
     "name": "stdout",
     "output_type": "stream",
     "text": [
      "torch.Size([1]) torch.Size([1, 1])\n",
      "torch.Size([1]) torch.Size([1, 1])\n",
      "torch.Size([1]) torch.Size([1, 1])\n"
     ]
    },
    {
     "name": "stderr",
     "output_type": "stream",
     "text": [
      "\r",
      "1861it [01:57, 15.48it/s]"
     ]
    },
    {
     "name": "stdout",
     "output_type": "stream",
     "text": [
      "torch.Size([1]) torch.Size([1, 1])\n",
      "torch.Size([1]) torch.Size([1, 1])\n",
      "torch.Size([1]) torch.Size([1, 1])\n",
      "torch.Size([1])"
     ]
    },
    {
     "name": "stderr",
     "output_type": "stream",
     "text": [
      "1865it [01:57, 16.32it/s]"
     ]
    },
    {
     "name": "stdout",
     "output_type": "stream",
     "text": [
      " torch.Size([1, 1])\n",
      "torch.Size([1]) torch.Size([1, 1])\n",
      "torch.Size([1]) torch.Size([1, 1])\n",
      "torch.Size([1]) torch.Size([1, 1])\n"
     ]
    },
    {
     "name": "stderr",
     "output_type": "stream",
     "text": [
      "1869it [01:57, 14.86it/s]"
     ]
    },
    {
     "name": "stdout",
     "output_type": "stream",
     "text": [
      "torch.Size([1]) torch.Size([1, 1])\n",
      "torch.Size([1]) torch.Size([1, 1])\n",
      "torch.Size([1]) torch.Size([1, 1])\n"
     ]
    },
    {
     "name": "stderr",
     "output_type": "stream",
     "text": [
      "1873it [01:58, 15.57it/s]"
     ]
    },
    {
     "name": "stdout",
     "output_type": "stream",
     "text": [
      "torch.Size([1]) torch.Size([1, 1])\n",
      "torch.Size([1]) torch.Size([1, 1])\n",
      "torch.Size([1]) torch.Size([1, 1])\n",
      "torch.Size([1]) torch.Size([1, 1])\n"
     ]
    },
    {
     "name": "stderr",
     "output_type": "stream",
     "text": [
      "\r",
      "1875it [01:58, 15.70it/s]"
     ]
    },
    {
     "name": "stdout",
     "output_type": "stream",
     "text": [
      "torch.Size([1]) torch.Size([1, 1])\n",
      "torch.Size([1]) torch.Size([1, 1])\n",
      "torch.Size([1]) torch.Size([1, 1])\n",
      "torch.Size([1])"
     ]
    },
    {
     "name": "stderr",
     "output_type": "stream",
     "text": [
      "1879it [01:58, 16.16it/s]"
     ]
    },
    {
     "name": "stdout",
     "output_type": "stream",
     "text": [
      " torch.Size([1, 1])\n",
      "torch.Size([1]) torch.Size([1, 1])\n",
      "torch.Size([1]) torch.Size([1, 1])\n",
      "torch.Size([1]) torch.Size([1, 1])\n"
     ]
    },
    {
     "name": "stderr",
     "output_type": "stream",
     "text": [
      "1883it [01:58, 16.52it/s]"
     ]
    },
    {
     "name": "stdout",
     "output_type": "stream",
     "text": [
      "torch.Size([1]) torch.Size([1, 1])\n",
      "torch.Size([1]) torch.Size([1, 1])\n",
      "torch.Size([1]) torch.Size([1, 1])\n"
     ]
    },
    {
     "name": "stderr",
     "output_type": "stream",
     "text": [
      "\r",
      "1885it [01:58, 15.63it/s]"
     ]
    },
    {
     "name": "stdout",
     "output_type": "stream",
     "text": [
      "torch.Size([1]) torch.Size([1, 1])\n",
      "torch.Size([1]) torch.Size([1, 1])\n",
      "torch.Size([1]) torch.Size([1, 1])\n",
      "torch.Size([1])"
     ]
    },
    {
     "name": "stderr",
     "output_type": "stream",
     "text": [
      "1889it [01:59, 15.82it/s]"
     ]
    },
    {
     "name": "stdout",
     "output_type": "stream",
     "text": [
      " torch.Size([1, 1])\n",
      "torch.Size([1]) torch.Size([1, 1])\n",
      "torch.Size([1]) torch.Size([1, 1])\n",
      "torch.Size([1])"
     ]
    },
    {
     "name": "stderr",
     "output_type": "stream",
     "text": [
      "1893it [01:59, 16.54it/s]"
     ]
    },
    {
     "name": "stdout",
     "output_type": "stream",
     "text": [
      " torch.Size([1, 1])\n",
      "torch.Size([1]) torch.Size([1, 1])\n",
      "torch.Size([1]) torch.Size([1, 1])\n",
      "torch.Size([1]) torch.Size([1, 1])\n"
     ]
    },
    {
     "name": "stderr",
     "output_type": "stream",
     "text": [
      "1897it [01:59, 17.34it/s]"
     ]
    },
    {
     "name": "stdout",
     "output_type": "stream",
     "text": [
      "torch.Size([1]) torch.Size([1, 1])\n",
      "torch.Size([1]) torch.Size([1, 1])\n",
      "torch.Size([1]) torch.Size([1, 1])\n",
      "torch.Size([1]) torch.Size([1, 1])\n"
     ]
    },
    {
     "name": "stderr",
     "output_type": "stream",
     "text": [
      "\r",
      "1899it [01:59, 16.79it/s]"
     ]
    },
    {
     "name": "stdout",
     "output_type": "stream",
     "text": [
      "torch.Size([1]) torch.Size([1, 1])\n",
      "torch.Size([1]) torch.Size([1, 1])\n",
      "torch.Size([1]) torch.Size([1, 1])\n",
      "torch.Size([1])"
     ]
    },
    {
     "name": "stderr",
     "output_type": "stream",
     "text": [
      "1903it [01:59, 17.11it/s]"
     ]
    },
    {
     "name": "stdout",
     "output_type": "stream",
     "text": [
      " torch.Size([1, 1])\n",
      "torch.Size([1]) torch.Size([1, 1])\n",
      "torch.Size([1]) torch.Size([1, 1])\n",
      "torch.Size([1]) torch.Size([1, 1])\n"
     ]
    },
    {
     "name": "stderr",
     "output_type": "stream",
     "text": [
      "1907it [02:00, 16.93it/s]"
     ]
    },
    {
     "name": "stdout",
     "output_type": "stream",
     "text": [
      "torch.Size([1]) torch.Size([1, 1])\n",
      "torch.Size([1]) torch.Size([1, 1])\n",
      "torch.Size([1]) torch.Size([1, 1])\n",
      "torch.Size([1]) torch.Size([1, 1])\n"
     ]
    },
    {
     "name": "stderr",
     "output_type": "stream",
     "text": [
      "1911it [02:00, 15.54it/s]"
     ]
    },
    {
     "name": "stdout",
     "output_type": "stream",
     "text": [
      "torch.Size([1]) torch.Size([1, 1])\n",
      "torch.Size([1]) torch.Size([1, 1])\n",
      "torch.Size([1]) torch.Size([1, 1])\n",
      "torch.Size([1])"
     ]
    },
    {
     "name": "stderr",
     "output_type": "stream",
     "text": [
      "1915it [02:00, 16.04it/s]"
     ]
    },
    {
     "name": "stdout",
     "output_type": "stream",
     "text": [
      " torch.Size([1, 1])\n",
      "torch.Size([1]) torch.Size([1, 1])\n",
      "torch.Size([1]) torch.Size([1, 1])\n",
      "torch.Size([1]) torch.Size([1, 1])\n"
     ]
    },
    {
     "name": "stderr",
     "output_type": "stream",
     "text": [
      "\r",
      "1917it [02:00, 15.51it/s]"
     ]
    },
    {
     "name": "stdout",
     "output_type": "stream",
     "text": [
      "torch.Size([1]) torch.Size([1, 1])\n",
      "torch.Size([1]) torch.Size([1, 1])\n",
      "torch.Size([1]) torch.Size([1, 1])\n",
      "torch.Size([1])"
     ]
    },
    {
     "name": "stderr",
     "output_type": "stream",
     "text": [
      "1921it [02:01, 15.97it/s]"
     ]
    },
    {
     "name": "stdout",
     "output_type": "stream",
     "text": [
      " torch.Size([1, 1])\n",
      "torch.Size([1]) torch.Size([1, 1])\n",
      "torch.Size([1]) torch.Size([1, 1])\n",
      "torch.Size([1]) torch.Size([1, 1])\n"
     ]
    },
    {
     "name": "stderr",
     "output_type": "stream",
     "text": [
      "1925it [02:01, 16.93it/s]"
     ]
    },
    {
     "name": "stdout",
     "output_type": "stream",
     "text": [
      "torch.Size([1]) torch.Size([1, 1])\n",
      "torch.Size([1]) torch.Size([1, 1])\n",
      "torch.Size([1]) torch.Size([1, 1])\n",
      "torch.Size([1]) torch.Size([1, 1])\n"
     ]
    },
    {
     "name": "stderr",
     "output_type": "stream",
     "text": [
      "1929it [02:01, 16.62it/s]"
     ]
    },
    {
     "name": "stdout",
     "output_type": "stream",
     "text": [
      "torch.Size([1]) torch.Size([1, 1])\n",
      "torch.Size([1]) torch.Size([1, 1])\n",
      "torch.Size([1]) torch.Size([1, 1])\n",
      "torch.Size([1]) torch.Size([1, 1])\n"
     ]
    },
    {
     "name": "stderr",
     "output_type": "stream",
     "text": [
      "1933it [02:01, 17.05it/s]"
     ]
    },
    {
     "name": "stdout",
     "output_type": "stream",
     "text": [
      "torch.Size([1]) torch.Size([1, 1])\n",
      "torch.Size([1]) torch.Size([1, 1])\n",
      "torch.Size([1]) torch.Size([1, 1])\n",
      "torch.Size([1]) torch.Size([1, 1])\n",
      "torch.Size([1])"
     ]
    },
    {
     "name": "stderr",
     "output_type": "stream",
     "text": [
      "1937it [02:02, 17.47it/s]"
     ]
    },
    {
     "name": "stdout",
     "output_type": "stream",
     "text": [
      " torch.Size([1, 1])\n",
      "torch.Size([1]) torch.Size([1, 1])\n",
      "torch.Size([1]) torch.Size([1, 1])\n",
      "torch.Size([1]) torch.Size([1, 1])\n"
     ]
    },
    {
     "name": "stderr",
     "output_type": "stream",
     "text": [
      "1941it [02:02, 16.72it/s]"
     ]
    },
    {
     "name": "stdout",
     "output_type": "stream",
     "text": [
      "torch.Size([1]) torch.Size([1, 1])\n",
      "torch.Size([1]) torch.Size([1, 1])\n",
      "torch.Size([1]) torch.Size([1, 1])\n",
      "torch.Size([1])"
     ]
    },
    {
     "name": "stderr",
     "output_type": "stream",
     "text": [
      "\r",
      "1943it [02:02, 16.54it/s]"
     ]
    },
    {
     "name": "stdout",
     "output_type": "stream",
     "text": [
      " torch.Size([1, 1])\n",
      "torch.Size([1]) torch.Size([1, 1])\n",
      "torch.Size([1]) torch.Size([1, 1])\n",
      "torch.Size([1])"
     ]
    },
    {
     "name": "stderr",
     "output_type": "stream",
     "text": [
      "1947it [02:02, 16.11it/s]"
     ]
    },
    {
     "name": "stdout",
     "output_type": "stream",
     "text": [
      " torch.Size([1, 1])\n",
      "torch.Size([1]) torch.Size([1, 1])\n",
      "torch.Size([1]) torch.Size([1, 1])\n",
      "torch.Size([1])"
     ]
    },
    {
     "name": "stderr",
     "output_type": "stream",
     "text": [
      "1951it [02:02, 16.86it/s]"
     ]
    },
    {
     "name": "stdout",
     "output_type": "stream",
     "text": [
      " torch.Size([1, 1])\n",
      "torch.Size([1]) torch.Size([1, 1])\n",
      "torch.Size([1]) torch.Size([1, 1])\n",
      "torch.Size([1]) torch.Size([1, 1])\n"
     ]
    },
    {
     "name": "stderr",
     "output_type": "stream",
     "text": [
      "\r",
      "1953it [02:02, 16.76it/s]"
     ]
    },
    {
     "name": "stdout",
     "output_type": "stream",
     "text": [
      "torch.Size([1]) torch.Size([1, 1])\n",
      "torch.Size([1]) torch.Size([1, 1])\n",
      "torch.Size([1]) torch.Size([1, 1])\n",
      "torch.Size([1])"
     ]
    },
    {
     "name": "stderr",
     "output_type": "stream",
     "text": [
      "1957it [02:03, 16.98it/s]"
     ]
    },
    {
     "name": "stdout",
     "output_type": "stream",
     "text": [
      " torch.Size([1, 1])\n",
      "torch.Size([1]) torch.Size([1, 1])\n",
      "torch.Size([1]) torch.Size([1, 1])\n",
      "torch.Size([1]) torch.Size([1, 1])\n"
     ]
    },
    {
     "name": "stderr",
     "output_type": "stream",
     "text": [
      "1961it [02:03, 17.13it/s]"
     ]
    },
    {
     "name": "stdout",
     "output_type": "stream",
     "text": [
      "torch.Size([1]) torch.Size([1, 1])\n",
      "torch.Size([1]) torch.Size([1, 1])\n",
      "torch.Size([1]) torch.Size([1, 1])\n",
      "torch.Size([1])"
     ]
    },
    {
     "name": "stderr",
     "output_type": "stream",
     "text": [
      "\r",
      "1963it [02:03, 16.17it/s]"
     ]
    },
    {
     "name": "stdout",
     "output_type": "stream",
     "text": [
      " torch.Size([1, 1])\n",
      "torch.Size([1]) torch.Size([1, 1])\n",
      "torch.Size([1]) torch.Size([1, 1])\n",
      "torch.Size([1])"
     ]
    },
    {
     "name": "stderr",
     "output_type": "stream",
     "text": [
      "1967it [02:03, 16.08it/s]"
     ]
    },
    {
     "name": "stdout",
     "output_type": "stream",
     "text": [
      " torch.Size([1, 1])\n",
      "torch.Size([1]) torch.Size([1, 1])\n",
      "torch.Size([1]) torch.Size([1, 1])\n",
      "torch.Size([1])"
     ]
    },
    {
     "name": "stderr",
     "output_type": "stream",
     "text": [
      "1971it [02:04, 16.72it/s]"
     ]
    },
    {
     "name": "stdout",
     "output_type": "stream",
     "text": [
      " torch.Size([1, 1])\n",
      "torch.Size([1]) torch.Size([1, 1])\n",
      "torch.Size([1]) torch.Size([1, 1])\n",
      "torch.Size([1]) torch.Size([1, 1])\n",
      "torch.Size([1])"
     ]
    },
    {
     "name": "stderr",
     "output_type": "stream",
     "text": [
      "1975it [02:04, 17.71it/s]"
     ]
    },
    {
     "name": "stdout",
     "output_type": "stream",
     "text": [
      " torch.Size([1, 1])\n",
      "torch.Size([1]) torch.Size([1, 1])\n",
      "torch.Size([1]) torch.Size([1, 1])\n",
      "torch.Size([1]) torch.Size([1, 1])\n"
     ]
    },
    {
     "name": "stderr",
     "output_type": "stream",
     "text": [
      "\r",
      "1977it [02:04, 17.71it/s]"
     ]
    },
    {
     "name": "stdout",
     "output_type": "stream",
     "text": [
      "torch.Size([1]) torch.Size([1, 1])\n",
      "torch.Size([1]) torch.Size([1, 1])\n",
      "torch.Size([1]) torch.Size([1, 1])\n",
      "torch.Size([1])"
     ]
    },
    {
     "name": "stderr",
     "output_type": "stream",
     "text": [
      "1981it [02:04, 16.94it/s]"
     ]
    },
    {
     "name": "stdout",
     "output_type": "stream",
     "text": [
      " torch.Size([1, 1])\n",
      "torch.Size([1]) torch.Size([1, 1])\n",
      "torch.Size([1]) torch.Size([1, 1])\n",
      "torch.Size([1]) torch.Size([1, 1])\n"
     ]
    },
    {
     "name": "stderr",
     "output_type": "stream",
     "text": [
      "1985it [02:04, 16.86it/s]"
     ]
    },
    {
     "name": "stdout",
     "output_type": "stream",
     "text": [
      "torch.Size([1]) torch.Size([1, 1])\n",
      "torch.Size([1]) torch.Size([1, 1])\n",
      "torch.Size([1]) torch.Size([1, 1])\n",
      "torch.Size([1]) torch.Size([1, 1])\n"
     ]
    },
    {
     "name": "stderr",
     "output_type": "stream",
     "text": [
      "1989it [02:05, 16.72it/s]"
     ]
    },
    {
     "name": "stdout",
     "output_type": "stream",
     "text": [
      "torch.Size([1]) torch.Size([1, 1])\n",
      "torch.Size([1]) torch.Size([1, 1])\n",
      "torch.Size([1]) torch.Size([1, 1])\n",
      "torch.Size([1]) torch.Size([1, 1])\n"
     ]
    },
    {
     "name": "stderr",
     "output_type": "stream",
     "text": [
      "1993it [02:05, 16.70it/s]"
     ]
    },
    {
     "name": "stdout",
     "output_type": "stream",
     "text": [
      "torch.Size([1]) torch.Size([1, 1])\n",
      "torch.Size([1]) torch.Size([1, 1])\n",
      "torch.Size([1]) torch.Size([1, 1])\n",
      "torch.Size([1])"
     ]
    },
    {
     "name": "stderr",
     "output_type": "stream",
     "text": [
      "1997it [02:05, 17.28it/s]"
     ]
    },
    {
     "name": "stdout",
     "output_type": "stream",
     "text": [
      " torch.Size([1, 1])\n",
      "torch.Size([1]) torch.Size([1, 1])\n",
      "torch.Size([1]) torch.Size([1, 1])\n",
      "torch.Size([1]) torch.Size([1, 1])\n"
     ]
    },
    {
     "name": "stderr",
     "output_type": "stream",
     "text": [
      "\r",
      "1999it [02:05, 16.10it/s]"
     ]
    },
    {
     "name": "stdout",
     "output_type": "stream",
     "text": [
      "torch.Size([1]) torch.Size([1, 1])\n",
      "torch.Size([1]) torch.Size([1, 1])\n",
      "torch.Size([1]) torch.Size([1, 1])\n",
      "torch.Size([1])"
     ]
    },
    {
     "name": "stderr",
     "output_type": "stream",
     "text": [
      "2003it [02:05, 16.58it/s]"
     ]
    },
    {
     "name": "stdout",
     "output_type": "stream",
     "text": [
      " torch.Size([1, 1])\n",
      "torch.Size([1]) torch.Size([1, 1])\n",
      "torch.Size([1]) torch.Size([1, 1])\n",
      "torch.Size([1]) torch.Size([1, 1])\n"
     ]
    },
    {
     "name": "stderr",
     "output_type": "stream",
     "text": [
      "2007it [02:06, 16.15it/s]"
     ]
    },
    {
     "name": "stdout",
     "output_type": "stream",
     "text": [
      "torch.Size([1]) torch.Size([1, 1])\n",
      "torch.Size([1]) torch.Size([1, 1])\n",
      "torch.Size([1]) torch.Size([1, 1])\n",
      "torch.Size([1])"
     ]
    },
    {
     "name": "stderr",
     "output_type": "stream",
     "text": [
      "2011it [02:06, 16.95it/s]"
     ]
    },
    {
     "name": "stdout",
     "output_type": "stream",
     "text": [
      " torch.Size([1, 1])\n",
      "torch.Size([1]) torch.Size([1, 1])\n",
      "torch.Size([1]) torch.Size([1, 1])\n",
      "torch.Size([1]) torch.Size([1, 1])\n"
     ]
    },
    {
     "name": "stderr",
     "output_type": "stream",
     "text": [
      "2015it [02:06, 17.04it/s]"
     ]
    },
    {
     "name": "stdout",
     "output_type": "stream",
     "text": [
      "torch.Size([1]) torch.Size([1, 1])\n",
      "torch.Size([1]) torch.Size([1, 1])\n",
      "torch.Size([1]) torch.Size([1, 1])\n",
      "torch.Size([1]) torch.Size([1, 1])\n"
     ]
    },
    {
     "name": "stderr",
     "output_type": "stream",
     "text": [
      "2019it [02:06, 16.97it/s]"
     ]
    },
    {
     "name": "stdout",
     "output_type": "stream",
     "text": [
      "torch.Size([1]) torch.Size([1, 1])\n",
      "torch.Size([1]) torch.Size([1, 1])\n",
      "torch.Size([1]) torch.Size([1, 1])\n",
      "torch.Size([1]) torch.Size([1, 1])\n"
     ]
    },
    {
     "name": "stderr",
     "output_type": "stream",
     "text": [
      "\r",
      "2021it [02:07, 16.80it/s]"
     ]
    },
    {
     "name": "stdout",
     "output_type": "stream",
     "text": [
      "torch.Size([1]) torch.Size([1, 1])\n",
      "torch.Size([1]) torch.Size([1, 1])\n",
      "torch.Size([1]) torch.Size([1, 1])\n",
      "torch.Size([1])"
     ]
    },
    {
     "name": "stderr",
     "output_type": "stream",
     "text": [
      "2025it [02:07, 16.63it/s]"
     ]
    },
    {
     "name": "stdout",
     "output_type": "stream",
     "text": [
      " torch.Size([1, 1])\n",
      "torch.Size([1]) torch.Size([1, 1])\n",
      "torch.Size([1]) torch.Size([1, 1])\n",
      "torch.Size([1]) torch.Size([1, 1])\n"
     ]
    },
    {
     "name": "stderr",
     "output_type": "stream",
     "text": [
      "2029it [02:07, 17.18it/s]"
     ]
    },
    {
     "name": "stdout",
     "output_type": "stream",
     "text": [
      "torch.Size([1]) torch.Size([1, 1])\n",
      "torch.Size([1]) torch.Size([1, 1])\n",
      "torch.Size([1]) torch.Size([1, 1])\n",
      "torch.Size([1])"
     ]
    },
    {
     "name": "stderr",
     "output_type": "stream",
     "text": [
      "\r",
      "2031it [02:07, 16.44it/s]"
     ]
    },
    {
     "name": "stdout",
     "output_type": "stream",
     "text": [
      " torch.Size([1, 1])\n",
      "torch.Size([1]) torch.Size([1, 1])\n",
      "torch.Size([1]) torch.Size([1, 1])\n",
      "torch.Size([1])"
     ]
    },
    {
     "name": "stderr",
     "output_type": "stream",
     "text": [
      "2035it [02:07, 16.41it/s]"
     ]
    },
    {
     "name": "stdout",
     "output_type": "stream",
     "text": [
      " torch.Size([1, 1])\n",
      "torch.Size([1]) torch.Size([1, 1])\n",
      "torch.Size([1]) torch.Size([1, 1])\n",
      "torch.Size([1]) torch.Size([1, 1])\n"
     ]
    },
    {
     "name": "stderr",
     "output_type": "stream",
     "text": [
      "2039it [02:08, 16.62it/s]"
     ]
    },
    {
     "name": "stdout",
     "output_type": "stream",
     "text": [
      "torch.Size([1]) torch.Size([1, 1])\n",
      "torch.Size([1]) torch.Size([1, 1])\n",
      "torch.Size([1]) torch.Size([1, 1])\n",
      "torch.Size([1])"
     ]
    },
    {
     "name": "stderr",
     "output_type": "stream",
     "text": [
      "2043it [02:08, 17.13it/s]"
     ]
    },
    {
     "name": "stdout",
     "output_type": "stream",
     "text": [
      " torch.Size([1, 1])\n",
      "torch.Size([1]) torch.Size([1, 1])\n",
      "torch.Size([1]) torch.Size([1, 1])\n",
      "torch.Size([1]) torch.Size([1, 1])\n"
     ]
    },
    {
     "name": "stderr",
     "output_type": "stream",
     "text": [
      "2047it [02:08, 17.10it/s]"
     ]
    },
    {
     "name": "stdout",
     "output_type": "stream",
     "text": [
      "torch.Size([1]) torch.Size([1, 1])\n",
      "torch.Size([1]) torch.Size([1, 1])\n",
      "torch.Size([1]) torch.Size([1, 1])\n",
      "torch.Size([1]) torch.Size([1, 1])\n"
     ]
    },
    {
     "name": "stderr",
     "output_type": "stream",
     "text": [
      "\r",
      "2049it [02:08, 17.56it/s]"
     ]
    },
    {
     "name": "stdout",
     "output_type": "stream",
     "text": [
      "torch.Size([1]) torch.Size([1, 1])\n",
      "torch.Size([1]) torch.Size([1, 1])\n",
      "torch.Size([1]) torch.Size([1, 1])\n",
      "torch.Size([1])"
     ]
    },
    {
     "name": "stderr",
     "output_type": "stream",
     "text": [
      "2053it [02:08, 17.30it/s]"
     ]
    },
    {
     "name": "stdout",
     "output_type": "stream",
     "text": [
      " torch.Size([1, 1])\n",
      "torch.Size([1]) torch.Size([1, 1])\n",
      "torch.Size([1]) torch.Size([1, 1])\n",
      "torch.Size([1])"
     ]
    },
    {
     "name": "stderr",
     "output_type": "stream",
     "text": [
      "\r",
      "2055it [02:09, 16.12it/s]"
     ]
    },
    {
     "name": "stdout",
     "output_type": "stream",
     "text": [
      " torch.Size([1, 1])\n",
      "torch.Size([1]) torch.Size([1, 1])\n",
      "torch.Size([1]) torch.Size([1, 1])\n",
      "torch.Size([1])"
     ]
    },
    {
     "name": "stderr",
     "output_type": "stream",
     "text": [
      "2059it [02:09, 15.94it/s]"
     ]
    },
    {
     "name": "stdout",
     "output_type": "stream",
     "text": [
      " torch.Size([1, 1])\n",
      "torch.Size([1]) torch.Size([1, 1])\n",
      "torch.Size([1]) torch.Size([1, 1])\n",
      "torch.Size([1]) torch.Size([1, 1])\n"
     ]
    },
    {
     "name": "stderr",
     "output_type": "stream",
     "text": [
      "2063it [02:09, 17.02it/s]"
     ]
    },
    {
     "name": "stdout",
     "output_type": "stream",
     "text": [
      "torch.Size([1]) torch.Size([1, 1])\n",
      "torch.Size([1]) torch.Size([1, 1])\n",
      "torch.Size([1]) torch.Size([1, 1])\n",
      "torch.Size([1]) torch.Size([1, 1])\n"
     ]
    },
    {
     "name": "stderr",
     "output_type": "stream",
     "text": [
      "2067it [02:09, 17.77it/s]"
     ]
    },
    {
     "name": "stdout",
     "output_type": "stream",
     "text": [
      "torch.Size([1]) torch.Size([1, 1])\n",
      "torch.Size([1]) torch.Size([1, 1])\n",
      "torch.Size([1]) torch.Size([1, 1])\n",
      "torch.Size([1]) torch.Size([1, 1])\n"
     ]
    },
    {
     "name": "stderr",
     "output_type": "stream",
     "text": [
      "2071it [02:10, 17.47it/s]"
     ]
    },
    {
     "name": "stdout",
     "output_type": "stream",
     "text": [
      "torch.Size([1]) torch.Size([1, 1])\n",
      "torch.Size([1]) torch.Size([1, 1])\n",
      "torch.Size([1]) torch.Size([1, 1])\n",
      "torch.Size([1]) torch.Size([1, 1])\n"
     ]
    },
    {
     "name": "stderr",
     "output_type": "stream",
     "text": [
      "2075it [02:10, 17.05it/s]"
     ]
    },
    {
     "name": "stdout",
     "output_type": "stream",
     "text": [
      "torch.Size([1]) torch.Size([1, 1])\n",
      "torch.Size([1]) torch.Size([1, 1])\n",
      "torch.Size([1]) torch.Size([1, 1])\n",
      "torch.Size([1]) torch.Size([1, 1])\n"
     ]
    },
    {
     "name": "stderr",
     "output_type": "stream",
     "text": [
      "2079it [02:10, 17.87it/s]"
     ]
    },
    {
     "name": "stdout",
     "output_type": "stream",
     "text": [
      "torch.Size([1]) torch.Size([1, 1])\n",
      "torch.Size([1]) torch.Size([1, 1])\n",
      "torch.Size([1]) torch.Size([1, 1])\n",
      "torch.Size([1]) torch.Size([1, 1])\n"
     ]
    },
    {
     "name": "stderr",
     "output_type": "stream",
     "text": [
      "2083it [02:10, 17.50it/s]"
     ]
    },
    {
     "name": "stdout",
     "output_type": "stream",
     "text": [
      "torch.Size([1]) torch.Size([1, 1])\n",
      "torch.Size([1]) torch.Size([1, 1])\n",
      "torch.Size([1]) torch.Size([1, 1])\n",
      "torch.Size([1]) torch.Size([1, 1])\n"
     ]
    },
    {
     "name": "stderr",
     "output_type": "stream",
     "text": [
      "2087it [02:10, 17.26it/s]"
     ]
    },
    {
     "name": "stdout",
     "output_type": "stream",
     "text": [
      "torch.Size([1]) torch.Size([1, 1])\n",
      "torch.Size([1]) torch.Size([1, 1])\n",
      "torch.Size([1]) torch.Size([1, 1])\n",
      "torch.Size([1]) torch.Size([1, 1])\n"
     ]
    },
    {
     "name": "stderr",
     "output_type": "stream",
     "text": [
      "2091it [02:11, 16.64it/s]"
     ]
    },
    {
     "name": "stdout",
     "output_type": "stream",
     "text": [
      "torch.Size([1]) torch.Size([1, 1])\n",
      "torch.Size([1]) torch.Size([1, 1])\n",
      "torch.Size([1]) torch.Size([1, 1])\n",
      "torch.Size([1])"
     ]
    },
    {
     "name": "stderr",
     "output_type": "stream",
     "text": [
      "2095it [02:11, 17.30it/s]"
     ]
    },
    {
     "name": "stdout",
     "output_type": "stream",
     "text": [
      " torch.Size([1, 1])\n",
      "torch.Size([1]) torch.Size([1, 1])\n",
      "torch.Size([1]) torch.Size([1, 1])\n",
      "torch.Size([1]) torch.Size([1, 1])\n"
     ]
    },
    {
     "name": "stderr",
     "output_type": "stream",
     "text": [
      "\r",
      "2097it [02:11, 16.94it/s]"
     ]
    },
    {
     "name": "stdout",
     "output_type": "stream",
     "text": [
      "torch.Size([1]) torch.Size([1, 1])\n",
      "torch.Size([1]) torch.Size([1, 1])\n",
      "torch.Size([1]) torch.Size([1, 1])\n",
      "torch.Size([1])"
     ]
    },
    {
     "name": "stderr",
     "output_type": "stream",
     "text": [
      "2101it [02:11, 17.26it/s]"
     ]
    },
    {
     "name": "stdout",
     "output_type": "stream",
     "text": [
      " torch.Size([1, 1])\n",
      "torch.Size([1]) torch.Size([1, 1])\n",
      "torch.Size([1]) torch.Size([1, 1])\n",
      "torch.Size([1]) torch.Size([1, 1])\n"
     ]
    },
    {
     "name": "stderr",
     "output_type": "stream",
     "text": [
      "2105it [02:11, 17.60it/s]"
     ]
    },
    {
     "name": "stdout",
     "output_type": "stream",
     "text": [
      "torch.Size([1]) torch.Size([1, 1])\n",
      "torch.Size([1]) torch.Size([1, 1])\n",
      "torch.Size([1]) torch.Size([1, 1])\n",
      "torch.Size([1]) torch.Size([1, 1])\n"
     ]
    },
    {
     "name": "stderr",
     "output_type": "stream",
     "text": [
      "2109it [02:12, 17.32it/s]"
     ]
    },
    {
     "name": "stdout",
     "output_type": "stream",
     "text": [
      "torch.Size([1]) torch.Size([1, 1])\n",
      "torch.Size([1]) torch.Size([1, 1])\n",
      "torch.Size([1]) torch.Size([1, 1])\n",
      "torch.Size([1])"
     ]
    },
    {
     "name": "stderr",
     "output_type": "stream",
     "text": [
      "\r",
      "2111it [02:12, 17.13it/s]"
     ]
    },
    {
     "name": "stdout",
     "output_type": "stream",
     "text": [
      " torch.Size([1, 1])\n",
      "torch.Size([1]) torch.Size([1, 1])\n",
      "torch.Size([1]) torch.Size([1, 1])\n",
      "torch.Size([1])"
     ]
    },
    {
     "name": "stderr",
     "output_type": "stream",
     "text": [
      "2115it [02:12, 15.82it/s]"
     ]
    },
    {
     "name": "stdout",
     "output_type": "stream",
     "text": [
      " torch.Size([1, 1])\n",
      "torch.Size([1]) torch.Size([1, 1])\n",
      "torch.Size([1]) torch.Size([1, 1])\n",
      "torch.Size([1])"
     ]
    },
    {
     "name": "stderr",
     "output_type": "stream",
     "text": [
      "\r",
      "2117it [02:12, 16.27it/s]"
     ]
    },
    {
     "name": "stdout",
     "output_type": "stream",
     "text": [
      " torch.Size([1, 1])\n",
      "torch.Size([1]) torch.Size([1, 1])\n",
      "torch.Size([1]) torch.Size([1, 1])\n",
      "torch.Size([1])"
     ]
    },
    {
     "name": "stderr",
     "output_type": "stream",
     "text": [
      "2121it [02:12, 15.92it/s]"
     ]
    },
    {
     "name": "stdout",
     "output_type": "stream",
     "text": [
      " torch.Size([1, 1])\n",
      "torch.Size([1]) torch.Size([1, 1])\n",
      "torch.Size([1]) torch.Size([1, 1])\n",
      "torch.Size([1])"
     ]
    },
    {
     "name": "stderr",
     "output_type": "stream",
     "text": [
      "2125it [02:13, 16.08it/s]"
     ]
    },
    {
     "name": "stdout",
     "output_type": "stream",
     "text": [
      " torch.Size([1, 1])\n",
      "torch.Size([1]) torch.Size([1, 1])\n",
      "torch.Size([1]) torch.Size([1, 1])\n",
      "torch.Size([1]) torch.Size([1, 1])\n"
     ]
    },
    {
     "name": "stderr",
     "output_type": "stream",
     "text": [
      "2129it [02:13, 16.82it/s]"
     ]
    },
    {
     "name": "stdout",
     "output_type": "stream",
     "text": [
      "torch.Size([1]) torch.Size([1, 1])\n",
      "torch.Size([1]) torch.Size([1, 1])\n",
      "torch.Size([1]) torch.Size([1, 1])\n",
      "torch.Size([1]) torch.Size([1, 1])\n"
     ]
    },
    {
     "name": "stderr",
     "output_type": "stream",
     "text": [
      "2133it [02:13, 17.25it/s]"
     ]
    },
    {
     "name": "stdout",
     "output_type": "stream",
     "text": [
      "torch.Size([1]) torch.Size([1, 1])\n",
      "torch.Size([1]) torch.Size([1, 1])\n",
      "torch.Size([1]) torch.Size([1, 1])\n",
      "torch.Size([1]) torch.Size([1, 1])\n"
     ]
    },
    {
     "name": "stderr",
     "output_type": "stream",
     "text": [
      "2137it [02:13, 17.15it/s]"
     ]
    },
    {
     "name": "stdout",
     "output_type": "stream",
     "text": [
      "torch.Size([1]) torch.Size([1, 1])\n",
      "torch.Size([1]) torch.Size([1, 1])\n",
      "torch.Size([1]) torch.Size([1, 1])\n",
      "torch.Size([1]) torch.Size([1, 1])\n"
     ]
    },
    {
     "name": "stderr",
     "output_type": "stream",
     "text": [
      "2141it [02:14, 17.42it/s]"
     ]
    },
    {
     "name": "stdout",
     "output_type": "stream",
     "text": [
      "torch.Size([1]) torch.Size([1, 1])\n",
      "torch.Size([1]) torch.Size([1, 1])\n",
      "torch.Size([1]) torch.Size([1, 1])\n",
      "torch.Size([1]) torch.Size([1, 1])\n"
     ]
    },
    {
     "name": "stderr",
     "output_type": "stream",
     "text": [
      "2145it [02:14, 17.41it/s]"
     ]
    },
    {
     "name": "stdout",
     "output_type": "stream",
     "text": [
      "torch.Size([1]) torch.Size([1, 1])\n",
      "torch.Size([1]) torch.Size([1, 1])\n",
      "torch.Size([1]) torch.Size([1, 1])\n",
      "torch.Size([1]) torch.Size([1, 1])\n"
     ]
    },
    {
     "name": "stderr",
     "output_type": "stream",
     "text": [
      "\r",
      "2147it [02:14, 17.32it/s]"
     ]
    },
    {
     "name": "stdout",
     "output_type": "stream",
     "text": [
      "torch.Size([1]) torch.Size([1, 1])\n",
      "torch.Size([1]) torch.Size([1, 1])\n",
      "torch.Size([1]) torch.Size([1, 1])\n",
      "torch.Size([1]) torch.Size([1, 1])\n"
     ]
    },
    {
     "name": "stderr",
     "output_type": "stream",
     "text": [
      "2151it [02:14, 17.13it/s]"
     ]
    },
    {
     "name": "stdout",
     "output_type": "stream",
     "text": [
      "torch.Size([1]) torch.Size([1, 1])\n",
      "torch.Size([1]) torch.Size([1, 1])\n",
      "torch.Size([1]) torch.Size([1, 1])\n",
      "torch.Size([1])"
     ]
    },
    {
     "name": "stderr",
     "output_type": "stream",
     "text": [
      "2155it [02:14, 17.01it/s]"
     ]
    },
    {
     "name": "stdout",
     "output_type": "stream",
     "text": [
      " torch.Size([1, 1])\n",
      "torch.Size([1]) torch.Size([1, 1])\n",
      "torch.Size([1]) torch.Size([1, 1])\n",
      "torch.Size([1]) torch.Size([1, 1])\n"
     ]
    },
    {
     "name": "stderr",
     "output_type": "stream",
     "text": [
      "2159it [02:15, 17.06it/s]"
     ]
    },
    {
     "name": "stdout",
     "output_type": "stream",
     "text": [
      "torch.Size([1]) torch.Size([1, 1])\n",
      "torch.Size([1]) torch.Size([1, 1])\n",
      "torch.Size([1]) torch.Size([1, 1])\n",
      "torch.Size([1]) torch.Size([1, 1])\n"
     ]
    },
    {
     "name": "stderr",
     "output_type": "stream",
     "text": [
      "2163it [02:15, 17.19it/s]"
     ]
    },
    {
     "name": "stdout",
     "output_type": "stream",
     "text": [
      "torch.Size([1]) torch.Size([1, 1])\n",
      "torch.Size([1]) torch.Size([1, 1])\n",
      "torch.Size([1]) torch.Size([1, 1])\n",
      "torch.Size([1]) torch.Size([1, 1])\n"
     ]
    },
    {
     "name": "stderr",
     "output_type": "stream",
     "text": [
      "2167it [02:15, 17.30it/s]"
     ]
    },
    {
     "name": "stdout",
     "output_type": "stream",
     "text": [
      "torch.Size([1]) torch.Size([1, 1])\n",
      "torch.Size([1]) torch.Size([1, 1])\n",
      "torch.Size([1]) torch.Size([1, 1])\n",
      "torch.Size([1]) torch.Size([1, 1])\n"
     ]
    },
    {
     "name": "stderr",
     "output_type": "stream",
     "text": [
      "2171it [02:15, 17.47it/s]"
     ]
    },
    {
     "name": "stdout",
     "output_type": "stream",
     "text": [
      "torch.Size([1]) torch.Size([1, 1])\n",
      "torch.Size([1]) torch.Size([1, 1])\n",
      "torch.Size([1]) torch.Size([1, 1])\n",
      "torch.Size([1]) torch.Size([1, 1])\n"
     ]
    },
    {
     "name": "stderr",
     "output_type": "stream",
     "text": [
      "2175it [02:16, 16.85it/s]"
     ]
    },
    {
     "name": "stdout",
     "output_type": "stream",
     "text": [
      "torch.Size([1]) torch.Size([1, 1])\n",
      "torch.Size([1]) torch.Size([1, 1])\n",
      "torch.Size([1]) torch.Size([1, 1])\n",
      "torch.Size([1])"
     ]
    },
    {
     "name": "stderr",
     "output_type": "stream",
     "text": [
      "2179it [02:16, 16.84it/s]"
     ]
    },
    {
     "name": "stdout",
     "output_type": "stream",
     "text": [
      " torch.Size([1, 1])\n",
      "torch.Size([1]) torch.Size([1, 1])\n",
      "torch.Size([1]) torch.Size([1, 1])\n",
      "torch.Size([1]) torch.Size([1, 1])\n"
     ]
    },
    {
     "name": "stderr",
     "output_type": "stream",
     "text": [
      "2183it [02:16, 17.35it/s]"
     ]
    },
    {
     "name": "stdout",
     "output_type": "stream",
     "text": [
      "torch.Size([1]) torch.Size([1, 1])\n",
      "torch.Size([1]) torch.Size([1, 1])\n",
      "torch.Size([1]) torch.Size([1, 1])\n",
      "torch.Size([1]) torch.Size([1, 1])\n"
     ]
    },
    {
     "name": "stderr",
     "output_type": "stream",
     "text": [
      "\r",
      "2185it [02:16, 17.55it/s]"
     ]
    },
    {
     "name": "stdout",
     "output_type": "stream",
     "text": [
      "torch.Size([1]) torch.Size([1, 1])\n",
      "torch.Size([1]) torch.Size([1, 1])\n",
      "torch.Size([1]) torch.Size([1, 1])\n",
      "torch.Size([1])"
     ]
    },
    {
     "name": "stderr",
     "output_type": "stream",
     "text": [
      "2189it [02:16, 16.46it/s]"
     ]
    },
    {
     "name": "stdout",
     "output_type": "stream",
     "text": [
      " torch.Size([1, 1])\n",
      "torch.Size([1]) torch.Size([1, 1])\n",
      "torch.Size([1]) torch.Size([1, 1])\n",
      "torch.Size([1])"
     ]
    },
    {
     "name": "stderr",
     "output_type": "stream",
     "text": [
      "2193it [02:17, 16.66it/s]"
     ]
    },
    {
     "name": "stdout",
     "output_type": "stream",
     "text": [
      " torch.Size([1, 1])\n",
      "torch.Size([1]) torch.Size([1, 1])\n",
      "torch.Size([1]) torch.Size([1, 1])\n",
      "torch.Size([1]) torch.Size([1, 1])\n"
     ]
    },
    {
     "name": "stderr",
     "output_type": "stream",
     "text": [
      "\r",
      "2195it [02:17, 17.05it/s]"
     ]
    },
    {
     "name": "stdout",
     "output_type": "stream",
     "text": [
      "torch.Size([1]) torch.Size([1, 1])\n",
      "torch.Size([1]) torch.Size([1, 1])\n",
      "torch.Size([1]) torch.Size([1, 1])\n",
      "torch.Size([1])"
     ]
    },
    {
     "name": "stderr",
     "output_type": "stream",
     "text": [
      "2199it [02:17, 15.44it/s]"
     ]
    },
    {
     "name": "stdout",
     "output_type": "stream",
     "text": [
      " torch.Size([1, 1])\n",
      "torch.Size([1]) torch.Size([1, 1])\n",
      "torch.Size([1]) torch.Size([1, 1])\n"
     ]
    },
    {
     "name": "stderr",
     "output_type": "stream",
     "text": [
      "2203it [02:17, 16.08it/s]"
     ]
    },
    {
     "name": "stdout",
     "output_type": "stream",
     "text": [
      "torch.Size([1]) torch.Size([1, 1])\n",
      "torch.Size([1]) torch.Size([1, 1])\n",
      "torch.Size([1]) torch.Size([1, 1])\n",
      "torch.Size([1]) torch.Size([1, 1])\n"
     ]
    },
    {
     "name": "stderr",
     "output_type": "stream",
     "text": [
      "\r",
      "2205it [02:17, 16.33it/s]"
     ]
    },
    {
     "name": "stdout",
     "output_type": "stream",
     "text": [
      "torch.Size([1]) torch.Size([1, 1])\n",
      "torch.Size([1]) torch.Size([1, 1])\n",
      "torch.Size([1]) torch.Size([1, 1])\n",
      "torch.Size([1]) torch.Size([1, 1])\n"
     ]
    },
    {
     "name": "stderr",
     "output_type": "stream",
     "text": [
      "2211it [02:18, 17.17it/s]"
     ]
    },
    {
     "name": "stdout",
     "output_type": "stream",
     "text": [
      "torch.Size([1]) torch.Size([1, 1])\n",
      "torch.Size([1]) torch.Size([1, 1])\n",
      "torch.Size([1]) torch.Size([1, 1])\n",
      "torch.Size([1]) torch.Size([1, 1])\n"
     ]
    },
    {
     "name": "stderr",
     "output_type": "stream",
     "text": [
      "2215it [02:18, 17.42it/s]"
     ]
    },
    {
     "name": "stdout",
     "output_type": "stream",
     "text": [
      "torch.Size([1]) torch.Size([1, 1])\n",
      "torch.Size([1]) torch.Size([1, 1])\n",
      "torch.Size([1]) torch.Size([1, 1])\n",
      "torch.Size([1]) torch.Size([1, 1])\n"
     ]
    },
    {
     "name": "stderr",
     "output_type": "stream",
     "text": [
      "\r",
      "2217it [02:18, 17.28it/s]"
     ]
    },
    {
     "name": "stdout",
     "output_type": "stream",
     "text": [
      "torch.Size([1]) torch.Size([1, 1])\n",
      "torch.Size([1]) torch.Size([1, 1])\n",
      "torch.Size([1]) torch.Size([1, 1])\n",
      "torch.Size([1])"
     ]
    },
    {
     "name": "stderr",
     "output_type": "stream",
     "text": [
      "2221it [02:18, 16.46it/s]"
     ]
    },
    {
     "name": "stdout",
     "output_type": "stream",
     "text": [
      " torch.Size([1, 1])\n",
      "torch.Size([1]) torch.Size([1, 1])\n",
      "torch.Size([1]) torch.Size([1, 1])\n",
      "torch.Size([1])"
     ]
    },
    {
     "name": "stderr",
     "output_type": "stream",
     "text": [
      "\r",
      "2223it [02:19, 15.49it/s]"
     ]
    },
    {
     "name": "stdout",
     "output_type": "stream",
     "text": [
      " torch.Size([1, 1])\n",
      "torch.Size([1]) torch.Size([1, 1])\n",
      "torch.Size([1]) torch.Size([1, 1])\n",
      "torch.Size([1])"
     ]
    },
    {
     "name": "stderr",
     "output_type": "stream",
     "text": [
      "2227it [02:19, 15.84it/s]"
     ]
    },
    {
     "name": "stdout",
     "output_type": "stream",
     "text": [
      " torch.Size([1, 1])\n",
      "torch.Size([1]) torch.Size([1, 1])\n",
      "torch.Size([1]) torch.Size([1, 1])\n",
      "torch.Size([1]) torch.Size([1, 1])\n"
     ]
    },
    {
     "name": "stderr",
     "output_type": "stream",
     "text": [
      "2231it [02:19, 15.15it/s]"
     ]
    },
    {
     "name": "stdout",
     "output_type": "stream",
     "text": [
      "torch.Size([1]) torch.Size([1, 1])\n",
      "torch.Size([1]) torch.Size([1, 1])\n",
      "torch.Size([1]) torch.Size([1, 1])\n"
     ]
    },
    {
     "name": "stderr",
     "output_type": "stream",
     "text": [
      "2235it [02:19, 15.82it/s]"
     ]
    },
    {
     "name": "stdout",
     "output_type": "stream",
     "text": [
      "torch.Size([1]) torch.Size([1, 1])\n",
      "torch.Size([1]) torch.Size([1, 1])\n",
      "torch.Size([1]) torch.Size([1, 1])\n",
      "torch.Size([1]) torch.Size([1, 1])\n"
     ]
    },
    {
     "name": "stderr",
     "output_type": "stream",
     "text": [
      "2239it [02:20, 15.93it/s]"
     ]
    },
    {
     "name": "stdout",
     "output_type": "stream",
     "text": [
      "torch.Size([1]) torch.Size([1, 1])\n",
      "torch.Size([1]) torch.Size([1, 1])\n",
      "torch.Size([1]) torch.Size([1, 1])\n",
      "torch.Size([1]) torch.Size([1, 1])\n"
     ]
    },
    {
     "name": "stderr",
     "output_type": "stream",
     "text": [
      "\r",
      "2241it [02:20, 15.99it/s]"
     ]
    },
    {
     "name": "stdout",
     "output_type": "stream",
     "text": [
      "torch.Size([1]) torch.Size([1, 1])\n",
      "torch.Size([1]) torch.Size([1, 1])\n",
      "torch.Size([1]) torch.Size([1, 1])\n",
      "torch.Size([1])"
     ]
    },
    {
     "name": "stderr",
     "output_type": "stream",
     "text": [
      "2245it [02:20, 15.51it/s]"
     ]
    },
    {
     "name": "stdout",
     "output_type": "stream",
     "text": [
      " torch.Size([1, 1])\n",
      "torch.Size([1]) torch.Size([1, 1])\n",
      "torch.Size([1]) torch.Size([1, 1])\n",
      "torch.Size([1])"
     ]
    },
    {
     "name": "stderr",
     "output_type": "stream",
     "text": [
      "\r",
      "2247it [02:20, 15.13it/s]"
     ]
    },
    {
     "name": "stdout",
     "output_type": "stream",
     "text": [
      " torch.Size([1, 1])\n",
      "torch.Size([1]) torch.Size([1, 1])\n",
      "torch.Size([1]) torch.Size([1, 1])\n",
      "torch.Size([1])"
     ]
    },
    {
     "name": "stderr",
     "output_type": "stream",
     "text": [
      "2251it [02:20, 15.10it/s]"
     ]
    },
    {
     "name": "stdout",
     "output_type": "stream",
     "text": [
      " torch.Size([1, 1])\n",
      "torch.Size([1]) torch.Size([1, 1])\n",
      "torch.Size([1]) torch.Size([1, 1])\n",
      "torch.Size([1])"
     ]
    },
    {
     "name": "stderr",
     "output_type": "stream",
     "text": [
      "\r",
      "2253it [02:20, 15.33it/s]"
     ]
    },
    {
     "name": "stdout",
     "output_type": "stream",
     "text": [
      " torch.Size([1, 1])\n",
      "torch.Size([1]) torch.Size([1, 1])\n",
      "torch.Size([1]) torch.Size([1, 1])\n"
     ]
    },
    {
     "name": "stderr",
     "output_type": "stream",
     "text": [
      "2257it [02:21, 14.95it/s]"
     ]
    },
    {
     "name": "stdout",
     "output_type": "stream",
     "text": [
      "torch.Size([1]) torch.Size([1, 1])\n",
      "torch.Size([1]) torch.Size([1, 1])\n",
      "torch.Size([1]) torch.Size([1, 1])\n"
     ]
    },
    {
     "name": "stderr",
     "output_type": "stream",
     "text": [
      "\r",
      "2259it [02:21, 15.08it/s]"
     ]
    },
    {
     "name": "stdout",
     "output_type": "stream",
     "text": [
      "torch.Size([1]) torch.Size([1, 1])\n",
      "torch.Size([1]) torch.Size([1, 1])\n",
      "torch.Size([1]) torch.Size([1, 1])\n",
      "torch.Size([1])"
     ]
    },
    {
     "name": "stderr",
     "output_type": "stream",
     "text": [
      "2263it [02:21, 15.80it/s]"
     ]
    },
    {
     "name": "stdout",
     "output_type": "stream",
     "text": [
      " torch.Size([1, 1])\n",
      "torch.Size([1]) torch.Size([1, 1])\n",
      "torch.Size([1]) torch.Size([1, 1])\n",
      "torch.Size([1])"
     ]
    },
    {
     "name": "stderr",
     "output_type": "stream",
     "text": [
      "\r",
      "2265it [02:21, 15.53it/s]"
     ]
    },
    {
     "name": "stdout",
     "output_type": "stream",
     "text": [
      " torch.Size([1, 1])\n",
      "torch.Size([1]) torch.Size([1, 1])\n",
      "torch.Size([1]) torch.Size([1, 1])\n",
      "torch.Size([1])"
     ]
    },
    {
     "name": "stderr",
     "output_type": "stream",
     "text": [
      "2269it [02:21, 15.99it/s]"
     ]
    },
    {
     "name": "stdout",
     "output_type": "stream",
     "text": [
      " torch.Size([1, 1])\n",
      "torch.Size([1]) torch.Size([1, 1])\n",
      "torch.Size([1]) torch.Size([1, 1])\n",
      "torch.Size([1]) torch.Size([1, 1])\n"
     ]
    },
    {
     "name": "stderr",
     "output_type": "stream",
     "text": [
      "2273it [02:22, 15.89it/s]"
     ]
    },
    {
     "name": "stdout",
     "output_type": "stream",
     "text": [
      "torch.Size([1]) torch.Size([1, 1])\n",
      "torch.Size([1]) torch.Size([1, 1])\n",
      "torch.Size([1]) torch.Size([1, 1])\n",
      "torch.Size([1])"
     ]
    },
    {
     "name": "stderr",
     "output_type": "stream",
     "text": [
      "\r",
      "2275it [02:22, 15.81it/s]"
     ]
    },
    {
     "name": "stdout",
     "output_type": "stream",
     "text": [
      " torch.Size([1, 1])\n",
      "torch.Size([1]) torch.Size([1, 1])\n",
      "torch.Size([1]) torch.Size([1, 1])\n",
      "torch.Size([1])"
     ]
    },
    {
     "name": "stderr",
     "output_type": "stream",
     "text": [
      "2279it [02:22, 15.23it/s]"
     ]
    },
    {
     "name": "stdout",
     "output_type": "stream",
     "text": [
      " torch.Size([1, 1])\n",
      "torch.Size([1]) torch.Size([1, 1])\n",
      "torch.Size([1]) torch.Size([1, 1])\n",
      "torch.Size([1])"
     ]
    },
    {
     "name": "stderr",
     "output_type": "stream",
     "text": [
      "\r",
      "2281it [02:22, 15.00it/s]"
     ]
    },
    {
     "name": "stdout",
     "output_type": "stream",
     "text": [
      " torch.Size([1, 1])\n",
      "torch.Size([1]) torch.Size([1, 1])\n",
      "torch.Size([1]) torch.Size([1, 1])\n",
      "torch.Size([1])"
     ]
    },
    {
     "name": "stderr",
     "output_type": "stream",
     "text": [
      "2285it [02:23, 14.67it/s]"
     ]
    },
    {
     "name": "stdout",
     "output_type": "stream",
     "text": [
      " torch.Size([1, 1])\n",
      "torch.Size([1]) torch.Size([1, 1])\n",
      "torch.Size([1]) torch.Size([1, 1])\n"
     ]
    },
    {
     "name": "stderr",
     "output_type": "stream",
     "text": [
      "\r",
      "2287it [02:23, 14.62it/s]"
     ]
    },
    {
     "name": "stdout",
     "output_type": "stream",
     "text": [
      "torch.Size([1]) torch.Size([1, 1])\n",
      "torch.Size([1]) torch.Size([1, 1])\n",
      "torch.Size([1]) torch.Size([1, 1])\n",
      "torch.Size([1])"
     ]
    },
    {
     "name": "stderr",
     "output_type": "stream",
     "text": [
      "2291it [02:23, 15.31it/s]"
     ]
    },
    {
     "name": "stdout",
     "output_type": "stream",
     "text": [
      " torch.Size([1, 1])\n",
      "torch.Size([1]) torch.Size([1, 1])\n",
      "torch.Size([1]) torch.Size([1, 1])\n",
      "torch.Size([1])"
     ]
    },
    {
     "name": "stderr",
     "output_type": "stream",
     "text": [
      "2295it [02:23, 16.21it/s]"
     ]
    },
    {
     "name": "stdout",
     "output_type": "stream",
     "text": [
      " torch.Size([1, 1])\n",
      "torch.Size([1]) torch.Size([1, 1])\n",
      "torch.Size([1]) torch.Size([1, 1])\n",
      "torch.Size([1]) torch.Size([1, 1])\n"
     ]
    },
    {
     "name": "stderr",
     "output_type": "stream",
     "text": [
      "\r",
      "2297it [02:23, 16.08it/s]"
     ]
    },
    {
     "name": "stdout",
     "output_type": "stream",
     "text": [
      "torch.Size([1]) torch.Size([1, 1])\n",
      "torch.Size([1]) torch.Size([1, 1])\n",
      "torch.Size([1]) torch.Size([1, 1])\n",
      "torch.Size([1])"
     ]
    },
    {
     "name": "stderr",
     "output_type": "stream",
     "text": [
      "2301it [02:24, 15.92it/s]"
     ]
    },
    {
     "name": "stdout",
     "output_type": "stream",
     "text": [
      " torch.Size([1, 1])\n",
      "torch.Size([1]) torch.Size([1, 1])\n",
      "torch.Size([1]) torch.Size([1, 1])\n",
      "torch.Size([1])"
     ]
    },
    {
     "name": "stderr",
     "output_type": "stream",
     "text": [
      "\r",
      "2303it [02:24, 15.43it/s]"
     ]
    },
    {
     "name": "stdout",
     "output_type": "stream",
     "text": [
      " torch.Size([1, 1])\n",
      "torch.Size([1]) torch.Size([1, 1])\n",
      "torch.Size([1]) torch.Size([1, 1])\n",
      "torch.Size([1])"
     ]
    },
    {
     "name": "stderr",
     "output_type": "stream",
     "text": [
      "2307it [02:24, 15.91it/s]"
     ]
    },
    {
     "name": "stdout",
     "output_type": "stream",
     "text": [
      " torch.Size([1, 1])\n",
      "torch.Size([1]) torch.Size([1, 1])\n",
      "torch.Size([1]) torch.Size([1, 1])\n",
      "torch.Size([1])"
     ]
    },
    {
     "name": "stderr",
     "output_type": "stream",
     "text": [
      "\r",
      "2309it [02:24, 16.02it/s]"
     ]
    },
    {
     "name": "stdout",
     "output_type": "stream",
     "text": [
      " torch.Size([1, 1])\n",
      "torch.Size([1]) torch.Size([1, 1])\n",
      "torch.Size([1]) torch.Size([1, 1])\n",
      "torch.Size([1])"
     ]
    },
    {
     "name": "stderr",
     "output_type": "stream",
     "text": [
      "2313it [02:24, 14.76it/s]"
     ]
    },
    {
     "name": "stdout",
     "output_type": "stream",
     "text": [
      " torch.Size([1, 1])\n",
      "torch.Size([1]) torch.Size([1, 1])\n",
      "torch.Size([1]) torch.Size([1, 1])\n"
     ]
    },
    {
     "name": "stderr",
     "output_type": "stream",
     "text": [
      "2317it [02:25, 15.26it/s]"
     ]
    },
    {
     "name": "stdout",
     "output_type": "stream",
     "text": [
      "torch.Size([1]) torch.Size([1, 1])\n",
      "torch.Size([1]) torch.Size([1, 1])\n",
      "torch.Size([1]) torch.Size([1, 1])\n",
      "torch.Size([1]) torch.Size([1, 1])\n"
     ]
    },
    {
     "name": "stderr",
     "output_type": "stream",
     "text": [
      "2321it [02:25, 16.05it/s]"
     ]
    },
    {
     "name": "stdout",
     "output_type": "stream",
     "text": [
      "torch.Size([1]) torch.Size([1, 1])\n",
      "torch.Size([1]) torch.Size([1, 1])\n",
      "torch.Size([1]) torch.Size([1, 1])\n",
      "torch.Size([1]) torch.Size([1, 1])\n"
     ]
    },
    {
     "name": "stderr",
     "output_type": "stream",
     "text": [
      "\r",
      "2323it [02:25, 16.35it/s]"
     ]
    },
    {
     "name": "stdout",
     "output_type": "stream",
     "text": [
      "torch.Size([1]) torch.Size([1, 1])\n",
      "torch.Size([1]) torch.Size([1, 1])\n",
      "torch.Size([1]) torch.Size([1, 1])\n"
     ]
    },
    {
     "name": "stderr",
     "output_type": "stream",
     "text": [
      "2327it [02:25, 13.72it/s]"
     ]
    },
    {
     "name": "stdout",
     "output_type": "stream",
     "text": [
      "torch.Size([1]) torch.Size([1, 1])\n",
      "torch.Size([1]) torch.Size([1, 1])\n",
      "torch.Size([1]) torch.Size([1, 1])\n",
      "torch.Size([1])"
     ]
    },
    {
     "name": "stderr",
     "output_type": "stream",
     "text": [
      "\r",
      "2329it [02:25, 14.46it/s]"
     ]
    },
    {
     "name": "stdout",
     "output_type": "stream",
     "text": [
      " torch.Size([1, 1])\n",
      "torch.Size([1]) torch.Size([1, 1])\n",
      "torch.Size([1]) torch.Size([1, 1])\n",
      "torch.Size([1])"
     ]
    },
    {
     "name": "stderr",
     "output_type": "stream",
     "text": [
      "2333it [02:26, 15.65it/s]"
     ]
    },
    {
     "name": "stdout",
     "output_type": "stream",
     "text": [
      " torch.Size([1, 1])\n",
      "torch.Size([1]) torch.Size([1, 1])\n",
      "torch.Size([1]) torch.Size([1, 1])\n",
      "torch.Size([1]) torch.Size([1, 1])\n"
     ]
    },
    {
     "name": "stderr",
     "output_type": "stream",
     "text": [
      "2337it [02:26, 16.32it/s]"
     ]
    },
    {
     "name": "stdout",
     "output_type": "stream",
     "text": [
      "torch.Size([1]) torch.Size([1, 1])\n",
      "torch.Size([1]) torch.Size([1, 1])\n",
      "torch.Size([1]) torch.Size([1, 1])\n",
      "torch.Size([1]) torch.Size([1, 1])\n"
     ]
    },
    {
     "name": "stderr",
     "output_type": "stream",
     "text": [
      "2341it [02:26, 16.31it/s]"
     ]
    },
    {
     "name": "stdout",
     "output_type": "stream",
     "text": [
      "torch.Size([1]) torch.Size([1, 1])\n",
      "torch.Size([1]) torch.Size([1, 1])\n",
      "torch.Size([1]) torch.Size([1, 1])\n",
      "torch.Size([1]) torch.Size([1, 1])\n"
     ]
    },
    {
     "name": "stderr",
     "output_type": "stream",
     "text": [
      "2345it [02:26, 17.00it/s]"
     ]
    },
    {
     "name": "stdout",
     "output_type": "stream",
     "text": [
      "torch.Size([1]) torch.Size([1, 1])\n",
      "torch.Size([1]) torch.Size([1, 1])\n",
      "torch.Size([1]) torch.Size([1, 1])\n",
      "torch.Size([1]) torch.Size([1, 1])\n"
     ]
    },
    {
     "name": "stderr",
     "output_type": "stream",
     "text": [
      "2349it [02:27, 17.04it/s]"
     ]
    },
    {
     "name": "stdout",
     "output_type": "stream",
     "text": [
      "torch.Size([1]) torch.Size([1, 1])\n",
      "torch.Size([1]) torch.Size([1, 1])\n",
      "torch.Size([1]) torch.Size([1, 1])\n",
      "torch.Size([1]) torch.Size([1, 1])\n"
     ]
    },
    {
     "name": "stderr",
     "output_type": "stream",
     "text": [
      "2353it [02:27, 16.88it/s]"
     ]
    },
    {
     "name": "stdout",
     "output_type": "stream",
     "text": [
      "torch.Size([1]) torch.Size([1, 1])\n",
      "torch.Size([1]) torch.Size([1, 1])\n",
      "torch.Size([1]) torch.Size([1, 1])\n",
      "torch.Size([1]) torch.Size([1, 1])\n"
     ]
    },
    {
     "name": "stderr",
     "output_type": "stream",
     "text": [
      "2357it [02:27, 16.51it/s]"
     ]
    },
    {
     "name": "stdout",
     "output_type": "stream",
     "text": [
      "torch.Size([1]) torch.Size([1, 1])\n",
      "torch.Size([1]) torch.Size([1, 1])\n",
      "torch.Size([1]) torch.Size([1, 1])\n",
      "torch.Size([1])"
     ]
    },
    {
     "name": "stderr",
     "output_type": "stream",
     "text": [
      "2361it [02:27, 16.91it/s]"
     ]
    },
    {
     "name": "stdout",
     "output_type": "stream",
     "text": [
      " torch.Size([1, 1])\n",
      "torch.Size([1]) torch.Size([1, 1])\n",
      "torch.Size([1]) torch.Size([1, 1])\n",
      "torch.Size([1]) torch.Size([1, 1])\n"
     ]
    },
    {
     "name": "stderr",
     "output_type": "stream",
     "text": [
      "2365it [02:28, 16.86it/s]"
     ]
    },
    {
     "name": "stdout",
     "output_type": "stream",
     "text": [
      "torch.Size([1]) torch.Size([1, 1])\n",
      "torch.Size([1]) torch.Size([1, 1])\n",
      "torch.Size([1]) torch.Size([1, 1])\n",
      "torch.Size([1]) torch.Size([1, 1])\n"
     ]
    },
    {
     "name": "stderr",
     "output_type": "stream",
     "text": [
      "\r",
      "2367it [02:28, 16.20it/s]"
     ]
    },
    {
     "name": "stdout",
     "output_type": "stream",
     "text": [
      "torch.Size([1]) torch.Size([1, 1])\n",
      "torch.Size([1]) torch.Size([1, 1])\n",
      "torch.Size([1]) torch.Size([1, 1])\n",
      "torch.Size([1])"
     ]
    },
    {
     "name": "stderr",
     "output_type": "stream",
     "text": [
      "2371it [02:28, 15.40it/s]"
     ]
    },
    {
     "name": "stdout",
     "output_type": "stream",
     "text": [
      " torch.Size([1, 1])\n",
      "torch.Size([1]) torch.Size([1, 1])\n",
      "torch.Size([1]) torch.Size([1, 1])\n"
     ]
    },
    {
     "name": "stderr",
     "output_type": "stream",
     "text": [
      "\r",
      "2373it [02:28, 15.05it/s]"
     ]
    },
    {
     "name": "stdout",
     "output_type": "stream",
     "text": [
      "torch.Size([1]) torch.Size([1, 1])\n",
      "torch.Size([1]) torch.Size([1, 1])\n",
      "torch.Size([1]) torch.Size([1, 1])\n"
     ]
    },
    {
     "name": "stderr",
     "output_type": "stream",
     "text": [
      "2377it [02:28, 15.03it/s]"
     ]
    },
    {
     "name": "stdout",
     "output_type": "stream",
     "text": [
      "torch.Size([1]) torch.Size([1, 1])\n",
      "torch.Size([1]) torch.Size([1, 1])\n",
      "torch.Size([1]) torch.Size([1, 1])\n",
      "torch.Size([1])"
     ]
    },
    {
     "name": "stderr",
     "output_type": "stream",
     "text": [
      "2381it [02:29, 16.24it/s]"
     ]
    },
    {
     "name": "stdout",
     "output_type": "stream",
     "text": [
      " torch.Size([1, 1])\n",
      "torch.Size([1]) torch.Size([1, 1])\n",
      "torch.Size([1]) torch.Size([1, 1])\n",
      "torch.Size([1]) torch.Size([1, 1])\n"
     ]
    },
    {
     "name": "stderr",
     "output_type": "stream",
     "text": [
      "2385it [02:29, 17.19it/s]"
     ]
    },
    {
     "name": "stdout",
     "output_type": "stream",
     "text": [
      "torch.Size([1]) torch.Size([1, 1])\n",
      "torch.Size([1]) torch.Size([1, 1])\n",
      "torch.Size([1]) torch.Size([1, 1])\n",
      "torch.Size([1]) torch.Size([1, 1])\n"
     ]
    },
    {
     "name": "stderr",
     "output_type": "stream",
     "text": [
      "2389it [02:29, 17.02it/s]"
     ]
    },
    {
     "name": "stdout",
     "output_type": "stream",
     "text": [
      "torch.Size([1]) torch.Size([1, 1])\n",
      "torch.Size([1]) torch.Size([1, 1])\n",
      "torch.Size([1]) torch.Size([1, 1])\n",
      "torch.Size([1]) torch.Size([1, 1])\n"
     ]
    },
    {
     "name": "stderr",
     "output_type": "stream",
     "text": [
      "\r",
      "2391it [02:29, 16.14it/s]"
     ]
    },
    {
     "name": "stdout",
     "output_type": "stream",
     "text": [
      "torch.Size([1]) torch.Size([1, 1])\n",
      "torch.Size([1]) torch.Size([1, 1])\n",
      "torch.Size([1]) torch.Size([1, 1])\n",
      "torch.Size([1])"
     ]
    },
    {
     "name": "stderr",
     "output_type": "stream",
     "text": [
      "2395it [02:29, 15.64it/s]"
     ]
    },
    {
     "name": "stdout",
     "output_type": "stream",
     "text": [
      " torch.Size([1, 1])\n",
      "torch.Size([1]) torch.Size([1, 1])\n",
      "torch.Size([1]) torch.Size([1, 1])\n",
      "torch.Size([1]) torch.Size([1, 1])\n"
     ]
    },
    {
     "name": "stderr",
     "output_type": "stream",
     "text": [
      "2399it [02:30, 16.55it/s]"
     ]
    },
    {
     "name": "stdout",
     "output_type": "stream",
     "text": [
      "torch.Size([1]) torch.Size([1, 1])\n",
      "torch.Size([1]) torch.Size([1, 1])\n",
      "torch.Size([1]) torch.Size([1, 1])\n",
      "torch.Size([1])"
     ]
    },
    {
     "name": "stderr",
     "output_type": "stream",
     "text": [
      "\r",
      "2401it [02:30, 15.81it/s]"
     ]
    },
    {
     "name": "stdout",
     "output_type": "stream",
     "text": [
      " torch.Size([1, 1])\n",
      "torch.Size([1]) torch.Size([1, 1])\n",
      "torch.Size([1])"
     ]
    },
    {
     "name": "stderr",
     "output_type": "stream",
     "text": [
      "\r",
      "2403it [02:30, 13.77it/s]"
     ]
    },
    {
     "name": "stdout",
     "output_type": "stream",
     "text": [
      " torch.Size([1, 1])\n",
      "torch.Size([1]) torch.Size([1, 1])\n",
      "torch.Size([1]) torch.Size([1, 1])\n",
      "torch.Size([1]) torch.Size([1, 1])\n"
     ]
    },
    {
     "name": "stderr",
     "output_type": "stream",
     "text": [
      "2407it [02:30, 14.34it/s]"
     ]
    },
    {
     "name": "stdout",
     "output_type": "stream",
     "text": [
      "torch.Size([1]) torch.Size([1, 1])\n",
      "torch.Size([1]) torch.Size([1, 1])\n",
      "torch.Size([1]) torch.Size([1, 1])\n"
     ]
    },
    {
     "name": "stderr",
     "output_type": "stream",
     "text": [
      "2411it [02:31, 14.27it/s]"
     ]
    },
    {
     "name": "stdout",
     "output_type": "stream",
     "text": [
      "torch.Size([1]) torch.Size([1, 1])\n",
      "torch.Size([1]) torch.Size([1, 1])\n",
      "torch.Size([1]) torch.Size([1, 1])\n"
     ]
    },
    {
     "name": "stderr",
     "output_type": "stream",
     "text": [
      "\r",
      "2413it [02:31, 14.49it/s]"
     ]
    },
    {
     "name": "stdout",
     "output_type": "stream",
     "text": [
      "torch.Size([1]) torch.Size([1, 1])\n",
      "torch.Size([1]) torch.Size([1, 1])\n",
      "torch.Size([1]) torch.Size([1, 1])\n"
     ]
    },
    {
     "name": "stderr",
     "output_type": "stream",
     "text": [
      "2417it [02:31, 14.71it/s]"
     ]
    },
    {
     "name": "stdout",
     "output_type": "stream",
     "text": [
      "torch.Size([1]) torch.Size([1, 1])\n",
      "torch.Size([1]) torch.Size([1, 1])\n",
      "torch.Size([1]) torch.Size([1, 1])\n",
      "torch.Size([1])"
     ]
    },
    {
     "name": "stderr",
     "output_type": "stream",
     "text": [
      "\r",
      "2419it [02:31, 14.43it/s]"
     ]
    },
    {
     "name": "stdout",
     "output_type": "stream",
     "text": [
      " torch.Size([1, 1])\n",
      "torch.Size([1]) torch.Size([1, 1])\n",
      "torch.Size([1]) torch.Size([1, 1])\n"
     ]
    },
    {
     "name": "stderr",
     "output_type": "stream",
     "text": [
      "\r",
      "2421it [02:31, 14.27it/s]"
     ]
    },
    {
     "name": "stdout",
     "output_type": "stream",
     "text": [
      "torch.Size([1]) torch.Size([1, 1])\n",
      "torch.Size([1]) torch.Size([1, 1])\n",
      "torch.Size([1])"
     ]
    },
    {
     "name": "stderr",
     "output_type": "stream",
     "text": [
      "2425it [02:32, 13.24it/s]"
     ]
    },
    {
     "name": "stdout",
     "output_type": "stream",
     "text": [
      " torch.Size([1, 1])\n",
      "torch.Size([1]) torch.Size([1, 1])\n",
      "torch.Size([1]) torch.Size([1, 1])\n",
      "torch.Size([1])"
     ]
    },
    {
     "name": "stderr",
     "output_type": "stream",
     "text": [
      "\r",
      "2427it [02:32, 11.47it/s]"
     ]
    },
    {
     "name": "stdout",
     "output_type": "stream",
     "text": [
      " torch.Size([1, 1])\n",
      "torch.Size([1]) torch.Size([1, 1])\n"
     ]
    },
    {
     "name": "stderr",
     "output_type": "stream",
     "text": [
      "\r",
      "2429it [02:32, 11.17it/s]"
     ]
    },
    {
     "name": "stdout",
     "output_type": "stream",
     "text": [
      "torch.Size([1]) torch.Size([1, 1])\n",
      "torch.Size([1]) torch.Size([1, 1])\n",
      "torch.Size([1]) torch.Size([1, 1])\n",
      "torch.Size([1])"
     ]
    },
    {
     "name": "stderr",
     "output_type": "stream",
     "text": [
      "2433it [02:32, 12.59it/s]"
     ]
    },
    {
     "name": "stdout",
     "output_type": "stream",
     "text": [
      " torch.Size([1, 1])\n",
      "torch.Size([1]) torch.Size([1, 1])\n",
      "torch.Size([1]) torch.Size([1, 1])\n",
      "torch.Size([1])"
     ]
    },
    {
     "name": "stderr",
     "output_type": "stream",
     "text": [
      "\r",
      "2435it [02:32, 13.53it/s]"
     ]
    },
    {
     "name": "stdout",
     "output_type": "stream",
     "text": [
      " torch.Size([1, 1])\n",
      "torch.Size([1]) torch.Size([1, 1])\n",
      "torch.Size([1]) torch.Size([1, 1])\n",
      "torch.Size([1])"
     ]
    },
    {
     "name": "stderr",
     "output_type": "stream",
     "text": [
      "2439it [02:33, 15.01it/s]"
     ]
    },
    {
     "name": "stdout",
     "output_type": "stream",
     "text": [
      " torch.Size([1, 1])\n",
      "torch.Size([1]) torch.Size([1, 1])\n",
      "torch.Size([1]) torch.Size([1, 1])\n",
      "torch.Size([1])"
     ]
    },
    {
     "name": "stderr",
     "output_type": "stream",
     "text": [
      "2443it [02:33, 15.95it/s]"
     ]
    },
    {
     "name": "stdout",
     "output_type": "stream",
     "text": [
      " torch.Size([1, 1])\n",
      "torch.Size([1]) torch.Size([1, 1])\n",
      "torch.Size([1]) torch.Size([1, 1])\n",
      "torch.Size([1]) torch.Size([1, 1])\n"
     ]
    },
    {
     "name": "stderr",
     "output_type": "stream",
     "text": [
      "\r",
      "2445it [02:33, 16.20it/s]"
     ]
    },
    {
     "name": "stdout",
     "output_type": "stream",
     "text": [
      "torch.Size([1]) torch.Size([1, 1])\n",
      "torch.Size([1]) torch.Size([1, 1])\n",
      "torch.Size([1]) torch.Size([1, 1])\n",
      "torch.Size([1])"
     ]
    },
    {
     "name": "stderr",
     "output_type": "stream",
     "text": [
      "2449it [02:33, 16.27it/s]"
     ]
    },
    {
     "name": "stdout",
     "output_type": "stream",
     "text": [
      " torch.Size([1, 1])\n",
      "torch.Size([1]) torch.Size([1, 1])\n",
      "torch.Size([1]) torch.Size([1, 1])\n",
      "torch.Size([1])"
     ]
    },
    {
     "name": "stderr",
     "output_type": "stream",
     "text": [
      "\r",
      "2451it [02:33, 15.69it/s]"
     ]
    },
    {
     "name": "stdout",
     "output_type": "stream",
     "text": [
      " torch.Size([1, 1])\n",
      "torch.Size([1]) torch.Size([1, 1])\n",
      "torch.Size([1]) torch.Size([1, 1])\n",
      "torch.Size([1])"
     ]
    },
    {
     "name": "stderr",
     "output_type": "stream",
     "text": [
      "2455it [02:34, 16.24it/s]"
     ]
    },
    {
     "name": "stdout",
     "output_type": "stream",
     "text": [
      " torch.Size([1, 1])\n",
      "torch.Size([1]) torch.Size([1, 1])\n",
      "torch.Size([1]) torch.Size([1, 1])\n",
      "torch.Size([1]) torch.Size([1, 1])\n"
     ]
    },
    {
     "name": "stderr",
     "output_type": "stream",
     "text": [
      "2459it [02:34, 16.69it/s]"
     ]
    },
    {
     "name": "stdout",
     "output_type": "stream",
     "text": [
      "torch.Size([1]) torch.Size([1, 1])\n",
      "torch.Size([1]) torch.Size([1, 1])\n",
      "torch.Size([1]) torch.Size([1, 1])\n",
      "torch.Size([1]) torch.Size([1, 1])\n"
     ]
    },
    {
     "name": "stderr",
     "output_type": "stream",
     "text": [
      "2463it [02:34, 17.07it/s]"
     ]
    },
    {
     "name": "stdout",
     "output_type": "stream",
     "text": [
      "torch.Size([1]) torch.Size([1, 1])\n",
      "torch.Size([1]) torch.Size([1, 1])\n",
      "torch.Size([1]) torch.Size([1, 1])\n",
      "torch.Size([1]) torch.Size([1, 1])\n"
     ]
    },
    {
     "name": "stderr",
     "output_type": "stream",
     "text": [
      "2467it [02:34, 17.29it/s]"
     ]
    },
    {
     "name": "stdout",
     "output_type": "stream",
     "text": [
      "torch.Size([1]) torch.Size([1, 1])\n",
      "torch.Size([1]) torch.Size([1, 1])\n",
      "torch.Size([1]) torch.Size([1, 1])\n",
      "torch.Size([1]) torch.Size([1, 1])\n"
     ]
    },
    {
     "name": "stderr",
     "output_type": "stream",
     "text": [
      "2471it [02:35, 17.28it/s]"
     ]
    },
    {
     "name": "stdout",
     "output_type": "stream",
     "text": [
      "torch.Size([1]) torch.Size([1, 1])\n",
      "torch.Size([1]) torch.Size([1, 1])\n",
      "torch.Size([1]) torch.Size([1, 1])\n",
      "torch.Size([1])"
     ]
    },
    {
     "name": "stderr",
     "output_type": "stream",
     "text": [
      "\r",
      "2473it [02:35, 16.92it/s]"
     ]
    },
    {
     "name": "stdout",
     "output_type": "stream",
     "text": [
      " torch.Size([1, 1])\n",
      "torch.Size([1]) torch.Size([1, 1])\n",
      "torch.Size([1]) torch.Size([1, 1])\n",
      "torch.Size([1]) torch.Size([1, 1])\n"
     ]
    },
    {
     "name": "stderr",
     "output_type": "stream",
     "text": [
      "2477it [02:35, 16.57it/s]"
     ]
    },
    {
     "name": "stdout",
     "output_type": "stream",
     "text": [
      "torch.Size([1]) torch.Size([1, 1])\n",
      "torch.Size([1]) torch.Size([1, 1])\n",
      "torch.Size([1]) torch.Size([1, 1])\n",
      "torch.Size([1])"
     ]
    },
    {
     "name": "stderr",
     "output_type": "stream",
     "text": [
      "2481it [02:35, 16.93it/s]"
     ]
    },
    {
     "name": "stdout",
     "output_type": "stream",
     "text": [
      " torch.Size([1, 1])\n",
      "torch.Size([1]) torch.Size([1, 1])\n",
      "torch.Size([1]) torch.Size([1, 1])\n",
      "torch.Size([1]) torch.Size([1, 1])\n"
     ]
    },
    {
     "name": "stderr",
     "output_type": "stream",
     "text": [
      "2485it [02:35, 17.10it/s]"
     ]
    },
    {
     "name": "stdout",
     "output_type": "stream",
     "text": [
      "torch.Size([1]) torch.Size([1, 1])\n",
      "torch.Size([1]) torch.Size([1, 1])\n",
      "torch.Size([1]) torch.Size([1, 1])\n",
      "torch.Size([1])"
     ]
    },
    {
     "name": "stderr",
     "output_type": "stream",
     "text": [
      "2489it [02:36, 17.20it/s]"
     ]
    },
    {
     "name": "stdout",
     "output_type": "stream",
     "text": [
      " torch.Size([1, 1])\n",
      "torch.Size([1]) torch.Size([1, 1])\n",
      "torch.Size([1]) torch.Size([1, 1])\n",
      "torch.Size([1]) torch.Size([1, 1])\n"
     ]
    },
    {
     "name": "stderr",
     "output_type": "stream",
     "text": [
      "\r",
      "2491it [02:36, 16.10it/s]"
     ]
    },
    {
     "name": "stdout",
     "output_type": "stream",
     "text": [
      "torch.Size([1]) torch.Size([1, 1])\n",
      "torch.Size([1]) torch.Size([1, 1])\n",
      "torch.Size([1]) torch.Size([1, 1])\n",
      "torch.Size([1])"
     ]
    },
    {
     "name": "stderr",
     "output_type": "stream",
     "text": [
      "2495it [02:36, 16.40it/s]"
     ]
    },
    {
     "name": "stdout",
     "output_type": "stream",
     "text": [
      " torch.Size([1, 1])\n",
      "torch.Size([1]) torch.Size([1, 1])\n",
      "torch.Size([1]) torch.Size([1, 1])\n",
      "torch.Size([1])"
     ]
    },
    {
     "name": "stderr",
     "output_type": "stream",
     "text": [
      "2499it [02:36, 16.77it/s]"
     ]
    },
    {
     "name": "stdout",
     "output_type": "stream",
     "text": [
      " torch.Size([1, 1])\n",
      "torch.Size([1]) torch.Size([1, 1])\n",
      "torch.Size([1]) torch.Size([1, 1])\n",
      "torch.Size([1]) torch.Size([1, 1])\n"
     ]
    },
    {
     "name": "stderr",
     "output_type": "stream",
     "text": [
      "2503it [02:36, 17.08it/s]"
     ]
    },
    {
     "name": "stdout",
     "output_type": "stream",
     "text": [
      "torch.Size([1]) torch.Size([1, 1])\n",
      "torch.Size([1]) torch.Size([1, 1])\n",
      "torch.Size([1]) torch.Size([1, 1])\n",
      "torch.Size([1]) torch.Size([1, 1])\n"
     ]
    },
    {
     "name": "stderr",
     "output_type": "stream",
     "text": [
      "\r",
      "2505it [02:37, 15.95it/s]"
     ]
    },
    {
     "name": "stdout",
     "output_type": "stream",
     "text": [
      "torch.Size([1]) torch.Size([1, 1])\n",
      "torch.Size([1]) torch.Size([1, 1])\n",
      "torch.Size([1]) torch.Size([1, 1])\n",
      "torch.Size([1]) torch.Size([1, 1])\n"
     ]
    },
    {
     "name": "stderr",
     "output_type": "stream",
     "text": [
      "2509it [02:37, 16.31it/s]"
     ]
    },
    {
     "name": "stdout",
     "output_type": "stream",
     "text": [
      "torch.Size([1]) torch.Size([1, 1])\n",
      "torch.Size([1]) torch.Size([1, 1])\n",
      "torch.Size([1]) torch.Size([1, 1])\n",
      "torch.Size([1])"
     ]
    },
    {
     "name": "stderr",
     "output_type": "stream",
     "text": [
      "2513it [02:37, 16.61it/s]"
     ]
    },
    {
     "name": "stdout",
     "output_type": "stream",
     "text": [
      " torch.Size([1, 1])\n",
      "torch.Size([1]) torch.Size([1, 1])\n",
      "torch.Size([1]) torch.Size([1, 1])\n",
      "torch.Size([1])"
     ]
    },
    {
     "name": "stderr",
     "output_type": "stream",
     "text": [
      "2517it [02:37, 16.54it/s]"
     ]
    },
    {
     "name": "stdout",
     "output_type": "stream",
     "text": [
      " torch.Size([1, 1])\n",
      "torch.Size([1]) torch.Size([1, 1])\n",
      "torch.Size([1]) torch.Size([1, 1])\n",
      "torch.Size([1]) torch.Size([1, 1])\n"
     ]
    },
    {
     "name": "stderr",
     "output_type": "stream",
     "text": [
      "2521it [02:38, 16.68it/s]"
     ]
    },
    {
     "name": "stdout",
     "output_type": "stream",
     "text": [
      "torch.Size([1]) torch.Size([1, 1])\n",
      "torch.Size([1]) torch.Size([1, 1])\n",
      "torch.Size([1]) torch.Size([1, 1])\n",
      "torch.Size([1]) torch.Size([1, 1])\n"
     ]
    },
    {
     "name": "stderr",
     "output_type": "stream",
     "text": [
      "\r",
      "2523it [02:38, 16.85it/s]"
     ]
    },
    {
     "name": "stdout",
     "output_type": "stream",
     "text": [
      "torch.Size([1]) torch.Size([1, 1])\n",
      "torch.Size([1]) torch.Size([1, 1])\n",
      "torch.Size([1]) torch.Size([1, 1])\n",
      "torch.Size([1])"
     ]
    },
    {
     "name": "stderr",
     "output_type": "stream",
     "text": [
      "2527it [02:38, 16.58it/s]"
     ]
    },
    {
     "name": "stdout",
     "output_type": "stream",
     "text": [
      " torch.Size([1, 1])\n",
      "torch.Size([1]) torch.Size([1, 1])\n",
      "torch.Size([1]) torch.Size([1, 1])\n",
      "torch.Size([1]) torch.Size([1, 1])\n"
     ]
    },
    {
     "name": "stderr",
     "output_type": "stream",
     "text": [
      "2531it [02:38, 17.60it/s]"
     ]
    },
    {
     "name": "stdout",
     "output_type": "stream",
     "text": [
      "torch.Size([1]) torch.Size([1, 1])\n",
      "torch.Size([1]) torch.Size([1, 1])\n",
      "torch.Size([1]) torch.Size([1, 1])\n",
      "torch.Size([1]) torch.Size([1, 1])\n"
     ]
    },
    {
     "name": "stderr",
     "output_type": "stream",
     "text": [
      "2535it [02:38, 17.05it/s]"
     ]
    },
    {
     "name": "stdout",
     "output_type": "stream",
     "text": [
      "torch.Size([1]) torch.Size([1, 1])\n",
      "torch.Size([1]) torch.Size([1, 1])\n",
      "torch.Size([1]) torch.Size([1, 1])\n",
      "torch.Size([1])"
     ]
    },
    {
     "name": "stderr",
     "output_type": "stream",
     "text": [
      "2539it [02:39, 16.66it/s]"
     ]
    },
    {
     "name": "stdout",
     "output_type": "stream",
     "text": [
      " torch.Size([1, 1])\n",
      "torch.Size([1]) torch.Size([1, 1])\n",
      "torch.Size([1]) torch.Size([1, 1])\n",
      "torch.Size([1]) torch.Size([1, 1])\n"
     ]
    },
    {
     "name": "stderr",
     "output_type": "stream",
     "text": [
      "2543it [02:39, 17.55it/s]"
     ]
    },
    {
     "name": "stdout",
     "output_type": "stream",
     "text": [
      "torch.Size([1]) torch.Size([1, 1])\n",
      "torch.Size([1]) torch.Size([1, 1])\n",
      "torch.Size([1]) torch.Size([1, 1])\n",
      "torch.Size([1]) torch.Size([1, 1])\n"
     ]
    },
    {
     "name": "stderr",
     "output_type": "stream",
     "text": [
      "\r",
      "2545it [02:39, 17.65it/s]"
     ]
    },
    {
     "name": "stdout",
     "output_type": "stream",
     "text": [
      "torch.Size([1]) torch.Size([1, 1])\n",
      "torch.Size([1]) torch.Size([1, 1])\n",
      "torch.Size([1]) torch.Size([1, 1])\n",
      "torch.Size([1])"
     ]
    },
    {
     "name": "stderr",
     "output_type": "stream",
     "text": [
      "2549it [02:39, 15.89it/s]"
     ]
    },
    {
     "name": "stdout",
     "output_type": "stream",
     "text": [
      " torch.Size([1, 1])\n",
      "torch.Size([1]) torch.Size([1, 1])\n",
      "torch.Size([1]) torch.Size([1, 1])\n",
      "torch.Size([1])"
     ]
    },
    {
     "name": "stderr",
     "output_type": "stream",
     "text": [
      "\r",
      "2551it [02:39, 16.01it/s]"
     ]
    },
    {
     "name": "stdout",
     "output_type": "stream",
     "text": [
      " torch.Size([1, 1])\n",
      "torch.Size([1]) torch.Size([1, 1])\n",
      "torch.Size([1]) torch.Size([1, 1])\n",
      "torch.Size([1])"
     ]
    },
    {
     "name": "stderr",
     "output_type": "stream",
     "text": [
      "2555it [02:40, 16.00it/s]"
     ]
    },
    {
     "name": "stdout",
     "output_type": "stream",
     "text": [
      " torch.Size([1, 1])\n",
      "torch.Size([1]) torch.Size([1, 1])\n",
      "torch.Size([1]) torch.Size([1, 1])\n",
      "torch.Size([1])"
     ]
    },
    {
     "name": "stderr",
     "output_type": "stream",
     "text": [
      "\r",
      "2557it [02:40, 16.40it/s]"
     ]
    },
    {
     "name": "stdout",
     "output_type": "stream",
     "text": [
      " torch.Size([1, 1])\n",
      "torch.Size([1]) torch.Size([1, 1])\n",
      "torch.Size([1]) torch.Size([1, 1])\n",
      "torch.Size([1])"
     ]
    },
    {
     "name": "stderr",
     "output_type": "stream",
     "text": [
      "2561it [02:40, 15.84it/s]"
     ]
    },
    {
     "name": "stdout",
     "output_type": "stream",
     "text": [
      " torch.Size([1, 1])\n",
      "torch.Size([1]) torch.Size([1, 1])\n",
      "torch.Size([1]) torch.Size([1, 1])\n",
      "torch.Size([1])"
     ]
    },
    {
     "name": "stderr",
     "output_type": "stream",
     "text": [
      "\r",
      "2563it [02:40, 15.89it/s]"
     ]
    },
    {
     "name": "stdout",
     "output_type": "stream",
     "text": [
      " torch.Size([1, 1])\n",
      "torch.Size([1]) torch.Size([1, 1])\n",
      "torch.Size([1]) torch.Size([1, 1])\n",
      "torch.Size([1])"
     ]
    },
    {
     "name": "stderr",
     "output_type": "stream",
     "text": [
      "2567it [02:40, 15.34it/s]"
     ]
    },
    {
     "name": "stdout",
     "output_type": "stream",
     "text": [
      " torch.Size([1, 1])\n",
      "torch.Size([1]) torch.Size([1, 1])\n",
      "torch.Size([1]) torch.Size([1, 1])\n",
      "torch.Size([1])"
     ]
    },
    {
     "name": "stderr",
     "output_type": "stream",
     "text": [
      "2571it [02:41, 16.59it/s]"
     ]
    },
    {
     "name": "stdout",
     "output_type": "stream",
     "text": [
      " torch.Size([1, 1])\n",
      "torch.Size([1]) torch.Size([1, 1])\n",
      "torch.Size([1]) torch.Size([1, 1])\n",
      "torch.Size([1]) torch.Size([1, 1])\n"
     ]
    },
    {
     "name": "stderr",
     "output_type": "stream",
     "text": [
      "\r",
      "2573it [02:41, 16.21it/s]"
     ]
    },
    {
     "name": "stdout",
     "output_type": "stream",
     "text": [
      "torch.Size([1]) torch.Size([1, 1])\n",
      "torch.Size([1]) torch.Size([1, 1])\n",
      "torch.Size([1]) torch.Size([1, 1])\n",
      "torch.Size([1])"
     ]
    },
    {
     "name": "stderr",
     "output_type": "stream",
     "text": [
      "2577it [02:41, 16.55it/s]"
     ]
    },
    {
     "name": "stdout",
     "output_type": "stream",
     "text": [
      " torch.Size([1, 1])\n",
      "torch.Size([1]) torch.Size([1, 1])\n",
      "torch.Size([1]) torch.Size([1, 1])\n",
      "torch.Size([1]) torch.Size([1, 1])\n"
     ]
    },
    {
     "name": "stderr",
     "output_type": "stream",
     "text": [
      "2581it [02:41, 16.93it/s]"
     ]
    },
    {
     "name": "stdout",
     "output_type": "stream",
     "text": [
      "torch.Size([1]) torch.Size([1, 1])\n",
      "torch.Size([1]) torch.Size([1, 1])\n",
      "torch.Size([1]) torch.Size([1, 1])\n",
      "torch.Size([1])"
     ]
    },
    {
     "name": "stderr",
     "output_type": "stream",
     "text": [
      "\r",
      "2583it [02:41, 16.05it/s]"
     ]
    },
    {
     "name": "stdout",
     "output_type": "stream",
     "text": [
      " torch.Size([1, 1])\n",
      "torch.Size([1]) torch.Size([1, 1])\n",
      "torch.Size([1]) torch.Size([1, 1])\n",
      "torch.Size([1])"
     ]
    },
    {
     "name": "stderr",
     "output_type": "stream",
     "text": [
      "2587it [02:42, 16.48it/s]"
     ]
    },
    {
     "name": "stdout",
     "output_type": "stream",
     "text": [
      " torch.Size([1, 1])\n",
      "torch.Size([1]) torch.Size([1, 1])\n",
      "torch.Size([1]) torch.Size([1, 1])\n",
      "torch.Size([1]) torch.Size([1, 1])\n"
     ]
    },
    {
     "name": "stderr",
     "output_type": "stream",
     "text": [
      "2591it [02:42, 15.90it/s]"
     ]
    },
    {
     "name": "stdout",
     "output_type": "stream",
     "text": [
      "torch.Size([1]) torch.Size([1, 1])\n",
      "torch.Size([1]) torch.Size([1, 1])\n",
      "torch.Size([1]) torch.Size([1, 1])\n",
      "torch.Size([1]) torch.Size([1, 1])\n"
     ]
    },
    {
     "name": "stderr",
     "output_type": "stream",
     "text": [
      "2595it [02:42, 16.86it/s]"
     ]
    },
    {
     "name": "stdout",
     "output_type": "stream",
     "text": [
      "torch.Size([1]) torch.Size([1, 1])\n",
      "torch.Size([1]) torch.Size([1, 1])\n",
      "torch.Size([1]) torch.Size([1, 1])\n",
      "torch.Size([1]) torch.Size([1, 1])\n"
     ]
    },
    {
     "name": "stderr",
     "output_type": "stream",
     "text": [
      "2599it [02:42, 16.01it/s]"
     ]
    },
    {
     "name": "stdout",
     "output_type": "stream",
     "text": [
      "torch.Size([1]) torch.Size([1, 1])\n",
      "torch.Size([1]) torch.Size([1, 1])\n",
      "torch.Size([1]) torch.Size([1, 1])\n",
      "torch.Size([1]) torch.Size([1, 1])\n"
     ]
    },
    {
     "name": "stderr",
     "output_type": "stream",
     "text": [
      "2603it [02:43, 16.57it/s]"
     ]
    },
    {
     "name": "stdout",
     "output_type": "stream",
     "text": [
      "torch.Size([1]) torch.Size([1, 1])\n",
      "torch.Size([1]) torch.Size([1, 1])\n",
      "torch.Size([1]) torch.Size([1, 1])\n",
      "torch.Size([1]) torch.Size([1, 1])\n"
     ]
    },
    {
     "name": "stderr",
     "output_type": "stream",
     "text": [
      "2607it [02:43, 17.13it/s]"
     ]
    },
    {
     "name": "stdout",
     "output_type": "stream",
     "text": [
      "torch.Size([1]) torch.Size([1, 1])\n",
      "torch.Size([1]) torch.Size([1, 1])\n",
      "torch.Size([1]) torch.Size([1, 1])\n",
      "torch.Size([1]) torch.Size([1, 1])\n"
     ]
    },
    {
     "name": "stderr",
     "output_type": "stream",
     "text": [
      "2611it [02:43, 15.74it/s]"
     ]
    },
    {
     "name": "stdout",
     "output_type": "stream",
     "text": [
      "torch.Size([1]) torch.Size([1, 1])\n",
      "torch.Size([1]) torch.Size([1, 1])\n",
      "torch.Size([1]) torch.Size([1, 1])\n",
      "torch.Size([1])"
     ]
    },
    {
     "name": "stderr",
     "output_type": "stream",
     "text": [
      "\r",
      "2613it [02:43, 15.98it/s]"
     ]
    },
    {
     "name": "stdout",
     "output_type": "stream",
     "text": [
      " torch.Size([1, 1])\n",
      "torch.Size([1]) torch.Size([1, 1])\n",
      "torch.Size([1]) torch.Size([1, 1])\n"
     ]
    },
    {
     "name": "stderr",
     "output_type": "stream",
     "text": [
      "2617it [02:43, 15.69it/s]"
     ]
    },
    {
     "name": "stdout",
     "output_type": "stream",
     "text": [
      "torch.Size([1]) torch.Size([1, 1])\n",
      "torch.Size([1]) torch.Size([1, 1])\n",
      "torch.Size([1]) torch.Size([1, 1])\n",
      "torch.Size([1]) torch.Size([1, 1])\n"
     ]
    },
    {
     "name": "stderr",
     "output_type": "stream",
     "text": [
      "2621it [02:44, 16.84it/s]"
     ]
    },
    {
     "name": "stdout",
     "output_type": "stream",
     "text": [
      "torch.Size([1]) torch.Size([1, 1])\n",
      "torch.Size([1]) torch.Size([1, 1])\n",
      "torch.Size([1]) torch.Size([1, 1])\n",
      "torch.Size([1]) torch.Size([1, 1])\n"
     ]
    },
    {
     "name": "stderr",
     "output_type": "stream",
     "text": [
      "2625it [02:44, 16.83it/s]"
     ]
    },
    {
     "name": "stdout",
     "output_type": "stream",
     "text": [
      "torch.Size([1]) torch.Size([1, 1])\n",
      "torch.Size([1]) torch.Size([1, 1])\n",
      "torch.Size([1]) torch.Size([1, 1])\n",
      "torch.Size([1]) torch.Size([1, 1])\n"
     ]
    },
    {
     "name": "stderr",
     "output_type": "stream",
     "text": [
      "2629it [02:44, 15.49it/s]"
     ]
    },
    {
     "name": "stdout",
     "output_type": "stream",
     "text": [
      "torch.Size([1]) torch.Size([1, 1])\n",
      "torch.Size([1]) torch.Size([1, 1])\n",
      "torch.Size([1]) torch.Size([1, 1])\n",
      "torch.Size([1])"
     ]
    },
    {
     "name": "stderr",
     "output_type": "stream",
     "text": [
      "\r",
      "2631it [02:44, 15.64it/s]"
     ]
    },
    {
     "name": "stdout",
     "output_type": "stream",
     "text": [
      " torch.Size([1, 1])\n",
      "torch.Size([1]) torch.Size([1, 1])\n",
      "torch.Size([1]) torch.Size([1, 1])\n"
     ]
    },
    {
     "name": "stderr",
     "output_type": "stream",
     "text": [
      "2635it [02:45, 15.60it/s]"
     ]
    },
    {
     "name": "stdout",
     "output_type": "stream",
     "text": [
      "torch.Size([1]) torch.Size([1, 1])\n",
      "torch.Size([1]) torch.Size([1, 1])\n",
      "torch.Size([1]) torch.Size([1, 1])\n",
      "torch.Size([1])"
     ]
    },
    {
     "name": "stderr",
     "output_type": "stream",
     "text": [
      "\r",
      "2637it [02:45, 15.91it/s]"
     ]
    },
    {
     "name": "stdout",
     "output_type": "stream",
     "text": [
      " torch.Size([1, 1])\n",
      "torch.Size([1]) torch.Size([1, 1])\n",
      "torch.Size([1]) torch.Size([1, 1])\n",
      "torch.Size([1])"
     ]
    },
    {
     "name": "stderr",
     "output_type": "stream",
     "text": [
      "2641it [02:45, 15.50it/s]"
     ]
    },
    {
     "name": "stdout",
     "output_type": "stream",
     "text": [
      " torch.Size([1, 1])\n",
      "torch.Size([1]) torch.Size([1, 1])\n",
      "torch.Size([1]) torch.Size([1, 1])\n",
      "torch.Size([1])"
     ]
    },
    {
     "name": "stderr",
     "output_type": "stream",
     "text": [
      "\r",
      "2643it [02:45, 16.03it/s]"
     ]
    },
    {
     "name": "stdout",
     "output_type": "stream",
     "text": [
      " torch.Size([1, 1])\n",
      "torch.Size([1]) torch.Size([1, 1])\n",
      "torch.Size([1]) torch.Size([1, 1])\n",
      "torch.Size([1])"
     ]
    },
    {
     "name": "stderr",
     "output_type": "stream",
     "text": [
      "2647it [02:45, 15.74it/s]"
     ]
    },
    {
     "name": "stdout",
     "output_type": "stream",
     "text": [
      " torch.Size([1, 1])\n",
      "torch.Size([1]) torch.Size([1, 1])\n",
      "torch.Size([1]) torch.Size([1, 1])\n",
      "torch.Size([1])"
     ]
    },
    {
     "name": "stderr",
     "output_type": "stream",
     "text": [
      "\r",
      "2649it [02:45, 16.16it/s]"
     ]
    },
    {
     "name": "stdout",
     "output_type": "stream",
     "text": [
      " torch.Size([1, 1])\n",
      "torch.Size([1]) torch.Size([1, 1])\n",
      "torch.Size([1]) torch.Size([1, 1])\n",
      "torch.Size([1])"
     ]
    },
    {
     "name": "stderr",
     "output_type": "stream",
     "text": [
      "2653it [02:46, 15.30it/s]"
     ]
    },
    {
     "name": "stdout",
     "output_type": "stream",
     "text": [
      " torch.Size([1, 1])\n",
      "torch.Size([1]) torch.Size([1, 1])\n",
      "torch.Size([1]) torch.Size([1, 1])\n"
     ]
    },
    {
     "name": "stderr",
     "output_type": "stream",
     "text": [
      "2657it [02:46, 16.10it/s]"
     ]
    },
    {
     "name": "stdout",
     "output_type": "stream",
     "text": [
      "torch.Size([1]) torch.Size([1, 1])\n",
      "torch.Size([1]) torch.Size([1, 1])\n",
      "torch.Size([1]) torch.Size([1, 1])\n",
      "torch.Size([1]) torch.Size([1, 1])\n"
     ]
    },
    {
     "name": "stderr",
     "output_type": "stream",
     "text": [
      "\r",
      "2659it [02:46, 16.51it/s]"
     ]
    },
    {
     "name": "stdout",
     "output_type": "stream",
     "text": [
      "torch.Size([1]) torch.Size([1, 1])\n",
      "torch.Size([1]) torch.Size([1, 1])\n",
      "torch.Size([1]) torch.Size([1, 1])\n",
      "torch.Size([1])"
     ]
    },
    {
     "name": "stderr",
     "output_type": "stream",
     "text": [
      "2663it [02:46, 16.11it/s]"
     ]
    },
    {
     "name": "stdout",
     "output_type": "stream",
     "text": [
      " torch.Size([1, 1])\n",
      "torch.Size([1]) torch.Size([1, 1])\n",
      "torch.Size([1]) torch.Size([1, 1])\n",
      "torch.Size([1]) "
     ]
    },
    {
     "name": "stderr",
     "output_type": "stream",
     "text": [
      "2667it [02:47, 17.16it/s]"
     ]
    },
    {
     "name": "stdout",
     "output_type": "stream",
     "text": [
      "torch.Size([1, 1])\n",
      "torch.Size([1]) torch.Size([1, 1])\n",
      "torch.Size([1]) torch.Size([1, 1])\n",
      "torch.Size([1]) torch.Size([1, 1])\n"
     ]
    },
    {
     "name": "stderr",
     "output_type": "stream",
     "text": [
      "2671it [02:47, 17.19it/s]"
     ]
    },
    {
     "name": "stdout",
     "output_type": "stream",
     "text": [
      "torch.Size([1]) torch.Size([1, 1])\n",
      "torch.Size([1]) torch.Size([1, 1])\n",
      "torch.Size([1]) torch.Size([1, 1])\n",
      "torch.Size([1]) torch.Size([1, 1])\n"
     ]
    },
    {
     "name": "stderr",
     "output_type": "stream",
     "text": [
      "2675it [02:47, 17.07it/s]"
     ]
    },
    {
     "name": "stdout",
     "output_type": "stream",
     "text": [
      "torch.Size([1]) torch.Size([1, 1])\n",
      "torch.Size([1]) torch.Size([1, 1])\n",
      "torch.Size([1]) torch.Size([1, 1])\n",
      "torch.Size([1]) torch.Size([1, 1])\n"
     ]
    },
    {
     "name": "stderr",
     "output_type": "stream",
     "text": [
      "\r",
      "2677it [02:47, 16.09it/s]"
     ]
    },
    {
     "name": "stdout",
     "output_type": "stream",
     "text": [
      "torch.Size([1]) torch.Size([1, 1])\n",
      "torch.Size([1]) torch.Size([1, 1])\n",
      "torch.Size([1]) torch.Size([1, 1])\n"
     ]
    },
    {
     "name": "stderr",
     "output_type": "stream",
     "text": [
      "2681it [02:47, 16.45it/s]"
     ]
    },
    {
     "name": "stdout",
     "output_type": "stream",
     "text": [
      "torch.Size([1]) torch.Size([1, 1])\n",
      "torch.Size([1]) torch.Size([1, 1])\n",
      "torch.Size([1]) torch.Size([1, 1])\n",
      "torch.Size([1]) torch.Size([1, 1])\n"
     ]
    },
    {
     "name": "stderr",
     "output_type": "stream",
     "text": [
      "2685it [02:48, 15.61it/s]"
     ]
    },
    {
     "name": "stdout",
     "output_type": "stream",
     "text": [
      "torch.Size([1]) torch.Size([1, 1])\n",
      "torch.Size([1]) torch.Size([1, 1])\n",
      "torch.Size([1]) torch.Size([1, 1])\n",
      "torch.Size([1])"
     ]
    },
    {
     "name": "stderr",
     "output_type": "stream",
     "text": [
      "\r",
      "2687it [02:48, 15.58it/s]"
     ]
    },
    {
     "name": "stdout",
     "output_type": "stream",
     "text": [
      " torch.Size([1, 1])\n",
      "torch.Size([1]) torch.Size([1, 1])\n",
      "torch.Size([1]) torch.Size([1, 1])\n",
      "torch.Size([1])"
     ]
    },
    {
     "name": "stderr",
     "output_type": "stream",
     "text": [
      "2691it [02:48, 15.85it/s]"
     ]
    },
    {
     "name": "stdout",
     "output_type": "stream",
     "text": [
      " torch.Size([1, 1])\n",
      "torch.Size([1]) torch.Size([1, 1])\n",
      "torch.Size([1]) torch.Size([1, 1])\n",
      "torch.Size([1]) "
     ]
    },
    {
     "name": "stderr",
     "output_type": "stream",
     "text": [
      "2695it [02:48, 16.24it/s]"
     ]
    },
    {
     "name": "stdout",
     "output_type": "stream",
     "text": [
      "torch.Size([1, 1])\n",
      "torch.Size([1]) torch.Size([1, 1])\n",
      "torch.Size([1]) torch.Size([1, 1])\n",
      "torch.Size([1]) torch.Size([1, 1])\n"
     ]
    },
    {
     "name": "stderr",
     "output_type": "stream",
     "text": [
      "2699it [02:49, 16.32it/s]"
     ]
    },
    {
     "name": "stdout",
     "output_type": "stream",
     "text": [
      "torch.Size([1]) torch.Size([1, 1])\n",
      "torch.Size([1]) torch.Size([1, 1])\n",
      "torch.Size([1]) torch.Size([1, 1])\n",
      "torch.Size([1]) torch.Size([1, 1])\n"
     ]
    },
    {
     "name": "stderr",
     "output_type": "stream",
     "text": [
      "\r",
      "2701it [02:49, 16.19it/s]"
     ]
    },
    {
     "name": "stdout",
     "output_type": "stream",
     "text": [
      "torch.Size([1]) torch.Size([1, 1])\n",
      "torch.Size([1]) torch.Size([1, 1])\n",
      "torch.Size([1]) torch.Size([1, 1])\n",
      "torch.Size([1])"
     ]
    },
    {
     "name": "stderr",
     "output_type": "stream",
     "text": [
      "2705it [02:49, 16.62it/s]"
     ]
    },
    {
     "name": "stdout",
     "output_type": "stream",
     "text": [
      " torch.Size([1, 1])\n",
      "torch.Size([1]) torch.Size([1, 1])\n",
      "torch.Size([1]) torch.Size([1, 1])\n",
      "torch.Size([1])"
     ]
    },
    {
     "name": "stderr",
     "output_type": "stream",
     "text": [
      "2709it [02:49, 16.80it/s]"
     ]
    },
    {
     "name": "stdout",
     "output_type": "stream",
     "text": [
      " torch.Size([1, 1])\n",
      "torch.Size([1]) torch.Size([1, 1])\n",
      "torch.Size([1]) torch.Size([1, 1])\n",
      "torch.Size([1]) torch.Size([1, 1])\n"
     ]
    },
    {
     "name": "stderr",
     "output_type": "stream",
     "text": [
      "\r",
      "2711it [02:49, 16.12it/s]"
     ]
    },
    {
     "name": "stdout",
     "output_type": "stream",
     "text": [
      "torch.Size([1]) torch.Size([1, 1])\n",
      "torch.Size([1]) torch.Size([1, 1])\n",
      "torch.Size([1]) torch.Size([1, 1])\n",
      "torch.Size([1])"
     ]
    },
    {
     "name": "stderr",
     "output_type": "stream",
     "text": [
      "2715it [02:50, 15.71it/s]"
     ]
    },
    {
     "name": "stdout",
     "output_type": "stream",
     "text": [
      " torch.Size([1, 1])\n",
      "torch.Size([1]) torch.Size([1, 1])\n",
      "torch.Size([1]) torch.Size([1, 1])\n",
      "torch.Size([1])"
     ]
    },
    {
     "name": "stderr",
     "output_type": "stream",
     "text": [
      "\r",
      "2717it [02:50, 16.06it/s]"
     ]
    },
    {
     "name": "stdout",
     "output_type": "stream",
     "text": [
      " torch.Size([1, 1])\n",
      "torch.Size([1]) torch.Size([1, 1])\n",
      "torch.Size([1]) torch.Size([1, 1])\n",
      "torch.Size([1])"
     ]
    },
    {
     "name": "stderr",
     "output_type": "stream",
     "text": [
      "2721it [02:50, 17.11it/s]"
     ]
    },
    {
     "name": "stdout",
     "output_type": "stream",
     "text": [
      " torch.Size([1, 1])\n",
      "torch.Size([1]) torch.Size([1, 1])\n",
      "torch.Size([1]) torch.Size([1, 1])\n",
      "torch.Size([1]) torch.Size([1, 1])\n"
     ]
    },
    {
     "name": "stderr",
     "output_type": "stream",
     "text": [
      "2725it [02:50, 17.20it/s]"
     ]
    },
    {
     "name": "stdout",
     "output_type": "stream",
     "text": [
      "torch.Size([1]) torch.Size([1, 1])\n",
      "torch.Size([1]) torch.Size([1, 1])\n",
      "torch.Size([1]) torch.Size([1, 1])\n",
      "torch.Size([1]) torch.Size([1, 1])\n"
     ]
    },
    {
     "name": "stderr",
     "output_type": "stream",
     "text": [
      "2729it [02:50, 16.87it/s]"
     ]
    },
    {
     "name": "stdout",
     "output_type": "stream",
     "text": [
      "torch.Size([1]) torch.Size([1, 1])\n",
      "torch.Size([1]) torch.Size([1, 1])\n",
      "torch.Size([1]) torch.Size([1, 1])\n",
      "torch.Size([1]) torch.Size([1, 1])\n"
     ]
    },
    {
     "name": "stderr",
     "output_type": "stream",
     "text": [
      "2733it [02:51, 17.20it/s]"
     ]
    },
    {
     "name": "stdout",
     "output_type": "stream",
     "text": [
      "torch.Size([1]) torch.Size([1, 1])\n",
      "torch.Size([1]) torch.Size([1, 1])\n",
      "torch.Size([1]) torch.Size([1, 1])\n",
      "torch.Size([1]) torch.Size([1, 1])\n"
     ]
    },
    {
     "name": "stderr",
     "output_type": "stream",
     "text": [
      "2737it [02:51, 16.76it/s]"
     ]
    },
    {
     "name": "stdout",
     "output_type": "stream",
     "text": [
      "torch.Size([1]) torch.Size([1, 1])\n",
      "torch.Size([1]) torch.Size([1, 1])\n",
      "torch.Size([1]) torch.Size([1, 1])\n",
      "torch.Size([1])"
     ]
    },
    {
     "name": "stderr",
     "output_type": "stream",
     "text": [
      "2741it [02:51, 16.96it/s]"
     ]
    },
    {
     "name": "stdout",
     "output_type": "stream",
     "text": [
      " torch.Size([1, 1])\n",
      "torch.Size([1]) torch.Size([1, 1])\n",
      "torch.Size([1]) torch.Size([1, 1])\n",
      "torch.Size([1]) torch.Size([1, 1])\n"
     ]
    },
    {
     "name": "stderr",
     "output_type": "stream",
     "text": [
      "2745it [02:51, 17.53it/s]"
     ]
    },
    {
     "name": "stdout",
     "output_type": "stream",
     "text": [
      "torch.Size([1]) torch.Size([1, 1])\n",
      "torch.Size([1]) torch.Size([1, 1])\n",
      "torch.Size([1]) torch.Size([1, 1])\n",
      "torch.Size([1]) torch.Size([1, 1])\n"
     ]
    },
    {
     "name": "stderr",
     "output_type": "stream",
     "text": [
      "2749it [02:51, 17.85it/s]"
     ]
    },
    {
     "name": "stdout",
     "output_type": "stream",
     "text": [
      "torch.Size([1]) torch.Size([1, 1])\n",
      "torch.Size([1]) torch.Size([1, 1])\n",
      "torch.Size([1]) torch.Size([1, 1])\n",
      "torch.Size([1]) torch.Size([1, 1])\n",
      "torch.Size([1])"
     ]
    },
    {
     "name": "stderr",
     "output_type": "stream",
     "text": [
      "\r",
      "2751it [02:52, 17.53it/s]"
     ]
    },
    {
     "name": "stdout",
     "output_type": "stream",
     "text": [
      " torch.Size([1, 1])\n",
      "torch.Size([1]) torch.Size([1, 1])\n",
      "torch.Size([1]) torch.Size([1, 1])\n",
      "torch.Size([1])"
     ]
    },
    {
     "name": "stderr",
     "output_type": "stream",
     "text": [
      "2755it [02:52, 16.95it/s]"
     ]
    },
    {
     "name": "stdout",
     "output_type": "stream",
     "text": [
      " torch.Size([1, 1])\n",
      "torch.Size([1]) torch.Size([1, 1])\n",
      "torch.Size([1]) torch.Size([1, 1])\n",
      "torch.Size([1]) torch.Size([1, 1])\n"
     ]
    },
    {
     "name": "stderr",
     "output_type": "stream",
     "text": [
      "2759it [02:52, 17.27it/s]"
     ]
    },
    {
     "name": "stdout",
     "output_type": "stream",
     "text": [
      "torch.Size([1]) torch.Size([1, 1])\n",
      "torch.Size([1]) torch.Size([1, 1])\n",
      "torch.Size([1]) torch.Size([1, 1])\n",
      "torch.Size([1]) torch.Size([1, 1])\n"
     ]
    },
    {
     "name": "stderr",
     "output_type": "stream",
     "text": [
      "2763it [02:52, 17.00it/s]"
     ]
    },
    {
     "name": "stdout",
     "output_type": "stream",
     "text": [
      "torch.Size([1]) torch.Size([1, 1])\n",
      "torch.Size([1]) torch.Size([1, 1])\n",
      "torch.Size([1]) torch.Size([1, 1])\n",
      "torch.Size([1])"
     ]
    },
    {
     "name": "stderr",
     "output_type": "stream",
     "text": [
      "2767it [02:53, 16.38it/s]"
     ]
    },
    {
     "name": "stdout",
     "output_type": "stream",
     "text": [
      " torch.Size([1, 1])\n",
      "torch.Size([1]) torch.Size([1, 1])\n",
      "torch.Size([1]) torch.Size([1, 1])\n",
      "torch.Size([1]) torch.Size([1, 1])\n"
     ]
    },
    {
     "name": "stderr",
     "output_type": "stream",
     "text": [
      "2771it [02:53, 16.60it/s]"
     ]
    },
    {
     "name": "stdout",
     "output_type": "stream",
     "text": [
      "torch.Size([1]) torch.Size([1, 1])\n",
      "torch.Size([1]) torch.Size([1, 1])\n",
      "torch.Size([1]) torch.Size([1, 1])\n",
      "torch.Size([1]) torch.Size([1, 1])\n"
     ]
    },
    {
     "name": "stderr",
     "output_type": "stream",
     "text": [
      "2775it [02:53, 16.87it/s]"
     ]
    },
    {
     "name": "stdout",
     "output_type": "stream",
     "text": [
      "torch.Size([1]) torch.Size([1, 1])\n",
      "torch.Size([1]) torch.Size([1, 1])\n",
      "torch.Size([1]) torch.Size([1, 1])\n",
      "torch.Size([1]) torch.Size([1, 1])\n"
     ]
    },
    {
     "name": "stderr",
     "output_type": "stream",
     "text": [
      "\r",
      "2777it [02:53, 16.77it/s]"
     ]
    },
    {
     "name": "stdout",
     "output_type": "stream",
     "text": [
      "torch.Size([1]) torch.Size([1, 1])\n",
      "torch.Size([1]) torch.Size([1, 1])\n",
      "torch.Size([1]) torch.Size([1, 1])\n",
      "torch.Size([1])"
     ]
    },
    {
     "name": "stderr",
     "output_type": "stream",
     "text": [
      "2781it [02:53, 15.78it/s]"
     ]
    },
    {
     "name": "stdout",
     "output_type": "stream",
     "text": [
      " torch.Size([1, 1])\n",
      "torch.Size([1]) torch.Size([1, 1])\n",
      "torch.Size([1]) torch.Size([1, 1])\n",
      "torch.Size([1])"
     ]
    },
    {
     "name": "stderr",
     "output_type": "stream",
     "text": [
      "2785it [02:54, 16.69it/s]"
     ]
    },
    {
     "name": "stdout",
     "output_type": "stream",
     "text": [
      " torch.Size([1, 1])\n",
      "torch.Size([1]) torch.Size([1, 1])\n",
      "torch.Size([1]) torch.Size([1, 1])\n",
      "torch.Size([1]) torch.Size([1, 1])\n"
     ]
    },
    {
     "name": "stderr",
     "output_type": "stream",
     "text": [
      "2789it [02:54, 16.85it/s]"
     ]
    },
    {
     "name": "stdout",
     "output_type": "stream",
     "text": [
      "torch.Size([1]) torch.Size([1, 1])\n",
      "torch.Size([1]) torch.Size([1, 1])\n",
      "torch.Size([1]) torch.Size([1, 1])\n",
      "torch.Size([1]) torch.Size([1, 1])\n"
     ]
    },
    {
     "name": "stderr",
     "output_type": "stream",
     "text": [
      "2793it [02:54, 16.99it/s]"
     ]
    },
    {
     "name": "stdout",
     "output_type": "stream",
     "text": [
      "torch.Size([1]) torch.Size([1, 1])\n",
      "torch.Size([1]) torch.Size([1, 1])\n",
      "torch.Size([1]) torch.Size([1, 1])\n",
      "torch.Size([1]) torch.Size([1, 1])\n"
     ]
    },
    {
     "name": "stderr",
     "output_type": "stream",
     "text": [
      "\r",
      "2795it [02:54, 16.60it/s]"
     ]
    },
    {
     "name": "stdout",
     "output_type": "stream",
     "text": [
      "torch.Size([1]) torch.Size([1, 1])\n",
      "torch.Size([1]) torch.Size([1, 1])\n",
      "torch.Size([1]) torch.Size([1, 1])\n",
      "torch.Size([1])"
     ]
    },
    {
     "name": "stderr",
     "output_type": "stream",
     "text": [
      "2799it [02:54, 16.75it/s]"
     ]
    },
    {
     "name": "stdout",
     "output_type": "stream",
     "text": [
      " torch.Size([1, 1])\n",
      "torch.Size([1]) torch.Size([1, 1])\n",
      "torch.Size([1]) torch.Size([1, 1])\n",
      "torch.Size([1]) torch.Size([1, 1])\n"
     ]
    },
    {
     "name": "stderr",
     "output_type": "stream",
     "text": [
      "2803it [02:55, 16.25it/s]"
     ]
    },
    {
     "name": "stdout",
     "output_type": "stream",
     "text": [
      "torch.Size([1]) torch.Size([1, 1])\n",
      "torch.Size([1]) torch.Size([1, 1])\n",
      "torch.Size([1]) torch.Size([1, 1])\n",
      "torch.Size([1])"
     ]
    },
    {
     "name": "stderr",
     "output_type": "stream",
     "text": [
      "\r",
      "2805it [02:55, 16.34it/s]"
     ]
    },
    {
     "name": "stdout",
     "output_type": "stream",
     "text": [
      " torch.Size([1, 1])\n",
      "torch.Size([1]) torch.Size([1, 1])\n",
      "torch.Size([1]) torch.Size([1, 1])\n"
     ]
    },
    {
     "name": "stderr",
     "output_type": "stream",
     "text": [
      "2809it [02:55, 15.30it/s]"
     ]
    },
    {
     "name": "stdout",
     "output_type": "stream",
     "text": [
      "torch.Size([1]) torch.Size([1, 1])\n",
      "torch.Size([1]) torch.Size([1, 1])\n",
      "torch.Size([1]) torch.Size([1, 1])\n"
     ]
    },
    {
     "name": "stderr",
     "output_type": "stream",
     "text": [
      "\r",
      "2811it [02:55, 14.85it/s]"
     ]
    },
    {
     "name": "stdout",
     "output_type": "stream",
     "text": [
      "torch.Size([1]) torch.Size([1, 1])\n",
      "torch.Size([1]) torch.Size([1, 1])\n",
      "torch.Size([1]) torch.Size([1, 1])\n",
      "torch.Size([1])"
     ]
    },
    {
     "name": "stderr",
     "output_type": "stream",
     "text": [
      "2815it [02:55, 15.50it/s]"
     ]
    },
    {
     "name": "stdout",
     "output_type": "stream",
     "text": [
      " torch.Size([1, 1])\n",
      "torch.Size([1]) torch.Size([1, 1])\n",
      "torch.Size([1]) torch.Size([1, 1])\n",
      "torch.Size([1]) torch.Size([1, 1])\n"
     ]
    },
    {
     "name": "stderr",
     "output_type": "stream",
     "text": [
      "2819it [02:56, 15.03it/s]"
     ]
    },
    {
     "name": "stdout",
     "output_type": "stream",
     "text": [
      "torch.Size([1]) torch.Size([1, 1])\n",
      "torch.Size([1]) torch.Size([1, 1])\n",
      "torch.Size([1]) torch.Size([1, 1])\n"
     ]
    },
    {
     "name": "stderr",
     "output_type": "stream",
     "text": [
      "2823it [02:56, 15.88it/s]"
     ]
    },
    {
     "name": "stdout",
     "output_type": "stream",
     "text": [
      "torch.Size([1]) torch.Size([1, 1])\n",
      "torch.Size([1]) torch.Size([1, 1])\n",
      "torch.Size([1]) torch.Size([1, 1])\n",
      "torch.Size([1]) torch.Size([1, 1])\n"
     ]
    },
    {
     "name": "stderr",
     "output_type": "stream",
     "text": [
      "2827it [02:56, 16.64it/s]"
     ]
    },
    {
     "name": "stdout",
     "output_type": "stream",
     "text": [
      "torch.Size([1]) torch.Size([1, 1])\n",
      "torch.Size([1]) torch.Size([1, 1])\n",
      "torch.Size([1]) torch.Size([1, 1])\n",
      "torch.Size([1]) torch.Size([1, 1])\n"
     ]
    },
    {
     "name": "stderr",
     "output_type": "stream",
     "text": [
      "\r",
      "2829it [02:56, 16.95it/s]"
     ]
    },
    {
     "name": "stdout",
     "output_type": "stream",
     "text": [
      "torch.Size([1]) torch.Size([1, 1])\n",
      "torch.Size([1]) torch.Size([1, 1])\n",
      "torch.Size([1]) torch.Size([1, 1])\n"
     ]
    },
    {
     "name": "stderr",
     "output_type": "stream",
     "text": [
      "2833it [02:57, 15.64it/s]"
     ]
    },
    {
     "name": "stdout",
     "output_type": "stream",
     "text": [
      "torch.Size([1]) torch.Size([1, 1])\n",
      "torch.Size([1]) torch.Size([1, 1])\n",
      "torch.Size([1]) torch.Size([1, 1])\n",
      "torch.Size([1])"
     ]
    },
    {
     "name": "stderr",
     "output_type": "stream",
     "text": [
      "\r",
      "2835it [02:57, 15.56it/s]"
     ]
    },
    {
     "name": "stdout",
     "output_type": "stream",
     "text": [
      " torch.Size([1, 1])\n",
      "torch.Size([1]) torch.Size([1, 1])\n",
      "torch.Size([1]) torch.Size([1, 1])\n"
     ]
    },
    {
     "name": "stderr",
     "output_type": "stream",
     "text": [
      "2839it [02:57, 15.76it/s]"
     ]
    },
    {
     "name": "stdout",
     "output_type": "stream",
     "text": [
      "torch.Size([1]) torch.Size([1, 1])\n",
      "torch.Size([1]) torch.Size([1, 1])\n",
      "torch.Size([1]) torch.Size([1, 1])\n",
      "torch.Size([1]) torch.Size([1, 1])\n"
     ]
    },
    {
     "name": "stderr",
     "output_type": "stream",
     "text": [
      "2843it [02:57, 16.67it/s]"
     ]
    },
    {
     "name": "stdout",
     "output_type": "stream",
     "text": [
      "torch.Size([1]) torch.Size([1, 1])\n",
      "torch.Size([1]) torch.Size([1, 1])\n",
      "torch.Size([1]) torch.Size([1, 1])\n",
      "torch.Size([1]) torch.Size([1, 1])\n"
     ]
    },
    {
     "name": "stderr",
     "output_type": "stream",
     "text": [
      "2847it [02:58, 15.74it/s]"
     ]
    },
    {
     "name": "stdout",
     "output_type": "stream",
     "text": [
      "torch.Size([1]) torch.Size([1, 1])\n",
      "torch.Size([1]) torch.Size([1, 1])\n",
      "torch.Size([1]) torch.Size([1, 1])\n",
      "torch.Size([1])"
     ]
    },
    {
     "name": "stderr",
     "output_type": "stream",
     "text": [
      "2851it [02:58, 16.44it/s]"
     ]
    },
    {
     "name": "stdout",
     "output_type": "stream",
     "text": [
      " torch.Size([1, 1])\n",
      "torch.Size([1]) torch.Size([1, 1])\n",
      "torch.Size([1]) torch.Size([1, 1])\n",
      "torch.Size([1]) torch.Size([1, 1])\n"
     ]
    },
    {
     "name": "stderr",
     "output_type": "stream",
     "text": [
      "\r",
      "2853it [02:58, 16.93it/s]"
     ]
    },
    {
     "name": "stdout",
     "output_type": "stream",
     "text": [
      "torch.Size([1]) torch.Size([1, 1])\n",
      "torch.Size([1]) torch.Size([1, 1])\n",
      "torch.Size([1]) torch.Size([1, 1])\n",
      "torch.Size([1])"
     ]
    },
    {
     "name": "stderr",
     "output_type": "stream",
     "text": [
      "2857it [02:58, 15.30it/s]"
     ]
    },
    {
     "name": "stdout",
     "output_type": "stream",
     "text": [
      " torch.Size([1, 1])\n",
      "torch.Size([1]) torch.Size([1, 1])\n",
      "torch.Size([1]) torch.Size([1, 1])\n"
     ]
    },
    {
     "name": "stderr",
     "output_type": "stream",
     "text": [
      "\r",
      "2859it [02:58, 14.89it/s]"
     ]
    },
    {
     "name": "stdout",
     "output_type": "stream",
     "text": [
      "torch.Size([1]) torch.Size([1, 1])\n",
      "torch.Size([1]) torch.Size([1, 1])\n",
      "torch.Size([1]) torch.Size([1, 1])\n",
      "torch.Size([1])"
     ]
    },
    {
     "name": "stderr",
     "output_type": "stream",
     "text": [
      "2863it [02:59, 14.87it/s]"
     ]
    },
    {
     "name": "stdout",
     "output_type": "stream",
     "text": [
      " torch.Size([1, 1])\n",
      "torch.Size([1]) torch.Size([1, 1])\n",
      "torch.Size([1]) torch.Size([1, 1])\n",
      "torch.Size([1])"
     ]
    },
    {
     "name": "stderr",
     "output_type": "stream",
     "text": [
      "2867it [02:59, 16.01it/s]"
     ]
    },
    {
     "name": "stdout",
     "output_type": "stream",
     "text": [
      " torch.Size([1, 1])\n",
      "torch.Size([1]) torch.Size([1, 1])\n",
      "torch.Size([1]) torch.Size([1, 1])\n",
      "torch.Size([1]) torch.Size([1, 1])\n"
     ]
    },
    {
     "name": "stderr",
     "output_type": "stream",
     "text": [
      "2871it [02:59, 16.77it/s]"
     ]
    },
    {
     "name": "stdout",
     "output_type": "stream",
     "text": [
      "torch.Size([1]) torch.Size([1, 1])\n",
      "torch.Size([1]) torch.Size([1, 1])\n",
      "torch.Size([1]) torch.Size([1, 1])\n",
      "torch.Size([1]) torch.Size([1, 1])\n"
     ]
    },
    {
     "name": "stderr",
     "output_type": "stream",
     "text": [
      "2875it [02:59, 17.00it/s]"
     ]
    },
    {
     "name": "stdout",
     "output_type": "stream",
     "text": [
      "torch.Size([1]) torch.Size([1, 1])\n",
      "torch.Size([1]) torch.Size([1, 1])\n",
      "torch.Size([1]) torch.Size([1, 1])\n",
      "torch.Size([1]) torch.Size([1, 1])\n"
     ]
    },
    {
     "name": "stderr",
     "output_type": "stream",
     "text": [
      "2879it [02:59, 17.11it/s]"
     ]
    },
    {
     "name": "stdout",
     "output_type": "stream",
     "text": [
      "torch.Size([1]) torch.Size([1, 1])\n",
      "torch.Size([1]) torch.Size([1, 1])\n",
      "torch.Size([1]) torch.Size([1, 1])\n",
      "torch.Size([1]) torch.Size([1, 1])\n"
     ]
    },
    {
     "name": "stderr",
     "output_type": "stream",
     "text": [
      "2883it [03:00, 17.40it/s]"
     ]
    },
    {
     "name": "stdout",
     "output_type": "stream",
     "text": [
      "torch.Size([1]) torch.Size([1, 1])\n",
      "torch.Size([1]) torch.Size([1, 1])\n",
      "torch.Size([1]) torch.Size([1, 1])\n",
      "torch.Size([1]) torch.Size([1, 1])\n"
     ]
    },
    {
     "name": "stderr",
     "output_type": "stream",
     "text": [
      "\r",
      "2885it [03:00, 16.18it/s]"
     ]
    },
    {
     "name": "stdout",
     "output_type": "stream",
     "text": [
      "torch.Size([1]) torch.Size([1, 1])\n",
      "torch.Size([1]) torch.Size([1, 1])\n",
      "torch.Size([1]) torch.Size([1, 1])\n"
     ]
    },
    {
     "name": "stderr",
     "output_type": "stream",
     "text": [
      "2889it [03:00, 15.93it/s]"
     ]
    },
    {
     "name": "stdout",
     "output_type": "stream",
     "text": [
      "torch.Size([1]) torch.Size([1, 1])\n",
      "torch.Size([1]) torch.Size([1, 1])\n",
      "torch.Size([1]) torch.Size([1, 1])\n",
      "torch.Size([1]) torch.Size([1, 1])\n"
     ]
    },
    {
     "name": "stderr",
     "output_type": "stream",
     "text": [
      "2893it [03:00, 16.09it/s]"
     ]
    },
    {
     "name": "stdout",
     "output_type": "stream",
     "text": [
      "torch.Size([1]) torch.Size([1, 1])\n",
      "torch.Size([1]) torch.Size([1, 1])\n",
      "torch.Size([1]) torch.Size([1, 1])\n",
      "torch.Size([1]) torch.Size([1, 1])\n"
     ]
    },
    {
     "name": "stderr",
     "output_type": "stream",
     "text": [
      "2897it [03:01, 16.44it/s]"
     ]
    },
    {
     "name": "stdout",
     "output_type": "stream",
     "text": [
      "torch.Size([1]) torch.Size([1, 1])\n",
      "torch.Size([1]) torch.Size([1, 1])\n",
      "torch.Size([1]) torch.Size([1, 1])\n",
      "torch.Size([1])"
     ]
    },
    {
     "name": "stderr",
     "output_type": "stream",
     "text": [
      "2901it [03:01, 16.91it/s]"
     ]
    },
    {
     "name": "stdout",
     "output_type": "stream",
     "text": [
      " torch.Size([1, 1])\n",
      "torch.Size([1]) torch.Size([1, 1])\n",
      "torch.Size([1]) torch.Size([1, 1])\n",
      "torch.Size([1]) torch.Size([1, 1])\n"
     ]
    },
    {
     "name": "stderr",
     "output_type": "stream",
     "text": [
      "\r",
      "2903it [03:01, 16.35it/s]"
     ]
    },
    {
     "name": "stdout",
     "output_type": "stream",
     "text": [
      "torch.Size([1]) torch.Size([1, 1])\n",
      "torch.Size([1]) torch.Size([1, 1])\n",
      "torch.Size([1]) torch.Size([1, 1])\n",
      "torch.Size([1])"
     ]
    },
    {
     "name": "stderr",
     "output_type": "stream",
     "text": [
      "2907it [03:01, 15.83it/s]"
     ]
    },
    {
     "name": "stdout",
     "output_type": "stream",
     "text": [
      " torch.Size([1, 1])\n",
      "torch.Size([1]) torch.Size([1, 1])\n",
      "torch.Size([1]) torch.Size([1, 1])\n",
      "torch.Size([1])"
     ]
    },
    {
     "name": "stderr",
     "output_type": "stream",
     "text": [
      "2911it [03:01, 16.72it/s]"
     ]
    },
    {
     "name": "stdout",
     "output_type": "stream",
     "text": [
      " torch.Size([1, 1])\n",
      "torch.Size([1]) torch.Size([1, 1])\n",
      "torch.Size([1]) torch.Size([1, 1])\n",
      "torch.Size([1]) torch.Size([1, 1])\n"
     ]
    },
    {
     "name": "stderr",
     "output_type": "stream",
     "text": [
      "\r",
      "2913it [03:02, 15.84it/s]"
     ]
    },
    {
     "name": "stdout",
     "output_type": "stream",
     "text": [
      "torch.Size([1]) torch.Size([1, 1])\n",
      "torch.Size([1]) torch.Size([1, 1])\n",
      "torch.Size([1]) torch.Size([1, 1])\n",
      "torch.Size([1])"
     ]
    },
    {
     "name": "stderr",
     "output_type": "stream",
     "text": [
      "2917it [03:02, 16.73it/s]"
     ]
    },
    {
     "name": "stdout",
     "output_type": "stream",
     "text": [
      " torch.Size([1, 1])\n",
      "torch.Size([1]) torch.Size([1, 1])\n",
      "torch.Size([1]) torch.Size([1, 1])\n",
      "torch.Size([1]) torch.Size([1, 1])\n"
     ]
    },
    {
     "name": "stderr",
     "output_type": "stream",
     "text": [
      "2921it [03:02, 17.13it/s]"
     ]
    },
    {
     "name": "stdout",
     "output_type": "stream",
     "text": [
      "torch.Size([1]) torch.Size([1, 1])\n",
      "torch.Size([1]) torch.Size([1, 1])\n",
      "torch.Size([1]) torch.Size([1, 1])\n",
      "torch.Size([1]) torch.Size([1, 1])\n",
      "torch.Size([1])"
     ]
    },
    {
     "name": "stderr",
     "output_type": "stream",
     "text": [
      "2925it [03:02, 17.30it/s]"
     ]
    },
    {
     "name": "stdout",
     "output_type": "stream",
     "text": [
      " torch.Size([1, 1])\n",
      "torch.Size([1]) torch.Size([1, 1])\n",
      "torch.Size([1]) torch.Size([1, 1])\n",
      "torch.Size([1])"
     ]
    },
    {
     "name": "stderr",
     "output_type": "stream",
     "text": [
      "\r",
      "2927it [03:02, 16.56it/s]"
     ]
    },
    {
     "name": "stdout",
     "output_type": "stream",
     "text": [
      " torch.Size([1, 1])\n",
      "torch.Size([1]) torch.Size([1, 1])\n",
      "torch.Size([1]) torch.Size([1, 1])\n",
      "torch.Size([1])"
     ]
    },
    {
     "name": "stderr",
     "output_type": "stream",
     "text": [
      "2931it [03:03, 16.49it/s]"
     ]
    },
    {
     "name": "stdout",
     "output_type": "stream",
     "text": [
      " torch.Size([1, 1])\n",
      "torch.Size([1]) torch.Size([1, 1])\n",
      "torch.Size([1]) torch.Size([1, 1])\n",
      "torch.Size([1]) torch.Size([1, 1])\n"
     ]
    },
    {
     "name": "stderr",
     "output_type": "stream",
     "text": [
      "2935it [03:03, 17.31it/s]"
     ]
    },
    {
     "name": "stdout",
     "output_type": "stream",
     "text": [
      "torch.Size([1]) torch.Size([1, 1])\n",
      "torch.Size([1]) torch.Size([1, 1])\n",
      "torch.Size([1]) torch.Size([1, 1])\n",
      "torch.Size([1]) torch.Size([1, 1])\n"
     ]
    },
    {
     "name": "stderr",
     "output_type": "stream",
     "text": [
      "2939it [03:03, 17.22it/s]"
     ]
    },
    {
     "name": "stdout",
     "output_type": "stream",
     "text": [
      "torch.Size([1]) torch.Size([1, 1])\n",
      "torch.Size([1]) torch.Size([1, 1])\n",
      "torch.Size([1]) torch.Size([1, 1])\n",
      "torch.Size([1])"
     ]
    },
    {
     "name": "stderr",
     "output_type": "stream",
     "text": [
      "2943it [03:03, 17.56it/s]"
     ]
    },
    {
     "name": "stdout",
     "output_type": "stream",
     "text": [
      " torch.Size([1, 1])\n",
      "torch.Size([1]) torch.Size([1, 1])\n",
      "torch.Size([1]) torch.Size([1, 1])\n",
      "torch.Size([1]) torch.Size([1, 1])\n"
     ]
    },
    {
     "name": "stderr",
     "output_type": "stream",
     "text": [
      "2947it [03:04, 17.14it/s]"
     ]
    },
    {
     "name": "stdout",
     "output_type": "stream",
     "text": [
      "torch.Size([1]) torch.Size([1, 1])\n",
      "torch.Size([1]) torch.Size([1, 1])\n",
      "torch.Size([1]) torch.Size([1, 1])\n",
      "torch.Size([1]) torch.Size([1, 1])\n"
     ]
    },
    {
     "name": "stderr",
     "output_type": "stream",
     "text": [
      "\r",
      "2949it [03:04, 17.58it/s]"
     ]
    },
    {
     "name": "stdout",
     "output_type": "stream",
     "text": [
      "torch.Size([1]) torch.Size([1, 1])\n",
      "torch.Size([1]) torch.Size([1, 1])\n",
      "torch.Size([1]) torch.Size([1, 1])\n",
      "torch.Size([1])"
     ]
    },
    {
     "name": "stderr",
     "output_type": "stream",
     "text": [
      "2953it [03:04, 16.90it/s]"
     ]
    },
    {
     "name": "stdout",
     "output_type": "stream",
     "text": [
      " torch.Size([1, 1])\n",
      "torch.Size([1]) torch.Size([1, 1])\n",
      "torch.Size([1]) torch.Size([1, 1])\n",
      "torch.Size([1]) torch.Size([1, 1])\n"
     ]
    },
    {
     "name": "stderr",
     "output_type": "stream",
     "text": [
      "2957it [03:04, 16.56it/s]"
     ]
    },
    {
     "name": "stdout",
     "output_type": "stream",
     "text": [
      "torch.Size([1]) torch.Size([1, 1])\n",
      "torch.Size([1]) torch.Size([1, 1])\n",
      "torch.Size([1]) torch.Size([1, 1])\n",
      "torch.Size([1])"
     ]
    },
    {
     "name": "stderr",
     "output_type": "stream",
     "text": [
      "2961it [03:04, 17.10it/s]"
     ]
    },
    {
     "name": "stdout",
     "output_type": "stream",
     "text": [
      " torch.Size([1, 1])\n",
      "torch.Size([1]) torch.Size([1, 1])\n",
      "torch.Size([1]) torch.Size([1, 1])\n",
      "torch.Size([1]) torch.Size([1, 1])\n"
     ]
    },
    {
     "name": "stderr",
     "output_type": "stream",
     "text": [
      "2965it [03:05, 17.60it/s]"
     ]
    },
    {
     "name": "stdout",
     "output_type": "stream",
     "text": [
      "torch.Size([1]) torch.Size([1, 1])\n",
      "torch.Size([1]) torch.Size([1, 1])\n",
      "torch.Size([1]) torch.Size([1, 1])\n",
      "torch.Size([1]) torch.Size([1, 1])\n"
     ]
    },
    {
     "name": "stderr",
     "output_type": "stream",
     "text": [
      "\r",
      "2967it [03:05, 17.18it/s]"
     ]
    },
    {
     "name": "stdout",
     "output_type": "stream",
     "text": [
      "torch.Size([1]) torch.Size([1, 1])\n",
      "torch.Size([1]) torch.Size([1, 1])\n",
      "torch.Size([1]) torch.Size([1, 1])\n",
      "torch.Size([1])"
     ]
    },
    {
     "name": "stderr",
     "output_type": "stream",
     "text": [
      "2971it [03:05, 16.46it/s]"
     ]
    },
    {
     "name": "stdout",
     "output_type": "stream",
     "text": [
      " torch.Size([1, 1])\n",
      "torch.Size([1]) torch.Size([1, 1])\n",
      "torch.Size([1]) torch.Size([1, 1])\n",
      "torch.Size([1]) torch.Size([1, 1])\n"
     ]
    },
    {
     "name": "stderr",
     "output_type": "stream",
     "text": [
      "2975it [03:05, 15.77it/s]"
     ]
    },
    {
     "name": "stdout",
     "output_type": "stream",
     "text": [
      "torch.Size([1]) torch.Size([1, 1])\n",
      "torch.Size([1]) torch.Size([1, 1])\n",
      "torch.Size([1]) torch.Size([1, 1])\n"
     ]
    },
    {
     "name": "stderr",
     "output_type": "stream",
     "text": [
      "\r",
      "2977it [03:05, 15.33it/s]"
     ]
    },
    {
     "name": "stdout",
     "output_type": "stream",
     "text": [
      "torch.Size([1]) torch.Size([1, 1])\n",
      "torch.Size([1]) torch.Size([1, 1])\n",
      "torch.Size([1]) torch.Size([1, 1])\n",
      "torch.Size([1])"
     ]
    },
    {
     "name": "stderr",
     "output_type": "stream",
     "text": [
      "2981it [03:06, 15.84it/s]"
     ]
    },
    {
     "name": "stdout",
     "output_type": "stream",
     "text": [
      " torch.Size([1, 1])\n",
      "torch.Size([1]) torch.Size([1, 1])\n",
      "torch.Size([1]) torch.Size([1, 1])\n",
      "torch.Size([1]) torch.Size([1, 1])\n"
     ]
    },
    {
     "name": "stderr",
     "output_type": "stream",
     "text": [
      "2985it [03:06, 16.60it/s]"
     ]
    },
    {
     "name": "stdout",
     "output_type": "stream",
     "text": [
      "torch.Size([1]) torch.Size([1, 1])\n",
      "torch.Size([1]) torch.Size([1, 1])\n",
      "torch.Size([1]) torch.Size([1, 1])\n",
      "torch.Size([1]) torch.Size([1, 1])\n"
     ]
    },
    {
     "name": "stderr",
     "output_type": "stream",
     "text": [
      "2989it [03:06, 16.16it/s]"
     ]
    },
    {
     "name": "stdout",
     "output_type": "stream",
     "text": [
      "torch.Size([1]) torch.Size([1, 1])\n",
      "torch.Size([1]) torch.Size([1, 1])\n",
      "torch.Size([1]) torch.Size([1, 1])\n"
     ]
    },
    {
     "name": "stderr",
     "output_type": "stream",
     "text": [
      "\r",
      "2991it [03:06, 15.67it/s]"
     ]
    },
    {
     "name": "stdout",
     "output_type": "stream",
     "text": [
      "torch.Size([1]) torch.Size([1, 1])\n",
      "torch.Size([1]) torch.Size([1, 1])\n",
      "torch.Size([1]) torch.Size([1, 1])\n",
      "torch.Size([1])"
     ]
    },
    {
     "name": "stderr",
     "output_type": "stream",
     "text": [
      "2995it [03:06, 16.38it/s]"
     ]
    },
    {
     "name": "stdout",
     "output_type": "stream",
     "text": [
      " torch.Size([1, 1])\n",
      "torch.Size([1]) torch.Size([1, 1])\n",
      "torch.Size([1]) torch.Size([1, 1])\n",
      "torch.Size([1])"
     ]
    },
    {
     "name": "stderr",
     "output_type": "stream",
     "text": [
      "\r",
      "2997it [03:07, 15.62it/s]"
     ]
    },
    {
     "name": "stdout",
     "output_type": "stream",
     "text": [
      " torch.Size([1, 1])\n",
      "torch.Size([1]) torch.Size([1, 1])\n",
      "torch.Size([1]) torch.Size([1, 1])\n"
     ]
    },
    {
     "name": "stderr",
     "output_type": "stream",
     "text": [
      "3001it [03:07, 14.70it/s]"
     ]
    },
    {
     "name": "stdout",
     "output_type": "stream",
     "text": [
      "torch.Size([1]) torch.Size([1, 1])\n",
      "torch.Size([1]) torch.Size([1, 1])\n",
      "torch.Size([1]) torch.Size([1, 1])\n",
      "torch.Size([1])"
     ]
    },
    {
     "name": "stderr",
     "output_type": "stream",
     "text": [
      "\r",
      "3003it [03:07, 14.67it/s]"
     ]
    },
    {
     "name": "stdout",
     "output_type": "stream",
     "text": [
      " torch.Size([1, 1])\n",
      "torch.Size([1]) torch.Size([1, 1])\n",
      "torch.Size([1]) torch.Size([1, 1])\n",
      "torch.Size([1]) torch.Size([1, 1])\n"
     ]
    },
    {
     "name": "stderr",
     "output_type": "stream",
     "text": [
      "3007it [03:07, 15.60it/s]"
     ]
    },
    {
     "name": "stdout",
     "output_type": "stream",
     "text": [
      "torch.Size([1]) torch.Size([1, 1])\n",
      "torch.Size([1]) torch.Size([1, 1])\n",
      "torch.Size([1]) torch.Size([1, 1])\n",
      "torch.Size([1])"
     ]
    },
    {
     "name": "stderr",
     "output_type": "stream",
     "text": [
      "3011it [03:08, 15.78it/s]"
     ]
    },
    {
     "name": "stdout",
     "output_type": "stream",
     "text": [
      " torch.Size([1, 1])\n",
      "torch.Size([1]) torch.Size([1, 1])\n",
      "torch.Size([1]) torch.Size([1, 1])\n",
      "torch.Size([1]) torch.Size([1, 1])\n"
     ]
    },
    {
     "name": "stderr",
     "output_type": "stream",
     "text": [
      "3015it [03:08, 16.52it/s]"
     ]
    },
    {
     "name": "stdout",
     "output_type": "stream",
     "text": [
      "torch.Size([1]) torch.Size([1, 1])\n",
      "torch.Size([1]) torch.Size([1, 1])\n",
      "torch.Size([1]) torch.Size([1, 1])\n",
      "torch.Size([1]) torch.Size([1, 1])\n"
     ]
    },
    {
     "name": "stderr",
     "output_type": "stream",
     "text": [
      "3019it [03:08, 16.67it/s]"
     ]
    },
    {
     "name": "stdout",
     "output_type": "stream",
     "text": [
      "torch.Size([1]) torch.Size([1, 1])\n",
      "torch.Size([1]) torch.Size([1, 1])\n",
      "torch.Size([1]) torch.Size([1, 1])\n",
      "torch.Size([1]) torch.Size([1, 1])\n"
     ]
    },
    {
     "name": "stderr",
     "output_type": "stream",
     "text": [
      "3023it [03:08, 17.09it/s]"
     ]
    },
    {
     "name": "stdout",
     "output_type": "stream",
     "text": [
      "torch.Size([1]) torch.Size([1, 1])\n",
      "torch.Size([1]) torch.Size([1, 1])\n",
      "torch.Size([1]) torch.Size([1, 1])\n",
      "torch.Size([1]) torch.Size([1, 1])\n"
     ]
    },
    {
     "name": "stderr",
     "output_type": "stream",
     "text": [
      "3027it [03:08, 16.59it/s]"
     ]
    },
    {
     "name": "stdout",
     "output_type": "stream",
     "text": [
      "torch.Size([1]) torch.Size([1, 1])\n",
      "torch.Size([1]) torch.Size([1, 1])\n",
      "torch.Size([1]) torch.Size([1, 1])\n",
      "torch.Size([1])"
     ]
    },
    {
     "name": "stderr",
     "output_type": "stream",
     "text": [
      "\r",
      "3029it [03:09, 16.83it/s]"
     ]
    },
    {
     "name": "stdout",
     "output_type": "stream",
     "text": [
      " torch.Size([1, 1])\n",
      "torch.Size([1]) torch.Size([1, 1])\n",
      "torch.Size([1]) torch.Size([1, 1])\n",
      "torch.Size([1])"
     ]
    },
    {
     "name": "stderr",
     "output_type": "stream",
     "text": [
      "3033it [03:09, 16.64it/s]"
     ]
    },
    {
     "name": "stdout",
     "output_type": "stream",
     "text": [
      " torch.Size([1, 1])\n",
      "torch.Size([1]) torch.Size([1, 1])\n",
      "torch.Size([1]) torch.Size([1, 1])\n",
      "torch.Size([1]) torch.Size([1, 1])\n"
     ]
    },
    {
     "name": "stderr",
     "output_type": "stream",
     "text": [
      "3037it [03:09, 16.77it/s]"
     ]
    },
    {
     "name": "stdout",
     "output_type": "stream",
     "text": [
      "torch.Size([1]) torch.Size([1, 1])\n",
      "torch.Size([1]) torch.Size([1, 1])\n",
      "torch.Size([1]) torch.Size([1, 1])\n",
      "torch.Size([1]) torch.Size([1, 1])\n"
     ]
    },
    {
     "name": "stderr",
     "output_type": "stream",
     "text": [
      "3041it [03:09, 16.65it/s]"
     ]
    },
    {
     "name": "stdout",
     "output_type": "stream",
     "text": [
      "torch.Size([1]) torch.Size([1, 1])\n",
      "torch.Size([1]) torch.Size([1, 1])\n",
      "torch.Size([1]) torch.Size([1, 1])\n",
      "torch.Size([1])"
     ]
    },
    {
     "name": "stderr",
     "output_type": "stream",
     "text": [
      "\r",
      "3043it [03:09, 16.18it/s]"
     ]
    },
    {
     "name": "stdout",
     "output_type": "stream",
     "text": [
      " torch.Size([1, 1])\n",
      "torch.Size([1]) torch.Size([1, 1])\n",
      "torch.Size([1]) torch.Size([1, 1])\n",
      "torch.Size([1])"
     ]
    },
    {
     "name": "stderr",
     "output_type": "stream",
     "text": [
      "3047it [03:10, 16.45it/s]"
     ]
    },
    {
     "name": "stdout",
     "output_type": "stream",
     "text": [
      " torch.Size([1, 1])\n",
      "torch.Size([1]) torch.Size([1, 1])\n",
      "torch.Size([1]) torch.Size([1, 1])\n",
      "torch.Size([1]) torch.Size([1, 1])\n"
     ]
    },
    {
     "name": "stderr",
     "output_type": "stream",
     "text": [
      "3051it [03:10, 16.76it/s]"
     ]
    },
    {
     "name": "stdout",
     "output_type": "stream",
     "text": [
      "torch.Size([1]) torch.Size([1, 1])\n",
      "torch.Size([1]) torch.Size([1, 1])\n",
      "torch.Size([1]) torch.Size([1, 1])\n",
      "torch.Size([1])"
     ]
    },
    {
     "name": "stderr",
     "output_type": "stream",
     "text": [
      "3055it [03:10, 17.09it/s]"
     ]
    },
    {
     "name": "stdout",
     "output_type": "stream",
     "text": [
      " torch.Size([1, 1])\n",
      "torch.Size([1]) torch.Size([1, 1])\n",
      "torch.Size([1]) torch.Size([1, 1])\n",
      "torch.Size([1]) torch.Size([1, 1])\n"
     ]
    },
    {
     "name": "stderr",
     "output_type": "stream",
     "text": [
      "3059it [03:10, 16.96it/s]"
     ]
    },
    {
     "name": "stdout",
     "output_type": "stream",
     "text": [
      "torch.Size([1]) torch.Size([1, 1])\n",
      "torch.Size([1]) torch.Size([1, 1])\n",
      "torch.Size([1]) torch.Size([1, 1])\n",
      "torch.Size([1]) torch.Size([1, 1])\n"
     ]
    },
    {
     "name": "stderr",
     "output_type": "stream",
     "text": [
      "3063it [03:11, 17.84it/s]"
     ]
    },
    {
     "name": "stdout",
     "output_type": "stream",
     "text": [
      "torch.Size([1]) torch.Size([1, 1])\n",
      "torch.Size([1]) torch.Size([1, 1])\n",
      "torch.Size([1]) torch.Size([1, 1])\n",
      "torch.Size([1]) torch.Size([1, 1])\n"
     ]
    },
    {
     "name": "stderr",
     "output_type": "stream",
     "text": [
      "3067it [03:11, 17.33it/s]"
     ]
    },
    {
     "name": "stdout",
     "output_type": "stream",
     "text": [
      "torch.Size([1]) torch.Size([1, 1])\n",
      "torch.Size([1]) torch.Size([1, 1])\n",
      "torch.Size([1]) torch.Size([1, 1])\n",
      "torch.Size([1]) torch.Size([1, 1])\n"
     ]
    },
    {
     "name": "stderr",
     "output_type": "stream",
     "text": [
      "\r",
      "3069it [03:11, 17.31it/s]"
     ]
    },
    {
     "name": "stdout",
     "output_type": "stream",
     "text": [
      "torch.Size([1]) torch.Size([1, 1])\n",
      "torch.Size([1]) torch.Size([1, 1])\n",
      "torch.Size([1]) torch.Size([1, 1])\n",
      "torch.Size([1])"
     ]
    },
    {
     "name": "stderr",
     "output_type": "stream",
     "text": [
      "3073it [03:11, 16.25it/s]"
     ]
    },
    {
     "name": "stdout",
     "output_type": "stream",
     "text": [
      " torch.Size([1, 1])\n",
      "torch.Size([1]) torch.Size([1, 1])\n",
      "torch.Size([1]) torch.Size([1, 1])\n",
      "torch.Size([1])"
     ]
    },
    {
     "name": "stderr",
     "output_type": "stream",
     "text": [
      "\r",
      "3075it [03:11, 15.57it/s]"
     ]
    },
    {
     "name": "stdout",
     "output_type": "stream",
     "text": [
      " torch.Size([1, 1])\n",
      "torch.Size([1]) torch.Size([1, 1])\n",
      "torch.Size([1]) torch.Size([1, 1])\n",
      "torch.Size([1])"
     ]
    },
    {
     "name": "stderr",
     "output_type": "stream",
     "text": [
      "3079it [03:12, 16.07it/s]"
     ]
    },
    {
     "name": "stdout",
     "output_type": "stream",
     "text": [
      " torch.Size([1, 1])\n",
      "torch.Size([1]) torch.Size([1, 1])\n",
      "torch.Size([1]) torch.Size([1, 1])\n",
      "torch.Size([1]) torch.Size([1, 1])\n"
     ]
    },
    {
     "name": "stderr",
     "output_type": "stream",
     "text": [
      "3083it [03:12, 16.53it/s]"
     ]
    },
    {
     "name": "stdout",
     "output_type": "stream",
     "text": [
      "torch.Size([1]) torch.Size([1, 1])\n",
      "torch.Size([1]) torch.Size([1, 1])\n",
      "torch.Size([1]) torch.Size([1, 1])\n",
      "torch.Size([1])"
     ]
    },
    {
     "name": "stderr",
     "output_type": "stream",
     "text": [
      "\r",
      "3085it [03:12, 15.68it/s]"
     ]
    },
    {
     "name": "stdout",
     "output_type": "stream",
     "text": [
      " torch.Size([1, 1])\n",
      "torch.Size([1]) torch.Size([1, 1])\n",
      "torch.Size([1]) torch.Size([1, 1])\n"
     ]
    },
    {
     "name": "stderr",
     "output_type": "stream",
     "text": [
      "3089it [03:12, 14.75it/s]"
     ]
    },
    {
     "name": "stdout",
     "output_type": "stream",
     "text": [
      "torch.Size([1]) torch.Size([1, 1])\n",
      "torch.Size([1]) torch.Size([1, 1])\n",
      "torch.Size([1]) torch.Size([1, 1])\n",
      "torch.Size([1])"
     ]
    },
    {
     "name": "stderr",
     "output_type": "stream",
     "text": [
      "\r",
      "3091it [03:12, 15.11it/s]"
     ]
    },
    {
     "name": "stdout",
     "output_type": "stream",
     "text": [
      " torch.Size([1, 1])\n",
      "torch.Size([1]) torch.Size([1, 1])\n",
      "torch.Size([1]) torch.Size([1, 1])\n",
      "torch.Size([1])"
     ]
    },
    {
     "name": "stderr",
     "output_type": "stream",
     "text": [
      "3095it [03:13, 15.64it/s]"
     ]
    },
    {
     "name": "stdout",
     "output_type": "stream",
     "text": [
      " torch.Size([1, 1])\n",
      "torch.Size([1]) torch.Size([1, 1])\n",
      "torch.Size([1]) torch.Size([1, 1])\n",
      "torch.Size([1])"
     ]
    },
    {
     "name": "stderr",
     "output_type": "stream",
     "text": [
      "3099it [03:13, 16.42it/s]"
     ]
    },
    {
     "name": "stdout",
     "output_type": "stream",
     "text": [
      " torch.Size([1, 1])\n",
      "torch.Size([1]) torch.Size([1, 1])\n",
      "torch.Size([1]) torch.Size([1, 1])\n",
      "torch.Size([1]) torch.Size([1, 1])\n"
     ]
    },
    {
     "name": "stderr",
     "output_type": "stream",
     "text": [
      "3103it [03:13, 16.96it/s]"
     ]
    },
    {
     "name": "stdout",
     "output_type": "stream",
     "text": [
      "torch.Size([1]) torch.Size([1, 1])\n",
      "torch.Size([1]) torch.Size([1, 1])\n",
      "torch.Size([1]) torch.Size([1, 1])\n",
      "torch.Size([1]) torch.Size([1, 1])\n"
     ]
    },
    {
     "name": "stderr",
     "output_type": "stream",
     "text": [
      "3107it [03:13, 17.02it/s]"
     ]
    },
    {
     "name": "stdout",
     "output_type": "stream",
     "text": [
      "torch.Size([1]) torch.Size([1, 1])\n",
      "torch.Size([1]) torch.Size([1, 1])\n",
      "torch.Size([1]) torch.Size([1, 1])\n",
      "torch.Size([1]) torch.Size([1, 1])\n"
     ]
    },
    {
     "name": "stderr",
     "output_type": "stream",
     "text": [
      "\r",
      "3109it [03:13, 16.70it/s]"
     ]
    },
    {
     "name": "stdout",
     "output_type": "stream",
     "text": [
      "torch.Size([1]) torch.Size([1, 1])\n",
      "torch.Size([1]) torch.Size([1, 1])\n",
      "torch.Size([1]) torch.Size([1, 1])\n",
      "torch.Size([1])"
     ]
    },
    {
     "name": "stderr",
     "output_type": "stream",
     "text": [
      "3113it [03:14, 17.03it/s]"
     ]
    },
    {
     "name": "stdout",
     "output_type": "stream",
     "text": [
      " torch.Size([1, 1])\n",
      "torch.Size([1]) torch.Size([1, 1])\n",
      "torch.Size([1]) torch.Size([1, 1])\n",
      "torch.Size([1]) torch.Size([1, 1])\n"
     ]
    },
    {
     "name": "stderr",
     "output_type": "stream",
     "text": [
      "3117it [03:14, 17.34it/s]"
     ]
    },
    {
     "name": "stdout",
     "output_type": "stream",
     "text": [
      "torch.Size([1]) torch.Size([1, 1])\n",
      "torch.Size([1]) torch.Size([1, 1])\n",
      "torch.Size([1]) torch.Size([1, 1])\n",
      "torch.Size([1]) torch.Size([1, 1])\n"
     ]
    },
    {
     "name": "stderr",
     "output_type": "stream",
     "text": [
      "3121it [03:14, 17.27it/s]"
     ]
    },
    {
     "name": "stdout",
     "output_type": "stream",
     "text": [
      "torch.Size([1]) torch.Size([1, 1])\n",
      "torch.Size([1]) torch.Size([1, 1])\n",
      "torch.Size([1]) torch.Size([1, 1])\n",
      "torch.Size([1]) torch.Size([1, 1])\n"
     ]
    },
    {
     "name": "stderr",
     "output_type": "stream",
     "text": [
      "3125it [03:14, 16.15it/s]"
     ]
    },
    {
     "name": "stdout",
     "output_type": "stream",
     "text": [
      "torch.Size([1]) torch.Size([1, 1])\n",
      "torch.Size([1]) torch.Size([1, 1])\n",
      "torch.Size([1]) torch.Size([1, 1])\n"
     ]
    },
    {
     "name": "stderr",
     "output_type": "stream",
     "text": [
      "\r",
      "3127it [03:15, 15.44it/s]"
     ]
    },
    {
     "name": "stdout",
     "output_type": "stream",
     "text": [
      "torch.Size([1]) torch.Size([1, 1])\n",
      "torch.Size([1]) torch.Size([1, 1])\n",
      "torch.Size([1]) torch.Size([1, 1])\n"
     ]
    },
    {
     "name": "stderr",
     "output_type": "stream",
     "text": [
      "3131it [03:15, 16.11it/s]"
     ]
    },
    {
     "name": "stdout",
     "output_type": "stream",
     "text": [
      "torch.Size([1]) torch.Size([1, 1])\n",
      "torch.Size([1]) torch.Size([1, 1])\n",
      "torch.Size([1]) torch.Size([1, 1])\n",
      "torch.Size([1]) torch.Size([1, 1])\n"
     ]
    },
    {
     "name": "stderr",
     "output_type": "stream",
     "text": [
      "3135it [03:15, 16.36it/s]"
     ]
    },
    {
     "name": "stdout",
     "output_type": "stream",
     "text": [
      "torch.Size([1]) torch.Size([1, 1])\n",
      "torch.Size([1]) torch.Size([1, 1])\n",
      "torch.Size([1]) torch.Size([1, 1])\n",
      "torch.Size([1]) torch.Size([1, 1])\n"
     ]
    },
    {
     "name": "stderr",
     "output_type": "stream",
     "text": [
      "3139it [03:15, 16.83it/s]"
     ]
    },
    {
     "name": "stdout",
     "output_type": "stream",
     "text": [
      "torch.Size([1]) torch.Size([1, 1])\n",
      "torch.Size([1]) torch.Size([1, 1])\n",
      "torch.Size([1]) torch.Size([1, 1])\n",
      "torch.Size([1]) torch.Size([1, 1])\n"
     ]
    },
    {
     "name": "stderr",
     "output_type": "stream",
     "text": [
      "3143it [03:15, 16.83it/s]"
     ]
    },
    {
     "name": "stdout",
     "output_type": "stream",
     "text": [
      "torch.Size([1]) torch.Size([1, 1])\n",
      "torch.Size([1]) torch.Size([1, 1])\n",
      "torch.Size([1]) torch.Size([1, 1])\n",
      "torch.Size([1])"
     ]
    },
    {
     "name": "stderr",
     "output_type": "stream",
     "text": [
      "3147it [03:16, 16.56it/s]"
     ]
    },
    {
     "name": "stdout",
     "output_type": "stream",
     "text": [
      " torch.Size([1, 1])\n",
      "torch.Size([1]) torch.Size([1, 1])\n",
      "torch.Size([1]) torch.Size([1, 1])\n",
      "torch.Size([1]) torch.Size([1, 1])\n"
     ]
    },
    {
     "name": "stderr",
     "output_type": "stream",
     "text": [
      "3151it [03:16, 16.55it/s]"
     ]
    },
    {
     "name": "stdout",
     "output_type": "stream",
     "text": [
      "torch.Size([1]) torch.Size([1, 1])\n",
      "torch.Size([1]) torch.Size([1, 1])\n",
      "torch.Size([1]) torch.Size([1, 1])\n",
      "torch.Size([1]) torch.Size([1, 1])\n"
     ]
    },
    {
     "name": "stderr",
     "output_type": "stream",
     "text": [
      "3155it [03:16, 17.54it/s]"
     ]
    },
    {
     "name": "stdout",
     "output_type": "stream",
     "text": [
      "torch.Size([1]) torch.Size([1, 1])\n",
      "torch.Size([1]) torch.Size([1, 1])\n",
      "torch.Size([1]) torch.Size([1, 1])\n",
      "torch.Size([1]) torch.Size([1, 1])\n"
     ]
    },
    {
     "name": "stderr",
     "output_type": "stream",
     "text": [
      "\r",
      "3157it [03:16, 17.05it/s]"
     ]
    },
    {
     "name": "stdout",
     "output_type": "stream",
     "text": [
      "torch.Size([1]) torch.Size([1, 1])\n",
      "torch.Size([1]) torch.Size([1, 1])\n",
      "torch.Size([1]) torch.Size([1, 1])\n",
      "torch.Size([1])"
     ]
    },
    {
     "name": "stderr",
     "output_type": "stream",
     "text": [
      "3161it [03:17, 16.77it/s]"
     ]
    },
    {
     "name": "stdout",
     "output_type": "stream",
     "text": [
      " torch.Size([1, 1])\n",
      "torch.Size([1]) torch.Size([1, 1])\n",
      "torch.Size([1]) torch.Size([1, 1])\n",
      "torch.Size([1]) torch.Size([1, 1])\n"
     ]
    },
    {
     "name": "stderr",
     "output_type": "stream",
     "text": [
      "3165it [03:17, 17.63it/s]"
     ]
    },
    {
     "name": "stdout",
     "output_type": "stream",
     "text": [
      "torch.Size([1]) torch.Size([1, 1])\n",
      "torch.Size([1]) torch.Size([1, 1])\n",
      "torch.Size([1]) torch.Size([1, 1])\n",
      "torch.Size([1]) torch.Size([1, 1])\n"
     ]
    },
    {
     "name": "stderr",
     "output_type": "stream",
     "text": [
      "3169it [03:17, 18.00it/s]"
     ]
    },
    {
     "name": "stdout",
     "output_type": "stream",
     "text": [
      "torch.Size([1]) torch.Size([1, 1])\n",
      "torch.Size([1]) torch.Size([1, 1])\n",
      "torch.Size([1]) torch.Size([1, 1])\n",
      "torch.Size([1]) torch.Size([1, 1])\n"
     ]
    },
    {
     "name": "stderr",
     "output_type": "stream",
     "text": [
      "3173it [03:17, 17.55it/s]"
     ]
    },
    {
     "name": "stdout",
     "output_type": "stream",
     "text": [
      "torch.Size([1]) torch.Size([1, 1])\n",
      "torch.Size([1]) torch.Size([1, 1])\n",
      "torch.Size([1]) torch.Size([1, 1])\n",
      "torch.Size([1]) "
     ]
    },
    {
     "name": "stderr",
     "output_type": "stream",
     "text": [
      "3177it [03:17, 17.81it/s]"
     ]
    },
    {
     "name": "stdout",
     "output_type": "stream",
     "text": [
      "torch.Size([1, 1])\n",
      "torch.Size([1]) torch.Size([1, 1])\n",
      "torch.Size([1]) torch.Size([1, 1])\n",
      "torch.Size([1]) torch.Size([1, 1])\n"
     ]
    },
    {
     "name": "stderr",
     "output_type": "stream",
     "text": [
      "\r",
      "3179it [03:18, 17.46it/s]"
     ]
    },
    {
     "name": "stdout",
     "output_type": "stream",
     "text": [
      "torch.Size([1]) torch.Size([1, 1])\n",
      "torch.Size([1]) torch.Size([1, 1])\n",
      "torch.Size([1]) torch.Size([1, 1])\n"
     ]
    },
    {
     "name": "stderr",
     "output_type": "stream",
     "text": [
      "3183it [03:18, 16.53it/s]"
     ]
    },
    {
     "name": "stdout",
     "output_type": "stream",
     "text": [
      "torch.Size([1]) torch.Size([1, 1])\n",
      "torch.Size([1]) torch.Size([1, 1])\n",
      "torch.Size([1]) torch.Size([1, 1])\n",
      "torch.Size([1]) torch.Size([1, 1])\n"
     ]
    },
    {
     "name": "stderr",
     "output_type": "stream",
     "text": [
      "3187it [03:18, 17.05it/s]"
     ]
    },
    {
     "name": "stdout",
     "output_type": "stream",
     "text": [
      "torch.Size([1]) torch.Size([1, 1])\n",
      "torch.Size([1]) torch.Size([1, 1])\n",
      "torch.Size([1]) torch.Size([1, 1])\n",
      "torch.Size([1]) torch.Size([1, 1])\n"
     ]
    },
    {
     "name": "stderr",
     "output_type": "stream",
     "text": [
      "3191it [03:18, 16.27it/s]"
     ]
    },
    {
     "name": "stdout",
     "output_type": "stream",
     "text": [
      "torch.Size([1]) torch.Size([1, 1])\n",
      "torch.Size([1]) torch.Size([1, 1])\n",
      "torch.Size([1]) torch.Size([1, 1])\n",
      "torch.Size([1])"
     ]
    },
    {
     "name": "stderr",
     "output_type": "stream",
     "text": [
      "\r",
      "3193it [03:18, 15.48it/s]"
     ]
    },
    {
     "name": "stdout",
     "output_type": "stream",
     "text": [
      " torch.Size([1, 1])\n",
      "torch.Size([1]) torch.Size([1, 1])\n",
      "torch.Size([1]) torch.Size([1, 1])\n"
     ]
    },
    {
     "name": "stderr",
     "output_type": "stream",
     "text": [
      "3197it [03:19, 15.73it/s]"
     ]
    },
    {
     "name": "stdout",
     "output_type": "stream",
     "text": [
      "torch.Size([1]) torch.Size([1, 1])\n",
      "torch.Size([1]) torch.Size([1, 1])\n",
      "torch.Size([1]) torch.Size([1, 1])\n"
     ]
    },
    {
     "name": "stderr",
     "output_type": "stream",
     "text": [
      "\r",
      "3197it [03:19, 16.03it/s]"
     ]
    },
    {
     "name": "stdout",
     "output_type": "stream",
     "text": [
      "val_loss:  0.42134619295592496 val_acc:  0.8301532703878526\n"
     ]
    },
    {
     "name": "stderr",
     "output_type": "stream",
     "text": [
      "\n"
     ]
    }
   ],
   "source": [
    "# torch.cuda.set_device(3)\n",
    "# from utils import calculate_accuracy\n",
    "\n",
    "losses_val = AverageMeter('loss')\n",
    "accuracies_val = AverageMeter('acc')\n",
    "model.eval()\n",
    "y = []\n",
    "pred = []\n",
    "\n",
    "#fileio.maybe_make_new_dir(result_path)\n",
    "with torch.no_grad():\n",
    "    for i, data in tqdm(enumerate(testloader)):\n",
    "        \n",
    "        if set == 'CUB':\n",
    "            x, label, boxes, _ = data\n",
    "        else:\n",
    "            x, label = data\n",
    "        image_val = x.to(DEVICE)\n",
    "        targets_val = label.float().to(DEVICE)\n",
    "        outputs_logits, local_imgs = model(image_val, epoch, i, 'test', DEVICE)[-2:]\n",
    "        outputs_val = F.sigmoid(outputs_logits)\n",
    "        \n",
    "        print(targets_val.shape,outputs_val.shape)\n",
    "        \n",
    "#         targets_val = data['label'].float().cuda()\n",
    "#         images_val = data['image'].float().cuda()\n",
    "#         outputs_val = model(images_val)\n",
    "        loss_val = criterion(outputs_val, targets_val)\n",
    "        \n",
    "#         add_gl_image_index(images_val, patches_val, outputs_val, targets_val,  writer, subset='val', epoch=0, index = j)\n",
    "        \n",
    "        acc_val = calculate_accuracy(outputs_val, targets_val)\n",
    "        losses_val.update(loss_val.item(), targets_val.size(0))\n",
    "        accuracies_val.update(acc_val, targets_val.size(0))\n",
    "        y.append(targets_val.cpu().numpy())\n",
    "        pred.append(outputs_val.cpu().numpy())\n",
    "\n",
    "print('val_loss: ', losses_val.avg, 'val_acc: ', accuracies_val.avg)\n"
   ]
  },
  {
   "cell_type": "code",
   "execution_count": 8,
   "metadata": {},
   "outputs": [],
   "source": [
    "import numpy as np"
   ]
  },
  {
   "cell_type": "code",
   "execution_count": 9,
   "metadata": {},
   "outputs": [],
   "source": [
    "y= np.asarray(y)\n",
    "pred= np.asarray(pred).squeeze()"
   ]
  },
  {
   "cell_type": "code",
   "execution_count": 10,
   "metadata": {},
   "outputs": [
    {
     "data": {
      "text/plain": [
       "(array([[1.],\n",
       "        [0.],\n",
       "        [1.],\n",
       "        ...,\n",
       "        [1.],\n",
       "        [0.],\n",
       "        [0.]], dtype=float32),\n",
       " array([0.9971359 , 0.08792   , 0.7687475 , ..., 0.9994987 , 0.07392941,\n",
       "        0.08773942], dtype=float32))"
      ]
     },
     "execution_count": 10,
     "metadata": {},
     "output_type": "execute_result"
    }
   ],
   "source": [
    "y,pred"
   ]
  },
  {
   "cell_type": "code",
   "execution_count": 11,
   "metadata": {},
   "outputs": [
    {
     "data": {
      "text/plain": [
       "(3197, 1)"
      ]
     },
     "execution_count": 11,
     "metadata": {},
     "output_type": "execute_result"
    }
   ],
   "source": [
    "y.shape"
   ]
  },
  {
   "cell_type": "code",
   "execution_count": 18,
   "metadata": {
    "scrolled": true
   },
   "outputs": [
    {
     "data": {
      "image/png": "[encoded data removed]",
      "text/plain": [
       "<Figure size 432x288 with 1 Axes>"
      ]
     },
     "metadata": {
      "needs_background": "light"
     },
     "output_type": "display_data"
    }
   ],
   "source": [
    "from sklearn import metrics\n",
    "\n",
    "%matplotlib inline\n",
    "\n",
    "fpr, tpr, thresholds = metrics.roc_curve(y, pred)\n",
    "\n",
    "roc_auc = metrics.auc(fpr, tpr)\n",
    "\n",
    "plt.figure()\n",
    "lw = 2\n",
    "plt.plot(fpr, tpr, color='darkorange',\n",
    "         lw=lw, label='ROC curve (area = %0.2f)' % roc_auc)\n",
    "plt.plot([0, 1], [0, 1], color='navy', lw=lw, linestyle='--')\n",
    "plt.xlim([0.0, 1.0])\n",
    "plt.ylim([0.0, 1.05])\n",
    "plt.xlabel('False Positive Rate')\n",
    "plt.ylabel('True Positive Rate')\n",
    "plt.title('ROC for mmlnet res50')\n",
    "plt.legend(loc=\"lower right\")\n",
    "plt.show()"
   ]
  },
  {
   "cell_type": "code",
   "execution_count": null,
   "metadata": {},
   "outputs": [],
   "source": []
  },
  {
   "cell_type": "code",
   "execution_count": 13,
   "metadata": {},
   "outputs": [],
   "source": [
    "from sklearn.metrics import confusion_matrix\n",
    "\n",
    "threshold = 0.35\n",
    "\n",
    "pred_t = pred > threshold\n",
    "pred_t.astype(int)\n",
    "\n",
    "cm = confusion_matrix(y,pred_t)"
   ]
  },
  {
   "cell_type": "code",
   "execution_count": 14,
   "metadata": {},
   "outputs": [
    {
     "data": {
      "text/plain": [
       "(0.8230353929214157, 0.8084967320261438)"
      ]
     },
     "execution_count": 14,
     "metadata": {},
     "output_type": "execute_result"
    }
   ],
   "source": [
    "cm[0,0]/sum(cm[0,:]), cm[1,1]/sum(cm[1,:])"
   ]
  },
  {
   "cell_type": "code",
   "execution_count": 15,
   "metadata": {},
   "outputs": [
    {
     "data": {
      "image/png": "[encoded data removed]",
      "text/plain": [
       "<Figure size 432x288 with 1 Axes>"
      ]
     },
     "metadata": {
      "needs_background": "light"
     },
     "output_type": "display_data"
    }
   ],
   "source": [
    "import numpy\n",
    "from sklearn.metrics import cohen_kappa_score\n",
    "mali = []\n",
    "beni = []\n",
    "cohen = []\n",
    "tt = numpy.arange(0,1,0.01)\n",
    "for thres in tt:\n",
    "#     print(thres)\n",
    "    pred_t = pred > thres\n",
    "    pred_t.astype(int)\n",
    "    cm = confusion_matrix(y,pred_t)\n",
    "    mali.append(cm[1,1]/sum(cm[1,:]))\n",
    "    beni.append(cm[0,0]/sum(cm[0,:]))\n",
    "    cohen.append(cohen_kappa_score(y,pred_t))\n",
    "# print(thresholds)\n",
    "plt.figure(),plt.plot(tt,mali,label='TPR'),plt.plot(tt,beni,label='TNR'),plt.plot(tt,cohen,label='kappa')\n",
    "plt.xlabel('Thresholds')\n",
    "plt.ylabel('TPR/TNR')\n",
    "\n",
    "plt.legend(loc=\"lower right\")\n",
    "\n",
    "\n",
    "net_max = cohen.index(max(cohen))\n",
    "plt.title('TPR/TNR with Thresholds \\n (with max_cohen_kappa_score of {} at {})'.format(max(cohen),tt[net_max]))\n",
    "plt.scatter(tt[net_max], cohen[net_max], color='b')\n",
    "plt.show()"
   ]
  },
  {
   "cell_type": "code",
   "execution_count": 16,
   "metadata": {},
   "outputs": [],
   "source": [
    "def plot_confusion_matrix(cm,\n",
    "                          target_names,\n",
    "                          title='Confusion matrix',\n",
    "                          cmap=None,\n",
    "                          normalize=True):\n",
    "    \"\"\"\n",
    "    given a sklearn confusion matrix (cm), make a nice plot\n",
    "\n",
    "    Arguments\n",
    "    ---------\n",
    "    cm:           confusion matrix from sklearn.metrics.confusion_matrix\n",
    "\n",
    "    target_names: given classification classes such as [0, 1, 2]\n",
    "                  the class names, for example: ['high', 'medium', 'low']\n",
    "\n",
    "    title:        the text to display at the top of the matrix\n",
    "\n",
    "    cmap:         the gradient of the values displayed from matplotlib.pyplot.cm\n",
    "                  see http://matplotlib.org/examples/color/colormaps_reference.html\n",
    "                  plt.get_cmap('jet') or plt.cm.Blues\n",
    "\n",
    "    normalize:    If False, plot the raw numbers\n",
    "                  If True, plot the proportions\n",
    "\n",
    "    Usage\n",
    "    -----\n",
    "    plot_confusion_matrix(cm           = cm,                  # confusion matrix created by\n",
    "                                                              # sklearn.metrics.confusion_matrix\n",
    "                          normalize    = True,                # show proportions\n",
    "                          target_names = y_labels_vals,       # list of names of the classes\n",
    "                          title        = best_estimator_name) # title of graph\n",
    "\n",
    "    Citiation\n",
    "    ---------\n",
    "    http://scikit-learn.org/stable/auto_examples/model_selection/plot_confusion_matrix.html\n",
    "\n",
    "    \"\"\"\n",
    "    import matplotlib.pyplot as plt\n",
    "    import numpy as np\n",
    "    import itertools\n",
    "\n",
    "    accuracy = np.trace(cm) / float(np.sum(cm))\n",
    "    misclass = 1 - accuracy\n",
    "\n",
    "    if cmap is None:\n",
    "        cmap = plt.get_cmap('Blues')\n",
    "    \n",
    "    if normalize:\n",
    "        cm = cm.astype('float') / cm.sum(axis=1)[:, np.newaxis]\n",
    "\n",
    "    plt.figure(figsize=(4, 3))\n",
    "    plt.imshow(cm, interpolation='nearest', cmap=cmap)\n",
    "    plt.title(title)\n",
    "    plt.colorbar()\n",
    "\n",
    "    if target_names is not None:\n",
    "        tick_marks = np.arange(len(target_names))\n",
    "        plt.xticks(tick_marks, target_names, rotation=45)\n",
    "        plt.yticks(tick_marks, target_names)\n",
    "\n",
    "\n",
    "\n",
    "#     plt.figure(figsize=(4, 3))\n",
    "#     plt.imshow(cm, interpolation='nearest', cmap=cmap)\n",
    "#     plt.title(title)\n",
    "#     plt.colorbar()\n",
    "        \n",
    "    thresh = cm.max() / 1.5 if normalize else cm.max() / 2\n",
    "    for i, j in itertools.product(range(cm.shape[0]), range(cm.shape[1])):\n",
    "        if normalize:\n",
    "            plt.text(j, i, \"{:0.4f}\".format(cm[i, j]),\n",
    "                     horizontalalignment=\"center\",\n",
    "                     color=\"white\" if cm[i, j] > thresh else \"black\")\n",
    "        else:\n",
    "            plt.text(j, i, \"{:,}\".format(cm[i, j]),\n",
    "                     horizontalalignment=\"center\",\n",
    "                     color=\"white\" if cm[i, j] > thresh else \"black\")\n",
    "\n",
    "\n",
    "    plt.tight_layout()\n",
    "    plt.ylabel('True label')\n",
    "    plt.xlabel('Predicted label\\naccuracy={:0.4f}; misclass={:0.4f}'.format(accuracy, misclass))\n",
    "    plt.show()"
   ]
  },
  {
   "cell_type": "code",
   "execution_count": 17,
   "metadata": {},
   "outputs": [
    {
     "data": {
      "image/png": "[encoded data removed]",
      "text/plain": [
       "<Figure size 288x216 with 2 Axes>"
      ]
     },
     "metadata": {
      "needs_background": "light"
     },
     "output_type": "display_data"
    },
    {
     "data": {
      "image/png": "[encoded data removed]",
      "text/plain": [
       "<Figure size 288x216 with 2 Axes>"
      ]
     },
     "metadata": {
      "needs_background": "light"
     },
     "output_type": "display_data"
    }
   ],
   "source": [
    "from sklearn.metrics import confusion_matrix\n",
    "\n",
    "threshold = 0.5\n",
    "\n",
    "pred_t = pred > threshold\n",
    "pred_t.astype(int)\n",
    "\n",
    "cm = confusion_matrix(y,pred_t)\n",
    "\n",
    "plot_confusion_matrix(cm,('Normal','Abnormal'),normalize= False)\n",
    "plot_confusion_matrix(cm,('Normal','Abnormal'),normalize= True)"
   ]
  },
  {
   "cell_type": "code",
   "execution_count": 25,
   "metadata": {},
   "outputs": [],
   "source": [
    "a = 0.7"
   ]
  },
  {
   "cell_type": "code",
   "execution_count": 26,
   "metadata": {},
   "outputs": [
    {
     "data": {
      "text/plain": [
       "True"
      ]
     },
     "execution_count": 26,
     "metadata": {},
     "output_type": "execute_result"
    }
   ],
   "source": [
    "a>0.5"
   ]
  },
  {
   "cell_type": "code",
   "execution_count": 28,
   "metadata": {},
   "outputs": [
    {
     "data": {
      "text/plain": [
       "0"
      ]
     },
     "execution_count": 28,
     "metadata": {},
     "output_type": "execute_result"
    }
   ],
   "source": [
    "1-(a>0.50)"
   ]
  },
  {
   "cell_type": "code",
   "execution_count": 43,
   "metadata": {},
   "outputs": [],
   "source": [
    "a = torch.rand(3,3)"
   ]
  },
  {
   "cell_type": "code",
   "execution_count": 44,
   "metadata": {},
   "outputs": [
    {
     "data": {
      "text/plain": [
       "tensor([[0.2847, 0.4820, 0.1940],\n",
       "        [0.7670, 0.0734, 0.9933],\n",
       "        [0.7518, 0.1041, 0.5967]])"
      ]
     },
     "execution_count": 44,
     "metadata": {},
     "output_type": "execute_result"
    }
   ],
   "source": [
    "a"
   ]
  },
  {
   "cell_type": "code",
   "execution_count": 35,
   "metadata": {},
   "outputs": [
    {
     "data": {
      "text/plain": [
       "torch.Size([3, 3])"
      ]
     },
     "execution_count": 35,
     "metadata": {},
     "output_type": "execute_result"
    }
   ],
   "source": [
    "a.shape"
   ]
  },
  {
   "cell_type": "code",
   "execution_count": 36,
   "metadata": {},
   "outputs": [],
   "source": [
    "b = [0,2,1]"
   ]
  },
  {
   "cell_type": "code",
   "execution_count": 37,
   "metadata": {},
   "outputs": [],
   "source": [
    "b = torch.tensor(b)"
   ]
  },
  {
   "cell_type": "code",
   "execution_count": 55,
   "metadata": {},
   "outputs": [],
   "source": [
    "bb = b.reshape(-1,1)"
   ]
  },
  {
   "cell_type": "code",
   "execution_count": 54,
   "metadata": {},
   "outputs": [
    {
     "data": {
      "text/plain": [
       "tensor([0, 2, 1])"
      ]
     },
     "execution_count": 54,
     "metadata": {},
     "output_type": "execute_result"
    }
   ],
   "source": [
    "b"
   ]
  },
  {
   "cell_type": "code",
   "execution_count": 39,
   "metadata": {},
   "outputs": [],
   "source": [
    "l = F.nll_loss(a,b)"
   ]
  },
  {
   "cell_type": "code",
   "execution_count": 40,
   "metadata": {},
   "outputs": [
    {
     "data": {
      "text/plain": [
       "tensor(-0.5024)"
      ]
     },
     "execution_count": 40,
     "metadata": {},
     "output_type": "execute_result"
    }
   ],
   "source": [
    "l"
   ]
  },
  {
   "cell_type": "code",
   "execution_count": 46,
   "metadata": {},
   "outputs": [],
   "source": [
    "sm = nn.LogSoftmax(dim=1)"
   ]
  },
  {
   "cell_type": "code",
   "execution_count": 47,
   "metadata": {},
   "outputs": [],
   "source": [
    "aa = sm(a)"
   ]
  },
  {
   "cell_type": "code",
   "execution_count": 48,
   "metadata": {},
   "outputs": [
    {
     "data": {
      "text/plain": [
       "tensor([[-1.1415, -0.9442, -1.2322],\n",
       "        [-1.0130, -1.7066, -0.7866],\n",
       "        [-0.8669, -1.5147, -1.0220]])"
      ]
     },
     "execution_count": 48,
     "metadata": {},
     "output_type": "execute_result"
    }
   ],
   "source": [
    "aa"
   ]
  },
  {
   "cell_type": "code",
   "execution_count": 56,
   "metadata": {},
   "outputs": [
    {
     "ename": "RuntimeError",
     "evalue": "multi-target not supported at ..\\aten\\src\\THNN/generic/ClassNLLCriterion.c:20",
     "output_type": "error",
     "traceback": [
      "\u001b[1;31m---------------------------------------------------------------------------\u001b[0m",
      "\u001b[1;31mRuntimeError\u001b[0m                              Traceback (most recent call last)",
      "\u001b[1;32m<ipython-input-56-4df793c4604a>\u001b[0m in \u001b[0;36m<module>\u001b[1;34m\u001b[0m\n\u001b[1;32m----> 1\u001b[1;33m \u001b[0ml\u001b[0m \u001b[1;33m=\u001b[0m \u001b[0mF\u001b[0m\u001b[1;33m.\u001b[0m\u001b[0mnll_loss\u001b[0m\u001b[1;33m(\u001b[0m\u001b[0maa\u001b[0m\u001b[1;33m,\u001b[0m\u001b[0mbb\u001b[0m\u001b[1;33m)\u001b[0m\u001b[1;33m\u001b[0m\u001b[1;33m\u001b[0m\u001b[0m\n\u001b[0m",
      "\u001b[1;32m~\\Anaconda3\\envs\\fastai\\lib\\site-packages\\torch\\nn\\functional.py\u001b[0m in \u001b[0;36mnll_loss\u001b[1;34m(input, target, weight, size_average, ignore_index, reduce, reduction)\u001b[0m\n\u001b[0;32m   1869\u001b[0m                          .format(input.size(0), target.size(0)))\n\u001b[0;32m   1870\u001b[0m     \u001b[1;32mif\u001b[0m \u001b[0mdim\u001b[0m \u001b[1;33m==\u001b[0m \u001b[1;36m2\u001b[0m\u001b[1;33m:\u001b[0m\u001b[1;33m\u001b[0m\u001b[1;33m\u001b[0m\u001b[0m\n\u001b[1;32m-> 1871\u001b[1;33m         \u001b[0mret\u001b[0m \u001b[1;33m=\u001b[0m \u001b[0mtorch\u001b[0m\u001b[1;33m.\u001b[0m\u001b[0m_C\u001b[0m\u001b[1;33m.\u001b[0m\u001b[0m_nn\u001b[0m\u001b[1;33m.\u001b[0m\u001b[0mnll_loss\u001b[0m\u001b[1;33m(\u001b[0m\u001b[0minput\u001b[0m\u001b[1;33m,\u001b[0m \u001b[0mtarget\u001b[0m\u001b[1;33m,\u001b[0m \u001b[0mweight\u001b[0m\u001b[1;33m,\u001b[0m \u001b[0m_Reduction\u001b[0m\u001b[1;33m.\u001b[0m\u001b[0mget_enum\u001b[0m\u001b[1;33m(\u001b[0m\u001b[0mreduction\u001b[0m\u001b[1;33m)\u001b[0m\u001b[1;33m,\u001b[0m \u001b[0mignore_index\u001b[0m\u001b[1;33m)\u001b[0m\u001b[1;33m\u001b[0m\u001b[1;33m\u001b[0m\u001b[0m\n\u001b[0m\u001b[0;32m   1872\u001b[0m     \u001b[1;32melif\u001b[0m \u001b[0mdim\u001b[0m \u001b[1;33m==\u001b[0m \u001b[1;36m4\u001b[0m\u001b[1;33m:\u001b[0m\u001b[1;33m\u001b[0m\u001b[1;33m\u001b[0m\u001b[0m\n\u001b[0;32m   1873\u001b[0m         \u001b[0mret\u001b[0m \u001b[1;33m=\u001b[0m \u001b[0mtorch\u001b[0m\u001b[1;33m.\u001b[0m\u001b[0m_C\u001b[0m\u001b[1;33m.\u001b[0m\u001b[0m_nn\u001b[0m\u001b[1;33m.\u001b[0m\u001b[0mnll_loss2d\u001b[0m\u001b[1;33m(\u001b[0m\u001b[0minput\u001b[0m\u001b[1;33m,\u001b[0m \u001b[0mtarget\u001b[0m\u001b[1;33m,\u001b[0m \u001b[0mweight\u001b[0m\u001b[1;33m,\u001b[0m \u001b[0m_Reduction\u001b[0m\u001b[1;33m.\u001b[0m\u001b[0mget_enum\u001b[0m\u001b[1;33m(\u001b[0m\u001b[0mreduction\u001b[0m\u001b[1;33m)\u001b[0m\u001b[1;33m,\u001b[0m \u001b[0mignore_index\u001b[0m\u001b[1;33m)\u001b[0m\u001b[1;33m\u001b[0m\u001b[1;33m\u001b[0m\u001b[0m\n",
      "\u001b[1;31mRuntimeError\u001b[0m: multi-target not supported at ..\\aten\\src\\THNN/generic/ClassNLLCriterion.c:20"
     ]
    }
   ],
   "source": [
    "l = F.nll_loss(aa,bb)"
   ]
  },
  {
   "cell_type": "code",
   "execution_count": 53,
   "metadata": {},
   "outputs": [
    {
     "data": {
      "text/plain": [
       "tensor(1.1476)"
      ]
     },
     "execution_count": 53,
     "metadata": {},
     "output_type": "execute_result"
    }
   ],
   "source": [
    "l"
   ]
  },
  {
   "cell_type": "code",
   "execution_count": 59,
   "metadata": {},
   "outputs": [],
   "source": [
    "a = np.random.rand(3,4)"
   ]
  },
  {
   "cell_type": "code",
   "execution_count": 66,
   "metadata": {},
   "outputs": [],
   "source": [
    "b = np.random.rand(2,4)"
   ]
  },
  {
   "cell_type": "code",
   "execution_count": 72,
   "metadata": {},
   "outputs": [],
   "source": [
    "t = [a,b]"
   ]
  },
  {
   "cell_type": "code",
   "execution_count": 73,
   "metadata": {},
   "outputs": [
    {
     "data": {
      "text/plain": [
       "(2,)"
      ]
     },
     "execution_count": 73,
     "metadata": {},
     "output_type": "execute_result"
    }
   ],
   "source": [
    "np.array(t).shape"
   ]
  },
  {
   "cell_type": "code",
   "execution_count": 74,
   "metadata": {},
   "outputs": [
    {
     "data": {
      "text/plain": [
       "array([[0.255251, 0.802925, 0.39936 , 0.069087],\n",
       "       [0.192725, 0.195726, 0.765414, 0.068067]])"
      ]
     },
     "execution_count": 74,
     "metadata": {},
     "output_type": "execute_result"
    }
   ],
   "source": [
    "t.pop()"
   ]
  },
  {
   "cell_type": "code",
   "execution_count": 75,
   "metadata": {},
   "outputs": [
    {
     "data": {
      "text/plain": [
       "array([[0.269292, 0.443954, 0.016551, 0.314709],\n",
       "       [0.903049, 0.930926, 0.752409, 0.969705],\n",
       "       [0.035113, 0.174226, 0.025869, 0.240254]])"
      ]
     },
     "execution_count": 75,
     "metadata": {},
     "output_type": "execute_result"
    }
   ],
   "source": [
    "t.pop()"
   ]
  },
  {
   "cell_type": "code",
   "execution_count": 76,
   "metadata": {},
   "outputs": [
    {
     "ename": "IndexError",
     "evalue": "list index out of range",
     "output_type": "error",
     "traceback": [
      "\u001b[1;31m---------------------------------------------------------------------------\u001b[0m",
      "\u001b[1;31mIndexError\u001b[0m                                Traceback (most recent call last)",
      "\u001b[1;32m<ipython-input-76-a471f56f22a6>\u001b[0m in \u001b[0;36m<module>\u001b[1;34m\u001b[0m\n\u001b[1;32m----> 1\u001b[1;33m \u001b[0mt\u001b[0m\u001b[1;33m[\u001b[0m\u001b[1;36m0\u001b[0m\u001b[1;33m]\u001b[0m\u001b[1;33m\u001b[0m\u001b[1;33m\u001b[0m\u001b[0m\n\u001b[0m",
      "\u001b[1;31mIndexError\u001b[0m: list index out of range"
     ]
    }
   ],
   "source": [
    "t[0]"
   ]
  },
  {
   "cell_type": "code",
   "execution_count": null,
   "metadata": {},
   "outputs": [],
   "source": []
  }
 ],
 "metadata": {
  "kernelspec": {
   "display_name": "env_torch",
   "language": "python",
   "name": "env_torch"
  },
  "language_info": {
   "codemirror_mode": {
    "name": "ipython",
    "version": 3
   },
   "file_extension": ".py",
   "mimetype": "text/x-python",
   "name": "python",
   "nbconvert_exporter": "python",
   "pygments_lexer": "ipython3",
   "version": "3.7.6"
  }
 },
 "nbformat": 4,
 "nbformat_minor": 2
}
